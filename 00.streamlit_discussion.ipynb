{
 "cells": [
  {
   "cell_type": "markdown",
   "metadata": {},
   "source": [
    "네트워크 분석한 거 시각화한걸 streamlit을 통해 보여주고 싶어 가능해?\n",
    "\n",
    "네, Streamlit을 사용하여 네트워크 분석 결과를 시각화하여 보여주는 것은 가능합니다. Streamlit은 다양한 데이터 시각화 라이브러리를 지원하므로 네트워크 그래프를 효과적으로 표현할 수 있습니다.\n",
    "Streamlit에서는 여러 가지 차트 라이브러리를 지원합니다. Streamlit 문서에 따르면 Matplotlib, Altair, deck.gl 등 다양한 차트 라이브러리를 사용할 수 있습니다.\n",
    "네트워크 분석 시각화를 위해서는 주로 NetworkX와 같은 네트워크 분석 라이브러리와 함께 Pyvis나 Plotly를 사용하는 것이 일반적입니다. 이러한 라이브러리들은 Streamlit과 호환되어 사용할 수 있습니다.\n",
    "예를 들어, NetworkX로 네트워크를 생성하고 Pyvis로 시각화한 후, Streamlit의 components 기능을 사용하여 웹 앱에 표시할 수 있습니다. 또는 Plotly를 사용하여 인터랙티브한 네트워크 그래프를 만들고 Streamlit의 plotly_chart 함수로 표시할 수 있습니다.\n",
    "구체적인 구현 방법이나 코드 예제가 필요하시다면 추가로 질문해 주시기 바랍니다. 제공된 정보 내에서 최선을 다해 도와드리겠습니다.\n",
    "All feedback is reviewed by the team.\n",
    "Answer based on the following sources:\n",
    "docs.streamlit.io/get-started\n",
    "Draw charts and maps\n",
    "My first app\n",
    "\n",
    "\n",
    "그럼 네트워크 분석 시각화 그래프에 있는 주요 단어들(노드)들을 클릭하면 새로운 페이지를 불러오고 연결된 값들을 호출하는 것이 가능하니? 가능하면 어떻게 하는 거니\n",
    "\n",
    "\n",
    "네, Streamlit을 사용하여 네트워크 분석 시각화 그래프의 노드를 클릭하면 새로운 페이지를 불러오고 연결된 값들을 호출하는 것이 가능합니다. 이를 구현하기 위해서는 Streamlit의 멀티페이지 앱 기능과 인터랙티브 차트 기능을 조합하여 사용해야 합니다.\n",
    "구현 방법은 다음과 같습니다:\n",
    "멀티페이지 앱 구조 설정: Streamlit은 st.Page와 st.navigation을 사용하여 멀티페이지 앱을 만들 수 있습니다. Streamlit 문서에 따르면, 이 방법을 사용하면 최대한의 유연성을 가질 수 있습니다.\n",
    "인터랙티브 차트 생성: 네트워크 그래프를 인터랙티브하게 만들기 위해 Plotly를 사용할 수 있습니다. Streamlit 문서에 따르면, Plotly Events 컴포넌트를 사용하여 차트를 인터랙티브하게 만들 수 있습니다.\n",
    "\n",
    "fig = px.line(x=[1], y=[1])\n",
    "selected_points = plotly_events(fig)\n",
    "페이지 전환: 노드 클릭 시 새 페이지로 전환하기 위해 st.switch_page 함수를 사용할 수 있습니다. Streamlit 문서에 따르면, 이 함수를 사용하여 프로그래밍 방식으로 페이지를 전환할 수 있습니다.\n",
    "데이터 전달: 클릭한 노드의 정보를 새 페이지로 전달하기 위해 st.session_state를 사용할 수 있습니다. 그러나 Streamlit 포럼에 따르면, 향후 st.page_link에 query_params를 추가하는 기능이 추가될 예정입니다. 이 기능이 추가되면 URL을 통해 데이터를 전달하는 것이 더 쉬워질 것입니다.\n",
    "구현 예시:\n",
    "\n",
    "import streamlit as st\n",
    "import plotly.graph_objects as go\n",
    "from streamlit_plotly_events import plotly_events\n",
    "\n",
    "# 네트워크 그래프 생성 (예시)\n",
    "fig = go.Figure(data=[go.Scatter(x=[1, 2, 3], y=[4, 5, 6], mode='markers')])\n",
    "\n",
    "# 인터랙티브 그래프 표시\n",
    "selected_points = plotly_events(fig)\n",
    "\n",
    "# 노드 클릭 이벤트 처리\n",
    "if selected_points:\n",
    "    # 클릭된 노드 정보를 세션 상태에 저장\n",
    "    st.session_state['selected_node'] = selected_points[0]\n",
    "    # 새 페이지로 전환\n",
    "    st.switch_page(\"pages/node_details.py\")\n",
    "새 페이지(node_details.py)에서는 st.session_state['selected_node']를 사용하여 클릭된 노드의 정보를 가져와 표시할 수 있습니다.\n",
    "이 방법을 사용하면 네트워크 그래프의 노드를 클릭하여 새 페이지로 이동하고 해당 노드와 연결된 정보를 표시할 수 있습니다. 단, 실제 구현 시에는 네트워크 데이터의 구조와 원하는 상호작용 방식에 따라 코드를 조정해야 할 수 있습니다."
   ]
  }
 ],
 "metadata": {
  "language_info": {
   "name": "python"
  }
 },
 "nbformat": 4,
 "nbformat_minor": 2
}
