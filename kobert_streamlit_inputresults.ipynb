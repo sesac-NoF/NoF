{
 "cells": [
  {
   "cell_type": "markdown",
   "metadata": {},
   "source": [
    "## 1. 파일 불러오기"
   ]
  },
  {
   "cell_type": "markdown",
   "metadata": {},
   "source": [
    "#### 1) embedding 데이터 불러오기"
   ]
  },
  {
   "cell_type": "markdown",
   "metadata": {},
   "source": [
    "##### **임베딩 데이터를 저장할때 데이터프레임에 to_list()로 저장해놔서 데이터를 사용하기 용이하게 다시 리스트를 numpy배열로 변환"
   ]
  },
  {
   "cell_type": "markdown",
   "metadata": {},
   "source": [
    "*** to_list()로 저장하는 이유:    \n",
    "1. 리스트 형식으로 저장하면 각 문장에 대한 임베딩을 쉽게 관리    \n",
    "2. Pandas 데이터프레임은 기본적으로 다양한 타입의 데이터를 저장할 수 있지만, numpy 배열은 특정 형태로 저장해야 합니다. 리스트는 각 셀에 다양한 형태의 데이터를 저장할 수 있게 해줌    \n",
    "3. 리스트로 저장된 임베딩은 나중에 다시 numpy 배열로 쉽게 변환가능"
   ]
  },
  {
   "cell_type": "code",
   "execution_count": 1,
   "metadata": {},
   "outputs": [],
   "source": [
    "import pandas as pd\n",
    "import numpy as np\n",
    "import ast\n",
    "\n",
    "# CSV 파일 불러오기\n",
    "df_inheritance = pd.read_csv('df_inheritance_kobertmodel.csv')\n",
    "\n",
    "# 다시 리스트를 NumPy 배열로 변환\n",
    "df_inheritance['판례내용이유임베딩'] = df_inheritance['판례내용이유임베딩'].apply(lambda x: np.array(ast.literal_eval(x)) if pd.notnull(x) else None)\n",
    "df_inheritance['키워드임베딩'] = df_inheritance['키워드임베딩'].apply(lambda x: np.array(ast.literal_eval(x)) if pd.notnull(x) else None)\n"
   ]
  },
  {
   "cell_type": "markdown",
   "metadata": {},
   "source": [
    "#### 2) 데이터확인"
   ]
  },
  {
   "cell_type": "code",
   "execution_count": 2,
   "metadata": {},
   "outputs": [
    {
     "name": "stdout",
     "output_type": "stream",
     "text": [
      "<class 'pandas.core.frame.DataFrame'>\n",
      "RangeIndex: 4127 entries, 0 to 4126\n",
      "Data columns (total 20 columns):\n",
      " #   Column         Non-Null Count  Dtype \n",
      "---  ------         --------------  ----- \n",
      " 0   판례정보일련번호       4127 non-null   int64 \n",
      " 1   사건번호           4127 non-null   object\n",
      " 2   선고             4127 non-null   object\n",
      " 3   판결유형           4127 non-null   object\n",
      " 4   판시사항           3233 non-null   object\n",
      " 5   판결요지           2916 non-null   object\n",
      " 6   참조조문           3206 non-null   object\n",
      " 7   참조판례           1924 non-null   object\n",
      " 8   판례내용           4127 non-null   object\n",
      " 9   판례내용_상단        4127 non-null   object\n",
      " 10  판례내용_이유        4127 non-null   object\n",
      " 11  판례내용_이유_전처리    4127 non-null   object\n",
      " 12  판례내용_이유_불용어제거  4127 non-null   object\n",
      " 13  클러스터           4127 non-null   int64 \n",
      " 14  키워드            4127 non-null   object\n",
      " 15  사건명            3892 non-null   object\n",
      " 16  판례내용이유임베딩      4127 non-null   object\n",
      " 17  키워드임베딩         4127 non-null   object\n",
      " 18  판결요지임베딩        2916 non-null   object\n",
      " 19  판시사항임베딩        3233 non-null   object\n",
      "dtypes: int64(2), object(18)\n",
      "memory usage: 645.0+ KB\n"
     ]
    }
   ],
   "source": [
    "df_inheritance.info()"
   ]
  },
  {
   "cell_type": "code",
   "execution_count": 3,
   "metadata": {},
   "outputs": [
    {
     "data": {
      "text/html": [
       "<div>\n",
       "<style scoped>\n",
       "    .dataframe tbody tr th:only-of-type {\n",
       "        vertical-align: middle;\n",
       "    }\n",
       "\n",
       "    .dataframe tbody tr th {\n",
       "        vertical-align: top;\n",
       "    }\n",
       "\n",
       "    .dataframe thead th {\n",
       "        text-align: right;\n",
       "    }\n",
       "</style>\n",
       "<table border=\"1\" class=\"dataframe\">\n",
       "  <thead>\n",
       "    <tr style=\"text-align: right;\">\n",
       "      <th></th>\n",
       "      <th>판례정보일련번호</th>\n",
       "      <th>사건번호</th>\n",
       "      <th>선고</th>\n",
       "      <th>판결유형</th>\n",
       "      <th>판시사항</th>\n",
       "      <th>판결요지</th>\n",
       "      <th>참조조문</th>\n",
       "      <th>참조판례</th>\n",
       "      <th>판례내용</th>\n",
       "      <th>판례내용_상단</th>\n",
       "      <th>판례내용_이유</th>\n",
       "      <th>판례내용_이유_전처리</th>\n",
       "      <th>판례내용_이유_불용어제거</th>\n",
       "      <th>클러스터</th>\n",
       "      <th>키워드</th>\n",
       "      <th>사건명</th>\n",
       "      <th>판례내용이유임베딩</th>\n",
       "      <th>키워드임베딩</th>\n",
       "      <th>판결요지임베딩</th>\n",
       "      <th>판시사항임베딩</th>\n",
       "    </tr>\n",
       "  </thead>\n",
       "  <tbody>\n",
       "    <tr>\n",
       "      <th>0</th>\n",
       "      <td>238913</td>\n",
       "      <td>2023다221144</td>\n",
       "      <td>선고</td>\n",
       "      <td>판결</td>\n",
       "      <td>[1] 가분채권이 공동상속되는 경우의 법률관계 / 주식이 공동상속되는 경우, 공동...</td>\n",
       "      <td>[1] 금전채권과 같이 급부의 내용이 가분인 채권은 공동상속되는 경우 상속개시와 ...</td>\n",
       "      <td>[1] 민법 제269조, 제278조, 제547조 제1항, 제1005조, 제1006...</td>\n",
       "      <td>[1] 대법원 2003. 5. 30. 선고 2003다7074 판결, 대법원 200...</td>\n",
       "      <td>【원고, 상고인】 원고 (소송대리인 법무법인 참진 담당변호사 이영동)【피고, 피상고...</td>\n",
       "      <td>【원고, 상고인】 원고 (소송대리인 법무법인 참진 담당변호사 이영동)【피고, 피상고...</td>\n",
       "      <td>【이    유】  상고이유를 판단한다.   1. 사안의 개요  가. 사실관계   원...</td>\n",
       "      <td>상고이유를 판단한다. 1. 사안의 개요 가. 사실관계 원심판결 이유와 기록에 따르면...</td>\n",
       "      <td>개요 사실관계 망인 은행 예금 채권 은행 판매 투자신탁 형태 MMF Money Ma...</td>\n",
       "      <td>2</td>\n",
       "      <td>신청, 상속, 부동산, 주택, 사망, 건물, 계약, 회사, 재산, 호주</td>\n",
       "      <td>예금[투자신탁 형태 단기금융집합투자기구(MMF) 수익권의 공동상속 효과가 문제된 사건]</td>\n",
       "      <td>[[0.09682950377464294, -0.2833014726638794, 0....</td>\n",
       "      <td>[[0.08193794637918472, 0.05260368064045906, 0....</td>\n",
       "      <td>[[0.12045687437057495, -0.09459716826677322, 0...</td>\n",
       "      <td>[[0.20212049782276154, -0.06857649981975555, 0...</td>\n",
       "    </tr>\n",
       "    <tr>\n",
       "      <th>1</th>\n",
       "      <td>240673</td>\n",
       "      <td>2021두52143</td>\n",
       "      <td>선고</td>\n",
       "      <td>판결</td>\n",
       "      <td>대한민국에서 주로 체류하며 대한민국에 있는 건축사무소 등에서 건축설계사로 근무하...</td>\n",
       "      <td>NaN</td>\n",
       "      <td>구 섭외사법(2001. 4. 7. 법률 제6465호 국제사법으로 전부 개정되기 전의...</td>\n",
       "      <td>NaN</td>\n",
       "      <td>【원고, 상고인】 원고 1 외 3인 (소송대리인 변호사 이종건)【피고, 피상고인】 ...</td>\n",
       "      <td>【원고, 상고인】 원고 1 외 3인 (소송대리인 변호사 이종건)【피고, 피상고인】 ...</td>\n",
       "      <td>【이    유】  상고이유를 판단한다.   1. 원심판결 이유와 기록에 따르면, 다...</td>\n",
       "      <td>상고이유를 판단한다. 1. 원심판결 이유와 기록에 따르면, 다음의 사실을 알 수 있...</td>\n",
       "      <td>인과 대한민국 혼인신고 마쳤고 자녀   미합중국 캘리포니아 출생 미합중국 시민권 취...</td>\n",
       "      <td>2</td>\n",
       "      <td>신청, 상속, 부동산, 주택, 사망, 건물, 계약, 회사, 재산, 호주</td>\n",
       "      <td>상속세부과처분취소</td>\n",
       "      <td>[[0.1609489917755127, -0.2994731664657593, 0.6...</td>\n",
       "      <td>[[0.08193794637918472, 0.05260368064045906, 0....</td>\n",
       "      <td>None</td>\n",
       "      <td>[[0.053899895399808884, 0.21528321504592896, 0...</td>\n",
       "    </tr>\n",
       "  </tbody>\n",
       "</table>\n",
       "</div>"
      ],
      "text/plain": [
       "   판례정보일련번호         사건번호  선고 판결유형  \\\n",
       "0    238913  2023다221144  선고   판결   \n",
       "1    240673   2021두52143  선고   판결   \n",
       "\n",
       "                                                판시사항  \\\n",
       "0   [1] 가분채권이 공동상속되는 경우의 법률관계 / 주식이 공동상속되는 경우, 공동...   \n",
       "1    대한민국에서 주로 체류하며 대한민국에 있는 건축사무소 등에서 건축설계사로 근무하...   \n",
       "\n",
       "                                                판결요지  \\\n",
       "0   [1] 금전채권과 같이 급부의 내용이 가분인 채권은 공동상속되는 경우 상속개시와 ...   \n",
       "1                                                NaN   \n",
       "\n",
       "                                                참조조문  \\\n",
       "0   [1] 민법 제269조, 제278조, 제547조 제1항, 제1005조, 제1006...   \n",
       "1  구 섭외사법(2001. 4. 7. 법률 제6465호 국제사법으로 전부 개정되기 전의...   \n",
       "\n",
       "                                                참조판례  \\\n",
       "0   [1] 대법원 2003. 5. 30. 선고 2003다7074 판결, 대법원 200...   \n",
       "1                                                NaN   \n",
       "\n",
       "                                                판례내용  \\\n",
       "0  【원고, 상고인】 원고 (소송대리인 법무법인 참진 담당변호사 이영동)【피고, 피상고...   \n",
       "1  【원고, 상고인】 원고 1 외 3인 (소송대리인 변호사 이종건)【피고, 피상고인】 ...   \n",
       "\n",
       "                                             판례내용_상단  \\\n",
       "0  【원고, 상고인】 원고 (소송대리인 법무법인 참진 담당변호사 이영동)【피고, 피상고...   \n",
       "1  【원고, 상고인】 원고 1 외 3인 (소송대리인 변호사 이종건)【피고, 피상고인】 ...   \n",
       "\n",
       "                                             판례내용_이유  \\\n",
       "0  【이    유】  상고이유를 판단한다.   1. 사안의 개요  가. 사실관계   원...   \n",
       "1  【이    유】  상고이유를 판단한다.   1. 원심판결 이유와 기록에 따르면, 다...   \n",
       "\n",
       "                                         판례내용_이유_전처리  \\\n",
       "0  상고이유를 판단한다. 1. 사안의 개요 가. 사실관계 원심판결 이유와 기록에 따르면...   \n",
       "1  상고이유를 판단한다. 1. 원심판결 이유와 기록에 따르면, 다음의 사실을 알 수 있...   \n",
       "\n",
       "                                       판례내용_이유_불용어제거  클러스터  \\\n",
       "0  개요 사실관계 망인 은행 예금 채권 은행 판매 투자신탁 형태 MMF Money Ma...     2   \n",
       "1  인과 대한민국 혼인신고 마쳤고 자녀   미합중국 캘리포니아 출생 미합중국 시민권 취...     2   \n",
       "\n",
       "                                       키워드  \\\n",
       "0  신청, 상속, 부동산, 주택, 사망, 건물, 계약, 회사, 재산, 호주   \n",
       "1  신청, 상속, 부동산, 주택, 사망, 건물, 계약, 회사, 재산, 호주   \n",
       "\n",
       "                                                사건명  \\\n",
       "0  예금[투자신탁 형태 단기금융집합투자기구(MMF) 수익권의 공동상속 효과가 문제된 사건]   \n",
       "1                                         상속세부과처분취소   \n",
       "\n",
       "                                           판례내용이유임베딩  \\\n",
       "0  [[0.09682950377464294, -0.2833014726638794, 0....   \n",
       "1  [[0.1609489917755127, -0.2994731664657593, 0.6...   \n",
       "\n",
       "                                              키워드임베딩  \\\n",
       "0  [[0.08193794637918472, 0.05260368064045906, 0....   \n",
       "1  [[0.08193794637918472, 0.05260368064045906, 0....   \n",
       "\n",
       "                                             판결요지임베딩  \\\n",
       "0  [[0.12045687437057495, -0.09459716826677322, 0...   \n",
       "1                                               None   \n",
       "\n",
       "                                             판시사항임베딩  \n",
       "0  [[0.20212049782276154, -0.06857649981975555, 0...  \n",
       "1  [[0.053899895399808884, 0.21528321504592896, 0...  "
      ]
     },
     "execution_count": 3,
     "metadata": {},
     "output_type": "execute_result"
    }
   ],
   "source": [
    "df_inheritance.head(2)"
   ]
  },
  {
   "cell_type": "markdown",
   "metadata": {},
   "source": [
    "##### 3) 오류날때 참고할 코드"
   ]
  },
  {
   "cell_type": "markdown",
   "metadata": {},
   "source": [
    "##### ** '키워드' 리스트형태인지 확인하기"
   ]
  },
  {
   "cell_type": "code",
   "execution_count": 4,
   "metadata": {},
   "outputs": [
    {
     "name": "stdout",
     "output_type": "stream",
     "text": [
      "0        신청, 상속, 부동산, 주택, 사망, 건물, 계약, 회사, 재산, 호주\n",
      "1        신청, 상속, 부동산, 주택, 사망, 건물, 계약, 회사, 재산, 호주\n",
      "2    상속, 재산, 분할, 유류분, 상속인, 부동산, 민법, 한정승인, 피상, 포기\n",
      "3      망인, 손해, 차량, 위자료, 지급, 손해배상, 사망, 유족, 운전, 운행\n",
      "4        상속세, 세액, 부과, 납부, 과세, 상속, 재산, 가액, 신고, 납세\n",
      "Name: 키워드, dtype: object\n"
     ]
    }
   ],
   "source": [
    "# '키워드' 열의 몇 개의 샘플 데이터 확인\n",
    "print(df_inheritance['키워드'].head())"
   ]
  },
  {
   "cell_type": "code",
   "execution_count": 4,
   "metadata": {},
   "outputs": [],
   "source": [
    "# 각 행의 키워드 문자열을 쉼표로 분리하고 리스트 형태로 저장\n",
    "df_inheritance['키워드'] = df_inheritance['키워드'].apply(lambda x: x.split(', '))"
   ]
  },
  {
   "cell_type": "markdown",
   "metadata": {},
   "source": [
    "##### ** 키워드 임베딩 값이 같은지 확인하기"
   ]
  },
  {
   "cell_type": "code",
   "execution_count": 6,
   "metadata": {},
   "outputs": [
    {
     "name": "stdout",
     "output_type": "stream",
     "text": [
      "True\n"
     ]
    }
   ],
   "source": [
    "# 두 행의 임베딩 값이 같은지 확인\n",
    "embedding_0 = df_inheritance.loc[0, '키워드임베딩']\n",
    "embedding_1000 = df_inheritance.loc[1000, '키워드임베딩']\n",
    "print(np.array_equal(embedding_0, embedding_1000))  # True면 동일, False면 다름"
   ]
  },
  {
   "cell_type": "code",
   "execution_count": 7,
   "metadata": {},
   "outputs": [
    {
     "name": "stdout",
     "output_type": "stream",
     "text": [
      "['신청', '상속', '부동산', '주택', '사망', '건물', '계약', '회사', '재산', '호주']\n",
      "['신청', '상속', '부동산', '주택', '사망', '건물', '계약', '회사', '재산', '호주']\n"
     ]
    }
   ],
   "source": [
    "print(df_inheritance['키워드'].iloc[0])\n",
    "print(df_inheritance['키워드'].iloc[1000])"
   ]
  },
  {
   "cell_type": "markdown",
   "metadata": {},
   "source": [
    "## 2. 유사도계산코드"
   ]
  },
  {
   "cell_type": "markdown",
   "metadata": {},
   "source": [
    "#### 사용자가 입력하는 input 키워드로 계산"
   ]
  },
  {
   "cell_type": "markdown",
   "metadata": {},
   "source": [
    "#### 1) 클러스터 주제 및 키워드 데이터 정의"
   ]
  },
  {
   "cell_type": "code",
   "execution_count": 8,
   "metadata": {},
   "outputs": [
    {
     "name": "stdout",
     "output_type": "stream",
     "text": [
      "             주제 키워드          사건번호             사건명       유사도\n",
      "0    상속 및 재산 평가  가액        82구125  상속세등부과처분취소청구사건  0.783160\n",
      "1    상속 및 재산 평가  가액     2009두7103             NaN  0.778677\n",
      "2    상속 및 재산 평가  가액        85구188   상속세부과처분취소청구사건  0.773895\n",
      "3    상속 및 재산 평가  가액    2002두11196       상속세부과처분취소  0.763083\n",
      "4    상속 및 재산 평가  가액        82구834   상속세부과처분취소청구사건  0.762343\n",
      "..          ...  ..           ...             ...       ...\n",
      "995     보험 및 보상  상해      93다48373       광업권이전등록말소  0.689644\n",
      "996     보험 및 보상  상해    2006나14163  사기미수(인정된죄명:배임)  0.689618\n",
      "997     보험 및 보상  상해  2015가합534383             보험금  0.686999\n",
      "998     보험 및 보상  상해  2002가단237623    부당이득금환수처분의취소  0.684795\n",
      "999     보험 및 보상  상해    2005가합3764             약정금  0.683641\n",
      "\n",
      "[1000 rows x 5 columns]\n"
     ]
    }
   ],
   "source": [
    "import pandas as pd\n",
    "import numpy as np\n",
    "from sklearn.metrics.pairwise import cosine_similarity\n",
    "\n",
    "# 예시 데이터 생성\n",
    "data = {\n",
    "    '주제': [\n",
    "        '상속 및 재산 평가', '부동산 소유권 및 취득', '부동산 상속 및 사망 관련',\n",
    "        '부동산 등기 및 소유권 이전', '손해배상 및 사망 보상', '농지 및 경작',\n",
    "        '상속세 및 납부', '부동산 등기 및 거래', '상속 분할 및 유류분', '보험 및 보상'\n",
    "    ],\n",
    "    '키워드': [\n",
    "        ['가액', '시가', '평가', '상속', '세법', '주식', '재산', '과세', '증여', '상속세'],\n",
    "        ['점유', '토지', '취득시효', '등기', '소유권', '완성', '자주', '부동산', '취득', '의사'],\n",
    "        ['신청', '상속', '부동산', '주택', '사망', '건물', '계약', '회사', '재산', '호주'],\n",
    "        ['등기', '임야', '소유권', '부동산', '이전', '명의', '원인', '상속', '명의신탁', '토지'],\n",
    "        ['망인', '손해', '차량', '위자료', '지급', '손해배상', '사망', '유족', '운전', '운행'],\n",
    "        ['농지', '분배', '농지개혁법', '토지', '상환', '등기', '본건', '소유권', '경작', '완료'],\n",
    "        ['상속세', '세액', '부과', '납부', '과세', '상속', '재산', '가액', '신고', '납세'],\n",
    "        ['토지', '등기', '소유권', '이전', '명의', '분할', '지번', '주소', '환지', '매매'],\n",
    "        ['상속', '재산', '분할', '유류분', '상속인', '부동산', '민법', '한정승인', '피상', '포기'],\n",
    "        ['보험', '보험금', '계약', '지급', '망인', '보험료', '자동차', '연금', '수익', '상해']\n",
    "    ]\n",
    "}\n",
    "\n",
    "df_clusterdata = pd.DataFrame(data)\n",
    "\n",
    "# 주제와 클러스터 매핑 정의\n",
    "topic_cluster_map = {\n",
    "    '상속 및 재산 평가': 0,\n",
    "    '부동산 소유권 및 취득': 1,\n",
    "    '부동산 상속 및 사망 관련': 2,\n",
    "    '부동산 등기 및 소유권 이전': 3,\n",
    "    '손해배상 및 사망 보상': 4,\n",
    "    '농지 및 경작': 5,\n",
    "    '상속세 및 납부': 6,\n",
    "    '부동산 등기 및 거래': 7,\n",
    "    '상속 분할 및 유류분': 8,\n",
    "    '보험 및 보상': 9\n",
    "}\n",
    "\n",
    "# 사용자 키워드에 대한 임베딩을 찾기 위한 함수\n",
    "def get_keyword_embedding(user_keyword, df, cluster):\n",
    "    # 주어진 클러스터로 필터링한 데이터에서 키워드 찾기\n",
    "    matching_rows = df[(df['클러스터'] == cluster) & \n",
    "                       (df['키워드'].apply(lambda x: user_keyword in x if isinstance(x, list) else False))]\n",
    "    \n",
    "    if not matching_rows.empty:\n",
    "        # 첫 번째 매칭된 키워드의 임베딩 반환\n",
    "        return matching_rows['키워드임베딩'].iloc[0]\n",
    "    else:\n",
    "        return None  # 매칭되는 키워드가 없으면 None 반환\n",
    "\n",
    "# 모든 주제와 키워드에 대해 유사도 계산 결과 저장\n",
    "results = []\n",
    "\n",
    "for idx, row in df_clusterdata.iterrows():\n",
    "    user_topic = row['주제']\n",
    "    cluster = topic_cluster_map.get(user_topic)\n",
    "    keywords = row['키워드']\n",
    "    \n",
    "    # 각 주제에 속하는 10개 키워드 반복\n",
    "    for user_keyword in keywords:\n",
    "        # 해당 클러스터에서 사용자 키워드 임베딩 찾기\n",
    "        user_keyword_embedding = get_keyword_embedding(user_keyword, df_inheritance, cluster)\n",
    "\n",
    "        if user_keyword_embedding is not None:\n",
    "            # 필터링된 클러스터 내에서 판례내용 임베딩 유사도 계산 및 사건명 추출\n",
    "            content_similarity_scores = []\n",
    "\n",
    "            for idx, row in df_inheritance[df_inheritance['클러스터'] == cluster].iterrows():\n",
    "                if row['판례내용이유임베딩'] is not None and not np.isnan(row['판례내용이유임베딩']).any():\n",
    "                    # 판례내용 임베딩과 사용자 키워드 임베딩 간의 유사도 계산\n",
    "                    content_similarity = cosine_similarity(\n",
    "                        user_keyword_embedding.reshape(1, -1), \n",
    "                        row['판례내용이유임베딩'].reshape(1, -1)\n",
    "                    ).flatten()[0]\n",
    "                    content_similarity_scores.append((row['사건번호'], content_similarity))\n",
    "\n",
    "            # 유사도 기준으로 정렬 및 상위 N개 선택\n",
    "            sorted_content_scores = sorted(content_similarity_scores, key=lambda x: x[1], reverse=True)\n",
    "            top_n_contents = sorted_content_scores[:10]\n",
    "\n",
    "            # 결과 저장\n",
    "            for 사건번호, score in top_n_contents:\n",
    "                사건명 = df_inheritance.loc[df_inheritance['사건번호'] == 사건번호, '사건명'].values\n",
    "                사건명 = 사건명[0] if 사건명.size > 0 else \"사건명 없음\"\n",
    "                results.append({\n",
    "                    '주제': user_topic,\n",
    "                    '키워드': user_keyword,\n",
    "                    '사건번호': 사건번호,\n",
    "                    '사건명': 사건명,\n",
    "                    '유사도': score\n",
    "                })\n",
    "        else:\n",
    "            print(f\"'{user_keyword}'에 대한 임베딩이 없습니다. 주제: {user_topic}\")\n",
    "\n",
    "# 결과 데이터프레임으로 변환\n",
    "df_results = pd.DataFrame(results)\n",
    "df_results.to_csv('inheritance_results.csv', index=False)\n",
    "print(df_results)\n"
   ]
  },
  {
   "cell_type": "code",
   "execution_count": 7,
   "metadata": {},
   "outputs": [
    {
     "data": {
      "text/html": [
       "<div>\n",
       "<style scoped>\n",
       "    .dataframe tbody tr th:only-of-type {\n",
       "        vertical-align: middle;\n",
       "    }\n",
       "\n",
       "    .dataframe tbody tr th {\n",
       "        vertical-align: top;\n",
       "    }\n",
       "\n",
       "    .dataframe thead th {\n",
       "        text-align: right;\n",
       "    }\n",
       "</style>\n",
       "<table border=\"1\" class=\"dataframe\">\n",
       "  <thead>\n",
       "    <tr style=\"text-align: right;\">\n",
       "      <th></th>\n",
       "      <th>주제</th>\n",
       "      <th>키워드</th>\n",
       "      <th>사건번호</th>\n",
       "      <th>사건명</th>\n",
       "      <th>유사도</th>\n",
       "    </tr>\n",
       "  </thead>\n",
       "  <tbody>\n",
       "    <tr>\n",
       "      <th>0</th>\n",
       "      <td>상속 및 재산 평가</td>\n",
       "      <td>가액</td>\n",
       "      <td>82구125</td>\n",
       "      <td>상속세등부과처분취소청구사건</td>\n",
       "      <td>0.783160</td>\n",
       "    </tr>\n",
       "    <tr>\n",
       "      <th>1</th>\n",
       "      <td>상속 및 재산 평가</td>\n",
       "      <td>가액</td>\n",
       "      <td>2009두7103</td>\n",
       "      <td>NaN</td>\n",
       "      <td>0.778677</td>\n",
       "    </tr>\n",
       "    <tr>\n",
       "      <th>2</th>\n",
       "      <td>상속 및 재산 평가</td>\n",
       "      <td>가액</td>\n",
       "      <td>85구188</td>\n",
       "      <td>상속세부과처분취소청구사건</td>\n",
       "      <td>0.773895</td>\n",
       "    </tr>\n",
       "    <tr>\n",
       "      <th>3</th>\n",
       "      <td>상속 및 재산 평가</td>\n",
       "      <td>가액</td>\n",
       "      <td>2002두11196</td>\n",
       "      <td>상속세부과처분취소</td>\n",
       "      <td>0.763083</td>\n",
       "    </tr>\n",
       "    <tr>\n",
       "      <th>4</th>\n",
       "      <td>상속 및 재산 평가</td>\n",
       "      <td>가액</td>\n",
       "      <td>82구834</td>\n",
       "      <td>상속세부과처분취소청구사건</td>\n",
       "      <td>0.762343</td>\n",
       "    </tr>\n",
       "    <tr>\n",
       "      <th>...</th>\n",
       "      <td>...</td>\n",
       "      <td>...</td>\n",
       "      <td>...</td>\n",
       "      <td>...</td>\n",
       "      <td>...</td>\n",
       "    </tr>\n",
       "    <tr>\n",
       "      <th>95</th>\n",
       "      <td>상속 및 재산 평가</td>\n",
       "      <td>상속세</td>\n",
       "      <td>84구128</td>\n",
       "      <td>상속세등부과처분취소</td>\n",
       "      <td>0.761060</td>\n",
       "    </tr>\n",
       "    <tr>\n",
       "      <th>96</th>\n",
       "      <td>상속 및 재산 평가</td>\n",
       "      <td>상속세</td>\n",
       "      <td>83구582</td>\n",
       "      <td>행정처분무효확인</td>\n",
       "      <td>0.758113</td>\n",
       "    </tr>\n",
       "    <tr>\n",
       "      <th>97</th>\n",
       "      <td>상속 및 재산 평가</td>\n",
       "      <td>상속세</td>\n",
       "      <td>93구18442</td>\n",
       "      <td>상속세등부과처분취소청구사건</td>\n",
       "      <td>0.757958</td>\n",
       "    </tr>\n",
       "    <tr>\n",
       "      <th>98</th>\n",
       "      <td>상속 및 재산 평가</td>\n",
       "      <td>상속세</td>\n",
       "      <td>2004누6039</td>\n",
       "      <td>손해배상(기)</td>\n",
       "      <td>0.750447</td>\n",
       "    </tr>\n",
       "    <tr>\n",
       "      <th>99</th>\n",
       "      <td>상속 및 재산 평가</td>\n",
       "      <td>상속세</td>\n",
       "      <td>94누15929</td>\n",
       "      <td>상속세등부과처분취소</td>\n",
       "      <td>0.750056</td>\n",
       "    </tr>\n",
       "  </tbody>\n",
       "</table>\n",
       "<p>100 rows × 5 columns</p>\n",
       "</div>"
      ],
      "text/plain": [
       "            주제  키워드        사건번호             사건명       유사도\n",
       "0   상속 및 재산 평가   가액      82구125  상속세등부과처분취소청구사건  0.783160\n",
       "1   상속 및 재산 평가   가액   2009두7103             NaN  0.778677\n",
       "2   상속 및 재산 평가   가액      85구188   상속세부과처분취소청구사건  0.773895\n",
       "3   상속 및 재산 평가   가액  2002두11196       상속세부과처분취소  0.763083\n",
       "4   상속 및 재산 평가   가액      82구834   상속세부과처분취소청구사건  0.762343\n",
       "..         ...  ...         ...             ...       ...\n",
       "95  상속 및 재산 평가  상속세      84구128      상속세등부과처분취소  0.761060\n",
       "96  상속 및 재산 평가  상속세      83구582        행정처분무효확인  0.758113\n",
       "97  상속 및 재산 평가  상속세    93구18442  상속세등부과처분취소청구사건  0.757958\n",
       "98  상속 및 재산 평가  상속세   2004누6039         손해배상(기)  0.750447\n",
       "99  상속 및 재산 평가  상속세    94누15929      상속세등부과처분취소  0.750056\n",
       "\n",
       "[100 rows x 5 columns]"
      ]
     },
     "execution_count": 7,
     "metadata": {},
     "output_type": "execute_result"
    }
   ],
   "source": [
    "a=df_results[df_results['주제'] == '상속 및 재산 평가']\n",
    "a"
   ]
  }
 ],
 "metadata": {
  "kernelspec": {
   "display_name": "nof",
   "language": "python",
   "name": "python3"
  },
  "language_info": {
   "codemirror_mode": {
    "name": "ipython",
    "version": 3
   },
   "file_extension": ".py",
   "mimetype": "text/x-python",
   "name": "python",
   "nbconvert_exporter": "python",
   "pygments_lexer": "ipython3",
   "version": "3.12.7"
  }
 },
 "nbformat": 4,
 "nbformat_minor": 2
}
