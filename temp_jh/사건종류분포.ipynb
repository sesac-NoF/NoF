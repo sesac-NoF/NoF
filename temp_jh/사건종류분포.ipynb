{
 "cells": [
  {
   "cell_type": "markdown",
   "metadata": {},
   "source": [
    "## 사건종류분포"
   ]
  },
  {
   "cell_type": "code",
   "execution_count": 1,
   "metadata": {},
   "outputs": [
    {
     "name": "stdout",
     "output_type": "stream",
     "text": [
      "Requirement already satisfied: pandas in c:\\users\\82102\\anaconda3\\envs\\nof\\lib\\site-packages (2.2.3)\n",
      "Requirement already satisfied: numpy>=1.26.0 in c:\\users\\82102\\anaconda3\\envs\\nof\\lib\\site-packages (from pandas) (1.26.4)\n",
      "Requirement already satisfied: python-dateutil>=2.8.2 in c:\\users\\82102\\anaconda3\\envs\\nof\\lib\\site-packages (from pandas) (2.9.0.post0)\n",
      "Requirement already satisfied: pytz>=2020.1 in c:\\users\\82102\\anaconda3\\envs\\nof\\lib\\site-packages (from pandas) (2024.2)\n",
      "Requirement already satisfied: tzdata>=2022.7 in c:\\users\\82102\\anaconda3\\envs\\nof\\lib\\site-packages (from pandas) (2024.2)\n",
      "Requirement already satisfied: six>=1.5 in c:\\users\\82102\\anaconda3\\envs\\nof\\lib\\site-packages (from python-dateutil>=2.8.2->pandas) (1.16.0)\n"
     ]
    }
   ],
   "source": [
    "!pip install pandas"
   ]
  },
  {
   "cell_type": "code",
   "execution_count": 2,
   "metadata": {},
   "outputs": [
    {
     "name": "stdout",
     "output_type": "stream",
     "text": [
      "Requirement already satisfied: mysql-connector-python in c:\\users\\82102\\anaconda3\\envs\\nof\\lib\\site-packages (9.1.0)\n"
     ]
    }
   ],
   "source": [
    "!pip install mysql-connector-python"
   ]
  },
  {
   "cell_type": "code",
   "execution_count": 3,
   "metadata": {},
   "outputs": [],
   "source": [
    "import matplotlib.pyplot as plt\n",
    "\n",
    "# 한글 깨짐 방지\n",
    "plt.rcParams['font.family'] = \"Malgun Gothic\"\n",
    "\n",
    "# 마이너스 깨짐 방지\n",
    "plt.rcParams['axes.unicode_minus'] = False"
   ]
  },
  {
   "cell_type": "code",
   "execution_count": 4,
   "metadata": {},
   "outputs": [],
   "source": [
    "import sys\n",
    "import os\n",
    "\n",
    "sys.path.append(r'C:\\Users\\82102\\Downloads\\no-f\\NoF')\n",
    "\n",
    "import db_info"
   ]
  },
  {
   "cell_type": "code",
   "execution_count": 5,
   "metadata": {},
   "outputs": [
    {
     "data": {
      "text/html": [
       "<div>\n",
       "<style scoped>\n",
       "    .dataframe tbody tr th:only-of-type {\n",
       "        vertical-align: middle;\n",
       "    }\n",
       "\n",
       "    .dataframe tbody tr th {\n",
       "        vertical-align: top;\n",
       "    }\n",
       "\n",
       "    .dataframe thead th {\n",
       "        text-align: right;\n",
       "    }\n",
       "</style>\n",
       "<table border=\"1\" class=\"dataframe\">\n",
       "  <thead>\n",
       "    <tr style=\"text-align: right;\">\n",
       "      <th></th>\n",
       "      <th>판례정보일련번호</th>\n",
       "      <th>사건번호</th>\n",
       "      <th>선고</th>\n",
       "      <th>판결유형</th>\n",
       "      <th>판시사항</th>\n",
       "      <th>판결요지</th>\n",
       "      <th>참조조문</th>\n",
       "      <th>참조판례</th>\n",
       "      <th>판례내용</th>\n",
       "    </tr>\n",
       "  </thead>\n",
       "  <tbody>\n",
       "    <tr>\n",
       "      <th>0</th>\n",
       "      <td>238913</td>\n",
       "      <td>2023다221144</td>\n",
       "      <td>선고</td>\n",
       "      <td>판결</td>\n",
       "      <td>[1] 가분채권이 공동상속되는 경우의 법률관계 / 주식이 공동상속되는 경우, 공동...</td>\n",
       "      <td>[1] 금전채권과 같이 급부의 내용이 가분인 채권은 공동상속되는 경우 상속개시와 ...</td>\n",
       "      <td>[1] 민법 제269조, 제278조, 제547조 제1항, 제1005조, 제1006...</td>\n",
       "      <td>[1] 대법원 2003. 5. 30. 선고 2003다7074 판결, 대법원 200...</td>\n",
       "      <td>【원고, 상고인】 원고 (소송대리인 법무법인 참진 담당변호사 이영동)&lt;br/&gt;【피고...</td>\n",
       "    </tr>\n",
       "    <tr>\n",
       "      <th>1</th>\n",
       "      <td>240673</td>\n",
       "      <td>2021두52143</td>\n",
       "      <td>선고</td>\n",
       "      <td>판결</td>\n",
       "      <td>대한민국에서 주로 체류하며 대한민국에 있는 건축사무소 등에서 건축설계사로 근무하...</td>\n",
       "      <td>None</td>\n",
       "      <td>구 섭외사법(2001. 4. 7. 법률 제6465호 국제사법으로 전부 개정되기 전의...</td>\n",
       "      <td>None</td>\n",
       "      <td>【원고, 상고인】 원고 1 외 3인 (소송대리인 변호사 이종건)&lt;br/&gt;【피고, 피...</td>\n",
       "    </tr>\n",
       "    <tr>\n",
       "      <th>2</th>\n",
       "      <td>237913</td>\n",
       "      <td>2023두44061</td>\n",
       "      <td>선고</td>\n",
       "      <td>판결</td>\n",
       "      <td>[1] 구 상속세 및 증여세법 제19조 제1항, 제2항에 따른 배우자 상속공제의...</td>\n",
       "      <td>[1] 구 상속세 및 증여세법(2020. 12. 22. 법률 제17654호로 개...</td>\n",
       "      <td>[1] 구 상속세 및 증여세법(2020. 12. 22. 법률 제17654호로 개정...</td>\n",
       "      <td>[1] 헌법재판소 2012. 5. 31. 선고 2009헌바190 전원재판부 결정(...</td>\n",
       "      <td>【원고, 상고인】 원고 1 외 1인 (소송대리인 법무법인 위즈 담당변호사 서정호 외...</td>\n",
       "    </tr>\n",
       "    <tr>\n",
       "      <th>3</th>\n",
       "      <td>237589</td>\n",
       "      <td>2022다302237</td>\n",
       "      <td>선고</td>\n",
       "      <td>판결</td>\n",
       "      <td>[1] ‘유증’과 ‘사인증여’의 구별&lt;br/&gt;  [2] 망인이 단독행위로서 유증...</td>\n",
       "      <td>[1] 유증은 유언으로 수증자에게 일정한 재산을 무상으로 주기로 하는 행위로서 ...</td>\n",
       "      <td>[1] 민법 제562조, 제1060조 / [2] 민법 제562조, 제1060조&lt;br/&gt;</td>\n",
       "      <td>[1] 대법원 2001. 9. 14. 선고 2000다66430, 66447 판결(...</td>\n",
       "      <td>【원고, 피상고인】 원고 (소송대리인 변호사 안형률)&lt;br/&gt;【피고, 상고인】 피고...</td>\n",
       "    </tr>\n",
       "    <tr>\n",
       "      <th>4</th>\n",
       "      <td>236923</td>\n",
       "      <td>2022누32308</td>\n",
       "      <td>선고</td>\n",
       "      <td>판결 : 확정</td>\n",
       "      <td>甲이 유언 없이 사망하자 공동상속인들인 甲의 배우자 乙과 자식들이 구 상속세 및...</td>\n",
       "      <td>甲이 유언 없이 사망하자 공동상속인들인 甲의 배우자 乙과 자식들이 구 상속세 및...</td>\n",
       "      <td>구 상속세 및 증여세법(2016. 12. 20. 법률 제14388호로 개정되기 전의...</td>\n",
       "      <td>None</td>\n",
       "      <td>【원고, 항소인】 원고 1 외 3인 (소송대리인 법무법인(유한) 한별 담당변호사 김...</td>\n",
       "    </tr>\n",
       "    <tr>\n",
       "      <th>...</th>\n",
       "      <td>...</td>\n",
       "      <td>...</td>\n",
       "      <td>...</td>\n",
       "      <td>...</td>\n",
       "      <td>...</td>\n",
       "      <td>...</td>\n",
       "      <td>...</td>\n",
       "      <td>...</td>\n",
       "      <td>...</td>\n",
       "    </tr>\n",
       "    <tr>\n",
       "      <th>4157</th>\n",
       "      <td>71780</td>\n",
       "      <td>4287민공14</td>\n",
       "      <td>선고</td>\n",
       "      <td>민사제1부판결 : 확정</td>\n",
       "      <td>1. 재심의 소에 의하지 아니하고도 재판상의 화해의 내용으로 된 계약을 해제할 수 ...</td>\n",
       "      <td>1.조서에 기재된 재판상의 화해는 확정판결과 동일한 효력이 있으므로 재심의 소에 의...</td>\n",
       "      <td>구 민법 제864조\\n, \\n        구 민사소송법 제203조\\n, \\n   ...</td>\n",
       "      <td>None</td>\n",
       "      <td>【원고, 공소인】   박필래&lt;br/&gt;【피고, 피공소인】   박세연 외 1인&lt;br/&gt;...</td>\n",
       "    </tr>\n",
       "    <tr>\n",
       "      <th>4158</th>\n",
       "      <td>86006</td>\n",
       "      <td>4287민상77</td>\n",
       "      <td>선고</td>\n",
       "      <td>판결</td>\n",
       "      <td>가. 가족의 유산과 직계비속의 상속분&lt;br/&gt;나. \\n          민법 제21...</td>\n",
       "      <td>가. 호주 아닌 가족이 사망한 때에 그 유산은 동일 호적내에 있는 직계비속이 공평하...</td>\n",
       "      <td>조선민사령 제11조\\n, \\n \\n        민법 제20조&lt;br/&gt;</td>\n",
       "      <td>None</td>\n",
       "      <td>【원고, 상고인】   이기만&lt;br/&gt;【피고, 피상고인】   김학술&lt;br/&gt;【원심판결...</td>\n",
       "    </tr>\n",
       "    <tr>\n",
       "      <th>4159</th>\n",
       "      <td>232305</td>\n",
       "      <td>4287행3</td>\n",
       "      <td>선고</td>\n",
       "      <td>제2특별부판결: 확정</td>\n",
       "      <td>귀속재산처리법상의 권리가 상속될 수 있는지 여부&lt;br/&gt;</td>\n",
       "      <td>귀속재산에 대한 임차권등 귀속재산처리법상의 권리는 상속되지 못한다.&lt;br/&gt;</td>\n",
       "      <td>구 민법 제992조,         귀속재산처리법 제24조&lt;br/&gt;</td>\n",
       "      <td>None</td>\n",
       "      <td>【원    고】 원고&lt;br/&gt;【피    고】 관재청장&lt;br/&gt;【주    문】&lt;br/...</td>\n",
       "    </tr>\n",
       "    <tr>\n",
       "      <th>4160</th>\n",
       "      <td>71777</td>\n",
       "      <td>4286민공136</td>\n",
       "      <td>선고</td>\n",
       "      <td>민사제2부판결 : 확정</td>\n",
       "      <td>호주가 사망하였으나 그 가구에 가독을 상속할 남자가 없는 경우의 호주상속관계&lt;br/&gt;</td>\n",
       "      <td>호주가 사망하여 그 가독을 상속할 남자가 없을 경우에 여식은 호주상속권이 없고 그 ...</td>\n",
       "      <td>구 민법 제968조&lt;br/&gt;</td>\n",
       "      <td>None</td>\n",
       "      <td>【원고, 피공소인】   서연임&lt;br/&gt;【피고, 공소인】   박씨&lt;br/&gt;【주    ...</td>\n",
       "    </tr>\n",
       "    <tr>\n",
       "      <th>4161</th>\n",
       "      <td>85898</td>\n",
       "      <td>4285민상118</td>\n",
       "      <td>선고</td>\n",
       "      <td>판결</td>\n",
       "      <td>군정법령에 의하여 발생한 어업권의 성질&lt;br/&gt;</td>\n",
       "      <td>종전의 어업권이 군정법령 제27호에 의하여 전부 소멸된 후 군정법령어업취체규칙에 ...</td>\n",
       "      <td>군정법령 제27호 제1조, 제2조, 어업취체규칙 제3조, 제4조&lt;br/&gt;</td>\n",
       "      <td>None</td>\n",
       "      <td>【원고, 피상고인】 원고&lt;br/&gt;【피고, 상고인】 피고&lt;br/&gt;【원심판결】 대구고등...</td>\n",
       "    </tr>\n",
       "  </tbody>\n",
       "</table>\n",
       "<p>4162 rows × 9 columns</p>\n",
       "</div>"
      ],
      "text/plain": [
       "      판례정보일련번호         사건번호  선고          판결유형  \\\n",
       "0       238913  2023다221144  선고            판결   \n",
       "1       240673   2021두52143  선고            판결   \n",
       "2       237913   2023두44061  선고            판결   \n",
       "3       237589  2022다302237  선고            판결   \n",
       "4       236923   2022누32308  선고       판결 : 확정   \n",
       "...        ...          ...  ..           ...   \n",
       "4157     71780     4287민공14  선고  민사제1부판결 : 확정   \n",
       "4158     86006     4287민상77  선고            판결   \n",
       "4159    232305       4287행3  선고   제2특별부판결: 확정   \n",
       "4160     71777    4286민공136  선고  민사제2부판결 : 확정   \n",
       "4161     85898    4285민상118  선고            판결   \n",
       "\n",
       "                                                   판시사항  \\\n",
       "0      [1] 가분채권이 공동상속되는 경우의 법률관계 / 주식이 공동상속되는 경우, 공동...   \n",
       "1       대한민국에서 주로 체류하며 대한민국에 있는 건축사무소 등에서 건축설계사로 근무하...   \n",
       "2       [1] 구 상속세 및 증여세법 제19조 제1항, 제2항에 따른 배우자 상속공제의...   \n",
       "3       [1] ‘유증’과 ‘사인증여’의 구별<br/>  [2] 망인이 단독행위로서 유증...   \n",
       "4       甲이 유언 없이 사망하자 공동상속인들인 甲의 배우자 乙과 자식들이 구 상속세 및...   \n",
       "...                                                 ...   \n",
       "4157  1. 재심의 소에 의하지 아니하고도 재판상의 화해의 내용으로 된 계약을 해제할 수 ...   \n",
       "4158  가. 가족의 유산과 직계비속의 상속분<br/>나. \\n          민법 제21...   \n",
       "4159                    귀속재산처리법상의 권리가 상속될 수 있는지 여부<br/>   \n",
       "4160    호주가 사망하였으나 그 가구에 가독을 상속할 남자가 없는 경우의 호주상속관계<br/>   \n",
       "4161                         군정법령에 의하여 발생한 어업권의 성질<br/>   \n",
       "\n",
       "                                                   판결요지  \\\n",
       "0      [1] 금전채권과 같이 급부의 내용이 가분인 채권은 공동상속되는 경우 상속개시와 ...   \n",
       "1                                                  None   \n",
       "2       [1] 구 상속세 및 증여세법(2020. 12. 22. 법률 제17654호로 개...   \n",
       "3       [1] 유증은 유언으로 수증자에게 일정한 재산을 무상으로 주기로 하는 행위로서 ...   \n",
       "4       甲이 유언 없이 사망하자 공동상속인들인 甲의 배우자 乙과 자식들이 구 상속세 및...   \n",
       "...                                                 ...   \n",
       "4157  1.조서에 기재된 재판상의 화해는 확정판결과 동일한 효력이 있으므로 재심의 소에 의...   \n",
       "4158  가. 호주 아닌 가족이 사망한 때에 그 유산은 동일 호적내에 있는 직계비속이 공평하...   \n",
       "4159         귀속재산에 대한 임차권등 귀속재산처리법상의 권리는 상속되지 못한다.<br/>   \n",
       "4160  호주가 사망하여 그 가독을 상속할 남자가 없을 경우에 여식은 호주상속권이 없고 그 ...   \n",
       "4161   종전의 어업권이 군정법령 제27호에 의하여 전부 소멸된 후 군정법령어업취체규칙에 ...   \n",
       "\n",
       "                                                   참조조문  \\\n",
       "0      [1] 민법 제269조, 제278조, 제547조 제1항, 제1005조, 제1006...   \n",
       "1     구 섭외사법(2001. 4. 7. 법률 제6465호 국제사법으로 전부 개정되기 전의...   \n",
       "2      [1] 구 상속세 및 증여세법(2020. 12. 22. 법률 제17654호로 개정...   \n",
       "3      [1] 민법 제562조, 제1060조 / [2] 민법 제562조, 제1060조<br/>   \n",
       "4     구 상속세 및 증여세법(2016. 12. 20. 법률 제14388호로 개정되기 전의...   \n",
       "...                                                 ...   \n",
       "4157  구 민법 제864조\\n, \\n        구 민사소송법 제203조\\n, \\n   ...   \n",
       "4158            조선민사령 제11조\\n, \\n \\n        민법 제20조<br/>   \n",
       "4159              구 민법 제992조,         귀속재산처리법 제24조<br/>   \n",
       "4160                                    구 민법 제968조<br/>   \n",
       "4161           군정법령 제27호 제1조, 제2조, 어업취체규칙 제3조, 제4조<br/>   \n",
       "\n",
       "                                                   참조판례  \\\n",
       "0      [1] 대법원 2003. 5. 30. 선고 2003다7074 판결, 대법원 200...   \n",
       "1                                                  None   \n",
       "2      [1] 헌법재판소 2012. 5. 31. 선고 2009헌바190 전원재판부 결정(...   \n",
       "3      [1] 대법원 2001. 9. 14. 선고 2000다66430, 66447 판결(...   \n",
       "4                                                  None   \n",
       "...                                                 ...   \n",
       "4157                                               None   \n",
       "4158                                               None   \n",
       "4159                                               None   \n",
       "4160                                               None   \n",
       "4161                                               None   \n",
       "\n",
       "                                                   판례내용  \n",
       "0     【원고, 상고인】 원고 (소송대리인 법무법인 참진 담당변호사 이영동)<br/>【피고...  \n",
       "1     【원고, 상고인】 원고 1 외 3인 (소송대리인 변호사 이종건)<br/>【피고, 피...  \n",
       "2     【원고, 상고인】 원고 1 외 1인 (소송대리인 법무법인 위즈 담당변호사 서정호 외...  \n",
       "3     【원고, 피상고인】 원고 (소송대리인 변호사 안형률)<br/>【피고, 상고인】 피고...  \n",
       "4     【원고, 항소인】 원고 1 외 3인 (소송대리인 법무법인(유한) 한별 담당변호사 김...  \n",
       "...                                                 ...  \n",
       "4157  【원고, 공소인】   박필래<br/>【피고, 피공소인】   박세연 외 1인<br/>...  \n",
       "4158  【원고, 상고인】   이기만<br/>【피고, 피상고인】   김학술<br/>【원심판결...  \n",
       "4159  【원    고】 원고<br/>【피    고】 관재청장<br/>【주    문】<br/...  \n",
       "4160  【원고, 피공소인】   서연임<br/>【피고, 공소인】   박씨<br/>【주    ...  \n",
       "4161  【원고, 피상고인】 원고<br/>【피고, 상고인】 피고<br/>【원심판결】 대구고등...  \n",
       "\n",
       "[4162 rows x 9 columns]"
      ]
     },
     "execution_count": 5,
     "metadata": {},
     "output_type": "execute_result"
    }
   ],
   "source": [
    "import mysql.connector\n",
    "import pandas as pd\n",
    "from db_info import user,password,host,database,port\n",
    "\n",
    "db_connection = mysql.connector.connect(\n",
    "    host = host,\n",
    "    user = user,\n",
    "    password = password,\n",
    "    database = database,\n",
    "    port = port\n",
    ")\n",
    "\n",
    "cursor = db_connection.cursor()\n",
    "\n",
    "cursor.execute(\"SELECT * FROM inheritance_content\")\n",
    "\n",
    "result = cursor.fetchall()\n",
    "\n",
    "df = pd.DataFrame(result, columns = [i[0] for i in cursor.description])\n",
    "\n",
    "df"
   ]
  },
  {
   "cell_type": "code",
   "execution_count": 6,
   "metadata": {},
   "outputs": [
    {
     "name": "stdout",
     "output_type": "stream",
     "text": [
      "<class 'pandas.core.frame.DataFrame'>\n",
      "RangeIndex: 4162 entries, 0 to 4161\n",
      "Data columns (total 9 columns):\n",
      " #   Column    Non-Null Count  Dtype \n",
      "---  ------    --------------  ----- \n",
      " 0   판례정보일련번호  4162 non-null   int64 \n",
      " 1   사건번호      4162 non-null   object\n",
      " 2   선고        4162 non-null   object\n",
      " 3   판결유형      4162 non-null   object\n",
      " 4   판시사항      3255 non-null   object\n",
      " 5   판결요지      2944 non-null   object\n",
      " 6   참조조문      3221 non-null   object\n",
      " 7   참조판례      1933 non-null   object\n",
      " 8   판례내용      4162 non-null   object\n",
      "dtypes: int64(1), object(8)\n",
      "memory usage: 292.8+ KB\n"
     ]
    }
   ],
   "source": [
    "df.info()"
   ]
  },
  {
   "cell_type": "markdown",
   "metadata": {},
   "source": [
    "### 사건종류 분포"
   ]
  },
  {
   "cell_type": "code",
   "execution_count": 47,
   "metadata": {},
   "outputs": [
    {
     "name": "stdout",
     "output_type": "stream",
     "text": [
      "    판례일련번호                   사건명    사건번호        선고일자     법원명 사건종류명  \\\n",
      "40  206592            상속세등부과처분취소  84누716  1985.09.24     대법원    세무   \n",
      "52  206632             법인세부과처분취소  85누208  1985.09.24     대법원    세무   \n",
      "75   76241           소유권이전등기청구사건   85나14  1985.09.23  서울고등법원    민사   \n",
      "76   76302         증여세부과처분취소청구사건  84구909  1985.09.23  서울고등법원    세무   \n",
      "86   76233  원인무효에의한소유권이전등기말소청구사건  85나789  1985.09.12  서울고등법원    민사   \n",
      "\n",
      "                                               판례상세링크  \n",
      "40  /DRF/lawService.do?OC=znaeng110&target=prec&ID...  \n",
      "52  /DRF/lawService.do?OC=znaeng110&target=prec&ID...  \n",
      "75  /DRF/lawService.do?OC=znaeng110&target=prec&ID...  \n",
      "76  /DRF/lawService.do?OC=znaeng110&target=prec&ID...  \n",
      "86  /DRF/lawService.do?OC=znaeng110&target=prec&ID...  \n"
     ]
    }
   ],
   "source": [
    "import pandas as pd\n",
    "\n",
    "# CSV 파일 경로\n",
    "csv_file_path1 = r'C:\\Users\\82102\\Downloads\\새 폴더 (2)\\lawSearch_jh.csv' #해당하는 경로로 변경\n",
    "csv_file_path2 = r'C:\\Users\\82102\\Downloads\\새 폴더 (2)\\lawService_jh.csv' #해당하는 경로로 변경\n",
    "\n",
    "# CSV 파일 불러오기\n",
    "df_search = pd.read_csv(csv_file_path1)\n",
    "df_service = pd.read_csv(csv_file_path2)\n",
    "\n",
    "df_filtered = df_service[df_service.apply(lambda row: row.astype(str).str.contains('상속').any(), axis=1)]\n",
    "matching_df = df_search[df_search['사건번호'].isin(df_filtered['사건번호'])]\n",
    "\n",
    "# 불러온 데이터 확인\n",
    "print(matching_df.head())"
   ]
  },
  {
   "cell_type": "code",
   "execution_count": 48,
   "metadata": {},
   "outputs": [
    {
     "name": "stdout",
     "output_type": "stream",
     "text": [
      "<class 'pandas.core.frame.DataFrame'>\n",
      "Index: 1393 entries, 40 to 20074\n",
      "Data columns (total 7 columns):\n",
      " #   Column  Non-Null Count  Dtype \n",
      "---  ------  --------------  ----- \n",
      " 0   판례일련번호  1393 non-null   int64 \n",
      " 1   사건명     1393 non-null   object\n",
      " 2   사건번호    1393 non-null   object\n",
      " 3   선고일자    1393 non-null   object\n",
      " 4   법원명     1393 non-null   object\n",
      " 5   사건종류명   1393 non-null   object\n",
      " 6   판례상세링크  1393 non-null   object\n",
      "dtypes: int64(1), object(6)\n",
      "memory usage: 87.1+ KB\n"
     ]
    }
   ],
   "source": [
    "matching_df.info()"
   ]
  },
  {
   "cell_type": "code",
   "execution_count": 49,
   "metadata": {},
   "outputs": [
    {
     "name": "stdout",
     "output_type": "stream",
     "text": [
      "<class 'pandas.core.frame.DataFrame'>\n",
      "Index: 1439 entries, 21 to 20074\n",
      "Data columns (total 9 columns):\n",
      " #   Column    Non-Null Count  Dtype \n",
      "---  ------    --------------  ----- \n",
      " 0   판례정보일련번호  1439 non-null   int64 \n",
      " 1   사건번호      1439 non-null   object\n",
      " 2   선고        1439 non-null   object\n",
      " 3   판결유형      1439 non-null   object\n",
      " 4   판시사항      1412 non-null   object\n",
      " 5   판결요지      1415 non-null   object\n",
      " 6   참조조문      1338 non-null   object\n",
      " 7   참조판례      547 non-null    object\n",
      " 8   판례내용      1439 non-null   object\n",
      "dtypes: int64(1), object(8)\n",
      "memory usage: 112.4+ KB\n"
     ]
    }
   ],
   "source": [
    "df_filtered.info()"
   ]
  },
  {
   "cell_type": "code",
   "execution_count": 50,
   "metadata": {},
   "outputs": [
    {
     "data": {
      "text/plain": [
       "사건종류명\n",
       "민사      1078\n",
       "세무       192\n",
       "형사        47\n",
       "일반행정      40\n",
       "가사        36\n",
       "Name: count, dtype: int64"
      ]
     },
     "execution_count": 50,
     "metadata": {},
     "output_type": "execute_result"
    }
   ],
   "source": [
    "matching_df['사건종류명'].value_counts()"
   ]
  },
  {
   "cell_type": "code",
   "execution_count": 51,
   "metadata": {},
   "outputs": [
    {
     "data": {
      "image/png": "[encoded data removed]",
      "text/plain": [
       "<Figure size 1000x600 with 1 Axes>"
      ]
     },
     "metadata": {},
     "output_type": "display_data"
    }
   ],
   "source": [
    "case_counts = matching_df['사건종류명'].value_counts()\n",
    "\n",
    "plt.figure(figsize=(10, 6))\n",
    "case_counts.plot(kind='bar', color='skyblue')\n",
    "plt.xlabel('사건종류명')\n",
    "plt.ylabel('빈도수')\n",
    "plt.title('사건종류명 빈도수')\n",
    "plt.xticks(rotation=45)\n",
    "plt.tight_layout()  # 레이아웃 조정\n",
    "plt.show()"
   ]
  },
  {
   "cell_type": "markdown",
   "metadata": {},
   "source": [
    "### 3심까지 가는 빈도"
   ]
  },
  {
   "cell_type": "code",
   "execution_count": 61,
   "metadata": {},
   "outputs": [
    {
     "data": {
      "text/plain": [
       "법원명\n",
       "대법원           805\n",
       "서울고등법원        346\n",
       "대구고등법원        146\n",
       "광주고등법원         56\n",
       "서울민사지방법원       15\n",
       "수원지방법원          8\n",
       "부산지방법원          4\n",
       "서울가정법원          2\n",
       "광주지방법원          2\n",
       "전주지방법원정주지원      1\n",
       "대전지방법원홍성지원      1\n",
       "전주지방법원          1\n",
       "마산지방법원          1\n",
       "서울지방법원북부지원      1\n",
       "서울형사지방법원        1\n",
       "대구지방법원          1\n",
       "서울지방법원남부지원      1\n",
       "대전지방법원          1\n",
       "Name: count, dtype: int64"
      ]
     },
     "execution_count": 61,
     "metadata": {},
     "output_type": "execute_result"
    }
   ],
   "source": [
    "# '상속'관련되었을때 3심까지 가는 빈도\n",
    "matching_df['법원명'].value_counts()"
   ]
  },
  {
   "cell_type": "code",
   "execution_count": 62,
   "metadata": {},
   "outputs": [
    {
     "name": "stdout",
     "output_type": "stream",
     "text": [
      "상속: 805 548 38\n",
      "전체: 15070 4698 300\n"
     ]
    }
   ],
   "source": [
    "# '상속'관련 법원명카운트(3심과 관련없는 가정법원은 포함하지않았음)\n",
    "supreme_count = matching_df[matching_df['법원명'].str.contains('대법원', na=False)].shape[0]\n",
    "high_count = matching_df[matching_df['법원명'].str.contains('고등', na=False)].shape[0]\n",
    "local_count = matching_df[matching_df['법원명'].str.contains('지방', na=False)].shape[0]\n",
    "\n",
    "print('상속:',supreme_count,high_count,local_count)\n",
    "\n",
    "# 전체 법원명카운트\n",
    "total_supreme_count = df_search[df_search['법원명'].str.contains('대법원', na=False)].shape[0]\n",
    "total_high_count = df_search[df_search['법원명'].str.contains('고등', na=False)].shape[0]\n",
    "total_local_count = df_search[df_search['법원명'].str.contains('지방', na=False)].shape[0]\n",
    "\n",
    "print('전체:',total_supreme_count,total_high_count,total_local_count)"
   ]
  },
  {
   "cell_type": "code",
   "execution_count": 70,
   "metadata": {},
   "outputs": [
    {
     "data": {
      "image/png": "[encoded data removed]",
      "text/plain": [
       "<Figure size 1000x600 with 1 Axes>"
      ]
     },
     "metadata": {},
     "output_type": "display_data"
    }
   ],
   "source": [
    "court_types = ['대법원', '고등법원', '지방법원']\n",
    "court_counts = [supreme_count, high_count, local_count]\n",
    "total_counts = [total_supreme_count, total_high_count, total_local_count]\n",
    "\n",
    "# 바그래프 생성\n",
    "plt.figure(figsize=(10, 6))\n",
    "plt.bar(court_types, total_counts, width=0.4, label='전체', color='lightgrey', alpha=0.7)\n",
    "plt.bar(court_types, court_counts, width=0.4, label='상속', color='salmon', alpha=0.7)\n",
    "\n",
    "plt.ylabel('빈도수')\n",
    "plt.title('법원 종류별 카운트')\n",
    "plt.legend()\n",
    "plt.tight_layout()  # 레이아웃 조정\n",
    "plt.show()"
   ]
  },
  {
   "cell_type": "code",
   "execution_count": null,
   "metadata": {},
   "outputs": [],
   "source": [
    "### 재판결과와 판결요지 길이의 상관관계"
   ]
  }
 ],
 "metadata": {
  "kernelspec": {
   "display_name": "nof",
   "language": "python",
   "name": "python3"
  },
  "language_info": {
   "codemirror_mode": {
    "name": "ipython",
    "version": 3
   },
   "file_extension": ".py",
   "mimetype": "text/x-python",
   "name": "python",
   "nbconvert_exporter": "python",
   "pygments_lexer": "ipython3",
   "version": "3.12.7"
  }
 },
 "nbformat": 4,
 "nbformat_minor": 2
}
