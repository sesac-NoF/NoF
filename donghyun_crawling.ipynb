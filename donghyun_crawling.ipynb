{
 "cells": [
  {
   "cell_type": "code",
   "execution_count": null,
   "metadata": {},
   "outputs": [],
   "source": [
    "##판례 본문 API 읽어오기##\n",
    "OC = 'younwjdtjr'\n",
    "target = 'prec'\n",
    "url = 'http://www.law.go.kr/DRF/lawService.do?'\n",
    "data2 = []\n",
    "for i in range(1,df['판례일련번호'].value_counts().sum()+1):\n",
    "  params = {\n",
    "      'OC' : OC,\n",
    "      'target' : target,\n",
    "      'type' : 'XML',\n",
    "      'ID' : df['판례일련번호'].iloc[i-1]\n",
    "  }\n",
    "\n",
    "  response = requests.get(url, params=params)\n",
    "\n",
    "  if response.status_code == 200:\n",
    "    root = etree.fromstring(response.content)\n",
    "    # print(root)\n",
    "    # xml구조확인\n",
    "    # print(etree.tostring(root, encoding='utf-8').decode('utf-8'))\n",
    "    print(root.find('.//사건번호').text, root.find('.//사건명').text)\n",
    "    CASE_NUM = root.find('.//사건번호')\n",
    "    JUD = root.find('.//선고')\n",
    "    JUD_TYPE = root.find('.//판결유형')\n",
    "    ISSUE = root.find('.//판시사항')\n",
    "    SUMMARY_JUD = root.find('.//판결요지')\n",
    "    REF_STAT = root.find('.//참조조문')\n",
    "    REF_CASE = root.find('.//참조판례')\n",
    "    CASE_CONTENT = root.find('.//판례내용')\n",
    "    data2.append([\n",
    "    df['판례일련번호'].iloc[i-1],  # 판례일련번호\n",
    "    CASE_NUM.text if CASE_NUM is not None else None, #사건번호\n",
    "    JUD.text if JUD is not None else None, #선고\n",
    "    JUD_TYPE.text if JUD_TYPE is not None else None, #판결유형\n",
    "    ISSUE.text if ISSUE is not None else None,  # 판시사항\n",
    "    SUMMARY_JUD.text if SUMMARY_JUD is not None else None, #판결요지\n",
    "    REF_STAT.text if REF_STAT is not None else None, #참조조문\n",
    "    REF_CASE.text if REF_CASE is not None else None, #참조판례\n",
    "    CASE_CONTENT.text if CASE_CONTENT is not None else None #판례내용\n",
    "])\n",
    "  else:\n",
    "    print('error')\n",
    "df2 = pd.DataFrame(data=data2, columns=['판례정보일련번호','사건번호','선고','판결유형','판시사항','판결요지','참조조문','참조판례','판례내용'])"
   ]
  },
  {
   "cell_type": "code",
   "execution_count": null,
   "metadata": {},
   "outputs": [],
   "source": [
    "df.to_csv('C:/Users/user/Downloads/project/상해판례_목록_조회_API.csv',index=False)"
   ]
  },
  {
   "cell_type": "code",
   "execution_count": 5,
   "metadata": {},
   "outputs": [
    {
     "ename": "ValueError",
     "evalue": "Cannot convert 'mixed_float8' to a mixed precision DTypePolicy. Valid policies include 'mixed_float16', 'mixed_bfloat16', and the name of any float dtype such as 'float32'.",
     "output_type": "error",
     "traceback": [
      "\u001b[1;31m---------------------------------------------------------------------------\u001b[0m",
      "\u001b[1;31mValueError\u001b[0m                                Traceback (most recent call last)",
      "File \u001b[1;32mc:\\Users\\ASUS\\anaconda3\\envs\\vits2\\lib\\site-packages\\keras\\src\\dtype_policies\\dtype_policy.py:87\u001b[0m, in \u001b[0;36mDTypePolicy._parse_name\u001b[1;34m(self, name)\u001b[0m\n\u001b[0;32m     86\u001b[0m \u001b[39mtry\u001b[39;00m:\n\u001b[1;32m---> 87\u001b[0m     dtype \u001b[39m=\u001b[39m backend\u001b[39m.\u001b[39;49mstandardize_dtype(name)\n\u001b[0;32m     88\u001b[0m     \u001b[39mreturn\u001b[39;00m dtype, dtype\n",
      "File \u001b[1;32mc:\\Users\\ASUS\\anaconda3\\envs\\vits2\\lib\\site-packages\\keras\\src\\backend\\common\\variables.py:506\u001b[0m, in \u001b[0;36mstandardize_dtype\u001b[1;34m(dtype)\u001b[0m\n\u001b[0;32m    505\u001b[0m \u001b[39mif\u001b[39;00m dtype \u001b[39mnot\u001b[39;00m \u001b[39min\u001b[39;00m dtypes\u001b[39m.\u001b[39mALLOWED_DTYPES:\n\u001b[1;32m--> 506\u001b[0m     \u001b[39mraise\u001b[39;00m \u001b[39mValueError\u001b[39;00m(\u001b[39mf\u001b[39m\u001b[39m\"\u001b[39m\u001b[39mInvalid dtype: \u001b[39m\u001b[39m{\u001b[39;00mdtype\u001b[39m}\u001b[39;00m\u001b[39m\"\u001b[39m)\n\u001b[0;32m    507\u001b[0m \u001b[39mreturn\u001b[39;00m dtype\n",
      "\u001b[1;31mValueError\u001b[0m: Invalid dtype: mixed_float8",
      "\nDuring handling of the above exception, another exception occurred:\n",
      "\u001b[1;31mValueError\u001b[0m                                Traceback (most recent call last)",
      "Cell \u001b[1;32mIn[5], line 4\u001b[0m\n\u001b[0;32m      1\u001b[0m \u001b[39mimport\u001b[39;00m \u001b[39mtensorflow\u001b[39;00m \u001b[39mas\u001b[39;00m \u001b[39mtf\u001b[39;00m\n\u001b[0;32m      3\u001b[0m \u001b[39m# FP8을 사용할 수 있는 Mixed Precision 정책 설정 (가상 예시)\u001b[39;00m\n\u001b[1;32m----> 4\u001b[0m policy \u001b[39m=\u001b[39m tf\u001b[39m.\u001b[39;49mkeras\u001b[39m.\u001b[39;49mmixed_precision\u001b[39m.\u001b[39;49mPolicy(\u001b[39m'\u001b[39;49m\u001b[39mmixed_float8\u001b[39;49m\u001b[39m'\u001b[39;49m)  \u001b[39m# FP8 정책으로 설정\u001b[39;00m\n\u001b[0;32m      5\u001b[0m tf\u001b[39m.\u001b[39mkeras\u001b[39m.\u001b[39mmixed_precision\u001b[39m.\u001b[39mset_global_policy(policy)\n",
      "File \u001b[1;32mc:\\Users\\ASUS\\anaconda3\\envs\\vits2\\lib\\site-packages\\keras\\src\\dtype_policies\\dtype_policy.py:65\u001b[0m, in \u001b[0;36mDTypePolicy.__init__\u001b[1;34m(self, name)\u001b[0m\n\u001b[0;32m     63\u001b[0m     name \u001b[39m=\u001b[39m dtype_policy()\u001b[39m.\u001b[39mname\n\u001b[0;32m     64\u001b[0m \u001b[39mself\u001b[39m\u001b[39m.\u001b[39m_name \u001b[39m=\u001b[39m name\n\u001b[1;32m---> 65\u001b[0m \u001b[39mself\u001b[39m\u001b[39m.\u001b[39m_compute_dtype, \u001b[39mself\u001b[39m\u001b[39m.\u001b[39m_variable_dtype \u001b[39m=\u001b[39m \u001b[39mself\u001b[39;49m\u001b[39m.\u001b[39;49m_parse_name(name)\n\u001b[0;32m     66\u001b[0m \u001b[39mself\u001b[39m\u001b[39m.\u001b[39m_quantization_mode \u001b[39m=\u001b[39m \u001b[39mNone\u001b[39;00m\n",
      "File \u001b[1;32mc:\\Users\\ASUS\\anaconda3\\envs\\vits2\\lib\\site-packages\\keras\\src\\dtype_policies\\dtype_policy.py:90\u001b[0m, in \u001b[0;36mDTypePolicy._parse_name\u001b[1;34m(self, name)\u001b[0m\n\u001b[0;32m     88\u001b[0m     \u001b[39mreturn\u001b[39;00m dtype, dtype\n\u001b[0;32m     89\u001b[0m \u001b[39mexcept\u001b[39;00m \u001b[39mValueError\u001b[39;00m:\n\u001b[1;32m---> 90\u001b[0m     \u001b[39mraise\u001b[39;00m \u001b[39mValueError\u001b[39;00m(\n\u001b[0;32m     91\u001b[0m         \u001b[39mf\u001b[39m\u001b[39m\"\u001b[39m\u001b[39mCannot convert \u001b[39m\u001b[39m'\u001b[39m\u001b[39m{\u001b[39;00mname\u001b[39m}\u001b[39;00m\u001b[39m'\u001b[39m\u001b[39m to a mixed precision \u001b[39m\u001b[39m\"\u001b[39m\n\u001b[0;32m     92\u001b[0m         \u001b[39m\"\u001b[39m\u001b[39mDTypePolicy. Valid policies include \u001b[39m\u001b[39m'\u001b[39m\u001b[39mmixed_float16\u001b[39m\u001b[39m'\u001b[39m\u001b[39m, \u001b[39m\u001b[39m\"\u001b[39m\n\u001b[0;32m     93\u001b[0m         \u001b[39m\"\u001b[39m\u001b[39m'\u001b[39m\u001b[39mmixed_bfloat16\u001b[39m\u001b[39m'\u001b[39m\u001b[39m, and the name of any float dtype such as \u001b[39m\u001b[39m\"\u001b[39m\n\u001b[0;32m     94\u001b[0m         \u001b[39m\"\u001b[39m\u001b[39m'\u001b[39m\u001b[39mfloat32\u001b[39m\u001b[39m'\u001b[39m\u001b[39m.\u001b[39m\u001b[39m\"\u001b[39m\n\u001b[0;32m     95\u001b[0m     )\n",
      "\u001b[1;31mValueError\u001b[0m: Cannot convert 'mixed_float8' to a mixed precision DTypePolicy. Valid policies include 'mixed_float16', 'mixed_bfloat16', and the name of any float dtype such as 'float32'."
     ]
    },
    {
     "ename": "",
     "evalue": "",
     "output_type": "error",
     "traceback": [
      "\u001b[1;31mThe Kernel crashed while executing code in the the current cell or a previous cell. Please review the code in the cell(s) to identify a possible cause of the failure. Click <a href='https://aka.ms/vscodeJupyterKernelCrash'>here</a> for more info. View Jupyter <a href='command:jupyter.viewOutput'>log</a> for further details."
     ]
    }
   ],
   "source": [
    "import tensorflow as tf\n",
    "\n",
    "# FP8을 사용할 수 있는 Mixed Precision 정책 설정 (가상 예시)\n",
    "policy = tf.keras.mixed_precision.Policy('mixed_float8')  # FP8 정책으로 설정\n",
    "tf.keras.mixed_precision.set_global_policy(policy)"
   ]
  },
  {
   "cell_type": "code",
   "execution_count": 4,
   "metadata": {},
   "outputs": [
    {
     "name": "stdout",
     "output_type": "stream",
     "text": [
      "Epoch 1/10\n",
      "\u001b[1m32/32\u001b[0m \u001b[32m━━━━━━━━━━━━━━━━━━━━\u001b[0m\u001b[37m\u001b[0m \u001b[1m1s\u001b[0m 2ms/step - accuracy: 0.5111 - loss: 0.7152\n",
      "Epoch 2/10\n",
      "\u001b[1m32/32\u001b[0m \u001b[32m━━━━━━━━━━━━━━━━━━━━\u001b[0m\u001b[37m\u001b[0m \u001b[1m0s\u001b[0m 1ms/step - accuracy: 0.4327 - loss: 0.7092 \n",
      "Epoch 3/10\n",
      "\u001b[1m32/32\u001b[0m \u001b[32m━━━━━━━━━━━━━━━━━━━━\u001b[0m\u001b[37m\u001b[0m \u001b[1m0s\u001b[0m 1ms/step - accuracy: 0.5052 - loss: 0.6994 \n",
      "Epoch 4/10\n",
      "\u001b[1m32/32\u001b[0m \u001b[32m━━━━━━━━━━━━━━━━━━━━\u001b[0m\u001b[37m\u001b[0m \u001b[1m0s\u001b[0m 2ms/step - accuracy: 0.4822 - loss: 0.7037 \n",
      "Epoch 5/10\n",
      "\u001b[1m32/32\u001b[0m \u001b[32m━━━━━━━━━━━━━━━━━━━━\u001b[0m\u001b[37m\u001b[0m \u001b[1m0s\u001b[0m 1ms/step - accuracy: 0.4973 - loss: 0.6957 \n",
      "Epoch 6/10\n",
      "\u001b[1m32/32\u001b[0m \u001b[32m━━━━━━━━━━━━━━━━━━━━\u001b[0m\u001b[37m\u001b[0m \u001b[1m0s\u001b[0m 1ms/step - accuracy: 0.4866 - loss: 0.6965 \n",
      "Epoch 7/10\n",
      "\u001b[1m32/32\u001b[0m \u001b[32m━━━━━━━━━━━━━━━━━━━━\u001b[0m\u001b[37m\u001b[0m \u001b[1m0s\u001b[0m 1ms/step - accuracy: 0.5097 - loss: 0.6946 \n",
      "Epoch 8/10\n",
      "\u001b[1m32/32\u001b[0m \u001b[32m━━━━━━━━━━━━━━━━━━━━\u001b[0m\u001b[37m\u001b[0m \u001b[1m0s\u001b[0m 1ms/step - accuracy: 0.5048 - loss: 0.6958 \n",
      "Epoch 9/10\n",
      "\u001b[1m32/32\u001b[0m \u001b[32m━━━━━━━━━━━━━━━━━━━━\u001b[0m\u001b[37m\u001b[0m \u001b[1m0s\u001b[0m 2ms/step - accuracy: 0.4876 - loss: 0.6988\n",
      "Epoch 10/10\n",
      "\u001b[1m32/32\u001b[0m \u001b[32m━━━━━━━━━━━━━━━━━━━━\u001b[0m\u001b[37m\u001b[0m \u001b[1m0s\u001b[0m 2ms/step - accuracy: 0.4816 - loss: 0.6968\n",
      "\u001b[1m32/32\u001b[0m \u001b[32m━━━━━━━━━━━━━━━━━━━━\u001b[0m\u001b[37m\u001b[0m \u001b[1m0s\u001b[0m 816us/step - accuracy: 0.4997 - loss: 0.6959\n",
      "Loss: 0.6945072412490845, Accuracy: 0.49900001287460327\n"
     ]
    }
   ],
   "source": [
    "import tensorflow as tf\n",
    "import numpy as np\n",
    "\n",
    "# 랜덤 데이터 생성\n",
    "def generate_random_data(num_samples=1000, input_dim=10):\n",
    "    X = np.random.rand(num_samples, input_dim).astype(np.float32)\n",
    "    y = np.random.randint(0, 2, size=(num_samples, 1)).astype(np.float32)  # 이진 분류\n",
    "    return X, y\n",
    "\n",
    "# 데이터 준비\n",
    "X, y = generate_random_data()\n",
    "\n",
    "# 간단한 모델 정의\n",
    "model = tf.keras.Sequential([\n",
    "    tf.keras.layers.Dense(16, activation='relu', input_shape=(X.shape[1],)),\n",
    "    tf.keras.layers.Dense(1, activation='sigmoid')\n",
    "])\n",
    "\n",
    "# FP8을 위한 Mixed Precision 정책 설정\n",
    "# 주의: TensorFlow가 FP8을 지원하려면 특정 환경과 하드웨어가 필요할 수 있습니다.\n",
    "# 이 부분은 현재 TensorFlow의 최신 버전에서 지원되는 경우에 따라 다를 수 있습니다.\n",
    "# 아래 코드는 FP16과 FP8을 사용할 수 있는 기본 설정을 보여줍니다.\n",
    "\n",
    "# Mixed Precision 설정\n",
    "policy = tf.keras.mixed_precision.Policy('mixed_float16')  # 또는 'mixed_bfloat16'와 같은 다른 정책을 사용할 수 있습니다.\n",
    "tf.keras.mixed_precision.set_global_policy(policy)\n",
    "\n",
    "# 모델 컴파일\n",
    "model.compile(optimizer='adam', loss='binary_crossentropy', metrics=['accuracy'])\n",
    "\n",
    "# 모델 학습\n",
    "model.fit(X, y, epochs=10, batch_size=32)\n",
    "\n",
    "# 모델 평가\n",
    "loss, accuracy = model.evaluate(X, y)\n",
    "print(f'Loss: {loss}, Accuracy: {accuracy}')"
   ]
  },
  {
   "cell_type": "code",
   "execution_count": null,
   "metadata": {},
   "outputs": [],
   "source": []
  },
  {
   "attachments": {},
   "cell_type": "markdown",
   "metadata": {},
   "source": [
    "push 테스트용 merge 연경 테스트"
   ]
  }
 ],
 "metadata": {
  "kernelspec": {
   "display_name": "vits2",
   "language": "python",
   "name": "python3"
  },
  "language_info": {
   "codemirror_mode": {
    "name": "ipython",
    "version": 3
   },
   "file_extension": ".py",
   "mimetype": "text/x-python",
   "name": "python",
   "nbconvert_exporter": "python",
   "pygments_lexer": "ipython3",
   "version": "3.10.14 | packaged by Anaconda, Inc. | (main, May  6 2024, 19:44:50) [MSC v.1916 64 bit (AMD64)]"
  },
  "orig_nbformat": 4,
  "vscode": {
   "interpreter": {
    "hash": "13a3b04868cc8ce4d78a48b339427a1a48266e963ad062bdf6c4f6db3a7c92a1"
   }
  }
 },
 "nbformat": 4,
 "nbformat_minor": 2
}
