{
 "cells": [
  {
   "cell_type": "code",
   "execution_count": 1,
   "metadata": {},
   "outputs": [
    {
     "name": "stderr",
     "output_type": "stream",
     "text": [
      "c:\\Users\\user\\anaconda3\\envs\\nof\\lib\\site-packages\\tqdm\\auto.py:21: TqdmWarning: IProgress not found. Please update jupyter and ipywidgets. See https://ipywidgets.readthedocs.io/en/stable/user_install.html\n",
      "  from .autonotebook import tqdm as notebook_tqdm\n"
     ]
    }
   ],
   "source": [
    "from transformers import BertModel, DistilBertModel\n",
    "bert_model = BertModel.from_pretrained('monologg/kobert')\n",
    "distilbert_model = DistilBertModel.from_pretrained('monologg/distilkobert')"
   ]
  },
  {
   "cell_type": "markdown",
   "metadata": {},
   "source": [
    "# 데이터호출"
   ]
  },
  {
   "cell_type": "code",
   "execution_count": 5,
   "metadata": {},
   "outputs": [],
   "source": [
    "## 키워드 작업한 데이터 불러오기\n",
    "import pandas as pd\n",
    "import torch\n",
    "\n",
    "df_fraud = pd.read_csv('data/df_fraud_keyword.csv', index_col=False)"
   ]
  },
  {
   "cell_type": "code",
   "execution_count": 3,
   "metadata": {},
   "outputs": [],
   "source": [
    "## DB에 저장한 키워드작업된 데이터 가져오기(사기기)\n",
    "import mysql.connector\n",
    "import pandas as pd\n",
    "from db_info import user, password, host, port, database\n",
    "\n",
    "db_connection = mysql.connector.connect(\n",
    "    host = host,\n",
    "    user = user,\n",
    "    password = password,\n",
    "    database = database,\n",
    "    port = port\n",
    ")\n",
    "\n",
    "cursor = db_connection.cursor()\n",
    "\n",
    "cursor.execute(\"select * from injury_keyword\")\n",
    "\n",
    "result = cursor.fetchall()\n",
    "\n",
    "df_injury = pd.DataFrame(result, columns=[i[0] for i in cursor.description])"
   ]
  },
  {
   "cell_type": "code",
   "execution_count": 4,
   "metadata": {},
   "outputs": [
    {
     "name": "stdout",
     "output_type": "stream",
     "text": [
      "<class 'pandas.core.frame.DataFrame'>\n",
      "RangeIndex: 4187 entries, 0 to 4186\n",
      "Data columns (total 22 columns):\n",
      " #   Column         Non-Null Count  Dtype \n",
      "---  ------         --------------  ----- \n",
      " 0   판례일련번호         4187 non-null   int64 \n",
      " 1   사건명            4186 non-null   object\n",
      " 2   사건번호           4187 non-null   object\n",
      " 3   선고일자           4187 non-null   object\n",
      " 4   법원명            4187 non-null   object\n",
      " 5   사건종류명          4187 non-null   object\n",
      " 6   판례상세링크         4187 non-null   object\n",
      " 7   판례정보일련번호       4187 non-null   int64 \n",
      " 8   사건번호.1         4187 non-null   object\n",
      " 9   선고             4187 non-null   object\n",
      " 10  판결유형           4187 non-null   object\n",
      " 11  판시사항           3415 non-null   object\n",
      " 12  판결요지           3026 non-null   object\n",
      " 13  참조조문           3390 non-null   object\n",
      " 14  참조판례           1924 non-null   object\n",
      " 15  판례내용           4187 non-null   object\n",
      " 16  판례내용_상단        4187 non-null   object\n",
      " 17  판례내용_이유        4187 non-null   object\n",
      " 18  판례내용_이유_전처리    4187 non-null   object\n",
      " 19  판례내용_이유_불용어제거  4187 non-null   object\n",
      " 20  클러스터           4187 non-null   int64 \n",
      " 21  키워드            4187 non-null   object\n",
      "dtypes: int64(3), object(19)\n",
      "memory usage: 719.8+ KB\n"
     ]
    }
   ],
   "source": [
    "df_injury.info()"
   ]
  },
  {
   "cell_type": "code",
   "execution_count": 5,
   "metadata": {},
   "outputs": [
    {
     "name": "stdout",
     "output_type": "stream",
     "text": [
      "<class 'pandas.core.frame.DataFrame'>\n",
      "RangeIndex: 4187 entries, 0 to 4186\n",
      "Data columns (total 20 columns):\n",
      " #   Column         Non-Null Count  Dtype \n",
      "---  ------         --------------  ----- \n",
      " 0   판례일련번호         4187 non-null   int64 \n",
      " 1   사건명            4186 non-null   object\n",
      " 2   사건번호           4187 non-null   object\n",
      " 3   선고일자           4187 non-null   object\n",
      " 4   법원명            4187 non-null   object\n",
      " 5   사건종류명          4187 non-null   object\n",
      " 6   판례상세링크         4187 non-null   object\n",
      " 7   선고             4187 non-null   object\n",
      " 8   판결유형           4187 non-null   object\n",
      " 9   판시사항           3415 non-null   object\n",
      " 10  판결요지           3026 non-null   object\n",
      " 11  참조조문           3390 non-null   object\n",
      " 12  참조판례           1924 non-null   object\n",
      " 13  판례내용           4187 non-null   object\n",
      " 14  판례내용_상단        4187 non-null   object\n",
      " 15  판례내용_이유        4187 non-null   object\n",
      " 16  판례내용_이유_전처리    4187 non-null   object\n",
      " 17  판례내용_이유_불용어제거  4187 non-null   object\n",
      " 18  클러스터           4187 non-null   int64 \n",
      " 19  키워드            4187 non-null   object\n",
      "dtypes: int64(2), object(18)\n",
      "memory usage: 654.3+ KB\n"
     ]
    }
   ],
   "source": [
    "df_injury.drop(columns=['판례정보일련번호','사건번호.1'], inplace=True)\n",
    "df_injury.info()"
   ]
  },
  {
   "cell_type": "code",
   "execution_count": 57,
   "metadata": {},
   "outputs": [
    {
     "data": {
      "text/html": [
       "<div>\n",
       "<style scoped>\n",
       "    .dataframe tbody tr th:only-of-type {\n",
       "        vertical-align: middle;\n",
       "    }\n",
       "\n",
       "    .dataframe tbody tr th {\n",
       "        vertical-align: top;\n",
       "    }\n",
       "\n",
       "    .dataframe thead th {\n",
       "        text-align: right;\n",
       "    }\n",
       "</style>\n",
       "<table border=\"1\" class=\"dataframe\">\n",
       "  <thead>\n",
       "    <tr style=\"text-align: right;\">\n",
       "      <th></th>\n",
       "      <th>판례일련번호</th>\n",
       "      <th>사건명</th>\n",
       "      <th>사건번호</th>\n",
       "      <th>선고일자</th>\n",
       "      <th>법원명</th>\n",
       "      <th>사건종류명</th>\n",
       "      <th>판례상세링크</th>\n",
       "      <th>판례정보일련번호</th>\n",
       "      <th>선고</th>\n",
       "      <th>판결유형</th>\n",
       "      <th>...</th>\n",
       "      <th>판결요지</th>\n",
       "      <th>참조조문</th>\n",
       "      <th>참조판례</th>\n",
       "      <th>판례내용</th>\n",
       "      <th>판례내용_상단</th>\n",
       "      <th>판례내용_이유</th>\n",
       "      <th>판례내용_이유_전처리</th>\n",
       "      <th>판례내용_이유_불용어제거</th>\n",
       "      <th>클러스터</th>\n",
       "      <th>키워드</th>\n",
       "    </tr>\n",
       "  </thead>\n",
       "  <tbody>\n",
       "    <tr>\n",
       "      <th>3478</th>\n",
       "      <td>71592</td>\n",
       "      <td>None</td>\n",
       "      <td>2001노3042</td>\n",
       "      <td>2002.04.12</td>\n",
       "      <td>서울고등법원</td>\n",
       "      <td>형사</td>\n",
       "      <td>/DRF/lawService.do?OC=wanja1996&amp;target=prec&amp;ID...</td>\n",
       "      <td>71592</td>\n",
       "      <td>선고</td>\n",
       "      <td>판결：상고기각</td>\n",
       "      <td>...</td>\n",
       "      <td>[1]          특정범죄가중처벌등에관한법률 제5조의2 제4항에서 영리의 목적...</td>\n",
       "      <td>\\n[1]\\n\\n         형법 제288조 제1항\\n,\\n\\n         ...</td>\n",
       "      <td>None</td>\n",
       "      <td>【피고인】  피고인【항소인】  피고인【변호인】  변호사 이수형 외 1인【원심판결】 ...</td>\n",
       "      <td>【피고인】  피고인【항소인】  피고인【변호인】  변호사 이수형 외 1인【원심판결】 ...</td>\n",
       "      <td>【이유】1. 항소이유의 요지가. 사실오인피고인은 무허가 직업소개소를 운영하면서 원심...</td>\n",
       "      <td>{'이유': '1. 항소이유의 요지가. 사실오인피고인은 무허가 직업소개소를 운영하면...</td>\n",
       "      <td>사실오인 무허가 직업 소개 운영 데리 도록 망하여 유인 의사 과장 하였을 이미  다...</td>\n",
       "      <td>7</td>\n",
       "      <td>['지급', '계약', '사기죄', '채권', '신청', '회사', '공사', '의...</td>\n",
       "    </tr>\n",
       "    <tr>\n",
       "      <th>3793</th>\n",
       "      <td>105119</td>\n",
       "      <td>None</td>\n",
       "      <td>86다카1147</td>\n",
       "      <td>1989.04.25</td>\n",
       "      <td>대법원</td>\n",
       "      <td>민사</td>\n",
       "      <td>/DRF/lawService.do?OC=wanja1996&amp;target=prec&amp;ID...</td>\n",
       "      <td>105119</td>\n",
       "      <td>선고</td>\n",
       "      <td>판결</td>\n",
       "      <td>...</td>\n",
       "      <td>가. 계약이 합의해제된 경우에는 그 해제시에 당사자 일방이 상대방에게 손해배상을 하...</td>\n",
       "      <td>가.\\n \\n        민법 제551조 / 나. \\n        제664조&lt;br/&gt;</td>\n",
       "      <td>가. \\n        \\n대법원 1960.10.6. 선고 4293민상275 판결 ...</td>\n",
       "      <td>【원고(반소피고)】   상고인  곽태훈【피고(반소원고)】   피상고인  덕화공영주식...</td>\n",
       "      <td>【원고(반소피고)】   상고인  곽태훈【피고(반소원고)】   피상고인  덕화공영주식...</td>\n",
       "      <td>【이    유】  1. 상고이유 제1점을 본다.  원심판결 이유에 의하면, 원심은 ...</td>\n",
       "      <td>{'이유': '1. 상고이유 제1점을 본다. 원심판결 이유에 의하면, 원심은 원고(...</td>\n",
       "      <td>본다 손해배상 1983.5 덕화 주식회사 소원 회사 와의 소유 대지 건축 지하 지상...</td>\n",
       "      <td>2</td>\n",
       "      <td>['회사', '주식', '주식회사', '자금', '대출', '거래', '투자', '...</td>\n",
       "    </tr>\n",
       "  </tbody>\n",
       "</table>\n",
       "<p>2 rows × 21 columns</p>\n",
       "</div>"
      ],
      "text/plain": [
       "      판례일련번호   사건명       사건번호        선고일자     법원명 사건종류명  \\\n",
       "3478   71592  None  2001노3042  2002.04.12  서울고등법원    형사   \n",
       "3793  105119  None   86다카1147  1989.04.25     대법원    민사   \n",
       "\n",
       "                                                 판례상세링크  판례정보일련번호  선고  \\\n",
       "3478  /DRF/lawService.do?OC=wanja1996&target=prec&ID...     71592  선고   \n",
       "3793  /DRF/lawService.do?OC=wanja1996&target=prec&ID...    105119  선고   \n",
       "\n",
       "         판결유형  ...                                               판결요지  \\\n",
       "3478  판결：상고기각  ...  [1]          특정범죄가중처벌등에관한법률 제5조의2 제4항에서 영리의 목적...   \n",
       "3793       판결  ...  가. 계약이 합의해제된 경우에는 그 해제시에 당사자 일방이 상대방에게 손해배상을 하...   \n",
       "\n",
       "                                                   참조조문  \\\n",
       "3478  \\n[1]\\n\\n         형법 제288조 제1항\\n,\\n\\n         ...   \n",
       "3793  가.\\n \\n        민법 제551조 / 나. \\n        제664조<br/>   \n",
       "\n",
       "                                                   참조판례  \\\n",
       "3478                                               None   \n",
       "3793  가. \\n        \\n대법원 1960.10.6. 선고 4293민상275 판결 ...   \n",
       "\n",
       "                                                   판례내용  \\\n",
       "3478  【피고인】  피고인【항소인】  피고인【변호인】  변호사 이수형 외 1인【원심판결】 ...   \n",
       "3793  【원고(반소피고)】   상고인  곽태훈【피고(반소원고)】   피상고인  덕화공영주식...   \n",
       "\n",
       "                                                판례내용_상단  \\\n",
       "3478  【피고인】  피고인【항소인】  피고인【변호인】  변호사 이수형 외 1인【원심판결】 ...   \n",
       "3793  【원고(반소피고)】   상고인  곽태훈【피고(반소원고)】   피상고인  덕화공영주식...   \n",
       "\n",
       "                                                판례내용_이유  \\\n",
       "3478  【이유】1. 항소이유의 요지가. 사실오인피고인은 무허가 직업소개소를 운영하면서 원심...   \n",
       "3793  【이    유】  1. 상고이유 제1점을 본다.  원심판결 이유에 의하면, 원심은 ...   \n",
       "\n",
       "                                            판례내용_이유_전처리  \\\n",
       "3478  {'이유': '1. 항소이유의 요지가. 사실오인피고인은 무허가 직업소개소를 운영하면...   \n",
       "3793  {'이유': '1. 상고이유 제1점을 본다. 원심판결 이유에 의하면, 원심은 원고(...   \n",
       "\n",
       "                                          판례내용_이유_불용어제거 클러스터  \\\n",
       "3478  사실오인 무허가 직업 소개 운영 데리 도록 망하여 유인 의사 과장 하였을 이미  다...    7   \n",
       "3793  본다 손해배상 1983.5 덕화 주식회사 소원 회사 와의 소유 대지 건축 지하 지상...    2   \n",
       "\n",
       "                                                    키워드  \n",
       "3478  ['지급', '계약', '사기죄', '채권', '신청', '회사', '공사', '의...  \n",
       "3793  ['회사', '주식', '주식회사', '자금', '대출', '거래', '투자', '...  \n",
       "\n",
       "[2 rows x 21 columns]"
      ]
     },
     "execution_count": 57,
     "metadata": {},
     "output_type": "execute_result"
    }
   ],
   "source": [
    "df_fraud[df_fraud['사건명'].isnull()]"
   ]
  },
  {
   "cell_type": "code",
   "execution_count": 67,
   "metadata": {},
   "outputs": [],
   "source": [
    "## DB에 저장한 키워드작업된 데이터 가져오기\n",
    "import mysql.connector\n",
    "import pandas as pd\n",
    "from db_info import user, password, host, port, database\n",
    "\n",
    "db_connection = mysql.connector.connect(\n",
    "    host = host,\n",
    "    user = user,\n",
    "    password = password,\n",
    "    database = database,\n",
    "    port = port\n",
    ")\n",
    "\n",
    "cursor = db_connection.cursor()\n",
    "\n",
    "cursor.execute(\"select * from labor_keyword\")\n",
    "\n",
    "result = cursor.fetchall()\n",
    "\n",
    "df_labor = pd.DataFrame(result, columns=[i[0] for i in cursor.description])"
   ]
  },
  {
   "cell_type": "code",
   "execution_count": 9,
   "metadata": {},
   "outputs": [
    {
     "ename": "NameError",
     "evalue": "name 'df_labor' is not defined",
     "output_type": "error",
     "traceback": [
      "\u001b[1;31m---------------------------------------------------------------------------\u001b[0m",
      "\u001b[1;31mNameError\u001b[0m                                 Traceback (most recent call last)",
      "Cell \u001b[1;32mIn[9], line 1\u001b[0m\n\u001b[1;32m----> 1\u001b[0m \u001b[43mdf_labor\u001b[49m\u001b[38;5;241m.\u001b[39minfo()\n",
      "\u001b[1;31mNameError\u001b[0m: name 'df_labor' is not defined"
     ]
    }
   ],
   "source": [
    "df_labor.info()"
   ]
  },
  {
   "cell_type": "markdown",
   "metadata": {},
   "source": [
    "# 승민님 BERT모델(판시사항)"
   ]
  },
  {
   "cell_type": "code",
   "execution_count": 1,
   "metadata": {},
   "outputs": [
    {
     "ename": "NameError",
     "evalue": "name 'df_fraud' is not defined",
     "output_type": "error",
     "traceback": [
      "\u001b[1;31m---------------------------------------------------------------------------\u001b[0m",
      "\u001b[1;31mNameError\u001b[0m                                 Traceback (most recent call last)",
      "Cell \u001b[1;32mIn[1], line 1\u001b[0m\n\u001b[1;32m----> 1\u001b[0m \u001b[38;5;28mprint\u001b[39m(\u001b[43mdf_fraud\u001b[49m[\u001b[38;5;124m'\u001b[39m\u001b[38;5;124m판시사항\u001b[39m\u001b[38;5;124m'\u001b[39m]\u001b[38;5;241m.\u001b[39miloc[\u001b[38;5;241m10\u001b[39m])\n",
      "\u001b[1;31mNameError\u001b[0m: name 'df_fraud' is not defined"
     ]
    }
   ],
   "source": [
    "print(df_fraud['판시사항'].iloc[10])\n"
   ]
  },
  {
   "cell_type": "code",
   "execution_count": null,
   "metadata": {},
   "outputs": [],
   "source": [
    "df_fraud['모델용_문장'] = \"[CLS]\" + df_fraud['판시사항'] + \"[SEP]\""
   ]
  },
  {
   "cell_type": "code",
   "execution_count": null,
   "metadata": {},
   "outputs": [
    {
     "data": {
      "text/plain": [
       "'[CLS] 배심원이 참여하는 형사재판, 즉 국민참여재판을 거쳐 제1심법원이 배심원의 만장일치 무죄평결을 받아들여 피고인에 대하여 무죄판결을 선고한 경우, ‘증거의 취사 및 사실의 인정’에 관한 제1심법원의 판단은 한층 더 존중될 필요가 있는지 여부(적극) 및 이때 제1심법원의 무죄판결에 대한 항소심에서의 추가적이거나 새로운 증거조사의 범위[SEP]'"
      ]
     },
     "execution_count": 13,
     "metadata": {},
     "output_type": "execute_result"
    }
   ],
   "source": [
    "df_fraud['모델용_문장'].iloc[1]"
   ]
  },
  {
   "cell_type": "code",
   "execution_count": null,
   "metadata": {},
   "outputs": [
    {
     "name": "stderr",
     "output_type": "stream",
     "text": [
      "c:\\Users\\user\\anaconda3\\envs\\nof\\Lib\\site-packages\\huggingface_hub\\file_download.py:139: UserWarning: `huggingface_hub` cache-system uses symlinks by default to efficiently store duplicated files but your machine does not support them in C:\\Users\\user\\.cache\\huggingface\\hub\\models--monologg--kobert. Caching files will still work but in a degraded version that might require more space on your disk. This warning can be disabled by setting the `HF_HUB_DISABLE_SYMLINKS_WARNING` environment variable. For more details, see https://huggingface.co/docs/huggingface_hub/how-to-cache#limitations.\n",
      "To support symlinks on Windows, you either need to activate Developer Mode or to run Python as an administrator. In order to activate developer mode, see this article: https://docs.microsoft.com/en-us/windows/apps/get-started/enable-your-device-for-development\n",
      "  warnings.warn(message)\n"
     ]
    },
    {
     "name": "stdout",
     "output_type": "stream",
     "text": [
      "tensor([[   2, 3893, 5478, 6335, 4128,  150, 7253, 4128,   93, 7846, 6903, 4092,\n",
      "         7828, 4071, 7202, 3480, 5384, 7096, 4596, 5898, 3162, 2682, 3893,  517,\n",
      "         7656, 5781, 7088, 4955, 2587, 1528, 6006,  833, 2322, 4128,  225, 7253,\n",
      "         4128,  116, 7925, 6896, 1835, 4466, 5889, 7318, 3310,   18, 7202, 5543,\n",
      "           40,    3]])\n",
      "torch.Size([1, 50, 768])\n",
      "tensor([[[ 0.0527,  0.2446,  0.1086,  ..., -0.5052, -0.5448,  0.1624],\n",
      "         [ 0.6586,  0.0192,  0.1596,  ...,  0.0030, -0.1197,  0.2213],\n",
      "         [ 0.4585, -0.0808,  0.4904,  ...,  0.1427, -0.2438, -0.2900],\n",
      "         ...,\n",
      "         [ 0.6087, -0.0853,  0.3526,  ..., -0.3582, -0.3065, -0.0323],\n",
      "         [ 0.1492,  0.0111,  0.4568,  ..., -0.2438,  0.0845, -0.7004],\n",
      "         [ 0.0525,  0.2449,  0.1089,  ..., -0.5057, -0.5442,  0.1627]]],\n",
      "       grad_fn=<NativeLayerNormBackward0>)\n"
     ]
    }
   ],
   "source": [
    "import numpy as np\n",
    "from sklearn.metrics.pairwise import cosine_similarity\n",
    "from kobert_transformers import get_tokenizer\n",
    "\n",
    "bert_model = BertModel.from_pretrained('monologg/kobert')\n",
    "distilbert_model = DistilBertModel.from_pretrained('monologg/distilkobert')\n",
    "\n",
    "# Define your model\n",
    "model = distilbert_model  # 모델 선언\n",
    "tokenizer = get_tokenizer()  # 토크나이저 선언\n",
    "\n",
    "for i in range(10):\n",
    "    sentences = []\n",
    "    sentences.append(df_fraud['모델용_문장'].iloc[i])\n",
    "\n",
    "\n",
    "# 각 문장을 토큰화, id화\n",
    "tokenized_sentences = [tokenizer.tokenize(sentence) for sentence in sentences]\n",
    "tokenid_list = [tokenizer.convert_tokens_to_ids(tokens) for tokens in tokenized_sentences]\n",
    "\n",
    "# sequence를 같은 길이로 padding\n",
    "max_length = max(len(ids) for ids in tokenid_list)\n",
    "padded_tokenid_list = [ids + [0] * (max_length - len(ids)) for ids in tokenid_list]\n",
    "\n",
    "# Longtensor로 dtype변경\n",
    "tokenid_tensor = torch.LongTensor(padded_tokenid_list)\n",
    "\n",
    "# Print the tensor\n",
    "print(tokenid_tensor)\n",
    "\n",
    "# 추론\n",
    "tensor_output = model(tokenid_tensor)  # 모델에 위의 전처리 과정을 거친 자연어를 input으로 넣는다\n",
    "print(tensor_output[0].shape)  # Output shape\n",
    "print(tensor_output[0])  # Output 확인\n",
    "\n",
    "# 출력은 (batchsize, 토큰id의 길이, 768). 여기서 768은 임베딩 공간의 크기"
   ]
  },
  {
   "cell_type": "markdown",
   "metadata": {},
   "source": [
    "# Bert코드"
   ]
  },
  {
   "cell_type": "code",
   "execution_count": 7,
   "metadata": {},
   "outputs": [
    {
     "name": "stderr",
     "output_type": "stream",
     "text": [
      "The tokenizer class you load from this checkpoint is not the same type as the class this function is called from. It may result in unexpected tokenization. \n",
      "The tokenizer class you load from this checkpoint is 'KoBertTokenizer'. \n",
      "The class this function is called from is 'BertTokenizer'.\n"
     ]
    }
   ],
   "source": [
    "import pandas as pd\n",
    "import torch\n",
    "from transformers import BertTokenizer, BertModel\n",
    "import numpy as np\n",
    "from sklearn.metrics.pairwise import cosine_similarity\n",
    "\n",
    "#KoBERT모델, 토크나이저 생성\n",
    "tokenizer = BertTokenizer.from_pretrained('monologg/kobert')\n",
    "model = BertModel.from_pretrained('monologg/kobert')\n",
    "\n",
    "# 임베딩 함수\n",
    "def encode_sentence(sentence):\n",
    "    inputs = tokenizer(sentence, padding=True, truncation=True, return_tensors=\"pt\", return_attention_mask=True)\n",
    "    with torch.no_grad():\n",
    "        # outputs = model(**inputs)\n",
    "        outputs = model(input_ids = inputs['input_ids'], attention_mask=inputs['attention_mask'])\n",
    "    return outputs.last_hidden_state.mean(dim=1).numpy()\n",
    "\n",
    "# 판례 내용, 키워드, 판결요지, 판시사항 임베딩 생성\n",
    "df_injury['판례내용이유임베딩'] = df_injury['판례내용_이유'].apply(lambda x: encode_sentence(x).tolist() if pd.notnull(x) else None)\n",
    "df_injury['키워드임베딩'] = df_injury['키워드'].apply(lambda x: encode_sentence(x).tolist() if pd.notnull(x) else None)\n",
    "df_injury['판결요지임베딩'] = df_injury['판결요지'].apply(lambda x: encode_sentence(x).tolist() if pd.notnull(x) else None)\n",
    "df_injury['판시사항임베딩'] = df_injury['판시사항'].apply(lambda x: encode_sentence(x).tolist() if pd.notnull(x) else None)\n",
    "\n",
    "# CSV 파일로 저장\n",
    "df_injury.to_csv('data/df_injury_embedding.csv', index=False)"
   ]
  },
  {
   "cell_type": "code",
   "execution_count": null,
   "metadata": {},
   "outputs": [],
   "source": [
    "import pandas as pd\n",
    "import torch\n",
    "from transformers import BertTokenizer, BertModel\n",
    "import numpy as np\n",
    "from sklearn.metrics.pairwise import cosine_similarity\n",
    "\n",
    "#KoBERT모델, 토크나이저 생성\n",
    "tokenizer = BertTokenizer.from_pretrained('monologg/kobert')\n",
    "model = BertModel.from_pretrained('monologg/kobert')\n",
    "\n",
    "# 임베딩 함수\n",
    "def encode_sentence(sentence):\n",
    "    inputs = tokenizer(sentence, padding=True, truncation=True, return_tensors=\"pt\", return_attention_mask=True)\n",
    "    with torch.no_grad():\n",
    "        # outputs = model(**inputs)\n",
    "        outputs = model(input_ids = inputs['input_ids'], attention_mask=inputs['attention_mask'])\n",
    "    return outputs.last_hidden_state.mean(dim=1).numpy()\n",
    "\n",
    "# 판례 내용, 키워드, 판결요지, 판시사항 임베딩 생성\n",
    "df_fraud['판례내용이유임베딩'] = df_fraud['판례내용_이유'].apply(lambda x: encode_sentence(x).tolist() if pd.notnull(x) else None)\n",
    "df_fraud['키워드임베딩'] = df_fraud['키워드'].apply(lambda x: encode_sentence(x).tolist() if pd.notnull(x) else None)\n",
    "df_fraud['판결요지임베딩'] = df_fraud['판결요지'].apply(lambda x: encode_sentence(x).tolist() if pd.notnull(x) else None)\n",
    "df_fraud['판시사항임베딩'] = df_fraud['판시사항'].apply(lambda x: encode_sentence(x).tolist() if pd.notnull(x) else None)\n",
    "\n",
    "# CSV 파일로 저장\n",
    "df_fraud.to_csv('data/df_fraud_embedding.csv', index=False)"
   ]
  },
  {
   "cell_type": "code",
   "execution_count": 61,
   "metadata": {},
   "outputs": [],
   "source": [
    "df_fraud.drop(columns=['선고일자','법원명','사건종류명','판례상세링크','판례정보일련번호','선고'], inplace=True)"
   ]
  },
  {
   "cell_type": "code",
   "execution_count": 62,
   "metadata": {},
   "outputs": [
    {
     "name": "stdout",
     "output_type": "stream",
     "text": [
      "<class 'pandas.core.frame.DataFrame'>\n",
      "RangeIndex: 4178 entries, 0 to 4177\n",
      "Data columns (total 19 columns):\n",
      " #   Column         Non-Null Count  Dtype \n",
      "---  ------         --------------  ----- \n",
      " 0   판례일련번호         4178 non-null   int64 \n",
      " 1   사건명            4176 non-null   object\n",
      " 2   사건번호           4178 non-null   object\n",
      " 3   판결유형           4178 non-null   object\n",
      " 4   판시사항           3025 non-null   object\n",
      " 5   판결요지           2479 non-null   object\n",
      " 6   참조조문           2998 non-null   object\n",
      " 7   참조판례           1805 non-null   object\n",
      " 8   판례내용           4178 non-null   object\n",
      " 9   판례내용_상단        4178 non-null   object\n",
      " 10  판례내용_이유        4178 non-null   object\n",
      " 11  판례내용_이유_전처리    4178 non-null   object\n",
      " 12  판례내용_이유_불용어제거  4178 non-null   object\n",
      " 13  클러스터           4178 non-null   int64 \n",
      " 14  키워드            4178 non-null   object\n",
      " 15  판례내용이유임베딩      4178 non-null   object\n",
      " 16  키워드임베딩         4178 non-null   object\n",
      " 17  판결요지임베딩        2479 non-null   object\n",
      " 18  판시사항임베딩        3025 non-null   object\n",
      "dtypes: int64(2), object(17)\n",
      "memory usage: 620.3+ KB\n"
     ]
    }
   ],
   "source": [
    "df_fraud.info()"
   ]
  },
  {
   "cell_type": "code",
   "execution_count": null,
   "metadata": {},
   "outputs": [],
   "source": [
    "### 진형코드\n",
    "import pandas as pd\n",
    "import torch\n",
    "from transformers import BertTokenizer, BertModel\n",
    "\n",
    "# KOBERT 모델과 토크나이저 로드\n",
    "tokenizer = BertTokenizer.from_pretrained('monologg/kobert')\n",
    "model = BertModel.from_pretrained('monologg/kobert')\n",
    "\n",
    "# 문장 임베딩 함수\n",
    "def encode_sentence(sentence):\n",
    "    if pd.notnull(sentence):\n",
    "        inputs = tokenizer(sentence, padding=True, truncation=True, return_tensors=\"pt\")\n",
    "        with torch.no_grad():\n",
    "            outputs = model(**inputs)\n",
    "        return outputs.last_hidden_state.mean(dim=1).numpy()\n",
    "    return None\n",
    "\n",
    "# 클러스터별 판례 내용과 키워드 임베딩 생성\n",
    "for cluster_num in range(1, 9):  # 클러스터 1부터 8까지\n",
    "    cluster_cases = df_inheritance[df_inheritance['클러스터'] == cluster_num]\n",
    "    \n",
    "    df_inheritance.loc[df_inheritance['클러스터'] == cluster_num, '판례내용이유임베딩'] = \\\n",
    "        cluster_cases['판례내용_이유'].apply(encode_sentence)\n",
    "    \n",
    "    df_inheritance.loc[df_inheritance['클러스터'] == cluster_num, '키워드임베딩'] = \\\n",
    "        cluster_cases['키워드'].apply(encode_sentence)\n",
    "    \n",
    "    df_inheritance.loc[df_inheritance['클러스터'] == cluster_num, '판결요지임베딩'] = \\\n",
    "        cluster_cases['판결요지'].apply(encode_sentence)\n",
    "    \n",
    "    df_inheritance.loc[df_inheritance['클러스터'] == cluster_num, '판시사항임베딩'] = \\\n",
    "        cluster_cases['판시사항'].apply(encode_sentence)\n",
    "\n",
    "# CSV 파일로 저장\n",
    "df_inheritance.to_csv('df_inheritance_kobertmodel2.csv', index=False)"
   ]
  },
  {
   "cell_type": "markdown",
   "metadata": {},
   "source": [
    "# 유사도 계산"
   ]
  },
  {
   "cell_type": "code",
   "execution_count": 8,
   "metadata": {},
   "outputs": [
    {
     "ename": "NameError",
     "evalue": "name 'df_labor' is not defined",
     "output_type": "error",
     "traceback": [
      "\u001b[1;31m---------------------------------------------------------------------------\u001b[0m",
      "\u001b[1;31mNameError\u001b[0m                                 Traceback (most recent call last)",
      "Cell \u001b[1;32mIn[8], line 9\u001b[0m\n\u001b[0;32m      6\u001b[0m \u001b[38;5;66;03m# 판례내용 임베딩 유사도 계산 및 사건명 추출\u001b[39;00m\n\u001b[0;32m      7\u001b[0m content_similarity_scores \u001b[38;5;241m=\u001b[39m []\n\u001b[1;32m----> 9\u001b[0m \u001b[38;5;28;01mfor\u001b[39;00m idx, row \u001b[38;5;129;01min\u001b[39;00m \u001b[43mdf_labor\u001b[49m\u001b[38;5;241m.\u001b[39miterrows():\n\u001b[0;32m     10\u001b[0m     \u001b[38;5;28;01mif\u001b[39;00m row[\u001b[38;5;124m'\u001b[39m\u001b[38;5;124m판례내용이유임베딩\u001b[39m\u001b[38;5;124m'\u001b[39m] \u001b[38;5;129;01mis\u001b[39;00m \u001b[38;5;129;01mnot\u001b[39;00m \u001b[38;5;28;01mNone\u001b[39;00m:\n\u001b[0;32m     11\u001b[0m         \u001b[38;5;66;03m# 판례내용 임베딩과 사용자 키워드 임베딩 간의 유사도 계산\u001b[39;00m\n\u001b[0;32m     12\u001b[0m         content_similarity \u001b[38;5;241m=\u001b[39m cosine_similarity(user_keyword_embedding, row[\u001b[38;5;124m'\u001b[39m\u001b[38;5;124m판례내용이유임베딩\u001b[39m\u001b[38;5;124m'\u001b[39m])\u001b[38;5;241m.\u001b[39mflatten()[\u001b[38;5;241m0\u001b[39m]\n",
      "\u001b[1;31mNameError\u001b[0m: name 'df_labor' is not defined"
     ]
    }
   ],
   "source": [
    "from sklearn.metrics.pairwise import cosine_similarity\n",
    "# 사용자 입력\n",
    "user_keyword = \"토지\"  # 사용자가 입력한 키워드\n",
    "user_keyword_embedding = encode_sentence(user_keyword)\n",
    "\n",
    "# 판례내용 임베딩 유사도 계산 및 사건명 추출\n",
    "content_similarity_scores = []\n",
    "\n",
    "for idx, row in df_labor.iterrows():\n",
    "    if row['판례내용이유임베딩'] is not None:\n",
    "        # 판례내용 임베딩과 사용자 키워드 임베딩 간의 유사도 계산\n",
    "        content_similarity = cosine_similarity(user_keyword_embedding, row['판례내용이유임베딩']).flatten()[0]\n",
    "        content_similarity_scores.append((row['사건번호'], content_similarity))\n",
    "\n",
    "# 유사도 기준으로 정렬 및 상위 N개 선택\n",
    "sorted_content_scores = sorted(content_similarity_scores, key=lambda x: x[1], reverse=True)\n",
    "top_n_contents = sorted_content_scores[:10]\n",
    "\n",
    "# 추천 사건명 출력\n",
    "print(\"사용자 키워드와 관련된 사건명 :\")\n",
    "for 사건번호, score in top_n_contents:\n",
    "    사건명 = df_labor.loc[df_labor['사건번호'] == 사건번호, '사건명'].values\n",
    "    사건명 = 사건명[0] if 사건명.size > 0 else \"사건명 없음\"\n",
    "    print(f\"사건번호: {사건번호}, 사건명: {사건명}, 유사도: {score:.4f}\")"
   ]
  },
  {
   "cell_type": "code",
   "execution_count": null,
   "metadata": {},
   "outputs": [],
   "source": []
  }
 ],
 "metadata": {
  "kernelspec": {
   "display_name": "nof",
   "language": "python",
   "name": "python3"
  },
  "language_info": {
   "codemirror_mode": {
    "name": "ipython",
    "version": 3
   },
   "file_extension": ".py",
   "mimetype": "text/x-python",
   "name": "python",
   "nbconvert_exporter": "python",
   "pygments_lexer": "ipython3",
   "version": "3.8.20"
  }
 },
 "nbformat": 4,
 "nbformat_minor": 2
}
