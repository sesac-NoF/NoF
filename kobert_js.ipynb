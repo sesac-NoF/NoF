{
 "cells": [
  {
   "cell_type": "code",
   "execution_count": null,
   "metadata": {},
   "outputs": [],
   "source": [
    "from transformers import BertModel, DistilBertModel\n",
    "bert_model = BertModel.from_pretrained('monologg/kobert')\n",
    "distilbert_model = DistilBertModel.from_pretrained('monologg/distilkobert')"
   ]
  },
  {
   "cell_type": "markdown",
   "metadata": {},
   "source": [
    "# 데이터호출"
   ]
  },
  {
   "cell_type": "code",
   "execution_count": 5,
   "metadata": {},
   "outputs": [],
   "source": [
    "## 키워드 작업한 데이터 불러오기\n",
    "import pandas as pd\n",
    "import torch\n",
    "\n",
    "df_fraud = pd.read_csv('data/df_fraud_keyword.csv', index_col=False)"
   ]
  },
  {
   "cell_type": "code",
   "execution_count": 10,
   "metadata": {},
   "outputs": [],
   "source": [
    "## DB에 저장한 키워드작업된 데이터 가져오기(사기기)\n",
    "import mysql.connector\n",
    "import pandas as pd\n",
    "from db_info import user, password, host, port, database\n",
    "\n",
    "db_connection = mysql.connector.connect(\n",
    "    host = host,\n",
    "    user = user,\n",
    "    password = password,\n",
    "    database = database,\n",
    "    port = port\n",
    ")\n",
    "\n",
    "cursor = db_connection.cursor()\n",
    "\n",
    "cursor.execute(\"select * from injury_keyword\")\n",
    "\n",
    "result = cursor.fetchall()\n",
    "\n",
    "df_injury = pd.DataFrame(result, columns=[i[0] for i in cursor.description])"
   ]
  },
  {
   "cell_type": "code",
   "execution_count": 11,
   "metadata": {},
   "outputs": [
    {
     "name": "stdout",
     "output_type": "stream",
     "text": [
      "<class 'pandas.core.frame.DataFrame'>\n",
      "RangeIndex: 4189 entries, 0 to 4188\n",
      "Data columns (total 11 columns):\n",
      " #   Column         Non-Null Count  Dtype \n",
      "---  ------         --------------  ----- \n",
      " 0   판례일련번호         4189 non-null   int64 \n",
      " 1   사건번호           4189 non-null   object\n",
      " 2   선고일자           4189 non-null   object\n",
      " 3   판시사항           3417 non-null   object\n",
      " 4   판결요지           3028 non-null   object\n",
      " 5   판례내용_상단        4189 non-null   object\n",
      " 6   판례내용_이유        4184 non-null   object\n",
      " 7   판례내용_이유_전처리    4189 non-null   object\n",
      " 8   판례내용_이유_불용어제거  3821 non-null   object\n",
      " 9   클러스터           4189 non-null   int64 \n",
      " 10  키워드            4189 non-null   object\n",
      "dtypes: int64(2), object(9)\n",
      "memory usage: 360.1+ KB\n"
     ]
    }
   ],
   "source": [
    "df_injury.info()"
   ]
  },
  {
   "cell_type": "code",
   "execution_count": 5,
   "metadata": {},
   "outputs": [
    {
     "name": "stdout",
     "output_type": "stream",
     "text": [
      "<class 'pandas.core.frame.DataFrame'>\n",
      "RangeIndex: 4187 entries, 0 to 4186\n",
      "Data columns (total 20 columns):\n",
      " #   Column         Non-Null Count  Dtype \n",
      "---  ------         --------------  ----- \n",
      " 0   판례일련번호         4187 non-null   int64 \n",
      " 1   사건명            4186 non-null   object\n",
      " 2   사건번호           4187 non-null   object\n",
      " 3   선고일자           4187 non-null   object\n",
      " 4   법원명            4187 non-null   object\n",
      " 5   사건종류명          4187 non-null   object\n",
      " 6   판례상세링크         4187 non-null   object\n",
      " 7   선고             4187 non-null   object\n",
      " 8   판결유형           4187 non-null   object\n",
      " 9   판시사항           3415 non-null   object\n",
      " 10  판결요지           3026 non-null   object\n",
      " 11  참조조문           3390 non-null   object\n",
      " 12  참조판례           1924 non-null   object\n",
      " 13  판례내용           4187 non-null   object\n",
      " 14  판례내용_상단        4187 non-null   object\n",
      " 15  판례내용_이유        4187 non-null   object\n",
      " 16  판례내용_이유_전처리    4187 non-null   object\n",
      " 17  판례내용_이유_불용어제거  4187 non-null   object\n",
      " 18  클러스터           4187 non-null   int64 \n",
      " 19  키워드            4187 non-null   object\n",
      "dtypes: int64(2), object(18)\n",
      "memory usage: 654.3+ KB\n"
     ]
    }
   ],
   "source": [
    "df_injury.drop(columns=['판례정보일련번호','사건번호.1'], inplace=True)\n",
    "df_injury.info()"
   ]
  },
  {
   "cell_type": "code",
   "execution_count": 57,
   "metadata": {},
   "outputs": [
    {
     "data": {
      "text/html": [
       "<div>\n",
       "<style scoped>\n",
       "    .dataframe tbody tr th:only-of-type {\n",
       "        vertical-align: middle;\n",
       "    }\n",
       "\n",
       "    .dataframe tbody tr th {\n",
       "        vertical-align: top;\n",
       "    }\n",
       "\n",
       "    .dataframe thead th {\n",
       "        text-align: right;\n",
       "    }\n",
       "</style>\n",
       "<table border=\"1\" class=\"dataframe\">\n",
       "  <thead>\n",
       "    <tr style=\"text-align: right;\">\n",
       "      <th></th>\n",
       "      <th>판례일련번호</th>\n",
       "      <th>사건명</th>\n",
       "      <th>사건번호</th>\n",
       "      <th>선고일자</th>\n",
       "      <th>법원명</th>\n",
       "      <th>사건종류명</th>\n",
       "      <th>판례상세링크</th>\n",
       "      <th>판례정보일련번호</th>\n",
       "      <th>선고</th>\n",
       "      <th>판결유형</th>\n",
       "      <th>...</th>\n",
       "      <th>판결요지</th>\n",
       "      <th>참조조문</th>\n",
       "      <th>참조판례</th>\n",
       "      <th>판례내용</th>\n",
       "      <th>판례내용_상단</th>\n",
       "      <th>판례내용_이유</th>\n",
       "      <th>판례내용_이유_전처리</th>\n",
       "      <th>판례내용_이유_불용어제거</th>\n",
       "      <th>클러스터</th>\n",
       "      <th>키워드</th>\n",
       "    </tr>\n",
       "  </thead>\n",
       "  <tbody>\n",
       "    <tr>\n",
       "      <th>3478</th>\n",
       "      <td>71592</td>\n",
       "      <td>None</td>\n",
       "      <td>2001노3042</td>\n",
       "      <td>2002.04.12</td>\n",
       "      <td>서울고등법원</td>\n",
       "      <td>형사</td>\n",
       "      <td>/DRF/lawService.do?OC=wanja1996&amp;target=prec&amp;ID...</td>\n",
       "      <td>71592</td>\n",
       "      <td>선고</td>\n",
       "      <td>판결：상고기각</td>\n",
       "      <td>...</td>\n",
       "      <td>[1]          특정범죄가중처벌등에관한법률 제5조의2 제4항에서 영리의 목적...</td>\n",
       "      <td>\\n[1]\\n\\n         형법 제288조 제1항\\n,\\n\\n         ...</td>\n",
       "      <td>None</td>\n",
       "      <td>【피고인】  피고인【항소인】  피고인【변호인】  변호사 이수형 외 1인【원심판결】 ...</td>\n",
       "      <td>【피고인】  피고인【항소인】  피고인【변호인】  변호사 이수형 외 1인【원심판결】 ...</td>\n",
       "      <td>【이유】1. 항소이유의 요지가. 사실오인피고인은 무허가 직업소개소를 운영하면서 원심...</td>\n",
       "      <td>{'이유': '1. 항소이유의 요지가. 사실오인피고인은 무허가 직업소개소를 운영하면...</td>\n",
       "      <td>사실오인 무허가 직업 소개 운영 데리 도록 망하여 유인 의사 과장 하였을 이미  다...</td>\n",
       "      <td>7</td>\n",
       "      <td>['지급', '계약', '사기죄', '채권', '신청', '회사', '공사', '의...</td>\n",
       "    </tr>\n",
       "    <tr>\n",
       "      <th>3793</th>\n",
       "      <td>105119</td>\n",
       "      <td>None</td>\n",
       "      <td>86다카1147</td>\n",
       "      <td>1989.04.25</td>\n",
       "      <td>대법원</td>\n",
       "      <td>민사</td>\n",
       "      <td>/DRF/lawService.do?OC=wanja1996&amp;target=prec&amp;ID...</td>\n",
       "      <td>105119</td>\n",
       "      <td>선고</td>\n",
       "      <td>판결</td>\n",
       "      <td>...</td>\n",
       "      <td>가. 계약이 합의해제된 경우에는 그 해제시에 당사자 일방이 상대방에게 손해배상을 하...</td>\n",
       "      <td>가.\\n \\n        민법 제551조 / 나. \\n        제664조&lt;br/&gt;</td>\n",
       "      <td>가. \\n        \\n대법원 1960.10.6. 선고 4293민상275 판결 ...</td>\n",
       "      <td>【원고(반소피고)】   상고인  곽태훈【피고(반소원고)】   피상고인  덕화공영주식...</td>\n",
       "      <td>【원고(반소피고)】   상고인  곽태훈【피고(반소원고)】   피상고인  덕화공영주식...</td>\n",
       "      <td>【이    유】  1. 상고이유 제1점을 본다.  원심판결 이유에 의하면, 원심은 ...</td>\n",
       "      <td>{'이유': '1. 상고이유 제1점을 본다. 원심판결 이유에 의하면, 원심은 원고(...</td>\n",
       "      <td>본다 손해배상 1983.5 덕화 주식회사 소원 회사 와의 소유 대지 건축 지하 지상...</td>\n",
       "      <td>2</td>\n",
       "      <td>['회사', '주식', '주식회사', '자금', '대출', '거래', '투자', '...</td>\n",
       "    </tr>\n",
       "  </tbody>\n",
       "</table>\n",
       "<p>2 rows × 21 columns</p>\n",
       "</div>"
      ],
      "text/plain": [
       "      판례일련번호   사건명       사건번호        선고일자     법원명 사건종류명  \\\n",
       "3478   71592  None  2001노3042  2002.04.12  서울고등법원    형사   \n",
       "3793  105119  None   86다카1147  1989.04.25     대법원    민사   \n",
       "\n",
       "                                                 판례상세링크  판례정보일련번호  선고  \\\n",
       "3478  /DRF/lawService.do?OC=wanja1996&target=prec&ID...     71592  선고   \n",
       "3793  /DRF/lawService.do?OC=wanja1996&target=prec&ID...    105119  선고   \n",
       "\n",
       "         판결유형  ...                                               판결요지  \\\n",
       "3478  판결：상고기각  ...  [1]          특정범죄가중처벌등에관한법률 제5조의2 제4항에서 영리의 목적...   \n",
       "3793       판결  ...  가. 계약이 합의해제된 경우에는 그 해제시에 당사자 일방이 상대방에게 손해배상을 하...   \n",
       "\n",
       "                                                   참조조문  \\\n",
       "3478  \\n[1]\\n\\n         형법 제288조 제1항\\n,\\n\\n         ...   \n",
       "3793  가.\\n \\n        민법 제551조 / 나. \\n        제664조<br/>   \n",
       "\n",
       "                                                   참조판례  \\\n",
       "3478                                               None   \n",
       "3793  가. \\n        \\n대법원 1960.10.6. 선고 4293민상275 판결 ...   \n",
       "\n",
       "                                                   판례내용  \\\n",
       "3478  【피고인】  피고인【항소인】  피고인【변호인】  변호사 이수형 외 1인【원심판결】 ...   \n",
       "3793  【원고(반소피고)】   상고인  곽태훈【피고(반소원고)】   피상고인  덕화공영주식...   \n",
       "\n",
       "                                                판례내용_상단  \\\n",
       "3478  【피고인】  피고인【항소인】  피고인【변호인】  변호사 이수형 외 1인【원심판결】 ...   \n",
       "3793  【원고(반소피고)】   상고인  곽태훈【피고(반소원고)】   피상고인  덕화공영주식...   \n",
       "\n",
       "                                                판례내용_이유  \\\n",
       "3478  【이유】1. 항소이유의 요지가. 사실오인피고인은 무허가 직업소개소를 운영하면서 원심...   \n",
       "3793  【이    유】  1. 상고이유 제1점을 본다.  원심판결 이유에 의하면, 원심은 ...   \n",
       "\n",
       "                                            판례내용_이유_전처리  \\\n",
       "3478  {'이유': '1. 항소이유의 요지가. 사실오인피고인은 무허가 직업소개소를 운영하면...   \n",
       "3793  {'이유': '1. 상고이유 제1점을 본다. 원심판결 이유에 의하면, 원심은 원고(...   \n",
       "\n",
       "                                          판례내용_이유_불용어제거 클러스터  \\\n",
       "3478  사실오인 무허가 직업 소개 운영 데리 도록 망하여 유인 의사 과장 하였을 이미  다...    7   \n",
       "3793  본다 손해배상 1983.5 덕화 주식회사 소원 회사 와의 소유 대지 건축 지하 지상...    2   \n",
       "\n",
       "                                                    키워드  \n",
       "3478  ['지급', '계약', '사기죄', '채권', '신청', '회사', '공사', '의...  \n",
       "3793  ['회사', '주식', '주식회사', '자금', '대출', '거래', '투자', '...  \n",
       "\n",
       "[2 rows x 21 columns]"
      ]
     },
     "execution_count": 57,
     "metadata": {},
     "output_type": "execute_result"
    }
   ],
   "source": [
    "df_fraud[df_fraud['사건명'].isnull()]"
   ]
  },
  {
   "cell_type": "code",
   "execution_count": 28,
   "metadata": {},
   "outputs": [],
   "source": [
    "## DB에 저장한 키워드작업된 데이터 가져오기\n",
    "import mysql.connector\n",
    "import pandas as pd\n",
    "from db_info import user, password, host, port, database\n",
    "\n",
    "db_connection = mysql.connector.connect(\n",
    "    host = host,\n",
    "    user = user,\n",
    "    password = password,\n",
    "    database = database,\n",
    "    port = port\n",
    ")\n",
    "\n",
    "cursor = db_connection.cursor()\n",
    "\n",
    "cursor.execute(\"select * from injury_keyword\")\n",
    "\n",
    "result = cursor.fetchall()\n",
    "\n",
    "df_injury = pd.DataFrame(result, columns=[i[0] for i in cursor.description])"
   ]
  },
  {
   "cell_type": "code",
   "execution_count": 29,
   "metadata": {},
   "outputs": [
    {
     "name": "stdout",
     "output_type": "stream",
     "text": [
      "<class 'pandas.core.frame.DataFrame'>\n",
      "RangeIndex: 4189 entries, 0 to 4188\n",
      "Data columns (total 11 columns):\n",
      " #   Column         Non-Null Count  Dtype \n",
      "---  ------         --------------  ----- \n",
      " 0   판례일련번호         4189 non-null   int64 \n",
      " 1   사건번호           4189 non-null   object\n",
      " 2   선고일자           4189 non-null   object\n",
      " 3   판시사항           3417 non-null   object\n",
      " 4   판결요지           3028 non-null   object\n",
      " 5   판례내용_상단        4189 non-null   object\n",
      " 6   판례내용_이유        4184 non-null   object\n",
      " 7   판례내용_이유_전처리    4189 non-null   object\n",
      " 8   판례내용_이유_불용어제거  4184 non-null   object\n",
      " 9   클러스터           4189 non-null   int64 \n",
      " 10  키워드            4189 non-null   object\n",
      "dtypes: int64(2), object(9)\n",
      "memory usage: 360.1+ KB\n"
     ]
    }
   ],
   "source": [
    "df_injury.info()"
   ]
  },
  {
   "cell_type": "code",
   "execution_count": 30,
   "metadata": {},
   "outputs": [],
   "source": [
    "## DB에 저장한 키워드작업된 데이터 가져오기\n",
    "import mysql.connector\n",
    "import pandas as pd\n",
    "from db_info import user, password, host, port, database\n",
    "\n",
    "db_connection = mysql.connector.connect(\n",
    "    host = host,\n",
    "    user = user,\n",
    "    password = password,\n",
    "    database = database,\n",
    "    port = port\n",
    ")\n",
    "\n",
    "cursor = db_connection.cursor()\n",
    "\n",
    "cursor.execute(\"select * from injury_list\")\n",
    "\n",
    "result = cursor.fetchall()\n",
    "\n",
    "injury_list = pd.DataFrame(result, columns=[i[0] for i in cursor.description])"
   ]
  },
  {
   "cell_type": "code",
   "execution_count": 31,
   "metadata": {},
   "outputs": [
    {
     "name": "stdout",
     "output_type": "stream",
     "text": [
      "<class 'pandas.core.frame.DataFrame'>\n",
      "RangeIndex: 4189 entries, 0 to 4188\n",
      "Data columns (total 7 columns):\n",
      " #   Column  Non-Null Count  Dtype \n",
      "---  ------  --------------  ----- \n",
      " 0   판례일련번호  4189 non-null   int64 \n",
      " 1   사건명     4188 non-null   object\n",
      " 2   사건번호    4189 non-null   object\n",
      " 3   선고일자    4189 non-null   object\n",
      " 4   법원명     4189 non-null   object\n",
      " 5   사건종류명   4189 non-null   object\n",
      " 6   판례상세링크  4189 non-null   object\n",
      "dtypes: int64(1), object(6)\n",
      "memory usage: 229.2+ KB\n"
     ]
    }
   ],
   "source": [
    "injury_list.info()"
   ]
  },
  {
   "cell_type": "code",
   "execution_count": 32,
   "metadata": {},
   "outputs": [],
   "source": [
    "merged_df = df_injury.merge(injury_list[['사건번호','사건명']], on='사건번호', how='left')\n",
    "\n",
    "df_injury['사건명'] = merged_df['사건명']"
   ]
  },
  {
   "cell_type": "code",
   "execution_count": 33,
   "metadata": {},
   "outputs": [
    {
     "name": "stdout",
     "output_type": "stream",
     "text": [
      "<class 'pandas.core.frame.DataFrame'>\n",
      "RangeIndex: 4189 entries, 0 to 4188\n",
      "Data columns (total 12 columns):\n",
      " #   Column         Non-Null Count  Dtype \n",
      "---  ------         --------------  ----- \n",
      " 0   판례일련번호         4189 non-null   int64 \n",
      " 1   사건번호           4189 non-null   object\n",
      " 2   선고일자           4189 non-null   object\n",
      " 3   판시사항           3417 non-null   object\n",
      " 4   판결요지           3028 non-null   object\n",
      " 5   판례내용_상단        4189 non-null   object\n",
      " 6   판례내용_이유        4184 non-null   object\n",
      " 7   판례내용_이유_전처리    4189 non-null   object\n",
      " 8   판례내용_이유_불용어제거  4184 non-null   object\n",
      " 9   클러스터           4189 non-null   int64 \n",
      " 10  키워드            4189 non-null   object\n",
      " 11  사건명            4188 non-null   object\n",
      "dtypes: int64(2), object(10)\n",
      "memory usage: 392.8+ KB\n"
     ]
    }
   ],
   "source": [
    "df_injury.info()"
   ]
  },
  {
   "cell_type": "markdown",
   "metadata": {},
   "source": [
    "# 승민님 BERT모델(판시사항)"
   ]
  },
  {
   "cell_type": "code",
   "execution_count": 1,
   "metadata": {},
   "outputs": [
    {
     "ename": "NameError",
     "evalue": "name 'df_fraud' is not defined",
     "output_type": "error",
     "traceback": [
      "\u001b[1;31m---------------------------------------------------------------------------\u001b[0m",
      "\u001b[1;31mNameError\u001b[0m                                 Traceback (most recent call last)",
      "Cell \u001b[1;32mIn[1], line 1\u001b[0m\n\u001b[1;32m----> 1\u001b[0m \u001b[38;5;28mprint\u001b[39m(\u001b[43mdf_fraud\u001b[49m[\u001b[38;5;124m'\u001b[39m\u001b[38;5;124m판시사항\u001b[39m\u001b[38;5;124m'\u001b[39m]\u001b[38;5;241m.\u001b[39miloc[\u001b[38;5;241m10\u001b[39m])\n",
      "\u001b[1;31mNameError\u001b[0m: name 'df_fraud' is not defined"
     ]
    }
   ],
   "source": [
    "print(df_fraud['판시사항'].iloc[10])\n"
   ]
  },
  {
   "cell_type": "code",
   "execution_count": null,
   "metadata": {},
   "outputs": [],
   "source": [
    "df_fraud['모델용_문장'] = \"[CLS]\" + df_fraud['판시사항'] + \"[SEP]\""
   ]
  },
  {
   "cell_type": "code",
   "execution_count": null,
   "metadata": {},
   "outputs": [
    {
     "data": {
      "text/plain": [
       "'[CLS] 배심원이 참여하는 형사재판, 즉 국민참여재판을 거쳐 제1심법원이 배심원의 만장일치 무죄평결을 받아들여 피고인에 대하여 무죄판결을 선고한 경우, ‘증거의 취사 및 사실의 인정’에 관한 제1심법원의 판단은 한층 더 존중될 필요가 있는지 여부(적극) 및 이때 제1심법원의 무죄판결에 대한 항소심에서의 추가적이거나 새로운 증거조사의 범위[SEP]'"
      ]
     },
     "execution_count": 13,
     "metadata": {},
     "output_type": "execute_result"
    }
   ],
   "source": [
    "df_fraud['모델용_문장'].iloc[1]"
   ]
  },
  {
   "cell_type": "code",
   "execution_count": null,
   "metadata": {},
   "outputs": [
    {
     "name": "stderr",
     "output_type": "stream",
     "text": [
      "c:\\Users\\user\\anaconda3\\envs\\nof\\Lib\\site-packages\\huggingface_hub\\file_download.py:139: UserWarning: `huggingface_hub` cache-system uses symlinks by default to efficiently store duplicated files but your machine does not support them in C:\\Users\\user\\.cache\\huggingface\\hub\\models--monologg--kobert. Caching files will still work but in a degraded version that might require more space on your disk. This warning can be disabled by setting the `HF_HUB_DISABLE_SYMLINKS_WARNING` environment variable. For more details, see https://huggingface.co/docs/huggingface_hub/how-to-cache#limitations.\n",
      "To support symlinks on Windows, you either need to activate Developer Mode or to run Python as an administrator. In order to activate developer mode, see this article: https://docs.microsoft.com/en-us/windows/apps/get-started/enable-your-device-for-development\n",
      "  warnings.warn(message)\n"
     ]
    },
    {
     "name": "stdout",
     "output_type": "stream",
     "text": [
      "tensor([[   2, 3893, 5478, 6335, 4128,  150, 7253, 4128,   93, 7846, 6903, 4092,\n",
      "         7828, 4071, 7202, 3480, 5384, 7096, 4596, 5898, 3162, 2682, 3893,  517,\n",
      "         7656, 5781, 7088, 4955, 2587, 1528, 6006,  833, 2322, 4128,  225, 7253,\n",
      "         4128,  116, 7925, 6896, 1835, 4466, 5889, 7318, 3310,   18, 7202, 5543,\n",
      "           40,    3]])\n",
      "torch.Size([1, 50, 768])\n",
      "tensor([[[ 0.0527,  0.2446,  0.1086,  ..., -0.5052, -0.5448,  0.1624],\n",
      "         [ 0.6586,  0.0192,  0.1596,  ...,  0.0030, -0.1197,  0.2213],\n",
      "         [ 0.4585, -0.0808,  0.4904,  ...,  0.1427, -0.2438, -0.2900],\n",
      "         ...,\n",
      "         [ 0.6087, -0.0853,  0.3526,  ..., -0.3582, -0.3065, -0.0323],\n",
      "         [ 0.1492,  0.0111,  0.4568,  ..., -0.2438,  0.0845, -0.7004],\n",
      "         [ 0.0525,  0.2449,  0.1089,  ..., -0.5057, -0.5442,  0.1627]]],\n",
      "       grad_fn=<NativeLayerNormBackward0>)\n"
     ]
    }
   ],
   "source": [
    "import numpy as np\n",
    "from sklearn.metrics.pairwise import cosine_similarity\n",
    "from kobert_transformers import get_tokenizer\n",
    "\n",
    "bert_model = BertModel.from_pretrained('monologg/kobert')\n",
    "distilbert_model = DistilBertModel.from_pretrained('monologg/distilkobert')\n",
    "\n",
    "# Define your model\n",
    "model = distilbert_model  # 모델 선언\n",
    "tokenizer = get_tokenizer()  # 토크나이저 선언\n",
    "\n",
    "for i in range(10):\n",
    "    sentences = []\n",
    "    sentences.append(df_fraud['모델용_문장'].iloc[i])\n",
    "\n",
    "\n",
    "# 각 문장을 토큰화, id화\n",
    "tokenized_sentences = [tokenizer.tokenize(sentence) for sentence in sentences]\n",
    "tokenid_list = [tokenizer.convert_tokens_to_ids(tokens) for tokens in tokenized_sentences]\n",
    "\n",
    "# sequence를 같은 길이로 padding\n",
    "max_length = max(len(ids) for ids in tokenid_list)\n",
    "padded_tokenid_list = [ids + [0] * (max_length - len(ids)) for ids in tokenid_list]\n",
    "\n",
    "# Longtensor로 dtype변경\n",
    "tokenid_tensor = torch.LongTensor(padded_tokenid_list)\n",
    "\n",
    "# Print the tensor\n",
    "print(tokenid_tensor)\n",
    "\n",
    "# 추론\n",
    "tensor_output = model(tokenid_tensor)  # 모델에 위의 전처리 과정을 거친 자연어를 input으로 넣는다\n",
    "print(tensor_output[0].shape)  # Output shape\n",
    "print(tensor_output[0])  # Output 확인\n",
    "\n",
    "# 출력은 (batchsize, 토큰id의 길이, 768). 여기서 768은 임베딩 공간의 크기"
   ]
  },
  {
   "cell_type": "markdown",
   "metadata": {},
   "source": [
    "# Bert코드"
   ]
  },
  {
   "cell_type": "code",
   "execution_count": 34,
   "metadata": {},
   "outputs": [
    {
     "name": "stderr",
     "output_type": "stream",
     "text": [
      "The tokenizer class you load from this checkpoint is not the same type as the class this function is called from. It may result in unexpected tokenization. \n",
      "The tokenizer class you load from this checkpoint is 'KoBertTokenizer'. \n",
      "The class this function is called from is 'BertTokenizer'.\n"
     ]
    }
   ],
   "source": [
    "import pandas as pd\n",
    "import torch\n",
    "from transformers import BertTokenizer, BertModel\n",
    "import numpy as np\n",
    "from sklearn.metrics.pairwise import cosine_similarity\n",
    "\n",
    "#KoBERT모델, 토크나이저 생성\n",
    "tokenizer = BertTokenizer.from_pretrained('monologg/kobert')\n",
    "model = BertModel.from_pretrained('monologg/kobert')\n",
    "\n",
    "# 임베딩 함수\n",
    "def encode_sentence(sentence):\n",
    "    inputs = tokenizer(sentence, padding=True, truncation=True, return_tensors=\"pt\", return_attention_mask=True)\n",
    "    with torch.no_grad():\n",
    "        # outputs = model(**inputs)\n",
    "        outputs = model(input_ids = inputs['input_ids'], attention_mask=inputs['attention_mask'])\n",
    "    return outputs.last_hidden_state.mean(dim=1).numpy()\n",
    "\n",
    "# 판례 내용, 키워드, 판결요지, 판시사항 임베딩 생성\n",
    "df_injury['판례내용이유임베딩'] = df_injury['판례내용_이유'].apply(lambda x: encode_sentence(x).tolist() if pd.notnull(x) else None)\n",
    "df_injury['키워드임베딩'] = df_injury['키워드'].apply(lambda x: encode_sentence(x).tolist() if pd.notnull(x) else None)\n",
    "df_injury['판결요지임베딩'] = df_injury['판결요지'].apply(lambda x: encode_sentence(x).tolist() if pd.notnull(x) else None)\n",
    "df_injury['판시사항임베딩'] = df_injury['판시사항'].apply(lambda x: encode_sentence(x).tolist() if pd.notnull(x) else None)\n",
    "\n",
    "# CSV 파일로 저장\n",
    "df_injury.to_csv('data/df_injury_embedding.csv', index=False)"
   ]
  },
  {
   "cell_type": "code",
   "execution_count": null,
   "metadata": {},
   "outputs": [],
   "source": [
    "import pandas as pd\n",
    "import torch\n",
    "from transformers import BertTokenizer, BertModel\n",
    "import numpy as np\n",
    "from sklearn.metrics.pairwise import cosine_similarity\n",
    "\n",
    "#KoBERT모델, 토크나이저 생성\n",
    "tokenizer = BertTokenizer.from_pretrained('monologg/kobert')\n",
    "model = BertModel.from_pretrained('monologg/kobert')\n",
    "\n",
    "# 임베딩 함수\n",
    "def encode_sentence(sentence):\n",
    "    inputs = tokenizer(sentence, padding=True, truncation=True, return_tensors=\"pt\", return_attention_mask=True)\n",
    "    with torch.no_grad():\n",
    "        # outputs = model(**inputs)\n",
    "        outputs = model(input_ids = inputs['input_ids'], attention_mask=inputs['attention_mask'])\n",
    "    return outputs.last_hidden_state.mean(dim=1).numpy()\n",
    "\n",
    "# 판례 내용, 키워드, 판결요지, 판시사항 임베딩 생성\n",
    "df_fraud['판례내용이유임베딩'] = df_fraud['판례내용_이유'].apply(lambda x: encode_sentence(x).tolist() if pd.notnull(x) else None)\n",
    "df_fraud['키워드임베딩'] = df_fraud['키워드'].apply(lambda x: encode_sentence(x).tolist() if pd.notnull(x) else None)\n",
    "df_fraud['판결요지임베딩'] = df_fraud['판결요지'].apply(lambda x: encode_sentence(x).tolist() if pd.notnull(x) else None)\n",
    "df_fraud['판시사항임베딩'] = df_fraud['판시사항'].apply(lambda x: encode_sentence(x).tolist() if pd.notnull(x) else None)\n",
    "\n",
    "# CSV 파일로 저장\n",
    "df_fraud.to_csv('data/df_fraud_embedding.csv', index=False)"
   ]
  },
  {
   "cell_type": "code",
   "execution_count": 61,
   "metadata": {},
   "outputs": [],
   "source": [
    "df_fraud.drop(columns=['선고일자','법원명','사건종류명','판례상세링크','판례정보일련번호','선고'], inplace=True)"
   ]
  },
  {
   "cell_type": "code",
   "execution_count": 4,
   "metadata": {},
   "outputs": [
    {
     "name": "stdout",
     "output_type": "stream",
     "text": [
      "<class 'pandas.core.frame.DataFrame'>\n",
      "RangeIndex: 4189 entries, 0 to 4188\n",
      "Data columns (total 15 columns):\n",
      " #   Column         Non-Null Count  Dtype \n",
      "---  ------         --------------  ----- \n",
      " 0   판례일련번호         4189 non-null   int64 \n",
      " 1   사건번호           4189 non-null   object\n",
      " 2   선고일자           4189 non-null   object\n",
      " 3   판시사항           3417 non-null   object\n",
      " 4   판결요지           3028 non-null   object\n",
      " 5   판례내용_상단        4189 non-null   object\n",
      " 6   판례내용_이유        4184 non-null   object\n",
      " 7   판례내용_이유_전처리    4189 non-null   object\n",
      " 8   판례내용_이유_불용어제거  3821 non-null   object\n",
      " 9   클러스터           4189 non-null   int64 \n",
      " 10  키워드            4189 non-null   object\n",
      " 11  판례내용이유임베딩      4184 non-null   object\n",
      " 12  키워드임베딩         4189 non-null   object\n",
      " 13  판결요지임베딩        3028 non-null   object\n",
      " 14  판시사항임베딩        3417 non-null   object\n",
      "dtypes: int64(2), object(13)\n",
      "memory usage: 491.0+ KB\n"
     ]
    }
   ],
   "source": [
    "df_injury.info()"
   ]
  },
  {
   "cell_type": "code",
   "execution_count": 62,
   "metadata": {},
   "outputs": [
    {
     "name": "stdout",
     "output_type": "stream",
     "text": [
      "<class 'pandas.core.frame.DataFrame'>\n",
      "RangeIndex: 4178 entries, 0 to 4177\n",
      "Data columns (total 19 columns):\n",
      " #   Column         Non-Null Count  Dtype \n",
      "---  ------         --------------  ----- \n",
      " 0   판례일련번호         4178 non-null   int64 \n",
      " 1   사건명            4176 non-null   object\n",
      " 2   사건번호           4178 non-null   object\n",
      " 3   판결유형           4178 non-null   object\n",
      " 4   판시사항           3025 non-null   object\n",
      " 5   판결요지           2479 non-null   object\n",
      " 6   참조조문           2998 non-null   object\n",
      " 7   참조판례           1805 non-null   object\n",
      " 8   판례내용           4178 non-null   object\n",
      " 9   판례내용_상단        4178 non-null   object\n",
      " 10  판례내용_이유        4178 non-null   object\n",
      " 11  판례내용_이유_전처리    4178 non-null   object\n",
      " 12  판례내용_이유_불용어제거  4178 non-null   object\n",
      " 13  클러스터           4178 non-null   int64 \n",
      " 14  키워드            4178 non-null   object\n",
      " 15  판례내용이유임베딩      4178 non-null   object\n",
      " 16  키워드임베딩         4178 non-null   object\n",
      " 17  판결요지임베딩        2479 non-null   object\n",
      " 18  판시사항임베딩        3025 non-null   object\n",
      "dtypes: int64(2), object(17)\n",
      "memory usage: 620.3+ KB\n"
     ]
    }
   ],
   "source": [
    "df_fraud.info()"
   ]
  },
  {
   "cell_type": "code",
   "execution_count": null,
   "metadata": {},
   "outputs": [],
   "source": [
    "### 진형코드\n",
    "import pandas as pd\n",
    "import torch\n",
    "from transformers import BertTokenizer, BertModel\n",
    "\n",
    "# KOBERT 모델과 토크나이저 로드\n",
    "tokenizer = BertTokenizer.from_pretrained('monologg/kobert')\n",
    "model = BertModel.from_pretrained('monologg/kobert')\n",
    "\n",
    "# 문장 임베딩 함수\n",
    "def encode_sentence(sentence):\n",
    "    if pd.notnull(sentence):\n",
    "        inputs = tokenizer(sentence, padding=True, truncation=True, return_tensors=\"pt\")\n",
    "        with torch.no_grad():\n",
    "            outputs = model(**inputs)\n",
    "        return outputs.last_hidden_state.mean(dim=1).numpy()\n",
    "    return None\n",
    "\n",
    "# 클러스터별 판례 내용과 키워드 임베딩 생성\n",
    "for cluster_num in range(1, 9):  # 클러스터 1부터 8까지\n",
    "    cluster_cases = df_inheritance[df_inheritance['클러스터'] == cluster_num]\n",
    "    \n",
    "    df_inheritance.loc[df_inheritance['클러스터'] == cluster_num, '판례내용이유임베딩'] = \\\n",
    "        cluster_cases['판례내용_이유'].apply(encode_sentence)\n",
    "    \n",
    "    df_inheritance.loc[df_inheritance['클러스터'] == cluster_num, '키워드임베딩'] = \\\n",
    "        cluster_cases['키워드'].apply(encode_sentence)\n",
    "    \n",
    "    df_inheritance.loc[df_inheritance['클러스터'] == cluster_num, '판결요지임베딩'] = \\\n",
    "        cluster_cases['판결요지'].apply(encode_sentence)\n",
    "    \n",
    "    df_inheritance.loc[df_inheritance['클러스터'] == cluster_num, '판시사항임베딩'] = \\\n",
    "        cluster_cases['판시사항'].apply(encode_sentence)\n",
    "\n",
    "# CSV 파일로 저장\n",
    "df_inheritance.to_csv('df_inheritance_kobertmodel2.csv', index=False)"
   ]
  },
  {
   "cell_type": "markdown",
   "metadata": {},
   "source": [
    "# 유사도 계산"
   ]
  },
  {
   "cell_type": "code",
   "execution_count": 35,
   "metadata": {},
   "outputs": [],
   "source": [
    "import ast\n",
    "df_injury = pd.read_csv('data/df_injury_embedding.csv', index_col=False)\n",
    "\n",
    "# 다시 리스트를 NumPy 배열로 변환\n",
    "df_injury['판례내용이유임베딩'] = df_injury['판례내용이유임베딩'].apply(lambda x: np.array(ast.literal_eval(x)) if pd.notnull(x) else None)\n",
    "df_injury['키워드임베딩'] = df_injury['키워드임베딩'].apply(lambda x: np.array(ast.literal_eval(x)) if pd.notnull(x) else None)\n",
    "df_injury['판결요지임베딩'] = df_injury['판결요지임베딩'].apply(lambda x: np.array(ast.literal_eval(x)) if pd.notnull(x) else None)\n",
    "df_injury['판시사항임베딩'] = df_injury['판시사항임베딩'].apply(lambda x: np.array(ast.literal_eval(x)) if pd.notnull(x) else None)"
   ]
  },
  {
   "cell_type": "code",
   "execution_count": 36,
   "metadata": {},
   "outputs": [
    {
     "name": "stdout",
     "output_type": "stream",
     "text": [
      "<class 'pandas.core.frame.DataFrame'>\n",
      "RangeIndex: 4189 entries, 0 to 4188\n",
      "Data columns (total 16 columns):\n",
      " #   Column         Non-Null Count  Dtype \n",
      "---  ------         --------------  ----- \n",
      " 0   판례일련번호         4189 non-null   int64 \n",
      " 1   사건번호           4189 non-null   object\n",
      " 2   선고일자           4189 non-null   object\n",
      " 3   판시사항           3417 non-null   object\n",
      " 4   판결요지           3028 non-null   object\n",
      " 5   판례내용_상단        4189 non-null   object\n",
      " 6   판례내용_이유        4184 non-null   object\n",
      " 7   판례내용_이유_전처리    4189 non-null   object\n",
      " 8   판례내용_이유_불용어제거  4184 non-null   object\n",
      " 9   클러스터           4189 non-null   int64 \n",
      " 10  키워드            4189 non-null   object\n",
      " 11  사건명            4188 non-null   object\n",
      " 12  판례내용이유임베딩      4184 non-null   object\n",
      " 13  키워드임베딩         4189 non-null   object\n",
      " 14  판결요지임베딩        3028 non-null   object\n",
      " 15  판시사항임베딩        3417 non-null   object\n",
      "dtypes: int64(2), object(14)\n",
      "memory usage: 523.8+ KB\n"
     ]
    }
   ],
   "source": [
    "df_injury.info()"
   ]
  },
  {
   "cell_type": "code",
   "execution_count": 37,
   "metadata": {},
   "outputs": [
    {
     "data": {
      "text/plain": [
       "array([[ 1.09782562e-01, -2.86987662e-01,  6.38796270e-01,\n",
       "        -3.11709237e+00,  1.48222923e-01,  3.20461363e-01,\n",
       "         1.69980347e-01,  1.59377038e-01, -2.80434996e-01,\n",
       "        -2.74808586e-01, -2.18382433e-01,  3.88051644e-02,\n",
       "        -7.76524544e-02,  3.70469391e-01,  7.92211175e-01,\n",
       "        -3.30990590e-02,  7.45082945e-02,  2.26210415e-01,\n",
       "         4.97903600e-02, -3.07749033e-01, -4.67122734e-01,\n",
       "        -9.32853818e-02, -1.44847378e-01,  1.82107747e-01,\n",
       "        -1.09147832e-01, -1.59866475e-02,  1.72302067e-01,\n",
       "        -1.93120167e-01, -2.18056329e-02,  7.01031566e-01,\n",
       "         5.00526652e-02, -3.53494287e-01,  7.59904608e-02,\n",
       "         1.04353890e-01,  1.69545747e-02,  9.97742862e-02,\n",
       "         2.44018957e-01,  4.33962375e-01,  1.22908190e-01,\n",
       "        -6.83232009e-01,  1.92715988e-01, -5.58317065e-01,\n",
       "         4.79014277e-01, -1.06621936e-01,  1.98614195e-01,\n",
       "         1.34860635e-01, -2.68546164e-01,  4.36531544e-01,\n",
       "         2.53328800e-01, -3.32394205e-02, -7.55754188e-02,\n",
       "        -5.05357003e-03,  4.34722304e-01, -2.13393748e-01,\n",
       "         9.45659429e-02,  8.25291574e-02,  3.95240366e-01,\n",
       "        -3.35127652e-01, -1.30524516e-01,  1.36234373e-01,\n",
       "        -3.42797667e-01, -1.77376419e-01,  9.90860239e-02,\n",
       "        -1.29018024e-01,  3.61240208e-01, -1.42992169e-01,\n",
       "         8.81917328e-02, -3.93432528e-01,  9.03725252e-02,\n",
       "         5.69373786e-01,  1.04952678e-01,  1.60525993e-01,\n",
       "        -3.55999358e-03, -4.85160112e-01, -1.19488388e-01,\n",
       "         6.03208840e-01,  1.37008652e-01, -3.02293301e-01,\n",
       "        -3.85865986e-01,  2.71564424e-01, -1.20792635e-01,\n",
       "        -2.35807911e-01, -3.70114177e-01, -9.83051211e-02,\n",
       "         2.29626223e-01, -3.65469098e-01, -3.65514576e-01,\n",
       "        -1.18579879e-01,  1.09308116e-01,  5.18098734e-02,\n",
       "        -8.69044363e-02, -2.65089005e-01,  3.87014389e-01,\n",
       "        -1.93875134e-01, -7.72016719e-02, -1.11852571e-01,\n",
       "        -3.97819877e-01,  5.78058362e-01,  1.17813095e-01,\n",
       "         5.13880610e-01, -3.42104658e-02, -2.71980554e-01,\n",
       "         3.82760942e-01, -2.57701486e-01,  2.09843621e-01,\n",
       "        -3.29432547e-01, -9.01190341e-02,  1.51214242e-01,\n",
       "         6.45779818e-03,  1.27543658e-01, -6.23177662e-02,\n",
       "        -9.02737677e-02,  4.64697808e-01, -6.87062860e-01,\n",
       "        -1.12950042e-01,  2.22379565e-01,  1.60711855e-01,\n",
       "        -2.43905634e-01,  4.94258940e-01,  3.38708103e-01,\n",
       "         6.41051382e-02, -1.63619947e-02,  4.95514691e-01,\n",
       "        -1.19712994e-01, -1.48228317e-01,  8.26611668e-02,\n",
       "        -2.68793106e-01,  1.58025384e-01, -3.48052755e-02,\n",
       "         9.46930945e-02,  1.65861547e-01, -3.62044543e-01,\n",
       "         2.80808080e-02,  3.15081477e-01, -1.48177877e-01,\n",
       "         1.28932655e-01, -2.11008549e-01, -1.66877627e-01,\n",
       "        -3.00612032e-01, -8.17051530e-02, -3.22487265e-01,\n",
       "         2.74017397e-02, -1.95808917e-01, -5.30903578e-01,\n",
       "         4.02783096e-01, -3.59374955e-02,  4.09766555e-01,\n",
       "         6.16795309e-02, -3.67767513e-01,  2.30519623e-01,\n",
       "        -4.73268390e-01, -2.25418024e-02,  1.89580545e-01,\n",
       "         2.29598075e-01, -2.53764503e-02, -4.76549454e-02,\n",
       "         1.47806674e-01,  2.67958939e-01,  1.14986241e-01,\n",
       "         4.20380950e-01,  1.35555089e-01,  9.08593982e-02,\n",
       "         1.50565356e-01, -3.91468585e-01,  1.09811172e-01,\n",
       "        -2.48434335e-01,  3.32917720e-02,  2.40671515e-01,\n",
       "        -2.54485548e-01, -1.72170877e-01, -1.09781533e-01,\n",
       "         5.93880653e-01, -2.29493350e-01,  5.57347655e-01,\n",
       "        -1.04958396e-02, -1.73792452e-01,  2.05715239e-01,\n",
       "        -2.19109863e-01,  4.12723795e-02, -7.24126101e-02,\n",
       "        -5.09100221e-03,  5.76015078e-02,  8.13974533e-03,\n",
       "         1.96540845e-03, -4.29033458e-01, -4.46988419e-02,\n",
       "         7.35254586e-02, -3.15141737e-01, -1.31180108e-01,\n",
       "         1.21310167e-01,  1.95784807e-01,  1.32459313e-01,\n",
       "         4.11094010e-01,  6.70110527e-03, -3.45516950e-01,\n",
       "        -5.48404098e-01, -8.26418772e-02, -8.74556974e-03,\n",
       "         3.74699831e-02,  2.01957785e-02,  1.13934785e-01,\n",
       "         4.60070401e-01,  3.50889638e-02,  2.76771575e-01,\n",
       "        -1.63073227e-01, -7.71016032e-02, -6.13875315e-02,\n",
       "        -4.34935421e-01,  1.29191354e-01,  5.34823015e-02,\n",
       "         2.38649845e-01, -3.34599108e-01,  1.22548431e-01,\n",
       "        -2.71815360e-01,  1.60913214e-01, -6.61695004e-02,\n",
       "         3.70914817e-01, -1.42067224e-01, -9.84941870e-02,\n",
       "         5.60304858e-02,  6.71291575e-02, -5.95939159e-01,\n",
       "         8.69595557e-02,  2.05920130e-01,  4.21107173e-01,\n",
       "         1.06863648e-01,  2.77080946e-02, -1.15677610e-01,\n",
       "        -5.52625179e-01, -1.74354389e-01, -7.20733777e-02,\n",
       "        -1.11876115e-01,  3.40652764e-01, -1.61289483e-01,\n",
       "         6.50669709e-02, -6.98095113e-02,  8.33352357e-02,\n",
       "        -2.17474759e-01,  4.75145906e-01, -7.74239451e-02,\n",
       "        -1.71099603e-01,  1.95444122e-01, -7.18171224e-02,\n",
       "         3.26628953e-01, -4.39546406e-02,  1.62902385e-01,\n",
       "         1.14235342e-01,  1.87324136e-01, -1.65327132e-01,\n",
       "        -1.17093697e-01, -3.64304841e-01,  6.21292055e-01,\n",
       "         3.02125812e-01,  7.88199976e-02, -1.26343042e-01,\n",
       "         1.13241494e-01, -3.85582983e-01, -5.01180053e-01,\n",
       "         2.57352795e-02,  3.71778347e-02,  6.60914481e-02,\n",
       "        -2.19270349e-01,  4.35345471e-01,  1.97871983e-01,\n",
       "         1.49442106e-01,  1.48159772e-01,  2.40203813e-02,\n",
       "        -1.42405659e-01, -1.14649683e-01,  9.63346567e-03,\n",
       "         3.60928655e-01, -1.31806225e-01,  2.80028909e-01,\n",
       "        -1.75852031e-01,  1.81889772e-01,  1.27147600e-01,\n",
       "         1.50477543e-01, -3.30985785e-01,  1.00273773e-01,\n",
       "        -1.19058639e-01, -5.46950428e-03,  3.16135049e-01,\n",
       "        -7.01217800e-02,  2.75833905e-01,  3.04455049e-02,\n",
       "         2.37781703e-02,  1.22736514e-01,  3.97628695e-02,\n",
       "        -1.32604003e-01, -8.09150264e-02, -1.10153347e-01,\n",
       "        -6.43150881e-03,  1.08035833e-01, -5.66666245e-01,\n",
       "         5.14533594e-02, -8.35183635e-02,  2.94273674e-01,\n",
       "         5.46683908e-01,  4.53953356e-01,  3.12047541e-01,\n",
       "        -1.15641952e-01, -1.89676151e-01,  2.43678749e-01,\n",
       "         3.00409436e-01, -9.98934060e-02,  1.40111804e-01,\n",
       "         6.32359505e-01,  2.87454426e-01, -2.68602192e-01,\n",
       "        -6.18219137e-01, -7.47142881e-02, -4.05347556e-01,\n",
       "         8.04872364e-02, -6.02607012e-01,  1.87907517e-01,\n",
       "         4.02260184e-01, -4.77618694e-01, -2.71388233e-01,\n",
       "        -2.84810185e-01, -1.50056615e-01, -4.13164377e-01,\n",
       "        -2.63727643e-02, -1.02773853e-01, -3.39055002e-01,\n",
       "        -1.26209199e-01, -1.87385172e-01, -2.98036456e-01,\n",
       "         2.85745859e-01, -7.89195299e-02, -5.89922220e-02,\n",
       "         1.50875151e-01, -5.12414724e-02, -2.35880792e-01,\n",
       "        -9.28961784e-02, -7.54864663e-02, -1.90289587e-01,\n",
       "        -2.12867439e-01,  3.36195268e-02, -3.53466481e-01,\n",
       "        -1.32146478e-01, -4.03445631e-01,  2.48651206e-01,\n",
       "        -5.57880700e-02, -8.54232237e-02, -1.24336094e-01,\n",
       "        -2.54656732e-01, -3.79236281e-01,  1.62256479e-01,\n",
       "         1.28861785e-01, -1.69584110e-01,  1.55075043e-02,\n",
       "         2.93673813e-01,  1.87032688e-02,  3.08988810e-01,\n",
       "         2.63978124e-01,  1.10124275e-01, -5.25068283e-01,\n",
       "        -1.75219879e-01, -2.62437880e-01, -4.19532992e-02,\n",
       "        -5.44107676e-01,  4.91808444e-01,  2.42871735e-02,\n",
       "        -2.75000811e-01,  1.21935368e-01,  1.80135611e-02,\n",
       "        -8.11016634e-02,  6.09798670e-01, -3.52869816e-02,\n",
       "         3.10861096e-02,  3.41326296e-01,  3.61285865e-01,\n",
       "        -2.04252191e-02, -1.05007906e-02, -4.00417924e-01,\n",
       "         1.32663056e-01,  1.12116769e-01, -2.39641652e-01,\n",
       "         2.97929883e-01,  8.33230987e-02,  1.53110638e-01,\n",
       "        -5.88380814e-01, -1.24839041e-03, -1.47533715e-01,\n",
       "         2.41172075e-01, -1.68145865e-01,  3.67639847e-02,\n",
       "         7.37530470e-01, -3.69531929e-01, -1.10063672e-01,\n",
       "         3.43168899e-02,  2.34291285e-01,  9.09575447e-03,\n",
       "        -4.66627292e-02,  4.75097001e-02, -3.50368708e-01,\n",
       "         3.21115434e-01,  4.89221364e-01, -7.92447478e-02,\n",
       "        -2.91207790e-01, -1.12719998e-01, -2.36496165e-01,\n",
       "        -2.91163087e-01,  3.01754940e-02,  5.21354303e-02,\n",
       "        -1.45326436e-01,  1.06954388e-03,  2.31951207e-01,\n",
       "         1.66920304e-01,  7.78118297e-02,  1.93223655e-01,\n",
       "        -1.49053663e-01,  3.42347115e-01,  1.43686369e-01,\n",
       "         4.87754308e-02, -1.97345018e-03,  1.95597351e-01,\n",
       "         1.25701860e-01,  9.51813906e-02, -1.54390126e-01,\n",
       "        -3.36209148e-01,  1.51302159e-01,  2.03921944e-02,\n",
       "        -1.57065034e-01,  8.06579813e-02,  1.12579301e-01,\n",
       "         1.32974550e-01,  3.72764170e-01,  2.43972003e-01,\n",
       "         9.13376212e-02,  3.42852592e-01,  3.73858698e-02,\n",
       "        -1.76482737e-01, -1.59713596e-01, -8.53997320e-02,\n",
       "         9.91460215e-03,  5.08060008e-02, -1.34756029e-01,\n",
       "        -7.43207037e-02, -7.58710057e-02,  1.84529126e-01,\n",
       "        -3.84104490e-01, -1.90886170e-01,  5.06771088e-01,\n",
       "        -1.23270908e-02, -3.89522761e-01, -4.13246036e-01,\n",
       "        -4.30694699e-01, -2.79913157e-01, -5.32633290e-02,\n",
       "        -6.49969578e-02,  1.34932488e-01,  2.21694827e-01,\n",
       "         1.53482556e-01, -5.16082160e-02, -8.78299713e-01,\n",
       "         3.56519818e-02, -3.66474502e-02,  3.96473646e-01,\n",
       "        -1.28959134e-01,  1.61494046e-01,  1.69494927e-01,\n",
       "        -4.14305210e-01,  2.09920835e-02,  8.31736326e-02,\n",
       "        -2.42944453e-02,  3.64768624e-01,  5.82500063e-02,\n",
       "         1.66362703e-01, -1.18014172e-01,  2.05430180e-01,\n",
       "         2.12228328e-01, -1.61515728e-01, -2.24207453e-02,\n",
       "         4.20203090e-01, -3.97474438e-01, -8.24843645e-02,\n",
       "         1.41848415e-01,  6.19227588e-02, -3.77521887e-02,\n",
       "         2.20218867e-01,  6.57207472e-03, -5.30060157e-02,\n",
       "        -1.62759185e-01,  2.39796907e-01,  8.90742838e-02,\n",
       "        -2.11773515e-01, -3.19984615e-01, -1.37116406e-02,\n",
       "         1.18990816e-01,  1.65919848e-02,  3.42964679e-02,\n",
       "         7.79314339e-02, -5.76688126e-02, -1.94089830e-01,\n",
       "         8.16732287e-01,  4.62935209e-01, -1.02804340e-02,\n",
       "        -6.93576187e-02, -1.85142070e-01, -6.78162694e-01,\n",
       "         4.05228794e-01,  7.72778094e-02, -1.75861716e-01,\n",
       "         1.73738033e-01, -9.64242995e-01, -5.14078066e-02,\n",
       "         1.45403355e-01,  8.73464271e-02, -3.85783255e-01,\n",
       "         9.99217778e-02,  1.66910291e-01, -9.90762860e-02,\n",
       "         2.40368936e-02, -3.51508856e-02,  1.42657369e-01,\n",
       "        -1.55226499e-01, -5.12518585e-02,  1.64984539e-01,\n",
       "         4.53410506e-01,  1.31094167e-02, -4.66247618e-01,\n",
       "         1.47472322e-01,  2.21870780e-01, -2.61134803e-01,\n",
       "        -3.37217301e-01, -8.23826641e-02,  5.34963273e-02,\n",
       "         2.77432740e-01,  4.15104508e-01,  5.28597057e-01,\n",
       "         5.94714731e-02, -2.99741514e-04, -4.48130429e-01,\n",
       "        -8.78913179e-02,  4.69006956e-01, -2.52477020e-01,\n",
       "         5.59578776e-01, -1.37812912e-01, -2.38967147e-02,\n",
       "         1.73216328e-01,  2.85370886e-01, -6.86303377e-02,\n",
       "        -7.64669478e-02, -1.75011784e-01, -4.21413511e-01,\n",
       "         4.08245057e-01,  3.10580969e-01, -5.47282815e-01,\n",
       "         4.19304296e-02, -2.09648877e-01,  2.28540361e-01,\n",
       "        -1.86790507e-02, -1.39038712e-01,  9.18037891e-01,\n",
       "        -4.40872073e-01, -4.39974070e-01, -5.80675483e-01,\n",
       "        -7.02938810e-02, -9.40488204e-02,  1.37815967e-01,\n",
       "         3.46517451e-02,  1.82095885e-01, -2.72120200e-02,\n",
       "        -2.98693717e-01, -5.69701381e-03,  3.63574117e-01,\n",
       "        -1.21528625e-01,  5.69470152e-02, -1.88475773e-01,\n",
       "        -4.43525851e-01, -1.45046532e-01, -4.12076376e-02,\n",
       "        -3.49812895e-01, -3.47067565e-01,  1.68431610e-01,\n",
       "        -4.02291417e-01,  1.48084760e-01,  4.55632865e-01,\n",
       "         7.84305483e-02, -6.48363829e-02,  1.25948668e-01,\n",
       "         4.00401264e-01, -1.12298831e-01,  6.30091503e-02,\n",
       "        -6.67410865e-02,  2.35241383e-01,  6.53576851e-02,\n",
       "         1.38340387e-02,  2.45121762e-01,  1.38962511e-02,\n",
       "         8.46938863e-02,  5.26525639e-02, -1.69034615e-01,\n",
       "         5.51009253e-02, -1.29618376e-01, -1.58572327e-02,\n",
       "         2.15811357e-02, -9.27214772e-02,  8.71213228e-02,\n",
       "         8.02093558e-03, -3.19124043e-01, -2.38202289e-01,\n",
       "        -3.03021334e-02,  9.86042470e-02, -5.48339225e-02,\n",
       "        -2.39100277e-01, -1.96569517e-01, -3.15815121e-01,\n",
       "         4.87264454e-01, -5.25746159e-02,  2.50212371e-01,\n",
       "         2.81946331e-01,  1.02322340e-01, -3.22531998e-01,\n",
       "        -2.35955477e-01, -1.09443583e-01, -6.51190430e-02,\n",
       "         1.38308883e-01, -1.78389415e-01,  2.10762233e-01,\n",
       "         4.20483708e-01, -2.01420262e-01,  2.64205299e-02,\n",
       "         3.50115299e-01,  2.57792234e-01, -1.90125853e-02,\n",
       "        -1.38000906e-01, -1.56126227e-02,  6.35699034e-02,\n",
       "         2.33492523e-01, -1.21670790e-01,  2.29271352e-02,\n",
       "         6.69778287e-02,  2.22289100e-01, -2.77085781e-01,\n",
       "         4.42427397e-02,  2.16406912e-01,  4.89070475e-01,\n",
       "        -5.69611490e-01, -1.79972887e-01,  2.57915616e-01,\n",
       "        -5.00947058e-01, -3.41638803e-01,  2.87148148e-01,\n",
       "        -3.48909557e-01,  2.77133971e-01, -1.57236680e-02,\n",
       "        -3.05018723e-01,  4.31772023e-02, -4.42836970e-01,\n",
       "         1.94931149e-01,  5.43256283e-01,  3.20708662e-01,\n",
       "        -3.01002990e-02,  1.71945006e-01,  3.80976126e-02,\n",
       "         1.63050771e-01,  2.09479272e-01,  2.77878940e-01,\n",
       "         1.06935464e-01, -1.36430874e-01,  2.55067766e-01,\n",
       "         1.39550358e-01,  8.60541463e-02,  2.21627459e-01,\n",
       "        -4.46666360e-01,  3.37784469e-01, -6.77607298e-01,\n",
       "         1.54356986e-01,  2.35907868e-01,  9.12212431e-02,\n",
       "         2.20330097e-02, -1.92477688e-01, -4.00345325e-02,\n",
       "         9.13777798e-02, -2.45692581e-01, -2.91591585e-01,\n",
       "         2.73635894e-01, -3.57145756e-01, -2.05602676e-01,\n",
       "         1.79345697e-01,  1.48975998e-01, -9.22842324e-02,\n",
       "         8.47046971e-02, -1.81920230e-02,  1.70602411e-01,\n",
       "         5.25564030e-02, -1.17038889e-02, -1.30413607e-01,\n",
       "        -1.20719075e-01, -3.19195271e-01, -4.64363575e-01,\n",
       "         1.43051799e-03, -2.39031121e-01,  1.73276335e-01,\n",
       "         2.12809220e-01,  1.31728016e-02, -1.78131491e-01,\n",
       "         4.93999803e-03,  1.90588720e-02,  2.84805238e-01,\n",
       "         1.82961881e-01, -5.68729751e-02, -2.97056139e-01,\n",
       "         3.86350632e-01,  3.14284801e-01,  6.70695379e-02,\n",
       "        -5.54054826e-02, -1.41627282e-01,  2.54127860e-01,\n",
       "         2.57628202e-01, -4.09709103e-03, -2.19914153e-01,\n",
       "        -1.87178060e-01, -1.39018856e-02, -1.21367797e-01,\n",
       "        -2.75234226e-02,  2.15111464e-01, -3.61467674e-02,\n",
       "        -5.81133246e-01,  2.41493762e-01,  8.54103118e-02,\n",
       "         2.11081505e-01, -1.71785176e-01,  2.80186594e-01,\n",
       "        -4.20397758e-01, -4.42415290e-02, -5.79376705e-02,\n",
       "         1.81283861e-01, -3.67667824e-01,  1.06445916e-01,\n",
       "        -1.63554430e-01, -1.60861552e-01, -6.41368106e-02,\n",
       "        -3.58738303e-01, -7.74482545e-03, -3.48143965e-01,\n",
       "        -5.74752763e-02, -1.30577296e-01, -2.62838662e-01,\n",
       "        -2.52024569e-02, -5.63763738e-01,  1.10588551e-01,\n",
       "         1.82783857e-01,  4.37181115e-01, -2.59578109e-01,\n",
       "         7.18853623e-02, -6.30399585e-01, -4.79364812e-01,\n",
       "         3.08522224e-01,  1.07103124e-01,  3.00014205e-02,\n",
       "         4.59804714e-01,  4.47972026e-03, -4.31661218e-01,\n",
       "         3.13125640e-01, -1.98180765e-01, -1.77599862e-01,\n",
       "         2.02841118e-01, -5.40494099e-02,  1.06204553e-02,\n",
       "        -4.22043234e-01, -6.52819633e-01, -1.36192799e-01,\n",
       "        -4.22734678e-01, -6.30907357e-01, -2.01730043e-01]])"
      ]
     },
     "execution_count": 37,
     "metadata": {},
     "output_type": "execute_result"
    }
   ],
   "source": [
    "df_injury['판례내용이유임베딩'].iloc[0]"
   ]
  },
  {
   "cell_type": "code",
   "execution_count": 38,
   "metadata": {},
   "outputs": [
    {
     "data": {
      "text/plain": [
       "\"['폭행', '회사', '경찰관', '치료', '의사', '형사소송법', '오해', '징계', '사고', '경찰']\""
      ]
     },
     "execution_count": 38,
     "metadata": {},
     "output_type": "execute_result"
    }
   ],
   "source": [
    "df_injury['키워드'].iloc[0]"
   ]
  },
  {
   "cell_type": "code",
   "execution_count": 39,
   "metadata": {},
   "outputs": [],
   "source": [
    "df_injury['키워드'] = df_injury['키워드'].apply(lambda x : x.replace('[','').replace(']','').replace(\"'\",\"\").split(', '))"
   ]
  },
  {
   "cell_type": "code",
   "execution_count": 40,
   "metadata": {},
   "outputs": [
    {
     "data": {
      "text/plain": [
       "['폭행', '회사', '경찰관', '치료', '의사', '형사소송법', '오해', '징계', '사고', '경찰']"
      ]
     },
     "execution_count": 40,
     "metadata": {},
     "output_type": "execute_result"
    }
   ],
   "source": [
    "df_injury['키워드'].iloc[0]"
   ]
  },
  {
   "cell_type": "code",
   "execution_count": 41,
   "metadata": {},
   "outputs": [
    {
     "data": {
      "text/plain": [
       "클러스터\n",
       "4    1996\n",
       "1    1020\n",
       "3     716\n",
       "2     457\n",
       "Name: count, dtype: int64"
      ]
     },
     "execution_count": 41,
     "metadata": {},
     "output_type": "execute_result"
    }
   ],
   "source": [
    "df_injury['클러스터'].value_counts()"
   ]
  },
  {
   "cell_type": "code",
   "execution_count": 43,
   "metadata": {},
   "outputs": [
    {
     "name": "stdout",
     "output_type": "stream",
     "text": [
      "사용자 키워드와 관련된 사건명 :\n",
      "사건번호: 92도737, 사건명: 폭력행위등처벌에관한법률위반,특정경제범죄가중처벌등에관한법률위반,총포·도검·화약류등단속법위반, 유사도: 0.7059\n",
      "사건번호: 2006노2161, 사건명: 폭력행위등처벌에관한법률위반(집단·흉기등상해), 유사도: 0.7051\n",
      "사건번호: 85도1717, 사건명: 자동차운전면허취소처분취소, 유사도: 0.7032\n",
      "사건번호: 2004가합2605, 사건명: 손해배상(기)등, 유사도: 0.6963\n",
      "사건번호: 89도2260, 사건명: 특정범죄가중처벌등에관한법률위반,강도상해,폭력행위등처벌에관한법률위반, 유사도: 0.6950\n",
      "사건번호: 83도1258, 사건명: 국회의원선거법위반등피고사건, 유사도: 0.6930\n",
      "사건번호: 83도3343, 사건명: 강도상해ㆍ특수강도ㆍ특수강도미수ㆍ강도예비ㆍ폭력행위등처벌에관한법률위반, 유사도: 0.6926\n",
      "사건번호: 85도2514, 사건명: 상해치사,향정신성의약품관리위반, 유사도: 0.6917\n",
      "사건번호: 83도2407, 사건명: 폭력행위등처벌에관한법률위반, 유사도: 0.6909\n",
      "사건번호: 2002도6154, 사건명: 상해·금융실명거래및비밀보장에관한법률위반, 유사도: 0.6906\n"
     ]
    }
   ],
   "source": [
    "import pandas as pd\n",
    "import numpy as np\n",
    "from sklearn.metrics.pairwise import cosine_similarity\n",
    "\n",
    "# 사용자 키워드에 대한 임베딩을 찾기 위한 함수\n",
    "def get_keyword_embedding(user_keyword, df):\n",
    "    # 키워드가 포함된 행을 필터링\n",
    "    matching_rows = df[df['키워드'].apply(lambda x: user_keyword in x if isinstance(x, list) else False)]\n",
    "    \n",
    "    if not matching_rows.empty:\n",
    "        # 첫 번째 매칭된 키워드의 임베딩을 반환\n",
    "        return matching_rows['키워드임베딩'].iloc[0]\n",
    "    else:\n",
    "        return None  # 매칭되는 키워드가 없으면 None 반환\n",
    "\n",
    "# 사용자 입력\n",
    "user_keyword = \"회사\"  # 사용자가 입력한 키워드\n",
    "user_keyword_embedding = get_keyword_embedding(user_keyword, df_injury)\n",
    "\n",
    "if user_keyword_embedding is not None:\n",
    "    # 판례내용 임베딩 유사도 계산 및 사건명 추출\n",
    "    content_similarity_scores = []\n",
    "\n",
    "    for idx, row in df_injury.iterrows():\n",
    "        if row['판례내용이유임베딩'] is not None and not np.isnan(row['판례내용이유임베딩']).any():\n",
    "            # 판례내용 임베딩과 사용자 키워드 임베딩 간의 유사도 계산\n",
    "            content_similarity = cosine_similarity(user_keyword_embedding.reshape(1, -1), row['판례내용이유임베딩'].reshape(1, -1)).flatten()[0]\n",
    "            content_similarity_scores.append((row['사건번호'], content_similarity))\n",
    "\n",
    "    # 유사도 기준으로 정렬 및 상위 N개 선택\n",
    "    sorted_content_scores = sorted(content_similarity_scores, key=lambda x: x[1], reverse=True)\n",
    "    top_n_contents = sorted_content_scores[:10]\n",
    "\n",
    "    # 추천 사건명 출력\n",
    "    print(\"사용자 키워드와 관련된 사건명 :\")\n",
    "    for 사건번호, score in top_n_contents:\n",
    "        사건명 = df_injury.loc[df_injury['사건번호'] == 사건번호, '사건명'].values\n",
    "        사건명 = 사건명[0] if 사건명.size > 0 else \"사건명 없음\"\n",
    "        print(f\"사건번호: {사건번호}, 사건명: {사건명}, 유사도: {score:.4f}\")\n",
    "else:\n",
    "    print(\"해당 키워드에 대한 임베딩이 없습니다.\")"
   ]
  },
  {
   "cell_type": "markdown",
   "metadata": {},
   "source": [
    "# 데이터베이스에 임베딩된 파일 저장"
   ]
  },
  {
   "cell_type": "code",
   "execution_count": 53,
   "metadata": {},
   "outputs": [
    {
     "name": "stdout",
     "output_type": "stream",
     "text": [
      "<class 'pandas.core.frame.DataFrame'>\n",
      "RangeIndex: 4189 entries, 0 to 4188\n",
      "Data columns (total 16 columns):\n",
      " #   Column         Non-Null Count  Dtype \n",
      "---  ------         --------------  ----- \n",
      " 0   판례일련번호         4189 non-null   int64 \n",
      " 1   사건번호           4189 non-null   object\n",
      " 2   선고일자           4189 non-null   object\n",
      " 3   판시사항           3417 non-null   object\n",
      " 4   판결요지           3028 non-null   object\n",
      " 5   판례내용_상단        4189 non-null   object\n",
      " 6   판례내용_이유        4184 non-null   object\n",
      " 7   판례내용_이유_전처리    4189 non-null   object\n",
      " 8   판례내용_이유_불용어제거  4184 non-null   object\n",
      " 9   클러스터           4189 non-null   int64 \n",
      " 10  키워드            4189 non-null   object\n",
      " 11  사건명            4188 non-null   object\n",
      " 12  판례내용이유임베딩      4184 non-null   object\n",
      " 13  키워드임베딩         4189 non-null   object\n",
      " 14  판결요지임베딩        3028 non-null   object\n",
      " 15  판시사항임베딩        3417 non-null   object\n",
      "dtypes: int64(2), object(14)\n",
      "memory usage: 523.8+ KB\n"
     ]
    }
   ],
   "source": [
    "df_injury_embedding = pd.read_csv('data/df_injury_embedding.csv', index_col=False)\n",
    "df_injury_embedding.info()"
   ]
  },
  {
   "cell_type": "code",
   "execution_count": 54,
   "metadata": {},
   "outputs": [
    {
     "name": "stdout",
     "output_type": "stream",
     "text": [
      "<class 'pandas.core.frame.DataFrame'>\n",
      "RangeIndex: 4189 entries, 0 to 4188\n",
      "Data columns (total 7 columns):\n",
      " #   Column     Non-Null Count  Dtype \n",
      "---  ------     --------------  ----- \n",
      " 0   판례일련번호     4189 non-null   int64 \n",
      " 1   사건번호       4189 non-null   object\n",
      " 2   사건명        4188 non-null   object\n",
      " 3   판례내용이유임베딩  4184 non-null   object\n",
      " 4   키워드임베딩     4189 non-null   object\n",
      " 5   판결요지임베딩    3028 non-null   object\n",
      " 6   판시사항임베딩    3417 non-null   object\n",
      "dtypes: int64(1), object(6)\n",
      "memory usage: 229.2+ KB\n"
     ]
    }
   ],
   "source": [
    "df_injury_embedding.drop(columns=['선고일자','판시사항','판결요지','판례내용_상단','판례내용_이유','판례내용_이유_전처리','판례내용_이유_불용어제거','클러스터','키워드'], inplace=True)\n",
    "df_injury_embedding.info()"
   ]
  },
  {
   "cell_type": "code",
   "execution_count": 55,
   "metadata": {},
   "outputs": [
    {
     "name": "stdout",
     "output_type": "stream",
     "text": [
      "데이터베이스 저장 완료\n"
     ]
    }
   ],
   "source": [
    "# db로 저장\n",
    "import pandas as pd\n",
    "from sqlalchemy import create_engine\n",
    "from sqlalchemy.dialects.mysql import LONGTEXT, TEXT\n",
    "from db_info import user, password, host, port, database\n",
    "\n",
    "####pandas dataframe에서는 불러올때 타입을 기본str로 불러와서 긴내용의 데이터삽입을 하려면 dtype을 설정해줘야함####\n",
    "dtype = {\n",
    "    '사건번호' : TEXT,\n",
    "    '사건명': TEXT,\n",
    "    '판례내용임베딩': TEXT,\n",
    "    '키워드임베딩': TEXT,\n",
    "    '판결요지임베딩': TEXT,\n",
    "    '판시사항임베딩': TEXT\n",
    "}\n",
    "#판례내용_이유,판례내용_이유(전처리),판례내용_이유(불용어제거),클러스터,키워드\n",
    "\n",
    "# DB정보\n",
    "user = user\n",
    "password = password\n",
    "host = host\n",
    "port = port\n",
    "database = database\n",
    "\n",
    "# CSV 파일 로드\n",
    "# df_injury = pd.read_csv('data/상해_본문2.csv')\n",
    "# df_fraud = pd.read_csv('data/사기_본문2.csv')\n",
    "# df_inheritance = pd.read_csv('data/상속_본문2.csv')\n",
    "# df_labor = pd.read_csv('data/근로_본문2.csv')\n",
    "\n",
    "# MySQL 데이터베이스 연결 설정\n",
    "engine = create_engine(f\"mysql+pymysql://{user}:{password}@{host}:{port}/{database}\")\n",
    "\n",
    "# 데이터프레임을 MySQL 테이블에 저장\n",
    "# df_injury.to_sql(name='injury_content', con=engine, if_exists='replace', index=False, dtype=dtype)\n",
    "# df_fraud.to_sql('fraud_content', con=engine, if_exists='replace', index=False, dtype=dtype)\n",
    "# df_inheritance.to_sql('inheritance_content', con=engine, if_exists='replace', index=False, dtype=dtype)\n",
    "# df_labor.to_sql('labor_content', con=engine, if_exists='replace', index=False, dtype=dtype)\n",
    "df_injury_embedding.to_sql('injury_embedding', con=engine, if_exists='replace', index=False, dtype=dtype)\n",
    "\n",
    "# 연결 닫기\n",
    "engine.dispose()\n",
    "\n",
    "print(\"데이터베이스 저장 완료\")"
   ]
  },
  {
   "cell_type": "code",
   "execution_count": null,
   "metadata": {},
   "outputs": [],
   "source": []
  }
 ],
 "metadata": {
  "kernelspec": {
   "display_name": "nof",
   "language": "python",
   "name": "python3"
  },
  "language_info": {
   "codemirror_mode": {
    "name": "ipython",
    "version": 3
   },
   "file_extension": ".py",
   "mimetype": "text/x-python",
   "name": "python",
   "nbconvert_exporter": "python",
   "pygments_lexer": "ipython3",
   "version": "3.12.7"
  }
 },
 "nbformat": 4,
 "nbformat_minor": 2
}
