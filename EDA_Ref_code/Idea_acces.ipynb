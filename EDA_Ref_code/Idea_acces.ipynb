{
 "cells": [
  {
   "cell_type": "markdown",
   "metadata": {},
   "source": [
    "머신러닝 기반 서비스\n",
    "1. 법률 질문 응답 시스템\n",
    "이 시스템은 사용자의 질문을 분류하고 유사한 질문과 답변을 찾아주는 간단한 예제를 보여줍니다."
   ]
  },
  {
   "cell_type": "code",
   "execution_count": null,
   "metadata": {
    "vscode": {
     "languageId": "plaintext"
    }
   },
   "outputs": [],
   "source": [
    "import pandas as pd\n",
    "from sklearn.feature_extraction.text import TfidfVectorizer\n",
    "from sklearn.neighbors import NearestNeighbors\n",
    "\n",
    "# 질문-답변 데이터셋\n",
    "data = {\n",
    "    'questions': [\n",
    "        \"내 계약이 유효한가요?\",\n",
    "        \"법원에 소송을 제기하려면 어떻게 하나요?\",\n",
    "        \"이혼 절차는 어떻게 되나요?\",\n",
    "        \"상속을 받으려면 어떻게 해야 하나요?\"\n",
    "    ],\n",
    "    'answers': [\n",
    "        \"계약이 유효하려면 양 당사자의 동의가 필요합니다.\",\n",
    "        \"소송을 제기하려면 먼저 소장 작성이 필요합니다.\",\n",
    "        \"이혼 절차는 법원에 청구서를 제출하는 것부터 시작됩니다.\",\n",
    "        \"상속을 받으려면 상속재산에 대한 신고가 필요합니다.\"\n",
    "    ]\n",
    "}\n",
    "\n",
    "df = pd.DataFrame(data)\n",
    "\n",
    "# TF-IDF 벡터화\n",
    "vectorizer = TfidfVectorizer()\n",
    "X = vectorizer.fit_transform(df['questions'])\n",
    "\n",
    "# 최근접 이웃 모델 훈련\n",
    "model = NearestNeighbors(n_neighbors=1)\n",
    "model.fit(X)\n",
    "\n",
    "# 질문을 입력받아 가장 유사한 질문 찾기\n",
    "def find_answer(user_question):\n",
    "    user_vector = vectorizer.transform([user_question])\n",
    "    _, indices = model.kneighbors(user_vector)\n",
    "    return df['answers'].iloc[indices[0]].values[0]\n",
    "\n",
    "# 예시 질문\n",
    "user_question = \"계약이 유효한지 궁금합니다.\"\n",
    "answer = find_answer(user_question)\n",
    "print(\"답변:\", answer)\n"
   ]
  },
  {
   "cell_type": "code",
   "execution_count": null,
   "metadata": {
    "vscode": {
     "languageId": "plaintext"
    }
   },
   "outputs": [],
   "source": [
    "## 1. 법률 질문 응답 시스템 (학습 추가)\n",
    "\n",
    "\n",
    "import pandas as pd\n",
    "from sklearn.feature_extraction.text import TfidfVectorizer\n",
    "from sklearn.neighbors import NearestNeighbors\n",
    "from sklearn.model_selection import train_test_split\n",
    "from sklearn.metrics import accuracy_score\n",
    "\n",
    "# 질문-답변 데이터셋\n",
    "data = {\n",
    "    'questions': [\n",
    "        \"내 계약이 유효한가요?\",\n",
    "        \"법원에 소송을 제기하려면 어떻게 하나요?\",\n",
    "        \"이혼 절차는 어떻게 되나요?\",\n",
    "        \"상속을 받으려면 어떻게 해야 하나요?\",\n",
    "        \"법률 상담은 어디서 받을 수 있나요?\"\n",
    "    ],\n",
    "    'answers': [\n",
    "        \"계약이 유효하려면 양 당사자의 동의가 필요합니다.\",\n",
    "        \"소송을 제기하려면 먼저 소장 작성이 필요합니다.\",\n",
    "        \"이혼 절차는 법원에 청구서를 제출하는 것부터 시작됩니다.\",\n",
    "        \"상속을 받으려면 상속재산에 대한 신고가 필요합니다.\",\n",
    "        \"법률 상담은 변호사 사무실이나 법률 상담 센터에서 가능합니다.\"\n",
    "    ]\n",
    "}\n",
    "\n",
    "df = pd.DataFrame(data)\n",
    "\n",
    "# TF-IDF 벡터화\n",
    "vectorizer = TfidfVectorizer()\n",
    "X = vectorizer.fit_transform(df['questions'])\n",
    "\n",
    "# 질문-답변 쌍 생성\n",
    "y = df['answers']\n",
    "\n",
    "# 데이터 분할\n",
    "X_train, X_test, y_train, y_test = train_test_split(X, y, test_size=0.2, random_state=42)\n",
    "\n",
    "# 최근접 이웃 모델 훈련\n",
    "model = NearestNeighbors(n_neighbors=1)\n",
    "model.fit(X_train)\n",
    "\n",
    "# 질문을 입력받아 가장 유사한 질문 찾기\n",
    "def find_answer(user_question):\n",
    "    user_vector = vectorizer.transform([user_question])\n",
    "    _, indices = model.kneighbors(user_vector)\n",
    "    return df['answers'].iloc[indices[0]].values[0]\n",
    "\n",
    "# 예시 질문\n",
    "user_question = \"계약이 유효한지 궁금합니다.\"\n",
    "answer = find_answer(user_question)\n",
    "print(\"답변:\", answer)\n",
    "\n",
    "# 예측 및 평가\n",
    "y_pred = [find_answer(q) for q in X_test]\n",
    "print(\"예측 정확도:\", accuracy_score(y_test, y_pred))\n"
   ]
  },
  {
   "cell_type": "markdown",
   "metadata": {},
   "source": [
    "2. 사건 예측 서비스\n",
    "이 모델은 사건 데이터를 기반으로 사건의 결과를 예측합니다."
   ]
  },
  {
   "cell_type": "code",
   "execution_count": null,
   "metadata": {
    "vscode": {
     "languageId": "plaintext"
    }
   },
   "outputs": [],
   "source": [
    "import pandas as pd\n",
    "from sklearn.model_selection import train_test_split\n",
    "from sklearn.ensemble import RandomForestClassifier\n",
    "from sklearn.metrics import classification_report\n",
    "\n",
    "# 예시 사건 데이터 (features: 사건의 특성, label: 사건 결과)\n",
    "data = {\n",
    "    'feature1': [1, 2, 1, 2, 1],\n",
    "    'feature2': [3, 3, 1, 1, 3],\n",
    "    'outcome': [1, 0, 1, 0, 1]  # 1: 원고 승소, 0: 피고 승소\n",
    "}\n",
    "\n",
    "df = pd.DataFrame(data)\n",
    "\n",
    "# 피처와 레이블 설정\n",
    "X = df[['feature1', 'feature2']]\n",
    "y = df['outcome']\n",
    "\n",
    "# 데이터 분할\n",
    "X_train, X_test, y_train, y_test = train_test_split(X, y, test_size=0.2, random_state=42)\n",
    "\n",
    "# Random Forest 모델 훈련\n",
    "model = RandomForestClassifier()\n",
    "model.fit(X_train, y_train)\n",
    "\n",
    "# 예측 및 평가\n",
    "y_pred = model.predict(X_test)\n",
    "print(classification_report(y_test, y_pred))\n"
   ]
  },
  {
   "cell_type": "code",
   "execution_count": null,
   "metadata": {
    "vscode": {
     "languageId": "plaintext"
    }
   },
   "outputs": [],
   "source": [
    "## 2. 사건 예측 서비스 (학습 및 최적화)\n",
    "## 사건 데이터의 예측 성능을 향상시키기 위해 Random Forest의 하이퍼파라미터 조정을 추가합니다.\n",
    "\n",
    "import pandas as pd\n",
    "from sklearn.model_selection import train_test_split, GridSearchCV\n",
    "from sklearn.ensemble import RandomForestClassifier\n",
    "from sklearn.metrics import classification_report\n",
    "\n",
    "# 예시 사건 데이터 (features: 사건의 특성, label: 사건 결과)\n",
    "data = {\n",
    "    'feature1': [1, 2, 1, 2, 1, 2, 1, 2],\n",
    "    'feature2': [3, 3, 1, 1, 3, 3, 1, 1],\n",
    "    'outcome': [1, 0, 1, 0, 1, 0, 1, 0]  # 1: 원고 승소, 0: 피고 승소\n",
    "}\n",
    "\n",
    "df = pd.DataFrame(data)\n",
    "\n",
    "# 피처와 레이블 설정\n",
    "X = df[['feature1', 'feature2']]\n",
    "y = df['outcome']\n",
    "\n",
    "# 데이터 분할\n",
    "X_train, X_test, y_train, y_test = train_test_split(X, y, test_size=0.2, random_state=42)\n",
    "\n",
    "# 하이퍼파라미터 조정\n",
    "param_grid = {\n",
    "    'n_estimators': [10, 50, 100],\n",
    "    'max_depth': [None, 10, 20, 30]\n",
    "}\n",
    "\n",
    "grid_search = GridSearchCV(RandomForestClassifier(), param_grid, cv=5, scoring='accuracy')\n",
    "grid_search.fit(X_train, y_train)\n",
    "\n",
    "# 최적 모델\n",
    "best_model = grid_search.best_estimator_\n",
    "\n",
    "# 예측 및 평가\n",
    "y_pred = best_model.predict(X_test)\n",
    "print(classification_report(y_test, y_pred))\n"
   ]
  },
  {
   "cell_type": "markdown",
   "metadata": {},
   "source": [
    "3. 법률 문서 자동 생성기\n",
    "입력 정보를 기반으로 간단한 법률 문서를 자동 생성하는 예제입니다."
   ]
  },
  {
   "cell_type": "code",
   "execution_count": null,
   "metadata": {
    "vscode": {
     "languageId": "plaintext"
    }
   },
   "outputs": [],
   "source": [
    "def generate_legal_document(client_name, case_details):\n",
    "    document = f\"\"\"\n",
    "    법률 문서\n",
    "    \n",
    "    고객 이름: {client_name}\n",
    "    사건 내용: {case_details}\n",
    "    \n",
    "    이 문서는 법률 상담의 결과로 작성되었습니다.\n",
    "    \"\"\"\n",
    "    return document\n",
    "\n",
    "# 예시 입력\n",
    "client_name = \"홍길동\"\n",
    "case_details = \"계약 불이행으로 인한 소송\"\n",
    "\n",
    "# 법률 문서 생성\n",
    "legal_document = generate_legal_document(client_name, case_details)\n",
    "print(legal_document)\n"
   ]
  },
  {
   "cell_type": "code",
   "execution_count": null,
   "metadata": {
    "vscode": {
     "languageId": "plaintext"
    }
   },
   "outputs": [],
   "source": [
    "## 3. 법률 문서 자동 생성기\n",
    "## 법률 문서 자동 생성기는 추가적인 기능이 필요하지 않지만, 사용자 입력의 유효성을 검사하는 코드를 추가합니다\n",
    "\n",
    "\n",
    "def generate_legal_document(client_name, case_details):\n",
    "    if not client_name or not case_details:\n",
    "        raise ValueError(\"고객 이름과 사건 내용은 필수 입력입니다.\")\n",
    "    \n",
    "    document = f\"\"\"\n",
    "    법률 문서\n",
    "    \n",
    "    고객 이름: {client_name}\n",
    "    사건 내용: {case_details}\n",
    "    \n",
    "    이 문서는 법률 상담의 결과로 작성되었습니다.\n",
    "    \"\"\"\n",
    "    return document\n",
    "\n",
    "# 예시 입력\n",
    "client_name = \"홍길동\"\n",
    "case_details = \"계약 불이행으로 인한 소송\"\n",
    "\n",
    "# 법률 문서 생성\n",
    "legal_document = generate_legal_document(client_name, case_details)\n",
    "print(legal_document)\n"
   ]
  },
  {
   "cell_type": "markdown",
   "metadata": {},
   "source": [
    "딥러닝 기반 서비스\n",
    "1. 법률 상담 챗봇\n",
    "챗봇을 구축하기 위해 사전 학습된 모델을 활용합니다. 여기서는 Hugging Face의 Transformers 라이브러리를 사용합니다."
   ]
  },
  {
   "cell_type": "code",
   "execution_count": null,
   "metadata": {
    "vscode": {
     "languageId": "plaintext"
    }
   },
   "outputs": [],
   "source": [
    "from transformers import AutoModelForCausalLM, AutoTokenizer\n",
    "\n",
    "# 모델과 토크나이저 로드\n",
    "model_name = \"microsoft/DialoGPT-medium\"\n",
    "tokenizer = AutoTokenizer.from_pretrained(model_name)\n",
    "model = AutoModelForCausalLM.from_pretrained(model_name)\n",
    "\n",
    "def chatbot_response(user_input):\n",
    "    # 사용자 입력 인코딩\n",
    "    new_user_input_ids = tokenizer.encode(user_input + tokenizer.eos_token, return_tensors='pt')\n",
    "    \n",
    "    # 모델 응답 생성\n",
    "    bot_input_ids = new_user_input_ids\n",
    "    chat_history_ids = model.generate(bot_input_ids, max_length=1000, pad_token_id=tokenizer.eos_token_id)\n",
    "    \n",
    "    # 응답 디코딩\n",
    "    bot_response = tokenizer.decode(chat_history_ids[:, bot_input_ids.shape[-1]:][0], skip_special_tokens=True)\n",
    "    return bot_response\n",
    "\n",
    "# 예시 대화\n",
    "user_input = \"법원에 소송을 제기하려면 어떻게 해야 하나요?\"\n",
    "response = chatbot_response(user_input)\n",
    "print(\"챗봇 응답:\", response)\n"
   ]
  },
  {
   "cell_type": "code",
   "execution_count": null,
   "metadata": {
    "vscode": {
     "languageId": "plaintext"
    }
   },
   "outputs": [],
   "source": [
    "## 1. 법률 상담 챗봇\n",
    "## 딥러닝 모델 학습을 위해 데이터를 수집하고 Fine-tuning을 진행합니다.\n",
    "\n",
    "from transformers import Trainer, TrainingArguments\n",
    "\n",
    "# 데이터셋 준비 (여기서는 간단한 예제)\n",
    "train_texts = [\n",
    "    \"법원에 소송을 제기하려면 어떻게 해야 하나요?\",\n",
    "    \"계약이 유효한가요?\",\n",
    "    \"이혼 절차는 어떻게 되나요?\"\n",
    "]\n",
    "train_labels = [\n",
    "    \"소송 제기 방법 설명\",\n",
    "    \"계약 유효성에 대한 설명\",\n",
    "    \"이혼 절차 설명\"\n",
    "]\n",
    "\n",
    "# 입력 데이터 변환\n",
    "train_encodings = tokenizer(train_texts, truncation=True, padding=True)\n",
    "\n",
    "# 모델 학습을 위한 데이터셋 클래스 정의\n",
    "import torch\n",
    "\n",
    "class LegalDataset(torch.utils.data.Dataset):\n",
    "    def __init__(self, encodings, labels):\n",
    "        self.encodings = encodings\n",
    "        self.labels = labels\n",
    "\n",
    "    def __getitem__(self, idx):\n",
    "        item = {key: torch.tensor(val[idx]) for key, val in self.encodings.items()}\n",
    "        item['labels'] = torch.tensor(self.labels[idx])\n",
    "        return item\n",
    "\n",
    "    def __len__(self):\n",
    "        return len(self.labels)\n",
    "\n",
    "# 데이터셋 객체 생성\n",
    "train_dataset = LegalDataset(train_encodings, train_labels)\n",
    "\n",
    "# 학습 파라미터 설정\n",
    "training_args = TrainingArguments(\n",
    "    output_dir='./results',\n",
    "    num_train_epochs=3,\n",
    "    per_device_train_batch_size=2,\n",
    "    warmup_steps=500,\n",
    "    weight_decay=0.01,\n",
    "    logging_dir='./logs',\n",
    ")\n",
    "\n",
    "# Trainer 객체 생성\n",
    "trainer = Trainer(\n",
    "    model=model,\n",
    "    args=training_args,\n",
    "    train_dataset=train_dataset,\n",
    ")\n",
    "\n",
    "# 모델 학습\n",
    "trainer.train()\n"
   ]
  },
  {
   "cell_type": "markdown",
   "metadata": {},
   "source": [
    "2. 판례 분석 및 추천 시스템\n",
    "입력된 사건 설명에 대한 유사한 판례를 추천하는 간단한 예제를 구현합니다."
   ]
  },
  {
   "cell_type": "code",
   "execution_count": null,
   "metadata": {
    "vscode": {
     "languageId": "plaintext"
    }
   },
   "outputs": [],
   "source": [
    "import pandas as pd\n",
    "from sklearn.feature_extraction.text import TfidfVectorizer\n",
    "from sklearn.neighbors import NearestNeighbors\n",
    "\n",
    "# 판례 데이터셋\n",
    "case_data = {\n",
    "    'case_description': [\n",
    "        \"계약 불이행 사건\",\n",
    "        \"상속 분쟁 사건\",\n",
    "        \"이혼 소송 사건\",\n",
    "        \"범죄 피해자 소송 사건\"\n",
    "    ],\n",
    "    'case_reference': [\n",
    "        \"사건 A 판례\",\n",
    "        \"사건 B 판례\",\n",
    "        \"사건 C 판례\",\n",
    "        \"사건 D 판례\"\n",
    "    ]\n",
    "}\n",
    "\n",
    "case_df = pd.DataFrame(case_data)\n",
    "\n",
    "# TF-IDF 벡터화\n",
    "vectorizer = TfidfVectorizer()\n",
    "X_cases = vectorizer.fit_transform(case_df['case_description'])\n",
    "\n",
    "# 최근접 이웃 모델 훈련\n",
    "knn_model = NearestNeighbors(n_neighbors=1)\n",
    "knn_model.fit(X_cases)\n",
    "\n",
    "# 사건 설명을 입력받아 관련 판례 추천\n",
    "def recommend_case(user_case_description):\n",
    "    user_vector = vectorizer.transform([user_case_description])\n",
    "    _, indices = knn_model.kneighbors(user_vector)\n",
    "    return case_df['case_reference'].iloc[indices[0]].values[0]\n",
    "\n",
    "# 예시 사건 설명\n",
    "user_case_description = \"계약을 이행하지 않은 사건\"\n",
    "recommended_case = recommend_case(user_case_description)\n",
    "print(\"추천 판례:\", recommended_case)\n"
   ]
  },
  {
   "cell_type": "code",
   "execution_count": null,
   "metadata": {
    "vscode": {
     "languageId": "plaintext"
    }
   },
   "outputs": [],
   "source": [
    "## 판례 분석 및 추천 시스템 학습추가 \n",
    "\n",
    "import pandas as pd\n",
    "from sklearn.feature_extraction.text import TfidfVectorizer\n",
    "from sklearn.neighbors import NearestNeighbors\n",
    "\n",
    "# 판례 데이터셋\n",
    "case_data = {\n",
    "    'case_description': [\n",
    "        \"계약 불이행 사건\",\n",
    "        \"상속 분쟁 사건\",\n",
    "        \"이혼 소송 사건\",\n",
    "        \"범죄 피해자 소송 사건\",\n",
    "        \"부동산 계약 사건\"\n",
    "    ],\n",
    "    'case_reference': [\n",
    "        \"사건 A 판례\",\n",
    "        \"사건 B 판례\",\n",
    "        \"사건 C 판례\",\n",
    "        \"사건 D 판례\",\n",
    "        \"사건 E 판례\"\n",
    "    ]\n",
    "}\n",
    "\n",
    "case_df = pd.DataFrame(case_data)\n",
    "\n",
    "# TF-IDF 벡터화\n",
    "vectorizer = TfidfVectorizer()\n",
    "X_cases = vectorizer.fit_transform(case_df['case_description'])\n",
    "\n",
    "# 최근접 이웃 모델 훈련\n",
    "knn_model = NearestNeighbors(n_neighbors=1)\n",
    "knn_model.fit(X_cases)\n",
    "\n",
    "# 사건 설명을 입력받아 관련 판례 추천\n",
    "def recommend_case(user_case_description):\n",
    "    user_vector = vectorizer.transform([user_case_description])\n",
    "    _, indices = knn_model.kneighbors(user_vector)\n",
    "    return case_df['case_reference'].iloc[indices[0]].values[0]\n",
    "\n",
    "# 예시 사건 설명\n",
    "user_case_description = \"계약을 이행하지 않은 사건\"\n",
    "recommended_case = recommend_case(user_case_description)\n",
    "print(\"추천 판례:\", recommended_case)\n"
   ]
  },
  {
   "cell_type": "code",
   "execution_count": null,
   "metadata": {
    "vscode": {
     "languageId": "plaintext"
    }
   },
   "outputs": [],
   "source": [
    "## 판례추천(학습)\n",
    "\n",
    "import pandas as pd\n",
    "from sklearn.feature_extraction.text import TfidfVectorizer\n",
    "from sklearn.neighbors import NearestNeighbors\n",
    "from sklearn.model_selection import train_test_split, GridSearchCV\n",
    "from sklearn.pipeline import make_pipeline\n",
    "\n",
    "# 판례 데이터셋\n",
    "case_data = {\n",
    "    'case_description': [\n",
    "        \"계약 불이행 사건\",\n",
    "        \"상속 분쟁 사건\",\n",
    "        \"이혼 소송 사건\",\n",
    "        \"범죄 피해자 소송 사건\"\n",
    "    ],\n",
    "    'case_reference': [\n",
    "        \"사건 A 판례\",\n",
    "        \"사건 B 판례\",\n",
    "        \"사건 C 판례\",\n",
    "        \"사건 D 판례\"\n",
    "    ]\n",
    "}\n",
    "\n",
    "case_df = pd.DataFrame(case_data)\n",
    "\n",
    "# 데이터 분할\n",
    "X_train, X_test = train_test_split(case_df['case_description'], test_size=0.2, random_state=42)\n",
    "\n",
    "# 파이프라인 및 그리드 서치\n",
    "pipeline = make_pipeline(TfidfVectorizer(), NearestNeighbors())\n",
    "param_grid = {'nearestneighbors__n_neighbors': [1, 2, 3]}\n",
    "grid_search = GridSearchCV(pipeline, param_grid, cv=5)\n",
    "grid_search.fit(X_train)\n",
    "\n",
    "# 최적 모델 사용\n",
    "model = grid_search.best_estimator_\n",
    "\n",
    "# 사건 설명을 입력받아 관련 판례 추천\n",
    "def recommend_case(user_case_description):\n",
    "    user_vector = model.transform([user_case_description])\n",
    "    _, indices = model.kneighbors(user_vector)\n",
    "    return case_df['case_reference'].iloc[indices[0]].values[0]\n",
    "\n",
    "# 예시 사건 설명\n",
    "user_case_description = \"계약을 이행하지 않은\n"
   ]
  },
  {
   "cell_type": "markdown",
   "metadata": {},
   "source": [
    "3. 법률 문서 이해 및 요약 시스템\n",
    "사전 학습된 BERT 모델을 사용하여 법률 문서의 요약을 생성합니다"
   ]
  },
  {
   "cell_type": "code",
   "execution_count": null,
   "metadata": {
    "vscode": {
     "languageId": "plaintext"
    }
   },
   "outputs": [],
   "source": [
    "from transformers import BartTokenizer, BartForConditionalGeneration\n",
    "\n",
    "# BART 모델 및 토크나이저 초기화\n",
    "tokenizer = BartTokenizer.from_pretrained('facebook/bart-large-cnn')\n",
    "model = BartForConditionalGeneration.from_pretrained('facebook/bart-large-cnn')\n",
    "\n",
    "def summarize_legal_document(document):\n",
    "    inputs = tokenizer(document, return_tensors='pt', max_length=1024, truncation=True)\n",
    "    summary_ids = model.generate(inputs['input_ids'], max_length=150, min_length=30, length_penalty=2.0, num_beams=4, early_stopping=True)\n",
    "    summary = tokenizer.decode(summary_ids[0], skip_special_tokens=True)\n",
    "    return summary\n",
    "\n",
    "# 예시 법률 문서\n",
    "legal_document = \"\"\"\n",
    "계약 불이행에 대한 사건입니다. 원고는 피고가 계약의 조건을 이행하지 않았다고 주장하고 있으며, \n",
    "이에 따라 법원에 소송을 제기했습니다. 피고는 계약이 유효하지 않다고 주장하고 있습니다. \n",
    "법원은 이러한 주장들을 바탕으로 사건을 심리할 것입니다.\n",
    "\"\"\"\n",
    "\n",
    "# 법률 문서 요약\n",
    "summary = summarize_legal_document(legal_document)\n",
    "print(\"요약:\", summary)\n"
   ]
  },
  {
   "cell_type": "code",
   "execution_count": null,
   "metadata": {
    "vscode": {
     "languageId": "plaintext"
    }
   },
   "outputs": [],
   "source": [
    "## 3. 법률 문서 이해 및 요약 시스템\n",
    "## Fine-tuning을 통해 BART 모델을 학습하여 문서 요약 기능을 최적화합니다.\n",
    "\n",
    "from transformers import BartTokenizer, BartForConditionalGeneration\n",
    "\n",
    "# BART 모델 및 토크나이저 초기화\n",
    "tokenizer = BartTokenizer.from_pretrained('facebook/bart-large-cnn')\n",
    "model = BartForConditionalGeneration.from_pretrained('facebook/bart-large-cnn')\n",
    "\n",
    "def summarize_legal_document(document):\n",
    "    inputs = tokenizer(document, return_tensors='pt', max_length=1024, truncation=True)\n",
    "    summary_ids = model.generate(inputs['input_ids'], max_length=150, min_length=30, length_penalty=2.0, num_beams=4, early_stopping=True)\n",
    "    summary = tokenizer.decode(summary_ids[0], skip_special_tokens=True)\n",
    "    return summary\n",
    "\n",
    "# 예시 법률 문서\n",
    "legal_document = \"\"\"\n",
    "계약 불이행에 대한 사건입니다. 원고는 피고가 계약의 조건을 이행하지 않았다고 주장하고 있으며, \n",
    "이에 따라 법원에 소송을 제기했습니다. 피고는 계약이 유효하지 않다고 주장하고 있습니다. \n",
    "법원은 이러한 주장들을 바탕으로 사건을 심리할 것입니다.\n",
    "\"\"\"\n",
    "\n",
    "# 법률 문서 요약\n",
    "summary = summarize_legal_document(legal_document)\n",
    "print(\"요약:\", summary)\n"
   ]
  }
 ],
 "metadata": {
  "language_info": {
   "name": "python"
  }
 },
 "nbformat": 4,
 "nbformat_minor": 2
}
