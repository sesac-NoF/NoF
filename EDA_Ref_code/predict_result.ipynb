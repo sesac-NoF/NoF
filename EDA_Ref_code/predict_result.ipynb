{
 "cells": [
  {
   "cell_type": "markdown",
   "metadata": {},
   "source": [
    "판례의 맥락을 학습하여 새로운 사건의 소장에 대한 결과를 예측하는 작업은 **자연어 처리(NLP)**와 머신 러닝 모델을 결합"
   ]
  },
  {
   "cell_type": "markdown",
   "metadata": {},
   "source": [
    "데이터 수집: 과거 판례 데이터를 대량으로 수집합니다. 판결문, 소장, 판결 이유 등을 포함하는 법적 문서를 수집하여 학습 데이터로 사용합니다.\n",
    "\n",
    "데이터 전처리: 텍스트 데이터를 머신 러닝 모델이 처리할 수 있도록 전처리합니다. 여기에는 문서에서 의미 없는 단어를 제거하고, 토큰화, 불용어(stop words) 제거, 형태소 분석 등이 포함됩니다.\n",
    "\n",
    "특징 추출: 문서의 맥락을 학습하기 위해 특징을 추출합니다. 이를 위해 TF-IDF, Word2Vec, BERT와 같은 벡터화 방법을 사용하여 텍스트를 숫자로 변환하고, 단어의 문맥적 의미를 파악합니다.\n",
    "\n",
    "모델 학습: 법적 판례와 소장의 텍스트를 학습하여 사건의 결과를 예측할 수 있는 모델을 만듭니다. 일반적으로 딥러닝 모델, 특히 BERT나 Transformer 기반 모델이 판례의 문맥을 이해하고 예측하는 데 유용합니다. LSTM, GRU와 같은 순환 신경망도 사용할 수 있습니다.\n",
    "\n",
    "모델 평가 및 테스트: 과거 데이터를 이용해"
   ]
  },
  {
   "cell_type": "markdown",
   "metadata": {},
   "source": [
    "1. 데이터 수집 및 전처리\n",
    "우선, 법률 문서를 토큰화하고 전처리하는 코드를 작성합니다."
   ]
  },
  {
   "cell_type": "code",
   "execution_count": null,
   "metadata": {
    "vscode": {
     "languageId": "plaintext"
    }
   },
   "outputs": [],
   "source": [
    "import re\n",
    "from sklearn.model_selection import train_test_split\n",
    "from sklearn.preprocessing import LabelEncoder\n",
    "from keras.preprocessing.text import Tokenizer\n",
    "from keras.preprocessing.sequence import pad_sequences\n",
    "\n",
    "# 판례 데이터 예시\n",
    "documents = [\n",
    "    \"형법 제250조에 의한 살인 사건. 유죄 판결.\",\n",
    "    \"민법 제100조에 따른 상속 분쟁. 무죄 판결.\",\n",
    "    \"대법원의 판결에 따른 형법 해석. 유죄 판결.\",\n",
    "    \"상속 사건에서 민법 제100조 적용. 무죄 판결.\"\n",
    "]\n",
    "\n",
    "# 결과 레이블\n",
    "labels = ['유죄', '무죄', '유죄', '무죄']\n",
    "\n",
    "# 텍스트 전처리 (간단한 정규 표현식 사용)\n",
    "def clean_text(text):\n",
    "    text = re.sub(r'\\d+', '', text)  # 숫자 제거\n",
    "    text = re.sub(r'\\.', '', text)  # 마침표 제거\n",
    "    text = text.lower()  # 소문자로 변환\n",
    "    return text\n",
    "\n",
    "# 전처리된 텍스트 데이터\n",
    "cleaned_documents = [clean_text(doc) for doc in documents]\n",
    "\n",
    "# 레이블 인코딩\n",
    "label_encoder = LabelEncoder()\n",
    "encoded_labels = label_encoder.fit_transform(labels)\n",
    "\n",
    "# 텍스트 토큰화 및 시퀀스 변환\n",
    "tokenizer = Tokenizer(num_words=5000)\n",
    "tokenizer.fit_on_texts(cleaned_documents)\n",
    "sequences = tokenizer.texts_to_sequences(cleaned_documents)\n",
    "X = pad_sequences(sequences, maxlen=100)\n",
    "\n",
    "# 데이터셋 분할\n",
    "X_train, X_test, y_train, y_test = train_test_split(X, encoded_labels, test_size=0.2, random_state=42)\n"
   ]
  },
  {
   "cell_type": "markdown",
   "metadata": {},
   "source": [
    "2. 딥러닝 모델 (LSTM)\n",
    "여기서는 판례의 문맥을 학습하기 위해 LSTM(Long Short-Term Memory) 모델을 사용할 수 있습니다. LSTM은 문서의 순차적 특성을 학습하는 데 적합합니다."
   ]
  },
  {
   "cell_type": "code",
   "execution_count": null,
   "metadata": {
    "vscode": {
     "languageId": "plaintext"
    }
   },
   "outputs": [],
   "source": [
    "from keras.models import Sequential\n",
    "from keras.layers import Embedding, LSTM, Dense, Dropout\n",
    "\n",
    "# LSTM 모델 생성\n",
    "model = Sequential()\n",
    "model.add(Embedding(input_dim=5000, output_dim=128, input_length=100))\n",
    "model.add(LSTM(128, return_sequences=False))\n",
    "model.add(Dropout(0.5))\n",
    "model.add(Dense(1, activation='sigmoid'))\n",
    "\n",
    "# 모델 컴파일\n",
    "model.compile(loss='binary_crossentropy', optimizer='adam', metrics=['accuracy'])\n",
    "\n",
    "# 모델 학습\n",
    "model.fit(X_train, y_train, batch_size=32, epochs=10, validation_data=(X_test, y_test))\n"
   ]
  },
  {
   "cell_type": "markdown",
   "metadata": {},
   "source": [
    "3. 모델 평가 및 새로운 사건 예측\n",
    "모델이 학습된 후, 새로운 소장 텍스트를 입력하여 결과를 예측할 수 있습니다."
   ]
  },
  {
   "cell_type": "code",
   "execution_count": null,
   "metadata": {
    "vscode": {
     "languageId": "plaintext"
    }
   },
   "outputs": [],
   "source": [
    "# 새로운 사건 소장 예측\n",
    "new_case = \"형법 제250조에 따른 새로운 사건. 살인 혐의.\"\n",
    "new_case_cleaned = clean_text(new_case)\n",
    "new_case_sequence = tokenizer.texts_to_sequences([new_case_cleaned])\n",
    "new_case_padded = pad_sequences(new_case_sequence, maxlen=100)\n",
    "\n",
    "# 결과 예측\n",
    "prediction = model.predict(new_case_padded)\n",
    "\n",
    "# 예측된 결과 출력\n",
    "predicted_label = label_encoder.inverse_transform([int(prediction[0] > 0.5)])\n",
    "print(f\"예측된 판결: {predicted_label[0]}\")\n"
   ]
  },
  {
   "cell_type": "markdown",
   "metadata": {},
   "source": [
    "4. 고급 모델: BERT 활용\n",
    "더 나아가, BERT와 같은 사전 학습된 언어 모델을 활용하여 더 깊이 있는 판례 문맥을 학습할 수 있습니다. BERT는 텍스트의 문맥을 이해하는 데 매우 강력하며, 판례와 같은 긴 텍스트에도 적합합니다."
   ]
  },
  {
   "cell_type": "code",
   "execution_count": null,
   "metadata": {
    "vscode": {
     "languageId": "plaintext"
    }
   },
   "outputs": [],
   "source": [
    "from transformers import BertTokenizer, TFBertForSequenceClassification\n",
    "from tensorflow.keras.optimizers import Adam\n",
    "\n",
    "# BERT 모델과 토크나이저 불러오기\n",
    "bert_tokenizer = BertTokenizer.from_pretrained('bert-base-uncased')\n",
    "bert_model = TFBertForSequenceClassification.from_pretrained('bert-base-uncased', num_labels=2)\n",
    "\n",
    "# 새로운 소장 데이터를 BERT 입력 형식으로 변환\n",
    "new_case_tokenized = bert_tokenizer(new_case_cleaned, padding=True, truncation=True, return_tensors=\"tf\")\n",
    "\n",
    "# BERT 모델 예측\n",
    "bert_prediction = bert_model(new_case_tokenized).logits\n",
    "\n",
    "# 결과 출력\n",
    "predicted_label_bert = label_encoder.inverse_transform([int(bert_prediction.numpy().argmax())])\n",
    "print(f\"BERT 예측된 판결: {predicted_label_bert[0]}\")\n"
   ]
  },
  {
   "cell_type": "markdown",
   "metadata": {},
   "source": [
    "5. 결과 해석\n",
    "LSTM 모델은 판례 문서 내 순차적 단어의 흐름을 학습하여 새로운 사건의 소장에 대해 판결을 예측합니다.\n",
    "BERT 모델은 더 강력한 문맥 이해 능력을 바탕으로 새로운 사건의 결과를 예측할 수 있으며, 문서 내 복잡한 문장 구조를 반영합니다."
   ]
  }
 ],
 "metadata": {
  "language_info": {
   "name": "python"
  }
 },
 "nbformat": 4,
 "nbformat_minor": 2
}
