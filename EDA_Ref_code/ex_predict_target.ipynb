{
 "cells": [
  {
   "cell_type": "markdown",
   "metadata": {},
   "source": [
    "예측 가능한 목표 결과, 분류 가능한 목표 결과, 지도학습 주제, 비지도학습 주제, 그리고 준지도학습 주제를 위한 분석\n",
    "\n",
    "예측 가능한 목표 결과: 로지스틱 회귀 모델을 사용하여 사건 결과를 예측합니다.\n",
    "분류 가능한 목표 결과: 랜덤 포레스트 분류기를 사용하여 사건 유형을 분류합니다.\n",
    "지도학습 주제: OLS 회귀 모델을 통해 법률 조항과 사건 결과 간의 관계를 분석합니다.\n",
    "비지도학습 주제: Gensim을 사용하여 LDA 모델로 사건의 주요 주제를 추출합니다.\n",
    "준지도학습 주제: LabelSpreading 알고리즘을 통해 부분 레이블된 데이터를 기반으로 사건을 분류합니다."
   ]
  },
  {
   "cell_type": "markdown",
   "metadata": {},
   "source": [
    "1. 예측 가능한 목표 결과 예측\n",
    "사건 결과를 예측하는 모델을 위한 코드입니다. 여기서는 로지스틱 회귀 모델을 사용합니다"
   ]
  },
  {
   "cell_type": "code",
   "execution_count": null,
   "metadata": {
    "vscode": {
     "languageId": "plaintext"
    }
   },
   "outputs": [],
   "source": [
    "import pandas as pd\n",
    "from sklearn.model_selection import train_test_split\n",
    "from sklearn.linear_model import LogisticRegression\n",
    "from sklearn.metrics import classification_report\n",
    "\n",
    "# 데이터 불러오기\n",
    "data = pd.read_csv('case_data.csv')\n",
    "\n",
    "# 특성과 레이블 선택\n",
    "X = data[['feature1', 'feature2', 'feature3']]  # 실제 특성에 맞게 수정\n",
    "y = data['outcome']  # 사건 결과 (예: 원고 승소, 피고 승소)\n",
    "\n",
    "# 데이터 분할\n",
    "X_train, X_test, y_train, y_test = train_test_split(X, y, test_size=0.2, random_state=42)\n",
    "\n",
    "# 모델 학습\n",
    "model = LogisticRegression()\n",
    "model.fit(X_train, y_train)\n",
    "\n",
    "# 예측\n",
    "y_pred = model.predict(X_test)\n",
    "\n",
    "# 결과 평가\n",
    "print(classification_report(y_test, y_pred))\n"
   ]
  },
  {
   "cell_type": "markdown",
   "metadata": {},
   "source": [
    "2. 분류 가능한 목표 결과 예시\n",
    "사건 유형을 분류하는 모델을 구축합니다."
   ]
  },
  {
   "cell_type": "code",
   "execution_count": null,
   "metadata": {
    "vscode": {
     "languageId": "plaintext"
    }
   },
   "outputs": [],
   "source": [
    "from sklearn.ensemble import RandomForestClassifier\n",
    "\n",
    "# 데이터 불러오기\n",
    "data = pd.read_csv('case_data.csv')\n",
    "\n",
    "# 특성과 레이블 선택\n",
    "X = data[['feature1', 'feature2', 'feature3']]\n",
    "y = data['case_type']  # 사건 유형 (예: 계약 분쟁, 불법행위)\n",
    "\n",
    "# 데이터 분할\n",
    "X_train, X_test, y_train, y_test = train_test_split(X, y, test_size=0.2, random_state=42)\n",
    "\n",
    "# 모델 학습\n",
    "model = RandomForestClassifier()\n",
    "model.fit(X_train, y_train)\n",
    "\n",
    "# 예측\n",
    "y_pred = model.predict(X_test)\n",
    "\n",
    "# 결과 평가\n",
    "print(classification_report(y_test, y_pred))\n"
   ]
  },
  {
   "cell_type": "markdown",
   "metadata": {},
   "source": [
    "3. 지도학습 주제\n",
    "법률 조항과 사건 결과 간의 관계를 분석하는 예입니다."
   ]
  },
  {
   "cell_type": "code",
   "execution_count": null,
   "metadata": {
    "vscode": {
     "languageId": "plaintext"
    }
   },
   "outputs": [],
   "source": [
    "import statsmodels.api as sm\n",
    "\n",
    "# 데이터 불러오기\n",
    "data = pd.read_csv('case_data.csv')\n",
    "\n",
    "# 독립 변수와 종속 변수 설정\n",
    "X = data[['law_clause', 'other_features']]  # 법률 조항과 다른 특성\n",
    "y = data['outcome']\n",
    "\n",
    "# 상수항 추가\n",
    "X = sm.add_constant(X)\n",
    "\n",
    "# 회귀 모델 적합\n",
    "model = sm.OLS(y, X).fit()\n",
    "\n",
    "# 결과 출력\n",
    "print(model.summary())\n"
   ]
  },
  {
   "cell_type": "markdown",
   "metadata": {},
   "source": [
    "4. 비지도학습 주제\n",
    "토픽 모델링을 통해 사건의 주요 주제를 분석합니다."
   ]
  },
  {
   "cell_type": "code",
   "execution_count": null,
   "metadata": {
    "vscode": {
     "languageId": "plaintext"
    }
   },
   "outputs": [],
   "source": [
    "from gensim import corpora\n",
    "from gensim.models import LdaModel\n",
    "import nltk\n",
    "from nltk.corpus import stopwords\n",
    "\n",
    "# 데이터 불러오기\n",
    "data = pd.read_csv('case_data.csv')\n",
    "\n",
    "# 텍스트 전처리\n",
    "nltk.download('stopwords')\n",
    "stop_words = set(stopwords.words('english'))\n",
    "\n",
    "texts = [[word for word in document.lower().split() if word not in stop_words]\n",
    "         for document in data['text_column']]  # 텍스트 열 이름에 맞게 수정\n",
    "\n",
    "# 단어 사전 생성\n",
    "dictionary = corpora.Dictionary(texts)\n",
    "\n",
    "# 문서-단어 매트릭스 생성\n",
    "corpus = [dictionary.doc2bow(text) for text in texts]\n",
    "\n",
    "# LDA 모델 학습\n",
    "lda_model = LdaModel(corpus, num_topics=5, id2word=dictionary, passes=10)\n",
    "\n",
    "# 주제 출력\n",
    "for idx, topic in lda_model.print_topics(-1):\n",
    "    print(f\"Topic {idx}: {topic}\")\n"
   ]
  },
  {
   "cell_type": "markdown",
   "metadata": {},
   "source": [
    "5. 준지도학습 주제\n",
    "부분 레이블된 판례 데이터를 통한 사건 분류 예시입니다."
   ]
  },
  {
   "cell_type": "code",
   "execution_count": null,
   "metadata": {
    "vscode": {
     "languageId": "plaintext"
    }
   },
   "outputs": [],
   "source": [
    "from sklearn.semi_supervised import LabelSpreading\n",
    "\n",
    "# 데이터 불러오기\n",
    "data = pd.read_csv('case_data.csv')\n",
    "\n",
    "# 특성과 레이블 선택\n",
    "X = data[['feature1', 'feature2', 'feature3']]\n",
    "y = data['case_type']  # 부분적으로 레이블된 데이터\n",
    "\n",
    "# 일부 레이블을 -1로 설정하여 비지도 학습 데이터로 변환\n",
    "y[-20:] = -1  # 마지막 20개 레이블을 비지도 데이터로 설정\n",
    "\n",
    "# 모델 학습\n",
    "model = LabelSpreading()\n",
    "model.fit(X, y)\n",
    "\n",
    "# 예측\n",
    "predicted_labels = model.transduction_\n",
    "\n",
    "# 예측된 레이블 출력\n",
    "print(predicted_labels)"
   ]
  }
 ],
 "metadata": {
  "language_info": {
   "name": "python"
  }
 },
 "nbformat": 4,
 "nbformat_minor": 2
}
