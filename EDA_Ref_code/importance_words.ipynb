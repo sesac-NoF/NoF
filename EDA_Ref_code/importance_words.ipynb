{
 "cells": [
  {
   "cell_type": "code",
   "execution_count": 8,
   "metadata": {},
   "outputs": [],
   "source": [
    "import matplotlib.pyplot as plt\n",
    "\n",
    "# 한글 글꼴 설정 (예: Noto Sans CJK)\n",
    "plt.rcParams['font.family'] = 'Noto Sans CJK'  # 사용하고자 하는 한글 지원 글꼴로 변경\n",
    "plt.rcParams['axes.unicode_minus'] = False  # 음수 기호 표시\n"
   ]
  },
  {
   "cell_type": "code",
   "execution_count": 9,
   "metadata": {},
   "outputs": [],
   "source": [
    "import matplotlib.pyplot as plt\n",
    "import matplotlib.font_manager as fm\n",
    "\n",
    "# 한글 폰트 설정\n",
    "font_path = \"C:/Windows/Fonts/malgun.ttf\"  # 사용하고자 하는 한글 글꼴 경로\n",
    "font_prop = fm.FontProperties(fname=font_path, size=12)\n",
    "\n",
    "# 기본 설정\n",
    "plt.rcParams['font.family'] = font_prop.get_name()\n",
    "plt.rcParams['axes.unicode_minus'] = False  # 음수 기호 표시\n",
    "\n",
    "# 이후 그래프를 그리는 코드를 작성"
   ]
  },
  {
   "cell_type": "code",
   "execution_count": 10,
   "metadata": {},
   "outputs": [],
   "source": [
    "font_path = \"C:/Windows/Fonts/NanumGothic.ttf\"  # Nanum Gothic 경로로 설정"
   ]
  },
  {
   "cell_type": "code",
   "execution_count": 11,
   "metadata": {},
   "outputs": [
    {
     "name": "stdout",
     "output_type": "stream",
     "text": [
      "Requirement already satisfied: wordcloud in c:\\users\\sagey\\anaconda3\\lib\\site-packages (1.9.3)\n",
      "Requirement already satisfied: numpy>=1.6.1 in c:\\users\\sagey\\anaconda3\\lib\\site-packages (from wordcloud) (1.24.4)\n",
      "Requirement already satisfied: pillow in c:\\users\\sagey\\anaconda3\\lib\\site-packages (from wordcloud) (10.2.0)\n",
      "Requirement already satisfied: matplotlib in c:\\users\\sagey\\anaconda3\\lib\\site-packages (from wordcloud) (3.8.0)\n",
      "Requirement already satisfied: contourpy>=1.0.1 in c:\\users\\sagey\\anaconda3\\lib\\site-packages (from matplotlib->wordcloud) (1.2.0)\n",
      "Requirement already satisfied: cycler>=0.10 in c:\\users\\sagey\\anaconda3\\lib\\site-packages (from matplotlib->wordcloud) (0.11.0)\n",
      "Requirement already satisfied: fonttools>=4.22.0 in c:\\users\\sagey\\anaconda3\\lib\\site-packages (from matplotlib->wordcloud) (4.25.0)\n",
      "Requirement already satisfied: kiwisolver>=1.0.1 in c:\\users\\sagey\\anaconda3\\lib\\site-packages (from matplotlib->wordcloud) (1.4.4)\n",
      "Requirement already satisfied: packaging>=20.0 in c:\\users\\sagey\\anaconda3\\lib\\site-packages (from matplotlib->wordcloud) (23.1)\n",
      "Requirement already satisfied: pyparsing>=2.3.1 in c:\\users\\sagey\\anaconda3\\lib\\site-packages (from matplotlib->wordcloud) (3.0.9)\n",
      "Requirement already satisfied: python-dateutil>=2.7 in c:\\users\\sagey\\anaconda3\\lib\\site-packages (from matplotlib->wordcloud) (2.8.2)\n",
      "Requirement already satisfied: six>=1.5 in c:\\users\\sagey\\anaconda3\\lib\\site-packages (from python-dateutil>=2.7->matplotlib->wordcloud) (1.16.0)\n"
     ]
    }
   ],
   "source": [
    "!pip install wordcloud"
   ]
  },
  {
   "cell_type": "code",
   "execution_count": 12,
   "metadata": {},
   "outputs": [
    {
     "name": "stdout",
     "output_type": "stream",
     "text": [
      "Requirement already satisfied: scikit-learn in c:\\users\\sagey\\anaconda3\\lib\\site-packages (1.2.2)\n",
      "Requirement already satisfied: pandas in c:\\users\\sagey\\anaconda3\\lib\\site-packages (2.2.3)\n",
      "Requirement already satisfied: numpy in c:\\users\\sagey\\anaconda3\\lib\\site-packages (1.24.4)\n",
      "Requirement already satisfied: gensim in c:\\users\\sagey\\anaconda3\\lib\\site-packages (4.3.0)\n",
      "Requirement already satisfied: networkx in c:\\users\\sagey\\anaconda3\\lib\\site-packages (3.3)\n",
      "Requirement already satisfied: transformers in c:\\users\\sagey\\anaconda3\\lib\\site-packages (4.45.1)\n",
      "Requirement already satisfied: torch in c:\\users\\sagey\\anaconda3\\lib\\site-packages (2.4.1)\n",
      "Requirement already satisfied: scipy>=1.3.2 in c:\\users\\sagey\\anaconda3\\lib\\site-packages (from scikit-learn) (1.14.1)\n",
      "Requirement already satisfied: joblib>=1.1.1 in c:\\users\\sagey\\anaconda3\\lib\\site-packages (from scikit-learn) (1.2.0)\n",
      "Requirement already satisfied: threadpoolctl>=2.0.0 in c:\\users\\sagey\\anaconda3\\lib\\site-packages (from scikit-learn) (2.2.0)\n",
      "Requirement already satisfied: python-dateutil>=2.8.2 in c:\\users\\sagey\\anaconda3\\lib\\site-packages (from pandas) (2.8.2)\n",
      "Requirement already satisfied: pytz>=2020.1 in c:\\users\\sagey\\anaconda3\\lib\\site-packages (from pandas) (2023.3.post1)\n",
      "Requirement already satisfied: tzdata>=2022.7 in c:\\users\\sagey\\anaconda3\\lib\\site-packages (from pandas) (2023.3)\n",
      "Requirement already satisfied: smart-open>=1.8.1 in c:\\users\\sagey\\anaconda3\\lib\\site-packages (from gensim) (5.2.1)\n",
      "Requirement already satisfied: FuzzyTM>=0.4.0 in c:\\users\\sagey\\anaconda3\\lib\\site-packages (from gensim) (2.0.9)\n",
      "Requirement already satisfied: filelock in c:\\users\\sagey\\anaconda3\\lib\\site-packages (from transformers) (3.13.1)\n",
      "Requirement already satisfied: huggingface-hub<1.0,>=0.23.2 in c:\\users\\sagey\\anaconda3\\lib\\site-packages (from transformers) (0.25.1)\n",
      "Requirement already satisfied: packaging>=20.0 in c:\\users\\sagey\\anaconda3\\lib\\site-packages (from transformers) (23.1)\n",
      "Requirement already satisfied: pyyaml>=5.1 in c:\\users\\sagey\\anaconda3\\lib\\site-packages (from transformers) (6.0.1)\n",
      "Requirement already satisfied: regex!=2019.12.17 in c:\\users\\sagey\\anaconda3\\lib\\site-packages (from transformers) (2023.10.3)\n",
      "Requirement already satisfied: requests in c:\\users\\sagey\\anaconda3\\lib\\site-packages (from transformers) (2.31.0)\n",
      "Requirement already satisfied: safetensors>=0.4.1 in c:\\users\\sagey\\anaconda3\\lib\\site-packages (from transformers) (0.4.5)\n",
      "Requirement already satisfied: tokenizers<0.21,>=0.20 in c:\\users\\sagey\\anaconda3\\lib\\site-packages (from transformers) (0.20.0)\n",
      "Requirement already satisfied: tqdm>=4.27 in c:\\users\\sagey\\anaconda3\\lib\\site-packages (from transformers) (4.65.0)\n",
      "Requirement already satisfied: typing-extensions>=4.8.0 in c:\\users\\sagey\\anaconda3\\lib\\site-packages (from torch) (4.9.0)\n",
      "Requirement already satisfied: sympy in c:\\users\\sagey\\anaconda3\\lib\\site-packages (from torch) (1.12)\n",
      "Requirement already satisfied: jinja2 in c:\\users\\sagey\\anaconda3\\lib\\site-packages (from torch) (3.1.3)\n",
      "Requirement already satisfied: fsspec in c:\\users\\sagey\\anaconda3\\lib\\site-packages (from torch) (2023.10.0)\n",
      "Requirement already satisfied: pyfume in c:\\users\\sagey\\anaconda3\\lib\\site-packages (from FuzzyTM>=0.4.0->gensim) (0.3.1)\n",
      "Requirement already satisfied: six>=1.5 in c:\\users\\sagey\\anaconda3\\lib\\site-packages (from python-dateutil>=2.8.2->pandas) (1.16.0)\n",
      "Requirement already satisfied: colorama in c:\\users\\sagey\\anaconda3\\lib\\site-packages (from tqdm>=4.27->transformers) (0.4.6)\n",
      "Requirement already satisfied: MarkupSafe>=2.0 in c:\\users\\sagey\\anaconda3\\lib\\site-packages (from jinja2->torch) (2.1.3)\n",
      "Requirement already satisfied: charset-normalizer<4,>=2 in c:\\users\\sagey\\anaconda3\\lib\\site-packages (from requests->transformers) (2.0.4)\n",
      "Requirement already satisfied: idna<4,>=2.5 in c:\\users\\sagey\\anaconda3\\lib\\site-packages (from requests->transformers) (3.4)\n",
      "Requirement already satisfied: urllib3<3,>=1.21.1 in c:\\users\\sagey\\anaconda3\\lib\\site-packages (from requests->transformers) (2.0.7)\n",
      "Requirement already satisfied: certifi>=2017.4.17 in c:\\users\\sagey\\anaconda3\\lib\\site-packages (from requests->transformers) (2024.6.2)\n",
      "Requirement already satisfied: mpmath>=0.19 in c:\\users\\sagey\\anaconda3\\lib\\site-packages (from sympy->torch) (1.3.0)\n",
      "Requirement already satisfied: simpful in c:\\users\\sagey\\anaconda3\\lib\\site-packages (from pyfume->FuzzyTM>=0.4.0->gensim) (2.12.0)\n",
      "Requirement already satisfied: fst-pso in c:\\users\\sagey\\anaconda3\\lib\\site-packages (from pyfume->FuzzyTM>=0.4.0->gensim) (1.8.1)\n",
      "Requirement already satisfied: miniful in c:\\users\\sagey\\anaconda3\\lib\\site-packages (from fst-pso->pyfume->FuzzyTM>=0.4.0->gensim) (0.0.6)\n"
     ]
    }
   ],
   "source": [
    "!pip install scikit-learn pandas numpy gensim networkx transformers torch"
   ]
  },
  {
   "cell_type": "code",
   "execution_count": 13,
   "metadata": {},
   "outputs": [
    {
     "name": "stdout",
     "output_type": "stream",
     "text": [
      "Requirement already satisfied: pyLDAvis in c:\\users\\sagey\\anaconda3\\lib\\site-packages (3.4.1)\n",
      "Requirement already satisfied: numpy>=1.24.2 in c:\\users\\sagey\\anaconda3\\lib\\site-packages (from pyLDAvis) (1.24.4)\n",
      "Requirement already satisfied: scipy in c:\\users\\sagey\\anaconda3\\lib\\site-packages (from pyLDAvis) (1.14.1)\n",
      "Requirement already satisfied: pandas>=2.0.0 in c:\\users\\sagey\\anaconda3\\lib\\site-packages (from pyLDAvis) (2.2.3)\n",
      "Requirement already satisfied: joblib>=1.2.0 in c:\\users\\sagey\\anaconda3\\lib\\site-packages (from pyLDAvis) (1.2.0)\n",
      "Requirement already satisfied: jinja2 in c:\\users\\sagey\\anaconda3\\lib\\site-packages (from pyLDAvis) (3.1.3)\n",
      "Requirement already satisfied: numexpr in c:\\users\\sagey\\anaconda3\\lib\\site-packages (from pyLDAvis) (2.8.7)\n",
      "Requirement already satisfied: funcy in c:\\users\\sagey\\anaconda3\\lib\\site-packages (from pyLDAvis) (2.0)\n",
      "Requirement already satisfied: scikit-learn>=1.0.0 in c:\\users\\sagey\\anaconda3\\lib\\site-packages (from pyLDAvis) (1.2.2)\n",
      "Requirement already satisfied: gensim in c:\\users\\sagey\\anaconda3\\lib\\site-packages (from pyLDAvis) (4.3.0)\n",
      "Requirement already satisfied: setuptools in c:\\users\\sagey\\anaconda3\\lib\\site-packages (from pyLDAvis) (68.2.2)\n",
      "Requirement already satisfied: python-dateutil>=2.8.2 in c:\\users\\sagey\\anaconda3\\lib\\site-packages (from pandas>=2.0.0->pyLDAvis) (2.8.2)\n",
      "Requirement already satisfied: pytz>=2020.1 in c:\\users\\sagey\\anaconda3\\lib\\site-packages (from pandas>=2.0.0->pyLDAvis) (2023.3.post1)\n",
      "Requirement already satisfied: tzdata>=2022.7 in c:\\users\\sagey\\anaconda3\\lib\\site-packages (from pandas>=2.0.0->pyLDAvis) (2023.3)\n",
      "Requirement already satisfied: threadpoolctl>=2.0.0 in c:\\users\\sagey\\anaconda3\\lib\\site-packages (from scikit-learn>=1.0.0->pyLDAvis) (2.2.0)\n",
      "Requirement already satisfied: smart-open>=1.8.1 in c:\\users\\sagey\\anaconda3\\lib\\site-packages (from gensim->pyLDAvis) (5.2.1)\n",
      "Requirement already satisfied: FuzzyTM>=0.4.0 in c:\\users\\sagey\\anaconda3\\lib\\site-packages (from gensim->pyLDAvis) (2.0.9)\n",
      "Requirement already satisfied: MarkupSafe>=2.0 in c:\\users\\sagey\\anaconda3\\lib\\site-packages (from jinja2->pyLDAvis) (2.1.3)\n",
      "Requirement already satisfied: pyfume in c:\\users\\sagey\\anaconda3\\lib\\site-packages (from FuzzyTM>=0.4.0->gensim->pyLDAvis) (0.3.1)\n",
      "Requirement already satisfied: six>=1.5 in c:\\users\\sagey\\anaconda3\\lib\\site-packages (from python-dateutil>=2.8.2->pandas>=2.0.0->pyLDAvis) (1.16.0)\n",
      "Requirement already satisfied: simpful in c:\\users\\sagey\\anaconda3\\lib\\site-packages (from pyfume->FuzzyTM>=0.4.0->gensim->pyLDAvis) (2.12.0)\n",
      "Requirement already satisfied: fst-pso in c:\\users\\sagey\\anaconda3\\lib\\site-packages (from pyfume->FuzzyTM>=0.4.0->gensim->pyLDAvis) (1.8.1)\n",
      "Requirement already satisfied: typing-extensions in c:\\users\\sagey\\anaconda3\\lib\\site-packages (from pyfume->FuzzyTM>=0.4.0->gensim->pyLDAvis) (4.9.0)\n",
      "Requirement already satisfied: miniful in c:\\users\\sagey\\anaconda3\\lib\\site-packages (from fst-pso->pyfume->FuzzyTM>=0.4.0->gensim->pyLDAvis) (0.0.6)\n"
     ]
    }
   ],
   "source": [
    "!pip install pyLDAvis"
   ]
  },
  {
   "cell_type": "code",
   "execution_count": 14,
   "metadata": {},
   "outputs": [
    {
     "name": "stdout",
     "output_type": "stream",
     "text": [
      "Requirement already satisfied: networkx in c:\\users\\sagey\\anaconda3\\lib\\site-packages (3.3)\n"
     ]
    }
   ],
   "source": [
    "!pip install networkx"
   ]
  },
  {
   "cell_type": "code",
   "execution_count": 15,
   "metadata": {},
   "outputs": [
    {
     "name": "stdout",
     "output_type": "stream",
     "text": [
      "3.3\n"
     ]
    }
   ],
   "source": [
    "import networkx as nx\n",
    "print(nx.__version__)"
   ]
  },
  {
   "cell_type": "code",
   "execution_count": 20,
   "metadata": {},
   "outputs": [
    {
     "name": "stdout",
     "output_type": "stream",
     "text": [
      "^C\n",
      "Note: you may need to restart the kernel to use updated packages.\n"
     ]
    }
   ],
   "source": [
    "pip uninstall scipy"
   ]
  },
  {
   "cell_type": "code",
   "execution_count": null,
   "metadata": {},
   "outputs": [],
   "source": [
    "!pip install scipy"
   ]
  },
  {
   "cell_type": "code",
   "execution_count": 16,
   "metadata": {},
   "outputs": [
    {
     "name": "stdout",
     "output_type": "stream",
     "text": [
      "Requirement already satisfied: scipy in c:\\users\\sagey\\anaconda3\\lib\\site-packages (1.14.1)\n",
      "Requirement already satisfied: numpy<2.3,>=1.23.5 in c:\\users\\sagey\\anaconda3\\lib\\site-packages (from scipy) (1.24.4)\n"
     ]
    }
   ],
   "source": [
    "!pip install --upgrade scipy"
   ]
  },
  {
   "cell_type": "markdown",
   "metadata": {},
   "source": [
    "TF-IDF \n",
    "아래 코드는 TF-IDF를 계산하고, 문서 내 단어의 중요도를 출력하는 예제입니다."
   ]
  },
  {
   "cell_type": "markdown",
   "metadata": {},
   "source": [
    "scikit-learn: 머신러닝 모델, 데이터 전처리 및 평가 도구를 제공합니다.\n",
    "pandas: 데이터프레임을 사용하여 데이터를 쉽게 다룰 수 있게 해줍니다.\n",
    "numpy: 배열 및 행렬 연산을 지원하는 라이브러리입니다.\n",
    "gensim: 텍스트 처리를 위한 라이브러리로, 주로 Word2Vec, LDA 등의 기능을 포함합니다.\n",
    "networkx: 그래프 이론을 구현한 라이브러리로, TextRank와 같은 알고리즘을 구현하는 데 유용합니다.\n",
    "transformers: BERT, GPT 등의 사전 학습된 모델을 쉽게 사용할 수 있게 해주는 라이브러리입니다.\n",
    "torch: PyTorch 딥러닝 프레임워크로, 딥러닝 모델을 구축하고 훈련하는 데 사용됩니다."
   ]
  },
  {
   "cell_type": "code",
   "execution_count": 18,
   "metadata": {},
   "outputs": [
    {
     "ename": "ImportError",
     "evalue": "cannot import name 'triu' from 'scipy.linalg' (c:\\Users\\sagey\\anaconda3\\Lib\\site-packages\\scipy\\linalg\\__init__.py)",
     "output_type": "error",
     "traceback": [
      "\u001b[1;31m---------------------------------------------------------------------------\u001b[0m",
      "\u001b[1;31mImportError\u001b[0m                               Traceback (most recent call last)",
      "Cell \u001b[1;32mIn[18], line 4\u001b[0m\n\u001b[0;32m      2\u001b[0m \u001b[38;5;28;01mimport\u001b[39;00m \u001b[38;5;21;01mpandas\u001b[39;00m \u001b[38;5;28;01mas\u001b[39;00m \u001b[38;5;21;01mpd\u001b[39;00m\n\u001b[0;32m      3\u001b[0m \u001b[38;5;28;01mimport\u001b[39;00m \u001b[38;5;21;01mnumpy\u001b[39;00m \u001b[38;5;28;01mas\u001b[39;00m \u001b[38;5;21;01mnp\u001b[39;00m\n\u001b[1;32m----> 4\u001b[0m \u001b[38;5;28;01mimport\u001b[39;00m \u001b[38;5;21;01mgensim\u001b[39;00m\n\u001b[0;32m      5\u001b[0m \u001b[38;5;28;01mimport\u001b[39;00m \u001b[38;5;21;01mnetworkx\u001b[39;00m \u001b[38;5;28;01mas\u001b[39;00m \u001b[38;5;21;01mnx\u001b[39;00m\n\u001b[0;32m      6\u001b[0m \u001b[38;5;28;01mimport\u001b[39;00m \u001b[38;5;21;01mtransformers\u001b[39;00m\n",
      "File \u001b[1;32mc:\\Users\\sagey\\anaconda3\\Lib\\site-packages\\gensim\\__init__.py:11\u001b[0m\n\u001b[0;32m      7\u001b[0m __version__ \u001b[38;5;241m=\u001b[39m \u001b[38;5;124m'\u001b[39m\u001b[38;5;124m4.3.0\u001b[39m\u001b[38;5;124m'\u001b[39m\n\u001b[0;32m      9\u001b[0m \u001b[38;5;28;01mimport\u001b[39;00m \u001b[38;5;21;01mlogging\u001b[39;00m\n\u001b[1;32m---> 11\u001b[0m \u001b[38;5;28;01mfrom\u001b[39;00m \u001b[38;5;21;01mgensim\u001b[39;00m \u001b[38;5;28;01mimport\u001b[39;00m parsing, corpora, matutils, interfaces, models, similarities, utils  \u001b[38;5;66;03m# noqa:F401\u001b[39;00m\n\u001b[0;32m     14\u001b[0m logger \u001b[38;5;241m=\u001b[39m logging\u001b[38;5;241m.\u001b[39mgetLogger(\u001b[38;5;124m'\u001b[39m\u001b[38;5;124mgensim\u001b[39m\u001b[38;5;124m'\u001b[39m)\n\u001b[0;32m     15\u001b[0m \u001b[38;5;28;01mif\u001b[39;00m \u001b[38;5;129;01mnot\u001b[39;00m logger\u001b[38;5;241m.\u001b[39mhandlers:  \u001b[38;5;66;03m# To ensure reload() doesn't add another one\u001b[39;00m\n",
      "File \u001b[1;32mc:\\Users\\sagey\\anaconda3\\Lib\\site-packages\\gensim\\corpora\\__init__.py:6\u001b[0m\n\u001b[0;32m      1\u001b[0m \u001b[38;5;124;03m\"\"\"\u001b[39;00m\n\u001b[0;32m      2\u001b[0m \u001b[38;5;124;03mThis package contains implementations of various streaming corpus I/O format.\u001b[39;00m\n\u001b[0;32m      3\u001b[0m \u001b[38;5;124;03m\"\"\"\u001b[39;00m\n\u001b[0;32m      5\u001b[0m \u001b[38;5;66;03m# bring corpus classes directly into package namespace, to save some typing\u001b[39;00m\n\u001b[1;32m----> 6\u001b[0m \u001b[38;5;28;01mfrom\u001b[39;00m \u001b[38;5;21;01m.\u001b[39;00m\u001b[38;5;21;01mindexedcorpus\u001b[39;00m \u001b[38;5;28;01mimport\u001b[39;00m IndexedCorpus  \u001b[38;5;66;03m# noqa:F401 must appear before the other classes\u001b[39;00m\n\u001b[0;32m      8\u001b[0m \u001b[38;5;28;01mfrom\u001b[39;00m \u001b[38;5;21;01m.\u001b[39;00m\u001b[38;5;21;01mmmcorpus\u001b[39;00m \u001b[38;5;28;01mimport\u001b[39;00m MmCorpus  \u001b[38;5;66;03m# noqa:F401\u001b[39;00m\n\u001b[0;32m      9\u001b[0m \u001b[38;5;28;01mfrom\u001b[39;00m \u001b[38;5;21;01m.\u001b[39;00m\u001b[38;5;21;01mbleicorpus\u001b[39;00m \u001b[38;5;28;01mimport\u001b[39;00m BleiCorpus  \u001b[38;5;66;03m# noqa:F401\u001b[39;00m\n",
      "File \u001b[1;32mc:\\Users\\sagey\\anaconda3\\Lib\\site-packages\\gensim\\corpora\\indexedcorpus.py:14\u001b[0m\n\u001b[0;32m     10\u001b[0m \u001b[38;5;28;01mimport\u001b[39;00m \u001b[38;5;21;01mlogging\u001b[39;00m\n\u001b[0;32m     12\u001b[0m \u001b[38;5;28;01mimport\u001b[39;00m \u001b[38;5;21;01mnumpy\u001b[39;00m\n\u001b[1;32m---> 14\u001b[0m \u001b[38;5;28;01mfrom\u001b[39;00m \u001b[38;5;21;01mgensim\u001b[39;00m \u001b[38;5;28;01mimport\u001b[39;00m interfaces, utils\n\u001b[0;32m     16\u001b[0m logger \u001b[38;5;241m=\u001b[39m logging\u001b[38;5;241m.\u001b[39mgetLogger(\u001b[38;5;18m__name__\u001b[39m)\n\u001b[0;32m     19\u001b[0m \u001b[38;5;28;01mclass\u001b[39;00m \u001b[38;5;21;01mIndexedCorpus\u001b[39;00m(interfaces\u001b[38;5;241m.\u001b[39mCorpusABC):\n",
      "File \u001b[1;32mc:\\Users\\sagey\\anaconda3\\Lib\\site-packages\\gensim\\interfaces.py:19\u001b[0m\n\u001b[0;32m      7\u001b[0m \u001b[38;5;124;03m\"\"\"Basic interfaces used across the whole Gensim package.\u001b[39;00m\n\u001b[0;32m      8\u001b[0m \n\u001b[0;32m      9\u001b[0m \u001b[38;5;124;03mThese interfaces are used for building corpora, model transformation and similarity queries.\u001b[39;00m\n\u001b[1;32m   (...)\u001b[0m\n\u001b[0;32m     14\u001b[0m \n\u001b[0;32m     15\u001b[0m \u001b[38;5;124;03m\"\"\"\u001b[39;00m\n\u001b[0;32m     17\u001b[0m \u001b[38;5;28;01mimport\u001b[39;00m \u001b[38;5;21;01mlogging\u001b[39;00m\n\u001b[1;32m---> 19\u001b[0m \u001b[38;5;28;01mfrom\u001b[39;00m \u001b[38;5;21;01mgensim\u001b[39;00m \u001b[38;5;28;01mimport\u001b[39;00m utils, matutils\n\u001b[0;32m     22\u001b[0m logger \u001b[38;5;241m=\u001b[39m logging\u001b[38;5;241m.\u001b[39mgetLogger(\u001b[38;5;18m__name__\u001b[39m)\n\u001b[0;32m     25\u001b[0m \u001b[38;5;28;01mclass\u001b[39;00m \u001b[38;5;21;01mCorpusABC\u001b[39;00m(utils\u001b[38;5;241m.\u001b[39mSaveLoad):\n",
      "File \u001b[1;32mc:\\Users\\sagey\\anaconda3\\Lib\\site-packages\\gensim\\matutils.py:20\u001b[0m\n\u001b[0;32m     18\u001b[0m \u001b[38;5;28;01mimport\u001b[39;00m \u001b[38;5;21;01mscipy\u001b[39;00m\u001b[38;5;21;01m.\u001b[39;00m\u001b[38;5;21;01msparse\u001b[39;00m\n\u001b[0;32m     19\u001b[0m \u001b[38;5;28;01mfrom\u001b[39;00m \u001b[38;5;21;01mscipy\u001b[39;00m\u001b[38;5;21;01m.\u001b[39;00m\u001b[38;5;21;01mstats\u001b[39;00m \u001b[38;5;28;01mimport\u001b[39;00m entropy\n\u001b[1;32m---> 20\u001b[0m \u001b[38;5;28;01mfrom\u001b[39;00m \u001b[38;5;21;01mscipy\u001b[39;00m\u001b[38;5;21;01m.\u001b[39;00m\u001b[38;5;21;01mlinalg\u001b[39;00m \u001b[38;5;28;01mimport\u001b[39;00m get_blas_funcs, triu\n\u001b[0;32m     21\u001b[0m \u001b[38;5;28;01mfrom\u001b[39;00m \u001b[38;5;21;01mscipy\u001b[39;00m\u001b[38;5;21;01m.\u001b[39;00m\u001b[38;5;21;01mlinalg\u001b[39;00m\u001b[38;5;21;01m.\u001b[39;00m\u001b[38;5;21;01mlapack\u001b[39;00m \u001b[38;5;28;01mimport\u001b[39;00m get_lapack_funcs\n\u001b[0;32m     22\u001b[0m \u001b[38;5;28;01mfrom\u001b[39;00m \u001b[38;5;21;01mscipy\u001b[39;00m\u001b[38;5;21;01m.\u001b[39;00m\u001b[38;5;21;01mspecial\u001b[39;00m \u001b[38;5;28;01mimport\u001b[39;00m psi  \u001b[38;5;66;03m# gamma function utils\u001b[39;00m\n",
      "\u001b[1;31mImportError\u001b[0m: cannot import name 'triu' from 'scipy.linalg' (c:\\Users\\sagey\\anaconda3\\Lib\\site-packages\\scipy\\linalg\\__init__.py)"
     ]
    }
   ],
   "source": [
    "import sklearn\n",
    "import pandas as pd\n",
    "import numpy as np\n",
    "import gensim\n",
    "import networkx as nx\n",
    "import transformers\n",
    "import torch\n",
    "\n",
    "print(\"모듈이 정상적으로 설치되었습니다.\")"
   ]
  },
  {
   "cell_type": "code",
   "execution_count": 5,
   "metadata": {},
   "outputs": [
    {
     "name": "stdout",
     "output_type": "stream",
     "text": [
      "   판례정보일련번호                         사건번호  선고      판결유형  \\\n",
      "0    241233  2024다211908, 211915, 211922  선고        판결   \n",
      "1    241221                   2024두32973  선고        판결   \n",
      "2    241229                  2021다246545  선고        판결   \n",
      "3    241219                  2020다287921  선고        판결   \n",
      "4    241011                   2023두36800  선고  전원합의체 판결   \n",
      "\n",
      "                                                판시사항  \\\n",
      "0   [1] 파견근로자 보호 등에 관한 법률에 따라 직접고용의무가 발생하였으나 사용사업...   \n",
      "1   [1] 부당해고 등 구제절차에서 최초 구제신청의 대상이 된 불이익처분을 다투는 범...   \n",
      "2  최저임금법 제6조는 제1항에서 \"사용자는 최저임금의 적용을 받는 근로자에게 최저임금...   \n",
      "3   구 파견근로자 보호 등에 관한 법률(2006. 12. 21. 법률 제8076호로 ...   \n",
      "4   [1] 헌법 제11조 제1항은 \"모든 국민은 법 앞에 평등하다. 누구든지 성별·종...   \n",
      "\n",
      "                                                판결요지  \\\n",
      "0   [1] 파견근로자 보호 등에 관한 법률 제6조의2 제1항, 민법 제390조, 제3...   \n",
      "1   [1] 근로기준법 제28조, 제29조, 노동위원회법 제23조 / [2] 근로기준법...   \n",
      "2  최저임금법 제6조 제1항, 제5항, 구 최저임금법 시행령(2018. 12. 31. ...   \n",
      "3  구 파견근로자 보호 등에 관한 법률(2006. 12. 21. 법률 제8076호로 개...   \n",
      "4   [1] 헌법 제11조 제1항, 행정기본법 제9조 / [2] 헌법 제11조 제1항,...   \n",
      "\n",
      "                                                참조조문  \\\n",
      "0   [1] 대법원 2007. 11. 16. 선고 2005다3229 판결, 대법원 20...   \n",
      "1   [1] 대법원 1996. 8. 23. 선고 95누11238 판결(공1996하, 2...   \n",
      "2                                                NaN   \n",
      "3  대법원 2024. 3. 12. 선고 2019다223303, 223310 판결(공20...   \n",
      "4   [1] 대법원 2007. 10. 29. 선고 2005두14417 전원합의체 판결(...   \n",
      "\n",
      "                                                참조판례 판례내용  \n",
      "0  【원고, 피상고인】 원고 1 외 2인 (소송대리인 변호사 조창래)<br/>【피고, ...  NaN  \n",
      "1  【원고, 상고인】 주식회사 ○○ (소송대리인 변호사 김소영 외 5인)<br/>【피고...  NaN  \n",
      "2  【원고, 피상고인】 원고 1 외 5인 (소송대리인 법무법인 여는 담당변호사 김성진)...  NaN  \n",
      "3  【원고, 피상고인】 별지 원고들 명단 기재와 같다. (소송대리인 변호사 방광호)<b...  NaN  \n",
      "4  【원고, 피상고인】 원고 (소송대리인 변호사 장서연 외 7인)<br/>【피고, 상고...  NaN  \n"
     ]
    }
   ],
   "source": [
    "import pandas as pd\n",
    "\n",
    "#  CSV 파일을 불러오기\n",
    "df_labor = pd.read_csv(r'C:\\Users\\sagey\\Documents\\새싹_빅데이터분석\\NoF_프로젝트\\프로젝트 데이터_API\\근로_본문.csv')\n",
    "print(df_labor.head())"
   ]
  },
  {
   "cell_type": "code",
   "execution_count": 6,
   "metadata": {},
   "outputs": [
    {
     "name": "stdout",
     "output_type": "stream",
     "text": [
      "<class 'pandas.core.frame.DataFrame'>\n",
      "RangeIndex: 4807 entries, 0 to 4806\n",
      "Data columns (total 9 columns):\n",
      " #   Column    Non-Null Count  Dtype \n",
      "---  ------    --------------  ----- \n",
      " 0   판례정보일련번호  4807 non-null   int64 \n",
      " 1   사건번호      4807 non-null   object\n",
      " 2   선고        4807 non-null   object\n",
      " 3   판결유형      4807 non-null   object\n",
      " 4   판시사항      2946 non-null   object\n",
      " 5   판결요지      3567 non-null   object\n",
      " 6   참조조문      2342 non-null   object\n",
      " 7   참조판례      4806 non-null   object\n",
      " 8   판례내용      1 non-null      object\n",
      "dtypes: int64(1), object(8)\n",
      "memory usage: 338.1+ KB\n"
     ]
    }
   ],
   "source": [
    "df_labor.info()"
   ]
  },
  {
   "cell_type": "code",
   "execution_count": 1,
   "metadata": {},
   "outputs": [
    {
     "name": "stdout",
     "output_type": "stream",
     "text": [
      "단어 중요도 (TF-IDF):\n",
      "      강조합니다        계약       계약은       계약의       관련된      구속력이        대한  \\\n",
      "0  0.385323  0.385323  0.000000  0.385323  0.000000  0.000000  0.293048   \n",
      "1  0.000000  0.000000  0.341426  0.000000  0.341426  0.341426  0.000000   \n",
      "2  0.000000  0.000000  0.000000  0.000000  0.000000  0.000000  0.251329   \n",
      "\n",
      "         법적        분쟁       불이행  ...       사건에        상속     설명입니다        소송  \\\n",
      "0  0.000000  0.000000  0.385323  ...  0.293048  0.000000  0.000000  0.000000   \n",
      "1  0.341426  0.341426  0.000000  ...  0.000000  0.341426  0.000000  0.000000   \n",
      "2  0.000000  0.000000  0.000000  ...  0.251329  0.000000  0.330467  0.330467   \n",
      "\n",
      "         이혼      있습니다       절차가      중요성을     중요합니다     판례입니다  \n",
      "0  0.000000  0.000000  0.000000  0.385323  0.000000  0.293048  \n",
      "1  0.000000  0.341426  0.000000  0.000000  0.000000  0.259663  \n",
      "2  0.660934  0.000000  0.330467  0.000000  0.330467  0.000000  \n",
      "\n",
      "[3 rows x 21 columns]\n"
     ]
    }
   ],
   "source": [
    "\n",
    "from sklearn.feature_extraction.text import TfidfVectorizer\n",
    "\n",
    "# 예시 문서\n",
    "# documents = [\n",
    "#     \"계약 불이행 사건에 대한 판례입니다. 계약의 중요성을 강조합니다.\",\n",
    "#     \"상속 분쟁 사건과 관련된 판례입니다. 계약은 법적 구속력이 있습니다.\",\n",
    "#     \"이혼 소송 사건에 대한 설명입니다. 이혼 절차가 중요합니다.\"\n",
    "# ]\n",
    "\n",
    "\n",
    "\n",
    "# TF-IDF 벡터화\n",
    "vectorizer = TfidfVectorizer()\n",
    "tfidf_matrix = vectorizer.fit_transform(documents)\n",
    "\n",
    "# TF-IDF 데이터프레임으로 변환\n",
    "df_tfidf = pd.DataFrame(tfidf_matrix.toarray(), columns=vectorizer.get_feature_names_out())\n",
    "\n",
    "# 각 단어의 중요도 출력\n",
    "print(\"단어 중요도 (TF-IDF):\")\n",
    "print(df_tfidf)\n"
   ]
  },
  {
   "cell_type": "code",
   "execution_count": 29,
   "metadata": {},
   "outputs": [
    {
     "data": {
      "image/png": "[encoded data removed]",
      "text/plain": [
       "<Figure size 1000x600 with 1 Axes>"
      ]
     },
     "metadata": {},
     "output_type": "display_data"
    }
   ],
   "source": [
    "import pandas as pd\n",
    "from sklearn.feature_extraction.text import TfidfVectorizer\n",
    "import matplotlib.pyplot as plt\n",
    "import seaborn as sns\n",
    "\n",
    "# 예시 문서\n",
    "documents = [\n",
    "    \"계약 불이행 사건에 대한 판례입니다. 계약의 중요성을 강조합니다.\",\n",
    "    \"상속 분쟁 사건과 관련된 판례입니다. 계약은 법적 구속력이 있습니다.\",\n",
    "    \"이혼 소송 사건에 대한 설명입니다. 이혼 절차가 중요합니다.\"\n",
    "]\n",
    "\n",
    "# TF-IDF 벡터화\n",
    "vectorizer = TfidfVectorizer()\n",
    "tfidf_matrix = vectorizer.fit_transform(documents)\n",
    "\n",
    "# TF-IDF 데이터프레임으로 변환\n",
    "df_tfidf = pd.DataFrame(tfidf_matrix.toarray(), columns=vectorizer.get_feature_names_out())\n",
    "\n",
    "# 평균 TF-IDF 값 계산\n",
    "mean_tfidf = df_tfidf.mean(axis=0)\n",
    "\n",
    "# 중요도 데이터프레임 생성\n",
    "importance_df = pd.DataFrame(mean_tfidf).reset_index()\n",
    "importance_df.columns = ['단어', '중요도']\n",
    "importance_df = importance_df.sort_values(by='중요도', ascending=False)\n",
    "\n",
    "# 시각화\n",
    "plt.figure(figsize=(10, 6))\n",
    "sns.barplot(x='중요도', y='단어', data=importance_df, palette='viridis')\n",
    "plt.title('TF-IDF 단어 중요도')\n",
    "plt.xlabel('중요도')\n",
    "plt.ylabel('단어')\n",
    "plt.show()\n"
   ]
  },
  {
   "cell_type": "markdown",
   "metadata": {},
   "source": [
    "1. Word Embeddings\n",
    "Word2Vec: 단어를 고차원 벡터로 변환하여 단어 간의 유사성을 계산합니다. 비슷한 문맥에서 등장하는 단어들은 서로 유사한 벡터를 가지며, 이를 통해 단어의 의미를 파악할 수 있습니다.\n",
    "\n",
    "GloVe (Global Vectors for Word Representation): 전체 코퍼스에서 단어의 동시 등장 빈도를 이용하여 단어를 벡터로 표현합니다. 단어 간의 관계를 캡처하는 데 유용합니다.\n",
    "\n",
    "FastText: 단어의 의미를 더 잘 포착하기 위해 단어를 n-그램으로 분해하여 벡터를 생성합니다. OOV(Out Of Vocabulary) 문제를 해결하는 데 강력합니다."
   ]
  },
  {
   "cell_type": "markdown",
   "metadata": {},
   "source": [
    "2. TextRank\n",
    "TextRank: 그래프 기반 알고리즘으로, 각 단어를 그래프의 노드로 간주하고 단어 간의 연결을 간선으로 표현합니다. 단어의 중요도는 그래프에서의 페이지랭크(PageRank) 점수를 기반으로 결정됩니다. 이 방법은 특히 키워드 추출 및 요약에 유용합니다."
   ]
  },
  {
   "cell_type": "code",
   "execution_count": 38,
   "metadata": {},
   "outputs": [
    {
     "ename": "AttributeError",
     "evalue": "module 'networkx' has no attribute 'from_scipy_sparse_matrix'",
     "output_type": "error",
     "traceback": [
      "\u001b[1;31m---------------------------------------------------------------------------\u001b[0m",
      "\u001b[1;31mAttributeError\u001b[0m                            Traceback (most recent call last)",
      "Cell \u001b[1;32mIn[38], line 17\u001b[0m\n\u001b[0;32m     15\u001b[0m \u001b[38;5;66;03m# 단어의 공통성을 기반으로 그래프 생성\u001b[39;00m\n\u001b[0;32m     16\u001b[0m co_occurrence_matrix \u001b[38;5;241m=\u001b[39m (X\u001b[38;5;241m.\u001b[39mT \u001b[38;5;241m@\u001b[39m X)\n\u001b[1;32m---> 17\u001b[0m nx_graph \u001b[38;5;241m=\u001b[39m nx\u001b[38;5;241m.\u001b[39mfrom_scipy_sparse_matrix(co_occurrence_matrix)\n\u001b[0;32m     19\u001b[0m \u001b[38;5;66;03m# PageRank 알고리즘을 사용하여 각 단어의 중요도 평가\u001b[39;00m\n\u001b[0;32m     20\u001b[0m scores \u001b[38;5;241m=\u001b[39m nx\u001b[38;5;241m.\u001b[39mpagerank(nx_graph)\n",
      "\u001b[1;31mAttributeError\u001b[0m: module 'networkx' has no attribute 'from_scipy_sparse_matrix'"
     ]
    }
   ],
   "source": [
    "import networkx as nx\n",
    "from sklearn.feature_extraction.text import CountVectorizer\n",
    "\n",
    "# 문서 예시\n",
    "documents = [\n",
    "    \"계약 불이행 사건에 대한 판례입니다. 계약의 중요성을 강조합니다.\",\n",
    "    \"상속 분쟁 사건과 관련된 판례입니다. 계약은 법적 구속력이 있습니다.\",\n",
    "    \"이혼 소송 사건에 대한 설명입니다. 이혼 절차가 중요합니다.\"\n",
    "]\n",
    "\n",
    "# CountVectorizer를 사용하여 단어의 출현 행렬 생성\n",
    "vectorizer = CountVectorizer()\n",
    "X = vectorizer.fit_transform(documents)\n",
    "\n",
    "# 단어의 공통성을 기반으로 그래프 생성\n",
    "co_occurrence_matrix = (X.T @ X)\n",
    "nx_graph = nx.from_scipy_sparse_matrix(co_occurrence_matrix)\n",
    "\n",
    "# PageRank 알고리즘을 사용하여 각 단어의 중요도 평가\n",
    "scores = nx.pagerank(nx_graph)\n",
    "\n",
    "# 단어 및 중요도 출력\n",
    "for word, score in sorted(scores.items(), key=lambda item: item[1], reverse=True):\n",
    "    print(f\"{word}: {score:.4f}\")\n"
   ]
  },
  {
   "cell_type": "code",
   "execution_count": 39,
   "metadata": {},
   "outputs": [
    {
     "ename": "AttributeError",
     "evalue": "module 'networkx' has no attribute 'from_scipy_sparse'",
     "output_type": "error",
     "traceback": [
      "\u001b[1;31m---------------------------------------------------------------------------\u001b[0m",
      "\u001b[1;31mAttributeError\u001b[0m                            Traceback (most recent call last)",
      "Cell \u001b[1;32mIn[39], line 20\u001b[0m\n\u001b[0;32m     18\u001b[0m \u001b[38;5;66;03m# 단어의 공통성을 기반으로 그래프 생성\u001b[39;00m\n\u001b[0;32m     19\u001b[0m co_occurrence_matrix \u001b[38;5;241m=\u001b[39m (X\u001b[38;5;241m.\u001b[39mT \u001b[38;5;241m@\u001b[39m X)\u001b[38;5;241m.\u001b[39mtocoo()  \u001b[38;5;66;03m# COO 형식으로 변환\u001b[39;00m\n\u001b[1;32m---> 20\u001b[0m nx_graph \u001b[38;5;241m=\u001b[39m nx\u001b[38;5;241m.\u001b[39mfrom_scipy_sparse(co_occurrence_matrix)  \u001b[38;5;66;03m# 변경된 메서드\u001b[39;00m\n\u001b[0;32m     22\u001b[0m \u001b[38;5;66;03m# PageRank 알고리즘을 사용하여 각 단어의 중요도 평가\u001b[39;00m\n\u001b[0;32m     23\u001b[0m scores \u001b[38;5;241m=\u001b[39m nx\u001b[38;5;241m.\u001b[39mpagerank(nx_graph)\n",
      "\u001b[1;31mAttributeError\u001b[0m: module 'networkx' has no attribute 'from_scipy_sparse'"
     ]
    }
   ],
   "source": [
    "import pandas as pd\n",
    "from sklearn.feature_extraction.text import CountVectorizer\n",
    "import matplotlib.pyplot as plt\n",
    "import seaborn as sns\n",
    "import networkx as nx\n",
    "\n",
    "# 문서 예시\n",
    "documents = [\n",
    "    \"계약 불이행 사건에 대한 판례입니다. 계약의 중요성을 강조합니다.\",\n",
    "    \"상속 분쟁 사건과 관련된 판례입니다. 계약은 법적 구속력이 있습니다.\",\n",
    "    \"이혼 소송 사건에 대한 설명입니다. 이혼 절차가 중요합니다.\"\n",
    "]\n",
    "\n",
    "# CountVectorizer를 사용하여 단어의 출현 행렬 생성\n",
    "vectorizer = CountVectorizer()\n",
    "X = vectorizer.fit_transform(documents)\n",
    "\n",
    "# 단어의 공통성을 기반으로 그래프 생성\n",
    "co_occurrence_matrix = (X.T @ X).tocoo()  # COO 형식으로 변환\n",
    "nx_graph = nx.from_scipy_sparse(co_occurrence_matrix)  # 변경된 메서드\n",
    "\n",
    "# PageRank 알고리즘을 사용하여 각 단어의 중요도 평가\n",
    "scores = nx.pagerank(nx_graph)\n",
    "\n",
    "# 중요도 데이터프레임 생성\n",
    "importance_df_text_rank = pd.DataFrame(scores.items(), columns=['단어', '중요도']).sort_values(by='중요도', ascending=False)\n",
    "\n",
    "# 시각화\n",
    "plt.figure(figsize=(10, 6))\n",
    "sns.barplot(x='중요도', y='단어', data=importance_df_text_rank, palette='mako')\n",
    "plt.title('TextRank 단어 중요도')\n",
    "plt.xlabel('중요도')\n",
    "plt.ylabel('단어')\n",
    "plt.show()\n"
   ]
  },
  {
   "cell_type": "markdown",
   "metadata": {},
   "source": [
    "3. LDA (Latent Dirichlet Allocation)\n",
    "LDA: 주제 모델링 기법으로, 문서의 주제를 추출하는 데 사용됩니다. 각 단어가 특정 주제에 속할 확률을 계산하여 단어의 중요도를 평가합니다. 문서가 어떤 주제를 가지고 있는지를 이해하는 데 유용합니다."
   ]
  },
  {
   "cell_type": "code",
   "execution_count": 3,
   "metadata": {},
   "outputs": [
    {
     "name": "stdout",
     "output_type": "stream",
     "text": [
      "Topic 0: 0.134*\"이혼\" + 0.082*\"사건에\" + 0.082*\"대한\" + 0.080*\"중요합니다.\" + 0.080*\"소송\" + 0.080*\"절차가\" + 0.080*\"설명입니다.\" + 0.027*\"판례입니다.\" + 0.027*\"있습니다.\" + 0.027*\"강조합니다.\"\n",
      "Topic 1: 0.091*\"판례입니다.\" + 0.055*\"관련된\" + 0.055*\"상속\" + 0.055*\"분쟁\" + 0.055*\"계약의\" + 0.055*\"불이행\" + 0.055*\"계약은\" + 0.055*\"사건과\" + 0.055*\"구속력이\" + 0.055*\"중요성을\"\n"
     ]
    }
   ],
   "source": [
    "import gensim\n",
    "from gensim import corpora\n",
    "\n",
    "# 문서 전처리\n",
    "documents = [\n",
    "    \"계약 불이행 사건에 대한 판례입니다. 계약의 중요성을 강조합니다.\",\n",
    "    \"상속 분쟁 사건과 관련된 판례입니다. 계약은 법적 구속력이 있습니다.\",\n",
    "    \"이혼 소송 사건에 대한 설명입니다. 이혼 절차가 중요합니다.\"\n",
    "]\n",
    "\n",
    "# 토큰화\n",
    "texts = [[word for word in document.split()] for document in documents]\n",
    "\n",
    "# 단어 사전 생성\n",
    "dictionary = corpora.Dictionary(texts)\n",
    "\n",
    "# 문서-단어 행렬 생성\n",
    "corpus = [dictionary.doc2bow(text) for text in texts]\n",
    "\n",
    "# LDA 모델 학습\n",
    "lda_model = gensim.models.LdaModel(corpus, num_topics=2, id2word=dictionary, passes=10)\n",
    "\n",
    "# 주제와 단어의 관계 출력\n",
    "for idx, topic in lda_model.print_topics(-1):\n",
    "    print(f\"Topic {idx}: {topic}\")\n"
   ]
  },
  {
   "cell_type": "code",
   "execution_count": 40,
   "metadata": {},
   "outputs": [
    {
     "ename": "TypeError",
     "evalue": "to_dict() takes from 1 to 2 positional arguments but 4 were given",
     "output_type": "error",
     "traceback": [
      "\u001b[1;31m---------------------------------------------------------------------------\u001b[0m",
      "\u001b[1;31mTypeError\u001b[0m                                 Traceback (most recent call last)",
      "\u001b[1;32m~\\AppData\\Local\\Temp\\ipykernel_23848\\3924536258.py\u001b[0m in \u001b[0;36m?\u001b[1;34m()\u001b[0m\n\u001b[0;32m     17\u001b[0m \u001b[1;33m\u001b[0m\u001b[0m\n\u001b[0;32m     18\u001b[0m \u001b[1;31m# LDA 시각화\u001b[0m\u001b[1;33m\u001b[0m\u001b[1;33m\u001b[0m\u001b[0m\n\u001b[0;32m     19\u001b[0m \u001b[0mpyLDAvis\u001b[0m\u001b[1;33m.\u001b[0m\u001b[0menable_notebook\u001b[0m\u001b[1;33m(\u001b[0m\u001b[1;33m)\u001b[0m\u001b[1;33m\u001b[0m\u001b[1;33m\u001b[0m\u001b[0m\n\u001b[0;32m     20\u001b[0m \u001b[0mvis\u001b[0m \u001b[1;33m=\u001b[0m \u001b[0mpyLDAvis\u001b[0m\u001b[1;33m.\u001b[0m\u001b[0mgensim_models\u001b[0m\u001b[1;33m.\u001b[0m\u001b[0mprepare\u001b[0m\u001b[1;33m(\u001b[0m\u001b[0mlda_model\u001b[0m\u001b[1;33m,\u001b[0m \u001b[0mcorpus\u001b[0m\u001b[1;33m,\u001b[0m \u001b[0mdictionary\u001b[0m\u001b[1;33m)\u001b[0m\u001b[1;33m\u001b[0m\u001b[1;33m\u001b[0m\u001b[0m\n\u001b[1;32m---> 21\u001b[1;33m \u001b[0mpyLDAvis\u001b[0m\u001b[1;33m.\u001b[0m\u001b[0mdisplay\u001b[0m\u001b[1;33m(\u001b[0m\u001b[0mvis\u001b[0m\u001b[1;33m)\u001b[0m\u001b[1;33m\u001b[0m\u001b[1;33m\u001b[0m\u001b[0m\n\u001b[0m",
      "\u001b[1;32mc:\\Users\\sagey\\anaconda3\\Lib\\site-packages\\pyLDAvis\\_display.py\u001b[0m in \u001b[0;36m?\u001b[1;34m(data, local, **kwargs)\u001b[0m\n\u001b[0;32m    218\u001b[0m             warnings.warn(\n\u001b[0;32m    219\u001b[0m                 \"display: specified urls are ignored when local=True\")\n\u001b[0;32m    220\u001b[0m         \u001b[0mkwargs\u001b[0m\u001b[1;33m[\u001b[0m\u001b[1;34m'd3_url'\u001b[0m\u001b[1;33m]\u001b[0m\u001b[1;33m,\u001b[0m \u001b[0mkwargs\u001b[0m\u001b[1;33m[\u001b[0m\u001b[1;34m'ldavis_url'\u001b[0m\u001b[1;33m]\u001b[0m\u001b[1;33m,\u001b[0m \u001b[0mkwargs\u001b[0m\u001b[1;33m[\u001b[0m\u001b[1;34m'ldavis_css_url'\u001b[0m\u001b[1;33m]\u001b[0m \u001b[1;33m=\u001b[0m \u001b[0mwrite_ipynb_local_js\u001b[0m\u001b[1;33m(\u001b[0m\u001b[1;33m)\u001b[0m\u001b[1;33m\u001b[0m\u001b[1;33m\u001b[0m\u001b[0m\n\u001b[0;32m    221\u001b[0m \u001b[1;33m\u001b[0m\u001b[0m\n\u001b[1;32m--> 222\u001b[1;33m     \u001b[1;32mreturn\u001b[0m \u001b[0mHTML\u001b[0m\u001b[1;33m(\u001b[0m\u001b[0mprepared_data_to_html\u001b[0m\u001b[1;33m(\u001b[0m\u001b[0mdata\u001b[0m\u001b[1;33m,\u001b[0m \u001b[1;33m**\u001b[0m\u001b[0mkwargs\u001b[0m\u001b[1;33m)\u001b[0m\u001b[1;33m)\u001b[0m\u001b[1;33m\u001b[0m\u001b[1;33m\u001b[0m\u001b[0m\n\u001b[0m",
      "\u001b[1;32mc:\\Users\\sagey\\anaconda3\\Lib\\site-packages\\pyLDAvis\\_display.py\u001b[0m in \u001b[0;36m?\u001b[1;34m(data, d3_url, ldavis_url, ldavis_css_url, template_type, visid, use_http)\u001b[0m\n\u001b[0;32m    173\u001b[0m     return template.render(visid=json.dumps(visid),\n\u001b[0;32m    174\u001b[0m                            \u001b[0mvisid_raw\u001b[0m\u001b[1;33m=\u001b[0m\u001b[0mvisid\u001b[0m\u001b[1;33m,\u001b[0m\u001b[1;33m\u001b[0m\u001b[1;33m\u001b[0m\u001b[0m\n\u001b[0;32m    175\u001b[0m                            \u001b[0md3_url\u001b[0m\u001b[1;33m=\u001b[0m\u001b[0md3_url\u001b[0m\u001b[1;33m,\u001b[0m\u001b[1;33m\u001b[0m\u001b[1;33m\u001b[0m\u001b[0m\n\u001b[0;32m    176\u001b[0m                            \u001b[0mldavis_url\u001b[0m\u001b[1;33m=\u001b[0m\u001b[0mldavis_url\u001b[0m\u001b[1;33m,\u001b[0m\u001b[1;33m\u001b[0m\u001b[1;33m\u001b[0m\u001b[0m\n\u001b[1;32m--> 177\u001b[1;33m                            \u001b[0mvis_json\u001b[0m\u001b[1;33m=\u001b[0m\u001b[0mdata\u001b[0m\u001b[1;33m.\u001b[0m\u001b[0mto_json\u001b[0m\u001b[1;33m(\u001b[0m\u001b[1;33m)\u001b[0m\u001b[1;33m,\u001b[0m\u001b[1;33m\u001b[0m\u001b[1;33m\u001b[0m\u001b[0m\n\u001b[0m\u001b[0;32m    178\u001b[0m                            ldavis_css_url=ldavis_css_url)\n",
      "\u001b[1;32mc:\\Users\\sagey\\anaconda3\\Lib\\site-packages\\pyLDAvis\\_prepare.py\u001b[0m in \u001b[0;36m?\u001b[1;34m(self)\u001b[0m\n\u001b[0;32m    463\u001b[0m     \u001b[1;32mdef\u001b[0m \u001b[0mto_json\u001b[0m\u001b[1;33m(\u001b[0m\u001b[0mself\u001b[0m\u001b[1;33m)\u001b[0m\u001b[1;33m:\u001b[0m\u001b[1;33m\u001b[0m\u001b[1;33m\u001b[0m\u001b[0m\n\u001b[1;32m--> 464\u001b[1;33m         \u001b[1;32mreturn\u001b[0m \u001b[0mjson\u001b[0m\u001b[1;33m.\u001b[0m\u001b[0mdumps\u001b[0m\u001b[1;33m(\u001b[0m\u001b[0mself\u001b[0m\u001b[1;33m.\u001b[0m\u001b[0mto_dict\u001b[0m\u001b[1;33m(\u001b[0m\u001b[1;33m)\u001b[0m\u001b[1;33m,\u001b[0m \u001b[0mcls\u001b[0m\u001b[1;33m=\u001b[0m\u001b[0mNumPyEncoder\u001b[0m\u001b[1;33m)\u001b[0m\u001b[1;33m\u001b[0m\u001b[1;33m\u001b[0m\u001b[0m\n\u001b[0m",
      "\u001b[1;32mc:\\Users\\sagey\\anaconda3\\Lib\\site-packages\\pyLDAvis\\_prepare.py\u001b[0m in \u001b[0;36m?\u001b[1;34m(self)\u001b[0m\n\u001b[0;32m    454\u001b[0m     \u001b[1;32mdef\u001b[0m \u001b[0mto_dict\u001b[0m\u001b[1;33m(\u001b[0m\u001b[0mself\u001b[0m\u001b[1;33m)\u001b[0m\u001b[1;33m:\u001b[0m\u001b[1;33m\u001b[0m\u001b[1;33m\u001b[0m\u001b[0m\n\u001b[1;32m--> 455\u001b[1;33m         return {'mdsDat': self.topic_coordinates.to_dict(orient='list'),\n\u001b[0m\u001b[0;32m    456\u001b[0m                 \u001b[1;34m'tinfo'\u001b[0m\u001b[1;33m:\u001b[0m \u001b[0mself\u001b[0m\u001b[1;33m.\u001b[0m\u001b[0mtopic_info\u001b[0m\u001b[1;33m.\u001b[0m\u001b[0mto_dict\u001b[0m\u001b[1;33m(\u001b[0m\u001b[0morient\u001b[0m\u001b[1;33m=\u001b[0m\u001b[1;34m'list'\u001b[0m\u001b[1;33m)\u001b[0m\u001b[1;33m,\u001b[0m\u001b[1;33m\u001b[0m\u001b[1;33m\u001b[0m\u001b[0m\n\u001b[0;32m    457\u001b[0m                 \u001b[1;34m'token.table'\u001b[0m\u001b[1;33m:\u001b[0m \u001b[0mself\u001b[0m\u001b[1;33m.\u001b[0m\u001b[0mtoken_table\u001b[0m\u001b[1;33m.\u001b[0m\u001b[0mto_dict\u001b[0m\u001b[1;33m(\u001b[0m\u001b[0morient\u001b[0m\u001b[1;33m=\u001b[0m\u001b[1;34m'list'\u001b[0m\u001b[1;33m)\u001b[0m\u001b[1;33m,\u001b[0m\u001b[1;33m\u001b[0m\u001b[1;33m\u001b[0m\u001b[0m\n\u001b[0;32m    458\u001b[0m                 \u001b[1;34m'R'\u001b[0m\u001b[1;33m:\u001b[0m \u001b[0mself\u001b[0m\u001b[1;33m.\u001b[0m\u001b[0mR\u001b[0m\u001b[1;33m,\u001b[0m\u001b[1;33m\u001b[0m\u001b[1;33m\u001b[0m\u001b[0m\n",
      "\u001b[1;32mc:\\Users\\sagey\\anaconda3\\Lib\\site-packages\\pandas\\core\\frame.py\u001b[0m in \u001b[0;36m?\u001b[1;34m(self, orient, into, index)\u001b[0m\n",
      "\u001b[1;31mTypeError\u001b[0m: to_dict() takes from 1 to 2 positional arguments but 4 were given"
     ]
    }
   ],
   "source": [
    "import gensim\n",
    "from gensim import corpora\n",
    "import pyLDAvis\n",
    "import pyLDAvis.gensim_models\n",
    "\n",
    "# 문서 전처리\n",
    "texts = [[word for word in document.split()] for document in documents]\n",
    "\n",
    "# 단어 사전 생성\n",
    "dictionary = corpora.Dictionary(texts)\n",
    "\n",
    "# 문서-단어 행렬 생성\n",
    "corpus = [dictionary.doc2bow(text) for text in texts]\n",
    "\n",
    "# LDA 모델 학습\n",
    "lda_model = gensim.models.LdaModel(corpus, num_topics=2, id2word=dictionary, passes=10)\n",
    "\n",
    "# LDA 시각화\n",
    "pyLDAvis.enable_notebook()\n",
    "vis = pyLDAvis.gensim_models.prepare(lda_model, corpus, dictionary)\n",
    "pyLDAvis.display(vis)\n"
   ]
  },
  {
   "cell_type": "code",
   "execution_count": 41,
   "metadata": {},
   "outputs": [
    {
     "name": "stderr",
     "output_type": "stream",
     "text": [
      "c:\\Users\\sagey\\anaconda3\\Lib\\site-packages\\seaborn\\_oldcore.py:1498: DeprecationWarning: is_categorical_dtype is deprecated and will be removed in a future version. Use isinstance(dtype, pd.CategoricalDtype) instead\n",
      "  if pd.api.types.is_categorical_dtype(vector):\n",
      "c:\\Users\\sagey\\anaconda3\\Lib\\site-packages\\seaborn\\_oldcore.py:1498: DeprecationWarning: is_categorical_dtype is deprecated and will be removed in a future version. Use isinstance(dtype, pd.CategoricalDtype) instead\n",
      "  if pd.api.types.is_categorical_dtype(vector):\n",
      "c:\\Users\\sagey\\anaconda3\\Lib\\site-packages\\seaborn\\_oldcore.py:1498: DeprecationWarning: is_categorical_dtype is deprecated and will be removed in a future version. Use isinstance(dtype, pd.CategoricalDtype) instead\n",
      "  if pd.api.types.is_categorical_dtype(vector):\n"
     ]
    },
    {
     "data": {
      "image/png": "[encoded data removed]",
      "text/plain": [
       "<Figure size 1000x600 with 1 Axes>"
      ]
     },
     "metadata": {},
     "output_type": "display_data"
    },
    {
     "ename": "AttributeError",
     "evalue": "module 'networkx' has no attribute 'from_scipy_sparse'",
     "output_type": "error",
     "traceback": [
      "\u001b[1;31m---------------------------------------------------------------------------\u001b[0m",
      "\u001b[1;31mAttributeError\u001b[0m                            Traceback (most recent call last)",
      "Cell \u001b[1;32mIn[41], line 37\u001b[0m\n\u001b[0;32m     35\u001b[0m X \u001b[38;5;241m=\u001b[39m CountVectorizer()\u001b[38;5;241m.\u001b[39mfit_transform(documents)\n\u001b[0;32m     36\u001b[0m co_occurrence_matrix \u001b[38;5;241m=\u001b[39m (X\u001b[38;5;241m.\u001b[39mT \u001b[38;5;241m@\u001b[39m X)\u001b[38;5;241m.\u001b[39mtocoo()\n\u001b[1;32m---> 37\u001b[0m nx_graph \u001b[38;5;241m=\u001b[39m nx\u001b[38;5;241m.\u001b[39mfrom_scipy_sparse(co_occurrence_matrix)\n\u001b[0;32m     39\u001b[0m scores \u001b[38;5;241m=\u001b[39m nx\u001b[38;5;241m.\u001b[39mpagerank(nx_graph)\n\u001b[0;32m     40\u001b[0m importance_df_text_rank \u001b[38;5;241m=\u001b[39m pd\u001b[38;5;241m.\u001b[39mDataFrame(scores\u001b[38;5;241m.\u001b[39mitems(), columns\u001b[38;5;241m=\u001b[39m[\u001b[38;5;124m'\u001b[39m\u001b[38;5;124m단어\u001b[39m\u001b[38;5;124m'\u001b[39m, \u001b[38;5;124m'\u001b[39m\u001b[38;5;124m중요도\u001b[39m\u001b[38;5;124m'\u001b[39m])\u001b[38;5;241m.\u001b[39msort_values(by\u001b[38;5;241m=\u001b[39m\u001b[38;5;124m'\u001b[39m\u001b[38;5;124m중요도\u001b[39m\u001b[38;5;124m'\u001b[39m, ascending\u001b[38;5;241m=\u001b[39m\u001b[38;5;28;01mFalse\u001b[39;00m)\n",
      "\u001b[1;31mAttributeError\u001b[0m: module 'networkx' has no attribute 'from_scipy_sparse'"
     ]
    }
   ],
   "source": [
    "import pandas as pd\n",
    "from sklearn.feature_extraction.text import TfidfVectorizer, CountVectorizer\n",
    "import matplotlib.pyplot as plt\n",
    "import seaborn as sns\n",
    "import networkx as nx\n",
    "import gensim\n",
    "from gensim import corpora\n",
    "import pyLDAvis\n",
    "import pyLDAvis.gensim_models\n",
    "\n",
    "# 예시 문서\n",
    "documents = [\n",
    "    \"계약 불이행 사건에 대한 판례입니다. 계약의 중요성을 강조합니다.\",\n",
    "    \"상속 분쟁 사건과 관련된 판례입니다. 계약은 법적 구속력이 있습니다.\",\n",
    "    \"이혼 소송 사건에 대한 설명입니다. 이혼 절차가 중요합니다.\"\n",
    "]\n",
    "\n",
    "# 1. TF-IDF 계산 및 시각화\n",
    "vectorizer = TfidfVectorizer()\n",
    "tfidf_matrix = vectorizer.fit_transform(documents)\n",
    "df_tfidf = pd.DataFrame(tfidf_matrix.toarray(), columns=vectorizer.get_feature_names_out())\n",
    "mean_tfidf = df_tfidf.mean(axis=0)\n",
    "importance_df = pd.DataFrame(mean_tfidf).reset_index()\n",
    "importance_df.columns = ['단어', '중요도']\n",
    "importance_df = importance_df.sort_values(by='중요도', ascending=False)\n",
    "\n",
    "plt.figure(figsize=(10, 6))\n",
    "sns.barplot(x='중요도', y='단어', data=importance_df, palette='viridis')\n",
    "plt.title('TF-IDF 단어 중요도')\n",
    "plt.xlabel('중요도')\n",
    "plt.ylabel('단어')\n",
    "plt.show()\n",
    "\n",
    "# 2. TextRank 계산 및 시각화\n",
    "X = CountVectorizer().fit_transform(documents)\n",
    "co_occurrence_matrix = (X.T @ X).tocoo()\n",
    "nx_graph = nx.from_scipy_sparse(co_occurrence_matrix)\n",
    "\n",
    "scores = nx.pagerank(nx_graph)\n",
    "importance_df_text_rank = pd.DataFrame(scores.items(), columns=['단어', '중요도']).sort_values(by='중요도', ascending=False)\n",
    "\n",
    "plt.figure(figsize=(10, 6))\n",
    "sns.barplot(x='중요도', y='단어', data=importance_df_text_rank, palette='mako')\n",
    "plt.title('TextRank 단어 중요도')\n",
    "plt.xlabel('중요도')\n",
    "plt.ylabel('단어')\n",
    "plt.show()\n",
    "\n",
    "# 3. LDA 계산 및 시각화\n",
    "texts = [[word for word in document.split()] for document in documents]\n",
    "dictionary = corpora.Dictionary(texts)\n",
    "corpus = [dictionary.doc2bow(text) for text in texts]\n",
    "lda_model = gensim.models.LdaModel(corpus, num_topics=2, id2word=dictionary, passes=10)\n",
    "\n",
    "pyLDAvis.enable_notebook()\n",
    "vis = pyLDAvis.gensim_models.prepare(lda_model, corpus, dictionary)\n",
    "pyLDAvis.display(vis)\n"
   ]
  },
  {
   "cell_type": "markdown",
   "metadata": {},
   "source": [
    "4. Chi-Squared Test\n",
    "Chi-Squared Test: 각 단어가 특정 클래스(예: 긍정적/부정적 리뷰)에 얼마나 중요한지를 평가하는 통계적 방법입니다. 특정 클래스에서 단어의 출현 빈도가 기대 빈도와 얼마나 다른지를 계산합니다.\n",
    "5. Mutual Information\n",
    "Mutual Information (MI): 단어와 클래스 간의 상호 의존성을 측정합니다. 특정 단어가 클래스에 얼마나 유용한지를 평가하는 데 사용됩니다. MI 값이 높을수록 그 단어가 해당 클래스와 밀접하게 관련되어 있다고 판단할 수 있습니다.\n",
    "6. BERT 및 Transformer 모델\n",
    "BERT (Bidirectional Encoder Representations from Transformers): 문맥 기반의 단어 표현을 제공하며, 특정 문서 내에서 단어의 중요도를 평가할 수 있습니다. BERT를 사용하여 문서의 각 단어에 대한 중요도를 계산할 수 있습니다."
   ]
  },
  {
   "cell_type": "code",
   "execution_count": 42,
   "metadata": {},
   "outputs": [
    {
     "name": "stderr",
     "output_type": "stream",
     "text": [
      "c:\\Users\\sagey\\anaconda3\\Lib\\site-packages\\ipywidgets\\widgets\\widget.py:438: DeprecationWarning: The `ipykernel.comm.Comm` class has been deprecated. Please use the `comm` module instead.For creating comms, use the function `from comm import create_comm`.\n",
      "  self.comm = Comm(**args)\n",
      "c:\\Users\\sagey\\anaconda3\\Lib\\site-packages\\ipywidgets\\widgets\\widget.py:438: DeprecationWarning: The `ipykernel.comm.Comm` class has been deprecated. Please use the `comm` module instead.For creating comms, use the function `from comm import create_comm`.\n",
      "  self.comm = Comm(**args)\n",
      "c:\\Users\\sagey\\anaconda3\\Lib\\site-packages\\ipywidgets\\widgets\\widget.py:438: DeprecationWarning: The `ipykernel.comm.Comm` class has been deprecated. Please use the `comm` module instead.For creating comms, use the function `from comm import create_comm`.\n",
      "  self.comm = Comm(**args)\n",
      "c:\\Users\\sagey\\anaconda3\\Lib\\site-packages\\ipywidgets\\widgets\\widget.py:438: DeprecationWarning: The `ipykernel.comm.Comm` class has been deprecated. Please use the `comm` module instead.For creating comms, use the function `from comm import create_comm`.\n",
      "  self.comm = Comm(**args)\n",
      "c:\\Users\\sagey\\anaconda3\\Lib\\site-packages\\ipywidgets\\widgets\\widget.py:438: DeprecationWarning: The `ipykernel.comm.Comm` class has been deprecated. Please use the `comm` module instead.For creating comms, use the function `from comm import create_comm`.\n",
      "  self.comm = Comm(**args)\n",
      "c:\\Users\\sagey\\anaconda3\\Lib\\site-packages\\ipywidgets\\widgets\\widget.py:438: DeprecationWarning: The `ipykernel.comm.Comm` class has been deprecated. Please use the `comm` module instead.For creating comms, use the function `from comm import create_comm`.\n",
      "  self.comm = Comm(**args)\n",
      "c:\\Users\\sagey\\anaconda3\\Lib\\site-packages\\ipywidgets\\widgets\\widget.py:438: DeprecationWarning: The `ipykernel.comm.Comm` class has been deprecated. Please use the `comm` module instead.For creating comms, use the function `from comm import create_comm`.\n",
      "  self.comm = Comm(**args)\n",
      "c:\\Users\\sagey\\anaconda3\\Lib\\site-packages\\ipywidgets\\widgets\\widget.py:438: DeprecationWarning: The `ipykernel.comm.Comm` class has been deprecated. Please use the `comm` module instead.For creating comms, use the function `from comm import create_comm`.\n",
      "  self.comm = Comm(**args)\n",
      "c:\\Users\\sagey\\anaconda3\\Lib\\site-packages\\ipywidgets\\widgets\\widget.py:438: DeprecationWarning: The `ipykernel.comm.Comm` class has been deprecated. Please use the `comm` module instead.For creating comms, use the function `from comm import create_comm`.\n",
      "  self.comm = Comm(**args)\n",
      "c:\\Users\\sagey\\anaconda3\\Lib\\site-packages\\ipywidgets\\widgets\\widget.py:438: DeprecationWarning: The `ipykernel.comm.Comm` class has been deprecated. Please use the `comm` module instead.For creating comms, use the function `from comm import create_comm`.\n",
      "  self.comm = Comm(**args)\n",
      "c:\\Users\\sagey\\anaconda3\\Lib\\site-packages\\ipywidgets\\widgets\\widget.py:438: DeprecationWarning: The `ipykernel.comm.Comm` class has been deprecated. Please use the `comm` module instead.For creating comms, use the function `from comm import create_comm`.\n",
      "  self.comm = Comm(**args)\n"
     ]
    },
    {
     "data": {
      "application/vnd.jupyter.widget-view+json": {
       "model_id": "865b6690d518419c909b0cba7abfbeb6",
       "version_major": 2,
       "version_minor": 0
      },
      "text/plain": [
       "config.json:   0%|          | 0.00/570 [00:00<?, ?B/s]"
      ]
     },
     "metadata": {},
     "output_type": "display_data"
    },
    {
     "name": "stderr",
     "output_type": "stream",
     "text": [
      "c:\\Users\\sagey\\anaconda3\\Lib\\site-packages\\huggingface_hub\\file_download.py:147: UserWarning: `huggingface_hub` cache-system uses symlinks by default to efficiently store duplicated files but your machine does not support them in C:\\Users\\sagey\\.cache\\huggingface\\hub\\models--bert-base-uncased. Caching files will still work but in a degraded version that might require more space on your disk. This warning can be disabled by setting the `HF_HUB_DISABLE_SYMLINKS_WARNING` environment variable. For more details, see https://huggingface.co/docs/huggingface_hub/how-to-cache#limitations.\n",
      "To support symlinks on Windows, you either need to activate Developer Mode or to run Python as an administrator. In order to activate developer mode, see this article: https://docs.microsoft.com/en-us/windows/apps/get-started/enable-your-device-for-development\n",
      "  warnings.warn(message)\n",
      "c:\\Users\\sagey\\anaconda3\\Lib\\site-packages\\ipywidgets\\widgets\\widget.py:438: DeprecationWarning: The `ipykernel.comm.Comm` class has been deprecated. Please use the `comm` module instead.For creating comms, use the function `from comm import create_comm`.\n",
      "  self.comm = Comm(**args)\n",
      "c:\\Users\\sagey\\anaconda3\\Lib\\site-packages\\ipywidgets\\widgets\\widget.py:438: DeprecationWarning: The `ipykernel.comm.Comm` class has been deprecated. Please use the `comm` module instead.For creating comms, use the function `from comm import create_comm`.\n",
      "  self.comm = Comm(**args)\n",
      "c:\\Users\\sagey\\anaconda3\\Lib\\site-packages\\ipywidgets\\widgets\\widget.py:438: DeprecationWarning: The `ipykernel.comm.Comm` class has been deprecated. Please use the `comm` module instead.For creating comms, use the function `from comm import create_comm`.\n",
      "  self.comm = Comm(**args)\n",
      "c:\\Users\\sagey\\anaconda3\\Lib\\site-packages\\ipywidgets\\widgets\\widget.py:438: DeprecationWarning: The `ipykernel.comm.Comm` class has been deprecated. Please use the `comm` module instead.For creating comms, use the function `from comm import create_comm`.\n",
      "  self.comm = Comm(**args)\n",
      "c:\\Users\\sagey\\anaconda3\\Lib\\site-packages\\ipywidgets\\widgets\\widget.py:438: DeprecationWarning: The `ipykernel.comm.Comm` class has been deprecated. Please use the `comm` module instead.For creating comms, use the function `from comm import create_comm`.\n",
      "  self.comm = Comm(**args)\n",
      "c:\\Users\\sagey\\anaconda3\\Lib\\site-packages\\ipywidgets\\widgets\\widget.py:438: DeprecationWarning: The `ipykernel.comm.Comm` class has been deprecated. Please use the `comm` module instead.For creating comms, use the function `from comm import create_comm`.\n",
      "  self.comm = Comm(**args)\n",
      "c:\\Users\\sagey\\anaconda3\\Lib\\site-packages\\ipywidgets\\widgets\\widget.py:438: DeprecationWarning: The `ipykernel.comm.Comm` class has been deprecated. Please use the `comm` module instead.For creating comms, use the function `from comm import create_comm`.\n",
      "  self.comm = Comm(**args)\n",
      "c:\\Users\\sagey\\anaconda3\\Lib\\site-packages\\ipywidgets\\widgets\\widget.py:438: DeprecationWarning: The `ipykernel.comm.Comm` class has been deprecated. Please use the `comm` module instead.For creating comms, use the function `from comm import create_comm`.\n",
      "  self.comm = Comm(**args)\n",
      "c:\\Users\\sagey\\anaconda3\\Lib\\site-packages\\ipywidgets\\widgets\\widget.py:438: DeprecationWarning: The `ipykernel.comm.Comm` class has been deprecated. Please use the `comm` module instead.For creating comms, use the function `from comm import create_comm`.\n",
      "  self.comm = Comm(**args)\n",
      "c:\\Users\\sagey\\anaconda3\\Lib\\site-packages\\ipywidgets\\widgets\\widget.py:438: DeprecationWarning: The `ipykernel.comm.Comm` class has been deprecated. Please use the `comm` module instead.For creating comms, use the function `from comm import create_comm`.\n",
      "  self.comm = Comm(**args)\n",
      "c:\\Users\\sagey\\anaconda3\\Lib\\site-packages\\ipywidgets\\widgets\\widget.py:438: DeprecationWarning: The `ipykernel.comm.Comm` class has been deprecated. Please use the `comm` module instead.For creating comms, use the function `from comm import create_comm`.\n",
      "  self.comm = Comm(**args)\n"
     ]
    },
    {
     "data": {
      "application/vnd.jupyter.widget-view+json": {
       "model_id": "121ca30a18314bc6832641af03897e41",
       "version_major": 2,
       "version_minor": 0
      },
      "text/plain": [
       "model.safetensors:   0%|          | 0.00/440M [00:00<?, ?B/s]"
      ]
     },
     "metadata": {},
     "output_type": "display_data"
    },
    {
     "name": "stderr",
     "output_type": "stream",
     "text": [
      "c:\\Users\\sagey\\anaconda3\\Lib\\site-packages\\ipywidgets\\widgets\\widget.py:438: DeprecationWarning: The `ipykernel.comm.Comm` class has been deprecated. Please use the `comm` module instead.For creating comms, use the function `from comm import create_comm`.\n",
      "  self.comm = Comm(**args)\n",
      "c:\\Users\\sagey\\anaconda3\\Lib\\site-packages\\ipywidgets\\widgets\\widget.py:438: DeprecationWarning: The `ipykernel.comm.Comm` class has been deprecated. Please use the `comm` module instead.For creating comms, use the function `from comm import create_comm`.\n",
      "  self.comm = Comm(**args)\n",
      "c:\\Users\\sagey\\anaconda3\\Lib\\site-packages\\ipywidgets\\widgets\\widget.py:438: DeprecationWarning: The `ipykernel.comm.Comm` class has been deprecated. Please use the `comm` module instead.For creating comms, use the function `from comm import create_comm`.\n",
      "  self.comm = Comm(**args)\n",
      "c:\\Users\\sagey\\anaconda3\\Lib\\site-packages\\ipywidgets\\widgets\\widget.py:438: DeprecationWarning: The `ipykernel.comm.Comm` class has been deprecated. Please use the `comm` module instead.For creating comms, use the function `from comm import create_comm`.\n",
      "  self.comm = Comm(**args)\n",
      "c:\\Users\\sagey\\anaconda3\\Lib\\site-packages\\ipywidgets\\widgets\\widget.py:438: DeprecationWarning: The `ipykernel.comm.Comm` class has been deprecated. Please use the `comm` module instead.For creating comms, use the function `from comm import create_comm`.\n",
      "  self.comm = Comm(**args)\n",
      "c:\\Users\\sagey\\anaconda3\\Lib\\site-packages\\ipywidgets\\widgets\\widget.py:438: DeprecationWarning: The `ipykernel.comm.Comm` class has been deprecated. Please use the `comm` module instead.For creating comms, use the function `from comm import create_comm`.\n",
      "  self.comm = Comm(**args)\n",
      "c:\\Users\\sagey\\anaconda3\\Lib\\site-packages\\ipywidgets\\widgets\\widget.py:438: DeprecationWarning: The `ipykernel.comm.Comm` class has been deprecated. Please use the `comm` module instead.For creating comms, use the function `from comm import create_comm`.\n",
      "  self.comm = Comm(**args)\n",
      "c:\\Users\\sagey\\anaconda3\\Lib\\site-packages\\ipywidgets\\widgets\\widget.py:438: DeprecationWarning: The `ipykernel.comm.Comm` class has been deprecated. Please use the `comm` module instead.For creating comms, use the function `from comm import create_comm`.\n",
      "  self.comm = Comm(**args)\n",
      "c:\\Users\\sagey\\anaconda3\\Lib\\site-packages\\ipywidgets\\widgets\\widget.py:438: DeprecationWarning: The `ipykernel.comm.Comm` class has been deprecated. Please use the `comm` module instead.For creating comms, use the function `from comm import create_comm`.\n",
      "  self.comm = Comm(**args)\n",
      "c:\\Users\\sagey\\anaconda3\\Lib\\site-packages\\ipywidgets\\widgets\\widget.py:438: DeprecationWarning: The `ipykernel.comm.Comm` class has been deprecated. Please use the `comm` module instead.For creating comms, use the function `from comm import create_comm`.\n",
      "  self.comm = Comm(**args)\n",
      "c:\\Users\\sagey\\anaconda3\\Lib\\site-packages\\ipywidgets\\widgets\\widget.py:438: DeprecationWarning: The `ipykernel.comm.Comm` class has been deprecated. Please use the `comm` module instead.For creating comms, use the function `from comm import create_comm`.\n",
      "  self.comm = Comm(**args)\n"
     ]
    },
    {
     "data": {
      "application/vnd.jupyter.widget-view+json": {
       "model_id": "9eb31ed3a0b64dd4bda8ea7e4c92de7f",
       "version_major": 2,
       "version_minor": 0
      },
      "text/plain": [
       "tokenizer_config.json:   0%|          | 0.00/48.0 [00:00<?, ?B/s]"
      ]
     },
     "metadata": {},
     "output_type": "display_data"
    },
    {
     "name": "stderr",
     "output_type": "stream",
     "text": [
      "c:\\Users\\sagey\\anaconda3\\Lib\\site-packages\\ipywidgets\\widgets\\widget.py:438: DeprecationWarning: The `ipykernel.comm.Comm` class has been deprecated. Please use the `comm` module instead.For creating comms, use the function `from comm import create_comm`.\n",
      "  self.comm = Comm(**args)\n",
      "c:\\Users\\sagey\\anaconda3\\Lib\\site-packages\\ipywidgets\\widgets\\widget.py:438: DeprecationWarning: The `ipykernel.comm.Comm` class has been deprecated. Please use the `comm` module instead.For creating comms, use the function `from comm import create_comm`.\n",
      "  self.comm = Comm(**args)\n",
      "c:\\Users\\sagey\\anaconda3\\Lib\\site-packages\\ipywidgets\\widgets\\widget.py:438: DeprecationWarning: The `ipykernel.comm.Comm` class has been deprecated. Please use the `comm` module instead.For creating comms, use the function `from comm import create_comm`.\n",
      "  self.comm = Comm(**args)\n",
      "c:\\Users\\sagey\\anaconda3\\Lib\\site-packages\\ipywidgets\\widgets\\widget.py:438: DeprecationWarning: The `ipykernel.comm.Comm` class has been deprecated. Please use the `comm` module instead.For creating comms, use the function `from comm import create_comm`.\n",
      "  self.comm = Comm(**args)\n",
      "c:\\Users\\sagey\\anaconda3\\Lib\\site-packages\\ipywidgets\\widgets\\widget.py:438: DeprecationWarning: The `ipykernel.comm.Comm` class has been deprecated. Please use the `comm` module instead.For creating comms, use the function `from comm import create_comm`.\n",
      "  self.comm = Comm(**args)\n",
      "c:\\Users\\sagey\\anaconda3\\Lib\\site-packages\\ipywidgets\\widgets\\widget.py:438: DeprecationWarning: The `ipykernel.comm.Comm` class has been deprecated. Please use the `comm` module instead.For creating comms, use the function `from comm import create_comm`.\n",
      "  self.comm = Comm(**args)\n",
      "c:\\Users\\sagey\\anaconda3\\Lib\\site-packages\\ipywidgets\\widgets\\widget.py:438: DeprecationWarning: The `ipykernel.comm.Comm` class has been deprecated. Please use the `comm` module instead.For creating comms, use the function `from comm import create_comm`.\n",
      "  self.comm = Comm(**args)\n",
      "c:\\Users\\sagey\\anaconda3\\Lib\\site-packages\\ipywidgets\\widgets\\widget.py:438: DeprecationWarning: The `ipykernel.comm.Comm` class has been deprecated. Please use the `comm` module instead.For creating comms, use the function `from comm import create_comm`.\n",
      "  self.comm = Comm(**args)\n",
      "c:\\Users\\sagey\\anaconda3\\Lib\\site-packages\\ipywidgets\\widgets\\widget.py:438: DeprecationWarning: The `ipykernel.comm.Comm` class has been deprecated. Please use the `comm` module instead.For creating comms, use the function `from comm import create_comm`.\n",
      "  self.comm = Comm(**args)\n",
      "c:\\Users\\sagey\\anaconda3\\Lib\\site-packages\\ipywidgets\\widgets\\widget.py:438: DeprecationWarning: The `ipykernel.comm.Comm` class has been deprecated. Please use the `comm` module instead.For creating comms, use the function `from comm import create_comm`.\n",
      "  self.comm = Comm(**args)\n",
      "c:\\Users\\sagey\\anaconda3\\Lib\\site-packages\\ipywidgets\\widgets\\widget.py:438: DeprecationWarning: The `ipykernel.comm.Comm` class has been deprecated. Please use the `comm` module instead.For creating comms, use the function `from comm import create_comm`.\n",
      "  self.comm = Comm(**args)\n"
     ]
    },
    {
     "data": {
      "application/vnd.jupyter.widget-view+json": {
       "model_id": "97efc03e61d342df9a771df834c15438",
       "version_major": 2,
       "version_minor": 0
      },
      "text/plain": [
       "vocab.txt:   0%|          | 0.00/232k [00:00<?, ?B/s]"
      ]
     },
     "metadata": {},
     "output_type": "display_data"
    },
    {
     "name": "stderr",
     "output_type": "stream",
     "text": [
      "c:\\Users\\sagey\\anaconda3\\Lib\\site-packages\\ipywidgets\\widgets\\widget.py:438: DeprecationWarning: The `ipykernel.comm.Comm` class has been deprecated. Please use the `comm` module instead.For creating comms, use the function `from comm import create_comm`.\n",
      "  self.comm = Comm(**args)\n",
      "c:\\Users\\sagey\\anaconda3\\Lib\\site-packages\\ipywidgets\\widgets\\widget.py:438: DeprecationWarning: The `ipykernel.comm.Comm` class has been deprecated. Please use the `comm` module instead.For creating comms, use the function `from comm import create_comm`.\n",
      "  self.comm = Comm(**args)\n",
      "c:\\Users\\sagey\\anaconda3\\Lib\\site-packages\\ipywidgets\\widgets\\widget.py:438: DeprecationWarning: The `ipykernel.comm.Comm` class has been deprecated. Please use the `comm` module instead.For creating comms, use the function `from comm import create_comm`.\n",
      "  self.comm = Comm(**args)\n",
      "c:\\Users\\sagey\\anaconda3\\Lib\\site-packages\\ipywidgets\\widgets\\widget.py:438: DeprecationWarning: The `ipykernel.comm.Comm` class has been deprecated. Please use the `comm` module instead.For creating comms, use the function `from comm import create_comm`.\n",
      "  self.comm = Comm(**args)\n",
      "c:\\Users\\sagey\\anaconda3\\Lib\\site-packages\\ipywidgets\\widgets\\widget.py:438: DeprecationWarning: The `ipykernel.comm.Comm` class has been deprecated. Please use the `comm` module instead.For creating comms, use the function `from comm import create_comm`.\n",
      "  self.comm = Comm(**args)\n",
      "c:\\Users\\sagey\\anaconda3\\Lib\\site-packages\\ipywidgets\\widgets\\widget.py:438: DeprecationWarning: The `ipykernel.comm.Comm` class has been deprecated. Please use the `comm` module instead.For creating comms, use the function `from comm import create_comm`.\n",
      "  self.comm = Comm(**args)\n",
      "c:\\Users\\sagey\\anaconda3\\Lib\\site-packages\\ipywidgets\\widgets\\widget.py:438: DeprecationWarning: The `ipykernel.comm.Comm` class has been deprecated. Please use the `comm` module instead.For creating comms, use the function `from comm import create_comm`.\n",
      "  self.comm = Comm(**args)\n",
      "c:\\Users\\sagey\\anaconda3\\Lib\\site-packages\\ipywidgets\\widgets\\widget.py:438: DeprecationWarning: The `ipykernel.comm.Comm` class has been deprecated. Please use the `comm` module instead.For creating comms, use the function `from comm import create_comm`.\n",
      "  self.comm = Comm(**args)\n",
      "c:\\Users\\sagey\\anaconda3\\Lib\\site-packages\\ipywidgets\\widgets\\widget.py:438: DeprecationWarning: The `ipykernel.comm.Comm` class has been deprecated. Please use the `comm` module instead.For creating comms, use the function `from comm import create_comm`.\n",
      "  self.comm = Comm(**args)\n",
      "c:\\Users\\sagey\\anaconda3\\Lib\\site-packages\\ipywidgets\\widgets\\widget.py:438: DeprecationWarning: The `ipykernel.comm.Comm` class has been deprecated. Please use the `comm` module instead.For creating comms, use the function `from comm import create_comm`.\n",
      "  self.comm = Comm(**args)\n",
      "c:\\Users\\sagey\\anaconda3\\Lib\\site-packages\\ipywidgets\\widgets\\widget.py:438: DeprecationWarning: The `ipykernel.comm.Comm` class has been deprecated. Please use the `comm` module instead.For creating comms, use the function `from comm import create_comm`.\n",
      "  self.comm = Comm(**args)\n"
     ]
    },
    {
     "data": {
      "application/vnd.jupyter.widget-view+json": {
       "model_id": "44689212dc484c4d80ddb44a4f85ceea",
       "version_major": 2,
       "version_minor": 0
      },
      "text/plain": [
       "tokenizer.json:   0%|          | 0.00/466k [00:00<?, ?B/s]"
      ]
     },
     "metadata": {},
     "output_type": "display_data"
    },
    {
     "name": "stderr",
     "output_type": "stream",
     "text": [
      "c:\\Users\\sagey\\anaconda3\\Lib\\site-packages\\transformers\\tokenization_utils_base.py:1617: FutureWarning: `clean_up_tokenization_spaces` was not set. It will be set to `True` by default. This behavior will be deprecated in transformers v4.45, and will be then set to `False` by default. For more details check this issue: https://github.com/huggingface/transformers/issues/31884\n",
      "  warnings.warn(\n"
     ]
    },
    {
     "ename": "AttributeError",
     "evalue": "'float' object has no attribute 'mean'",
     "output_type": "error",
     "traceback": [
      "\u001b[1;31m---------------------------------------------------------------------------\u001b[0m",
      "\u001b[1;31mAttributeError\u001b[0m                            Traceback (most recent call last)",
      "Cell \u001b[1;32mIn[42], line 16\u001b[0m\n\u001b[0;32m     13\u001b[0m word_importance \u001b[38;5;241m=\u001b[39m features[\u001b[38;5;241m0\u001b[39m][\u001b[38;5;241m0\u001b[39m]\n\u001b[0;32m     15\u001b[0m \u001b[38;5;28;01mfor\u001b[39;00m i, word \u001b[38;5;129;01min\u001b[39;00m \u001b[38;5;28menumerate\u001b[39m(document\u001b[38;5;241m.\u001b[39msplit()):\n\u001b[1;32m---> 16\u001b[0m     \u001b[38;5;28mprint\u001b[39m(\u001b[38;5;124mf\u001b[39m\u001b[38;5;124m\"\u001b[39m\u001b[38;5;132;01m{\u001b[39;00mword\u001b[38;5;132;01m}\u001b[39;00m\u001b[38;5;124m: \u001b[39m\u001b[38;5;132;01m{\u001b[39;00mword_importance[i]\u001b[38;5;241m.\u001b[39mmean()\u001b[38;5;132;01m:\u001b[39;00m\u001b[38;5;124m.4f\u001b[39m\u001b[38;5;132;01m}\u001b[39;00m\u001b[38;5;124m\"\u001b[39m)\n",
      "\u001b[1;31mAttributeError\u001b[0m: 'float' object has no attribute 'mean'"
     ]
    }
   ],
   "source": [
    "from transformers import pipeline\n",
    "\n",
    "# BERT를 사용한 문장 중요도 평가\n",
    "nlp = pipeline(\"feature-extraction\", model=\"bert-base-uncased\")\n",
    "\n",
    "# 문서 입력\n",
    "document = \"계약 불이행 사건에 대한 판례입니다. 계약의 중요성을 강조합니다.\"\n",
    "\n",
    "# 벡터화\n",
    "features = nlp(document)\n",
    "\n",
    "# 단어 중요도 계산\n",
    "word_importance = features[0][0]\n",
    "\n",
    "for i, word in enumerate(document.split()):\n",
    "    print(f\"{word}: {word_importance[i].mean():.4f}\")\n"
   ]
  },
  {
   "cell_type": "code",
   "execution_count": 43,
   "metadata": {},
   "outputs": [
    {
     "data": {
      "image/png": "[encoded data removed]",
      "text/plain": [
       "<Figure size 1000x500 with 1 Axes>"
      ]
     },
     "metadata": {},
     "output_type": "display_data"
    }
   ],
   "source": [
    "from wordcloud import WordCloud\n",
    "import matplotlib.pyplot as plt\n",
    "\n",
    "text = \"계약 불이행 사건 상속 이혼 판례\"\n",
    "\n",
    "# WordCloud 생성\n",
    "wordcloud = WordCloud(font_path=\"C:/Windows/Fonts/malgun.ttf\", width=800, height=400).generate(text)\n",
    "\n",
    "# 시각화\n",
    "plt.figure(figsize=(10, 5))\n",
    "plt.imshow(wordcloud, interpolation='bilinear')\n",
    "plt.axis('off')  # 축 표시 안함\n",
    "plt.show()\n"
   ]
  }
 ],
 "metadata": {
  "kernelspec": {
   "display_name": "base",
   "language": "python",
   "name": "python3"
  },
  "language_info": {
   "codemirror_mode": {
    "name": "ipython",
    "version": 3
   },
   "file_extension": ".py",
   "mimetype": "text/x-python",
   "name": "python",
   "nbconvert_exporter": "python",
   "pygments_lexer": "ipython3",
   "version": "3.11.7"
  }
 },
 "nbformat": 4,
 "nbformat_minor": 2
}
