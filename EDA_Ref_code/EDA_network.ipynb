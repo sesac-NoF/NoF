{
 "cells": [
  {
   "cell_type": "markdown",
   "metadata": {},
   "source": [
    "네트워크 분석 설명\n",
    "노드(Node): 법률, 판사, 변호사, 참조 판례 등 분석 대상입니다.\n",
    "엣지(Edge): 노드들 간의 관계를 나타내는 연결선입니다. 예를 들어, 특정 판사가 특정 법률을 다룬 사건이 있으면 그 판사와 법률 간에 엣지를 연결합니다.\n",
    "네트워크 시각화: networkx를 사용해 네트워크를 시각화합니다. 각각의 관계를 노드와 엣지로 표현하며, 시각화를 통해 관계망의 구조를 파악할 수 있습니다."
   ]
  },
  {
   "cell_type": "markdown",
   "metadata": {},
   "source": [
    "1. 특정 법률과 판사 간 네트워크 분석"
   ]
  },
  {
   "cell_type": "code",
   "execution_count": null,
   "metadata": {},
   "outputs": [],
   "source": [
    "import networkx as nx\n",
    "import matplotlib.pyplot as plt\n",
    "\n",
    "# 그래프 생성\n",
    "G = nx.Graph()\n",
    "\n",
    "# 법률과 판사 간 관계 데이터 추출\n",
    "# 예를 들어 특정 법에 대해 판사가 다룬 사건을 통해 관계 추출\n",
    "law_judge_relations = [\n",
    "    (\"형법 제250조\", \"김판사\"),\n",
    "    (\"형법 제250조\", \"이판사\"),\n",
    "    (\"민법 제100조\", \"박판사\"),\n",
    "    # 실제 데이터에 따라 관계 추가\n",
    "]\n",
    "\n",
    "# 법률과 판사 관계를 그래프에 추가\n",
    "for law, judge in law_judge_relations:\n",
    "    G.add_edge(law, judge)\n",
    "\n",
    "# 네트워크 시각화\n",
    "plt.figure(figsize=(10, 10))\n",
    "nx.draw(G, with_labels=True, node_color=\"skyblue\", font_size=10, font_weight='bold', node_size=3000)\n",
    "plt.show()\n"
   ]
  },
  {
   "cell_type": "markdown",
   "metadata": {},
   "source": [
    "2. 변호사와 판사 간 네트워크 분석"
   ]
  },
  {
   "cell_type": "code",
   "execution_count": null,
   "metadata": {},
   "outputs": [],
   "source": [
    "# 변호사와 판사 간 관계 데이터 추출\n",
    "lawyer_judge_relations = [\n",
    "    (\"김변호사\", \"김판사\"),\n",
    "    (\"이변호사\", \"박판사\"),\n",
    "    (\"최변호사\", \"이판사\"),\n",
    "    # 실제 데이터에 따라 관계 추가\n",
    "]\n",
    "\n",
    "# 변호사와 판사 관계를 그래프에 추가\n",
    "for lawyer, judge in lawyer_judge_relations:\n",
    "    G.add_edge(lawyer, judge)\n",
    "\n",
    "# 네트워크 시각화\n",
    "plt.figure(figsize=(10, 10))\n",
    "nx.draw(G, with_labels=True, node_color=\"lightgreen\", font_size=10, font_weight='bold', node_size=3000)\n",
    "plt.show()\n"
   ]
  },
  {
   "cell_type": "markdown",
   "metadata": {},
   "source": [
    "3. 변호사와 참조 법률, 참조 판례 간 네트워크 분석"
   ]
  },
  {
   "cell_type": "code",
   "execution_count": null,
   "metadata": {},
   "outputs": [],
   "source": [
    "# 변호사, 참조 법률, 참조 판례 간 관계 데이터 추출\n",
    "lawyer_law_precedent_relations = [\n",
    "    (\"김변호사\", \"형법 제250조\"),\n",
    "    (\"김변호사\", \"대법원 2010년 5월 25일 판결\"),\n",
    "    (\"이변호사\", \"민법 제100조\"),\n",
    "    (\"이변호사\", \"대법원 2005년 3월 10일 판결\"),\n",
    "    # 실제 데이터에 따라 관계 추가\n",
    "]\n",
    "\n",
    "# 변호사, 법률, 판례 간 관계를 그래프에 추가\n",
    "for lawyer, entity in lawyer_law_precedent_relations:\n",
    "    G.add_edge(lawyer, entity)\n",
    "\n",
    "# 네트워크 시각화\n",
    "plt.figure(figsize=(10, 10))\n",
    "nx.draw(G, with_labels=True, node_color=\"lightcoral\", font_size=10, font_weight='bold', node_size=3000)\n",
    "plt.show()\n"
   ]
  },
  {
   "cell_type": "markdown",
   "metadata": {},
   "source": [
    "네트워크 분석에서 중심성 분석과 커뮤니티 탐지는 매우 중요한 기법입니다. 이를 통해 네트워크에서 중요한 노드(판사, 변호사, 법률 등)를 파악하고, 관계망 내에서 자연스럽게 형성된 그룹(커뮤니티)을 발견할 수 있습니다."
   ]
  },
  {
   "cell_type": "markdown",
   "metadata": {},
   "source": [
    "1. 중심성 분석\n",
    "중심성 분석을 통해 네트워크에서 가장 중요한 노드(중앙에 위치한 노드)를 찾을 수 있습니다. 중심성은 여러 가지 방법으로 계산할 수 있습니다.\n",
    "\n",
    "Degree Centrality: 한 노드가 다른 노드와 연결된 수.\n",
    "Betweenness Centrality: 네트워크 내에서 어떤 노드가 두 노드를 연결하는 경로에 얼마나 자주 포함되는가.\n",
    "Closeness Centrality: 한 노드가 네트워크 내 다른 노드들과 얼마나 가까운가.\n",
    "Eigenvector Centrality: 노드가 연결된 다른 노드들의 중요도를 반영하여 중심성을 측정."
   ]
  },
  {
   "cell_type": "code",
   "execution_count": null,
   "metadata": {},
   "outputs": [],
   "source": [
    "import networkx as nx\n",
    "import matplotlib.pyplot as plt\n",
    "\n",
    "# 네트워크 생성 (법률, 판사, 변호사 간 관계)\n",
    "G = nx.Graph()\n",
    "\n",
    "# 관계 데이터 예시\n",
    "relationships = [\n",
    "    (\"김판사\", \"형법 제250조\"),\n",
    "    (\"박판사\", \"형법 제250조\"),\n",
    "    (\"김변호사\", \"박판사\"),\n",
    "    (\"이변호사\", \"김판사\"),\n",
    "    (\"김변호사\", \"형법 제250조\"),\n",
    "    # 실제 데이터에 따라 더 추가 가능\n",
    "]\n",
    "\n",
    "# 관계를 그래프에 추가\n",
    "for node1, node2 in relationships:\n",
    "    G.add_edge(node1, node2)\n",
    "\n",
    "# 중심성 계산\n",
    "degree_centrality = nx.degree_centrality(G)  # 연결 정도 중심성\n",
    "betweenness_centrality = nx.betweenness_centrality(G)  # 매개 중심성\n",
    "closeness_centrality = nx.closeness_centrality(G)  # 근접 중심성\n",
    "eigenvector_centrality = nx.eigenvector_centrality(G)  # 고유벡터 중심성\n",
    "\n",
    "# 각 중심성을 출력\n",
    "print(\"Degree Centrality:\", degree_centrality)\n",
    "print(\"Betweenness Centrality:\", betweenness_centrality)\n",
    "print(\"Closeness Centrality:\", closeness_centrality)\n",
    "print(\"Eigenvector Centrality:\", eigenvector_centrality)\n",
    "\n",
    "# 네트워크 시각화 (노드 크기와 중심성을 연관지음)\n",
    "plt.figure(figsize=(10, 10))\n",
    "node_size = [v * 1000 for v in degree_centrality.values()]  # 연결 정도 중심성에 비례한 노드 크기\n",
    "nx.draw(G, with_labels=True, node_size=node_size, node_color='skyblue', font_size=10, font_weight='bold')\n",
    "plt.show()\n"
   ]
  },
  {
   "cell_type": "markdown",
   "metadata": {},
   "source": [
    "2. 커뮤니티 탐지\n",
    "커뮤니티 탐지는 네트워크 내에서 자연스럽게 형성된 그룹을 찾는 데 사용됩니다. Louvain 방법과 같은 기법이 자주 사용됩니다. 이 기법은 노드들을 여러 그룹으로 나누어 네트워크의 모듈성을 최대로 하려는 시도를 합니다."
   ]
  },
  {
   "cell_type": "code",
   "execution_count": null,
   "metadata": {},
   "outputs": [],
   "source": [
    "import community as community_louvain\n",
    "import networkx as nx\n",
    "import matplotlib.pyplot as plt\n",
    "\n",
    "# 관계를 기반으로 네트워크 생성\n",
    "G = nx.Graph()\n",
    "\n",
    "relationships = [\n",
    "    (\"김판사\", \"형법 제250조\"),\n",
    "    (\"박판사\", \"형법 제250조\"),\n",
    "    (\"김변호사\", \"박판사\"),\n",
    "    (\"이변호사\", \"김판사\"),\n",
    "    (\"김변호사\", \"형법 제250조\"),\n",
    "    (\"이판사\", \"민법 제100조\"),\n",
    "    # 실제 데이터에 따라 더 추가 가능\n",
    "]\n",
    "\n",
    "for node1, node2 in relationships:\n",
    "    G.add_edge(node1, node2)\n",
    "\n",
    "# 커뮤니티 탐지 (Louvain 방법 사용)\n",
    "partition = community_louvain.best_partition(G)\n",
    "\n",
    "# 각 노드의 커뮤니티 할당 출력\n",
    "print(partition)\n",
    "\n",
    "# 커뮤니티별로 노드 색상을 다르게 설정\n",
    "node_color = [partition[node] for node in G.nodes()]\n",
    "\n",
    "# 네트워크 시각화 (커뮤니티별로 색상을 달리함)\n",
    "plt.figure(figsize=(10, 10))\n",
    "nx.draw(G, node_color=node_color, with_labels=True, cmap=plt.cm.rainbow, node_size=3000, font_size=10)\n",
    "plt.show()\n"
   ]
  },
  {
   "cell_type": "markdown",
   "metadata": {},
   "source": [
    "3. 결과 해석\n",
    "중심성 분석: 중심성이 높은 노드는 네트워크에서 중요한 역할을 한다고 볼 수 있습니다. 예를 들어, **매개 중심성(Betweenness Centrality)**이 높은 변호사나 판사는 다양한 법률 및 판례 사이에서 중요한 중개 역할을 할 가능성이 큽니다. **고유벡터 중심성(Eigenvector Centrality)**이 높은 노드는 중요한 사람이나 법률과 강하게 연결된 노드입니다.\n",
    "\n",
    "커뮤니티 탐지: 탐지된 커뮤니티는 네트워크 내에서 서로 강하게 연결된 노드들의 그룹을 나타냅니다. 예를 들어, 특정 법률에 자주 연관된 판사와 변호사들이 커뮤니티를 형성할 수 있습니다. 이를 통해 특정 사건이나 법률에 특화된 인물이나 그룹을 파악할 수 있습니다."
   ]
  }
 ],
 "metadata": {
  "kernelspec": {
   "display_name": "base",
   "language": "python",
   "name": "python3"
  },
  "language_info": {
   "name": "python",
   "version": "3.11.7"
  }
 },
 "nbformat": 4,
 "nbformat_minor": 2
}
