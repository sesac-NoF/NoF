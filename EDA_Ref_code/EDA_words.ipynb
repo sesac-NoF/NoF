{
 "cells": [
  {
   "cell_type": "markdown",
   "metadata": {},
   "source": [
    "1. 판례 내 사용 단어 빈도 분석"
   ]
  },
  {
   "cell_type": "code",
   "execution_count": null,
   "metadata": {
    "vscode": {
     "languageId": "plaintext"
    }
   },
   "outputs": [],
   "source": [
    "import pandas as pd\n",
    "from collections import Counter\n",
    "from konlpy.tag import Okt\n",
    "from sklearn.feature_extraction.text import CountVectorizer\n",
    "\n",
    "# 판례 데이터를 불러옴 (예시로 DataFrame 사용)\n",
    "data = pd.read_csv(\"cases.csv\")  # 판례 데이터를 불러온다고 가정\n",
    "documents = data['content']  # 판례 내용이 담긴 열\n",
    "\n",
    "# 한글 형태소 분석기 사용 (Okt)\n",
    "okt = Okt()\n",
    "\n",
    "# 모든 판례에서 명사만 추출\n",
    "nouns = []\n",
    "for doc in documents:\n",
    "    nouns.extend(okt.nouns(doc))\n",
    "\n",
    "# 빈도 분석\n",
    "word_freq = Counter(nouns)\n",
    "most_common_words = word_freq.most_common(20)  # 가장 많이 등장한 20개 단어\n",
    "\n",
    "print(most_common_words)\n"
   ]
  },
  {
   "cell_type": "markdown",
   "metadata": {},
   "source": [
    "2. 판례 내 단어 간 상관관계 분석"
   ]
  },
  {
   "cell_type": "code",
   "execution_count": null,
   "metadata": {
    "vscode": {
     "languageId": "plaintext"
    }
   },
   "outputs": [],
   "source": [
    "from sklearn.feature_extraction.text import TfidfVectorizer\n",
    "import seaborn as sns\n",
    "import matplotlib.pyplot as plt\n",
    "\n",
    "# TF-IDF Vectorizer로 문서-단어 행렬 생성\n",
    "vectorizer = TfidfVectorizer(max_features=100)  # 상위 100개 단어로 제한\n",
    "X = vectorizer.fit_transform(documents)\n",
    "\n",
    "# 단어 간 상관관계 분석\n",
    "correlation_matrix = (X.T * X).toarray()\n",
    "\n",
    "# 상관관계 시각화\n",
    "sns.heatmap(correlation_matrix, annot=False, cmap=\"coolwarm\")\n",
    "plt.show()\n"
   ]
  },
  {
   "cell_type": "markdown",
   "metadata": {},
   "source": [
    "3. 판례 내 참조 법률 도출"
   ]
  },
  {
   "cell_type": "code",
   "execution_count": null,
   "metadata": {
    "vscode": {
     "languageId": "plaintext"
    }
   },
   "outputs": [],
   "source": [
    "import re\n",
    "\n",
    "# 참조 법률을 정규식으로 추출 (예시: \"형법 제000조\" 형태의 법 조항)\n",
    "law_pattern = r'(형법\\s*제\\s*\\d+조)'\n",
    "\n",
    "laws = []\n",
    "for doc in documents:\n",
    "    found_laws = re.findall(law_pattern, doc)\n",
    "    laws.extend(found_laws)\n",
    "\n",
    "# 빈도 분석\n",
    "law_freq = Counter(laws)\n",
    "print(law_freq.most_common(20))\n"
   ]
  },
  {
   "cell_type": "code",
   "execution_count": null,
   "metadata": {
    "vscode": {
     "languageId": "plaintext"
    }
   },
   "outputs": [],
   "source": [
    "4. 판례 내 참조 선례 도출"
   ]
  },
  {
   "cell_type": "code",
   "execution_count": null,
   "metadata": {
    "vscode": {
     "languageId": "plaintext"
    }
   },
   "outputs": [],
   "source": [
    "# 판례에서 특정 선례를 참조하는 부분 찾기 (예시: \"대법원 0000년 00월 00일 판결\" 형태)\n",
    "precedent_pattern = r'(대법원\\s*\\d+년\\s*\\d+월\\s*\\d+일\\s*판결)'\n",
    "\n",
    "precedents = []\n",
    "for doc in documents:\n",
    "    found_precedents = re.findall(precedent_pattern, doc)\n",
    "    precedents.extend(found_precedents)\n",
    "\n",
    "# 빈도 분석\n",
    "precedent_freq = Counter(precedents)\n",
    "print(precedent_freq.most_common(20))\n"
   ]
  },
  {
   "cell_type": "markdown",
   "metadata": {},
   "source": [
    "5. 특정 법에 대한 판사별 사용 단어 분석"
   ]
  },
  {
   "cell_type": "code",
   "execution_count": null,
   "metadata": {
    "vscode": {
     "languageId": "plaintext"
    }
   },
   "outputs": [],
   "source": [
    "# 판례 데이터에 판사별 정보가 포함되어 있다고 가정\n",
    "# 특정 법에 대해 분석할 텍스트 필터링 (예시: '형법 제250조'가 포함된 판례만)\n",
    "specific_law = '형법 제250조'\n",
    "filtered_cases = data[data['content'].str.contains(specific_law)]\n",
    "\n",
    "# 판사별로 텍스트 분석\n",
    "judge_words = {}\n",
    "for judge, group in filtered_cases.groupby('judge'):\n",
    "    all_text = ' '.join(group['content'])\n",
    "    nouns = okt.nouns(all_text)\n",
    "    judge_words[judge] = Counter(nouns).most_common(10)  # 각 판사별 상위 10개 단어\n",
    "\n",
    "# 결과 출력\n",
    "for judge, words in judge_words.items():\n",
    "    print(f\"Judge: {judge}\")\n",
    "    print(f\"Top words: {words}\")\n"
   ]
  }
 ],
 "metadata": {
  "language_info": {
   "name": "python"
  }
 },
 "nbformat": 4,
 "nbformat_minor": 2
}
