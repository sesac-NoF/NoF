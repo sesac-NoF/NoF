{
 "cells": [
  {
   "cell_type": "code",
   "execution_count": 9,
   "metadata": {},
   "outputs": [
    {
     "name": "stdout",
     "output_type": "stream",
     "text": [
      "Empty DataFrame\n",
      "Columns: [1차환송판결, 2심판결, 각상고인, 감호요건사실, 감호청구인, 검사, 결론, 결정사항, 결정이유, 경정대상판결, 고인, 공동소송참가인, 공동소송참가인,상고인, 공동소송참가인,상고인겸피상고인, 공소기각부분, 공소기각에대한판단, 공판관여검사, 관리인, 권리승계참가인, 권리승계참가인,상고인, 담당변호사, 당사자, 당사자참가인, 당사자참가인(피상고인겸상고인), 당사자참가인,상고인, 당원의사실인정, 당원의심판범위, 당원의판단, 대리인, 대법원결정, 대법원판결, 대위신청인, 대위신청인겸항고인, 독립당사자참가인, 독립당사자참가인(반소피고),피상고인, 독립당사자참가인(반소피고),항소인, 독립당사자참가인(반소피고,상고인겸피상고인), 독립당사자참가인(재심피고), 독립당사자참가인(피고보조참가인),상고인, 독립당사자참가인(피상고인), 독립당사자참가인,상고인, 독립당사자참가인,신청인, 독립당사자참가인,피상고인, 독립당사자참가인,피상고인겸,상고인, 독립당사자참가인,피상고인겸상고인, 독립당사자참가인,항소인, 독립당사자참가인겸상고인, 독립당사자참가인겸피고11의보조참가인,피상고인, 독립당사자참가인상고인, 면소부분, 무죄등부분, 무죄및공소기각부분, 무죄부분, 무죄부분(주위적공소사실에대한판단), 무죄부분에관한판단, 무죄부분에대한판단, 무죄부분판단, 반대의견, 반소원고,피상고인, 반소피고,상고인, 반심판청구인,피상고인, 반심판피청구인,상고인, 배상신청에대한판단, 배상신청인, 범죄사실, 범죄사실및감호요건사실, 범죄사실및감호원인사실, 범죄사실및감호청구원인사실, 범죄사실및증거의요지, 법령의적용, 법령적용, 법률의적용, 변론종결, 변호사, 변호인, 변호인(국선), 변호인,변호사, 변호인들의정당행위주장에대한판단, 변호인의주장에관한판단, 변호인의주장에대한판단, 별지생략, 별표, 별표1, 볍령의적용, 보조인, 보조참가인, 보조참가인(선정당사자), 보조참가인,상고인, 보조참가인,항소인, 보호감호청구에관한판단, 보호소년, 보호자, 본소청구및항소취지, 본소청구취지, 본소청구취지및원고의항소취지, 본안사건, 불복대상결정, 비상상고인, 비약적상고인, 비행사실, ...]\n",
      "Index: []\n",
      "\n",
      "[0 rows x 3474 columns]\n"
     ]
    }
   ],
   "source": [
    "import pandas as pd\n",
    "import glob\n",
    "\n",
    "# CSV 파일이 있는 디렉터리 경로 설정\n",
    "path = 'data/'  # 변경: CSV 파일 경로\n",
    "all_files = glob.glob(path + \"*list*.csv\")  # 모든 CSV 파일 가져오기\n",
    "\n",
    "# 빈 리스트를 생성하여 데이터프레임을 저장\n",
    "dataframes = []\n",
    "\n",
    "# 모든 CSV 파일을 읽어 데이터프레임에 추가\n",
    "for filename in all_files:\n",
    "    try:\n",
    "        df = pd.read_csv(filename, encoding='utf-8')  # 기본 인코딩\n",
    "    except UnicodeDecodeError:\n",
    "        df = pd.read_csv(filename, encoding='EUC-KR')  # 대체 인코딩\n",
    "    dataframes.append(df)  # 리스트에 추가\n",
    "\n",
    "# 모든 데이터프레임을 하나로 합치기\n",
    "combined_df = pd.concat(dataframes, ignore_index=True)\n",
    "\n",
    "# 결과 확인\n",
    "print(combined_df)\n",
    "\n",
    "# 필요시 CSV 파일로 저장\n",
    "combined_df.to_csv('data/combined_file.csv', index=False)  # 변경: 저장할 경로"
   ]
  },
  {
   "cell_type": "code",
   "execution_count": 8,
   "metadata": {},
   "outputs": [
    {
     "name": "stdout",
     "output_type": "stream",
     "text": [
      "EUC-KR\n",
      "utf-8\n"
     ]
    }
   ],
   "source": [
    "import chardet\n",
    "\n",
    "with open('data/detail_list_jh.csv', 'rb') as f:\n",
    "    result = chardet.detect(f.read())\n",
    "    print(result['encoding'])\n",
    "\n",
    "with open('data/result_list_dh.csv', 'rb') as f:\n",
    "    result = chardet.detect(f.read())\n",
    "    print(result['encoding'])"
   ]
  }
 ],
 "metadata": {
  "kernelspec": {
   "display_name": "Python 3",
   "language": "python",
   "name": "python3"
  },
  "language_info": {
   "codemirror_mode": {
    "name": "ipython",
    "version": 3
   },
   "file_extension": ".py",
   "mimetype": "text/x-python",
   "name": "python",
   "nbconvert_exporter": "python",
   "pygments_lexer": "ipython3",
   "version": "3.12.7"
  }
 },
 "nbformat": 4,
 "nbformat_minor": 2
}
