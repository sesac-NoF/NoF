{
 "cells": [
  {
   "cell_type": "code",
   "execution_count": 22,
   "metadata": {},
   "outputs": [],
   "source": [
    "import pandas as pd\n",
    "import numpy as np\n",
    "import ast\n",
    "\n",
    "df_fraud = pd.read_csv('data/df_fraud_embedding.csv', index_col=False)\n",
    "df_injury = pd.read_csv('data/df_fraud_embedding.csv', index_col=False)\n",
    "df_labor = pd.read_csv('data/df_fraud_embedding.csv', index_col=False)"
   ]
  },
  {
   "cell_type": "code",
   "execution_count": 23,
   "metadata": {},
   "outputs": [],
   "source": [
    "import pandas as pd\n",
    "import numpy as np\n",
    "import ast\n",
    "\n",
    "df_fraud['판례내용이유임베딩'] = df_fraud['판례내용이유임베딩'].apply(lambda x: np.array(ast.literal_eval(x)) if pd.notnull(x) else None)\n",
    "df_fraud['키워드임베딩'] = df_fraud['키워드임베딩'].apply(lambda x: np.array(ast.literal_eval(x)) if pd.notnull(x) else None)\n",
    "df_fraud['판결요지임베딩'] = df_fraud['판결요지임베딩'].apply(lambda x: np.array(ast.literal_eval(x)) if pd.notnull(x) else None)\n",
    "df_fraud['판시사항임베딩'] = df_fraud['판시사항임베딩'].apply(lambda x: np.array(ast.literal_eval(x)) if pd.notnull(x) else None)"
   ]
  },
  {
   "cell_type": "code",
   "execution_count": 24,
   "metadata": {},
   "outputs": [
    {
     "name": "stdout",
     "output_type": "stream",
     "text": [
      "<class 'pandas.core.frame.DataFrame'>\n",
      "RangeIndex: 4178 entries, 0 to 4177\n",
      "Data columns (total 25 columns):\n",
      " #   Column         Non-Null Count  Dtype \n",
      "---  ------         --------------  ----- \n",
      " 0   판례일련번호         4178 non-null   int64 \n",
      " 1   사건명            4176 non-null   object\n",
      " 2   사건번호           4178 non-null   object\n",
      " 3   선고일자           4178 non-null   object\n",
      " 4   법원명            4178 non-null   object\n",
      " 5   사건종류명          4178 non-null   object\n",
      " 6   판례상세링크         4178 non-null   object\n",
      " 7   판례정보일련번호       4178 non-null   int64 \n",
      " 8   선고             4178 non-null   object\n",
      " 9   판결유형           4178 non-null   object\n",
      " 10  판시사항           3025 non-null   object\n",
      " 11  판결요지           2479 non-null   object\n",
      " 12  참조조문           2998 non-null   object\n",
      " 13  참조판례           1805 non-null   object\n",
      " 14  판례내용           4178 non-null   object\n",
      " 15  판례내용_상단        4178 non-null   object\n",
      " 16  판례내용_이유        4178 non-null   object\n",
      " 17  판례내용_이유_전처리    4178 non-null   object\n",
      " 18  판례내용_이유_불용어제거  4178 non-null   object\n",
      " 19  클러스터           4178 non-null   int64 \n",
      " 20  키워드            4178 non-null   object\n",
      " 21  판례내용이유임베딩      4178 non-null   object\n",
      " 22  키워드임베딩         4178 non-null   object\n",
      " 23  판결요지임베딩        2479 non-null   object\n",
      " 24  판시사항임베딩        3025 non-null   object\n",
      "dtypes: int64(3), object(22)\n",
      "memory usage: 816.1+ KB\n"
     ]
    }
   ],
   "source": [
    "df_fraud.info()"
   ]
  },
  {
   "cell_type": "code",
   "execution_count": 26,
   "metadata": {},
   "outputs": [
    {
     "data": {
      "text/plain": [
       "\"['지급', '계약', '사기죄', '채권', '신청', '회사', '공사', '의사', '오해', '거래']\""
      ]
     },
     "execution_count": 26,
     "metadata": {},
     "output_type": "execute_result"
    }
   ],
   "source": [
    "df_fraud['키워드'].iloc[0]"
   ]
  },
  {
   "cell_type": "code",
   "execution_count": null,
   "metadata": {},
   "outputs": [],
   "source": [
    "df_fraud['키워드'] = df_fraud['키워드'].apply(lambda x: x.strip('[]').replace(\"'\",\"\").replace(' ','').split(','))\n",
    "df_fraud['키워드'].head()"
   ]
  },
  {
   "cell_type": "code",
   "execution_count": 34,
   "metadata": {},
   "outputs": [
    {
     "data": {
      "text/plain": [
       "['지급', ' 계약', ' 사기죄', ' 채권', ' 신청', ' 회사', ' 공사', ' 의사', ' 오해', ' 거래']"
      ]
     },
     "execution_count": 34,
     "metadata": {},
     "output_type": "execute_result"
    }
   ],
   "source": [
    "df_fraud['키워드'].iloc[0]"
   ]
  },
  {
   "cell_type": "markdown",
   "metadata": {},
   "source": [
    "# 유사도 계산"
   ]
  },
  {
   "cell_type": "code",
   "execution_count": 36,
   "metadata": {},
   "outputs": [
    {
     "name": "stdout",
     "output_type": "stream",
     "text": [
      "사용자 키워드와 관련된 사건명:\n",
      "사건번호: 보호감호,상습사기, 사건명: 사건명 없음, 유사도: 0.7024\n",
      "사건번호: 출입국관리법위반, 사건명: 사건명 없음, 유사도: 0.6992\n",
      "사건번호: 부당이득금, 사건명: 사건명 없음, 유사도: 0.6934\n",
      "사건번호: 손해배상(기), 사건명: 사건명 없음, 유사도: 0.6780\n",
      "사건번호: 특정범죄가중처벌등에관한법률위반(조세), 사건명: 사건명 없음, 유사도: 0.6761\n",
      "사건번호: 법인세부과처분취소청구사건, 사건명: 사건명 없음, 유사도: 0.6728\n",
      "사건번호: 보증채무금, 사건명: 사건명 없음, 유사도: 0.6718\n",
      "사건번호: 보호감호ㆍ상습사기, 사건명: 사건명 없음, 유사도: 0.6716\n",
      "사건번호: 수입신용장결제대금지급, 사건명: 사건명 없음, 유사도: 0.6702\n",
      "사건번호: 사기미수·사문서변조(인정된 죄명 : 공문서변조)·변조사문서행사 (인정된 죄명 : 변        조공문서행사), 사건명: 사건명 없음, 유사도: 0.6692\n"
     ]
    }
   ],
   "source": [
    "from sklearn.metrics.pairwise import cosine_similarity\n",
    "\n",
    "# 사용자 키워드에 대한 임베딩을 찾기위한 함수\n",
    "def get_keyword_embedding(user_keyword, df):\n",
    "    # 키워드가 포함된 행을 필터링\n",
    "    matching_rows = df_fraud[df_fraud['키워드'].apply(lambda x: user_keyword in x if isinstance(x, list) else False)]\n",
    "    \n",
    "    if not matching_rows.empty:\n",
    "        # 첫번째 매칭된 키워드의 임베딩 반환\n",
    "        return matching_rows['키워드임베딩'].iloc[0]\n",
    "    else:\n",
    "        return None\n",
    "    \n",
    "\n",
    "user_keyword = '지급'\n",
    "user_keyword_embedding = get_keyword_embedding(user_keyword, df_fraud)\n",
    "\n",
    "if user_keyword_embedding is not None:\n",
    "    # 판례내용 임베딩 유사도 계산 및 사건명 추출\n",
    "    content_similarity_scores = []\n",
    "    \n",
    "    for idx, row in df_fraud.iterrows():\n",
    "        if row['판례내용이유임베딩'] is not None and not np.isnan(row['판례내용이유임베딩']).any():\n",
    "            content_similarity = cosine_similarity(user_keyword_embedding.reshape(1,-1), row['판례내용이유임베딩'].reshape(1,-1)).flatten()[0]\n",
    "            content_similarity_scores.append((row['사건명'], content_similarity))\n",
    "    # 유사도 기준으로 정렬 및 상위 10개 선택\n",
    "    sorted_content_scores = sorted(content_similarity_scores, key=lambda x: x[1], reverse=True)\n",
    "    top_n_contents = sorted_content_scores[:10]\n",
    "    \n",
    "    # 추천 사건명 출력\n",
    "    print('사용자 키워드와 관련된 사건명:')\n",
    "    for 사건번호, score in top_n_contents:\n",
    "        사건명 = df_fraud.loc[df_fraud['사건번호']==사건번호, '사건명'].values\n",
    "        사건명 = 사건명[0] if 사건명.size > 0 else '사건명 없음'\n",
    "        print(f\"사건번호: {사건번호}, 사건명: {사건명}, 유사도: {score:.4f}\")\n",
    "else:\n",
    "    print('해당 키워드에 대한 임베딩이 없습니다.')\n"
   ]
  },
  {
   "cell_type": "code",
   "execution_count": 35,
   "metadata": {},
   "outputs": [
    {
     "name": "stdout",
     "output_type": "stream",
     "text": [
      "사용자 키워드와 관련된 사건명:\n",
      "사건번호: 86감도48, 사건명: 보호감호,상습사기, 유사도: 0.7024\n",
      "사건번호: 2009노4971, 사건명: 출입국관리법위반, 유사도: 0.6992\n",
      "사건번호: 2003가합1087, 사건명: 부당이득금, 유사도: 0.6934\n",
      "사건번호: 2001가합1092, 사건명: 손해배상(기), 유사도: 0.6780\n",
      "사건번호: 2012고합464, 사건명: 특정범죄가중처벌등에관한법률위반(조세), 유사도: 0.6761\n",
      "사건번호: 82구238, 사건명: 법인세부과처분취소청구사건, 유사도: 0.6728\n",
      "사건번호: 2004가합1589, 사건명: 보증채무금, 유사도: 0.6718\n",
      "사건번호: 85감도170, 사건명: 보호감호ㆍ상습사기, 유사도: 0.6716\n",
      "사건번호: 92가합19434, 사건명: 수입신용장결제대금지급, 유사도: 0.6702\n",
      "사건번호: 2003도2144, 사건명: 사기미수·사문서변조(인정된 죄명 : 공문서변조)·변조사문서행사 (인정된 죄명 : 변        조공문서행사), 유사도: 0.6692\n"
     ]
    }
   ],
   "source": [
    "from sklearn.metrics.pairwise import cosine_similarity\n",
    "import numpy as np\n",
    "\n",
    "# 사용자 키워드에 대한 임베딩을 찾기위한 함수\n",
    "def get_keyword_embedding(user_keyword, df):\n",
    "    # 키워드가 포함된 행을 필터링\n",
    "    matching_rows = df[df['키워드'].apply(lambda x: user_keyword in x if isinstance(x, list) else False)]\n",
    "    \n",
    "    if not matching_rows.empty:\n",
    "        # 첫번째 매칭된 키워드의 임베딩 반환\n",
    "        return matching_rows['키워드임베딩'].iloc[0]\n",
    "    else:\n",
    "        return None\n",
    "    \n",
    "\n",
    "user_keyword = '지급'\n",
    "user_keyword_embedding = get_keyword_embedding(user_keyword, df_fraud)\n",
    "\n",
    "if user_keyword_embedding is not None:\n",
    "    # 판례내용 임베딩 유사도 계산 및 사건번호 추출\n",
    "    content_similarity_scores = []\n",
    "    \n",
    "    for idx, row in df_fraud.iterrows():\n",
    "        if row['판례내용이유임베딩'] is not None and not np.isnan(row['판례내용이유임베딩']).any():\n",
    "            content_similarity = cosine_similarity(user_keyword_embedding.reshape(1, -1), row['판례내용이유임베딩'].reshape(1, -1)).flatten()[0]\n",
    "            content_similarity_scores.append((row['사건번호'], content_similarity))\n",
    "    \n",
    "    # 유사도 기준으로 정렬 및 상위 10개 선택\n",
    "    sorted_content_scores = sorted(content_similarity_scores, key=lambda x: x[1], reverse=True)\n",
    "    top_n_contents = sorted_content_scores[:10]\n",
    "    \n",
    "    # 추천 사건명 출력\n",
    "    print('사용자 키워드와 관련된 사건명:')\n",
    "    for 사건번호, score in top_n_contents:\n",
    "        사건명 = df_fraud.loc[df_fraud['사건번호'] == 사건번호, '사건명'].values\n",
    "        사건명 = 사건명[0] if 사건명.size > 0 else '사건명 없음'\n",
    "        print(f\"사건번호: {사건번호}, 사건명: {사건명}, 유사도: {score:.4f}\")\n",
    "else:\n",
    "    print('해당 키워드에 대한 임베딩이 없습니다.')\n"
   ]
  },
  {
   "cell_type": "code",
   "execution_count": null,
   "metadata": {},
   "outputs": [],
   "source": []
  }
 ],
 "metadata": {
  "kernelspec": {
   "display_name": "NoF",
   "language": "python",
   "name": "python3"
  },
  "language_info": {
   "codemirror_mode": {
    "name": "ipython",
    "version": 3
   },
   "file_extension": ".py",
   "mimetype": "text/x-python",
   "name": "python",
   "nbconvert_exporter": "python",
   "pygments_lexer": "ipython3",
   "version": "3.11.10"
  }
 },
 "nbformat": 4,
 "nbformat_minor": 2
}
