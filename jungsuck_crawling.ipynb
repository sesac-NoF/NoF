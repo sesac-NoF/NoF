{
 "cells": [
  {
   "cell_type": "code",
   "execution_count": null,
   "metadata": {},
   "outputs": [],
   "source": [
    "import os\n",
    "import json\n",
    "import shutil\n",
    "\n",
    "directory = r'C:\\Users\\user\\Downloads\\115.법률-규정 텍스트 분석 데이터_고도화_상황에 따른 판례 데이터\\3.개방데이터\\1.데이터\\Validation\\V01.원천데이터\\VS_1.판례_06.기업'\n",
    "output_directory = r'C:\\Users\\user\\Downloads\\새 폴더\\VS_1.판례_06.기업' #폴더명 변경해야댐\n",
    "keywords = ['사기','상해','상속','근로']\n",
    "matching_files_01 = []\n",
    "\n",
    "os.makedirs(output_directory, exist_ok=True)\n",
    "\n",
    "for filename in os.listdir(directory):\n",
    "    if filename.endswith(\".json\"):\n",
    "        file_path = os.path.join(directory, filename)\n",
    "        try:\n",
    "            # JSON 파일 읽기\n",
    "            with open(file_path, 'r', encoding='utf-8') as file:\n",
    "                data = json.load(file)\n",
    "\n",
    "                # 검색할 필드: \"판시사항\", \"판결요지\", \"판례내용\"\n",
    "                fields_to_search = ['사건명','판시사항', '판결요지', '판례내용']\n",
    "                \n",
    "                # 해당 필드들을 순회하며 키워드가 포함되어 있는지 확인\n",
    "                for field in fields_to_search:\n",
    "                    content = data.get(field, '')  # 필드값을 가져옴, 없으면 빈 문자열\n",
    "                    if content:  # 필드가 None이 아닌 경우에만 검색\n",
    "                        if any(keyword in content for keyword in keywords):\n",
    "                            matching_files_01.append(filename)\n",
    "                            shutil.copy(file_path, os.path.join(output_directory, filename))\n",
    "                            break  # 한 번이라도 매칭되면 해당 파일은 추가되므로 break\n",
    "        except Exception as e:\n",
    "            print(f\"Error reading {filename}: {e}\")\n",
    "\n",
    "# 결과 출력\n",
    "print(f\"Total matching files: {len(matching_files_01)}\")\n",
    "print(\"Matching files:\")\n",
    "print(matching_files_01)   "
   ]
  }
 ],
 "metadata": {
  "kernelspec": {
   "display_name": "vits2",
   "language": "python",
   "name": "python3"
  },
  "language_info": {
   "name": "python",
   "version": "3.10.14 | packaged by Anaconda, Inc. | (main, May  6 2024, 19:44:50) [MSC v.1916 64 bit (AMD64)]"
  },
  "orig_nbformat": 4,
  "vscode": {
   "interpreter": {
    "hash": "13a3b04868cc8ce4d78a48b339427a1a48266e963ad062bdf6c4f6db3a7c92a1"
   }
  }
 },
 "nbformat": 4,
 "nbformat_minor": 2
}
