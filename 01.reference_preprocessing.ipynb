{
 "cells": [
  {
   "cell_type": "code",
   "execution_count": 2,
   "metadata": {},
   "outputs": [
    {
     "data": {
      "text/html": [
       "<div>\n",
       "<style scoped>\n",
       "    .dataframe tbody tr th:only-of-type {\n",
       "        vertical-align: middle;\n",
       "    }\n",
       "\n",
       "    .dataframe tbody tr th {\n",
       "        vertical-align: top;\n",
       "    }\n",
       "\n",
       "    .dataframe thead th {\n",
       "        text-align: right;\n",
       "    }\n",
       "</style>\n",
       "<table border=\"1\" class=\"dataframe\">\n",
       "  <thead>\n",
       "    <tr style=\"text-align: right;\">\n",
       "      <th></th>\n",
       "      <th>판례일련번호</th>\n",
       "      <th>사건명</th>\n",
       "      <th>사건번호</th>\n",
       "      <th>선고일자</th>\n",
       "      <th>법원명</th>\n",
       "      <th>사건종류명</th>\n",
       "      <th>판례상세링크</th>\n",
       "      <th>판례정보일련번호</th>\n",
       "      <th>선고</th>\n",
       "      <th>판결유형</th>\n",
       "      <th>...</th>\n",
       "      <th>판결요지</th>\n",
       "      <th>참조조문</th>\n",
       "      <th>참조판례</th>\n",
       "      <th>판례내용</th>\n",
       "      <th>판례내용_상단</th>\n",
       "      <th>판례내용_이유</th>\n",
       "      <th>판례내용_이유_전처리</th>\n",
       "      <th>판례내용_이유_불용어제거</th>\n",
       "      <th>클러스터</th>\n",
       "      <th>키워드</th>\n",
       "    </tr>\n",
       "  </thead>\n",
       "  <tbody>\n",
       "    <tr>\n",
       "      <th>0</th>\n",
       "      <td>241209</td>\n",
       "      <td>법인세등부과처분취소[국내사업장을 가진 외국법인이 국내 및 국외에 걸쳐 선박에 의한 ...</td>\n",
       "      <td>2022두51031</td>\n",
       "      <td>2024.07.25</td>\n",
       "      <td>대법원</td>\n",
       "      <td>세무</td>\n",
       "      <td>/DRF/lawService.do?OC=wanja1996&amp;target=prec&amp;ID...</td>\n",
       "      <td>241209</td>\n",
       "      <td>선고</td>\n",
       "      <td>판결</td>\n",
       "      <td>...</td>\n",
       "      <td>[1] 구 법인세법(2006. 12. 30. 법률 제8141호로 개정되기 전의 것...</td>\n",
       "      <td>[1] 구 법인세법(2006. 12. 30. 법률 제8141호로 개정되기 전의 것...</td>\n",
       "      <td>[3] 대법원 1994. 8. 12. 선고 92누12094 판결(공1994하, 2...</td>\n",
       "      <td>【원고, 상고인 겸 피상고인】 ○○○서비스 (소송대리인 법무법인 케이원챔버 담당변호...</td>\n",
       "      <td>【원고, 상고인 겸 피상고인】 ○○○서비스 (소송대리인 법무법인 케이원챔버 담당변호...</td>\n",
       "      <td>【이    유】  1. 원고의 원심 승소 부분에 대한 상고의 적법 여부에 관한 직권...</td>\n",
       "      <td>{'이유': '1. 원고의 원심 승소 부분에 대한 상고의 적법 여부에 관한 직권판단...</td>\n",
       "      <td>승소 적법 승소 상소 두 취소 승소 여 로써 불복 존재 과세표준 증명책임 사업 연도...</td>\n",
       "      <td>0</td>\n",
       "      <td>NaN</td>\n",
       "    </tr>\n",
       "    <tr>\n",
       "      <th>1</th>\n",
       "      <td>240925</td>\n",
       "      <td>폭행·특수상해(인정된죄명:상해)·특수협박(인정된죄명:협박)·감금[피고인이 위험한 물...</td>\n",
       "      <td>2023도18812</td>\n",
       "      <td>2024.06.13</td>\n",
       "      <td>대법원</td>\n",
       "      <td>형사</td>\n",
       "      <td>/DRF/lawService.do?OC=wanja1996&amp;target=prec&amp;ID...</td>\n",
       "      <td>240925</td>\n",
       "      <td>선고</td>\n",
       "      <td>판결</td>\n",
       "      <td>...</td>\n",
       "      <td>형법 제258조의2 제1항, 제257조 제1항, 제284조, 제283조 제1항은 위...</td>\n",
       "      <td>형법 제257조 제1항, 제258조의2 제1항, 제283조 제1항, 제284조</td>\n",
       "      <td>대법원 2002. 6. 14. 선고 2002도1341 판결, 대법원 2004. 6....</td>\n",
       "      <td>【피 고 인】 피고인【상 고 인】 피고인 및 검사【원심판결】 대전지법 2023. 1...</td>\n",
       "      <td>【피 고 인】 피고인【상 고 인】 피고인 및 검사【원심판결】 대전지법 2023. 1...</td>\n",
       "      <td>【이    유】  상고이유를 판단한다.  1. 검사의 상고이유에 관하여   가. 2...</td>\n",
       "      <td>{'이유': '상고이유를 판단한다. 1. 검사의 상고이유에 관하여 가. 2019. ...</td>\n",
       "      <td>폭행 특수 특수 협박 주거지 입금 주기 형광등 값 화가 손 머리 수회 발 옆구리 주...</td>\n",
       "      <td>4</td>\n",
       "      <td>['보험', '계약', '보험금', '지급', '자동차', '사고', '손해', '...</td>\n",
       "    </tr>\n",
       "    <tr>\n",
       "      <th>2</th>\n",
       "      <td>240809</td>\n",
       "      <td>상해[형사소송법 제33조 제1항 제1호가 정한 필요적 국선변호인 선정사유인 ‘구속’...</td>\n",
       "      <td>2021도6357</td>\n",
       "      <td>2024.05.23</td>\n",
       "      <td>대법원</td>\n",
       "      <td>형사</td>\n",
       "      <td>/DRF/lawService.do?OC=wanja1996&amp;target=prec&amp;ID...</td>\n",
       "      <td>240809</td>\n",
       "      <td>선고</td>\n",
       "      <td>전원합의체 판결</td>\n",
       "      <td>...</td>\n",
       "      <td>[다수의견] 형사소송법 제33조 제1항 제1호는 피고인에게 변호인이 없는 때에 ...</td>\n",
       "      <td>헌법 제12조, 형사소송법 제33조 제1항 제1호, 제69조, 제473조 제1항, ...</td>\n",
       "      <td>대법원 2009. 5. 28. 선고 2009도579 판결(공2009하, 1060)(...</td>\n",
       "      <td>【피 고 인】 피고인【상 고 인】 피고인【변 호 인】 변호사 유소정【원심판결】 인천...</td>\n",
       "      <td>【피 고 인】 피고인【상 고 인】 피고인【변 호 인】 변호사 유소정【원심판결】 인천...</td>\n",
       "      <td>【이    유】  상고이유를 판단한다.  1. 사건의 개요와 쟁점  가. 소송의 진...</td>\n",
       "      <td>{'이유': '상고이유를 판단한다. 1. 사건의 개요와 쟁점 가. 소송의 진행 경과...</td>\n",
       "      <td>개요 쟁점 진행 경과 인천 건조물 침입 죄 제기 징역 구속영장 발부 건 언급 건조물...</td>\n",
       "      <td>0</td>\n",
       "      <td>NaN</td>\n",
       "    </tr>\n",
       "    <tr>\n",
       "      <th>3</th>\n",
       "      <td>219875</td>\n",
       "      <td>주거침입·성폭력범죄의처벌등에관한특례법위반(카메라등이용촬영)·상해</td>\n",
       "      <td>2021노802</td>\n",
       "      <td>2021.11.05</td>\n",
       "      <td>울산지방법원</td>\n",
       "      <td>형사</td>\n",
       "      <td>/DRF/lawService.do?OC=wanja1996&amp;target=prec&amp;ID...</td>\n",
       "      <td>219875</td>\n",
       "      <td>선고</td>\n",
       "      <td>판결 : 상고</td>\n",
       "      <td>...</td>\n",
       "      <td>피고인이 별거 상태로 이혼소송 중이던 배우자 甲(女)이 거주하는 원룸에 베란다를...</td>\n",
       "      <td>성폭력범죄의 처벌 등에 관한 특례법 제14조 제1항</td>\n",
       "      <td>NaN</td>\n",
       "      <td>【피 고 인】 피고인【항 소 인】 검사【검    사】 양재헌 외 1인【변 호 인】 ...</td>\n",
       "      <td>【피 고 인】 피고인【항 소 인】 검사【검    사】 양재헌 외 1인【변 호 인】 ...</td>\n",
       "      <td>【이    유】  1. 이 법원의 심판범위  가. 경합범으로 동시에 기소된 사건에 ...</td>\n",
       "      <td>{'이유': '1. 이 법원의 심판범위 가. 경합범으로 동시에 기소된 사건에 대하여...</td>\n",
       "      <td>경합 동시 기소 개일 분리 일부상소 쌍방 상소 분리 경합 지남 무죄판결 주거침입 벌...</td>\n",
       "      <td>4</td>\n",
       "      <td>['보험', '계약', '보험금', '지급', '자동차', '사고', '손해', '...</td>\n",
       "    </tr>\n",
       "    <tr>\n",
       "      <th>4</th>\n",
       "      <td>214727</td>\n",
       "      <td>마약류관리에관한법률위반(향정)ㆍ마약류관리에관한법률위반(대마)ㆍ특수상해</td>\n",
       "      <td>2019고단4056</td>\n",
       "      <td>2020.02.19</td>\n",
       "      <td>부산지방법원</td>\n",
       "      <td>형사</td>\n",
       "      <td>/DRF/lawService.do?OC=wanja1996&amp;target=prec&amp;ID...</td>\n",
       "      <td>214727</td>\n",
       "      <td>선고</td>\n",
       "      <td>판결</td>\n",
       "      <td>...</td>\n",
       "      <td>NaN</td>\n",
       "      <td>NaN</td>\n",
       "      <td>NaN</td>\n",
       "      <td>【피  고  인】 피고인 1 외 2인【검       사】 김미선, 임홍석(기소), ...</td>\n",
       "      <td>【피  고  인】 피고인 1 외 2인【검       사】 김미선, 임홍석(기소), ...</td>\n",
       "      <td>【이    유】범 죄 사 실[범죄전력]피고인 1(2020. 6. 19.자 항소심 판...</td>\n",
       "      <td>{'이유': '범 죄 사 실[범죄전력]피고인 1(2020. 6. 19.자 항소심 판...</td>\n",
       "      <td>죄 사 실 전력 수원지방법원 폭력 감금 죄 징역 집행유예 중앙 마약 류 관리 대마 ...</td>\n",
       "      <td>4</td>\n",
       "      <td>['보험', '계약', '보험금', '지급', '자동차', '사고', '손해', '...</td>\n",
       "    </tr>\n",
       "  </tbody>\n",
       "</table>\n",
       "<p>5 rows × 21 columns</p>\n",
       "</div>"
      ],
      "text/plain": [
       "   판례일련번호                                                사건명        사건번호  \\\n",
       "0  241209  법인세등부과처분취소[국내사업장을 가진 외국법인이 국내 및 국외에 걸쳐 선박에 의한 ...  2022두51031   \n",
       "1  240925  폭행·특수상해(인정된죄명:상해)·특수협박(인정된죄명:협박)·감금[피고인이 위험한 물...  2023도18812   \n",
       "2  240809  상해[형사소송법 제33조 제1항 제1호가 정한 필요적 국선변호인 선정사유인 ‘구속’...   2021도6357   \n",
       "3  219875                주거침입·성폭력범죄의처벌등에관한특례법위반(카메라등이용촬영)·상해    2021노802   \n",
       "4  214727             마약류관리에관한법률위반(향정)ㆍ마약류관리에관한법률위반(대마)ㆍ특수상해  2019고단4056   \n",
       "\n",
       "         선고일자     법원명 사건종류명  \\\n",
       "0  2024.07.25     대법원    세무   \n",
       "1  2024.06.13     대법원    형사   \n",
       "2  2024.05.23     대법원    형사   \n",
       "3  2021.11.05  울산지방법원    형사   \n",
       "4  2020.02.19  부산지방법원    형사   \n",
       "\n",
       "                                              판례상세링크  판례정보일련번호  선고      판결유형  \\\n",
       "0  /DRF/lawService.do?OC=wanja1996&target=prec&ID...    241209  선고        판결   \n",
       "1  /DRF/lawService.do?OC=wanja1996&target=prec&ID...    240925  선고        판결   \n",
       "2  /DRF/lawService.do?OC=wanja1996&target=prec&ID...    240809  선고  전원합의체 판결   \n",
       "3  /DRF/lawService.do?OC=wanja1996&target=prec&ID...    219875  선고   판결 : 상고   \n",
       "4  /DRF/lawService.do?OC=wanja1996&target=prec&ID...    214727  선고        판결   \n",
       "\n",
       "   ...                                               판결요지  \\\n",
       "0  ...   [1] 구 법인세법(2006. 12. 30. 법률 제8141호로 개정되기 전의 것...   \n",
       "1  ...  형법 제258조의2 제1항, 제257조 제1항, 제284조, 제283조 제1항은 위...   \n",
       "2  ...    [다수의견] 형사소송법 제33조 제1항 제1호는 피고인에게 변호인이 없는 때에 ...   \n",
       "3  ...    피고인이 별거 상태로 이혼소송 중이던 배우자 甲(女)이 거주하는 원룸에 베란다를...   \n",
       "4  ...                                                NaN   \n",
       "\n",
       "                                                참조조문  \\\n",
       "0   [1] 구 법인세법(2006. 12. 30. 법률 제8141호로 개정되기 전의 것...   \n",
       "1        형법 제257조 제1항, 제258조의2 제1항, 제283조 제1항, 제284조   \n",
       "2  헌법 제12조, 형사소송법 제33조 제1항 제1호, 제69조, 제473조 제1항, ...   \n",
       "3                       성폭력범죄의 처벌 등에 관한 특례법 제14조 제1항   \n",
       "4                                                NaN   \n",
       "\n",
       "                                                참조판례  \\\n",
       "0   [3] 대법원 1994. 8. 12. 선고 92누12094 판결(공1994하, 2...   \n",
       "1  대법원 2002. 6. 14. 선고 2002도1341 판결, 대법원 2004. 6....   \n",
       "2  대법원 2009. 5. 28. 선고 2009도579 판결(공2009하, 1060)(...   \n",
       "3                                                NaN   \n",
       "4                                                NaN   \n",
       "\n",
       "                                                판례내용  \\\n",
       "0  【원고, 상고인 겸 피상고인】 ○○○서비스 (소송대리인 법무법인 케이원챔버 담당변호...   \n",
       "1  【피 고 인】 피고인【상 고 인】 피고인 및 검사【원심판결】 대전지법 2023. 1...   \n",
       "2  【피 고 인】 피고인【상 고 인】 피고인【변 호 인】 변호사 유소정【원심판결】 인천...   \n",
       "3  【피 고 인】 피고인【항 소 인】 검사【검    사】 양재헌 외 1인【변 호 인】 ...   \n",
       "4  【피  고  인】 피고인 1 외 2인【검       사】 김미선, 임홍석(기소), ...   \n",
       "\n",
       "                                             판례내용_상단  \\\n",
       "0  【원고, 상고인 겸 피상고인】 ○○○서비스 (소송대리인 법무법인 케이원챔버 담당변호...   \n",
       "1  【피 고 인】 피고인【상 고 인】 피고인 및 검사【원심판결】 대전지법 2023. 1...   \n",
       "2  【피 고 인】 피고인【상 고 인】 피고인【변 호 인】 변호사 유소정【원심판결】 인천...   \n",
       "3  【피 고 인】 피고인【항 소 인】 검사【검    사】 양재헌 외 1인【변 호 인】 ...   \n",
       "4  【피  고  인】 피고인 1 외 2인【검       사】 김미선, 임홍석(기소), ...   \n",
       "\n",
       "                                             판례내용_이유  \\\n",
       "0  【이    유】  1. 원고의 원심 승소 부분에 대한 상고의 적법 여부에 관한 직권...   \n",
       "1  【이    유】  상고이유를 판단한다.  1. 검사의 상고이유에 관하여   가. 2...   \n",
       "2  【이    유】  상고이유를 판단한다.  1. 사건의 개요와 쟁점  가. 소송의 진...   \n",
       "3  【이    유】  1. 이 법원의 심판범위  가. 경합범으로 동시에 기소된 사건에 ...   \n",
       "4  【이    유】범 죄 사 실[범죄전력]피고인 1(2020. 6. 19.자 항소심 판...   \n",
       "\n",
       "                                         판례내용_이유_전처리  \\\n",
       "0  {'이유': '1. 원고의 원심 승소 부분에 대한 상고의 적법 여부에 관한 직권판단...   \n",
       "1  {'이유': '상고이유를 판단한다. 1. 검사의 상고이유에 관하여 가. 2019. ...   \n",
       "2  {'이유': '상고이유를 판단한다. 1. 사건의 개요와 쟁점 가. 소송의 진행 경과...   \n",
       "3  {'이유': '1. 이 법원의 심판범위 가. 경합범으로 동시에 기소된 사건에 대하여...   \n",
       "4  {'이유': '범 죄 사 실[범죄전력]피고인 1(2020. 6. 19.자 항소심 판...   \n",
       "\n",
       "                                       판례내용_이유_불용어제거 클러스터  \\\n",
       "0  승소 적법 승소 상소 두 취소 승소 여 로써 불복 존재 과세표준 증명책임 사업 연도...    0   \n",
       "1  폭행 특수 특수 협박 주거지 입금 주기 형광등 값 화가 손 머리 수회 발 옆구리 주...    4   \n",
       "2  개요 쟁점 진행 경과 인천 건조물 침입 죄 제기 징역 구속영장 발부 건 언급 건조물...    0   \n",
       "3  경합 동시 기소 개일 분리 일부상소 쌍방 상소 분리 경합 지남 무죄판결 주거침입 벌...    4   \n",
       "4  죄 사 실 전력 수원지방법원 폭력 감금 죄 징역 집행유예 중앙 마약 류 관리 대마 ...    4   \n",
       "\n",
       "                                                 키워드  \n",
       "0                                                NaN  \n",
       "1  ['보험', '계약', '보험금', '지급', '자동차', '사고', '손해', '...  \n",
       "2                                                NaN  \n",
       "3  ['보험', '계약', '보험금', '지급', '자동차', '사고', '손해', '...  \n",
       "4  ['보험', '계약', '보험금', '지급', '자동차', '사고', '손해', '...  \n",
       "\n",
       "[5 rows x 21 columns]"
      ]
     },
     "execution_count": 2,
     "metadata": {},
     "output_type": "execute_result"
    }
   ],
   "source": [
    "import pandas as pd\n",
    "\n",
    "df=pd.read_csv('data/df_injury_keyword.csv')\n",
    "df.head()"
   ]
  },
  {
   "cell_type": "markdown",
   "metadata": {},
   "source": [
    "# 참조조문 전처리"
   ]
  },
  {
   "cell_type": "code",
   "execution_count": 3,
   "metadata": {},
   "outputs": [
    {
     "data": {
      "text/plain": [
       "참조조문\n",
       "민법 제750조                                                                              84\n",
       "민법 제763조                                                                              68\n",
       "자동차손해배상보장법 제3조                                                                        37\n",
       "형사소송법 제308조                                                                           27\n",
       "형법 제268조                                                                              23\n",
       "                                                                                      ..\n",
       "가.나.다.라.근로기준법 제27조 제1항 / 다. 구 근로기준법 제27조의2                                             1\n",
       "가.        민법 제758조 제1항, 나.        제763조,         제393조,         상법 제727조               1\n",
       "민법 제750조,         제763조,         제396조,         교통사고처리특례법 제3조,         민사소송법 제183조     1\n",
       "형사소송법 제307조, 제308조                                                                     1\n",
       "지방자치법 제102조,         국가배상법 제2조                                                         1\n",
       "Name: count, Length: 2623, dtype: int64"
      ]
     },
     "execution_count": 3,
     "metadata": {},
     "output_type": "execute_result"
    }
   ],
   "source": [
    "df['참조조문'].value_counts()"
   ]
  },
  {
   "cell_type": "code",
   "execution_count": null,
   "metadata": {},
   "outputs": [
    {
     "data": {
      "text/plain": [
       "'헌법 제12조, 형사소송법 제33조 제1항 제1호, 형사소송법 제69조, 제473조 제1항, 제2항, 제474조 제2항, 형사소송법 제475조, 형사소송법 제492조, 형법 제37조'"
      ]
     },
     "execution_count": 74,
     "metadata": {},
     "output_type": "execute_result"
    }
   ],
   "source": [
    "import re\n",
    "def extract_laws(text):\n",
    "    if isinstance(text, str):  # 텍스트가 문자열인지 확인\n",
    "    # '법' 또는 '시행령'으로 끝나는 단어를 정규 표현식으로 추출\n",
    "        laws = re.findall(r'\\b(\\w+(?:법|시행령|에 관한 법률|규칙))\\b', text)\n",
    "        return set(laws)\n",
    "    return set()\n",
    "\n",
    "# 각 참조조문에서 법과 시행령 이름을 찾기\n",
    "law_names = set()\n",
    "for reference in df['참조조문']:\n",
    "    law_names.update(extract_laws(reference))\n",
    "\n",
    "\n",
    "# 법과 시행령 이름을 붙이는 함수\n",
    "def add_law_prefix(x):\n",
    "    if isinstance(x, str):  # 텍스트가 문자열인지 확인\n",
    "        previous_law = None  # 이전 법 이름 또는 시행령 이름 저장\n",
    "        new_references = []\n",
    "\n",
    "        # 참조 조문을 쉼표로 분할하고 전처리 수행\n",
    "        for part in x.split(','):\n",
    "            part = part.strip()\n",
    "            part = re.sub(r'[\\[\\]［］].*?[\\]\\］]', '', part)  # 대괄호와 그 안의 내용 제거\n",
    "            part = re.sub(r'\\s*[가-힣]\\.\\s*', '', part)  # '가.', '나.', '다.'와 같은 패턴 제거\n",
    "            part = part.strip('<br/>')  # 공백 제거\n",
    "            part = part.replace('/', ',')  # '/'를 ','로 변경\n",
    "            part = re.sub(r'\\s+', ' ', part).strip()\n",
    "\n",
    "            # 현재 조각에 법 이름이 있는 경우, previous_law 업데이트\n",
    "            for law_name in law_names:\n",
    "                if law_name in part:\n",
    "                    previous_law = law_name  # 이전 법 이름을 현재 법 이름으로 설정\n",
    "                    break\n",
    "\n",
    "            # 조로 끝나고 법 이름이 없는 경우에만 previous_law 붙이기\n",
    "            if previous_law and not any(law_name in part for law_name in law_names):\n",
    "                if re.search(r'\\d+조', part) and not re.search(r'항$|호$', part):\n",
    "                    part = f\"{previous_law} {part}\"\n",
    "\n",
    "            new_references.append(part)\n",
    "\n",
    "        # 결과 조각들을 다시 쉼표로 결합하여 반환\n",
    "        return ', '.join(new_references)\n",
    "    return x  # 문자열이 아닐 경우 그대로 반환\n",
    "\n",
    "add_law_prefix(df['참조조문'][2])"
   ]
  },
  {
   "cell_type": "code",
   "execution_count": 67,
   "metadata": {},
   "outputs": [],
   "source": [
    "import re\n",
    "\n",
    "def extract_laws(text):\n",
    "    if isinstance(text, str):\n",
    "        laws = re.findall(r'\\b(\\w+(?:법|시행령|에 관한 법률|규칙))\\b', text)\n",
    "        return set(laws)\n",
    "    return set()\n",
    "\n",
    "# 데이터에서 법과 시행령 이름 추출\n",
    "law_names = set()\n",
    "for reference in df['참조조문']:\n",
    "    law_names.update(extract_laws(reference))\n",
    "\n",
    "def add_law_prefix(x):\n",
    "    if isinstance(x, str):  \n",
    "        previous_law = None  # 이전 법 이름 저장\n",
    "        new_references = []\n",
    "\n",
    "        for part in x.split(','):\n",
    "            part = part.strip()\n",
    "            part = re.sub(r'[\\[\\]［］].*?[\\]\\］]', '', part)\n",
    "            part = re.sub(r'\\s*[가-힣]\\.\\s*', '', part)\n",
    "            part = part.strip('<br/>')\n",
    "            part = part.replace('/', ',')\n",
    "            part = re.sub(r'\\s+', ' ', part).strip()\n",
    "\n",
    "            # 현재 파트에 법 이름이 포함된 경우 업데이트\n",
    "            matched_law = None\n",
    "            for law_name in law_names:\n",
    "                if law_name in part:\n",
    "                    matched_law = law_name\n",
    "                    previous_law = law_name  # 이전 법 이름 업데이트\n",
    "                    break\n",
    "\n",
    "            # 법 이름이 없는 경우, 이전의 법 이름을 조항에 붙이기\n",
    "            if not matched_law and previous_law:\n",
    "                if re.search(r'\\d+조$', part):\n",
    "                    part = f\"{previous_law} {part}\"  # 이전 법 이름 붙이기\n",
    "\n",
    "            # 항이나 호 뒤에 나오는 경우 법 이름을 유지\n",
    "            if re.search(r'\\d+항$|호$', part) and previous_law:\n",
    "                pass  # 항/호로 끝나는 경우 이전 법 이름을 유지하여 추가 조항에 사용할 수 있게 함\n",
    "\n",
    "            new_references.append(part)\n",
    "\n",
    "        return ', '.join(new_references)  # 새로운 참조 조문을 합쳐서 반환\n",
    "    return x  # 문자열이 아닐 경우 그대로 반환"
   ]
  },
  {
   "cell_type": "code",
   "execution_count": null,
   "metadata": {},
   "outputs": [],
   "source": []
  },
  {
   "cell_type": "code",
   "execution_count": 72,
   "metadata": {},
   "outputs": [
    {
     "data": {
      "text/plain": [
       "'헌법 제12조, 형사소송법 제33조 제1항 제1호, 형사소송법 제69조, 제473조 제1항, 제2항, 제474조 제2항, 형사소송법 제475조, 형사소송법 제492조, 형사소송법 형법 제37조'"
      ]
     },
     "execution_count": 72,
     "metadata": {},
     "output_type": "execute_result"
    }
   ],
   "source": [
    "# 법과 시행령 이름을 붙이는 함수\n",
    "def add_law_prefix(x):\n",
    "    if isinstance(x, str):  # 텍스트가 문자열인지 확인\n",
    "        previous_law = None  # 이전 법 이름 또는 시행령 이름 저장\n",
    "        new_references = []\n",
    "\n",
    "        # 참조 조문을 조각으로 나누기\n",
    "        for part in x.split(','):\n",
    "            part = part.strip()\n",
    "            part = re.sub(r'[\\[\\]［］].*?[\\]\\］]', '', part)  # 대괄호와 그 안의 내용 제거\n",
    "            part = re.sub(r'\\s*[가-힣]\\.\\s*', '', part)  # '가.', '나.', '다.'와 같은 패턴 제거\n",
    "            part = part.strip('<br/>')  # 공백 제거\n",
    "            part = part.replace('/', ',')  # '/'를 ','로 변경\n",
    "            part = re.sub(r'\\s+', ' ', part).strip()\n",
    "\n",
    "            # \"조\"로 끝나는 경우 법 이름이 없으면 이전 법 이름 붙이기\n",
    "            if re.search(r'\\d+조$', part):\n",
    "                if previous_law:  # 이전 법 이름이 있으면 붙이기\n",
    "                    part = f\"{previous_law} {part}\"\n",
    "                for law_name in law_names:\n",
    "                    if law_name in part:\n",
    "                        previous_law = law_name  # 법 이름이 있는 경우 업데이트\n",
    "                        break\n",
    "            \n",
    "            # 법 이름이 포함된 경우 현재 조각을 기준으로 이전 법 이름 업데이트\n",
    "            matched_law = None\n",
    "            for law_name in law_names:\n",
    "                if law_name in part:\n",
    "                    matched_law = law_name\n",
    "                    previous_law = law_name  # 이전 법 이름을 현재 법 이름으로 업데이트\n",
    "                    break\n",
    "\n",
    "            # 법 이름이 없는 경우, 이전 법 이름을 붙여야 하는지 확인\n",
    "            if not matched_law and previous_law:\n",
    "                if re.search(r'\\d+조$', part):  # 조로 끝나는 경우에만 이전 법 이름 붙이기\n",
    "                    part = f\"{previous_law} {part}\"\n",
    "\n",
    "            # 조각을 리스트에 추가\n",
    "            new_references.append(part)\n",
    "\n",
    "        # 결과 조각들을 다시 쉼표로 결합하여 반환\n",
    "        return ', '.join(new_references)\n",
    "    return x  # 문자열이 아닐 경우 그대로 반환\n",
    "\n",
    "add_law_prefix(df['참조조문'][2])"
   ]
  },
  {
   "cell_type": "code",
   "execution_count": 28,
   "metadata": {},
   "outputs": [
    {
     "data": {
      "text/plain": [
       "' [1] 구 법인세법(2006. 12. 30. 법률 제8141호로 개정되기 전의 것) 제91조 제1항 제3호, 제93조 제5호, 제11호 (차)목[현행 제93조 제10호 (타)목 참조], 법인세법 시행령 제132조 제2항 제7호 / [2] 행정소송법 제26조[증명책임] / [3] 구 부가가치세법(2010. 1. 1. 법률 제9915호로 개정되기 전의 것) 제10조 제2항 제2호(현행 제20조 제1항 제2호 참조), 제11조 제1항 제3호(현행 제23조 제1항 참조), 제2항(현행 제25조 제1항 참조), 구 부가가치세법 시행령(2013. 6. 28. 대통령령 제24638호로 전부 개정되기 전의 것) 제25조 제1항(현행 제32조 제1항 참조), 행정소송법 제26조[증명책임]'"
      ]
     },
     "execution_count": 28,
     "metadata": {},
     "output_type": "execute_result"
    }
   ],
   "source": [
    "df['참조조문'][0]"
   ]
  },
  {
   "cell_type": "code",
   "execution_count": 32,
   "metadata": {},
   "outputs": [
    {
     "data": {
      "text/plain": [
       "'구 법인세법(2006. 12. 30. 법률 제8141호로 개정되기 전의 것) 제91조 제1항 제3호, 제93조 제5호, 제11호 (차)목, 법인세법 시행령 제132조 제2항 제7호 , 행정소송법 제26조 , 구 부가가치세법(2010. 1. 1. 법률 제9915호로 개정되기 전의 것) 제10조 제2항 제2호(현행 제20조 제1항 제2호 참조), 제11조 제1항 제3호(현행 제23조 제1항 참조), 제2항(현행 제25조 제1항 참조), 구 부가가치세법 시행령(2013. 6. 28. 대통령령 제24638호로 전부 개정되기 전의 것) 제25조 제1항(현행 제32조 제1항 참조), 행정소송법 제26조'"
      ]
     },
     "execution_count": 32,
     "metadata": {},
     "output_type": "execute_result"
    }
   ],
   "source": [
    "a[0]"
   ]
  },
  {
   "cell_type": "code",
   "execution_count": 33,
   "metadata": {},
   "outputs": [
    {
     "data": {
      "text/plain": [
       "'헌법 제12조, 형사소송법 제33조 제1항 제1호, 제69조, 제473조 제1항, 제2항, 제474조 제2항, 제475조, 제492조, 형법 제37조'"
      ]
     },
     "execution_count": 33,
     "metadata": {},
     "output_type": "execute_result"
    }
   ],
   "source": [
    "df['참조조문'][2]"
   ]
  },
  {
   "cell_type": "code",
   "execution_count": null,
   "metadata": {},
   "outputs": [],
   "source": [
    "# 데이터프레임의 '참조조문' 열에 전처리 적용\n",
    "df['참조조문'] = df['참조조문'].apply(add_law_prefix)"
   ]
  },
  {
   "cell_type": "code",
   "execution_count": 51,
   "metadata": {},
   "outputs": [
    {
     "name": "stdout",
     "output_type": "stream",
     "text": [
      "헌법 제12조, 형사소송법 제33조 제1항 제1호, 헌법 제69조, 제473조 제1항, 제2항, 제474조 제2항, 헌법 제475조, 헌법 제492조, 헌법 형법 제37조\n"
     ]
    }
   ],
   "source": [
    "input_text = df['참조조문'][2]\n",
    "result = add_law_prefix(input_text)\n",
    "\n",
    "print(result)"
   ]
  },
  {
   "cell_type": "code",
   "execution_count": 24,
   "metadata": {},
   "outputs": [
    {
     "data": {
      "text/plain": [
       "0       구 법인세법(2006. 12. 30. 법률 제8141호로 개정되기 전의 것) 제91...\n",
       "1          형법 제257조 제1항, 제258조의2 제1항, 제283조 제1항, 형법 제284조\n",
       "2       헌법 헌법 제12조, 형사소송법 제33조 제1항 제1호, 형사소송법 제69조, 제4...\n",
       "3                            성폭력범죄의 처벌 등에 관한 특례법 제14조 제1항\n",
       "4                                              해당 참조조문 없음\n",
       "                              ...                        \n",
       "4184                                           해당 참조조문 없음\n",
       "4185                                           해당 참조조문 없음\n",
       "4186                                           해당 참조조문 없음\n",
       "4187    임시조치법 법원재난에 기인한 민형사사건 임시조치법 제1조, 군법회의법 군법회의법 제...\n",
       "4188                      지방자치법 지방자치법 제102조, 상법 국가배상법 제2조\n",
       "Name: 참조조문, Length: 4189, dtype: object"
      ]
     },
     "execution_count": 24,
     "metadata": {},
     "output_type": "execute_result"
    }
   ],
   "source": [
    "#기존 데이터 프레임 안건드리고 변환\n",
    "\n",
    "a = df['참조조문'].apply(add_law_prefix)\n",
    "a=a.fillna('해당 참조조문 없음')\n",
    "a"
   ]
  },
  {
   "cell_type": "markdown",
   "metadata": {},
   "source": [
    "# 참조판례 전처리"
   ]
  },
  {
   "cell_type": "code",
   "execution_count": 75,
   "metadata": {},
   "outputs": [],
   "source": [
    "df['참조판례']=df['참조판례'].fillna('참조판례 없음')\n",
    "#공백은 '참조판례 없음'으로 대체함."
   ]
  },
  {
   "cell_type": "code",
   "execution_count": 76,
   "metadata": {},
   "outputs": [],
   "source": [
    "#참조판례 정리\n",
    "\n",
    "clean_part=[]\n",
    "for part in df['참조판례']:\n",
    "    part = part.strip()\n",
    "    part = re.sub(r'[\\[\\]［］].*?[\\]\\］]', '', part)  # 대괄호와 그 안의 내용 제거\n",
    "    part = re.sub(r'\\s*[가-힣]\\.\\s*', '', part)  # '가.', '나.', '다.'와 같은 패턴 제거\n",
    "    part = part.strip('<br/>')  # 공백 제거\n",
    "    part = part.replace('/', ',')  # '/'를 ','로 변경\n",
    "    part = re.sub(r'\\s+', ' ', part).strip()\n",
    "    clean_part.append(part)\n",
    "\n",
    "df['참조판례']=clean_part\n",
    "\n",
    "refered_jud=[]\n",
    "for clean_part in df['참조판례']:\n",
    "    parts = re.split(r',\\s*(?![^()]*\\))', clean_part)\n",
    "    for sub in parts:\n",
    "        refered_jud.append(sub)\n",
    "\n",
    "refered_jud = [item for item in refered_jud if item.strip()]\n",
    "\n",
    "refjud=pd.DataFrame(data=refered_jud)\n"
   ]
  },
  {
   "cell_type": "code",
   "execution_count": 77,
   "metadata": {},
   "outputs": [
    {
     "data": {
      "text/html": [
       "<div>\n",
       "<style scoped>\n",
       "    .dataframe tbody tr th:only-of-type {\n",
       "        vertical-align: middle;\n",
       "    }\n",
       "\n",
       "    .dataframe tbody tr th {\n",
       "        vertical-align: top;\n",
       "    }\n",
       "\n",
       "    .dataframe thead th {\n",
       "        text-align: right;\n",
       "    }\n",
       "</style>\n",
       "<table border=\"1\" class=\"dataframe\">\n",
       "  <thead>\n",
       "    <tr style=\"text-align: right;\">\n",
       "      <th></th>\n",
       "      <th>0</th>\n",
       "    </tr>\n",
       "  </thead>\n",
       "  <tbody>\n",
       "    <tr>\n",
       "      <th>0</th>\n",
       "      <td>대법원 1994. 8. 12. 선고 92누12094 판결(공1994하, 2312)</td>\n",
       "    </tr>\n",
       "    <tr>\n",
       "      <th>1</th>\n",
       "      <td>대법원 2021. 2. 25. 선고 2017두237 판결</td>\n",
       "    </tr>\n",
       "    <tr>\n",
       "      <th>2</th>\n",
       "      <td>대법원 2024. 4. 12. 선고 2023두58701 판결(공2024상, 800)</td>\n",
       "    </tr>\n",
       "    <tr>\n",
       "      <th>3</th>\n",
       "      <td>대법원 2002. 6. 14. 선고 2002도1341 판결</td>\n",
       "    </tr>\n",
       "    <tr>\n",
       "      <th>4</th>\n",
       "      <td>대법원 2004. 6. 11. 선고 2004도2018 판결(공2004하, 1198)</td>\n",
       "    </tr>\n",
       "    <tr>\n",
       "      <th>...</th>\n",
       "      <td>...</td>\n",
       "    </tr>\n",
       "    <tr>\n",
       "      <th>8480</th>\n",
       "      <td>참조판례 없음</td>\n",
       "    </tr>\n",
       "    <tr>\n",
       "      <th>8481</th>\n",
       "      <td>1966.1.25. 선고 65다2257 판결(판례카아드 1458호</td>\n",
       "    </tr>\n",
       "    <tr>\n",
       "      <th>8482</th>\n",
       "      <td>대법원판결집 14①민27 판결요지집 민법 제750조(70)516면)</td>\n",
       "    </tr>\n",
       "    <tr>\n",
       "      <th>8483</th>\n",
       "      <td>1970.5.12. 선고 70다347 판결(판례카아드 8952호</td>\n",
       "    </tr>\n",
       "    <tr>\n",
       "      <th>8484</th>\n",
       "      <td>대법원판결집 18②민28 판결요지집 민법 제750조(65)557면)</td>\n",
       "    </tr>\n",
       "  </tbody>\n",
       "</table>\n",
       "<p>8485 rows × 1 columns</p>\n",
       "</div>"
      ],
      "text/plain": [
       "                                                   0\n",
       "0      대법원 1994. 8. 12. 선고 92누12094 판결(공1994하, 2312)\n",
       "1                    대법원 2021. 2. 25. 선고 2017두237 판결\n",
       "2     대법원 2024. 4. 12. 선고 2023두58701 판결(공2024상, 800)\n",
       "3                   대법원 2002. 6. 14. 선고 2002도1341 판결\n",
       "4     대법원 2004. 6. 11. 선고 2004도2018 판결(공2004하, 1198)\n",
       "...                                              ...\n",
       "8480                                         참조판례 없음\n",
       "8481            1966.1.25. 선고 65다2257 판결(판례카아드 1458호\n",
       "8482           대법원판결집 14①민27 판결요지집 민법 제750조(70)516면)\n",
       "8483             1970.5.12. 선고 70다347 판결(판례카아드 8952호\n",
       "8484           대법원판결집 18②민28 판결요지집 민법 제750조(65)557면)\n",
       "\n",
       "[8485 rows x 1 columns]"
      ]
     },
     "execution_count": 77,
     "metadata": {},
     "output_type": "execute_result"
    }
   ],
   "source": [
    "refjud"
   ]
  }
 ],
 "metadata": {
  "kernelspec": {
   "display_name": "myenv",
   "language": "python",
   "name": "python3"
  },
  "language_info": {
   "codemirror_mode": {
    "name": "ipython",
    "version": 3
   },
   "file_extension": ".py",
   "mimetype": "text/x-python",
   "name": "python",
   "nbconvert_exporter": "python",
   "pygments_lexer": "ipython3",
   "version": "3.12.7"
  }
 },
 "nbformat": 4,
 "nbformat_minor": 2
}
