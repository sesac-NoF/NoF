{
 "cells": [
  {
   "cell_type": "markdown",
   "metadata": {},
   "source": [
    "데이터 로드"
   ]
  },
  {
   "cell_type": "code",
   "execution_count": null,
   "metadata": {},
   "outputs": [],
   "source": [
    "from db_info import user, password, host, port, database\n",
    "import pandas as pd\n",
    "import mysql.connector\n",
    "\n",
    "db_connection = mysql.connector.connect(\n",
    "user = user,\n",
    "password = password,\n",
    "host = host,\n",
    "port = port,\n",
    "database = database,\n",
    ")\n",
    "\n",
    "cursor = db_connection.cursor()\n",
    "\n",
    "cursor.execute(\"select * from injury_case_clause_preprocessed\")\n",
    "\n",
    "result = cursor.fetchall()\n",
    "\n",
    "df = pd.DataFrame(result, columns = [i[0] for i in cursor.description])"
   ]
  },
  {
   "cell_type": "code",
   "execution_count": 21,
   "metadata": {},
   "outputs": [],
   "source": [
    "df_re=pd.DataFrame(df['참조조문_전처리'])\n",
    "df_re=df_re.fillna('참조조문 없음')"
   ]
  },
  {
   "cell_type": "code",
   "execution_count": 22,
   "metadata": {},
   "outputs": [
    {
     "data": {
      "text/plain": [
       "Index(['참조조문_전처리'], dtype='object')"
      ]
     },
     "execution_count": 22,
     "metadata": {},
     "output_type": "execute_result"
    }
   ],
   "source": [
    "df_re.columns"
   ]
  },
  {
   "cell_type": "code",
   "execution_count": 23,
   "metadata": {},
   "outputs": [
    {
     "data": {
      "text/plain": [
       "참조조문_전처리    구 법인세법(2006. 12. 30. 법률 제8141호로 개정되기 전의 것) 제91...\n",
       "Name: 0, dtype: object"
      ]
     },
     "execution_count": 23,
     "metadata": {},
     "output_type": "execute_result"
    }
   ],
   "source": [
    "df_re.iloc[0]"
   ]
  },
  {
   "cell_type": "code",
   "execution_count": 24,
   "metadata": {},
   "outputs": [
    {
     "name": "stdout",
     "output_type": "stream",
     "text": [
      "<class 'pandas.core.series.Series'>\n",
      "RangeIndex: 4187 entries, 0 to 4186\n",
      "Series name: 참조조문_전처리\n",
      "Non-Null Count  Dtype \n",
      "--------------  ----- \n",
      "4187 non-null   object\n",
      "dtypes: object(1)\n",
      "memory usage: 32.8+ KB\n"
     ]
    }
   ],
   "source": [
    "df_re['참조조문_전처리'].info()"
   ]
  },
  {
   "cell_type": "code",
   "execution_count": 25,
   "metadata": {},
   "outputs": [
    {
     "data": {
      "text/html": [
       "<div>\n",
       "<style scoped>\n",
       "    .dataframe tbody tr th:only-of-type {\n",
       "        vertical-align: middle;\n",
       "    }\n",
       "\n",
       "    .dataframe tbody tr th {\n",
       "        vertical-align: top;\n",
       "    }\n",
       "\n",
       "    .dataframe thead th {\n",
       "        text-align: right;\n",
       "    }\n",
       "</style>\n",
       "<table border=\"1\" class=\"dataframe\">\n",
       "  <thead>\n",
       "    <tr style=\"text-align: right;\">\n",
       "      <th></th>\n",
       "      <th>참조조문_전처리</th>\n",
       "      <th>참조조문_분리</th>\n",
       "    </tr>\n",
       "  </thead>\n",
       "  <tbody>\n",
       "    <tr>\n",
       "      <th>0</th>\n",
       "      <td>구 법인세법(2006. 12. 30. 법률 제8141호로 개정되기 전의 것) 제91...</td>\n",
       "      <td>구 법인세법(2006. 12. 30. 법률 제8141호로 개정되기 전의 것) /제9...</td>\n",
       "    </tr>\n",
       "    <tr>\n",
       "      <th>1</th>\n",
       "      <td>형법 제257조 제1항, 형법 제258조의2 제1항, 형법 제283조 제1항, 형법...</td>\n",
       "      <td>형법 /제257조 제1항, 형법 /제258조의2 제1항, 형법 /제283조 제1항,...</td>\n",
       "    </tr>\n",
       "    <tr>\n",
       "      <th>2</th>\n",
       "      <td>헌법 제12조, 형사소송법 제33조 제1항 제1호, 형사소송법 제69조, 형사소송법...</td>\n",
       "      <td>헌법 /제12조, 형사소송법 /제33조 제1항 제1호, 형사소송법 /제69조, 형사...</td>\n",
       "    </tr>\n",
       "    <tr>\n",
       "      <th>3</th>\n",
       "      <td>성폭력범죄의 처벌 등에 관한 특례법 제14조 제1항,</td>\n",
       "      <td>성폭력범죄의 처벌 등에 관한 특례법 /제14조 제1항,</td>\n",
       "    </tr>\n",
       "    <tr>\n",
       "      <th>4</th>\n",
       "      <td>참조조문 없음</td>\n",
       "      <td>참조조문 없음</td>\n",
       "    </tr>\n",
       "    <tr>\n",
       "      <th>...</th>\n",
       "      <td>...</td>\n",
       "      <td>...</td>\n",
       "    </tr>\n",
       "    <tr>\n",
       "      <th>4182</th>\n",
       "      <td>참조조문 없음</td>\n",
       "      <td>참조조문 없음</td>\n",
       "    </tr>\n",
       "    <tr>\n",
       "      <th>4183</th>\n",
       "      <td>참조조문 없음</td>\n",
       "      <td>참조조문 없음</td>\n",
       "    </tr>\n",
       "    <tr>\n",
       "      <th>4184</th>\n",
       "      <td>참조조문 없음</td>\n",
       "      <td>참조조문 없음</td>\n",
       "    </tr>\n",
       "    <tr>\n",
       "      <th>4185</th>\n",
       "      <td>법원재난에 기인한 민형사사건 임시조치법 제1조, 군법회의법 제432조,</td>\n",
       "      <td>법원재난에 기인한 민형사사건 임시조치법 /제1조, 군법회의법 /제432조,</td>\n",
       "    </tr>\n",
       "    <tr>\n",
       "      <th>4186</th>\n",
       "      <td>지방자치법 제102조, 국가배상법 제2조,</td>\n",
       "      <td>지방자치법 /제102조, 국가배상법 /제2조,</td>\n",
       "    </tr>\n",
       "  </tbody>\n",
       "</table>\n",
       "<p>4187 rows × 2 columns</p>\n",
       "</div>"
      ],
      "text/plain": [
       "                                               참조조문_전처리  \\\n",
       "0     구 법인세법(2006. 12. 30. 법률 제8141호로 개정되기 전의 것) 제91...   \n",
       "1     형법 제257조 제1항, 형법 제258조의2 제1항, 형법 제283조 제1항, 형법...   \n",
       "2     헌법 제12조, 형사소송법 제33조 제1항 제1호, 형사소송법 제69조, 형사소송법...   \n",
       "3                        성폭력범죄의 처벌 등에 관한 특례법 제14조 제1항,    \n",
       "4                                               참조조문 없음   \n",
       "...                                                 ...   \n",
       "4182                                            참조조문 없음   \n",
       "4183                                            참조조문 없음   \n",
       "4184                                            참조조문 없음   \n",
       "4185           법원재난에 기인한 민형사사건 임시조치법 제1조, 군법회의법 제432조,    \n",
       "4186                           지방자치법 제102조, 국가배상법 제2조,    \n",
       "\n",
       "                                                참조조문_분리  \n",
       "0     구 법인세법(2006. 12. 30. 법률 제8141호로 개정되기 전의 것) /제9...  \n",
       "1     형법 /제257조 제1항, 형법 /제258조의2 제1항, 형법 /제283조 제1항,...  \n",
       "2     헌법 /제12조, 형사소송법 /제33조 제1항 제1호, 형사소송법 /제69조, 형사...  \n",
       "3                       성폭력범죄의 처벌 등에 관한 특례법 /제14조 제1항,   \n",
       "4                                               참조조문 없음  \n",
       "...                                                 ...  \n",
       "4182                                            참조조문 없음  \n",
       "4183                                            참조조문 없음  \n",
       "4184                                            참조조문 없음  \n",
       "4185         법원재난에 기인한 민형사사건 임시조치법 /제1조, 군법회의법 /제432조,   \n",
       "4186                         지방자치법 /제102조, 국가배상법 /제2조,   \n",
       "\n",
       "[4187 rows x 2 columns]"
      ]
     },
     "execution_count": 25,
     "metadata": {},
     "output_type": "execute_result"
    }
   ],
   "source": [
    "import re\n",
    "df_re['참조조문_분리']=df_re['참조조문_전처리'].apply(lambda text: re.sub(r'(제\\d+조)', r'/\\1', text))\n",
    "df_re"
   ]
  },
  {
   "cell_type": "code",
   "execution_count": 41,
   "metadata": {},
   "outputs": [
    {
     "data": {
      "text/plain": [
       "0       구 법인세법(2006. 12. 30. 법률 제8141호로 개정되기 전의 것) /제9...\n",
       "1       형법 /제257조 제1항, 형법 /제258조의2 제1항, 형법 /제283조 제1항,...\n",
       "2       헌법 /제12조, 형사소송법 /제33조 제1항 제1호, 형사소송법 /제69조, 형사...\n",
       "3                         성폭력범죄의 처벌 등에 관한 특례법 /제14조 제1항, \n",
       "4                                                 참조조문 없음\n",
       "                              ...                        \n",
       "4182                                              참조조문 없음\n",
       "4183                                              참조조문 없음\n",
       "4184                                              참조조문 없음\n",
       "4185           법원재난에 기인한 민형사사건 임시조치법 /제1조, 군법회의법 /제432조, \n",
       "4186                           지방자치법 /제102조, 국가배상법 /제2조, \n",
       "Name: 참조조문_분리, Length: 4187, dtype: object"
      ]
     },
     "execution_count": 41,
     "metadata": {},
     "output_type": "execute_result"
    }
   ],
   "source": [
    "df_re['참조조문_분리']"
   ]
  },
  {
   "cell_type": "code",
   "execution_count": 27,
   "metadata": {},
   "outputs": [],
   "source": [
    "df_re.to_csv('data/injury_split.csv')"
   ]
  },
  {
   "cell_type": "markdown",
   "metadata": {},
   "source": [
    "참조조문 MySQL 저장 형태\n",
    "[판례일련정보, 사건번호, 참조조문, combined_text= [근로기준법 제28조 , 근로기준법 제29조, 노동위원회법 제23조, 근로기준법 제2조 제1항 제1호], [근로기준법/제28조,근로기준법/제29조]] ' 제' '/제'"
   ]
  },
  {
   "cell_type": "code",
   "execution_count": null,
   "metadata": {},
   "outputs": [],
   "source": [
    "pd.options.display.max_colwidth = None\n",
    "pd.options.display.colheader_justify = 'left'\n",
    "pd.options.display.max_rows = None\n",
    "pd.options.display.max_columns = None"
   ]
  },
  {
   "cell_type": "code",
   "execution_count": 40,
   "metadata": {},
   "outputs": [
    {
     "name": "stderr",
     "output_type": "stream",
     "text": [
      "C:\\Users\\user\\AppData\\Local\\Temp\\ipykernel_13180\\1293240872.py:1: FutureWarning: data_manager option is deprecated and will be removed in a future version. Only the BlockManager will be available.\n",
      "  pd.reset_option('all')\n",
      "C:\\Users\\user\\AppData\\Local\\Temp\\ipykernel_13180\\1293240872.py:1: FutureWarning: use_inf_as_na option is deprecated and will be removed in a future version. Convert inf values to NaN before operating instead.\n",
      "  pd.reset_option('all')\n"
     ]
    }
   ],
   "source": [
    "\n",
    "pd.reset_option('all')\n"
   ]
  }
 ],
 "metadata": {
  "kernelspec": {
   "display_name": "myenv",
   "language": "python",
   "name": "python3"
  },
  "language_info": {
   "codemirror_mode": {
    "name": "ipython",
    "version": 3
   },
   "file_extension": ".py",
   "mimetype": "text/x-python",
   "name": "python",
   "nbconvert_exporter": "python",
   "pygments_lexer": "ipython3",
   "version": "3.12.7"
  }
 },
 "nbformat": 4,
 "nbformat_minor": 2
}
