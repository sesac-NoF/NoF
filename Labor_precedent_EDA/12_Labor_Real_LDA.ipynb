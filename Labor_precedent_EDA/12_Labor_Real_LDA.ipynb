{
 "cells": [
  {
   "cell_type": "markdown",
   "metadata": {},
   "source": [
    "* 진형님 LDA 참고하여 진행\n",
    "* 동현님 gensim 파일 참고하여 진행"
   ]
  },
  {
   "cell_type": "markdown",
   "metadata": {},
   "source": [
    "# 1. 데이터 로드"
   ]
  },
  {
   "cell_type": "markdown",
   "metadata": {},
   "source": [
    "저장된 데이터 가져오기"
   ]
  },
  {
   "cell_type": "code",
   "execution_count": 3,
   "metadata": {},
   "outputs": [],
   "source": [
    "import pandas as pd\n",
    "import re\n",
    "import os"
   ]
  },
  {
   "cell_type": "code",
   "execution_count": 4,
   "metadata": {},
   "outputs": [],
   "source": [
    "import matplotlib.pyplot as plt\n",
    "\n",
    "# 한글 깨짐 방지\n",
    "plt.rcParams['font.family'] = \"Malgun Gothic\"\n",
    "\n",
    "# 마이너스 깨짐 방지\n",
    "plt.rcParams['axes.unicode_minus'] = False"
   ]
  },
  {
   "cell_type": "code",
   "execution_count": 5,
   "metadata": {},
   "outputs": [],
   "source": [
    "# 파일 불러오기 \n",
    "current_dir = os.path.dirname(os.path.abspath('df_labor_real_cleaned3.csv'))\n",
    "data_dir = os.path.join(current_dir, '..', 'data')\n",
    "file_path = os.path.join(data_dir, 'df_labor_real_cleaned3.csv')  # 실제 파일명으로 변경\n",
    "\n",
    "# CSV 파일 읽기\n",
    "data = pd.read_csv(file_path)"
   ]
  },
  {
   "cell_type": "code",
   "execution_count": 10,
   "metadata": {},
   "outputs": [
    {
     "name": "stdout",
     "output_type": "stream",
     "text": [
      "<class 'pandas.core.frame.DataFrame'>\n",
      "RangeIndex: 5016 entries, 0 to 5015\n",
      "Data columns (total 14 columns):\n",
      " #   Column        Non-Null Count  Dtype \n",
      "---  ------        --------------  ----- \n",
      " 0   판례정보일련번호      5016 non-null   int64 \n",
      " 1   사건번호          5016 non-null   object\n",
      " 2   선고            5016 non-null   object\n",
      " 3   판결유형          5016 non-null   object\n",
      " 4   판시사항          3725 non-null   object\n",
      " 5   판결요지          3054 non-null   object\n",
      " 6   참조조문          3724 non-null   object\n",
      " 7   참조판례          2450 non-null   object\n",
      " 8   판례내용          5016 non-null   object\n",
      " 9   판례내용_상단       5016 non-null   object\n",
      " 10  판례내용_이유       5012 non-null   object\n",
      " 11  판례내용_이유(전처리)  5016 non-null   object\n",
      " 12  판례내용_제거(불용어)  5016 non-null   object\n",
      " 13  판례내용_이유(불용어)  5012 non-null   object\n",
      "dtypes: int64(1), object(13)\n",
      "memory usage: 548.8+ KB\n"
     ]
    }
   ],
   "source": [
    "data.info()"
   ]
  },
  {
   "cell_type": "code",
   "execution_count": 11,
   "metadata": {},
   "outputs": [
    {
     "name": "stdout",
     "output_type": "stream",
     "text": [
      "<class 'pandas.core.series.Series'>\n",
      "RangeIndex: 5016 entries, 0 to 5015\n",
      "Series name: 판례내용_이유(불용어)\n",
      "Non-Null Count  Dtype \n",
      "--------------  ----- \n",
      "5012 non-null   object\n",
      "dtypes: object(1)\n",
      "memory usage: 39.3+ KB\n"
     ]
    }
   ],
   "source": [
    "df_labor = data['판례내용_이유(불용어)'].copy()\n",
    "df_labor.info()"
   ]
  },
  {
   "cell_type": "markdown",
   "metadata": {},
   "source": []
  },
  {
   "cell_type": "markdown",
   "metadata": {},
   "source": [
    "# 2. 데이터 전처리"
   ]
  },
  {
   "cell_type": "markdown",
   "metadata": {},
   "source": [
    "## 2-1 토큰화"
   ]
  },
  {
   "cell_type": "markdown",
   "metadata": {},
   "source": [
    "* 형태소 분석 및 전처리: Okt를 사용하여 한국어 문서에서 명사만을 추출하고, 불용어를 제거합니다. 또한, 한 글자 단어들은 제거하여 의미가 있는 단어들만 남깁니다.\n",
    "* 단어 사전 및 코퍼스 생성: Dictionary 객체를 사용해 단어 사전을 만들고, 이를 통해 문서 코퍼스를 bag-of-words 형식으로 변환합니다.\n",
    "* LDA 모델 학습: 주제 수(num_topics)를 설정한 후 LDA 모델을 학습합니다.\n",
    "주제별 핵심 단어 출력: print_topics 메서드를 사용하여 각 주제의 상위 단어를 출력합니다."
   ]
  },
  {
   "cell_type": "code",
   "execution_count": 12,
   "metadata": {},
   "outputs": [
    {
     "name": "stdout",
     "output_type": "stream",
     "text": [
      "Topic 0: 0.050*\"지급\" + 0.039*\"임금\" + 0.033*\"근로\" + 0.027*\"근로자\" + 0.019*\"퇴직금\" + 0.019*\"수당\" + 0.016*\"퇴직\" + 0.014*\"계약\" + 0.014*\"근무\" + 0.013*\"근로기준법\"\n",
      "Topic 1: 0.021*\"보험\" + 0.014*\"재해\" + 0.012*\"사고\" + 0.009*\"망인\" + 0.008*\"급여\" + 0.007*\"손해\" + 0.007*\"산업\" + 0.007*\"장해\" + 0.005*\"작업\" + 0.005*\"근로자\"\n",
      "Topic 2: 0.024*\"회사\" + 0.021*\"노동조합\" + 0.019*\"징계\" + 0.018*\"근로자\" + 0.017*\"해고\" + 0.011*\"단체\" + 0.010*\"협약\" + 0.009*\"노동\" + 0.008*\"사업\" + 0.008*\"노조\"\n",
      "Topic 3: 0.026*\"소득\" + 0.013*\"사업\" + 0.013*\"금액\" + 0.011*\"법인\" + 0.009*\"세법\" + 0.008*\"과세\" + 0.008*\"부과\" + 0.008*\"징수\" + 0.006*\"납부\" + 0.006*\"세액\"\n",
      "Topic 4: 0.027*\"회사\" + 0.012*\"주식회사\" + 0.009*\"채권\" + 0.008*\"지급\" + 0.008*\"계약\" + 0.007*\"사업\" + 0.005*\"명의\" + 0.005*\"거래\" + 0.005*\"주식\" + 0.005*\"순번\"\n"
     ]
    }
   ],
   "source": [
    "import pandas as pd\n",
    "from konlpy.tag import Okt\n",
    "from gensim.corpora.dictionary import Dictionary\n",
    "from gensim.models import LdaModel\n",
    "from nltk.corpus import stopwords\n",
    "import re\n",
    "\n",
    "# 예시 데이터프레임 준비 (실제 데이터프레임을 여기에 할당하세요)\n",
    "# 형태소 분석기 초기화\n",
    "okt = Okt()\n",
    "\n",
    "# 불용어 설정 (필요시 추가 가능)\n",
    "# stop_words = set([\"이다\", \"있다\", \"하다\", \"되다\", \"않다\", \"하다\", \"보다\", \"등\"])\n",
    "\n",
    "# # 1. 텍스트 데이터 전처리 및 토큰화\n",
    "# def preprocess_text(text):\n",
    "#     # 특수문자 제거 및 소문자 변환\n",
    "#     text = re.sub(r'[^\\w\\s]', '', text)\n",
    "#     tokens = okt.nouns(text)  # 명사 추출\n",
    "#     return [word for word in tokens if word not in stop_words and len(word) > 1]  # 불용어 및 한 글자 단어 제거\n",
    "\n",
    "# 전처리 수행\n",
    "documents = df_labor.dropna().tolist()  # NaN 값 제거\n",
    "tokenized_docs = [preprocess_text(doc) for doc in documents]\n",
    "\n",
    "# 2. 단어 사전 및 코퍼스 생성\n",
    "dictionary = Dictionary(tokenized_docs)\n",
    "corpus = [dictionary.doc2bow(text) for text in tokenized_docs]\n",
    "\n",
    "# 3. LDA 모델 학습\n",
    "num_topics = 5  # 주제 개수 설정\n",
    "lda_model = LdaModel(corpus=corpus, num_topics=num_topics, id2word=dictionary, passes=10, random_state=42)\n",
    "\n",
    "# 4. 주제별 핵심 단어 출력\n",
    "for idx, topic in lda_model.print_topics(-1):\n",
    "    print(f\"Topic {idx}: {topic}\")"
   ]
  },
  {
   "cell_type": "code",
   "execution_count": 15,
   "metadata": {},
   "outputs": [
    {
     "name": "stdout",
     "output_type": "stream",
     "text": [
      "4.3.3\n"
     ]
    }
   ],
   "source": [
    "import gensim\n",
    "print (gensim.__version__)"
   ]
  },
  {
   "cell_type": "code",
   "execution_count": null,
   "metadata": {},
   "outputs": [],
   "source": [
    "from gensim.summarization import summarize\n",
    "\n",
    "summary = summarize(df['판례내용'].str.cat(sep=' '), ratio=0.1)  # 10% 비율로 요약\n",
    "print(summary)"
   ]
  }
 ],
 "metadata": {
  "kernelspec": {
   "display_name": "project",
   "language": "python",
   "name": "python3"
  },
  "language_info": {
   "codemirror_mode": {
    "name": "ipython",
    "version": 3
   },
   "file_extension": ".py",
   "mimetype": "text/x-python",
   "name": "python",
   "nbconvert_exporter": "python",
   "pygments_lexer": "ipython3",
   "version": "3.8.20"
  }
 },
 "nbformat": 4,
 "nbformat_minor": 2
}
