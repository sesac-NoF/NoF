{
 "cells": [
  {
   "cell_type": "markdown",
   "metadata": {},
   "source": [
    "* 진형님 LDA 참고하여 진행\n",
    "* 동현님 gensim 파일 참고하여 진행"
   ]
  },
  {
   "cell_type": "markdown",
   "metadata": {},
   "source": [
    "# 1. 데이터 로드"
   ]
  },
  {
   "cell_type": "markdown",
   "metadata": {},
   "source": [
    "저장된 데이터 가져오기"
   ]
  },
  {
   "cell_type": "code",
   "execution_count": 1,
   "metadata": {},
   "outputs": [],
   "source": [
    "import pandas as pd\n",
    "import re\n",
    "import os"
   ]
  },
  {
   "cell_type": "code",
   "execution_count": 2,
   "metadata": {},
   "outputs": [],
   "source": [
    "import matplotlib.pyplot as plt\n",
    "\n",
    "# # 한글 깨짐 방지\n",
    "# plt.rcParams['font.family'] = \"Malgun Gothic\"\n",
    "\n",
    "# # 마이너스 깨짐 방지\n",
    "# plt.rcParams['axes.unicode_minus'] = False"
   ]
  },
  {
   "cell_type": "code",
   "execution_count": 3,
   "metadata": {},
   "outputs": [],
   "source": [
    "# 파일 불러오기 \n",
    "current_dir = os.path.dirname(os.path.abspath('df_labor_real_cleaned3.csv'))\n",
    "data_dir = os.path.join(current_dir, '..', 'data')\n",
    "file_path = os.path.join(data_dir, 'df_labor_real_cleaned3.csv')  # 실제 파일명으로 변경\n",
    "\n",
    "# CSV 파일 읽기\n",
    "data = pd.read_csv(file_path)"
   ]
  },
  {
   "cell_type": "code",
   "execution_count": 4,
   "metadata": {},
   "outputs": [
    {
     "name": "stdout",
     "output_type": "stream",
     "text": [
      "<class 'pandas.core.frame.DataFrame'>\n",
      "RangeIndex: 5016 entries, 0 to 5015\n",
      "Data columns (total 14 columns):\n",
      " #   Column        Non-Null Count  Dtype \n",
      "---  ------        --------------  ----- \n",
      " 0   판례정보일련번호      5016 non-null   int64 \n",
      " 1   사건번호          5016 non-null   object\n",
      " 2   선고            5016 non-null   object\n",
      " 3   판결유형          5016 non-null   object\n",
      " 4   판시사항          3725 non-null   object\n",
      " 5   판결요지          3054 non-null   object\n",
      " 6   참조조문          3724 non-null   object\n",
      " 7   참조판례          2450 non-null   object\n",
      " 8   판례내용          5016 non-null   object\n",
      " 9   판례내용_상단       5016 non-null   object\n",
      " 10  판례내용_이유       5012 non-null   object\n",
      " 11  판례내용_이유(전처리)  5016 non-null   object\n",
      " 12  판례내용_제거(불용어)  5016 non-null   object\n",
      " 13  판례내용_이유(불용어)  5012 non-null   object\n",
      "dtypes: int64(1), object(13)\n",
      "memory usage: 548.8+ KB\n"
     ]
    }
   ],
   "source": [
    "data.info()"
   ]
  },
  {
   "cell_type": "code",
   "execution_count": 5,
   "metadata": {},
   "outputs": [
    {
     "name": "stdout",
     "output_type": "stream",
     "text": [
      "<class 'pandas.core.series.Series'>\n",
      "RangeIndex: 5016 entries, 0 to 5015\n",
      "Series name: 판례내용_이유(불용어)\n",
      "Non-Null Count  Dtype \n",
      "--------------  ----- \n",
      "5012 non-null   object\n",
      "dtypes: object(1)\n",
      "memory usage: 39.3+ KB\n"
     ]
    }
   ],
   "source": [
    "df_labor = data['판례내용_이유(불용어)'].copy()\n",
    "df_labor.info()"
   ]
  },
  {
   "cell_type": "markdown",
   "metadata": {},
   "source": []
  },
  {
   "cell_type": "markdown",
   "metadata": {},
   "source": [
    "# 2. 데이터 전처리"
   ]
  },
  {
   "cell_type": "markdown",
   "metadata": {},
   "source": [
    "## 2-1 토큰화"
   ]
  },
  {
   "cell_type": "markdown",
   "metadata": {},
   "source": [
    "* 형태소 분석 및 전처리: Okt를 사용하여 한국어 문서에서 명사만을 추출하고, 불용어를 제거합니다. 또한, 한 글자 단어들은 제거하여 의미가 있는 단어들만 남깁니다.\n",
    "* 단어 사전 및 코퍼스 생성: Dictionary 객체를 사용해 단어 사전을 만들고, 이를 통해 문서 코퍼스를 bag-of-words 형식으로 변환합니다.\n",
    "* LDA 모델 학습: 주제 수(num_topics)를 설정한 후 LDA 모델을 학습합니다.\n",
    "주제별 핵심 단어 출력: print_topics 메서드를 사용하여 각 주제의 상위 단어를 출력합니다."
   ]
  },
  {
   "cell_type": "code",
   "execution_count": 13,
   "metadata": {},
   "outputs": [
    {
     "name": "stdout",
     "output_type": "stream",
     "text": [
      "\n",
      "주제 1:\n",
      "['지급', '임금', '근로', '수당', '퇴직금', '소득', '금액', '회사', '퇴직', '근로자']\n",
      "\n",
      "주제 2:\n",
      "['징계', '회사', '노동조합', '해고', '노조', '근로자', '단체', '노동', '쟁의', '조합원']\n",
      "\n",
      "주제 3:\n",
      "['공무원', '임용', '교원', '국가', '학교', '활동', '교육', '사회', '정보', '거부']\n",
      "\n",
      "주제 4:\n",
      "['근로자', '사업', '근로', '계약', '고용', '노동조합', '임금', '근무', '업체', '파견']\n",
      "\n",
      "주제 5:\n",
      "['회사', '주식회사', '사업', '주식', '거래', '순번', '명의', '법인', '계좌', '자금']\n",
      "\n",
      "주제 6:\n",
      "['보험', '재해', '급여', '망인', '사고', '지급', '장해', '손해', '산업', '병원']\n"
     ]
    }
   ],
   "source": [
    "# 토픽수 5개\n",
    "from sklearn.decomposition import LatentDirichletAllocation\n",
    "from sklearn.feature_extraction.text import CountVectorizer\n",
    "\n",
    "# 전처리 수행\n",
    "df_labor.fillna('',inplace =True)  # NaN 값 제거\n",
    "\n",
    "# CountVectorizer로 단어 빈도 행렬 생성\n",
    "vectorizer = CountVectorizer(max_df=0.95, min_df=2)  # 불용어 제거 설정\n",
    "X = vectorizer.fit_transform(df_labor)\n",
    "\n",
    "# LDA 모델 생성 및 학습\n",
    "n_topics = 6  # 원하는 토픽 개수\n",
    "lda = LatentDirichletAllocation(n_components=n_topics, random_state=42)\n",
    "lda.fit(X)\n",
    "\n",
    "# 주제별 상위 단어 출력\n",
    "terms = vectorizer.get_feature_names_out()\n",
    "for idx, topic in enumerate(lda.components_):\n",
    "    print(f\"\\n주제 {idx + 1}:\")\n",
    "    print([terms[i] for i in topic.argsort()[:-10 - 1:-1]])  # 상위 10개 단어 출력"
   ]
  }
 ],
 "metadata": {
  "kernelspec": {
   "display_name": "project",
   "language": "python",
   "name": "python3"
  },
  "language_info": {
   "codemirror_mode": {
    "name": "ipython",
    "version": 3
   },
   "file_extension": ".py",
   "mimetype": "text/x-python",
   "name": "python",
   "nbconvert_exporter": "python",
   "pygments_lexer": "ipython3",
   "version": "3.12.7"
  }
 },
 "nbformat": 4,
 "nbformat_minor": 2
}
