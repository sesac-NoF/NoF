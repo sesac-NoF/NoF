{
 "cells": [
  {
   "cell_type": "markdown",
   "metadata": {},
   "source": [
    "* 진형님 LDA 참고하여 진행\n",
    "* 동현님 gensim 파일 참고하여 진행"
   ]
  },
  {
   "cell_type": "markdown",
   "metadata": {},
   "source": [
    "# 1. 데이터 로드"
   ]
  },
  {
   "cell_type": "markdown",
   "metadata": {},
   "source": [
    "저장된 데이터 가져오기"
   ]
  },
  {
   "cell_type": "code",
   "execution_count": 1,
   "metadata": {},
   "outputs": [],
   "source": [
    "import pandas as pd\n",
    "import re\n",
    "import os"
   ]
  },
  {
   "cell_type": "code",
   "execution_count": 2,
   "metadata": {},
   "outputs": [],
   "source": [
    "import matplotlib.pyplot as plt\n",
    "\n",
    "# 한글 깨짐 방지\n",
    "plt.rcParams['font.family'] = \"Malgun Gothic\"\n",
    "\n",
    "# 마이너스 깨짐 방지\n",
    "plt.rcParams['axes.unicode_minus'] = False"
   ]
  },
  {
   "cell_type": "code",
   "execution_count": 3,
   "metadata": {},
   "outputs": [],
   "source": [
    "# 파일 불러오기 \n",
    "current_dir = os.path.dirname(os.path.abspath('df_labor_real_cleaned3.csv'))\n",
    "data_dir = os.path.join(current_dir, '..', 'data')\n",
    "file_path = os.path.join(data_dir, 'df_labor_real_cleaned3.csv')  # 실제 파일명으로 변경\n",
    "\n",
    "# CSV 파일 읽기\n",
    "data = pd.read_csv(file_path)"
   ]
  },
  {
   "cell_type": "code",
   "execution_count": 4,
   "metadata": {},
   "outputs": [
    {
     "name": "stdout",
     "output_type": "stream",
     "text": [
      "<class 'pandas.core.frame.DataFrame'>\n",
      "RangeIndex: 5016 entries, 0 to 5015\n",
      "Data columns (total 14 columns):\n",
      " #   Column        Non-Null Count  Dtype \n",
      "---  ------        --------------  ----- \n",
      " 0   판례정보일련번호      5016 non-null   int64 \n",
      " 1   사건번호          5016 non-null   object\n",
      " 2   선고            5016 non-null   object\n",
      " 3   판결유형          5016 non-null   object\n",
      " 4   판시사항          3725 non-null   object\n",
      " 5   판결요지          3054 non-null   object\n",
      " 6   참조조문          3724 non-null   object\n",
      " 7   참조판례          2450 non-null   object\n",
      " 8   판례내용          5016 non-null   object\n",
      " 9   판례내용_상단       5016 non-null   object\n",
      " 10  판례내용_이유       5012 non-null   object\n",
      " 11  판례내용_이유(전처리)  5016 non-null   object\n",
      " 12  판례내용_제거(불용어)  5016 non-null   object\n",
      " 13  판례내용_이유(불용어)  5012 non-null   object\n",
      "dtypes: int64(1), object(13)\n",
      "memory usage: 548.8+ KB\n"
     ]
    }
   ],
   "source": [
    "data.info()"
   ]
  },
  {
   "cell_type": "code",
   "execution_count": 9,
   "metadata": {},
   "outputs": [
    {
     "name": "stdout",
     "output_type": "stream",
     "text": [
      "<class 'pandas.core.frame.DataFrame'>\n",
      "RangeIndex: 5016 entries, 0 to 5015\n",
      "Data columns (total 14 columns):\n",
      " #   Column        Non-Null Count  Dtype \n",
      "---  ------        --------------  ----- \n",
      " 0   판례정보일련번호      5016 non-null   int64 \n",
      " 1   사건번호          5016 non-null   object\n",
      " 2   선고            5016 non-null   object\n",
      " 3   판결유형          5016 non-null   object\n",
      " 4   판시사항          3725 non-null   object\n",
      " 5   판결요지          3054 non-null   object\n",
      " 6   참조조문          3724 non-null   object\n",
      " 7   참조판례          2450 non-null   object\n",
      " 8   판례내용          5016 non-null   object\n",
      " 9   판례내용_상단       5016 non-null   object\n",
      " 10  판례내용_이유       5012 non-null   object\n",
      " 11  판례내용_이유(전처리)  5016 non-null   object\n",
      " 12  판례내용_제거(불용어)  5016 non-null   object\n",
      " 13  판례내용_이유(불용어)  5012 non-null   object\n",
      "dtypes: int64(1), object(13)\n",
      "memory usage: 548.8+ KB\n"
     ]
    }
   ],
   "source": [
    "df_labor = data.copy()\n",
    "df_labor.info()"
   ]
  },
  {
   "cell_type": "markdown",
   "metadata": {},
   "source": []
  },
  {
   "cell_type": "markdown",
   "metadata": {},
   "source": [
    "# 2. 데이터 전처리"
   ]
  },
  {
   "cell_type": "markdown",
   "metadata": {},
   "source": [
    "## 2-1 토큰화"
   ]
  },
  {
   "cell_type": "markdown",
   "metadata": {},
   "source": [
    "* 형태소 분석 및 전처리: Okt를 사용하여 한국어 문서에서 명사만을 추출하고, 불용어를 제거합니다. 또한, 한 글자 단어들은 제거하여 의미가 있는 단어들만 남깁니다.\n",
    "* 단어 사전 및 코퍼스 생성: Dictionary 객체를 사용해 단어 사전을 만들고, 이를 통해 문서 코퍼스를 bag-of-words 형식으로 변환합니다.\n",
    "* LDA 모델 학습: 주제 수(num_topics)를 설정한 후 LDA 모델을 학습합니다.\n",
    "주제별 핵심 단어 출력: print_topics 메서드를 사용하여 각 주제의 상위 단어를 출력합니다."
   ]
  },
  {
   "cell_type": "code",
   "execution_count": 13,
   "metadata": {},
   "outputs": [
    {
     "name": "stdout",
     "output_type": "stream",
     "text": [
      "\n",
      "주제 1:\n",
      "['지급', '임금', '근로', '수당', '퇴직금', '소득', '금액', '회사', '퇴직', '근로자']\n",
      "\n",
      "주제 2:\n",
      "['징계', '회사', '노동조합', '해고', '노조', '근로자', '단체', '노동', '쟁의', '조합원']\n",
      "\n",
      "주제 3:\n",
      "['공무원', '임용', '교원', '국가', '학교', '활동', '교육', '사회', '정보', '거부']\n",
      "\n",
      "주제 4:\n",
      "['근로자', '사업', '근로', '계약', '고용', '노동조합', '임금', '근무', '업체', '파견']\n",
      "\n",
      "주제 5:\n",
      "['회사', '주식회사', '사업', '주식', '거래', '순번', '명의', '법인', '계좌', '자금']\n",
      "\n",
      "주제 6:\n",
      "['보험', '재해', '급여', '망인', '사고', '지급', '장해', '손해', '산업', '병원']\n"
     ]
    }
   ],
   "source": [
    "# 토픽수 5개\n",
    "from sklearn.decomposition import LatentDirichletAllocation\n",
    "from sklearn.feature_extraction.text import CountVectorizer\n",
    "\n",
    "# 전처리 수행\n",
    "df_labor.fillna('',inplace =True)  # NaN 값 제거\n",
    "\n",
    "# CountVectorizer로 단어 빈도 행렬 생성\n",
    "vectorizer = CountVectorizer(max_df=0.95, min_df=2)  # 불용어 제거 설정\n",
    "X = vectorizer.fit_transform(df_labor)\n",
    "\n",
    "# LDA 모델 생성 및 학습\n",
    "n_topics = 6  # 원하는 토픽 개수\n",
    "lda = LatentDirichletAllocation(n_components=n_topics, random_state=42)\n",
    "lda.fit(X)\n",
    "\n",
    "# 주제별 상위 단어 출력\n",
    "terms = vectorizer.get_feature_names_out()\n",
    "for idx, topic in enumerate(lda.components_):\n",
    "    print(f\"\\n주제 {idx + 1}:\")\n",
    "    print([terms[i] for i in topic.argsort()[:-10 - 1:-1]])  # 상위 10개 단어 출력"
   ]
  },
  {
   "cell_type": "markdown",
   "metadata": {},
   "source": [
    "# 3. 계층적 군집분석"
   ]
  },
  {
   "cell_type": "markdown",
   "metadata": {},
   "source": [
    "1. 데이터 준비\n",
    "계층적 군집화를 수행할 텍스트 데이터를 준비합니다. 이 단계에서 데이터 정제, 토큰화, 불용어 제거 등의 전처리 과정을 수행합니다.\n",
    "\n",
    "2. 텍스트 벡터화\n",
    "문서나 텍스트 데이터를 수치적으로 표현하기 위해 벡터화합니다. 주로 사용되는 방법은 TF-IDF(Term Frequency-Inverse Document Frequency) 또는 Word Embedding 기법(예: Word2Vec, FastText)입니다."
   ]
  },
  {
   "cell_type": "code",
   "execution_count": 22,
   "metadata": {},
   "outputs": [],
   "source": [
    "from sklearn.feature_extraction.text import TfidfVectorizer\n",
    "\n",
    "# 예시 문서 리스트\n",
    "documents = df_labor['판례내용_이유(불용어)']\n",
    "\n",
    "# TF-IDF 벡터화\n",
    "vectorizer = TfidfVectorizer()\n",
    "X = vectorizer.fit_transform(documents)\n"
   ]
  },
  {
   "cell_type": "markdown",
   "metadata": {},
   "source": [
    "3. 거리 또는 유사성 측정\n",
    "각 문서 간의 거리 또는 유사성을 측정합니다. 일반적으로 코사인 유사도, 유클리드 거리 등을 사용합니다."
   ]
  },
  {
   "cell_type": "code",
   "execution_count": 23,
   "metadata": {},
   "outputs": [],
   "source": [
    "from sklearn.metrics.pairwise import cosine_similarity\n",
    "\n",
    "# 코사인 유사도 계산\n",
    "similarity_matrix = cosine_similarity(X)"
   ]
  },
  {
   "cell_type": "markdown",
   "metadata": {},
   "source": [
    "4. 계층적 군집화 수행\n",
    "SciPy 라이브러리의 linkage 및 dendrogram 함수를 사용하여 계층적 군집화를 수행하고 덴드로그램을 시각화합니다."
   ]
  },
  {
   "cell_type": "code",
   "execution_count": null,
   "metadata": {},
   "outputs": [
    {
     "ename": "KeyError",
     "evalue": "-4297",
     "output_type": "error",
     "traceback": [
      "\u001b[1;31m---------------------------------------------------------------------------\u001b[0m",
      "\u001b[1;31mValueError\u001b[0m                                Traceback (most recent call last)",
      "File \u001b[1;32mc:\\Users\\user\\anaconda3\\envs\\project\\Lib\\site-packages\\pandas\\core\\indexes\\range.py:413\u001b[0m, in \u001b[0;36mRangeIndex.get_loc\u001b[1;34m(self, key)\u001b[0m\n\u001b[0;32m    412\u001b[0m \u001b[38;5;28;01mtry\u001b[39;00m:\n\u001b[1;32m--> 413\u001b[0m     \u001b[38;5;28;01mreturn\u001b[39;00m \u001b[38;5;28;43mself\u001b[39;49m\u001b[38;5;241;43m.\u001b[39;49m\u001b[43m_range\u001b[49m\u001b[38;5;241;43m.\u001b[39;49m\u001b[43mindex\u001b[49m\u001b[43m(\u001b[49m\u001b[43mnew_key\u001b[49m\u001b[43m)\u001b[49m\n\u001b[0;32m    414\u001b[0m \u001b[38;5;28;01mexcept\u001b[39;00m \u001b[38;5;167;01mValueError\u001b[39;00m \u001b[38;5;28;01mas\u001b[39;00m err:\n",
      "\u001b[1;31mValueError\u001b[0m: -4297 is not in range",
      "\nThe above exception was the direct cause of the following exception:\n",
      "\u001b[1;31mKeyError\u001b[0m                                  Traceback (most recent call last)",
      "Cell \u001b[1;32mIn[24], line 16\u001b[0m\n\u001b[0;32m     14\u001b[0m \u001b[38;5;66;03m# 덴드로그램 시각화\u001b[39;00m\n\u001b[0;32m     15\u001b[0m plt\u001b[38;5;241m.\u001b[39mfigure(figsize\u001b[38;5;241m=\u001b[39m(\u001b[38;5;241m10\u001b[39m, \u001b[38;5;241m5\u001b[39m))\n\u001b[1;32m---> 16\u001b[0m dendrogram \u001b[38;5;241m=\u001b[39m \u001b[43msch\u001b[49m\u001b[38;5;241;43m.\u001b[39;49m\u001b[43mdendrogram\u001b[49m\u001b[43m(\u001b[49m\u001b[43mZ\u001b[49m\u001b[43m,\u001b[49m\u001b[43m \u001b[49m\u001b[43mlabels\u001b[49m\u001b[38;5;241;43m=\u001b[39;49m\u001b[43mdocuments\u001b[49m\u001b[43m)\u001b[49m\n\u001b[0;32m     17\u001b[0m plt\u001b[38;5;241m.\u001b[39mtitle(\u001b[38;5;124m'\u001b[39m\u001b[38;5;124mDendrogram\u001b[39m\u001b[38;5;124m'\u001b[39m)\n\u001b[0;32m     18\u001b[0m plt\u001b[38;5;241m.\u001b[39mxlabel(\u001b[38;5;124m'\u001b[39m\u001b[38;5;124mDocuments\u001b[39m\u001b[38;5;124m'\u001b[39m)\n",
      "File \u001b[1;32mc:\\Users\\user\\anaconda3\\envs\\project\\Lib\\site-packages\\scipy\\cluster\\hierarchy.py:3332\u001b[0m, in \u001b[0;36mdendrogram\u001b[1;34m(Z, p, truncate_mode, color_threshold, get_leaves, orientation, labels, count_sort, distance_sort, show_leaf_counts, no_plot, no_labels, leaf_font_size, leaf_rotation, leaf_label_func, show_contracted, link_color_func, ax, above_threshold_color)\u001b[0m\n\u001b[0;32m   3329\u001b[0m \u001b[38;5;66;03m# Empty list will be filled in _dendrogram_calculate_info\u001b[39;00m\n\u001b[0;32m   3330\u001b[0m contraction_marks \u001b[38;5;241m=\u001b[39m [] \u001b[38;5;28;01mif\u001b[39;00m show_contracted \u001b[38;5;28;01melse\u001b[39;00m \u001b[38;5;28;01mNone\u001b[39;00m\n\u001b[1;32m-> 3332\u001b[0m \u001b[43m_dendrogram_calculate_info\u001b[49m\u001b[43m(\u001b[49m\n\u001b[0;32m   3333\u001b[0m \u001b[43m    \u001b[49m\u001b[43mZ\u001b[49m\u001b[38;5;241;43m=\u001b[39;49m\u001b[43mZ\u001b[49m\u001b[43m,\u001b[49m\u001b[43m \u001b[49m\u001b[43mp\u001b[49m\u001b[38;5;241;43m=\u001b[39;49m\u001b[43mp\u001b[49m\u001b[43m,\u001b[49m\n\u001b[0;32m   3334\u001b[0m \u001b[43m    \u001b[49m\u001b[43mtruncate_mode\u001b[49m\u001b[38;5;241;43m=\u001b[39;49m\u001b[43mtruncate_mode\u001b[49m\u001b[43m,\u001b[49m\n\u001b[0;32m   3335\u001b[0m \u001b[43m    \u001b[49m\u001b[43mcolor_threshold\u001b[49m\u001b[38;5;241;43m=\u001b[39;49m\u001b[43mcolor_threshold\u001b[49m\u001b[43m,\u001b[49m\n\u001b[0;32m   3336\u001b[0m \u001b[43m    \u001b[49m\u001b[43mget_leaves\u001b[49m\u001b[38;5;241;43m=\u001b[39;49m\u001b[43mget_leaves\u001b[49m\u001b[43m,\u001b[49m\n\u001b[0;32m   3337\u001b[0m \u001b[43m    \u001b[49m\u001b[43morientation\u001b[49m\u001b[38;5;241;43m=\u001b[39;49m\u001b[43morientation\u001b[49m\u001b[43m,\u001b[49m\n\u001b[0;32m   3338\u001b[0m \u001b[43m    \u001b[49m\u001b[43mlabels\u001b[49m\u001b[38;5;241;43m=\u001b[39;49m\u001b[43mlabels\u001b[49m\u001b[43m,\u001b[49m\n\u001b[0;32m   3339\u001b[0m \u001b[43m    \u001b[49m\u001b[43mcount_sort\u001b[49m\u001b[38;5;241;43m=\u001b[39;49m\u001b[43mcount_sort\u001b[49m\u001b[43m,\u001b[49m\n\u001b[0;32m   3340\u001b[0m \u001b[43m    \u001b[49m\u001b[43mdistance_sort\u001b[49m\u001b[38;5;241;43m=\u001b[39;49m\u001b[43mdistance_sort\u001b[49m\u001b[43m,\u001b[49m\n\u001b[0;32m   3341\u001b[0m \u001b[43m    \u001b[49m\u001b[43mshow_leaf_counts\u001b[49m\u001b[38;5;241;43m=\u001b[39;49m\u001b[43mshow_leaf_counts\u001b[49m\u001b[43m,\u001b[49m\n\u001b[0;32m   3342\u001b[0m \u001b[43m    \u001b[49m\u001b[43mi\u001b[49m\u001b[38;5;241;43m=\u001b[39;49m\u001b[38;5;241;43m2\u001b[39;49m\u001b[38;5;241;43m*\u001b[39;49m\u001b[43mn\u001b[49m\u001b[43m \u001b[49m\u001b[38;5;241;43m-\u001b[39;49m\u001b[43m \u001b[49m\u001b[38;5;241;43m2\u001b[39;49m\u001b[43m,\u001b[49m\n\u001b[0;32m   3343\u001b[0m \u001b[43m    \u001b[49m\u001b[43miv\u001b[49m\u001b[38;5;241;43m=\u001b[39;49m\u001b[38;5;241;43m0.0\u001b[39;49m\u001b[43m,\u001b[49m\n\u001b[0;32m   3344\u001b[0m \u001b[43m    \u001b[49m\u001b[43mivl\u001b[49m\u001b[38;5;241;43m=\u001b[39;49m\u001b[43mivl\u001b[49m\u001b[43m,\u001b[49m\n\u001b[0;32m   3345\u001b[0m \u001b[43m    \u001b[49m\u001b[43mn\u001b[49m\u001b[38;5;241;43m=\u001b[39;49m\u001b[43mn\u001b[49m\u001b[43m,\u001b[49m\n\u001b[0;32m   3346\u001b[0m \u001b[43m    \u001b[49m\u001b[43micoord_list\u001b[49m\u001b[38;5;241;43m=\u001b[39;49m\u001b[43micoord_list\u001b[49m\u001b[43m,\u001b[49m\n\u001b[0;32m   3347\u001b[0m \u001b[43m    \u001b[49m\u001b[43mdcoord_list\u001b[49m\u001b[38;5;241;43m=\u001b[39;49m\u001b[43mdcoord_list\u001b[49m\u001b[43m,\u001b[49m\n\u001b[0;32m   3348\u001b[0m \u001b[43m    \u001b[49m\u001b[43mlvs\u001b[49m\u001b[38;5;241;43m=\u001b[39;49m\u001b[43mlvs\u001b[49m\u001b[43m,\u001b[49m\n\u001b[0;32m   3349\u001b[0m \u001b[43m    \u001b[49m\u001b[43mcurrent_color\u001b[49m\u001b[38;5;241;43m=\u001b[39;49m\u001b[43mcurrent_color\u001b[49m\u001b[43m,\u001b[49m\n\u001b[0;32m   3350\u001b[0m \u001b[43m    \u001b[49m\u001b[43mcolor_list\u001b[49m\u001b[38;5;241;43m=\u001b[39;49m\u001b[43mcolor_list\u001b[49m\u001b[43m,\u001b[49m\n\u001b[0;32m   3351\u001b[0m \u001b[43m    \u001b[49m\u001b[43mcurrently_below_threshold\u001b[49m\u001b[38;5;241;43m=\u001b[39;49m\u001b[43mcurrently_below_threshold\u001b[49m\u001b[43m,\u001b[49m\n\u001b[0;32m   3352\u001b[0m \u001b[43m    \u001b[49m\u001b[43mleaf_label_func\u001b[49m\u001b[38;5;241;43m=\u001b[39;49m\u001b[43mleaf_label_func\u001b[49m\u001b[43m,\u001b[49m\n\u001b[0;32m   3353\u001b[0m \u001b[43m    \u001b[49m\u001b[43mcontraction_marks\u001b[49m\u001b[38;5;241;43m=\u001b[39;49m\u001b[43mcontraction_marks\u001b[49m\u001b[43m,\u001b[49m\n\u001b[0;32m   3354\u001b[0m \u001b[43m    \u001b[49m\u001b[43mlink_color_func\u001b[49m\u001b[38;5;241;43m=\u001b[39;49m\u001b[43mlink_color_func\u001b[49m\u001b[43m,\u001b[49m\n\u001b[0;32m   3355\u001b[0m \u001b[43m    \u001b[49m\u001b[43mabove_threshold_color\u001b[49m\u001b[38;5;241;43m=\u001b[39;49m\u001b[43mabove_threshold_color\u001b[49m\u001b[43m)\u001b[49m\n\u001b[0;32m   3357\u001b[0m \u001b[38;5;28;01mif\u001b[39;00m \u001b[38;5;129;01mnot\u001b[39;00m no_plot:\n\u001b[0;32m   3358\u001b[0m     mh \u001b[38;5;241m=\u001b[39m xp\u001b[38;5;241m.\u001b[39mmax(Z[:, \u001b[38;5;241m2\u001b[39m])\n",
      "File \u001b[1;32mc:\\Users\\user\\anaconda3\\envs\\project\\Lib\\site-packages\\scipy\\cluster\\hierarchy.py:3609\u001b[0m, in \u001b[0;36m_dendrogram_calculate_info\u001b[1;34m(Z, p, truncate_mode, color_threshold, get_leaves, orientation, labels, count_sort, distance_sort, show_leaf_counts, i, iv, ivl, n, icoord_list, dcoord_list, lvs, mhr, current_color, color_list, currently_below_threshold, leaf_label_func, level, contraction_marks, link_color_func, above_threshold_color)\u001b[0m\n\u001b[0;32m   3605\u001b[0m     ub \u001b[38;5;241m=\u001b[39m ab\n\u001b[0;32m   3607\u001b[0m \u001b[38;5;66;03m# Updated iv variable and the amount of space used.\u001b[39;00m\n\u001b[0;32m   3608\u001b[0m (uiva, uwa, uah, uamd) \u001b[38;5;241m=\u001b[39m \\\n\u001b[1;32m-> 3609\u001b[0m     \u001b[43m_dendrogram_calculate_info\u001b[49m\u001b[43m(\u001b[49m\n\u001b[0;32m   3610\u001b[0m \u001b[43m        \u001b[49m\u001b[43mZ\u001b[49m\u001b[38;5;241;43m=\u001b[39;49m\u001b[43mZ\u001b[49m\u001b[43m,\u001b[49m\u001b[43m \u001b[49m\u001b[43mp\u001b[49m\u001b[38;5;241;43m=\u001b[39;49m\u001b[43mp\u001b[49m\u001b[43m,\u001b[49m\n\u001b[0;32m   3611\u001b[0m \u001b[43m        \u001b[49m\u001b[43mtruncate_mode\u001b[49m\u001b[38;5;241;43m=\u001b[39;49m\u001b[43mtruncate_mode\u001b[49m\u001b[43m,\u001b[49m\n\u001b[0;32m   3612\u001b[0m \u001b[43m        \u001b[49m\u001b[43mcolor_threshold\u001b[49m\u001b[38;5;241;43m=\u001b[39;49m\u001b[43mcolor_threshold\u001b[49m\u001b[43m,\u001b[49m\n\u001b[0;32m   3613\u001b[0m \u001b[43m        \u001b[49m\u001b[43mget_leaves\u001b[49m\u001b[38;5;241;43m=\u001b[39;49m\u001b[43mget_leaves\u001b[49m\u001b[43m,\u001b[49m\n\u001b[0;32m   3614\u001b[0m \u001b[43m        \u001b[49m\u001b[43morientation\u001b[49m\u001b[38;5;241;43m=\u001b[39;49m\u001b[43morientation\u001b[49m\u001b[43m,\u001b[49m\n\u001b[0;32m   3615\u001b[0m \u001b[43m        \u001b[49m\u001b[43mlabels\u001b[49m\u001b[38;5;241;43m=\u001b[39;49m\u001b[43mlabels\u001b[49m\u001b[43m,\u001b[49m\n\u001b[0;32m   3616\u001b[0m \u001b[43m        \u001b[49m\u001b[43mcount_sort\u001b[49m\u001b[38;5;241;43m=\u001b[39;49m\u001b[43mcount_sort\u001b[49m\u001b[43m,\u001b[49m\n\u001b[0;32m   3617\u001b[0m \u001b[43m        \u001b[49m\u001b[43mdistance_sort\u001b[49m\u001b[38;5;241;43m=\u001b[39;49m\u001b[43mdistance_sort\u001b[49m\u001b[43m,\u001b[49m\n\u001b[0;32m   3618\u001b[0m \u001b[43m        \u001b[49m\u001b[43mshow_leaf_counts\u001b[49m\u001b[38;5;241;43m=\u001b[39;49m\u001b[43mshow_leaf_counts\u001b[49m\u001b[43m,\u001b[49m\n\u001b[0;32m   3619\u001b[0m \u001b[43m        \u001b[49m\u001b[43mi\u001b[49m\u001b[38;5;241;43m=\u001b[39;49m\u001b[43mua\u001b[49m\u001b[43m,\u001b[49m\u001b[43m \u001b[49m\u001b[43miv\u001b[49m\u001b[38;5;241;43m=\u001b[39;49m\u001b[43miv\u001b[49m\u001b[43m,\u001b[49m\u001b[43m \u001b[49m\u001b[43mivl\u001b[49m\u001b[38;5;241;43m=\u001b[39;49m\u001b[43mivl\u001b[49m\u001b[43m,\u001b[49m\u001b[43m \u001b[49m\u001b[43mn\u001b[49m\u001b[38;5;241;43m=\u001b[39;49m\u001b[43mn\u001b[49m\u001b[43m,\u001b[49m\n\u001b[0;32m   3620\u001b[0m \u001b[43m        \u001b[49m\u001b[43micoord_list\u001b[49m\u001b[38;5;241;43m=\u001b[39;49m\u001b[43micoord_list\u001b[49m\u001b[43m,\u001b[49m\n\u001b[0;32m   3621\u001b[0m \u001b[43m        \u001b[49m\u001b[43mdcoord_list\u001b[49m\u001b[38;5;241;43m=\u001b[39;49m\u001b[43mdcoord_list\u001b[49m\u001b[43m,\u001b[49m\u001b[43m \u001b[49m\u001b[43mlvs\u001b[49m\u001b[38;5;241;43m=\u001b[39;49m\u001b[43mlvs\u001b[49m\u001b[43m,\u001b[49m\n\u001b[0;32m   3622\u001b[0m \u001b[43m        \u001b[49m\u001b[43mcurrent_color\u001b[49m\u001b[38;5;241;43m=\u001b[39;49m\u001b[43mcurrent_color\u001b[49m\u001b[43m,\u001b[49m\n\u001b[0;32m   3623\u001b[0m \u001b[43m        \u001b[49m\u001b[43mcolor_list\u001b[49m\u001b[38;5;241;43m=\u001b[39;49m\u001b[43mcolor_list\u001b[49m\u001b[43m,\u001b[49m\n\u001b[0;32m   3624\u001b[0m \u001b[43m        \u001b[49m\u001b[43mcurrently_below_threshold\u001b[49m\u001b[38;5;241;43m=\u001b[39;49m\u001b[43mcurrently_below_threshold\u001b[49m\u001b[43m,\u001b[49m\n\u001b[0;32m   3625\u001b[0m \u001b[43m        \u001b[49m\u001b[43mleaf_label_func\u001b[49m\u001b[38;5;241;43m=\u001b[39;49m\u001b[43mleaf_label_func\u001b[49m\u001b[43m,\u001b[49m\n\u001b[0;32m   3626\u001b[0m \u001b[43m        \u001b[49m\u001b[43mlevel\u001b[49m\u001b[38;5;241;43m=\u001b[39;49m\u001b[43mlevel\u001b[49m\u001b[43m \u001b[49m\u001b[38;5;241;43m+\u001b[39;49m\u001b[43m \u001b[49m\u001b[38;5;241;43m1\u001b[39;49m\u001b[43m,\u001b[49m\u001b[43m \u001b[49m\u001b[43mcontraction_marks\u001b[49m\u001b[38;5;241;43m=\u001b[39;49m\u001b[43mcontraction_marks\u001b[49m\u001b[43m,\u001b[49m\n\u001b[0;32m   3627\u001b[0m \u001b[43m        \u001b[49m\u001b[43mlink_color_func\u001b[49m\u001b[38;5;241;43m=\u001b[39;49m\u001b[43mlink_color_func\u001b[49m\u001b[43m,\u001b[49m\n\u001b[0;32m   3628\u001b[0m \u001b[43m        \u001b[49m\u001b[43mabove_threshold_color\u001b[49m\u001b[38;5;241;43m=\u001b[39;49m\u001b[43mabove_threshold_color\u001b[49m\u001b[43m)\u001b[49m\n\u001b[0;32m   3630\u001b[0m h \u001b[38;5;241m=\u001b[39m Z[i \u001b[38;5;241m-\u001b[39m n, \u001b[38;5;241m2\u001b[39m]\n\u001b[0;32m   3631\u001b[0m \u001b[38;5;28;01mif\u001b[39;00m h \u001b[38;5;241m>\u001b[39m\u001b[38;5;241m=\u001b[39m color_threshold \u001b[38;5;129;01mor\u001b[39;00m color_threshold \u001b[38;5;241m<\u001b[39m\u001b[38;5;241m=\u001b[39m \u001b[38;5;241m0\u001b[39m:\n",
      "File \u001b[1;32mc:\\Users\\user\\anaconda3\\envs\\project\\Lib\\site-packages\\scipy\\cluster\\hierarchy.py:3609\u001b[0m, in \u001b[0;36m_dendrogram_calculate_info\u001b[1;34m(Z, p, truncate_mode, color_threshold, get_leaves, orientation, labels, count_sort, distance_sort, show_leaf_counts, i, iv, ivl, n, icoord_list, dcoord_list, lvs, mhr, current_color, color_list, currently_below_threshold, leaf_label_func, level, contraction_marks, link_color_func, above_threshold_color)\u001b[0m\n\u001b[0;32m   3605\u001b[0m     ub \u001b[38;5;241m=\u001b[39m ab\n\u001b[0;32m   3607\u001b[0m \u001b[38;5;66;03m# Updated iv variable and the amount of space used.\u001b[39;00m\n\u001b[0;32m   3608\u001b[0m (uiva, uwa, uah, uamd) \u001b[38;5;241m=\u001b[39m \\\n\u001b[1;32m-> 3609\u001b[0m     \u001b[43m_dendrogram_calculate_info\u001b[49m\u001b[43m(\u001b[49m\n\u001b[0;32m   3610\u001b[0m \u001b[43m        \u001b[49m\u001b[43mZ\u001b[49m\u001b[38;5;241;43m=\u001b[39;49m\u001b[43mZ\u001b[49m\u001b[43m,\u001b[49m\u001b[43m \u001b[49m\u001b[43mp\u001b[49m\u001b[38;5;241;43m=\u001b[39;49m\u001b[43mp\u001b[49m\u001b[43m,\u001b[49m\n\u001b[0;32m   3611\u001b[0m \u001b[43m        \u001b[49m\u001b[43mtruncate_mode\u001b[49m\u001b[38;5;241;43m=\u001b[39;49m\u001b[43mtruncate_mode\u001b[49m\u001b[43m,\u001b[49m\n\u001b[0;32m   3612\u001b[0m \u001b[43m        \u001b[49m\u001b[43mcolor_threshold\u001b[49m\u001b[38;5;241;43m=\u001b[39;49m\u001b[43mcolor_threshold\u001b[49m\u001b[43m,\u001b[49m\n\u001b[0;32m   3613\u001b[0m \u001b[43m        \u001b[49m\u001b[43mget_leaves\u001b[49m\u001b[38;5;241;43m=\u001b[39;49m\u001b[43mget_leaves\u001b[49m\u001b[43m,\u001b[49m\n\u001b[0;32m   3614\u001b[0m \u001b[43m        \u001b[49m\u001b[43morientation\u001b[49m\u001b[38;5;241;43m=\u001b[39;49m\u001b[43morientation\u001b[49m\u001b[43m,\u001b[49m\n\u001b[0;32m   3615\u001b[0m \u001b[43m        \u001b[49m\u001b[43mlabels\u001b[49m\u001b[38;5;241;43m=\u001b[39;49m\u001b[43mlabels\u001b[49m\u001b[43m,\u001b[49m\n\u001b[0;32m   3616\u001b[0m \u001b[43m        \u001b[49m\u001b[43mcount_sort\u001b[49m\u001b[38;5;241;43m=\u001b[39;49m\u001b[43mcount_sort\u001b[49m\u001b[43m,\u001b[49m\n\u001b[0;32m   3617\u001b[0m \u001b[43m        \u001b[49m\u001b[43mdistance_sort\u001b[49m\u001b[38;5;241;43m=\u001b[39;49m\u001b[43mdistance_sort\u001b[49m\u001b[43m,\u001b[49m\n\u001b[0;32m   3618\u001b[0m \u001b[43m        \u001b[49m\u001b[43mshow_leaf_counts\u001b[49m\u001b[38;5;241;43m=\u001b[39;49m\u001b[43mshow_leaf_counts\u001b[49m\u001b[43m,\u001b[49m\n\u001b[0;32m   3619\u001b[0m \u001b[43m        \u001b[49m\u001b[43mi\u001b[49m\u001b[38;5;241;43m=\u001b[39;49m\u001b[43mua\u001b[49m\u001b[43m,\u001b[49m\u001b[43m \u001b[49m\u001b[43miv\u001b[49m\u001b[38;5;241;43m=\u001b[39;49m\u001b[43miv\u001b[49m\u001b[43m,\u001b[49m\u001b[43m \u001b[49m\u001b[43mivl\u001b[49m\u001b[38;5;241;43m=\u001b[39;49m\u001b[43mivl\u001b[49m\u001b[43m,\u001b[49m\u001b[43m \u001b[49m\u001b[43mn\u001b[49m\u001b[38;5;241;43m=\u001b[39;49m\u001b[43mn\u001b[49m\u001b[43m,\u001b[49m\n\u001b[0;32m   3620\u001b[0m \u001b[43m        \u001b[49m\u001b[43micoord_list\u001b[49m\u001b[38;5;241;43m=\u001b[39;49m\u001b[43micoord_list\u001b[49m\u001b[43m,\u001b[49m\n\u001b[0;32m   3621\u001b[0m \u001b[43m        \u001b[49m\u001b[43mdcoord_list\u001b[49m\u001b[38;5;241;43m=\u001b[39;49m\u001b[43mdcoord_list\u001b[49m\u001b[43m,\u001b[49m\u001b[43m \u001b[49m\u001b[43mlvs\u001b[49m\u001b[38;5;241;43m=\u001b[39;49m\u001b[43mlvs\u001b[49m\u001b[43m,\u001b[49m\n\u001b[0;32m   3622\u001b[0m \u001b[43m        \u001b[49m\u001b[43mcurrent_color\u001b[49m\u001b[38;5;241;43m=\u001b[39;49m\u001b[43mcurrent_color\u001b[49m\u001b[43m,\u001b[49m\n\u001b[0;32m   3623\u001b[0m \u001b[43m        \u001b[49m\u001b[43mcolor_list\u001b[49m\u001b[38;5;241;43m=\u001b[39;49m\u001b[43mcolor_list\u001b[49m\u001b[43m,\u001b[49m\n\u001b[0;32m   3624\u001b[0m \u001b[43m        \u001b[49m\u001b[43mcurrently_below_threshold\u001b[49m\u001b[38;5;241;43m=\u001b[39;49m\u001b[43mcurrently_below_threshold\u001b[49m\u001b[43m,\u001b[49m\n\u001b[0;32m   3625\u001b[0m \u001b[43m        \u001b[49m\u001b[43mleaf_label_func\u001b[49m\u001b[38;5;241;43m=\u001b[39;49m\u001b[43mleaf_label_func\u001b[49m\u001b[43m,\u001b[49m\n\u001b[0;32m   3626\u001b[0m \u001b[43m        \u001b[49m\u001b[43mlevel\u001b[49m\u001b[38;5;241;43m=\u001b[39;49m\u001b[43mlevel\u001b[49m\u001b[43m \u001b[49m\u001b[38;5;241;43m+\u001b[39;49m\u001b[43m \u001b[49m\u001b[38;5;241;43m1\u001b[39;49m\u001b[43m,\u001b[49m\u001b[43m \u001b[49m\u001b[43mcontraction_marks\u001b[49m\u001b[38;5;241;43m=\u001b[39;49m\u001b[43mcontraction_marks\u001b[49m\u001b[43m,\u001b[49m\n\u001b[0;32m   3627\u001b[0m \u001b[43m        \u001b[49m\u001b[43mlink_color_func\u001b[49m\u001b[38;5;241;43m=\u001b[39;49m\u001b[43mlink_color_func\u001b[49m\u001b[43m,\u001b[49m\n\u001b[0;32m   3628\u001b[0m \u001b[43m        \u001b[49m\u001b[43mabove_threshold_color\u001b[49m\u001b[38;5;241;43m=\u001b[39;49m\u001b[43mabove_threshold_color\u001b[49m\u001b[43m)\u001b[49m\n\u001b[0;32m   3630\u001b[0m h \u001b[38;5;241m=\u001b[39m Z[i \u001b[38;5;241m-\u001b[39m n, \u001b[38;5;241m2\u001b[39m]\n\u001b[0;32m   3631\u001b[0m \u001b[38;5;28;01mif\u001b[39;00m h \u001b[38;5;241m>\u001b[39m\u001b[38;5;241m=\u001b[39m color_threshold \u001b[38;5;129;01mor\u001b[39;00m color_threshold \u001b[38;5;241m<\u001b[39m\u001b[38;5;241m=\u001b[39m \u001b[38;5;241m0\u001b[39m:\n",
      "    \u001b[1;31m[... skipping similar frames: _dendrogram_calculate_info at line 3609 (4 times)]\u001b[0m\n",
      "File \u001b[1;32mc:\\Users\\user\\anaconda3\\envs\\project\\Lib\\site-packages\\scipy\\cluster\\hierarchy.py:3609\u001b[0m, in \u001b[0;36m_dendrogram_calculate_info\u001b[1;34m(Z, p, truncate_mode, color_threshold, get_leaves, orientation, labels, count_sort, distance_sort, show_leaf_counts, i, iv, ivl, n, icoord_list, dcoord_list, lvs, mhr, current_color, color_list, currently_below_threshold, leaf_label_func, level, contraction_marks, link_color_func, above_threshold_color)\u001b[0m\n\u001b[0;32m   3605\u001b[0m     ub \u001b[38;5;241m=\u001b[39m ab\n\u001b[0;32m   3607\u001b[0m \u001b[38;5;66;03m# Updated iv variable and the amount of space used.\u001b[39;00m\n\u001b[0;32m   3608\u001b[0m (uiva, uwa, uah, uamd) \u001b[38;5;241m=\u001b[39m \\\n\u001b[1;32m-> 3609\u001b[0m     \u001b[43m_dendrogram_calculate_info\u001b[49m\u001b[43m(\u001b[49m\n\u001b[0;32m   3610\u001b[0m \u001b[43m        \u001b[49m\u001b[43mZ\u001b[49m\u001b[38;5;241;43m=\u001b[39;49m\u001b[43mZ\u001b[49m\u001b[43m,\u001b[49m\u001b[43m \u001b[49m\u001b[43mp\u001b[49m\u001b[38;5;241;43m=\u001b[39;49m\u001b[43mp\u001b[49m\u001b[43m,\u001b[49m\n\u001b[0;32m   3611\u001b[0m \u001b[43m        \u001b[49m\u001b[43mtruncate_mode\u001b[49m\u001b[38;5;241;43m=\u001b[39;49m\u001b[43mtruncate_mode\u001b[49m\u001b[43m,\u001b[49m\n\u001b[0;32m   3612\u001b[0m \u001b[43m        \u001b[49m\u001b[43mcolor_threshold\u001b[49m\u001b[38;5;241;43m=\u001b[39;49m\u001b[43mcolor_threshold\u001b[49m\u001b[43m,\u001b[49m\n\u001b[0;32m   3613\u001b[0m \u001b[43m        \u001b[49m\u001b[43mget_leaves\u001b[49m\u001b[38;5;241;43m=\u001b[39;49m\u001b[43mget_leaves\u001b[49m\u001b[43m,\u001b[49m\n\u001b[0;32m   3614\u001b[0m \u001b[43m        \u001b[49m\u001b[43morientation\u001b[49m\u001b[38;5;241;43m=\u001b[39;49m\u001b[43morientation\u001b[49m\u001b[43m,\u001b[49m\n\u001b[0;32m   3615\u001b[0m \u001b[43m        \u001b[49m\u001b[43mlabels\u001b[49m\u001b[38;5;241;43m=\u001b[39;49m\u001b[43mlabels\u001b[49m\u001b[43m,\u001b[49m\n\u001b[0;32m   3616\u001b[0m \u001b[43m        \u001b[49m\u001b[43mcount_sort\u001b[49m\u001b[38;5;241;43m=\u001b[39;49m\u001b[43mcount_sort\u001b[49m\u001b[43m,\u001b[49m\n\u001b[0;32m   3617\u001b[0m \u001b[43m        \u001b[49m\u001b[43mdistance_sort\u001b[49m\u001b[38;5;241;43m=\u001b[39;49m\u001b[43mdistance_sort\u001b[49m\u001b[43m,\u001b[49m\n\u001b[0;32m   3618\u001b[0m \u001b[43m        \u001b[49m\u001b[43mshow_leaf_counts\u001b[49m\u001b[38;5;241;43m=\u001b[39;49m\u001b[43mshow_leaf_counts\u001b[49m\u001b[43m,\u001b[49m\n\u001b[0;32m   3619\u001b[0m \u001b[43m        \u001b[49m\u001b[43mi\u001b[49m\u001b[38;5;241;43m=\u001b[39;49m\u001b[43mua\u001b[49m\u001b[43m,\u001b[49m\u001b[43m \u001b[49m\u001b[43miv\u001b[49m\u001b[38;5;241;43m=\u001b[39;49m\u001b[43miv\u001b[49m\u001b[43m,\u001b[49m\u001b[43m \u001b[49m\u001b[43mivl\u001b[49m\u001b[38;5;241;43m=\u001b[39;49m\u001b[43mivl\u001b[49m\u001b[43m,\u001b[49m\u001b[43m \u001b[49m\u001b[43mn\u001b[49m\u001b[38;5;241;43m=\u001b[39;49m\u001b[43mn\u001b[49m\u001b[43m,\u001b[49m\n\u001b[0;32m   3620\u001b[0m \u001b[43m        \u001b[49m\u001b[43micoord_list\u001b[49m\u001b[38;5;241;43m=\u001b[39;49m\u001b[43micoord_list\u001b[49m\u001b[43m,\u001b[49m\n\u001b[0;32m   3621\u001b[0m \u001b[43m        \u001b[49m\u001b[43mdcoord_list\u001b[49m\u001b[38;5;241;43m=\u001b[39;49m\u001b[43mdcoord_list\u001b[49m\u001b[43m,\u001b[49m\u001b[43m \u001b[49m\u001b[43mlvs\u001b[49m\u001b[38;5;241;43m=\u001b[39;49m\u001b[43mlvs\u001b[49m\u001b[43m,\u001b[49m\n\u001b[0;32m   3622\u001b[0m \u001b[43m        \u001b[49m\u001b[43mcurrent_color\u001b[49m\u001b[38;5;241;43m=\u001b[39;49m\u001b[43mcurrent_color\u001b[49m\u001b[43m,\u001b[49m\n\u001b[0;32m   3623\u001b[0m \u001b[43m        \u001b[49m\u001b[43mcolor_list\u001b[49m\u001b[38;5;241;43m=\u001b[39;49m\u001b[43mcolor_list\u001b[49m\u001b[43m,\u001b[49m\n\u001b[0;32m   3624\u001b[0m \u001b[43m        \u001b[49m\u001b[43mcurrently_below_threshold\u001b[49m\u001b[38;5;241;43m=\u001b[39;49m\u001b[43mcurrently_below_threshold\u001b[49m\u001b[43m,\u001b[49m\n\u001b[0;32m   3625\u001b[0m \u001b[43m        \u001b[49m\u001b[43mleaf_label_func\u001b[49m\u001b[38;5;241;43m=\u001b[39;49m\u001b[43mleaf_label_func\u001b[49m\u001b[43m,\u001b[49m\n\u001b[0;32m   3626\u001b[0m \u001b[43m        \u001b[49m\u001b[43mlevel\u001b[49m\u001b[38;5;241;43m=\u001b[39;49m\u001b[43mlevel\u001b[49m\u001b[43m \u001b[49m\u001b[38;5;241;43m+\u001b[39;49m\u001b[43m \u001b[49m\u001b[38;5;241;43m1\u001b[39;49m\u001b[43m,\u001b[49m\u001b[43m \u001b[49m\u001b[43mcontraction_marks\u001b[49m\u001b[38;5;241;43m=\u001b[39;49m\u001b[43mcontraction_marks\u001b[49m\u001b[43m,\u001b[49m\n\u001b[0;32m   3627\u001b[0m \u001b[43m        \u001b[49m\u001b[43mlink_color_func\u001b[49m\u001b[38;5;241;43m=\u001b[39;49m\u001b[43mlink_color_func\u001b[49m\u001b[43m,\u001b[49m\n\u001b[0;32m   3628\u001b[0m \u001b[43m        \u001b[49m\u001b[43mabove_threshold_color\u001b[49m\u001b[38;5;241;43m=\u001b[39;49m\u001b[43mabove_threshold_color\u001b[49m\u001b[43m)\u001b[49m\n\u001b[0;32m   3630\u001b[0m h \u001b[38;5;241m=\u001b[39m Z[i \u001b[38;5;241m-\u001b[39m n, \u001b[38;5;241m2\u001b[39m]\n\u001b[0;32m   3631\u001b[0m \u001b[38;5;28;01mif\u001b[39;00m h \u001b[38;5;241m>\u001b[39m\u001b[38;5;241m=\u001b[39m color_threshold \u001b[38;5;129;01mor\u001b[39;00m color_threshold \u001b[38;5;241m<\u001b[39m\u001b[38;5;241m=\u001b[39m \u001b[38;5;241m0\u001b[39m:\n",
      "File \u001b[1;32mc:\\Users\\user\\anaconda3\\envs\\project\\Lib\\site-packages\\scipy\\cluster\\hierarchy.py:3539\u001b[0m, in \u001b[0;36m_dendrogram_calculate_info\u001b[1;34m(Z, p, truncate_mode, color_threshold, get_leaves, orientation, labels, count_sort, distance_sort, show_leaf_counts, i, iv, ivl, n, icoord_list, dcoord_list, lvs, mhr, current_color, color_list, currently_below_threshold, leaf_label_func, level, contraction_marks, link_color_func, above_threshold_color)\u001b[0m\n\u001b[0;32m   3535\u001b[0m \u001b[38;5;66;03m# Otherwise, only truncate if we have a leaf node.\u001b[39;00m\n\u001b[0;32m   3536\u001b[0m \u001b[38;5;66;03m#\u001b[39;00m\n\u001b[0;32m   3537\u001b[0m \u001b[38;5;66;03m# Only place leaves if they correspond to original observations.\u001b[39;00m\n\u001b[0;32m   3538\u001b[0m \u001b[38;5;28;01mif\u001b[39;00m i \u001b[38;5;241m<\u001b[39m n:\n\u001b[1;32m-> 3539\u001b[0m     \u001b[43m_append_singleton_leaf_node\u001b[49m\u001b[43m(\u001b[49m\u001b[43mZ\u001b[49m\u001b[43m,\u001b[49m\u001b[43m \u001b[49m\u001b[43mp\u001b[49m\u001b[43m,\u001b[49m\u001b[43m \u001b[49m\u001b[43mn\u001b[49m\u001b[43m,\u001b[49m\u001b[43m \u001b[49m\u001b[43mlevel\u001b[49m\u001b[43m,\u001b[49m\u001b[43m \u001b[49m\u001b[43mlvs\u001b[49m\u001b[43m,\u001b[49m\u001b[43m \u001b[49m\u001b[43mivl\u001b[49m\u001b[43m,\u001b[49m\n\u001b[0;32m   3540\u001b[0m \u001b[43m                                \u001b[49m\u001b[43mleaf_label_func\u001b[49m\u001b[43m,\u001b[49m\u001b[43m \u001b[49m\u001b[43mi\u001b[49m\u001b[43m,\u001b[49m\u001b[43m \u001b[49m\u001b[43mlabels\u001b[49m\u001b[43m)\u001b[49m\n\u001b[0;32m   3541\u001b[0m     \u001b[38;5;28;01mreturn\u001b[39;00m (iv \u001b[38;5;241m+\u001b[39m \u001b[38;5;241m5.0\u001b[39m, \u001b[38;5;241m10.0\u001b[39m, \u001b[38;5;241m0.0\u001b[39m, \u001b[38;5;241m0.0\u001b[39m)\n\u001b[0;32m   3543\u001b[0m \u001b[38;5;66;03m# !!! Otherwise, we don't have a leaf node, so work on plotting a\u001b[39;00m\n\u001b[0;32m   3544\u001b[0m \u001b[38;5;66;03m# non-leaf node.\u001b[39;00m\n\u001b[0;32m   3545\u001b[0m \u001b[38;5;66;03m# Actual indices of a and b\u001b[39;00m\n",
      "File \u001b[1;32mc:\\Users\\user\\anaconda3\\envs\\project\\Lib\\site-packages\\scipy\\cluster\\hierarchy.py:3409\u001b[0m, in \u001b[0;36m_append_singleton_leaf_node\u001b[1;34m(Z, p, n, level, lvs, ivl, leaf_label_func, i, labels)\u001b[0m\n\u001b[0;32m   3405\u001b[0m \u001b[38;5;28;01melse\u001b[39;00m:\n\u001b[0;32m   3406\u001b[0m     \u001b[38;5;66;03m# Otherwise, if the dendrogram caller has passed a labels list\u001b[39;00m\n\u001b[0;32m   3407\u001b[0m     \u001b[38;5;66;03m# for the leaf nodes, use it.\u001b[39;00m\n\u001b[0;32m   3408\u001b[0m     \u001b[38;5;28;01mif\u001b[39;00m labels \u001b[38;5;129;01mis\u001b[39;00m \u001b[38;5;129;01mnot\u001b[39;00m \u001b[38;5;28;01mNone\u001b[39;00m:\n\u001b[1;32m-> 3409\u001b[0m         ivl\u001b[38;5;241m.\u001b[39mappend(\u001b[43mlabels\u001b[49m\u001b[43m[\u001b[49m\u001b[38;5;28;43mint\u001b[39;49m\u001b[43m(\u001b[49m\u001b[43mi\u001b[49m\u001b[43m \u001b[49m\u001b[38;5;241;43m-\u001b[39;49m\u001b[43m \u001b[49m\u001b[43mn\u001b[49m\u001b[43m)\u001b[49m\u001b[43m]\u001b[49m)\n\u001b[0;32m   3410\u001b[0m     \u001b[38;5;28;01melse\u001b[39;00m:\n\u001b[0;32m   3411\u001b[0m         \u001b[38;5;66;03m# Otherwise, use the id as the label for the leaf.x\u001b[39;00m\n\u001b[0;32m   3412\u001b[0m         ivl\u001b[38;5;241m.\u001b[39mappend(\u001b[38;5;28mstr\u001b[39m(\u001b[38;5;28mint\u001b[39m(i)))\n",
      "File \u001b[1;32mc:\\Users\\user\\anaconda3\\envs\\project\\Lib\\site-packages\\pandas\\core\\series.py:1121\u001b[0m, in \u001b[0;36mSeries.__getitem__\u001b[1;34m(self, key)\u001b[0m\n\u001b[0;32m   1118\u001b[0m     \u001b[38;5;28;01mreturn\u001b[39;00m \u001b[38;5;28mself\u001b[39m\u001b[38;5;241m.\u001b[39m_values[key]\n\u001b[0;32m   1120\u001b[0m \u001b[38;5;28;01melif\u001b[39;00m key_is_scalar:\n\u001b[1;32m-> 1121\u001b[0m     \u001b[38;5;28;01mreturn\u001b[39;00m \u001b[38;5;28;43mself\u001b[39;49m\u001b[38;5;241;43m.\u001b[39;49m\u001b[43m_get_value\u001b[49m\u001b[43m(\u001b[49m\u001b[43mkey\u001b[49m\u001b[43m)\u001b[49m\n\u001b[0;32m   1123\u001b[0m \u001b[38;5;66;03m# Convert generator to list before going through hashable part\u001b[39;00m\n\u001b[0;32m   1124\u001b[0m \u001b[38;5;66;03m# (We will iterate through the generator there to check for slices)\u001b[39;00m\n\u001b[0;32m   1125\u001b[0m \u001b[38;5;28;01mif\u001b[39;00m is_iterator(key):\n",
      "File \u001b[1;32mc:\\Users\\user\\anaconda3\\envs\\project\\Lib\\site-packages\\pandas\\core\\series.py:1237\u001b[0m, in \u001b[0;36mSeries._get_value\u001b[1;34m(self, label, takeable)\u001b[0m\n\u001b[0;32m   1234\u001b[0m     \u001b[38;5;28;01mreturn\u001b[39;00m \u001b[38;5;28mself\u001b[39m\u001b[38;5;241m.\u001b[39m_values[label]\n\u001b[0;32m   1236\u001b[0m \u001b[38;5;66;03m# Similar to Index.get_value, but we do not fall back to positional\u001b[39;00m\n\u001b[1;32m-> 1237\u001b[0m loc \u001b[38;5;241m=\u001b[39m \u001b[38;5;28;43mself\u001b[39;49m\u001b[38;5;241;43m.\u001b[39;49m\u001b[43mindex\u001b[49m\u001b[38;5;241;43m.\u001b[39;49m\u001b[43mget_loc\u001b[49m\u001b[43m(\u001b[49m\u001b[43mlabel\u001b[49m\u001b[43m)\u001b[49m\n\u001b[0;32m   1239\u001b[0m \u001b[38;5;28;01mif\u001b[39;00m is_integer(loc):\n\u001b[0;32m   1240\u001b[0m     \u001b[38;5;28;01mreturn\u001b[39;00m \u001b[38;5;28mself\u001b[39m\u001b[38;5;241m.\u001b[39m_values[loc]\n",
      "File \u001b[1;32mc:\\Users\\user\\anaconda3\\envs\\project\\Lib\\site-packages\\pandas\\core\\indexes\\range.py:415\u001b[0m, in \u001b[0;36mRangeIndex.get_loc\u001b[1;34m(self, key)\u001b[0m\n\u001b[0;32m    413\u001b[0m         \u001b[38;5;28;01mreturn\u001b[39;00m \u001b[38;5;28mself\u001b[39m\u001b[38;5;241m.\u001b[39m_range\u001b[38;5;241m.\u001b[39mindex(new_key)\n\u001b[0;32m    414\u001b[0m     \u001b[38;5;28;01mexcept\u001b[39;00m \u001b[38;5;167;01mValueError\u001b[39;00m \u001b[38;5;28;01mas\u001b[39;00m err:\n\u001b[1;32m--> 415\u001b[0m         \u001b[38;5;28;01mraise\u001b[39;00m \u001b[38;5;167;01mKeyError\u001b[39;00m(key) \u001b[38;5;28;01mfrom\u001b[39;00m \u001b[38;5;21;01merr\u001b[39;00m\n\u001b[0;32m    416\u001b[0m \u001b[38;5;28;01mif\u001b[39;00m \u001b[38;5;28misinstance\u001b[39m(key, Hashable):\n\u001b[0;32m    417\u001b[0m     \u001b[38;5;28;01mraise\u001b[39;00m \u001b[38;5;167;01mKeyError\u001b[39;00m(key)\n",
      "\u001b[1;31mKeyError\u001b[0m: -4297"
     ]
    },
    {
     "data": {
      "text/plain": [
       "<Figure size 1000x500 with 0 Axes>"
      ]
     },
     "metadata": {},
     "output_type": "display_data"
    }
   ],
   "source": [
    "import numpy as np\n",
    "import scipy.cluster.hierarchy as sch\n",
    "import matplotlib.pyplot as plt\n",
    "\n",
    "# 거리 행렬 계산\n",
    "from scipy.spatial.distance import pdist\n",
    "\n",
    "value = df.get('column_name', default_value)  # column_name이 없으면 default_value 반환\n",
    "\n",
    "# 거리 행렬\n",
    "distance_matrix = pdist(X.toarray(), metric='euclidean')\n",
    "\n",
    "# 계층적 군집화\n",
    "Z = sch.linkage(distance_matrix, method='ward')\n",
    "\n",
    "# 덴드로그램 시각화\n",
    "plt.figure(figsize=(10, 5))\n",
    "dendrogram = sch.dendrogram(Z, labels=documents)\n",
    "plt.title('Dendrogram')\n",
    "plt.xlabel('Documents')\n",
    "plt.ylabel('Distance')\n",
    "plt.show()"
   ]
  },
  {
   "cell_type": "markdown",
   "metadata": {},
   "source": [
    "5. 군집 결과 해석\n",
    "덴드로그램을 해석하여 최적의 클러스터 개수를 선택하고, 이를 기반으로 데이터를 그룹화합니다. 각 클러스터의 문서들을 확인하여 그룹의 특성을 분석할 수 있습니다.\n",
    "\n",
    "6. 클러스터링 결과 평가\n",
    "클러스터링의 품질을 평가하기 위해 실루엣 점수(silhouette score)나 Davies–Bouldin 지수를 사용할 수 있습니다."
   ]
  },
  {
   "cell_type": "code",
   "execution_count": 20,
   "metadata": {},
   "outputs": [
    {
     "ename": "ValueError",
     "evalue": "Number of labels is 1. Valid values are 2 to n_samples - 1 (inclusive)",
     "output_type": "error",
     "traceback": [
      "\u001b[1;31m---------------------------------------------------------------------------\u001b[0m",
      "\u001b[1;31mValueError\u001b[0m                                Traceback (most recent call last)",
      "Cell \u001b[1;32mIn[20], line 5\u001b[0m\n\u001b[0;32m      3\u001b[0m \u001b[38;5;66;03m# 군집화 결과에 대한 실루엣 점수\u001b[39;00m\n\u001b[0;32m      4\u001b[0m labels \u001b[38;5;241m=\u001b[39m sch\u001b[38;5;241m.\u001b[39mfcluster(Z, t\u001b[38;5;241m=\u001b[39m\u001b[38;5;241m2\u001b[39m, criterion\u001b[38;5;241m=\u001b[39m\u001b[38;5;124m'\u001b[39m\u001b[38;5;124mmaxclust\u001b[39m\u001b[38;5;124m'\u001b[39m)  \u001b[38;5;66;03m# 2개의 클러스터로 나누기\u001b[39;00m\n\u001b[1;32m----> 5\u001b[0m score \u001b[38;5;241m=\u001b[39m \u001b[43msilhouette_score\u001b[49m\u001b[43m(\u001b[49m\u001b[43mX\u001b[49m\u001b[43m,\u001b[49m\u001b[43m \u001b[49m\u001b[43mlabels\u001b[49m\u001b[43m)\u001b[49m\n\u001b[0;32m      6\u001b[0m \u001b[38;5;28mprint\u001b[39m(\u001b[38;5;124mf\u001b[39m\u001b[38;5;124m'\u001b[39m\u001b[38;5;124mSilhouette Score: \u001b[39m\u001b[38;5;132;01m{\u001b[39;00mscore\u001b[38;5;132;01m}\u001b[39;00m\u001b[38;5;124m'\u001b[39m)\n",
      "File \u001b[1;32mc:\\Users\\user\\anaconda3\\envs\\project\\Lib\\site-packages\\sklearn\\utils\\_param_validation.py:213\u001b[0m, in \u001b[0;36mvalidate_params.<locals>.decorator.<locals>.wrapper\u001b[1;34m(*args, **kwargs)\u001b[0m\n\u001b[0;32m    207\u001b[0m \u001b[38;5;28;01mtry\u001b[39;00m:\n\u001b[0;32m    208\u001b[0m     \u001b[38;5;28;01mwith\u001b[39;00m config_context(\n\u001b[0;32m    209\u001b[0m         skip_parameter_validation\u001b[38;5;241m=\u001b[39m(\n\u001b[0;32m    210\u001b[0m             prefer_skip_nested_validation \u001b[38;5;129;01mor\u001b[39;00m global_skip_validation\n\u001b[0;32m    211\u001b[0m         )\n\u001b[0;32m    212\u001b[0m     ):\n\u001b[1;32m--> 213\u001b[0m         \u001b[38;5;28;01mreturn\u001b[39;00m \u001b[43mfunc\u001b[49m\u001b[43m(\u001b[49m\u001b[38;5;241;43m*\u001b[39;49m\u001b[43margs\u001b[49m\u001b[43m,\u001b[49m\u001b[43m \u001b[49m\u001b[38;5;241;43m*\u001b[39;49m\u001b[38;5;241;43m*\u001b[39;49m\u001b[43mkwargs\u001b[49m\u001b[43m)\u001b[49m\n\u001b[0;32m    214\u001b[0m \u001b[38;5;28;01mexcept\u001b[39;00m InvalidParameterError \u001b[38;5;28;01mas\u001b[39;00m e:\n\u001b[0;32m    215\u001b[0m     \u001b[38;5;66;03m# When the function is just a wrapper around an estimator, we allow\u001b[39;00m\n\u001b[0;32m    216\u001b[0m     \u001b[38;5;66;03m# the function to delegate validation to the estimator, but we replace\u001b[39;00m\n\u001b[0;32m    217\u001b[0m     \u001b[38;5;66;03m# the name of the estimator by the name of the function in the error\u001b[39;00m\n\u001b[0;32m    218\u001b[0m     \u001b[38;5;66;03m# message to avoid confusion.\u001b[39;00m\n\u001b[0;32m    219\u001b[0m     msg \u001b[38;5;241m=\u001b[39m re\u001b[38;5;241m.\u001b[39msub(\n\u001b[0;32m    220\u001b[0m         \u001b[38;5;124mr\u001b[39m\u001b[38;5;124m\"\u001b[39m\u001b[38;5;124mparameter of \u001b[39m\u001b[38;5;124m\\\u001b[39m\u001b[38;5;124mw+ must be\u001b[39m\u001b[38;5;124m\"\u001b[39m,\n\u001b[0;32m    221\u001b[0m         \u001b[38;5;124mf\u001b[39m\u001b[38;5;124m\"\u001b[39m\u001b[38;5;124mparameter of \u001b[39m\u001b[38;5;132;01m{\u001b[39;00mfunc\u001b[38;5;241m.\u001b[39m\u001b[38;5;18m__qualname__\u001b[39m\u001b[38;5;132;01m}\u001b[39;00m\u001b[38;5;124m must be\u001b[39m\u001b[38;5;124m\"\u001b[39m,\n\u001b[0;32m    222\u001b[0m         \u001b[38;5;28mstr\u001b[39m(e),\n\u001b[0;32m    223\u001b[0m     )\n",
      "File \u001b[1;32mc:\\Users\\user\\anaconda3\\envs\\project\\Lib\\site-packages\\sklearn\\metrics\\cluster\\_unsupervised.py:141\u001b[0m, in \u001b[0;36msilhouette_score\u001b[1;34m(X, labels, metric, sample_size, random_state, **kwds)\u001b[0m\n\u001b[0;32m    139\u001b[0m     \u001b[38;5;28;01melse\u001b[39;00m:\n\u001b[0;32m    140\u001b[0m         X, labels \u001b[38;5;241m=\u001b[39m X[indices], labels[indices]\n\u001b[1;32m--> 141\u001b[0m \u001b[38;5;28;01mreturn\u001b[39;00m np\u001b[38;5;241m.\u001b[39mmean(\u001b[43msilhouette_samples\u001b[49m\u001b[43m(\u001b[49m\u001b[43mX\u001b[49m\u001b[43m,\u001b[49m\u001b[43m \u001b[49m\u001b[43mlabels\u001b[49m\u001b[43m,\u001b[49m\u001b[43m \u001b[49m\u001b[43mmetric\u001b[49m\u001b[38;5;241;43m=\u001b[39;49m\u001b[43mmetric\u001b[49m\u001b[43m,\u001b[49m\u001b[43m \u001b[49m\u001b[38;5;241;43m*\u001b[39;49m\u001b[38;5;241;43m*\u001b[39;49m\u001b[43mkwds\u001b[49m\u001b[43m)\u001b[49m)\n",
      "File \u001b[1;32mc:\\Users\\user\\anaconda3\\envs\\project\\Lib\\site-packages\\sklearn\\utils\\_param_validation.py:186\u001b[0m, in \u001b[0;36mvalidate_params.<locals>.decorator.<locals>.wrapper\u001b[1;34m(*args, **kwargs)\u001b[0m\n\u001b[0;32m    184\u001b[0m global_skip_validation \u001b[38;5;241m=\u001b[39m get_config()[\u001b[38;5;124m\"\u001b[39m\u001b[38;5;124mskip_parameter_validation\u001b[39m\u001b[38;5;124m\"\u001b[39m]\n\u001b[0;32m    185\u001b[0m \u001b[38;5;28;01mif\u001b[39;00m global_skip_validation:\n\u001b[1;32m--> 186\u001b[0m     \u001b[38;5;28;01mreturn\u001b[39;00m \u001b[43mfunc\u001b[49m\u001b[43m(\u001b[49m\u001b[38;5;241;43m*\u001b[39;49m\u001b[43margs\u001b[49m\u001b[43m,\u001b[49m\u001b[43m \u001b[49m\u001b[38;5;241;43m*\u001b[39;49m\u001b[38;5;241;43m*\u001b[39;49m\u001b[43mkwargs\u001b[49m\u001b[43m)\u001b[49m\n\u001b[0;32m    188\u001b[0m func_sig \u001b[38;5;241m=\u001b[39m signature(func)\n\u001b[0;32m    190\u001b[0m \u001b[38;5;66;03m# Map *args/**kwargs to the function signature\u001b[39;00m\n",
      "File \u001b[1;32mc:\\Users\\user\\anaconda3\\envs\\project\\Lib\\site-packages\\sklearn\\metrics\\cluster\\_unsupervised.py:299\u001b[0m, in \u001b[0;36msilhouette_samples\u001b[1;34m(X, labels, metric, **kwds)\u001b[0m\n\u001b[0;32m    297\u001b[0m n_samples \u001b[38;5;241m=\u001b[39m \u001b[38;5;28mlen\u001b[39m(labels)\n\u001b[0;32m    298\u001b[0m label_freqs \u001b[38;5;241m=\u001b[39m np\u001b[38;5;241m.\u001b[39mbincount(labels)\n\u001b[1;32m--> 299\u001b[0m \u001b[43mcheck_number_of_labels\u001b[49m\u001b[43m(\u001b[49m\u001b[38;5;28;43mlen\u001b[39;49m\u001b[43m(\u001b[49m\u001b[43mle\u001b[49m\u001b[38;5;241;43m.\u001b[39;49m\u001b[43mclasses_\u001b[49m\u001b[43m)\u001b[49m\u001b[43m,\u001b[49m\u001b[43m \u001b[49m\u001b[43mn_samples\u001b[49m\u001b[43m)\u001b[49m\n\u001b[0;32m    301\u001b[0m kwds[\u001b[38;5;124m\"\u001b[39m\u001b[38;5;124mmetric\u001b[39m\u001b[38;5;124m\"\u001b[39m] \u001b[38;5;241m=\u001b[39m metric\n\u001b[0;32m    302\u001b[0m reduce_func \u001b[38;5;241m=\u001b[39m functools\u001b[38;5;241m.\u001b[39mpartial(\n\u001b[0;32m    303\u001b[0m     _silhouette_reduce, labels\u001b[38;5;241m=\u001b[39mlabels, label_freqs\u001b[38;5;241m=\u001b[39mlabel_freqs\n\u001b[0;32m    304\u001b[0m )\n",
      "File \u001b[1;32mc:\\Users\\user\\anaconda3\\envs\\project\\Lib\\site-packages\\sklearn\\metrics\\cluster\\_unsupervised.py:38\u001b[0m, in \u001b[0;36mcheck_number_of_labels\u001b[1;34m(n_labels, n_samples)\u001b[0m\n\u001b[0;32m     27\u001b[0m \u001b[38;5;250m\u001b[39m\u001b[38;5;124;03m\"\"\"Check that number of labels are valid.\u001b[39;00m\n\u001b[0;32m     28\u001b[0m \n\u001b[0;32m     29\u001b[0m \u001b[38;5;124;03mParameters\u001b[39;00m\n\u001b[1;32m   (...)\u001b[0m\n\u001b[0;32m     35\u001b[0m \u001b[38;5;124;03m    Number of samples.\u001b[39;00m\n\u001b[0;32m     36\u001b[0m \u001b[38;5;124;03m\"\"\"\u001b[39;00m\n\u001b[0;32m     37\u001b[0m \u001b[38;5;28;01mif\u001b[39;00m \u001b[38;5;129;01mnot\u001b[39;00m \u001b[38;5;241m1\u001b[39m \u001b[38;5;241m<\u001b[39m n_labels \u001b[38;5;241m<\u001b[39m n_samples:\n\u001b[1;32m---> 38\u001b[0m     \u001b[38;5;28;01mraise\u001b[39;00m \u001b[38;5;167;01mValueError\u001b[39;00m(\n\u001b[0;32m     39\u001b[0m         \u001b[38;5;124m\"\u001b[39m\u001b[38;5;124mNumber of labels is \u001b[39m\u001b[38;5;132;01m%d\u001b[39;00m\u001b[38;5;124m. Valid values are 2 to n_samples - 1 (inclusive)\u001b[39m\u001b[38;5;124m\"\u001b[39m\n\u001b[0;32m     40\u001b[0m         \u001b[38;5;241m%\u001b[39m n_labels\n\u001b[0;32m     41\u001b[0m     )\n",
      "\u001b[1;31mValueError\u001b[0m: Number of labels is 1. Valid values are 2 to n_samples - 1 (inclusive)"
     ]
    }
   ],
   "source": [
    "from sklearn.metrics import silhouette_score\n",
    "\n",
    "# 군집화 결과에 대한 실루엣 점수\n",
    "labels = sch.fcluster(Z, t=2, criterion='maxclust')  # 2개의 클러스터로 나누기\n",
    "score = silhouette_score(X, labels)\n",
    "print(f'Silhouette Score: {score}')"
   ]
  },
  {
   "cell_type": "code",
   "execution_count": 19,
   "metadata": {},
   "outputs": [],
   "source": [
    "labels = sch.fcluster(Z, t=3, criterion='maxclust')  # 클러스터 수를 3으로 변경"
   ]
  },
  {
   "cell_type": "code",
   "execution_count": 25,
   "metadata": {},
   "outputs": [
    {
     "ename": "ValueError",
     "evalue": "Dimensions of Z and labels must be consistent.",
     "output_type": "error",
     "traceback": [
      "\u001b[1;31m---------------------------------------------------------------------------\u001b[0m",
      "\u001b[1;31mValueError\u001b[0m                                Traceback (most recent call last)",
      "Cell \u001b[1;32mIn[25], line 21\u001b[0m\n\u001b[0;32m     19\u001b[0m \u001b[38;5;66;03m# 덴드로그램 시각화\u001b[39;00m\n\u001b[0;32m     20\u001b[0m plt\u001b[38;5;241m.\u001b[39mfigure(figsize\u001b[38;5;241m=\u001b[39m(\u001b[38;5;241m10\u001b[39m, \u001b[38;5;241m7\u001b[39m))\n\u001b[1;32m---> 21\u001b[0m \u001b[43mdendrogram\u001b[49m\u001b[43m(\u001b[49m\u001b[43mlinkage_matrix\u001b[49m\u001b[43m,\u001b[49m\u001b[43m \u001b[49m\u001b[43mlabels\u001b[49m\u001b[38;5;241;43m=\u001b[39;49m\u001b[43mdata\u001b[49m\u001b[43m[\u001b[49m\u001b[38;5;124;43m'\u001b[39;49m\u001b[38;5;124;43m판례내용_이유(불용어)\u001b[39;49m\u001b[38;5;124;43m'\u001b[39;49m\u001b[43m]\u001b[49m\u001b[38;5;241;43m.\u001b[39;49m\u001b[43mastype\u001b[49m\u001b[43m(\u001b[49m\u001b[38;5;28;43mstr\u001b[39;49m\u001b[43m)\u001b[49m\u001b[43m)\u001b[49m\n\u001b[0;32m     22\u001b[0m plt\u001b[38;5;241m.\u001b[39mtitle(\u001b[38;5;124m'\u001b[39m\u001b[38;5;124mDendrogram for Case Law Clustering\u001b[39m\u001b[38;5;124m'\u001b[39m)\n\u001b[0;32m     23\u001b[0m plt\u001b[38;5;241m.\u001b[39mxlabel(\u001b[38;5;124m'\u001b[39m\u001b[38;5;124mCase ID\u001b[39m\u001b[38;5;124m'\u001b[39m)\n",
      "File \u001b[1;32mc:\\Users\\user\\anaconda3\\envs\\project\\Lib\\site-packages\\scipy\\cluster\\hierarchy.py:3284\u001b[0m, in \u001b[0;36mdendrogram\u001b[1;34m(Z, p, truncate_mode, color_threshold, get_leaves, orientation, labels, count_sort, distance_sort, show_leaf_counts, no_plot, no_labels, leaf_font_size, leaf_rotation, leaf_label_func, show_contracted, link_color_func, ax, above_threshold_color)\u001b[0m\n\u001b[0;32m   3282\u001b[0m         len_labels \u001b[38;5;241m=\u001b[39m labels\u001b[38;5;241m.\u001b[39mshape[\u001b[38;5;241m0\u001b[39m]\n\u001b[0;32m   3283\u001b[0m     \u001b[38;5;28;01mif\u001b[39;00m Z\u001b[38;5;241m.\u001b[39mshape[\u001b[38;5;241m0\u001b[39m] \u001b[38;5;241m+\u001b[39m \u001b[38;5;241m1\u001b[39m \u001b[38;5;241m!=\u001b[39m len_labels:\n\u001b[1;32m-> 3284\u001b[0m         \u001b[38;5;28;01mraise\u001b[39;00m \u001b[38;5;167;01mValueError\u001b[39;00m(\u001b[38;5;124m\"\u001b[39m\u001b[38;5;124mDimensions of Z and labels must be consistent.\u001b[39m\u001b[38;5;124m\"\u001b[39m)\n\u001b[0;32m   3286\u001b[0m is_valid_linkage(Z, throw\u001b[38;5;241m=\u001b[39m\u001b[38;5;28;01mTrue\u001b[39;00m, name\u001b[38;5;241m=\u001b[39m\u001b[38;5;124m'\u001b[39m\u001b[38;5;124mZ\u001b[39m\u001b[38;5;124m'\u001b[39m)\n\u001b[0;32m   3287\u001b[0m Zs \u001b[38;5;241m=\u001b[39m Z\u001b[38;5;241m.\u001b[39mshape\n",
      "\u001b[1;31mValueError\u001b[0m: Dimensions of Z and labels must be consistent."
     ]
    },
    {
     "data": {
      "text/plain": [
       "<Figure size 1000x700 with 0 Axes>"
      ]
     },
     "metadata": {},
     "output_type": "display_data"
    }
   ],
   "source": [
    "import pandas as pd\n",
    "from sklearn.feature_extraction.text import TfidfVectorizer\n",
    "from scipy.cluster.hierarchy import dendrogram, linkage\n",
    "import matplotlib.pyplot as plt\n",
    "\n",
    "\n",
    "# NaN 값 처리 (빈 문자열로 대체 또는 제거)\n",
    "df_labor['판례내용_이유(불용어)'].fillna('', inplace=True)  # NaN을 빈 문자열로 대체\n",
    "# df.dropna(subset=['case_text'], inplace=True)  # NaN을 포함한 행 제거\n",
    "\n",
    "\n",
    "# TF-IDF 벡터화\n",
    "vectorizer = TfidfVectorizer()\n",
    "X = vectorizer.fit_transform(df_labor['판례내용_이유(불용어)'].iloc[:201])\n",
    "\n",
    "# 계층적 군집 분석\n",
    "linkage_matrix = linkage(X.toarray(), method='ward')\n",
    "\n",
    "# 덴드로그램 시각화\n",
    "plt.figure(figsize=(10, 7))\n",
    "dendrogram(linkage_matrix, labels=data['판례내용_이유(불용어)'].astype(str))\n",
    "plt.title('Dendrogram for Case Law Clustering')\n",
    "plt.xlabel('Case ID')\n",
    "plt.ylabel('Distance')\n",
    "plt.show()"
   ]
  },
  {
   "cell_type": "code",
   "execution_count": 12,
   "metadata": {},
   "outputs": [
    {
     "name": "stdout",
     "output_type": "stream",
     "text": [
      "   판례정보일련번호                         사건번호  선고 판결유형  \\\n",
      "0    241221                   2024두32973  선고   판결   \n",
      "1    241233  2024다211908, 211915, 211922  선고   판결   \n",
      "2    241219                  2020다287921  선고   판결   \n",
      "3    241051                  2021다274069  선고   판결   \n",
      "4    241027                  2023다217312  선고   판결   \n",
      "\n",
      "                                                판시사항  \\\n",
      "0   [1] 부당해고 등 구제절차에서 피신청인의 추가·변경이 허용되는지 여부(한정 적극...   \n",
      "1   [1] 파견근로자 보호 등에 관한 법률에 따라 직접고용의무가 발생하였으나 사용사업...   \n",
      "2   구 파견근로자 보호 등에 관한 법률에 따라 직접고용간주의 효과가 발생하였으나 사용...   \n",
      "3   [1] 원고용주가 근로자로 하여금 제3자를 위한 업무를 수행하도록 하는 경우, 파...   \n",
      "4   [1] 대학의 시간강사가 근로기준법 제18조 제3항에서 정한 ‘초단시간근로자’에 ...   \n",
      "\n",
      "                                                판결요지  \\\n",
      "0   [1] 부당해고 등 구제절차에서 최초 구제신청의 대상이 된 불이익처분을 다투는 범...   \n",
      "1   [1] 파견근로자 보호 등에 관한 법률에 따라 직접고용의무가 발생하였으나 사용사업...   \n",
      "2   구 파견근로자 보호 등에 관한 법률(2006. 12. 21. 법률 제8076호로 ...   \n",
      "3   [1] 원고용주가 어느 근로자로 하여금 제3자를 위한 업무를 수행하도록 하는 경우...   \n",
      "4   [1] 근로기준법 제18조는 1주 동안의 소정근로시간이 그 사업장에서 같은 종류의...   \n",
      "\n",
      "                                                참조조문  \\\n",
      "0   [1] 근로기준법 제28조, 제29조, 노동위원회법 제23조 / [2] 근로기준법...   \n",
      "1   [1] 파견근로자 보호 등에 관한 법률 제6조의2 제1항, 민법 제390조, 제3...   \n",
      "2  구 파견근로자 보호 등에 관한 법률(2006. 12. 21. 법률 제8076호로 개...   \n",
      "3   [1] 파견근로자 보호 등에 관한 법률 제2조 제1호 / [2] 파견근로자 보호 ...   \n",
      "4   [1] 근로기준법 제18조 / [2] 근로기준법 제18조, 구 고등교육법 시행령(...   \n",
      "\n",
      "                                                참조판례  \\\n",
      "0   [1] 대법원 1996. 8. 23. 선고 95누11238 판결(공1996하, 2...   \n",
      "1   [1] 대법원 2007. 11. 16. 선고 2005다3229 판결, 대법원 20...   \n",
      "2  대법원 2024. 3. 12. 선고 2019다223303, 223310 판결(공20...   \n",
      "3   [1][3] 대법원 2015. 11. 26. 선고 2013다14965 판결(공20...   \n",
      "4                                                NaN   \n",
      "\n",
      "                                                판례내용  \\\n",
      "0  【원고, 상고인】 주식회사 ○○ (소송대리인 변호사 김소영 외 5인)【피고, 피상고...   \n",
      "1  【원고, 피상고인】 원고 1 외 2인 (소송대리인 변호사 조창래)【피고, 상고인】 ...   \n",
      "2  【원고, 피상고인】 별지 원고들 명단 기재와 같다. (소송대리인 변호사 방광호)【피...   \n",
      "3  【원고, 피상고인】 원고 1 외 1인 (소송대리인 법무법인 금강 담당변호사 고규정 ...   \n",
      "4  【원고, 상고인】 원고 1 외 7인 (소송대리인 법무법인 창조 외 3인)【피고, 피...   \n",
      "\n",
      "                                             판례내용_상단  \\\n",
      "0  【원고, 상고인】 주식회사 ○○ (소송대리인 변호사 김소영 외 5인)【피고, 피상고...   \n",
      "1  【원고, 피상고인】 원고 1 외 2인 (소송대리인 변호사 조창래)【피고, 상고인】 ...   \n",
      "2  【원고, 피상고인】 별지 원고들 명단 기재와 같다. (소송대리인 변호사 방광호)【피...   \n",
      "3  【원고, 피상고인】 원고 1 외 1인 (소송대리인 법무법인 금강 담당변호사 고규정 ...   \n",
      "4  【원고, 상고인】 원고 1 외 7인 (소송대리인 법무법인 창조 외 3인)【피고, 피...   \n",
      "\n",
      "                                             판례내용_이유  \\\n",
      "0  【이    유】 상고이유(상고이유서 제출기간이 지난 후 제출된 상고이유보충서의 기재...   \n",
      "1  【이    유】  상고이유를 판단한다.  1. 제1 상고이유에 대하여   원심은 판...   \n",
      "2  【이    유】상고이유(상고이유서 제출기간이 지난 뒤에 제출된 상고이유보충서 등의 ...   \n",
      "3  【이    유】  상고이유(상고이유서 제출기간이 지난 뒤에 제출된 서면의 기재는 상...   \n",
      "4  【이    유】  1. 관련 법리  가. 근로기준법 제18조는 1주 동안의 소정근로...   \n",
      "\n",
      "                                        판례내용_이유(전처리)  \\\n",
      "0  {'이유': '상고이유(상고이유서 제출기간이 지난 후 제출된 상고이유보충서의 기재는...   \n",
      "1  {'이유': '상고이유를 판단한다. 1. 제1 상고이유에 대하여 원심은 판시와 같은...   \n",
      "2  {'이유': '상고이유(상고이유서 제출기간이 지난 뒤에 제출된 상고이유보충서 등의 ...   \n",
      "3  {'이유': '상고이유(상고이유서 제출기간이 지난 뒤에 제출된 서면의 기재는 상고이...   \n",
      "4  {'이유': '1. 관련 법리 가. 근로기준법 제18조는 1주 동안의 소정근로시간이...   \n",
      "\n",
      "                                        판례내용_제거(불용어)  \\\n",
      "0  주식회사 ○○ 김소영 피상 중앙 노동 위원장 법무 법인 지향 김진 법무 법인 서희원...   \n",
      "1  피상 조창 ○○○ 주식회사 김원정 부산 고법 창원 비용 부담 한다 한다 판시와 협력...   \n",
      "2  피상 명단 방광 ○○○ 주식회사 김원정 부산 고법 창원 비용 부담 한다 지난 보충 ...   \n",
      "3  피상 법무 법인 금강 ○○○ 주식회사 김원정 주식회사 △△△ 법무 법인 유한 태평양...   \n",
      "4  법무 법인 창조 피상 대한민국 법무 법인 유한 세종 김주안 고법 연차 휴가 수당 주...   \n",
      "\n",
      "                                        판례내용_이유(불용어)  \n",
      "0  지난 보충 보충 한다 제척기간 도과 부당해고 최초 신청 불이익 다투는 신청 허용 근...  \n",
      "1  한다 판시와 협력 업체 고용 △△ 공장 지휘 근로 제공 근로자 파견 근로자 파견 오...  \n",
      "2  지난 보충 보충 한다 근로자 파견 판시와 사내 물류 간접 생산 공정 협력 업체 고용...  \n",
      "3  지난 서면 보충 한다 고용주 근로자 자를 수행 법률관계 파견 근로자 보호 파견 한다...  \n",
      "4  근로기준법  근로시간 사업 종류 통상 근로자 근로시간 하여 짧은 근로자 단시간 근로...  \n",
      "Index(['판례정보일련번호', '사건번호', '선고', '판결유형', '판시사항', '판결요지', '참조조문', '참조판례',\n",
      "       '판례내용', '판례내용_상단', '판례내용_이유', '판례내용_이유(전처리)', '판례내용_제거(불용어)',\n",
      "       '판례내용_이유(불용어)'],\n",
      "      dtype='object')\n",
      "RangeIndex(start=0, stop=5016, step=1)\n"
     ]
    }
   ],
   "source": [
    "print(df.head())  # 데이터프레임의 처음 5행 출력\n",
    "print(df.columns)  # 데이터프레임의 열 이름 출력\n",
    "print(df.index)    # 데이터프레임의 인덱스 출력"
   ]
  },
  {
   "cell_type": "code",
   "execution_count": 13,
   "metadata": {},
   "outputs": [
    {
     "name": "stdout",
     "output_type": "stream",
     "text": [
      "Key -4297 does not exist in the DataFrame.\n"
     ]
    }
   ],
   "source": [
    "key_to_check = -4297\n",
    "if key_to_check in df.index:\n",
    "    # 키가 존재할 경우 실행할 코드\n",
    "    print(df.loc[key_to_check])\n",
    "else:\n",
    "    print(f\"Key {key_to_check} does not exist in the DataFrame.\")\n",
    "\n"
   ]
  }
 ],
 "metadata": {
  "kernelspec": {
   "display_name": "project",
   "language": "python",
   "name": "python3"
  },
  "language_info": {
   "codemirror_mode": {
    "name": "ipython",
    "version": 3
   },
   "file_extension": ".py",
   "mimetype": "text/x-python",
   "name": "python",
   "nbconvert_exporter": "python",
   "pygments_lexer": "ipython3",
   "version": "3.12.7"
  }
 },
 "nbformat": 4,
 "nbformat_minor": 2
}
