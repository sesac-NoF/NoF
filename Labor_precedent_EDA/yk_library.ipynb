{
 "cells": [
  {
   "cell_type": "code",
   "execution_count": null,
   "metadata": {
    "vscode": {
     "languageId": "plaintext"
    }
   },
   "outputs": [],
   "source": [
    "# 데이터 처리 라이브러리\n",
    "import pandas as pd\n",
    "import numpy as np\n"
   ]
  },
  {
   "cell_type": "code",
   "execution_count": null,
   "metadata": {
    "vscode": {
     "languageId": "plaintext"
    }
   },
   "outputs": [],
   "source": [
    "# 통계 관련 라이브러리\n",
    "from scipy import stats\n",
    "from statsmodels.api import OLS, add_constant\n",
    "import statsmodels.api as sm"
   ]
  },
  {
   "cell_type": "code",
   "execution_count": null,
   "metadata": {
    "vscode": {
     "languageId": "plaintext"
    }
   },
   "outputs": [],
   "source": [
    "# 데이터 처리 및 분석 라이브러리\n",
    "from pandas import read_csv, to_datetime\n",
    "from pandas import DataFrame\n",
    "\n",
    "# 정규 표현식을 사용한 텍스트 처리 라이브러리\n",
    "from re import findall\n",
    "\n",
    "# 시각화 라이브러리\n",
    "from matplotlib.pyplot import figure, plot, title, xlabel, ylabel, xticks, legend, grid, tight_layout, show\n"
   ]
  },
  {
   "cell_type": "markdown",
   "metadata": {},
   "source": [
    "pandas: 데이터프레임을 활용해 CSV 파일 읽기, 데이터 변환, 결측값 처리 등 다양한 데이터 처리를 수행하는 가장 대표적인 라이브러리입니다.\n",
    "\n",
    "numpy: 다차원 배열과 수치 연산을 위한 필수 라이브러리로, 행렬 연산과 같은 수치 데이터 처리를 지원합니다.\n",
    "\n",
    "matplotlib.pyplot & seaborn: 데이터 시각화를 위한 대표적인 라이브러리입니다. matplotlib는 다양한 플롯을 생성하는 기본적인 도구이며, seaborn은 이를 더 고급화한 스타일과 통계적 그래프를 쉽게 그릴 수 있도록 도와줍니다.\n",
    "\n",
    "scikit-learn: 머신러닝을 위한 필수 라이브러리로, 데이터 전처리(스케일링), 분류, 회귀, 군집화 등의 다양한 모델을 제공합니다. 주요 사용 모듈로는 train_test_split, StandardScaler, KMeans, RandomForestClassifier, LogisticRegression, SVC 등이 있습니다.\n",
    "\n",
    "tensorflow.keras: 딥러닝 모델을 구축하기 위한 가장 많이 사용되는 라이브러리입니다. Sequential, Dense, LSTM, Adam을 사용해 신경망 모델을 구성하고 최적화할 수 있습니다.\n",
    "\n",
    "scipy & statsmodels: 통계 분석 및 회귀 분석을 위한 라이브러리로, scipy.stats는 다양한 통계 검정, statsmodels는 회귀 모델과 시계열 분석에 많이 사용됩니다."
   ]
  },
  {
   "cell_type": "code",
   "execution_count": null,
   "metadata": {
    "vscode": {
     "languageId": "plaintext"
    }
   },
   "outputs": [],
   "source": [
    "# 데이터 처리 및 분석\n",
    "import pandas as pd\n",
    "import numpy as np\n",
    "\n",
    "# 데이터 시각화\n",
    "import matplotlib.pyplot as plt\n",
    "import seaborn as sns\n",
    "\n",
    "# 머신러닝 모델 및 데이터 전처리\n",
    "from sklearn.model_selection import train_test_split\n",
    "from sklearn.preprocessing import StandardScaler, MinMaxScaler\n",
    "from sklearn.metrics import accuracy_score, confusion_matrix, classification_report\n",
    "from sklearn.decomposition import PCA\n",
    "from sklearn.cluster import KMeans\n",
    "from sklearn.ensemble import RandomForestClassifier\n",
    "from sklearn.linear_model import LogisticRegression\n",
    "from sklearn.svm import SVC\n",
    "\n",
    "# 딥러닝 (TensorFlow/Keras)\n",
    "from tensorflow.keras.models import Sequential\n",
    "from tensorflow.keras.layers import Dense, LSTM, Dropout\n",
    "from tensorflow.keras.optimizers import Adam\n",
    "\n",
    "# 통계 분석 및 회귀\n",
    "from scipy import stats\n",
    "import statsmodels.api as sm\n"
   ]
  },
  {
   "cell_type": "code",
   "execution_count": null,
   "metadata": {
    "vscode": {
     "languageId": "plaintext"
    }
   },
   "outputs": [],
   "source": [
    "# 머신러닝을 위한 라이브러리\n",
    "from sklearn.model_selection import train_test_split\n",
    "from sklearn.feature_extraction.text import TfidfVectorizer\n",
    "from sklearn.decomposition import LatentDirichletAllocation\n",
    "from sklearn.cluster import KMeans\n",
    "from sklearn.metrics import accuracy_score, confusion_matrix, classification_report\n",
    "\n",
    "# 딥러닝을 위한 TensorFlow/Keras\n",
    "from tensorflow.keras.models import Sequential\n",
    "from tensorflow.keras.layers import Dense, LSTM, Embedding, Dropout\n",
    "from tensorflow.keras.optimizers import Adam\n",
    "from tensorflow.keras.preprocessing.text import Tokenizer\n",
    "from tensorflow.keras.preprocessing.sequence import pad_sequences\n"
   ]
  },
  {
   "cell_type": "code",
   "execution_count": null,
   "metadata": {
    "vscode": {
     "languageId": "plaintext"
    }
   },
   "outputs": [],
   "source": [
    "# 웹 크롤링을 위한 라이브러리\n",
    "import requests\n",
    "from bs4 import BeautifulSoup\n",
    "from selenium import webdriver\n",
    "from selenium.webdriver.common.keys import Keys\n",
    "from selenium.webdriver.chrome.service import Service\n",
    "\n",
    "# 데이터 수집을 위한 JSON 처리 및 API 요청\n",
    "import json\n",
    "from urllib.parse import urlencode\n",
    "from urllib.request import urlopen\n"
   ]
  },
  {
   "cell_type": "code",
   "execution_count": null,
   "metadata": {
    "vscode": {
     "languageId": "plaintext"
    }
   },
   "outputs": [],
   "source": [
    "# 자연어 처리(NLP) 라이브러리\n",
    "import nltk\n",
    "from nltk.corpus import stopwords\n",
    "from nltk.tokenize import word_tokenize, sent_tokenize\n",
    "from nltk.stem import PorterStemmer, WordNetLemmatizer\n",
    "from nltk import pos_tag, FreqDist\n",
    "\n",
    "# KoNLPy (한국어 자연어 처리)\n",
    "from konlpy.tag import Okt, Kkma, Komoran\n",
    "\n",
    "# scikit-learn을 활용한 텍스트 벡터화\n",
    "from sklearn.feature_extraction.text import CountVectorizer, TfidfVectorizer\n",
    "\n",
    "# Gensim - Word2Vec, Doc2Vec 모델\n",
    "from gensim.models import Word2Vec, Doc2Vec\n",
    "from gensim import corpora\n",
    "from gensim.models.ldamodel import LdaModel\n"
   ]
  },
  {
   "cell_type": "code",
   "execution_count": null,
   "metadata": {
    "vscode": {
     "languageId": "plaintext"
    }
   },
   "outputs": [],
   "source": [
    "import matplotlib.pyplot as plt\n",
    "from matplotlib import font_manager\n",
    "\n",
    "# 한글 폰트 설정 (예: 맑은 고딕)\n",
    "font_path = \"C:/Windows/Fonts/malgun.ttf\"  # Windows에서 사용 가능한 한글 폰트 경로\n",
    "font_manager.fontManager.addfont(font_path)\n",
    "plt.rc('font', family='Malgun Gothic')"
   ]
  },
  {
   "cell_type": "code",
   "execution_count": null,
   "metadata": {
    "vscode": {
     "languageId": "plaintext"
    }
   },
   "outputs": [],
   "source": [
    "import pandas as pd\n",
    "\n",
    "# 한글 깨짐 방지\n",
    "plt.rcParams['font.family'] = \"Malgun Gothic\"\n",
    "\n",
    "# 마이너스 깨짐 방지\n",
    "plt.rcParams['axes.unicode_minus'] = False"
   ]
  }
 ],
 "metadata": {
  "language_info": {
   "name": "python"
  }
 },
 "nbformat": 4,
 "nbformat_minor": 2
}
