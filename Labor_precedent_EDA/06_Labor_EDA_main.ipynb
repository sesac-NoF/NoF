{
 "cells": [
  {
   "cell_type": "markdown",
   "metadata": {},
   "source": [
    "# 1. 탐색적 데이터분석"
   ]
  },
  {
   "cell_type": "markdown",
   "metadata": {},
   "source": [
    "## 1.1 데이터 로드 및 기본 정보 확인"
   ]
  },
  {
   "cell_type": "markdown",
   "metadata": {},
   "source": [
    "데이터프레임을 로드하고 데이터의 크기, 열 이름, 데이터 타입, 결측치 등을 확인합니다"
   ]
  },
  {
   "cell_type": "code",
   "execution_count": 2,
   "metadata": {},
   "outputs": [],
   "source": [
    "# 데이터 처리 및 분석\n",
    "import pandas as pd\n",
    "import numpy as np\n",
    "\n",
    "# 데이터 시각화\n",
    "import matplotlib.pyplot as plt\n",
    "import seaborn as sns\n",
    "\n",
    "# 문자\n",
    "import re"
   ]
  },
  {
   "cell_type": "code",
   "execution_count": 3,
   "metadata": {},
   "outputs": [],
   "source": [
    "import pandas as pd\n",
    "\n",
    "# 한글 깨짐 방지\n",
    "plt.rcParams['font.family'] = \"Malgun Gothic\"\n",
    "\n",
    "# 마이너스 깨짐 방지\n",
    "plt.rcParams['axes.unicode_minus'] = False"
   ]
  },
  {
   "cell_type": "code",
   "execution_count": 25,
   "metadata": {},
   "outputs": [
    {
     "name": "stdout",
     "output_type": "stream",
     "text": [
      "<class 'pandas.core.frame.DataFrame'>\n",
      "RangeIndex: 22500 entries, 0 to 22499\n",
      "Data columns (total 19 columns):\n",
      " #   Column     Non-Null Count  Dtype \n",
      "---  ------     --------------  ----- \n",
      " 0   판례일련번호     22500 non-null  int64 \n",
      " 1   사건명        22497 non-null  object\n",
      " 2   사건번호       22500 non-null  object\n",
      " 3   선고일자       22500 non-null  object\n",
      " 4   법원명        22500 non-null  object\n",
      " 5   사건종류명      22499 non-null  object\n",
      " 6   판례상세링크     22500 non-null  object\n",
      " 7   선고         22500 non-null  object\n",
      " 8   판결유형       22500 non-null  object\n",
      " 9   판시사항       17175 non-null  object\n",
      " 10  판결요지       13095 non-null  object\n",
      " 11  참조조문       17150 non-null  object\n",
      " 12  참조판례       11685 non-null  object\n",
      " 13  판례내용       22500 non-null  object\n",
      " 14  판례내용_상단    22500 non-null  object\n",
      " 15  판례내용_이유    22493 non-null  object\n",
      " 16  재판당사자      22492 non-null  object\n",
      " 17  재판당사자_텍스트  22500 non-null  object\n",
      " 18  판례내용_이유2   22500 non-null  object\n",
      "dtypes: int64(1), object(18)\n",
      "memory usage: 3.3+ MB\n",
      "None\n"
     ]
    }
   ],
   "source": [
    "import pandas as pd\n",
    "\n",
    "df = pd.read_csv(r'C:\\Users\\user\\Desktop\\프로젝트 기획서\\SeSac-2024\\data_file\\Labor_datacombined.csv', encoding='utf-8')\n",
    "print(df.info())"
   ]
  },
  {
   "cell_type": "code",
   "execution_count": 26,
   "metadata": {},
   "outputs": [
    {
     "name": "stdout",
     "output_type": "stream",
     "text": [
      "      판례일련번호                    사건명         사건번호        선고일자       법원명 사건종류명  \\\n",
      "4     160470                  배당 이의   2010가합8730  2010.12.08    창원지방법원    민사   \n",
      "20    172768                교수지위확인등    2009나7244  2010.12.02    대구고등법원    민사   \n",
      "25    148198                부당이득금반환    2010나6204  2010.12.01    광주지방법원    민사   \n",
      "47    152335                손해배상(기)   2010나41159  2010.11.26    서울고등법원    민사   \n",
      "76    147678                  경업금지등  2010가합10588  2010.11.25  서울동부지방법원    민사   \n",
      "...      ...                    ...          ...         ...       ...   ...   \n",
      "9954   68338  배임수재·보조금의예산및관리에관한법률위반     2006도906  2006.11.23       대법원    형사   \n",
      "9959   84831              해고무효확인및임금   2006다48069  2006.11.23       대법원    민사   \n",
      "9989   78178                    구상금   2006나15832  2006.11.22    서울고등법원    민사   \n",
      "9993  139710            부가가치세부과처분취소    2006구합590  2006.11.22    서울행정법원    세무   \n",
      "9996   70601                부당이득금반환    2006나2217  2006.11.21    청주지방법원    민사   \n",
      "\n",
      "                                                 판례상세링크  선고     판결유형  \\\n",
      "4     /DRF/lawService.do?OC=ykdb0508&target=prec&ID=...  선고     일부판결   \n",
      "20    /DRF/lawService.do?OC=ykdb0508&target=prec&ID=...  선고       판결   \n",
      "25    /DRF/lawService.do?OC=ykdb0508&target=prec&ID=...  선고  판결 : 확정   \n",
      "47    /DRF/lawService.do?OC=ykdb0508&target=prec&ID=...  선고       판결   \n",
      "76    /DRF/lawService.do?OC=ykdb0508&target=prec&ID=...  선고  판결 : 확정   \n",
      "...                                                 ...  ..      ...   \n",
      "9954  /DRF/lawService.do?OC=ykdb0508&target=prec&ID=...  선고       판결   \n",
      "9959  /DRF/lawService.do?OC=ykdb0508&target=prec&ID=...  선고       판결   \n",
      "9989  /DRF/lawService.do?OC=ykdb0508&target=prec&ID=...  선고       판결   \n",
      "9993  /DRF/lawService.do?OC=ykdb0508&target=prec&ID=...  선고       판결   \n",
      "9996  /DRF/lawService.do?OC=ykdb0508&target=prec&ID=...  선고  판결 : 상고   \n",
      "\n",
      "                                                   판시사항  \\\n",
      "4                                                   NaN   \n",
      "20                                                  NaN   \n",
      "25    [1] 명예퇴직한 공무원이 국가공무원 명예퇴직수당 등 지급규정 시행 이전에 다시 재...   \n",
      "47                                                  NaN   \n",
      "76    전문수탁검사기관인 甲 연구소의 직원 乙이 경업금지약정을 하고 근무하다가 퇴사 후 경...   \n",
      "...                                                 ...   \n",
      "9954  [1] 배임수재죄에서 ‘임무’ 및 ‘부정한 청탁’의 의미   <br/>[2] 공사발...   \n",
      "9959  [1] 취업규칙 등에서 노·사 동수로 징계위원회를 구성하도록 하고 있는 경우, 사용...   \n",
      "9989                                                NaN   \n",
      "9993                                                NaN   \n",
      "9996  업무상 재해를 입은 근로자가 국민건강보험공단으로부터 \\r\\n          산업재...   \n",
      "\n",
      "                                                   판결요지  \\\n",
      "4                                                   NaN   \n",
      "20                                                  NaN   \n",
      "25    [1] 공무원의 명예퇴직수당제도는 정년 이전에 퇴직하는 공무원에게 정년 이전의 퇴직...   \n",
      "47                                                  NaN   \n",
      "76    전문수탁검사기관인 甲 연구소의 직원 乙이 경업금지약정을 하고 근무하다가 퇴사 후 경...   \n",
      "...                                                 ...   \n",
      "9954                                                NaN   \n",
      "9959  [1] 취업규칙 등에서 노·사 동수로 징계위원회를 구성하도록 하고 있다면 이는 근로...   \n",
      "9989                                                NaN   \n",
      "9993                                                NaN   \n",
      "9996  업무상 재해를 입은 근로자가 국민건강보험법상 보험자인 국민건강보험공단으로부터 \\r\\...   \n",
      "\n",
      "                                                   참조조문  \\\n",
      "4                                                   NaN   \n",
      "20                                                  NaN   \n",
      "25    [1]         교육공무원법 제36조,         국가공무원법 제74조의2...   \n",
      "47                                                  NaN   \n",
      "76     민법 제103조,         부정경쟁방지 및 영업비밀보호에 관한 법률 제2조 제2호   \n",
      "...                                                 ...   \n",
      "9954  [1]         형법 제357조 제1항 / [2]         형법 제357...   \n",
      "9959    [1]         근로기준법 제30조 / [2]         근로기준법 제30조   \n",
      "9989                                                NaN   \n",
      "9993                                                NaN   \n",
      "9996  산업재해보상보험법 제38조 제1항 제1호,         제2항,         제...   \n",
      "\n",
      "                                                   참조판례  \\\n",
      "4                                                   NaN   \n",
      "20                                                  NaN   \n",
      "25    [1]         대법원 2007. 11. 15. 선고 2005다24646 판결...   \n",
      "47                                                  NaN   \n",
      "76                                                  NaN   \n",
      "...                                                 ...   \n",
      "9954  [1]         대법원 1988. 12. 20. 선고 88도167 판결(공19...   \n",
      "9959  [1]         대법원 1991. 7. 9. 선고, 90다8077 판결(공19...   \n",
      "9989                                                NaN   \n",
      "9993                                                NaN   \n",
      "9996  대법원 2005. 4. 28. 선고 2004다12660 판결(공2005상, 801)...   \n",
      "\n",
      "                                                   판례내용  \\\n",
      "4     【원    고】 진해동부신용협동조합 (소송대리인 법무법인 미래로 담당변호사 김형석)...   \n",
      "20    【원고, 항소인】 【피고, 피항소인】 학교법인 계명대학교 (소송대리인 변호사 지홍원...   \n",
      "25    【원고, 항소인】 【피고, 피항소인】 전라남도 (소송대리인 법무법인 법가 담당변호사...   \n",
      "47    【원고, 항소인 겸 피항소인】 【원고, 피항소인】 【피고, 피항소인 겸 항소인】 주...   \n",
      "76    【원    고】 재단법인 네오딘의학연구소 (소송대리인 변호사 남희웅)【피    고】...   \n",
      "...                                                 ...   \n",
      "9954  【피 고 인】 피고인 1 외 2인        【상 고 인】 검사 및 피고인 1【변...   \n",
      "9959  【원고, 상고인】 【피고, 피상고인】 유한회사 철원콜택시 (소송대리인 변호사 박문우...   \n",
      "9989  【원고, 피항소인】 근로복지공단【피고, 항소인】 【제1심판결】 서울남부지방법원 20...   \n",
      "9993  【원    고】 파산자 대한종합금융 주식회사의 파산관재인 예금보험공사외 1인 (소송...   \n",
      "9996  【원고, 피항소인】 국민건강보험공단【피고, 항소인】 근로복지공단【제1심판결】 청주지...   \n",
      "\n",
      "                                                판례내용_상단  \\\n",
      "4     【원    고】 진해동부신용협동조합 (소송대리인 법무법인 미래로 담당변호사 김형석)...   \n",
      "20    【원고, 항소인】 【피고, 피항소인】 학교법인 계명대학교 (소송대리인 변호사 지홍원...   \n",
      "25    【원고, 항소인】 【피고, 피항소인】 전라남도 (소송대리인 법무법인 법가 담당변호사...   \n",
      "47    【원고, 항소인 겸 피항소인】 【원고, 피항소인】 【피고, 피항소인 겸 항소인】 주...   \n",
      "76    【원    고】 재단법인 네오딘의학연구소 (소송대리인 변호사 남희웅)【피    고】...   \n",
      "...                                                 ...   \n",
      "9954  【피 고 인】 피고인 1 외 2인        【상 고 인】 검사 및 피고인 1【변...   \n",
      "9959  【원고, 상고인】 【피고, 피상고인】 유한회사 철원콜택시 (소송대리인 변호사 박문우...   \n",
      "9989  【원고, 피항소인】 근로복지공단【피고, 항소인】 【제1심판결】 서울남부지방법원 20...   \n",
      "9993  【원    고】 파산자 대한종합금융 주식회사의 파산관재인 예금보험공사외 1인 (소송...   \n",
      "9996  【원고, 피항소인】 국민건강보험공단【피고, 항소인】 근로복지공단【제1심판결】 청주지...   \n",
      "\n",
      "                                                판례내용_이유  \\\n",
      "4     【이    유】1. 기초사실  아래 각 사실은 당사자 사이에 다툼이 없거나, 갑 제...   \n",
      "20    【이    유】   1. 기초사실  다음 사실은 당사자 사이에 다툼이 없거나 갑 제...   \n",
      "25    【이    유】  1. 기초 사실  가. 원고는 여수 남초등학교 교사로 재직하다가 ...   \n",
      "47                   【이    유】1. 기초사실  가. 당사자들의 지위원고 1,    \n",
      "76    【이    유】  1. 기초 사실  가. 원고는 환자의 혈액과 체액 성분을 측정하는...   \n",
      "...                                                 ...   \n",
      "9954  【이    유】1. 피고인 1의 상고이유에 대한 판단      형법 제357조 제1...   \n",
      "9959  【이    유】1. 징계절차에 관한 상고이유에 대하여  가. 원심의 판단  원심은,...   \n",
      "9989  【이    유】 1. 기초사실   다음 사실은 당사자들 사이에 다툼이 없거나, 갑 ...   \n",
      "9993  【이    유】1. 처분의 경위  가. 대한종합금융 주식회사(이하 ‘대한종금’이라 ...   \n",
      "9996  【이    유】  1. 인정 사실  가. 이 사건 각 사고의 발생 및 원고의 치료비...   \n",
      "\n",
      "                                                  재판당사자  \\\n",
      "4     【원    고】 진해동부신용협동조합 (소송대리인 법무법인 미래로 담당변호사 김형석)...   \n",
      "20    【원고, 항소인】 【피고, 피항소인】 학교법인 계명대학교 (소송대리인 변호사 지홍원...   \n",
      "25    【원고, 항소인】 【피고, 피항소인】 전라남도 (소송대리인 법무법인 법가 담당변호사...   \n",
      "47    【원고, 항소인 겸 피항소인】 【원고, 피항소인】 【피고, 피항소인 겸 항소인】 주...   \n",
      "76    【원    고】 재단법인 네오딘의학연구소 (소송대리인 변호사 남희웅)【피    고】...   \n",
      "...                                                 ...   \n",
      "9954  【피 고 인】 피고인 1 외 2인        【상 고 인】 검사 및 피고인 1【변...   \n",
      "9959  【원고, 상고인】 【피고, 피상고인】 유한회사 철원콜택시 (소송대리인 변호사 박문우...   \n",
      "9989  【원고, 피항소인】 근로복지공단【피고, 항소인】 【제1심판결】 서울남부지방법원 20...   \n",
      "9993  【원    고】 파산자 대한종합금융 주식회사의 파산관재인 예금보험공사외 1인 (소송...   \n",
      "9996  【원고, 피항소인】 국민건강보험공단【피고, 항소인】 근로복지공단【제1심판결】 청주지...   \n",
      "\n",
      "                                              재판당사자_텍스트  \\\n",
      "4                                  ['원고', '피고', '변론종결']   \n",
      "20               ['원고,항소인', '피고,피항소인', '제1심판결', '변론종결']   \n",
      "25               ['원고,항소인', '피고,피항소인', '제1심판결', '변론종결']   \n",
      "47    ['원고,항소인겸피항소인', '원고,피항소인', '피고,피항소인겸항소인', '제1심...   \n",
      "76                                 ['원고', '피고', '변론종결']   \n",
      "...                                                 ...   \n",
      "9954                      ['피고인', '상고인', '변호인', '원심판결']   \n",
      "9959                      ['원고,상고인', '피고,피상고인', '원심판결']   \n",
      "9989             ['원고,피항소인', '피고,항소인', '제1심판결', '변론종결']   \n",
      "9993                               ['원고', '피고', '변론종결']   \n",
      "9996             ['원고,피항소인', '피고,항소인', '제1심판결', '변론종결']   \n",
      "\n",
      "                                               판례내용_이유2  \n",
      "4     {'이유': '1. 기초사실 아래 각 사실은 당사자 사이에 다툼이 없거나, 갑 제1...  \n",
      "20    {'이유': '1. 기초사실 다음 사실은 당사자 사이에 다툼이 없거나 갑 제1 내지...  \n",
      "25    {'이유': '1. 기초 사실 가. 원고는 여수 남초등학교 교사로 재직하다가 199...  \n",
      "47                   {'이유': '1. 기초사실 가. 당사자들의 지위원고 1,'}  \n",
      "76    {'이유': '1. 기초 사실 가. 원고는 환자의 혈액과 체액 성분을 측정하는 등의...  \n",
      "...                                                 ...  \n",
      "9954  {'이유': '1. 피고인 1의 상고이유에 대한 판단 형법 제357조 제1항의 배임...  \n",
      "9959  {'이유': '1. 징계절차에 관한 상고이유에 대하여 가. 원심의 판단 원심은, 징...  \n",
      "9989  {'이유': '1. 기초사실 다음 사실은 당사자들 사이에 다툼이 없거나, 갑 제1 ...  \n",
      "9993  {'이유': '1. 처분의 경위 가. 대한종합금융 주식회사(이하 ‘대한종금’이라 한...  \n",
      "9996  {'이유': '1. 인정 사실 가. 이 사건 각 사고의 발생 및 원고의 치료비 부담...  \n",
      "\n",
      "[867 rows x 19 columns]\n"
     ]
    },
    {
     "name": "stderr",
     "output_type": "stream",
     "text": [
      "C:\\Users\\user\\AppData\\Local\\Temp\\ipykernel_13392\\1080273292.py:9: UserWarning: Boolean Series key will be reindexed to match DataFrame index.\n",
      "  df_labor = df.iloc[:10000][df['사건명'].str.contains('근로', na=False) | df['판례내용'].str.contains('근로', na=False)]\n"
     ]
    }
   ],
   "source": [
    "# '근로' 만 추출 , 전체 데이터 중 5000개만 사용\n",
    "\n",
    "import pandas as pd\n",
    "\n",
    "# 예시로 df 데이터프레임을 생성합니다. 실제로는 이미 존재하는 df를 사용하세요.\n",
    "# df = pd.read_csv('your_file.csv')\n",
    "\n",
    "# '근로' 단어가 포함된 행 필터링\n",
    "df_labor = df.iloc[:10000][df['사건명'].str.contains('근로', na=False) | df['판례내용'].str.contains('근로', na=False)]\n",
    "\n",
    "# 결과 확인\n",
    "print(df_labor)"
   ]
  },
  {
   "cell_type": "code",
   "execution_count": 27,
   "metadata": {},
   "outputs": [
    {
     "data": {
      "text/html": [
       "<div>\n",
       "<style scoped>\n",
       "    .dataframe tbody tr th:only-of-type {\n",
       "        vertical-align: middle;\n",
       "    }\n",
       "\n",
       "    .dataframe tbody tr th {\n",
       "        vertical-align: top;\n",
       "    }\n",
       "\n",
       "    .dataframe thead th {\n",
       "        text-align: right;\n",
       "    }\n",
       "</style>\n",
       "<table border=\"1\" class=\"dataframe\">\n",
       "  <thead>\n",
       "    <tr style=\"text-align: right;\">\n",
       "      <th></th>\n",
       "      <th>판례내용</th>\n",
       "      <th>판례내용_상단</th>\n",
       "      <th>판례내용_이유</th>\n",
       "    </tr>\n",
       "  </thead>\n",
       "  <tbody>\n",
       "    <tr>\n",
       "      <th>4</th>\n",
       "      <td>【원    고】 진해동부신용협동조합 (소송대리인 법무법인 미래로 담당변호사 김형석)...</td>\n",
       "      <td>【원    고】 진해동부신용협동조합 (소송대리인 법무법인 미래로 담당변호사 김형석)...</td>\n",
       "      <td>【이    유】1. 기초사실  아래 각 사실은 당사자 사이에 다툼이 없거나, 갑 제...</td>\n",
       "    </tr>\n",
       "    <tr>\n",
       "      <th>20</th>\n",
       "      <td>【원고, 항소인】 【피고, 피항소인】 학교법인 계명대학교 (소송대리인 변호사 지홍원...</td>\n",
       "      <td>【원고, 항소인】 【피고, 피항소인】 학교법인 계명대학교 (소송대리인 변호사 지홍원...</td>\n",
       "      <td>【이    유】   1. 기초사실  다음 사실은 당사자 사이에 다툼이 없거나 갑 제...</td>\n",
       "    </tr>\n",
       "    <tr>\n",
       "      <th>25</th>\n",
       "      <td>【원고, 항소인】 【피고, 피항소인】 전라남도 (소송대리인 법무법인 법가 담당변호사...</td>\n",
       "      <td>【원고, 항소인】 【피고, 피항소인】 전라남도 (소송대리인 법무법인 법가 담당변호사...</td>\n",
       "      <td>【이    유】  1. 기초 사실  가. 원고는 여수 남초등학교 교사로 재직하다가 ...</td>\n",
       "    </tr>\n",
       "    <tr>\n",
       "      <th>47</th>\n",
       "      <td>【원고, 항소인 겸 피항소인】 【원고, 피항소인】 【피고, 피항소인 겸 항소인】 주...</td>\n",
       "      <td>【원고, 항소인 겸 피항소인】 【원고, 피항소인】 【피고, 피항소인 겸 항소인】 주...</td>\n",
       "      <td>【이    유】1. 기초사실  가. 당사자들의 지위원고 1,</td>\n",
       "    </tr>\n",
       "    <tr>\n",
       "      <th>76</th>\n",
       "      <td>【원    고】 재단법인 네오딘의학연구소 (소송대리인 변호사 남희웅)【피    고】...</td>\n",
       "      <td>【원    고】 재단법인 네오딘의학연구소 (소송대리인 변호사 남희웅)【피    고】...</td>\n",
       "      <td>【이    유】  1. 기초 사실  가. 원고는 환자의 혈액과 체액 성분을 측정하는...</td>\n",
       "    </tr>\n",
       "    <tr>\n",
       "      <th>125</th>\n",
       "      <td>【피 고 인】 【검    사】 김우【변 호 인】 변호사 육대웅【주    문】  피고...</td>\n",
       "      <td>【피 고 인】 【검    사】 김우【변 호 인】 변호사 육대웅【주    문】  피고...</td>\n",
       "      <td>【이    유】  1. 공소사실의 요지  피고인들은 각 기아자동차</td>\n",
       "    </tr>\n",
       "    <tr>\n",
       "      <th>157</th>\n",
       "      <td>【피 고 인】 【상 고 인】 【변 호 인】 법무법인 국제 담당변호사 하만영【원심판결...</td>\n",
       "      <td>【피 고 인】 【상 고 인】 【변 호 인】 법무법인 국제 담당변호사 하만영【원심판결...</td>\n",
       "      <td>【이    유】  각 상고이유를 판단한다.  1. 검사의 상고이유에 대한 판단구 산...</td>\n",
       "    </tr>\n",
       "    <tr>\n",
       "      <th>167</th>\n",
       "      <td>【피 고 인】 【상 고 인】 피고인들 및 검사【변 호 인】 법무법인 한울 담당변호사...</td>\n",
       "      <td>【피 고 인】 【상 고 인】 피고인들 및 검사【변 호 인】 법무법인 한울 담당변호사...</td>\n",
       "      <td>【이    유】  상고이유를 판단한다.  1. 변호인의 상고이유에 대하여(각 부당노...</td>\n",
       "    </tr>\n",
       "    <tr>\n",
       "      <th>200</th>\n",
       "      <td>【원    고】 【피    고】 평화산업 주식회사 외 1인 (소송대리인 변호사 나태...</td>\n",
       "      <td>【원    고】 【피    고】 평화산업 주식회사 외 1인 (소송대리인 변호사 나태...</td>\n",
       "      <td>【이    유】   1. 인정사실 가. 피고 평화산업 주식회사(이하 ‘피고 평화산업...</td>\n",
       "    </tr>\n",
       "    <tr>\n",
       "      <th>208</th>\n",
       "      <td>【원고, 항소인】 【피고, 피항소인】 삼화전자공업 주식회사 (소송대리인 변호사 문태...</td>\n",
       "      <td>【원고, 항소인】 【피고, 피항소인】 삼화전자공업 주식회사 (소송대리인 변호사 문태...</td>\n",
       "      <td>【이    유】1. 기초사실   아래 사실은 당사자 사이에 다툼이 없거나, 갑 제1...</td>\n",
       "    </tr>\n",
       "  </tbody>\n",
       "</table>\n",
       "</div>"
      ],
      "text/plain": [
       "                                                  판례내용  \\\n",
       "4    【원    고】 진해동부신용협동조합 (소송대리인 법무법인 미래로 담당변호사 김형석)...   \n",
       "20   【원고, 항소인】 【피고, 피항소인】 학교법인 계명대학교 (소송대리인 변호사 지홍원...   \n",
       "25   【원고, 항소인】 【피고, 피항소인】 전라남도 (소송대리인 법무법인 법가 담당변호사...   \n",
       "47   【원고, 항소인 겸 피항소인】 【원고, 피항소인】 【피고, 피항소인 겸 항소인】 주...   \n",
       "76   【원    고】 재단법인 네오딘의학연구소 (소송대리인 변호사 남희웅)【피    고】...   \n",
       "125  【피 고 인】 【검    사】 김우【변 호 인】 변호사 육대웅【주    문】  피고...   \n",
       "157  【피 고 인】 【상 고 인】 【변 호 인】 법무법인 국제 담당변호사 하만영【원심판결...   \n",
       "167  【피 고 인】 【상 고 인】 피고인들 및 검사【변 호 인】 법무법인 한울 담당변호사...   \n",
       "200  【원    고】 【피    고】 평화산업 주식회사 외 1인 (소송대리인 변호사 나태...   \n",
       "208  【원고, 항소인】 【피고, 피항소인】 삼화전자공업 주식회사 (소송대리인 변호사 문태...   \n",
       "\n",
       "                                               판례내용_상단  \\\n",
       "4    【원    고】 진해동부신용협동조합 (소송대리인 법무법인 미래로 담당변호사 김형석)...   \n",
       "20   【원고, 항소인】 【피고, 피항소인】 학교법인 계명대학교 (소송대리인 변호사 지홍원...   \n",
       "25   【원고, 항소인】 【피고, 피항소인】 전라남도 (소송대리인 법무법인 법가 담당변호사...   \n",
       "47   【원고, 항소인 겸 피항소인】 【원고, 피항소인】 【피고, 피항소인 겸 항소인】 주...   \n",
       "76   【원    고】 재단법인 네오딘의학연구소 (소송대리인 변호사 남희웅)【피    고】...   \n",
       "125  【피 고 인】 【검    사】 김우【변 호 인】 변호사 육대웅【주    문】  피고...   \n",
       "157  【피 고 인】 【상 고 인】 【변 호 인】 법무법인 국제 담당변호사 하만영【원심판결...   \n",
       "167  【피 고 인】 【상 고 인】 피고인들 및 검사【변 호 인】 법무법인 한울 담당변호사...   \n",
       "200  【원    고】 【피    고】 평화산업 주식회사 외 1인 (소송대리인 변호사 나태...   \n",
       "208  【원고, 항소인】 【피고, 피항소인】 삼화전자공업 주식회사 (소송대리인 변호사 문태...   \n",
       "\n",
       "                                               판례내용_이유  \n",
       "4    【이    유】1. 기초사실  아래 각 사실은 당사자 사이에 다툼이 없거나, 갑 제...  \n",
       "20   【이    유】   1. 기초사실  다음 사실은 당사자 사이에 다툼이 없거나 갑 제...  \n",
       "25   【이    유】  1. 기초 사실  가. 원고는 여수 남초등학교 교사로 재직하다가 ...  \n",
       "47                  【이    유】1. 기초사실  가. 당사자들의 지위원고 1,   \n",
       "76   【이    유】  1. 기초 사실  가. 원고는 환자의 혈액과 체액 성분을 측정하는...  \n",
       "125              【이    유】  1. 공소사실의 요지  피고인들은 각 기아자동차   \n",
       "157  【이    유】  각 상고이유를 판단한다.  1. 검사의 상고이유에 대한 판단구 산...  \n",
       "167  【이    유】  상고이유를 판단한다.  1. 변호인의 상고이유에 대하여(각 부당노...  \n",
       "200  【이    유】   1. 인정사실 가. 피고 평화산업 주식회사(이하 ‘피고 평화산업...  \n",
       "208  【이    유】1. 기초사실   아래 사실은 당사자 사이에 다툼이 없거나, 갑 제1...  "
      ]
     },
     "execution_count": 27,
     "metadata": {},
     "output_type": "execute_result"
    }
   ],
   "source": [
    "df_labor[['판례내용','판례내용_상단','판례내용_이유']].head(10)"
   ]
  },
  {
   "cell_type": "markdown",
   "metadata": {},
   "source": [
    "전처리_불용어제거"
   ]
  },
  {
   "cell_type": "code",
   "execution_count": 31,
   "metadata": {},
   "outputs": [
    {
     "name": "stdout",
     "output_type": "stream",
     "text": [
      "<class 'pandas.core.frame.DataFrame'>\n",
      "Index: 867 entries, 4 to 9996\n",
      "Data columns (total 19 columns):\n",
      " #   Column     Non-Null Count  Dtype \n",
      "---  ------     --------------  ----- \n",
      " 0   판례일련번호     867 non-null    int64 \n",
      " 1   사건명        867 non-null    object\n",
      " 2   사건번호       867 non-null    object\n",
      " 3   선고일자       867 non-null    object\n",
      " 4   법원명        867 non-null    object\n",
      " 5   사건종류명      867 non-null    object\n",
      " 6   판례상세링크     867 non-null    object\n",
      " 7   선고         867 non-null    object\n",
      " 8   판결유형       867 non-null    object\n",
      " 9   판시사항       527 non-null    object\n",
      " 10  판결요지       308 non-null    object\n",
      " 11  참조조문       527 non-null    object\n",
      " 12  참조판례       335 non-null    object\n",
      " 13  판례내용       867 non-null    object\n",
      " 14  판례내용_상단    867 non-null    object\n",
      " 15  판례내용_이유    867 non-null    object\n",
      " 16  재판당사자      867 non-null    object\n",
      " 17  재판당사자_텍스트  867 non-null    object\n",
      " 18  판례내용_이유2   867 non-null    object\n",
      "dtypes: int64(1), object(18)\n",
      "memory usage: 135.5+ KB\n"
     ]
    }
   ],
   "source": [
    "df_labor.info()"
   ]
  },
  {
   "cell_type": "code",
   "execution_count": 29,
   "metadata": {},
   "outputs": [],
   "source": [
    "import pandas as pd\n",
    "from nltk.corpus import stopwords\n",
    "from konlpy.tag import Okt"
   ]
  },
  {
   "cell_type": "code",
   "execution_count": 59,
   "metadata": {},
   "outputs": [
    {
     "name": "stdout",
     "output_type": "stream",
     "text": [
      "4      유1 기초사실 아래 사실은 당사자 사이에 다툼이 없거나 제1 4호증 을가 제1 3호...\n",
      "20     기초사실 사실은 당사자 사이에 다툼이 없거나 제1 4호증 제5호증의 제8 10호증 ...\n",
      "25     기초 원고는 여수 남초등학교 교사로 재직하다가 명예퇴직을 피고로부터 명예퇴직 수당으...\n",
      "47                                    유1 기초사실 당사자들의 지위원고\n",
      "76     기초 원고는 환자의 혈액과 체액 성분을 측정하는 등의 검체검사를 장비와 인력을 갖추...\n",
      "125                                 공소사실의 요지 피고인들은 기아자동차\n",
      "157    상고이유를 판단한다 검사의 상고이유에 대한 판단구 산업안전보건법이하 법이라고 한다은...\n",
      "167    상고이유를 판단한다 변호인의 상고이유에 대하여각 부당노동행위를 이유로 노동조합 노동...\n",
      "200    인정사실 피고 평화산업 주식회사이하 피고 평화산업이라고 한다는 자동차 장비시설용 부...\n",
      "208    유1 기초사실 아래 사실은 당사자 사이에 다툼이 없거나 제1 8호증 제1호증의 기재...\n",
      "Name: 판례내용_정제, dtype: object\n"
     ]
    }
   ],
   "source": [
    "import pandas as pd\n",
    "import re  # 정규 표현식 모듈\n",
    "\n",
    "# 불용어 파일 로드\n",
    "stopwords_file_path = r'C:\\Users\\user\\Desktop\\프로젝트 기획서\\SeSac-2024\\data_file\\sorted_words.txt'\n",
    "stopwords_pick = ['제','등','것','항','의','금','거나']\n",
    "\n",
    "with open(stopwords_file_path, 'r', encoding='utf-8') as f:\n",
    "    stopwords = set(f.read().splitlines())\n",
    "\n",
    "# 불용어 및 숫자, 한 글자 단어, 기호 제거 함수 정의\n",
    "def clean_text(text):\n",
    "    # 기호 제거\n",
    "    text = re.sub(r'[^\\w\\s가-힣]', '', text)  # 한글과 영문, 공백 제외한 모든 기호 제거\n",
    "    words = text.split()  # 공백 기준으로 단어 분리\n",
    "    \n",
    "    # 불용어, 숫자, 한 글자 단어 제거\n",
    "    filtered_words = [word for word in words if len(word) > 1 and word not in stopwords and not word.isdigit() and  word not in stopwords_pick]\n",
    "    \n",
    "    return ' '.join(filtered_words)  # 다시 문자열로 결합\n",
    "\n",
    "# 판례내용 열에 정제 함수 적용\n",
    "df_labor['판례내용_정제'] = df_labor['판례내용_이유'].apply(clean_text)\n",
    "\n",
    "# 결과 확인\n",
    "print(df_labor['판례내용_정제'].head(10))\n"
   ]
  },
  {
   "cell_type": "code",
   "execution_count": 52,
   "metadata": {},
   "outputs": [],
   "source": [
    "import pandas as pd\n",
    "from collections import Counter\n",
    "from konlpy.tag import Okt\n",
    "from sklearn.feature_extraction.text import CountVectorizer"
   ]
  },
  {
   "cell_type": "code",
   "execution_count": 60,
   "metadata": {},
   "outputs": [
    {
     "name": "stdout",
     "output_type": "stream",
     "text": [
      "[('제', 7279), ('피고인', 6109), ('원고', 4342), ('소외', 4181), ('것', 4071), ('등', 3197), ('사건', 3061), ('피고', 2816), ('대한', 2094), ('사실', 1955), ('이유', 1879), ('회사', 1750), ('인정', 1704), ('행위', 1666), ('지급', 1650), ('규정', 1533), ('경우', 1513), ('항', 1500), ('사업', 1478), ('의', 1438), ('임용', 1428), ('주식회사', 1376), ('주장', 1349), ('판단', 1337), ('업무', 1326), ('근로자', 1233), ('판결', 1209), ('기재', 1138), ('재', 1107), ('호증', 1101), ('결정', 1051), ('기간', 961), ('계약', 950), ('내용', 923), ('법', 896), ('경', 895), ('해당', 868), ('부분', 863), ('법률', 839), ('함', 795), ('은', 772), ('원심', 769), ('보험', 749), ('근로', 744), ('위반', 737), ('바', 733), ('처분', 732), ('액', 716), ('위', 707), ('선고', 705), ('금액', 694), ('사이', 683), ('임금', 669), ('청구', 668), ('상고', 665), ('원', 653), ('점', 647), ('관계', 623), ('사정', 619), ('발생', 618), ('취지', 615), ('호', 610), ('자', 607), ('절차', 605), ('위원회', 602), ('이하', 599), ('자동차', 585), ('거래', 572), ('거부', 562), ('증거', 559), ('로서', 558), ('퇴직', 548), ('의무', 547), ('변경', 541), ('카지노', 539), ('관련', 537), ('이', 530), ('로부터', 524), ('여부', 523), ('범죄', 523), ('사유', 515), ('당시', 514), ('종합', 512), ('관리', 509), ('노조', 504), ('개정', 502), ('목적', 501), ('정', 496), ('운영', 494), ('부터', 493), ('방법', 487), ('대법원', 480), ('직원', 477), ('자금', 475), ('영업', 474), ('사용', 473), ('교원', 471), ('책임', 469), ('금', 467), ('거나', 465)]\n"
     ]
    }
   ],
   "source": [
    "# Okt 객체 생성\n",
    "okt = Okt()\n",
    "\n",
    "# 명사 추출을 위한 리스트 초기화\n",
    "nouns = []\n",
    "\n",
    "# 판례내용_정제 열의 각 문서에 대해 명사 추출\n",
    "for doc in df_labor['판례내용_정제']:  # df_labor() 대신 df_labor['판례내용_정제'] 사용\n",
    "    nouns.extend(okt.nouns(doc))\n",
    "\n",
    "# 명사 빈도 계산\n",
    "word_freq = Counter(nouns)\n",
    "most_common_words = word_freq.most_common(100)\n",
    "\n",
    "# 가장 많이 사용되는 명사 출력\n",
    "print(most_common_words)\n"
   ]
  },
  {
   "cell_type": "code",
   "execution_count": 70,
   "metadata": {},
   "outputs": [
    {
     "ename": "ModuleNotFoundError",
     "evalue": "No module named 'wordcloud'",
     "output_type": "error",
     "traceback": [
      "\u001b[1;31m---------------------------------------------------------------------------\u001b[0m",
      "\u001b[1;31mModuleNotFoundError\u001b[0m                       Traceback (most recent call last)",
      "Cell \u001b[1;32mIn[70], line 1\u001b[0m\n\u001b[1;32m----> 1\u001b[0m \u001b[38;5;28;01mfrom\u001b[39;00m \u001b[38;5;21;01mwordcloud\u001b[39;00m \u001b[38;5;28;01mimport\u001b[39;00m WordCloud\n\u001b[0;32m      2\u001b[0m \u001b[38;5;28;01mimport\u001b[39;00m \u001b[38;5;21;01mmatplotlib\u001b[39;00m\u001b[38;5;21;01m.\u001b[39;00m\u001b[38;5;21;01mpyplot\u001b[39;00m \u001b[38;5;28;01mas\u001b[39;00m \u001b[38;5;21;01mplt\u001b[39;00m\n\u001b[0;32m      3\u001b[0m \u001b[38;5;28;01mfrom\u001b[39;00m \u001b[38;5;21;01mcollections\u001b[39;00m \u001b[38;5;28;01mimport\u001b[39;00m Counter\n",
      "\u001b[1;31mModuleNotFoundError\u001b[0m: No module named 'wordcloud'"
     ]
    }
   ],
   "source": [
    "from wordcloud import WordCloud\n",
    "import matplotlib.pyplot as plt\n",
    "from collections import Counter\n",
    "\n",
    "# 한글 폰트 경로 지정 (NanumGothic 폰트를 사용한 경우)\n",
    "font_path = 'C:/Users/user/Downloads/NanumGothic.ttf'  # 폰트 파일 경로 수정\n",
    "\n",
    "# 워드 클라우드 생성\n",
    "wordcloud = WordCloud(font_path=font_path,  # 한글 폰트 경로 설정\n",
    "                      width=800, height=400, background_color='white').generate_from_frequencies(word_freq_dict)\n",
    "\n",
    "# 시각화\n",
    "plt.figure(figsize=(10, 5))\n",
    "plt.imshow(wordcloud, interpolation='bilinear')\n",
    "plt.axis('off')  # 축 숨기기\n",
    "plt.show()"
   ]
  },
  {
   "cell_type": "markdown",
   "metadata": {},
   "source": [
    "## 1.2 클래스분포 분석"
   ]
  },
  {
   "cell_type": "markdown",
   "metadata": {},
   "source": [
    "타겟 변수(예: 판례의 결과 등)의 클래스 분포를 시각화"
   ]
  },
  {
   "cell_type": "code",
   "execution_count": null,
   "metadata": {},
   "outputs": [],
   "source": [
    "import seaborn as sns\n",
    "import matplotlib.pyplot as plt\n",
    "\n",
    "top_n = df_labor['판례내용_정제'].value_counts().nlargest(10)\n",
    "\n",
    "# countplot을 사용하여 시각화\n",
    "plt.figure(figsize=(10, 6))\n",
    "sns.countplot(data=df_labor, y='판례내용_정제', order=top_n.index)  # y축으로 사용\n",
    "plt.title('Top 10 판례내용 빈도수 분포')\n",
    "plt.xlabel('빈도수')\n",
    "plt.ylabel('판례내용')\n",
    "plt.show()"
   ]
  },
  {
   "cell_type": "markdown",
   "metadata": {},
   "source": [
    "텍스트 데이터의 경우, 클래스를 정의하고 해당 클래스의 분포를 시각화하는 것이 중요합니다. 텍스트 데이터에서 특정 주제나 카테고리에 대한 분포를 분석합니다."
   ]
  },
  {
   "cell_type": "code",
   "execution_count": null,
   "metadata": {},
   "outputs": [],
   "source": [
    "sns.countplot(data=df, x='target_variable')\n",
    "plt.title('Class Distribution')\n",
    "plt.show()\n"
   ]
  },
  {
   "cell_type": "markdown",
   "metadata": {},
   "source": [
    "## 1.3 데이터 분포 분석"
   ]
  },
  {
   "cell_type": "markdown",
   "metadata": {},
   "source": [
    "-각 특성(변수)의 분포를 확인, \n",
    "-히스토그램이나 커널 밀도 추정(KDE)을 사용"
   ]
  },
  {
   "cell_type": "code",
   "execution_count": null,
   "metadata": {},
   "outputs": [],
   "source": [
    "df['feature_column'].hist(bins=30)\n",
    "plt.title('Feature Distribution')\n",
    "plt.xlabel('Value')\n",
    "plt.ylabel('Frequency')\n",
    "plt.show()\n"
   ]
  },
  {
   "cell_type": "markdown",
   "metadata": {},
   "source": [
    "각 텍스트 변수의 길이를 분석하여 텍스트의 길이 분포를 시각화"
   ]
  },
  {
   "cell_type": "code",
   "execution_count": null,
   "metadata": {},
   "outputs": [],
   "source": [
    "df['text_length'] = df['text_column'].apply(len)\n",
    "sns.histplot(df['text_length'], bins=30)\n",
    "plt.title('Text Length Distribution')\n",
    "plt.xlabel('Length of Text')\n",
    "plt.ylabel('Frequency')\n",
    "plt.show()\n"
   ]
  },
  {
   "cell_type": "markdown",
   "metadata": {},
   "source": [
    "## 1.4 변수별 상관관계 분석"
   ]
  },
  {
   "cell_type": "markdown",
   "metadata": {},
   "source": [
    "수치형 변수 간의 상관관계를 확인, - 상관 행렬을 만들고 heatmap으로 시각화"
   ]
  },
  {
   "cell_type": "code",
   "execution_count": null,
   "metadata": {},
   "outputs": [],
   "source": [
    "correlation_matrix = df.corr()\n",
    "sns.heatmap(correlation_matrix, annot=True, fmt=\".2f\")\n",
    "plt.title('Correlation Matrix')\n",
    "plt.show()\n"
   ]
  },
  {
   "cell_type": "markdown",
   "metadata": {},
   "source": [
    "## 1.4 텍스트 데이터의 토큰화 및 단어 분포 분석"
   ]
  },
  {
   "cell_type": "markdown",
   "metadata": {},
   "source": [
    "텍스트를 토큰화하여 단어의 빈도수를 시각화합니다. 가장 자주 사용되는 단어를 확인"
   ]
  },
  {
   "cell_type": "code",
   "execution_count": null,
   "metadata": {},
   "outputs": [],
   "source": [
    "from sklearn.feature_extraction.text import CountVectorizer\n",
    "\n",
    "vectorizer = CountVectorizer(stop_words='english')\n",
    "X = vectorizer.fit_transform(df['text_column'])\n",
    "word_counts = X.toarray().sum(axis=0)\n",
    "words = vectorizer.get_feature_names_out()\n",
    "\n",
    "word_freq = pd.DataFrame({'word': words, 'count': word_counts})\n",
    "top_words = word_freq.sort_values(by='count', ascending=False).head(10)\n",
    "\n",
    "sns.barplot(x='count', y='word', data=top_words)\n",
    "plt.title('Top 10 Words in Text Data')\n",
    "plt.show()\n"
   ]
  },
  {
   "cell_type": "markdown",
   "metadata": {},
   "source": [
    "## 1.5  데이터 노이즈 확인"
   ]
  },
  {
   "cell_type": "markdown",
   "metadata": {},
   "source": [
    "데이터에 이상치가 있는지 확인"
   ]
  },
  {
   "cell_type": "markdown",
   "metadata": {},
   "source": [
    "1. 클래스 불균형이 발견되면, SMOTE와 같은 오버샘플링 기법을 사용할 수 있습니다.\n",
    "변수 간 상관관계가 높다면, 피처 선택 기법을 고려해 볼 수 있습니다.\n",
    "데이터 노이즈가 심하다면, 이상치 처리 기법이나 데이터 클리닝을 통해 데이터를 정제할 필요가 있습니다."
   ]
  },
  {
   "cell_type": "code",
   "execution_count": null,
   "metadata": {},
   "outputs": [],
   "source": [
    "sns.boxplot(data=df, x='feature_column')\n",
    "plt.title('Boxplot for Outlier Detection')\n",
    "plt.show()"
   ]
  },
  {
   "cell_type": "markdown",
   "metadata": {},
   "source": [
    "## 1.5 텍스트 노이즈 확인"
   ]
  },
  {
   "cell_type": "markdown",
   "metadata": {},
   "source": [
    "텍스트 데이터에서 노이즈를 확인하기 위해 비정상적으로 긴 텍스트나 특정 패턴(예: 특수 문자, 불용어 등)을 찾습니다. 예를 들어, 특정 패턴이 포함된 텍스트를 시각화합니다."
   ]
  },
  {
   "cell_type": "code",
   "execution_count": 55,
   "metadata": {},
   "outputs": [
    {
     "name": "stdout",
     "output_type": "stream",
     "text": [
      "      판례일련번호                    사건명         사건번호        선고일자       법원명 사건종류명  \\\n",
      "4     160470                  배당 이의   2010가합8730  2010.12.08    창원지방법원    민사   \n",
      "20    172768                교수지위확인등    2009나7244  2010.12.02    대구고등법원    민사   \n",
      "25    148198                부당이득금반환    2010나6204  2010.12.01    광주지방법원    민사   \n",
      "47    152335                손해배상(기)   2010나41159  2010.11.26    서울고등법원    민사   \n",
      "76    147678                  경업금지등  2010가합10588  2010.11.25  서울동부지방법원    민사   \n",
      "...      ...                    ...          ...         ...       ...   ...   \n",
      "9954   68338  배임수재·보조금의예산및관리에관한법률위반     2006도906  2006.11.23       대법원    형사   \n",
      "9959   84831              해고무효확인및임금   2006다48069  2006.11.23       대법원    민사   \n",
      "9989   78178                    구상금   2006나15832  2006.11.22    서울고등법원    민사   \n",
      "9993  139710            부가가치세부과처분취소    2006구합590  2006.11.22    서울행정법원    세무   \n",
      "9996   70601                부당이득금반환    2006나2217  2006.11.21    청주지방법원    민사   \n",
      "\n",
      "                                                 판례상세링크  선고     판결유형  \\\n",
      "4     /DRF/lawService.do?OC=ykdb0508&target=prec&ID=...  선고     일부판결   \n",
      "20    /DRF/lawService.do?OC=ykdb0508&target=prec&ID=...  선고       판결   \n",
      "25    /DRF/lawService.do?OC=ykdb0508&target=prec&ID=...  선고  판결 : 확정   \n",
      "47    /DRF/lawService.do?OC=ykdb0508&target=prec&ID=...  선고       판결   \n",
      "76    /DRF/lawService.do?OC=ykdb0508&target=prec&ID=...  선고  판결 : 확정   \n",
      "...                                                 ...  ..      ...   \n",
      "9954  /DRF/lawService.do?OC=ykdb0508&target=prec&ID=...  선고       판결   \n",
      "9959  /DRF/lawService.do?OC=ykdb0508&target=prec&ID=...  선고       판결   \n",
      "9989  /DRF/lawService.do?OC=ykdb0508&target=prec&ID=...  선고       판결   \n",
      "9993  /DRF/lawService.do?OC=ykdb0508&target=prec&ID=...  선고       판결   \n",
      "9996  /DRF/lawService.do?OC=ykdb0508&target=prec&ID=...  선고  판결 : 상고   \n",
      "\n",
      "                                                   판시사항  \\\n",
      "4                                                   NaN   \n",
      "20                                                  NaN   \n",
      "25    [1] 명예퇴직한 공무원이 국가공무원 명예퇴직수당 등 지급규정 시행 이전에 다시 재...   \n",
      "47                                                  NaN   \n",
      "76    전문수탁검사기관인 甲 연구소의 직원 乙이 경업금지약정을 하고 근무하다가 퇴사 후 경...   \n",
      "...                                                 ...   \n",
      "9954  [1] 배임수재죄에서 ‘임무’ 및 ‘부정한 청탁’의 의미   <br/>[2] 공사발...   \n",
      "9959  [1] 취업규칙 등에서 노·사 동수로 징계위원회를 구성하도록 하고 있는 경우, 사용...   \n",
      "9989                                                NaN   \n",
      "9993                                                NaN   \n",
      "9996  업무상 재해를 입은 근로자가 국민건강보험공단으로부터 \\r\\n          산업재...   \n",
      "\n",
      "                                                   판결요지  \\\n",
      "4                                                   NaN   \n",
      "20                                                  NaN   \n",
      "25    [1] 공무원의 명예퇴직수당제도는 정년 이전에 퇴직하는 공무원에게 정년 이전의 퇴직...   \n",
      "47                                                  NaN   \n",
      "76    전문수탁검사기관인 甲 연구소의 직원 乙이 경업금지약정을 하고 근무하다가 퇴사 후 경...   \n",
      "...                                                 ...   \n",
      "9954                                                NaN   \n",
      "9959  [1] 취업규칙 등에서 노·사 동수로 징계위원회를 구성하도록 하고 있다면 이는 근로...   \n",
      "9989                                                NaN   \n",
      "9993                                                NaN   \n",
      "9996  업무상 재해를 입은 근로자가 국민건강보험법상 보험자인 국민건강보험공단으로부터 \\r\\...   \n",
      "\n",
      "                                                   참조조문  \\\n",
      "4                                                   NaN   \n",
      "20                                                  NaN   \n",
      "25    [1]         교육공무원법 제36조,         국가공무원법 제74조의2...   \n",
      "47                                                  NaN   \n",
      "76     민법 제103조,         부정경쟁방지 및 영업비밀보호에 관한 법률 제2조 제2호   \n",
      "...                                                 ...   \n",
      "9954  [1]         형법 제357조 제1항 / [2]         형법 제357...   \n",
      "9959    [1]         근로기준법 제30조 / [2]         근로기준법 제30조   \n",
      "9989                                                NaN   \n",
      "9993                                                NaN   \n",
      "9996  산업재해보상보험법 제38조 제1항 제1호,         제2항,         제...   \n",
      "\n",
      "                                                   참조판례  \\\n",
      "4                                                   NaN   \n",
      "20                                                  NaN   \n",
      "25    [1]         대법원 2007. 11. 15. 선고 2005다24646 판결...   \n",
      "47                                                  NaN   \n",
      "76                                                  NaN   \n",
      "...                                                 ...   \n",
      "9954  [1]         대법원 1988. 12. 20. 선고 88도167 판결(공19...   \n",
      "9959  [1]         대법원 1991. 7. 9. 선고, 90다8077 판결(공19...   \n",
      "9989                                                NaN   \n",
      "9993                                                NaN   \n",
      "9996  대법원 2005. 4. 28. 선고 2004다12660 판결(공2005상, 801)...   \n",
      "\n",
      "                                                   판례내용  \\\n",
      "4     【원    고】 진해동부신용협동조합 (소송대리인 법무법인 미래로 담당변호사 김형석)...   \n",
      "20    【원고, 항소인】 【피고, 피항소인】 학교법인 계명대학교 (소송대리인 변호사 지홍원...   \n",
      "25    【원고, 항소인】 【피고, 피항소인】 전라남도 (소송대리인 법무법인 법가 담당변호사...   \n",
      "47    【원고, 항소인 겸 피항소인】 【원고, 피항소인】 【피고, 피항소인 겸 항소인】 주...   \n",
      "76    【원    고】 재단법인 네오딘의학연구소 (소송대리인 변호사 남희웅)【피    고】...   \n",
      "...                                                 ...   \n",
      "9954  【피 고 인】 피고인 1 외 2인        【상 고 인】 검사 및 피고인 1【변...   \n",
      "9959  【원고, 상고인】 【피고, 피상고인】 유한회사 철원콜택시 (소송대리인 변호사 박문우...   \n",
      "9989  【원고, 피항소인】 근로복지공단【피고, 항소인】 【제1심판결】 서울남부지방법원 20...   \n",
      "9993  【원    고】 파산자 대한종합금융 주식회사의 파산관재인 예금보험공사외 1인 (소송...   \n",
      "9996  【원고, 피항소인】 국민건강보험공단【피고, 항소인】 근로복지공단【제1심판결】 청주지...   \n",
      "\n",
      "                                                판례내용_상단  \\\n",
      "4     【원    고】 진해동부신용협동조합 (소송대리인 법무법인 미래로 담당변호사 김형석)...   \n",
      "20    【원고, 항소인】 【피고, 피항소인】 학교법인 계명대학교 (소송대리인 변호사 지홍원...   \n",
      "25    【원고, 항소인】 【피고, 피항소인】 전라남도 (소송대리인 법무법인 법가 담당변호사...   \n",
      "47    【원고, 항소인 겸 피항소인】 【원고, 피항소인】 【피고, 피항소인 겸 항소인】 주...   \n",
      "76    【원    고】 재단법인 네오딘의학연구소 (소송대리인 변호사 남희웅)【피    고】...   \n",
      "...                                                 ...   \n",
      "9954  【피 고 인】 피고인 1 외 2인        【상 고 인】 검사 및 피고인 1【변...   \n",
      "9959  【원고, 상고인】 【피고, 피상고인】 유한회사 철원콜택시 (소송대리인 변호사 박문우...   \n",
      "9989  【원고, 피항소인】 근로복지공단【피고, 항소인】 【제1심판결】 서울남부지방법원 20...   \n",
      "9993  【원    고】 파산자 대한종합금융 주식회사의 파산관재인 예금보험공사외 1인 (소송...   \n",
      "9996  【원고, 피항소인】 국민건강보험공단【피고, 항소인】 근로복지공단【제1심판결】 청주지...   \n",
      "\n",
      "                                                판례내용_이유  \\\n",
      "4     【이    유】1. 기초사실  아래 각 사실은 당사자 사이에 다툼이 없거나, 갑 제...   \n",
      "20    【이    유】   1. 기초사실  다음 사실은 당사자 사이에 다툼이 없거나 갑 제...   \n",
      "25    【이    유】  1. 기초 사실  가. 원고는 여수 남초등학교 교사로 재직하다가 ...   \n",
      "47                   【이    유】1. 기초사실  가. 당사자들의 지위원고 1,    \n",
      "76    【이    유】  1. 기초 사실  가. 원고는 환자의 혈액과 체액 성분을 측정하는...   \n",
      "...                                                 ...   \n",
      "9954  【이    유】1. 피고인 1의 상고이유에 대한 판단      형법 제357조 제1...   \n",
      "9959  【이    유】1. 징계절차에 관한 상고이유에 대하여  가. 원심의 판단  원심은,...   \n",
      "9989  【이    유】 1. 기초사실   다음 사실은 당사자들 사이에 다툼이 없거나, 갑 ...   \n",
      "9993  【이    유】1. 처분의 경위  가. 대한종합금융 주식회사(이하 ‘대한종금’이라 ...   \n",
      "9996  【이    유】  1. 인정 사실  가. 이 사건 각 사고의 발생 및 원고의 치료비...   \n",
      "\n",
      "                                                  재판당사자  \\\n",
      "4     【원    고】 진해동부신용협동조합 (소송대리인 법무법인 미래로 담당변호사 김형석)...   \n",
      "20    【원고, 항소인】 【피고, 피항소인】 학교법인 계명대학교 (소송대리인 변호사 지홍원...   \n",
      "25    【원고, 항소인】 【피고, 피항소인】 전라남도 (소송대리인 법무법인 법가 담당변호사...   \n",
      "47    【원고, 항소인 겸 피항소인】 【원고, 피항소인】 【피고, 피항소인 겸 항소인】 주...   \n",
      "76    【원    고】 재단법인 네오딘의학연구소 (소송대리인 변호사 남희웅)【피    고】...   \n",
      "...                                                 ...   \n",
      "9954  【피 고 인】 피고인 1 외 2인        【상 고 인】 검사 및 피고인 1【변...   \n",
      "9959  【원고, 상고인】 【피고, 피상고인】 유한회사 철원콜택시 (소송대리인 변호사 박문우...   \n",
      "9989  【원고, 피항소인】 근로복지공단【피고, 항소인】 【제1심판결】 서울남부지방법원 20...   \n",
      "9993  【원    고】 파산자 대한종합금융 주식회사의 파산관재인 예금보험공사외 1인 (소송...   \n",
      "9996  【원고, 피항소인】 국민건강보험공단【피고, 항소인】 근로복지공단【제1심판결】 청주지...   \n",
      "\n",
      "                                              재판당사자_텍스트  \\\n",
      "4                                  ['원고', '피고', '변론종결']   \n",
      "20               ['원고,항소인', '피고,피항소인', '제1심판결', '변론종결']   \n",
      "25               ['원고,항소인', '피고,피항소인', '제1심판결', '변론종결']   \n",
      "47    ['원고,항소인겸피항소인', '원고,피항소인', '피고,피항소인겸항소인', '제1심...   \n",
      "76                                 ['원고', '피고', '변론종결']   \n",
      "...                                                 ...   \n",
      "9954                      ['피고인', '상고인', '변호인', '원심판결']   \n",
      "9959                      ['원고,상고인', '피고,피상고인', '원심판결']   \n",
      "9989             ['원고,피항소인', '피고,항소인', '제1심판결', '변론종결']   \n",
      "9993                               ['원고', '피고', '변론종결']   \n",
      "9996             ['원고,피항소인', '피고,항소인', '제1심판결', '변론종결']   \n",
      "\n",
      "                                               판례내용_이유2  \\\n",
      "4     {'이유': '1. 기초사실 아래 각 사실은 당사자 사이에 다툼이 없거나, 갑 제1...   \n",
      "20    {'이유': '1. 기초사실 다음 사실은 당사자 사이에 다툼이 없거나 갑 제1 내지...   \n",
      "25    {'이유': '1. 기초 사실 가. 원고는 여수 남초등학교 교사로 재직하다가 199...   \n",
      "47                   {'이유': '1. 기초사실 가. 당사자들의 지위원고 1,'}   \n",
      "76    {'이유': '1. 기초 사실 가. 원고는 환자의 혈액과 체액 성분을 측정하는 등의...   \n",
      "...                                                 ...   \n",
      "9954  {'이유': '1. 피고인 1의 상고이유에 대한 판단 형법 제357조 제1항의 배임...   \n",
      "9959  {'이유': '1. 징계절차에 관한 상고이유에 대하여 가. 원심의 판단 원심은, 징...   \n",
      "9989  {'이유': '1. 기초사실 다음 사실은 당사자들 사이에 다툼이 없거나, 갑 제1 ...   \n",
      "9993  {'이유': '1. 처분의 경위 가. 대한종합금융 주식회사(이하 ‘대한종금’이라 한...   \n",
      "9996  {'이유': '1. 인정 사실 가. 이 사건 각 사고의 발생 및 원고의 치료비 부담...   \n",
      "\n",
      "                                                판례내용_정제  \n",
      "4     유1 기초사실 아래 사실은 당사자 사이에 다툼이 없거나 제1 4호증 을가 제1 3호...  \n",
      "20    기초사실 사실은 당사자 사이에 다툼이 없거나 제1 4호증 제5호증의 제8 10호증 ...  \n",
      "25    기초 원고는 여수 남초등학교 교사로 재직하다가 명예퇴직을 피고로부터 명예퇴직 수당으...  \n",
      "47                                   유1 기초사실 당사자들의 지위원고  \n",
      "76    기초 원고는 환자의 혈액과 체액 성분을 측정하는 등의 검체검사를 장비와 인력을 갖추...  \n",
      "...                                                 ...  \n",
      "9954  유1 피고인 1의 상고이유에 대한 판단 형법 제357조 제1항의 배임수재죄는 타인의...  \n",
      "9959  유1 징계절차에 상고이유에 원심의 판단 원심은 징계사유를 사전에 통보받거나 소명할 ...  \n",
      "9989  기초사실 사실은 당사자들 사이에 다툼이 없거나 제1 9호증 제1호증의 3의 기재에 ...  \n",
      "9993  유1 처분의 경위 대한종합금융 주식회사이하 대한종금이라 한다는 종합금융회사에 법률에...  \n",
      "9996                         인정 사건 사고의 발생 원고의 치료비 부담 소외  \n",
      "\n",
      "[867 rows x 20 columns]\n"
     ]
    },
    {
     "name": "stderr",
     "output_type": "stream",
     "text": [
      "<>:1: SyntaxWarning: invalid escape sequence '\\s'\n",
      "<>:1: SyntaxWarning: invalid escape sequence '\\s'\n",
      "C:\\Users\\user\\AppData\\Local\\Temp\\ipykernel_13392\\741345362.py:1: SyntaxWarning: invalid escape sequence '\\s'\n",
      "  noise_texts = df_labor[df_labor['판례내용'].str.contains('[^a-zA-Z0-9가-힣\\s]', regex=True)]\n"
     ]
    }
   ],
   "source": [
    "noise_texts = df_labor[df_labor['판례내용'].str.contains('[^a-zA-Z0-9가-힣\\s]', regex=True)]\n",
    "print(noise_texts)"
   ]
  },
  {
   "cell_type": "markdown",
   "metadata": {},
   "source": [
    "2. 적합한 분석 알고리즘 도출을 위한 분석\n",
    "텍스트 데이터에는 다음과 같은 알고리즘이 적합할 수 있습니다:\n",
    "TF-IDF: 단어의 중요도를 계산하고 이를 기반으로 문서 분류를 진행합니다.\n",
    "LDA (Latent Dirichlet Allocation): 주제 모델링 기법으로, 문서의 주제를 추출합니다.\n",
    "SVM, 랜덤 포레스트: 텍스트 피처(예: 벡터화된 단어들)를 사용하여 분류를 진행합니다.\n",
    "딥러닝 모델: LSTM이나 BERT와 같은 모델을 사용하여 문서의 패턴을 학습하고 분류를 수행합니다."
   ]
  },
  {
   "cell_type": "markdown",
   "metadata": {},
   "source": []
  }
 ],
 "metadata": {
  "kernelspec": {
   "display_name": "base",
   "language": "python",
   "name": "python3"
  },
  "language_info": {
   "codemirror_mode": {
    "name": "ipython",
    "version": 3
   },
   "file_extension": ".py",
   "mimetype": "text/x-python",
   "name": "python",
   "nbconvert_exporter": "python",
   "pygments_lexer": "ipython3",
   "version": "3.12.4"
  }
 },
 "nbformat": 4,
 "nbformat_minor": 2
}
