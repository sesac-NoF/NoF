{
 "cells": [
  {
   "cell_type": "markdown",
   "metadata": {},
   "source": [
    "# 1. 자연어처리를 위한 모듈과 라이브러리"
   ]
  },
  {
   "cell_type": "markdown",
   "metadata": {},
   "source": [
    "1.1 필수 라이브러리"
   ]
  },
  {
   "cell_type": "code",
   "execution_count": null,
   "metadata": {
    "vscode": {
     "languageId": "plaintext"
    }
   },
   "outputs": [],
   "source": [
    "# NLTK (Natural Language Toolkit): 텍스트 처리, 토큰화, 품사 태깅, 불용어 제거 등을 위한 기본 라이브러리.\n",
    "\n",
    "pip install nltk"
   ]
  },
  {
   "cell_type": "code",
   "execution_count": null,
   "metadata": {
    "vscode": {
     "languageId": "plaintext"
    }
   },
   "outputs": [],
   "source": [
    "#spaCy: 고급 자연어처리 작업을 위한 라이브러리로, 빠르고 효율적이며, 다양한 언어를 지원.\n",
    "\n",
    "pip install spacy\n"
   ]
  },
  {
   "cell_type": "code",
   "execution_count": null,
   "metadata": {
    "vscode": {
     "languageId": "plaintext"
    }
   },
   "outputs": [],
   "source": [
    "#gensim: 토픽 모델링 및 Word2Vec과 같은 단어 임베딩을 위한 라이브러리.\n",
    "\n",
    "pip install gensim\n"
   ]
  },
  {
   "cell_type": "code",
   "execution_count": null,
   "metadata": {
    "vscode": {
     "languageId": "plaintext"
    }
   },
   "outputs": [],
   "source": [
    "#scikit-learn: 머신러닝을 위한 라이브러리로, 텍스트 분류, 클러스터링 등을 지원.\n",
    "\n",
    "pip install scikit-learn\n"
   ]
  },
  {
   "cell_type": "code",
   "execution_count": null,
   "metadata": {
    "vscode": {
     "languageId": "plaintext"
    }
   },
   "outputs": [],
   "source": [
    "#transformers: Hugging Face의 트랜스포머 모델을 쉽게 사용할 수 있도록 해주는 라이브러리.\n",
    "\n",
    "pip install transformers\n"
   ]
  },
  {
   "cell_type": "code",
   "execution_count": null,
   "metadata": {
    "vscode": {
     "languageId": "plaintext"
    }
   },
   "outputs": [],
   "source": [
    "# TensorFlow / Keras: 딥러닝 모델을 구축하고 훈련하기 위한 라이브러리.\n",
    "\n",
    "pip install tensorflow\n"
   ]
  },
  {
   "cell_type": "code",
   "execution_count": null,
   "metadata": {
    "vscode": {
     "languageId": "plaintext"
    }
   },
   "outputs": [],
   "source": [
    "#PyTorch: 또 다른 딥러닝 라이브러리로, 다양한 NLP 모델 구현에 유용.\n",
    "\n",
    "pip install torch\n"
   ]
  },
  {
   "cell_type": "code",
   "execution_count": null,
   "metadata": {
    "vscode": {
     "languageId": "plaintext"
    }
   },
   "outputs": [],
   "source": [
    "#beautifulsoup4: 웹 스크래핑을 위한 라이브러리, HTML/XML 문서 파싱에 유용\n",
    "\n",
    "pip install beautifulsoup4\n"
   ]
  },
  {
   "cell_type": "code",
   "execution_count": null,
   "metadata": {
    "vscode": {
     "languageId": "plaintext"
    }
   },
   "outputs": [],
   "source": [
    "# Flair: NLP 태스크를 위한 딥러닝 라이브러리로, 다양한 사전 훈련된 모델을 제공\n",
    "pip install flair\n"
   ]
  },
  {
   "cell_type": "code",
   "execution_count": null,
   "metadata": {
    "vscode": {
     "languageId": "plaintext"
    }
   },
   "outputs": [],
   "source": [
    "# textblob: 감정 분석, 품사 태깅, 번역 등 다양한 NLP 작업을 위한 간단한 라이브러리.\n",
    "pip install textblob"
   ]
  },
  {
   "cell_type": "markdown",
   "metadata": {},
   "source": [
    "# 2. 의존성 및 충돌 방지를 위한 설정 조건"
   ]
  },
  {
   "cell_type": "markdown",
   "metadata": {},
   "source": [
    "2.1 가상 환경 사용\n",
    "가상 환경을 사용하여 프로젝트마다 독립적인 환경을 유지하는 것이 좋습니다. Python의 venv 또는 conda를 사용할 수 있습니다."
   ]
  },
  {
   "cell_type": "code",
   "execution_count": null,
   "metadata": {
    "vscode": {
     "languageId": "plaintext"
    }
   },
   "outputs": [],
   "source": [
    "# venv 사용 예\n",
    "python -m venv myenv\n",
    "source myenv/bin/activate  # Linux/Mac\n",
    "myenv\\Scripts\\activate  # Windows\n",
    "\n",
    "# conda 사용 예\n",
    "conda create --name myenv python=3.8\n",
    "conda activate myenv"
   ]
  },
  {
   "cell_type": "markdown",
   "metadata": {},
   "source": [
    "2.2 패키지 버전 관리\n",
    "특정 라이브러리의 버전을 명시하여 설치하여 충돌을 방지합니다. requirements.txt 파일을 만들어서 필요한 패키지와 버전을 기록합니다."
   ]
  },
  {
   "cell_type": "code",
   "execution_count": null,
   "metadata": {
    "vscode": {
     "languageId": "plaintext"
    }
   },
   "outputs": [],
   "source": [
    "# 1번 라이브러리\n",
    "nltk==3.6.5\n",
    "spacy==3.0.0\n",
    "gensim==4.0.0\n",
    "scikit-learn==0.24.2  # 1번, 2번 라이브러리에서 중복\n",
    "transformers==4.10.0\n",
    "\n",
    "# 2번 라이브러리\n",
    "numpy==1.21.6\n",
    "pandas==1.3.5\n",
    "matplotlib==3.5.1\n",
    "seaborn==0.11.2\n"
   ]
  },
  {
   "cell_type": "markdown",
   "metadata": {},
   "source": [
    "2.3 패키지 설치\n",
    "가상 환경을 활성화한 후, 아래와 같이 패키지를 설치합니다."
   ]
  },
  {
   "cell_type": "code",
   "execution_count": null,
   "metadata": {
    "vscode": {
     "languageId": "plaintext"
    }
   },
   "outputs": [],
   "source": [
    "pip install -r requirements.txt\n"
   ]
  },
  {
   "cell_type": "markdown",
   "metadata": {},
   "source": [
    "3. 의존성 검사\n",
    "패키지를 설치한 후, 각 라이브러리의 의존성을 확인하여 충돌 여부를 검사합니다."
   ]
  },
  {
   "cell_type": "code",
   "execution_count": null,
   "metadata": {
    "vscode": {
     "languageId": "plaintext"
    }
   },
   "outputs": [],
   "source": [
    "pip install pipdeptree\n",
    "pipdeptree  # 패키지 의존성 확인"
   ]
  },
  {
   "cell_type": "markdown",
   "metadata": {},
   "source": [
    "4. 기본 테스트\n",
    "모든 라이브러리를 간단히 테스트하여 충돌이 없는지 확인합니다"
   ]
  },
  {
   "cell_type": "code",
   "execution_count": null,
   "metadata": {
    "vscode": {
     "languageId": "plaintext"
    }
   },
   "outputs": [],
   "source": [
    "import nltk\n",
    "import spacy\n",
    "import gensim\n",
    "import numpy as np\n",
    "import pandas as pd\n",
    "import seaborn as sns\n",
    "import matplotlib.pyplot as plt\n",
    "from sklearn.ensemble import RandomForestClassifier\n",
    "from transformers import pipeline\n",
    "\n",
    "# 각 라이브러리 버전 확인\n",
    "print(\"NLTK version:\", nltk.__version__)\n",
    "print(\"spaCy version:\", spacy.__version__)\n",
    "print(\"Gensim version:\", gensim.__version__)\n",
    "print(\"NumPy version:\", np.__version__)\n",
    "print(\"Pandas version:\", pd.__version__)\n",
    "print(\"Matplotlib version:\", plt.__version__)\n",
    "print(\"Seaborn version:\", sns.__version__)\n",
    "print(\"Scikit-learn version:\", scikit_learn.__version__)\n",
    "print(\"Transformers version:\", transformers.__version__)\n"
   ]
  },
  {
   "cell_type": "markdown",
   "metadata": {},
   "source": [
    "5. 데이터분석 기본 라이브러리 "
   ]
  },
  {
   "cell_type": "markdown",
   "metadata": {},
   "source": [
    "import nltk\n",
    "import spacy\n",
    "import gensim\n",
    "import numpy as np\n",
    "import pandas as pd\n",
    "import seaborn as sns\n",
    "import matplotlib.pyplot as plt\n",
    "from sklearn.ensemble import RandomForestClassifier\n",
    "from transformers import pipeline"
   ]
  },
  {
   "cell_type": "markdown",
   "metadata": {},
   "source": [
    "# 3. setup.py  설정"
   ]
  },
  {
   "cell_type": "markdown",
   "metadata": {},
   "source": [
    ">>> setup.py 파일은 Python 프로젝트의 패키징 및 배포를 위한 메타데이터와 설정 정보를 포함하는 스크립트입니다. 이 파일의 주요 역할은 다음과 같습니다:\n",
    "\n",
    "1. 패키지 메타데이터 정의\n",
    "이름, 버전, 설명: 패키지의 이름, 버전, 설명, 저자, 라이센스 등의 정보를 제공합니다.\n",
    "의존성: 패키지가 작동하기 위해 필요한 다른 패키지를 명시합니다. 이를 통해 설치 시 자동으로 필요한 라이브러리를 설치할 수 있습니다.\n",
    "2. 패키지 구조 설정\n",
    "모듈 및 서브패키지: 패키지에 포함될 모듈 및 서브패키지를 지정합니다.\n",
    "데이터 파일: 패키지에 포함되어야 하는 데이터 파일(예: 텍스트 파일, 이미지 파일 등)을 정의할 수 있습니다."
   ]
  },
  {
   "cell_type": "markdown",
   "metadata": {},
   "source": [
    "3. 설치 및 배포\n",
    "setup.py를 사용하여 패키지를 설치하거나 배포할 수 있습니다. 일반적으로 아래 명령어를 사용하여 설치합니다:\n",
    "PyPI(Python Package Index)와 같은 저장소에 패키지를 배포할 수 있는 도구(예: setuptools, twine)와 함께 사용됩니다."
   ]
  },
  {
   "cell_type": "code",
   "execution_count": null,
   "metadata": {
    "vscode": {
     "languageId": "plaintext"
    }
   },
   "outputs": [],
   "source": [
    "python setup.py install"
   ]
  },
  {
   "cell_type": "markdown",
   "metadata": {},
   "source": [
    "4. 스크립트 실행\n",
    "entry_points를 사용하여 패키지에 포함된 스크립트를 콘솔에서 직접 실행할 수 있도록 설정할 수 있습니다.\n",
    "5. 다양한 설치 옵션\n",
    "setup.py는 다양한 설치 옵션(예: 개발 모드 설치, 패키지의 특정 버전 설치 등)을 제공합니다."
   ]
  },
  {
   "cell_type": "code",
   "execution_count": null,
   "metadata": {
    "vscode": {
     "languageId": "plaintext"
    }
   },
   "outputs": [],
   "source": [
    "# 아래는 기본적인 setup.py의 예제입니다:\n",
    "\n",
    "from setuptools import setup, find_packages\n",
    "\n",
    "setup(\n",
    "    name='my_package',\n",
    "    version='0.1.0',\n",
    "    description='A simple example package',\n",
    "    author='Your Name',\n",
    "    author_email='your.email@example.com',\n",
    "    url='https://github.com/yourusername/my_package',\n",
    "    packages=find_packages(),\n",
    "    install_requires=[\n",
    "        'numpy>=1.21.6',\n",
    "        'pandas>=1.3.5',\n",
    "        'nltk==3.6.5',\n",
    "        'spacy==3.0.0',\n",
    "    ],\n",
    "    entry_points={\n",
    "        'console_scripts': [\n",
    "            'my_command=my_package.module:main_function',\n",
    "        ],\n",
    "    },\n",
    ")\n"
   ]
  },
  {
   "cell_type": "markdown",
   "metadata": {},
   "source": [
    ">>> 설치 시의 차이점\n",
    "setup.py 사용 시:\n",
    "python setup.py install 또는 pip install .를 통해 패키지를 설치하면, install_requires에 명시된 의존성들이 자동으로 설치됩니다.\n",
    "requirements.txt 사용 시:\n",
    "pip install -r requirements.txt를 통해 명시된 모든 패키지를 설치합니다."
   ]
  }
 ],
 "metadata": {
  "language_info": {
   "name": "python"
  }
 },
 "nbformat": 4,
 "nbformat_minor": 2
}
