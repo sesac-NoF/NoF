{
 "cells": [
  {
   "cell_type": "markdown",
   "metadata": {},
   "source": [
    "* 진형님 LDA 참고하여 진행\n",
    "* 동현님 gensim 파일 참고하여 진행"
   ]
  },
  {
   "cell_type": "markdown",
   "metadata": {},
   "source": [
    "# 1. 데이터 로드"
   ]
  },
  {
   "cell_type": "markdown",
   "metadata": {},
   "source": [
    "저장된 데이터 가져오기"
   ]
  },
  {
   "cell_type": "code",
   "execution_count": 2,
   "metadata": {},
   "outputs": [],
   "source": [
    "import pandas as pd\n",
    "import re"
   ]
  },
  {
   "cell_type": "code",
   "execution_count": 3,
   "metadata": {},
   "outputs": [],
   "source": [
    "import matplotlib.pyplot as plt\n",
    "\n",
    "# 한글 깨짐 방지\n",
    "plt.rcParams['font.family'] = \"Malgun Gothic\"\n",
    "\n",
    "# 마이너스 깨짐 방지\n",
    "plt.rcParams['axes.unicode_minus'] = False"
   ]
  },
  {
   "cell_type": "code",
   "execution_count": 4,
   "metadata": {},
   "outputs": [],
   "source": [
    "# 파일은 전처리 완료된 판례본문 / 판례이유 분리하여 열로 저장한 것\n",
    "df_labor = pd.read_csv(r'C:\\Users\\user\\Desktop\\프로젝트 기획서\\NoF\\data\\df_labor_real.csv', encoding='utf-8')"
   ]
  },
  {
   "cell_type": "code",
   "execution_count": 9,
   "metadata": {},
   "outputs": [
    {
     "name": "stdout",
     "output_type": "stream",
     "text": [
      "<class 'pandas.core.frame.DataFrame'>\n",
      "RangeIndex: 5016 entries, 0 to 5015\n",
      "Data columns (total 12 columns):\n",
      " #   Column        Non-Null Count  Dtype \n",
      "---  ------        --------------  ----- \n",
      " 0   판례정보일련번호      5016 non-null   int64 \n",
      " 1   사건번호          5016 non-null   object\n",
      " 2   선고            5016 non-null   object\n",
      " 3   판결유형          5016 non-null   object\n",
      " 4   판시사항          3725 non-null   object\n",
      " 5   판결요지          3054 non-null   object\n",
      " 6   참조조문          3724 non-null   object\n",
      " 7   참조판례          2450 non-null   object\n",
      " 8   판례내용          5016 non-null   object\n",
      " 9   판례내용_상단       5016 non-null   object\n",
      " 10  판례내용_이유       5012 non-null   object\n",
      " 11  판례내용_이유(전처리)  5016 non-null   object\n",
      "dtypes: int64(1), object(11)\n",
      "memory usage: 470.4+ KB\n"
     ]
    }
   ],
   "source": [
    "df_labor.info()"
   ]
  },
  {
   "cell_type": "markdown",
   "metadata": {},
   "source": [
    "불용어 제거하기 "
   ]
  },
  {
   "cell_type": "code",
   "execution_count": 10,
   "metadata": {},
   "outputs": [],
   "source": [
    "#한국어 처리를 의한 라이브러리 사용 \n",
    "# Counter: 데이터를 카운팅하여 빈도수를 계산하기 위한 모듈, 주로 단어 빈도 계산에 사용\n",
    "from collections import Counter\n",
    "\n",
    "# konlpy의 Okt: 한국어 형태소 분석기. 텍스트를 형태소 단위로 분리하거나 품사 태깅에 사용\n",
    "from konlpy.tag import Okt\n",
    "\n",
    "# CountVectorizer: 문서에서 단어 빈도 수를 기반으로 피처 벡터를 생성하는 사이킷런의 도구\n",
    "from sklearn.feature_extraction.text import CountVectorizer"
   ]
  },
  {
   "cell_type": "code",
   "execution_count": 11,
   "metadata": {},
   "outputs": [
    {
     "name": "stdout",
     "output_type": "stream",
     "text": [
      "0       주식회사 ○○ 김소영 피상 중앙 노동 위원장 법무 법인 지향 김진 법무 법인 서희원...\n",
      "1       피상 조창 ○○○ 주식회사 김원정 부산 고법 창원 비용 부담 한다 한다 판시와 협력...\n",
      "2       피상 명단 방광 ○○○ 주식회사 김원정 부산 고법 창원 비용 부담 한다 지난 보충 ...\n",
      "3       피상 법무 법인 금강 ○○○ 주식회사 김원정 주식회사 △△△ 법무 법인 유한 태평양...\n",
      "4       법무 법인 창조 피상 대한민국 법무 법인 유한 세종 김주안 고법 연차 휴가 수당 주...\n",
      "                              ...                        \n",
      "5011    소선규 종로 세무서 1962.7 납세 고지서 의하여 1960년 기분 을종 근로 소득...\n",
      "5012    피상 선정 한국 곡창 주식회사 부산 지방 대구 민공 한다 비용 부담 한다 김태 지상...\n",
      "5013    재단법인 충청남도 관재 국장 소송비용 부담 한다 목록 부동산 임대차 계약 단기 42...\n",
      "5014    피상 서울특별시 여객 자동차 운송 사업 조합 중앙 노동 본건 비용 부담 한다 의하면...\n",
      "5015    인천 지원 본건 원판 노무 동원 징집 연기 청탁 받고 직무 하여 뇌물 수수하였다는 ...\n",
      "Name: 판례내용_제거(불용어), Length: 5016, dtype: object\n"
     ]
    }
   ],
   "source": [
    "import pandas as pd\n",
    "import re  # 정규 표현식 모듈\n",
    "from konlpy.tag import Okt\n",
    "\n",
    "# 불용어 파일 로드\n",
    "stopwords_file_path = r'C:\\Users\\user\\Desktop\\프로젝트 기획서\\NoF\\data\\sorted_words.txt'\n",
    "stopwords_pick = ['제', '호로', '등', '것', '항', '의', '금', '검사', '판결', '거나', '유1', \n",
    "                  '상고이유', '기초', '사실', '기초사실', '사고', '피고', '원고', '피고인', \n",
    "                  '사건', '담당', '변호사', '변호인', '변론', '종결', '소외']\n",
    "pattern = r'제\\d+|\\d호증|\\d호'  # 정규 표현식 패턴\n",
    "\n",
    "# 불용어 파일을 읽어 불용어 목록 생성\n",
    "with open(stopwords_file_path, 'r', encoding='utf-8') as f:\n",
    "    stopwords = set(f.read().splitlines())\n",
    "\n",
    "# 불용어 제거 함수 (리스트 상태로 처리)\n",
    "def remove_stopwords(content):\n",
    "    # Okt 객체를 생성하여 형태소 분석\n",
    "    okt = Okt()\n",
    "    \n",
    "    # 형태소 분석을 통해 단어 리스트 생성\n",
    "    tokens = okt.morphs(content)  # 형태소 단위로 분리\n",
    "    filtered_words = [\n",
    "        word for word in tokens \n",
    "        if len(word) > 1 \n",
    "        and word not in stopwords \n",
    "        and not word.isdigit()  # 숫자인 경우 제외\n",
    "        and word not in stopwords_pick \n",
    "        and not re.match(pattern, word)\n",
    "    ]\n",
    "    return ' '.join(filtered_words)  # 문자열로 반환\n",
    "\n",
    "# 불용어 제거 수행 (판례내용 열의 내용을 처리)\n",
    "df_labor['판례내용_제거(불용어)'] = df_labor['판례내용'].apply(remove_stopwords)\n",
    "\n",
    "# 결과 확인\n",
    "print(df_labor['판례내용_제거(불용어)'])"
   ]
  },
  {
   "cell_type": "code",
   "execution_count": 12,
   "metadata": {},
   "outputs": [],
   "source": [
    "df_labor.to_csv(r'C:\\Users\\user\\Desktop\\프로젝트 기획서\\NoF\\data\\df_labor_real_cleaned2.csv', index='False')"
   ]
  },
  {
   "cell_type": "code",
   "execution_count": 14,
   "metadata": {},
   "outputs": [
    {
     "name": "stdout",
     "output_type": "stream",
     "text": [
      "<class 'pandas.core.frame.DataFrame'>\n",
      "RangeIndex: 5016 entries, 0 to 5015\n",
      "Data columns (total 14 columns):\n",
      " #   Column        Non-Null Count  Dtype \n",
      "---  ------        --------------  ----- \n",
      " 0   Unnamed: 0    5016 non-null   int64 \n",
      " 1   판례정보일련번호      5016 non-null   int64 \n",
      " 2   사건번호          5016 non-null   object\n",
      " 3   선고            5016 non-null   object\n",
      " 4   판결유형          5016 non-null   object\n",
      " 5   판시사항          3725 non-null   object\n",
      " 6   판결요지          3054 non-null   object\n",
      " 7   참조조문          3724 non-null   object\n",
      " 8   참조판례          2450 non-null   object\n",
      " 9   판례내용          5016 non-null   object\n",
      " 10  판례내용_상단       5016 non-null   object\n",
      " 11  판례내용_이유       5012 non-null   object\n",
      " 12  판례내용_이유(전처리)  5016 non-null   object\n",
      " 13  판례내용_제거(불용어)  5016 non-null   object\n",
      "dtypes: int64(2), object(12)\n",
      "memory usage: 548.8+ KB\n"
     ]
    }
   ],
   "source": [
    "df_labor2 = pd.read_csv(r'C:\\Users\\user\\Desktop\\프로젝트 기획서\\NoF\\data\\df_labor_real_cleaned2.csv')\n",
    "df_labor2.info()"
   ]
  },
  {
   "cell_type": "markdown",
   "metadata": {},
   "source": [
    "판례내용 길이분포 확인"
   ]
  },
  {
   "cell_type": "code",
   "execution_count": 18,
   "metadata": {},
   "outputs": [
    {
     "data": {
      "text/plain": [
       "Text(0, 0.5, '빈도 수')"
      ]
     },
     "execution_count": 18,
     "metadata": {},
     "output_type": "execute_result"
    },
    {
     "data": {
      "image/png": "[encoded data removed]",
      "text/plain": [
       "<Figure size 640x480 with 1 Axes>"
      ]
     },
     "metadata": {},
     "output_type": "display_data"
    }
   ],
   "source": [
    "#글자 수 히스토그램\n",
    "ax = df_labor['판례내용'].str.len().hist()\n",
    "\n",
    "ax.set_xlabel('글자 수')\n",
    "ax.set_ylabel('빈도 수')"
   ]
  },
  {
   "cell_type": "code",
   "execution_count": 19,
   "metadata": {},
   "outputs": [
    {
     "data": {
      "text/plain": [
       "Text(0, 0.5, '빈도 수')"
      ]
     },
     "execution_count": 19,
     "metadata": {},
     "output_type": "execute_result"
    },
    {
     "data": {
      "image/png": "[encoded data removed]",
      "text/plain": [
       "<Figure size 640x480 with 1 Axes>"
      ]
     },
     "metadata": {},
     "output_type": "display_data"
    }
   ],
   "source": [
    "#글자 수 히스토그램\n",
    "ax = df_labor['판례내용_제거(불용어)'].str.len().hist()\n",
    "\n",
    "ax.set_xlabel('글자 수')\n",
    "ax.set_ylabel('빈도 수')"
   ]
  },
  {
   "cell_type": "markdown",
   "metadata": {},
   "source": [
    "토큰수 분포"
   ]
  },
  {
   "cell_type": "code",
   "execution_count": 20,
   "metadata": {},
   "outputs": [
    {
     "data": {
      "image/png": "[encoded data removed]",
      "text/plain": [
       "<Figure size 1000x600 with 1 Axes>"
      ]
     },
     "metadata": {},
     "output_type": "display_data"
    }
   ],
   "source": [
    "import pandas as pd\n",
    "import matplotlib.pyplot as plt\n",
    "\n",
    "# 결측값을 빈 문자열로 채움\n",
    "df_labor['판례내용_제거(불용어)'] = df_labor['판례내용_제거(불용어)'].fillna('없음')\n",
    "\n",
    "# 문자열을 공백으로 분할하고, 각 리스트의 길이를 계산\n",
    "token_counts = df_labor['판례내용_제거(불용어)'].str.split(' ').map(len)\n",
    "\n",
    "# 히스토그램 그리기\n",
    "ax = token_counts.hist(bins=30, figsize=(10,6))\n",
    "ax.set_xlabel('토큰 수')\n",
    "ax.set_ylabel('빈도 수')\n",
    "ax.set_title('판시사항의 토큰 수 분포')\n",
    "plt.show()"
   ]
  },
  {
   "cell_type": "code",
   "execution_count": 6,
   "metadata": {},
   "outputs": [
    {
     "data": {
      "image/png": "[encoded data removed]",
      "text/plain": [
       "<Figure size 1000x600 with 1 Axes>"
      ]
     },
     "metadata": {},
     "output_type": "display_data"
    }
   ],
   "source": [
    "import pandas as pd\n",
    "from collections import Counter\n",
    "from konlpy.tag import Okt\n",
    "import matplotlib.pyplot as plt\n",
    "\n",
    "# 데이터 리스트 만들기\n",
    "data_list = df_labor['판례내용_제거(불용어)'].copy()\n",
    "\n",
    "# 명사 추출\n",
    "docs_list = []\n",
    "\n",
    "okt = Okt()\n",
    "for text in data_list:\n",
    "    nouns = okt.nouns(text)\n",
    "    docs_list.append(' '.join(nouns))\n",
    "\n",
    "# 명사를 리스트로 결합\n",
    "all_nouns = ' '.join(docs_list)\n",
    "\n",
    "# 명사 빈도 세기\n",
    "noun_counts = Counter(all_nouns.split())\n",
    "\n",
    "# 데이터프레임으로 변환\n",
    "df_noun_counts = pd.DataFrame(noun_counts.items(), columns=['noun', 'count'])\n",
    "df_noun_counts = df_noun_counts.sort_values(by='count', ascending=False)\n",
    "\n",
    "# 시각화\n",
    "plt.figure(figsize=(10, 6))\n",
    "plt.barh(df_noun_counts['noun'][:10], df_noun_counts['count'][:10], color='skyblue')\n",
    "plt.xlabel('빈도')\n",
    "plt.title('판례내용 명사 빈도')\n",
    "plt.gca().invert_yaxis()  # 빈도순으로 정렬\n",
    "plt.show()\n"
   ]
  },
  {
   "cell_type": "code",
   "execution_count": 27,
   "metadata": {},
   "outputs": [
    {
     "data": {
      "image/png": "[encoded data removed]",
      "text/plain": [
       "<Figure size 1000x600 with 1 Axes>"
      ]
     },
     "metadata": {},
     "output_type": "display_data"
    }
   ],
   "source": [
    "#2글자이상 명사비교\n",
    "\n",
    "#명사추출\n",
    "docs_list2 =[]\n",
    "\n",
    "okt = Okt()\n",
    "for text in data_list:\n",
    "    nouns = okt.nouns(text)\n",
    "    # 길이가 1보다 큰 명사이면서 불용어가 아닌 것만 필터링\n",
    "    filter_nouns = [noun for noun in nouns if len(noun) > 1]\n",
    "    docs_list2.append(' '.join(filter_nouns))\n",
    "\n",
    "# 명사를 리스트로 결합\n",
    "all_nouns2 = ' '.join(docs_list2)\n",
    "\n",
    "# 명사 빈도 세기\n",
    "noun_counts2 = Counter(all_nouns2.split())\n",
    "\n",
    "# 데이터프레임으로 변환\n",
    "df_noun_counts2 = pd.DataFrame(noun_counts2.items(), columns=['noun', 'count'])\n",
    "df_noun_counts2 = df_noun_counts2.sort_values(by='count', ascending=False)\n",
    "\n",
    "# 시각화\n",
    "plt.figure(figsize=(10, 6))\n",
    "plt.barh(df_noun_counts2['noun'][:10], df_noun_counts2['count'][:10], color='skyblue')\n",
    "plt.xlabel('빈도')\n",
    "plt.title('판례내용 명사 빈도')\n",
    "plt.gca().invert_yaxis()  # 빈도순으로\n",
    "plt.show()"
   ]
  },
  {
   "cell_type": "markdown",
   "metadata": {},
   "source": [
    "### 형태소 분포"
   ]
  },
  {
   "cell_type": "code",
   "execution_count": 28,
   "metadata": {},
   "outputs": [
    {
     "data": {
      "image/png": "[encoded data removed]",
      "text/plain": [
       "<Figure size 1000x600 with 1 Axes>"
      ]
     },
     "metadata": {},
     "output_type": "display_data"
    }
   ],
   "source": [
    "# 형태소 분석\n",
    "docs_list3 = []\n",
    "okt = Okt()\n",
    "for text in data_list:\n",
    "    morphemes = okt.morphs(text)  # 모든 형태소 추출\n",
    "    docs_list3.append(' '.join(morphemes))\n",
    "\n",
    "# 형태소 문자열로 결합\n",
    "all_morphemes = ' '.join(docs_list3)\n",
    "\n",
    "# 형태소 빈도 세기\n",
    "morpheme_counts = Counter(all_morphemes.split())\n",
    "\n",
    "# 데이터프레임으로 변환\n",
    "df_morpheme_counts = pd.DataFrame(morpheme_counts.items(), columns=['morpheme', 'count'])\n",
    "df_morpheme_counts = df_morpheme_counts.sort_values(by='count', ascending=False)\n",
    "\n",
    "# 빈도 시각화 (상위 10개 형태소)\n",
    "plt.figure(figsize=(10, 6))\n",
    "plt.barh(df_morpheme_counts['morpheme'][:10], df_morpheme_counts['count'][:10], color='skyblue')\n",
    "plt.xlabel('빈도')\n",
    "plt.title('판례내용 형태소 빈도')\n",
    "plt.gca().invert_yaxis()  # 빈도순으로\n",
    "plt.show()"
   ]
  },
  {
   "cell_type": "code",
   "execution_count": 29,
   "metadata": {},
   "outputs": [
    {
     "data": {
      "image/png": "[encoded data removed]",
      "text/plain": [
       "<Figure size 1000x600 with 1 Axes>"
      ]
     },
     "metadata": {},
     "output_type": "display_data"
    }
   ],
   "source": [
    "#형태소 품사태그확인\n",
    "tag_list = []\n",
    "okt = Okt()\n",
    "for text in data_list:\n",
    "    pos_tags = okt.pos(text)\n",
    "    tags = [tag for _, tag in pos_tags]\n",
    "    tag_list.extend(tags)\n",
    "\n",
    "# 품사 태그 빈도 세기\n",
    "tag_counts = Counter(tag_list)\n",
    "\n",
    "# 데이터프레임으로 변환\n",
    "df_tag_counts = pd.DataFrame(tag_counts.items(), columns=['tag', 'count'])\n",
    "df_tag_counts = df_tag_counts.sort_values(by='count', ascending=False)\n",
    "\n",
    "# 빈도 시각화 (상위 10개 품사 태그)\n",
    "plt.figure(figsize=(10, 6))\n",
    "plt.barh(df_tag_counts['tag'][:10], df_tag_counts['count'][:10], color='skyblue')\n",
    "plt.xlabel('빈도')\n",
    "plt.title('품사 태그 빈도')\n",
    "plt.gca().invert_yaxis()  # 빈도순으로\n",
    "plt.show()"
   ]
  },
  {
   "cell_type": "code",
   "execution_count": null,
   "metadata": {},
   "outputs": [],
   "source": [
    "N-gram"
   ]
  },
  {
   "cell_type": "code",
   "execution_count": 19,
   "metadata": {},
   "outputs": [],
   "source": [
    "import pandas as pd\n",
    "from collections import Counter\n",
    "from konlpy.tag import Okt\n",
    "import matplotlib.pyplot as plt"
   ]
  },
  {
   "cell_type": "code",
   "execution_count": 21,
   "metadata": {},
   "outputs": [
    {
     "name": "stdout",
     "output_type": "stream",
     "text": [
      "<class 'pandas.core.frame.DataFrame'>\n",
      "RangeIndex: 5016 entries, 0 to 5015\n",
      "Data columns (total 12 columns):\n",
      " #   Column        Non-Null Count  Dtype \n",
      "---  ------        --------------  ----- \n",
      " 0   판례정보일련번호      5016 non-null   int64 \n",
      " 1   사건번호          5016 non-null   object\n",
      " 2   선고            5016 non-null   object\n",
      " 3   판결유형          5016 non-null   object\n",
      " 4   판시사항          3725 non-null   object\n",
      " 5   판결요지          3054 non-null   object\n",
      " 6   참조조문          3724 non-null   object\n",
      " 7   참조판례          2450 non-null   object\n",
      " 8   판례내용          5016 non-null   object\n",
      " 9   판례내용_상단       5016 non-null   object\n",
      " 10  판례내용_이유       5012 non-null   object\n",
      " 11  판례내용_이유(전처리)  5016 non-null   object\n",
      "dtypes: int64(1), object(11)\n",
      "memory usage: 470.4+ KB\n"
     ]
    }
   ],
   "source": [
    "df_labor.info()"
   ]
  },
  {
   "cell_type": "code",
   "execution_count": 15,
   "metadata": {},
   "outputs": [],
   "source": [
    "data_list = df_labor2['판례내용_제거(불용어)'].copy()"
   ]
  },
  {
   "cell_type": "code",
   "execution_count": 16,
   "metadata": {},
   "outputs": [],
   "source": [
    "#위에 명사추출이랑 같음\n",
    "docs_list4 =[]\n",
    "\n",
    "okt = Okt()\n",
    "for text in data_list:\n",
    "    nouns = okt.nouns(text)\n",
    "    docs_list4.append(' '.join(nouns))"
   ]
  },
  {
   "cell_type": "code",
   "execution_count": 17,
   "metadata": {},
   "outputs": [
    {
     "name": "stdout",
     "output_type": "stream",
     "text": [
      "1-gram\n",
      "       가가  가건물   가게  가격   가결  가계약   가공   가관   가급  가까이  ...   파훼   피몽  한노총  \\\n",
      "0     0.0  0.0  0.0   0  0.0  0.0  0.0  0.0  0.0  0.0  ...  NaN  NaN  NaN   \n",
      "1     0.0  0.0  0.0   0  0.0  0.0  0.0  0.0  0.0  0.0  ...  NaN  NaN  NaN   \n",
      "2     0.0  0.0  0.0   0  0.0  0.0  0.0  0.0  0.0  0.0  ...  NaN  NaN  NaN   \n",
      "3     0.0  0.0  0.0   0  0.0  0.0  0.0  0.0  0.0  0.0  ...  NaN  NaN  NaN   \n",
      "4     0.0  0.0  0.0   0  0.0  0.0  0.0  0.0  0.0  0.0  ...  NaN  NaN  NaN   \n",
      "...   ...  ...  ...  ..  ...  ...  ...  ...  ...  ...  ...  ...  ...  ...   \n",
      "5011  NaN  NaN  NaN   0  NaN  NaN  NaN  NaN  NaN  NaN  ...  0.0  0.0  0.0   \n",
      "5012  NaN  NaN  NaN   0  NaN  NaN  NaN  NaN  NaN  NaN  ...  0.0  0.0  0.0   \n",
      "5013  NaN  NaN  NaN   1  NaN  NaN  NaN  NaN  NaN  NaN  ...  0.0  0.0  0.0   \n",
      "5014  NaN  NaN  NaN   0  NaN  NaN  NaN  NaN  NaN  NaN  ...  1.0  0.0  2.0   \n",
      "5015  NaN  NaN  NaN   0  NaN  NaN  NaN  NaN  NaN  NaN  ...  1.0  0.0  0.0   \n",
      "\n",
      "      합송리   해금   혈표   형행   혹종  황무지   회뢰  \n",
      "0     NaN  NaN  NaN  NaN  NaN  NaN  NaN  \n",
      "1     NaN  NaN  NaN  NaN  NaN  NaN  NaN  \n",
      "2     NaN  NaN  NaN  NaN  NaN  NaN  NaN  \n",
      "3     NaN  NaN  NaN  NaN  NaN  NaN  NaN  \n",
      "4     NaN  NaN  NaN  NaN  NaN  NaN  NaN  \n",
      "...   ...  ...  ...  ...  ...  ...  ...  \n",
      "5011  0.0  0.0  0.0  1.0  0.0  0.0  0.0  \n",
      "5012  0.0  0.0  0.0  0.0  0.0  0.0  0.0  \n",
      "5013  1.0  0.0  0.0  0.0  1.0  2.0  0.0  \n",
      "5014  0.0  0.0  0.0  0.0  0.0  0.0  0.0  \n",
      "5015  0.0  2.0  1.0  0.0  0.0  0.0  1.0  \n",
      "\n",
      "[5016 rows x 33048 columns]\n"
     ]
    }
   ],
   "source": [
    "import pandas as pd\n",
    "from sklearn.feature_extraction.text import CountVectorizer\n",
    "\n",
    "def process_in_chunks(docs_list4, ngram_range=(1, 1), max_features=None, chunk_size=200):\n",
    "    df_list = []  # 결과를 저장할 리스트\n",
    "    vect = CountVectorizer(ngram_range=ngram_range, max_features=max_features)\n",
    "    \n",
    "    # 데이터셋을 청크로 나누어 처리\n",
    "    for i in range(0, len(docs_list4), chunk_size):\n",
    "        chunk = docs_list4[i:i + chunk_size]\n",
    "        dtm_chunk = vect.fit_transform(chunk)  # 희소 행렬로 유지\n",
    "        vocab_chunk = vect.get_feature_names_out()\n",
    "        \n",
    "        # 희소 행렬을 데이터프레임으로 변환 (toarray()를 사용하지 않고 처리)\n",
    "        df_chunk = pd.DataFrame.sparse.from_spmatrix(dtm_chunk, columns=vocab_chunk)\n",
    "        df_list.append(df_chunk)\n",
    "    \n",
    "    # 모든 청크를 하나의 데이터프레임으로 결합\n",
    "    return pd.concat(df_list, ignore_index=True)\n",
    "\n",
    "# 1-gram 처리 (단어 수 제한, 메모리 문제 방지)\n",
    "df_1gram = process_in_chunks(docs_list4, ngram_range=(1, 1))\n",
    "\n",
    "# 결과 출력\n",
    "print(\"1-gram\")\n",
    "print(df_1gram)"
   ]
  },
  {
   "cell_type": "code",
   "execution_count": 20,
   "metadata": {},
   "outputs": [
    {
     "ename": "MemoryError",
     "evalue": "Unable to allocate 7.95 MiB for an array with shape (1041936,) and data type int64",
     "output_type": "error",
     "traceback": [
      "\u001b[1;31m---------------------------------------------------------------------------\u001b[0m",
      "\u001b[1;31mMemoryError\u001b[0m                               Traceback (most recent call last)",
      "Cell \u001b[1;32mIn[20], line 22\u001b[0m\n\u001b[0;32m     19\u001b[0m     \u001b[38;5;28;01mreturn\u001b[39;00m pd\u001b[38;5;241m.\u001b[39mconcat(df_list, ignore_index\u001b[38;5;241m=\u001b[39m\u001b[38;5;28;01mTrue\u001b[39;00m)\n\u001b[0;32m     21\u001b[0m \u001b[38;5;66;03m# 2-gram 처리 (단어 수 제한, 메모리 문제 방지)\u001b[39;00m\n\u001b[1;32m---> 22\u001b[0m df_2gram \u001b[38;5;241m=\u001b[39m \u001b[43mprocess_in_chunks\u001b[49m\u001b[43m(\u001b[49m\u001b[43mdocs_list4\u001b[49m\u001b[43m,\u001b[49m\u001b[43m \u001b[49m\u001b[43mngram_range\u001b[49m\u001b[38;5;241;43m=\u001b[39;49m\u001b[43m(\u001b[49m\u001b[38;5;241;43m2\u001b[39;49m\u001b[43m,\u001b[49m\u001b[43m \u001b[49m\u001b[38;5;241;43m2\u001b[39;49m\u001b[43m)\u001b[49m\u001b[43m)\u001b[49m\n\u001b[0;32m     24\u001b[0m \u001b[38;5;66;03m# 결과 출력\u001b[39;00m\n\u001b[0;32m     25\u001b[0m \u001b[38;5;28mprint\u001b[39m(\u001b[38;5;124m\"\u001b[39m\u001b[38;5;124m2-gram\u001b[39m\u001b[38;5;124m\"\u001b[39m)\n",
      "Cell \u001b[1;32mIn[20], line 19\u001b[0m, in \u001b[0;36mprocess_in_chunks\u001b[1;34m(docs_list4, ngram_range, max_features, chunk_size)\u001b[0m\n\u001b[0;32m     16\u001b[0m     df_list\u001b[38;5;241m.\u001b[39mappend(df_chunk)\n\u001b[0;32m     18\u001b[0m \u001b[38;5;66;03m# 모든 청크를 하나의 데이터프레임으로 결합\u001b[39;00m\n\u001b[1;32m---> 19\u001b[0m \u001b[38;5;28;01mreturn\u001b[39;00m \u001b[43mpd\u001b[49m\u001b[38;5;241;43m.\u001b[39;49m\u001b[43mconcat\u001b[49m\u001b[43m(\u001b[49m\u001b[43mdf_list\u001b[49m\u001b[43m,\u001b[49m\u001b[43m \u001b[49m\u001b[43mignore_index\u001b[49m\u001b[38;5;241;43m=\u001b[39;49m\u001b[38;5;28;43;01mTrue\u001b[39;49;00m\u001b[43m)\u001b[49m\n",
      "File \u001b[1;32mc:\\Users\\user\\anaconda3\\envs\\project\\lib\\site-packages\\pandas\\core\\reshape\\concat.py:385\u001b[0m, in \u001b[0;36mconcat\u001b[1;34m(objs, axis, join, ignore_index, keys, levels, names, verify_integrity, sort, copy)\u001b[0m\n\u001b[0;32m    370\u001b[0m     copy \u001b[38;5;241m=\u001b[39m \u001b[38;5;28;01mFalse\u001b[39;00m\n\u001b[0;32m    372\u001b[0m op \u001b[38;5;241m=\u001b[39m _Concatenator(\n\u001b[0;32m    373\u001b[0m     objs,\n\u001b[0;32m    374\u001b[0m     axis\u001b[38;5;241m=\u001b[39maxis,\n\u001b[1;32m   (...)\u001b[0m\n\u001b[0;32m    382\u001b[0m     sort\u001b[38;5;241m=\u001b[39msort,\n\u001b[0;32m    383\u001b[0m )\n\u001b[1;32m--> 385\u001b[0m \u001b[38;5;28;01mreturn\u001b[39;00m \u001b[43mop\u001b[49m\u001b[38;5;241;43m.\u001b[39;49m\u001b[43mget_result\u001b[49m\u001b[43m(\u001b[49m\u001b[43m)\u001b[49m\n",
      "File \u001b[1;32mc:\\Users\\user\\anaconda3\\envs\\project\\lib\\site-packages\\pandas\\core\\reshape\\concat.py:616\u001b[0m, in \u001b[0;36m_Concatenator.get_result\u001b[1;34m(self)\u001b[0m\n\u001b[0;32m    612\u001b[0m             indexers[ax] \u001b[38;5;241m=\u001b[39m obj_labels\u001b[38;5;241m.\u001b[39mget_indexer(new_labels)\n\u001b[0;32m    614\u001b[0m     mgrs_indexers\u001b[38;5;241m.\u001b[39mappend((obj\u001b[38;5;241m.\u001b[39m_mgr, indexers))\n\u001b[1;32m--> 616\u001b[0m new_data \u001b[38;5;241m=\u001b[39m \u001b[43mconcatenate_managers\u001b[49m\u001b[43m(\u001b[49m\n\u001b[0;32m    617\u001b[0m \u001b[43m    \u001b[49m\u001b[43mmgrs_indexers\u001b[49m\u001b[43m,\u001b[49m\u001b[43m \u001b[49m\u001b[38;5;28;43mself\u001b[39;49m\u001b[38;5;241;43m.\u001b[39;49m\u001b[43mnew_axes\u001b[49m\u001b[43m,\u001b[49m\u001b[43m \u001b[49m\u001b[43mconcat_axis\u001b[49m\u001b[38;5;241;43m=\u001b[39;49m\u001b[38;5;28;43mself\u001b[39;49m\u001b[38;5;241;43m.\u001b[39;49m\u001b[43mbm_axis\u001b[49m\u001b[43m,\u001b[49m\u001b[43m \u001b[49m\u001b[43mcopy\u001b[49m\u001b[38;5;241;43m=\u001b[39;49m\u001b[38;5;28;43mself\u001b[39;49m\u001b[38;5;241;43m.\u001b[39;49m\u001b[43mcopy\u001b[49m\n\u001b[0;32m    618\u001b[0m \u001b[43m\u001b[49m\u001b[43m)\u001b[49m\n\u001b[0;32m    619\u001b[0m \u001b[38;5;28;01mif\u001b[39;00m \u001b[38;5;129;01mnot\u001b[39;00m \u001b[38;5;28mself\u001b[39m\u001b[38;5;241m.\u001b[39mcopy \u001b[38;5;129;01mand\u001b[39;00m \u001b[38;5;129;01mnot\u001b[39;00m using_copy_on_write():\n\u001b[0;32m    620\u001b[0m     new_data\u001b[38;5;241m.\u001b[39m_consolidate_inplace()\n",
      "File \u001b[1;32mc:\\Users\\user\\anaconda3\\envs\\project\\lib\\site-packages\\pandas\\core\\internals\\concat.py:208\u001b[0m, in \u001b[0;36mconcatenate_managers\u001b[1;34m(mgrs_indexers, axes, concat_axis, copy)\u001b[0m\n\u001b[0;32m    204\u001b[0m     \u001b[38;5;28;01mreturn\u001b[39;00m _concat_managers_axis0(mgrs_indexers, axes, copy)\n\u001b[0;32m    206\u001b[0m mgrs_indexers \u001b[38;5;241m=\u001b[39m _maybe_reindex_columns_na_proxy(axes, mgrs_indexers)\n\u001b[1;32m--> 208\u001b[0m concat_plans \u001b[38;5;241m=\u001b[39m [\n\u001b[0;32m    209\u001b[0m     _get_mgr_concatenation_plan(mgr, indexers) \u001b[38;5;28;01mfor\u001b[39;00m mgr, indexers \u001b[38;5;129;01min\u001b[39;00m mgrs_indexers\n\u001b[0;32m    210\u001b[0m ]\n\u001b[0;32m    211\u001b[0m concat_plan \u001b[38;5;241m=\u001b[39m _combine_concat_plans(concat_plans)\n\u001b[0;32m    212\u001b[0m blocks \u001b[38;5;241m=\u001b[39m []\n",
      "File \u001b[1;32mc:\\Users\\user\\anaconda3\\envs\\project\\lib\\site-packages\\pandas\\core\\internals\\concat.py:209\u001b[0m, in \u001b[0;36m<listcomp>\u001b[1;34m(.0)\u001b[0m\n\u001b[0;32m    204\u001b[0m     \u001b[38;5;28;01mreturn\u001b[39;00m _concat_managers_axis0(mgrs_indexers, axes, copy)\n\u001b[0;32m    206\u001b[0m mgrs_indexers \u001b[38;5;241m=\u001b[39m _maybe_reindex_columns_na_proxy(axes, mgrs_indexers)\n\u001b[0;32m    208\u001b[0m concat_plans \u001b[38;5;241m=\u001b[39m [\n\u001b[1;32m--> 209\u001b[0m     \u001b[43m_get_mgr_concatenation_plan\u001b[49m\u001b[43m(\u001b[49m\u001b[43mmgr\u001b[49m\u001b[43m,\u001b[49m\u001b[43m \u001b[49m\u001b[43mindexers\u001b[49m\u001b[43m)\u001b[49m \u001b[38;5;28;01mfor\u001b[39;00m mgr, indexers \u001b[38;5;129;01min\u001b[39;00m mgrs_indexers\n\u001b[0;32m    210\u001b[0m ]\n\u001b[0;32m    211\u001b[0m concat_plan \u001b[38;5;241m=\u001b[39m _combine_concat_plans(concat_plans)\n\u001b[0;32m    212\u001b[0m blocks \u001b[38;5;241m=\u001b[39m []\n",
      "File \u001b[1;32mc:\\Users\\user\\anaconda3\\envs\\project\\lib\\site-packages\\pandas\\core\\internals\\concat.py:351\u001b[0m, in \u001b[0;36m_get_mgr_concatenation_plan\u001b[1;34m(mgr, indexers)\u001b[0m\n\u001b[0;32m    348\u001b[0m     blk \u001b[38;5;241m=\u001b[39m mgr\u001b[38;5;241m.\u001b[39mblocks[\u001b[38;5;241m0\u001b[39m]\n\u001b[0;32m    349\u001b[0m     \u001b[38;5;28;01mreturn\u001b[39;00m [(blk\u001b[38;5;241m.\u001b[39mmgr_locs, JoinUnit(blk, mgr_shape, indexers))]\n\u001b[1;32m--> 351\u001b[0m blknos \u001b[38;5;241m=\u001b[39m \u001b[43mmgr\u001b[49m\u001b[38;5;241;43m.\u001b[39;49m\u001b[43mblknos\u001b[49m\n\u001b[0;32m    352\u001b[0m blklocs \u001b[38;5;241m=\u001b[39m mgr\u001b[38;5;241m.\u001b[39mblklocs\n\u001b[0;32m    354\u001b[0m plan \u001b[38;5;241m=\u001b[39m []\n",
      "File \u001b[1;32mc:\\Users\\user\\anaconda3\\envs\\project\\lib\\site-packages\\pandas\\core\\internals\\managers.py:179\u001b[0m, in \u001b[0;36mBaseBlockManager.blknos\u001b[1;34m(self)\u001b[0m\n\u001b[0;32m    169\u001b[0m \u001b[38;5;250m\u001b[39m\u001b[38;5;124;03m\"\"\"\u001b[39;00m\n\u001b[0;32m    170\u001b[0m \u001b[38;5;124;03mSuppose we want to find the array corresponding to our i'th column.\u001b[39;00m\n\u001b[0;32m    171\u001b[0m \n\u001b[1;32m   (...)\u001b[0m\n\u001b[0;32m    175\u001b[0m \u001b[38;5;124;03mself.blocks[self.blknos[i]]\u001b[39;00m\n\u001b[0;32m    176\u001b[0m \u001b[38;5;124;03m\"\"\"\u001b[39;00m\n\u001b[0;32m    177\u001b[0m \u001b[38;5;28;01mif\u001b[39;00m \u001b[38;5;28mself\u001b[39m\u001b[38;5;241m.\u001b[39m_blknos \u001b[38;5;129;01mis\u001b[39;00m \u001b[38;5;28;01mNone\u001b[39;00m:\n\u001b[0;32m    178\u001b[0m     \u001b[38;5;66;03m# Note: these can be altered by other BlockManager methods.\u001b[39;00m\n\u001b[1;32m--> 179\u001b[0m     \u001b[38;5;28;43mself\u001b[39;49m\u001b[38;5;241;43m.\u001b[39;49m\u001b[43m_rebuild_blknos_and_blklocs\u001b[49m\u001b[43m(\u001b[49m\u001b[43m)\u001b[49m\n\u001b[0;32m    181\u001b[0m \u001b[38;5;28;01mreturn\u001b[39;00m \u001b[38;5;28mself\u001b[39m\u001b[38;5;241m.\u001b[39m_blknos\n",
      "File \u001b[1;32mc:\\Users\\user\\anaconda3\\envs\\project\\lib\\site-packages\\pandas\\_libs\\internals.pyx:756\u001b[0m, in \u001b[0;36mpandas._libs.internals.BlockManager._rebuild_blknos_and_blklocs\u001b[1;34m()\u001b[0m\n",
      "\u001b[1;31mMemoryError\u001b[0m: Unable to allocate 7.95 MiB for an array with shape (1041936,) and data type int64"
     ]
    }
   ],
   "source": [
    "import pandas as pd\n",
    "from sklearn.feature_extraction.text import CountVectorizer\n",
    "\n",
    "def process_in_chunks(docs_list4, ngram_range=(1, 1), max_features=None, chunk_size=10):\n",
    "    df_list = []  # 결과를 저장할 리스트\n",
    "    vect = CountVectorizer(ngram_range=ngram_range, max_features=max_features)\n",
    "    \n",
    "    # 데이터셋을 청크로 나누어 처리\n",
    "    for i in range(0, len(docs_list4), chunk_size):\n",
    "        chunk = docs_list4[i:i + chunk_size]\n",
    "        dtm_chunk = vect.fit_transform(chunk)  # 희소 행렬로 유지\n",
    "        vocab_chunk = vect.get_feature_names_out()\n",
    "        \n",
    "        # 희소 행렬을 데이터프레임으로 변환 (toarray()를 사용하지 않고 처리)\n",
    "        df_chunk = pd.DataFrame.sparse.from_spmatrix(dtm_chunk, columns=vocab_chunk)\n",
    "        df_list.append(df_chunk)\n",
    "    \n",
    "    # 모든 청크를 하나의 데이터프레임으로 결합\n",
    "    return pd.concat(df_list, ignore_index=True)\n",
    "\n",
    "# 2-gram 처리 (단어 수 제한, 메모리 문제 방지)\n",
    "df_2gram = process_in_chunks(docs_list4, ngram_range=(2, 2))\n",
    "\n",
    "# 결과 출력\n",
    "print(\"2-gram\")\n",
    "print(df_2gram)"
   ]
  },
  {
   "cell_type": "code",
   "execution_count": 18,
   "metadata": {},
   "outputs": [
    {
     "ename": "MemoryError",
     "evalue": "Unable to allocate 38.9 GiB for an array with shape (5016, 1041936) and data type int64",
     "output_type": "error",
     "traceback": [
      "\u001b[1;31m---------------------------------------------------------------------------\u001b[0m",
      "\u001b[1;31mMemoryError\u001b[0m                               Traceback (most recent call last)",
      "Cell \u001b[1;32mIn[18], line 15\u001b[0m\n\u001b[0;32m     13\u001b[0m \u001b[38;5;66;03m#2-gram\u001b[39;00m\n\u001b[0;32m     14\u001b[0m vect_2gram \u001b[38;5;241m=\u001b[39m CountVectorizer(ngram_range\u001b[38;5;241m=\u001b[39m(\u001b[38;5;241m2\u001b[39m, \u001b[38;5;241m2\u001b[39m))\n\u001b[1;32m---> 15\u001b[0m dtm_2gram \u001b[38;5;241m=\u001b[39m \u001b[43mvect_2gram\u001b[49m\u001b[38;5;241;43m.\u001b[39;49m\u001b[43mfit_transform\u001b[49m\u001b[43m(\u001b[49m\u001b[43mdocs_list4\u001b[49m\u001b[43m)\u001b[49m\u001b[38;5;241;43m.\u001b[39;49m\u001b[43mtoarray\u001b[49m\u001b[43m(\u001b[49m\u001b[43m)\u001b[49m\n\u001b[0;32m     16\u001b[0m vocab_2gram \u001b[38;5;241m=\u001b[39m vect_2gram\u001b[38;5;241m.\u001b[39mget_feature_names_out()\n\u001b[0;32m     17\u001b[0m df_2gram \u001b[38;5;241m=\u001b[39m pd\u001b[38;5;241m.\u001b[39mDataFrame(dtm_2gram, columns\u001b[38;5;241m=\u001b[39mvocab_2gram)\n",
      "File \u001b[1;32mc:\\Users\\user\\anaconda3\\envs\\project\\lib\\site-packages\\scipy\\sparse\\_compressed.py:1051\u001b[0m, in \u001b[0;36m_cs_matrix.toarray\u001b[1;34m(self, order, out)\u001b[0m\n\u001b[0;32m   1049\u001b[0m \u001b[38;5;28;01mif\u001b[39;00m out \u001b[38;5;129;01mis\u001b[39;00m \u001b[38;5;28;01mNone\u001b[39;00m \u001b[38;5;129;01mand\u001b[39;00m order \u001b[38;5;129;01mis\u001b[39;00m \u001b[38;5;28;01mNone\u001b[39;00m:\n\u001b[0;32m   1050\u001b[0m     order \u001b[38;5;241m=\u001b[39m \u001b[38;5;28mself\u001b[39m\u001b[38;5;241m.\u001b[39m_swap(\u001b[38;5;124m'\u001b[39m\u001b[38;5;124mcf\u001b[39m\u001b[38;5;124m'\u001b[39m)[\u001b[38;5;241m0\u001b[39m]\n\u001b[1;32m-> 1051\u001b[0m out \u001b[38;5;241m=\u001b[39m \u001b[38;5;28;43mself\u001b[39;49m\u001b[38;5;241;43m.\u001b[39;49m\u001b[43m_process_toarray_args\u001b[49m\u001b[43m(\u001b[49m\u001b[43morder\u001b[49m\u001b[43m,\u001b[49m\u001b[43m \u001b[49m\u001b[43mout\u001b[49m\u001b[43m)\u001b[49m\n\u001b[0;32m   1052\u001b[0m \u001b[38;5;28;01mif\u001b[39;00m \u001b[38;5;129;01mnot\u001b[39;00m (out\u001b[38;5;241m.\u001b[39mflags\u001b[38;5;241m.\u001b[39mc_contiguous \u001b[38;5;129;01mor\u001b[39;00m out\u001b[38;5;241m.\u001b[39mflags\u001b[38;5;241m.\u001b[39mf_contiguous):\n\u001b[0;32m   1053\u001b[0m     \u001b[38;5;28;01mraise\u001b[39;00m \u001b[38;5;167;01mValueError\u001b[39;00m(\u001b[38;5;124m'\u001b[39m\u001b[38;5;124mOutput array must be C or F contiguous\u001b[39m\u001b[38;5;124m'\u001b[39m)\n",
      "File \u001b[1;32mc:\\Users\\user\\anaconda3\\envs\\project\\lib\\site-packages\\scipy\\sparse\\_base.py:1298\u001b[0m, in \u001b[0;36mspmatrix._process_toarray_args\u001b[1;34m(self, order, out)\u001b[0m\n\u001b[0;32m   1296\u001b[0m     \u001b[38;5;28;01mreturn\u001b[39;00m out\n\u001b[0;32m   1297\u001b[0m \u001b[38;5;28;01melse\u001b[39;00m:\n\u001b[1;32m-> 1298\u001b[0m     \u001b[38;5;28;01mreturn\u001b[39;00m \u001b[43mnp\u001b[49m\u001b[38;5;241;43m.\u001b[39;49m\u001b[43mzeros\u001b[49m\u001b[43m(\u001b[49m\u001b[38;5;28;43mself\u001b[39;49m\u001b[38;5;241;43m.\u001b[39;49m\u001b[43mshape\u001b[49m\u001b[43m,\u001b[49m\u001b[43m \u001b[49m\u001b[43mdtype\u001b[49m\u001b[38;5;241;43m=\u001b[39;49m\u001b[38;5;28;43mself\u001b[39;49m\u001b[38;5;241;43m.\u001b[39;49m\u001b[43mdtype\u001b[49m\u001b[43m,\u001b[49m\u001b[43m \u001b[49m\u001b[43morder\u001b[49m\u001b[38;5;241;43m=\u001b[39;49m\u001b[43morder\u001b[49m\u001b[43m)\u001b[49m\n",
      "\u001b[1;31mMemoryError\u001b[0m: Unable to allocate 38.9 GiB for an array with shape (5016, 1041936) and data type int64"
     ]
    }
   ],
   "source": [
    "### 변경 전 메모리 부족으로 오류 발생 \n",
    "### 최대 단위 수 지정\n",
    "\n",
    "import pandas as pd\n",
    "from sklearn.feature_extraction.text import CountVectorizer\n",
    "\n",
    "#1-gram\n",
    "vect = CountVectorizer() \n",
    "dtm = vect.fit_transform(docs_list4).toarray()\n",
    "vocab = vect.get_feature_names_out()\n",
    "df_1gram = pd.DataFrame(dtm, columns=vocab)\n",
    "\n",
    "#2-gram\n",
    "vect_2gram = CountVectorizer(ngram_range=(2, 2))\n",
    "dtm_2gram = vect_2gram.fit_transform(docs_list4).toarray()\n",
    "vocab_2gram = vect_2gram.get_feature_names_out()\n",
    "df_2gram = pd.DataFrame(dtm_2gram, columns=vocab_2gram)\n",
    "\n",
    "#3-gram \n",
    "vect_3gram = CountVectorizer(ngram_range=(3, 3))\n",
    "dtm_3gram = vect_3gram.fit_transform(docs_list4).toarray()\n",
    "vocab_3gram = vect_3gram.get_feature_names_out()\n",
    "df_3gram = pd.DataFrame(dtm_3gram, columns=vocab_3gram)\n",
    "\n",
    "print(\"1-gram\")\n",
    "print(df_1gram)\n",
    "\n",
    "print(\"2-gram\")\n",
    "print(df_2gram)\n",
    "\n",
    "print(\"3-gram\")\n",
    "print(df_3gram)"
   ]
  },
  {
   "cell_type": "code",
   "execution_count": null,
   "metadata": {},
   "outputs": [],
   "source": [
    "# 빈도수 시각화 함수\n",
    "def plot_top_n(df, title, n=None):\n",
    "    # 각 n-gram의 빈도 계산\n",
    "    freq = df.sum().sort_values(ascending=False).head(n)\n",
    "    \n",
    "    # 시각화\n",
    "    plt.figure(figsize=(10, 6))\n",
    "    plt.barh(freq.index, freq.values, color='skyblue')\n",
    "    plt.xlabel('빈도')\n",
    "    plt.title(title)\n",
    "    plt.gca().invert_yaxis()  # 빈도순으로\n",
    "    plt.show()\n",
    "\n",
    "# 상위 20개 빈도 시각화\n",
    "plot_top_n(df_1gram, '1-gram 빈도',20)\n",
    "plot_top_n(df_2gram, '2-gram 빈도',20)\n",
    "plot_top_n(df_3gram, '3-gram 빈도',20)"
   ]
  },
  {
   "cell_type": "markdown",
   "metadata": {},
   "source": [
    "### TF-IDF, 워크클라우드(문서의 핵심단어)"
   ]
  },
  {
   "cell_type": "code",
   "execution_count": null,
   "metadata": {},
   "outputs": [],
   "source": [
    "#위에 명사추출이랑 같음\n",
    "docs_list5 =[]\n",
    "\n",
    "okt = Okt()\n",
    "for text in data_list:\n",
    "    nouns = okt.nouns(text)\n",
    "    docs_list5.append(' '.join(nouns))"
   ]
  },
  {
   "cell_type": "code",
   "execution_count": null,
   "metadata": {},
   "outputs": [],
   "source": [
    "#TF-IDF 벡터화\n",
    "from sklearn.feature_extraction.text import TfidfVectorizer\n",
    "tfidfv = TfidfVectorizer(vocabulary=vocab)\n",
    "tfidf = tfidfv.fit_transform(docs_list5).toarray()\n",
    "pd.DataFrame(tfidf, columns=vocab)"
   ]
  },
  {
   "cell_type": "code",
   "execution_count": null,
   "metadata": {},
   "outputs": [],
   "source": [
    "#TF-IDF중요단어추출\n",
    "\n",
    "import numpy as np\n",
    "tfidf_order = np.flip(np.argsort(tfidf, axis=-1), axis=-1)\n",
    "topics =[]\n",
    "n_top = 10\n",
    "for line in tfidf_order:\n",
    "  topic = [vocab[x] for x in line[:n_top]]\n",
    "  topics.append(topic)\n",
    "df = pd.DataFrame(topics)\n",
    "df"
   ]
  },
  {
   "cell_type": "code",
   "execution_count": null,
   "metadata": {},
   "outputs": [],
   "source": [
    "from wordcloud import WordCloud\n",
    "import matplotlib.pyplot as plt\n",
    "\n",
    "def plot_wordcloud_from_tfidf(tfidf, vocab):\n",
    "    # 단어별 TF-IDF 값을 저장할 딕셔너리\n",
    "    word_freq = {}\n",
    "    \n",
    "    # 모든 문서의 TF-IDF 값을 합산\n",
    "    for i in range(tfidf.shape[0]):\n",
    "        for j in range(tfidf.shape[1]):\n",
    "            if tfidf[i, j] > 0:  # TF-IDF 값이 0보다 클 때만\n",
    "                word = vocab[j]  # 단어\n",
    "                if word in word_freq:\n",
    "                    word_freq[word] += tfidf[i, j]  # 기존 값에 추가\n",
    "                else:\n",
    "                    word_freq[word] = tfidf[i, j]  # 새로 추가\n",
    "    \n",
    "    # 워드클라우드 생성\n",
    "    wordcloud = WordCloud(font_path='C:/Windows/Fonts/malgun.ttf',  # 한글 폰트 경로\n",
    "                    width=800,\n",
    "                    height=400,\n",
    "                    background_color='white',\n",
    "                    prefer_horizontal=0.8,\n",
    "                    random_state=42,\n",
    "                    colormap='viridis').generate_from_frequencies(word_freq)\n",
    "    \n",
    "\n",
    "    # 시각화\n",
    "    plt.figure(figsize=(10, 5))\n",
    "    plt.imshow(wordcloud, interpolation='bilinear')\n",
    "    plt.axis('off')\n",
    "    plt.title('워드클라우드')\n",
    "    plt.show()\n",
    "\n",
    "# 전체 문서에 대한 워드클라우드 시각화\n",
    "plot_wordcloud_from_tfidf(tfidf, vocab)"
   ]
  },
  {
   "cell_type": "markdown",
   "metadata": {},
   "source": [
    "사건종류 분포"
   ]
  },
  {
   "cell_type": "code",
   "execution_count": null,
   "metadata": {},
   "outputs": [],
   "source": [
    "import pandas as pd\n",
    "\n",
    "# CSV 파일 경로\n",
    "csv_file_path1 = r'C:\\Users\\82102\\Downloads\\새 폴더 (2)\\lawSearch_jh.csv' #해당하는 경로로 변경\n",
    "csv_file_path2 = r'C:\\Users\\82102\\Downloads\\새 폴더 (2)\\lawService_jh.csv' #해당하는 경로로 변경\n",
    "\n",
    "# CSV 파일 불러오기\n",
    "df_search = pd.read_csv(csv_file_path1)\n",
    "df_service = pd.read_csv(csv_file_path2)\n",
    "\n",
    "df_filtered = df_service[df_service.apply(lambda row: row.astype(str).str.contains('상속').any(), axis=1)]\n",
    "matching_df = df_search[df_search['사건번호'].isin(df_filtered['사건번호'])]\n",
    "\n",
    "# 불러온 데이터 확인\n",
    "print(matching_df.head())"
   ]
  },
  {
   "cell_type": "code",
   "execution_count": null,
   "metadata": {},
   "outputs": [],
   "source": [
    "matching_df.info()"
   ]
  },
  {
   "cell_type": "code",
   "execution_count": null,
   "metadata": {},
   "outputs": [],
   "source": [
    "df_filtered.info()"
   ]
  },
  {
   "cell_type": "code",
   "execution_count": null,
   "metadata": {},
   "outputs": [],
   "source": [
    "df_filtered.info()"
   ]
  },
  {
   "cell_type": "code",
   "execution_count": null,
   "metadata": {},
   "outputs": [],
   "source": [
    "case_counts = matching_df['사건종류명'].value_counts()\n",
    "\n",
    "plt.figure(figsize=(10, 6))\n",
    "case_counts.plot(kind='bar', color='skyblue')\n",
    "plt.xlabel('사건종류명')\n",
    "plt.ylabel('빈도수')\n",
    "plt.title('사건종류명 빈도수')\n",
    "plt.xticks(rotation=45)\n",
    "plt.tight_layout()  # 레이아웃 조정\n",
    "plt.show()"
   ]
  },
  {
   "cell_type": "markdown",
   "metadata": {},
   "source": [
    "### 심급빈도"
   ]
  },
  {
   "cell_type": "markdown",
   "metadata": {},
   "source": [
    "# 심급빈도\n",
    "matching_df['법원명'].value_counts()"
   ]
  },
  {
   "cell_type": "code",
   "execution_count": null,
   "metadata": {},
   "outputs": [],
   "source": [
    "# 법원명카운트(3심과 관련없는 가정법원은 포함하지않았음)\n",
    "supreme_count = matching_df[matching_df['법원명'].str.contains('대법원', na=False)].shape[0]\n",
    "high_count = matching_df[matching_df['법원명'].str.contains('고등', na=False)].shape[0]\n",
    "local_count = matching_df[matching_df['법원명'].str.contains('지방', na=False)].shape[0]\n",
    "\n",
    "print('상속:',supreme_count,high_count,local_count)\n",
    "\n",
    "# 전체 법원명카운트\n",
    "total_supreme_count = df_search[df_search['법원명'].str.contains('대법원', na=False)].shape[0]\n",
    "total_high_count = df_search[df_search['법원명'].str.contains('고등', na=False)].shape[0]\n",
    "total_local_count = df_search[df_search['법원명'].str.contains('지방', na=False)].shape[0]\n",
    "\n",
    "print('전체:',total_supreme_count,total_high_count,total_local_count)"
   ]
  },
  {
   "cell_type": "code",
   "execution_count": null,
   "metadata": {},
   "outputs": [],
   "source": [
    "court_types = ['대법원', '고등법원', '지방법원']\n",
    "court_counts = [supreme_count, high_count, local_count]\n",
    "total_counts = [total_supreme_count, total_high_count, total_local_count]\n",
    "\n",
    "# 바그래프 생성\n",
    "plt.figure(figsize=(10, 6))\n",
    "plt.bar(court_types, total_counts, width=0.4, label='전체', color='lightgrey', alpha=0.7)\n",
    "plt.bar(court_types, court_counts, width=0.4, label='상속', color='salmon', alpha=0.7)\n",
    "\n",
    "plt.ylabel('빈도수')\n",
    "plt.title('법원 종류별 카운트')\n",
    "plt.legend()\n",
    "plt.tight_layout()  # 레이아웃 조정\n",
    "plt.show()"
   ]
  }
 ],
 "metadata": {
  "kernelspec": {
   "display_name": "project",
   "language": "python",
   "name": "python3"
  },
  "language_info": {
   "codemirror_mode": {
    "name": "ipython",
    "version": 3
   },
   "file_extension": ".py",
   "mimetype": "text/x-python",
   "name": "python",
   "nbconvert_exporter": "python",
   "pygments_lexer": "ipython3",
   "version": "3.8.20"
  }
 },
 "nbformat": 4,
 "nbformat_minor": 2
}
