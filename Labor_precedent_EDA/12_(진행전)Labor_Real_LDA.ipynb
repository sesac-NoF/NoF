{
 "cells": [
  {
   "cell_type": "markdown",
   "metadata": {},
   "source": [
    "* 진형님 LDA 참고하여 진행\n",
    "* 동현님 gensim 파일 참고하여 진행"
   ]
  },
  {
   "cell_type": "markdown",
   "metadata": {},
   "source": [
    "# 1. 데이터 로드"
   ]
  },
  {
   "cell_type": "markdown",
   "metadata": {},
   "source": [
    "저장된 데이터 가져오기"
   ]
  },
  {
   "cell_type": "code",
   "execution_count": 2,
   "metadata": {},
   "outputs": [],
   "source": [
    "import pandas as pd\n",
    "import re"
   ]
  },
  {
   "cell_type": "code",
   "execution_count": 3,
   "metadata": {},
   "outputs": [],
   "source": [
    "import matplotlib.pyplot as plt\n",
    "\n",
    "# 한글 깨짐 방지\n",
    "plt.rcParams['font.family'] = \"Malgun Gothic\"\n",
    "\n",
    "# 마이너스 깨짐 방지\n",
    "plt.rcParams['axes.unicode_minus'] = False"
   ]
  },
  {
   "cell_type": "code",
   "execution_count": 4,
   "metadata": {},
   "outputs": [],
   "source": [
    "# 파일은 전처리 완료된 판례본문 / 판례이유 분리하여 열로 저장한 것\n",
    "df_labor = pd.read_csv(r'C:\\Users\\user\\Desktop\\프로젝트 기획서\\NoF\\data\\df_labor_real.csv', encoding='utf-8')"
   ]
  },
  {
   "cell_type": "code",
   "execution_count": 9,
   "metadata": {},
   "outputs": [
    {
     "name": "stdout",
     "output_type": "stream",
     "text": [
      "<class 'pandas.core.frame.DataFrame'>\n",
      "RangeIndex: 5016 entries, 0 to 5015\n",
      "Data columns (total 12 columns):\n",
      " #   Column        Non-Null Count  Dtype \n",
      "---  ------        --------------  ----- \n",
      " 0   판례정보일련번호      5016 non-null   int64 \n",
      " 1   사건번호          5016 non-null   object\n",
      " 2   선고            5016 non-null   object\n",
      " 3   판결유형          5016 non-null   object\n",
      " 4   판시사항          3725 non-null   object\n",
      " 5   판결요지          3054 non-null   object\n",
      " 6   참조조문          3724 non-null   object\n",
      " 7   참조판례          2450 non-null   object\n",
      " 8   판례내용          5016 non-null   object\n",
      " 9   판례내용_상단       5016 non-null   object\n",
      " 10  판례내용_이유       5012 non-null   object\n",
      " 11  판례내용_이유(전처리)  5016 non-null   object\n",
      "dtypes: int64(1), object(11)\n",
      "memory usage: 470.4+ KB\n"
     ]
    }
   ],
   "source": [
    "df_labor.info()"
   ]
  }
 ],
 "metadata": {
  "kernelspec": {
   "display_name": "project",
   "language": "python",
   "name": "python3"
  },
  "language_info": {
   "codemirror_mode": {
    "name": "ipython",
    "version": 3
   },
   "file_extension": ".py",
   "mimetype": "text/x-python",
   "name": "python",
   "nbconvert_exporter": "python",
   "pygments_lexer": "ipython3",
   "version": "3.8.20"
  }
 },
 "nbformat": 4,
 "nbformat_minor": 2
}
