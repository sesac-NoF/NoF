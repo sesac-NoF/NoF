{
 "cells": [
  {
   "cell_type": "markdown",
   "metadata": {},
   "source": [
    "# 1. 데이터로드"
   ]
  },
  {
   "cell_type": "code",
   "execution_count": 1,
   "metadata": {},
   "outputs": [],
   "source": [
    "# 데이터 처리 및 분석\n",
    "import pandas as pd\n",
    "import numpy as np\n",
    "import sys, os\n",
    "\n",
    "# 데이터 시각화\n",
    "import matplotlib.pyplot as plt\n",
    "import seaborn as sns\n",
    "\n",
    "# 문자\n",
    "import re"
   ]
  },
  {
   "cell_type": "code",
   "execution_count": 2,
   "metadata": {},
   "outputs": [],
   "source": [
    "import matplotlib.pyplot as plt\n",
    "\n",
    "# 한글 깨짐 방지\n",
    "plt.rcParams['font.family'] = \"Malgun Gothic\"\n",
    "\n",
    "# 마이너스 깨짐 방지\n",
    "plt.rcParams['axes.unicode_minus'] = False"
   ]
  },
  {
   "cell_type": "code",
   "execution_count": 3,
   "metadata": {},
   "outputs": [],
   "source": [
    "df = pd.read_csv(r'C:\\Users\\user\\Desktop\\프로젝트 기획서\\NoF\\data\\df_labor_keyword.csv')"
   ]
  },
  {
   "cell_type": "code",
   "execution_count": 68,
   "metadata": {},
   "outputs": [
    {
     "name": "stdout",
     "output_type": "stream",
     "text": [
      "<class 'pandas.core.frame.DataFrame'>\n",
      "RangeIndex: 5016 entries, 0 to 5015\n",
      "Data columns (total 16 columns):\n",
      " #   Column         Non-Null Count  Dtype \n",
      "---  ------         --------------  ----- \n",
      " 0   판례정보일련번호       5016 non-null   int64 \n",
      " 1   사건번호           5016 non-null   object\n",
      " 2   선고             5016 non-null   object\n",
      " 3   판결유형           5016 non-null   object\n",
      " 4   판시사항           3725 non-null   object\n",
      " 5   판결요지           3054 non-null   object\n",
      " 6   참조조문           3724 non-null   object\n",
      " 7   참조판례           2450 non-null   object\n",
      " 8   판례내용           5016 non-null   object\n",
      " 9   판례내용_상단        5016 non-null   object\n",
      " 10  판례내용_이유        5012 non-null   object\n",
      " 11  판례내용_이유_전처리    5016 non-null   object\n",
      " 12  판례내용_제거_불용어    5016 non-null   object\n",
      " 13  판례내용_이유_불용어제거  5012 non-null   object\n",
      " 14  클러스터           5016 non-null   int64 \n",
      " 15  키워드            5016 non-null   object\n",
      "dtypes: int64(2), object(14)\n",
      "memory usage: 627.1+ KB\n"
     ]
    }
   ],
   "source": [
    "df.info()"
   ]
  },
  {
   "cell_type": "code",
   "execution_count": 74,
   "metadata": {},
   "outputs": [],
   "source": [
    "df_labor_reference = df[['사건번호','참조조문','참조판례']].copy()"
   ]
  },
  {
   "cell_type": "code",
   "execution_count": 75,
   "metadata": {},
   "outputs": [
    {
     "name": "stdout",
     "output_type": "stream",
     "text": [
      "<class 'pandas.core.frame.DataFrame'>\n"
     ]
    }
   ],
   "source": [
    "print(type(df_labor_reference))"
   ]
  },
  {
   "cell_type": "code",
   "execution_count": 76,
   "metadata": {},
   "outputs": [
    {
     "data": {
      "text/html": [
       "<div>\n",
       "<style scoped>\n",
       "    .dataframe tbody tr th:only-of-type {\n",
       "        vertical-align: middle;\n",
       "    }\n",
       "\n",
       "    .dataframe tbody tr th {\n",
       "        vertical-align: top;\n",
       "    }\n",
       "\n",
       "    .dataframe thead th {\n",
       "        text-align: right;\n",
       "    }\n",
       "</style>\n",
       "<table border=\"1\" class=\"dataframe\">\n",
       "  <thead>\n",
       "    <tr style=\"text-align: right;\">\n",
       "      <th></th>\n",
       "      <th>사건번호</th>\n",
       "      <th>참조조문</th>\n",
       "      <th>참조판례</th>\n",
       "    </tr>\n",
       "  </thead>\n",
       "  <tbody>\n",
       "    <tr>\n",
       "      <th>0</th>\n",
       "      <td>2024두32973</td>\n",
       "      <td>[1] 근로기준법 제28조, 제29조, 노동위원회법 제23조 / [2] 근로기준법 제2조 제1항 제1호 / [3] 근로기준법 제2조 제1항 제1호, 제28조&lt;br/&gt;</td>\n",
       "      <td>[1] 대법원 1996. 8. 23. 선고 95누11238 판결(공1996하, 2884) / [2] 대법원 1999. 2. 9. 선고 97다56235 판결(공1999상, 451), 대법원 2006. 12. 7. 선고 2004다29736 판결(공2007상, 104), 대법원 2008. 10. 23. 선고 2007다7973 판결, 대법원 2023. 8. 18. 선고 2019다252004 판결(공2023하, 1640)&lt;br/&gt;</td>\n",
       "    </tr>\n",
       "    <tr>\n",
       "      <th>1</th>\n",
       "      <td>2024다211908, 211915, 211922</td>\n",
       "      <td>[1] 파견근로자 보호 등에 관한 법률 제6조의2 제1항, 민법 제390조, 제393조 / [2] 파견근로자 보호 등에 관한 법률 제6조의2 제1항, 민사소송법 제248조[소의 이익], 민법 제162조 제1항&lt;br/&gt;</td>\n",
       "      <td>[1] 대법원 2007. 11. 16. 선고 2005다3229 판결, 대법원 2011. 4. 28. 선고 2009다98652 판결(공2011상, 1022), 대법원 2017. 3. 22. 선고 2015다232859 판결, 대법원 2024. 3. 12. 선고 2019다223303, 223310 판결(공2024상, 599) / [2] 대법원 2015. 11. 26. 선고 2013다14965 판결(공2016상, 4), 대법원 2024. 7. 11. 선고 2021다274069 판결(2024하, 1240)&lt;br/&gt;</td>\n",
       "    </tr>\n",
       "    <tr>\n",
       "      <th>2</th>\n",
       "      <td>2020다287921</td>\n",
       "      <td>구 파견근로자 보호 등에 관한 법률(2006. 12. 21. 법률 제8076호로 개정되기 전의 것) 제6조 제3항(현행 제6조의2 제1항 제3호, 제2항 참조), 민법 제413조&lt;br/&gt;</td>\n",
       "      <td>대법원 2024. 3. 12. 선고 2019다223303, 223310 판결(공2024상, 599)&lt;br/&gt;</td>\n",
       "    </tr>\n",
       "    <tr>\n",
       "      <th>3</th>\n",
       "      <td>2021다274069</td>\n",
       "      <td>[1] 파견근로자 보호 등에 관한 법률 제2조 제1호 / [2] 파견근로자 보호 등에 관한 법률 제2조 제1호 / [3] 파견근로자 보호 등에 관한 법률 제6조의2 제1항, 민사소송법 제248조[소의 이익], 민법 제162조 제1항&lt;br/&gt;</td>\n",
       "      <td>[1][3] 대법원 2015. 11. 26. 선고 2013다14965 판결(공2016상, 4) / [1] 대법원 2015. 2. 26. 선고 2010다106436 판결(공2015상, 515)&lt;br/&gt;</td>\n",
       "    </tr>\n",
       "    <tr>\n",
       "      <th>4</th>\n",
       "      <td>2023다217312</td>\n",
       "      <td>[1] 근로기준법 제18조 / [2] 근로기준법 제18조, 구 고등교육법 시행령(2024. 2. 20. 대통령령 제34227호로 개정되기 전의 것) 제6조 제1항&lt;br/&gt;</td>\n",
       "      <td>NaN</td>\n",
       "    </tr>\n",
       "  </tbody>\n",
       "</table>\n",
       "</div>"
      ],
      "text/plain": [
       "                          사건번호  \\\n",
       "0                   2024두32973   \n",
       "1  2024다211908, 211915, 211922   \n",
       "2                  2020다287921   \n",
       "3                  2021다274069   \n",
       "4                  2023다217312   \n",
       "\n",
       "                                                                                                                                      참조조문  \\\n",
       "0                                             [1] 근로기준법 제28조, 제29조, 노동위원회법 제23조 / [2] 근로기준법 제2조 제1항 제1호 / [3] 근로기준법 제2조 제1항 제1호, 제28조<br/>   \n",
       "1                [1] 파견근로자 보호 등에 관한 법률 제6조의2 제1항, 민법 제390조, 제393조 / [2] 파견근로자 보호 등에 관한 법률 제6조의2 제1항, 민사소송법 제248조[소의 이익], 민법 제162조 제1항<br/>   \n",
       "2                                 구 파견근로자 보호 등에 관한 법률(2006. 12. 21. 법률 제8076호로 개정되기 전의 것) 제6조 제3항(현행 제6조의2 제1항 제3호, 제2항 참조), 민법 제413조<br/>   \n",
       "3   [1] 파견근로자 보호 등에 관한 법률 제2조 제1호 / [2] 파견근로자 보호 등에 관한 법률 제2조 제1호 / [3] 파견근로자 보호 등에 관한 법률 제6조의2 제1항, 민사소송법 제248조[소의 이익], 민법 제162조 제1항<br/>   \n",
       "4                                          [1] 근로기준법 제18조 / [2] 근로기준법 제18조, 구 고등교육법 시행령(2024. 2. 20. 대통령령 제34227호로 개정되기 전의 것) 제6조 제1항<br/>   \n",
       "\n",
       "                                                                                                                                                                                                                                                                                             참조판례  \n",
       "0                                                   [1] 대법원 1996. 8. 23. 선고 95누11238 판결(공1996하, 2884) / [2] 대법원 1999. 2. 9. 선고 97다56235 판결(공1999상, 451), 대법원 2006. 12. 7. 선고 2004다29736 판결(공2007상, 104), 대법원 2008. 10. 23. 선고 2007다7973 판결, 대법원 2023. 8. 18. 선고 2019다252004 판결(공2023하, 1640)<br/>  \n",
       "1   [1] 대법원 2007. 11. 16. 선고 2005다3229 판결, 대법원 2011. 4. 28. 선고 2009다98652 판결(공2011상, 1022), 대법원 2017. 3. 22. 선고 2015다232859 판결, 대법원 2024. 3. 12. 선고 2019다223303, 223310 판결(공2024상, 599) / [2] 대법원 2015. 11. 26. 선고 2013다14965 판결(공2016상, 4), 대법원 2024. 7. 11. 선고 2021다274069 판결(2024하, 1240)<br/>  \n",
       "2                                                                                                                                                                                                                                    대법원 2024. 3. 12. 선고 2019다223303, 223310 판결(공2024상, 599)<br/>  \n",
       "3                                                                                                                                                                                 [1][3] 대법원 2015. 11. 26. 선고 2013다14965 판결(공2016상, 4) / [1] 대법원 2015. 2. 26. 선고 2010다106436 판결(공2015상, 515)<br/>  \n",
       "4                                                                                                                                                                                                                                                                                             NaN  "
      ]
     },
     "execution_count": 76,
     "metadata": {},
     "output_type": "execute_result"
    }
   ],
   "source": [
    "df_labor_reference.head()"
   ]
  },
  {
   "cell_type": "markdown",
   "metadata": {},
   "source": [
    "# 2. 참조조문 "
   ]
  },
  {
   "cell_type": "markdown",
   "metadata": {},
   "source": [
    "전처리"
   ]
  },
  {
   "cell_type": "code",
   "execution_count": 80,
   "metadata": {},
   "outputs": [
    {
     "data": {
      "text/html": [
       "<div>\n",
       "<style scoped>\n",
       "    .dataframe tbody tr th:only-of-type {\n",
       "        vertical-align: middle;\n",
       "    }\n",
       "\n",
       "    .dataframe tbody tr th {\n",
       "        vertical-align: top;\n",
       "    }\n",
       "\n",
       "    .dataframe thead th {\n",
       "        text-align: right;\n",
       "    }\n",
       "</style>\n",
       "<table border=\"1\" class=\"dataframe\">\n",
       "  <thead>\n",
       "    <tr style=\"text-align: right;\">\n",
       "      <th></th>\n",
       "      <th>사건번호</th>\n",
       "      <th>참조조문</th>\n",
       "    </tr>\n",
       "  </thead>\n",
       "  <tbody>\n",
       "    <tr>\n",
       "      <th>0</th>\n",
       "      <td>2024두32973</td>\n",
       "      <td>[1] 근로기준법 제28조, 제29조, 노동위원회법 제23조 / [2] 근로기준법 제2조 제1항 제1호 / [3] 근로기준법 제2조 제1항 제1호, 제28조&lt;br/&gt;</td>\n",
       "    </tr>\n",
       "    <tr>\n",
       "      <th>1</th>\n",
       "      <td>2024다211908, 211915, 211922</td>\n",
       "      <td>[1] 파견근로자 보호 등에 관한 법률 제6조의2 제1항, 민법 제390조, 제393조 / [2] 파견근로자 보호 등에 관한 법률 제6조의2 제1항, 민사소송법 제248조[소의 이익], 민법 제162조 제1항&lt;br/&gt;</td>\n",
       "    </tr>\n",
       "  </tbody>\n",
       "</table>\n",
       "</div>"
      ],
      "text/plain": [
       "                          사건번호  \\\n",
       "0                   2024두32973   \n",
       "1  2024다211908, 211915, 211922   \n",
       "\n",
       "                                                                                                                         참조조문  \n",
       "0                                [1] 근로기준법 제28조, 제29조, 노동위원회법 제23조 / [2] 근로기준법 제2조 제1항 제1호 / [3] 근로기준법 제2조 제1항 제1호, 제28조<br/>  \n",
       "1   [1] 파견근로자 보호 등에 관한 법률 제6조의2 제1항, 민법 제390조, 제393조 / [2] 파견근로자 보호 등에 관한 법률 제6조의2 제1항, 민사소송법 제248조[소의 이익], 민법 제162조 제1항<br/>  "
      ]
     },
     "execution_count": 80,
     "metadata": {},
     "output_type": "execute_result"
    }
   ],
   "source": [
    "df_labor_reference[['사건번호','참조조문']].iloc[:2]"
   ]
  },
  {
   "cell_type": "code",
   "execution_count": null,
   "metadata": {},
   "outputs": [],
   "source": [
    "data = df_labor_reference[['사건번호','참조조문']]"
   ]
  },
  {
   "cell_type": "code",
   "execution_count": 84,
   "metadata": {},
   "outputs": [
    {
     "name": "stdout",
     "output_type": "stream",
     "text": [
      "<class 'pandas.core.frame.DataFrame'>\n",
      "RangeIndex: 5016 entries, 0 to 5015\n",
      "Data columns (total 2 columns):\n",
      " #   Column  Non-Null Count  Dtype \n",
      "---  ------  --------------  ----- \n",
      " 0   사건번호    5016 non-null   object\n",
      " 1   참조조문    3724 non-null   object\n",
      "dtypes: object(2)\n",
      "memory usage: 78.5+ KB\n"
     ]
    }
   ],
   "source": [
    "data.info()"
   ]
  },
  {
   "cell_type": "markdown",
   "metadata": {},
   "source": [
    "* 결측값 처리"
   ]
  },
  {
   "cell_type": "code",
   "execution_count": 90,
   "metadata": {},
   "outputs": [],
   "source": [
    "data['참조조문']=df_labor_reference['참조조문'].fillna('참조조문 없음')"
   ]
  },
  {
   "cell_type": "code",
   "execution_count": 92,
   "metadata": {},
   "outputs": [
    {
     "data": {
      "text/plain": [
       "Index(['사건번호', '참조조문', 'split_text'], dtype='object')"
      ]
     },
     "execution_count": 92,
     "metadata": {},
     "output_type": "execute_result"
    }
   ],
   "source": [
    "data.columns"
   ]
  },
  {
   "cell_type": "markdown",
   "metadata": {},
   "source": [
    "* [숫자], / 로 나누기 "
   ]
  },
  {
   "cell_type": "code",
   "execution_count": 94,
   "metadata": {},
   "outputs": [
    {
     "name": "stdout",
     "output_type": "stream",
     "text": [
      "                                                                                                                                         참조조문  \\\n",
      "0                                                [1] 근로기준법 제28조, 제29조, 노동위원회법 제23조 / [2] 근로기준법 제2조 제1항 제1호 / [3] 근로기준법 제2조 제1항 제1호, 제28조<br/>   \n",
      "1                   [1] 파견근로자 보호 등에 관한 법률 제6조의2 제1항, 민법 제390조, 제393조 / [2] 파견근로자 보호 등에 관한 법률 제6조의2 제1항, 민사소송법 제248조[소의 이익], 민법 제162조 제1항<br/>   \n",
      "2                                    구 파견근로자 보호 등에 관한 법률(2006. 12. 21. 법률 제8076호로 개정되기 전의 것) 제6조 제3항(현행 제6조의2 제1항 제3호, 제2항 참조), 민법 제413조<br/>   \n",
      "3      [1] 파견근로자 보호 등에 관한 법률 제2조 제1호 / [2] 파견근로자 보호 등에 관한 법률 제2조 제1호 / [3] 파견근로자 보호 등에 관한 법률 제6조의2 제1항, 민사소송법 제248조[소의 이익], 민법 제162조 제1항<br/>   \n",
      "4                                             [1] 근로기준법 제18조 / [2] 근로기준법 제18조, 구 고등교육법 시행령(2024. 2. 20. 대통령령 제34227호로 개정되기 전의 것) 제6조 제1항<br/>   \n",
      "...                                                                                                                                       ...   \n",
      "5011                                                                                                                        소득세법(구) 제32조<br/>   \n",
      "5012                                              근로기준법 제28조\\n, \\n        \\n        \\n        제94조\\n, \\n        \\n        \\n        제87조<br/>   \n",
      "5013                                                                                        행정소송법(법률 제213호) 제12조, \\n        귀속재산처리법 제15조<br/>   \n",
      "5014                                                                                                       노동조합법 제33조, 제34조, 노동위원회규칙 제5조<br/>   \n",
      "5015                                                                                                                            형법 제129조<br/>   \n",
      "\n",
      "                                                                                                                       split_text  \n",
      "0                                               [근로기준법 제28조, 제29조, 노동위원회법 제23조, 근로기준법 제2조 제1항 제1호, 근로기준법 제2조 제1항 제1호, 제28조<br, >]  \n",
      "1             [파견근로자 보호 등에 관한 법률 제6조의2 제1항, 민법 제390조, 제393조, 파견근로자 보호 등에 관한 법률 제6조의2 제1항, 민사소송법 제248조[소의 이익], 민법 제162조 제1항<br, >]  \n",
      "2                     [구 파견근로자 보호 등에 관한 법률(2006. 12. 21. 법률 제8076호로 개정되기 전의 것) 제6조 제3항(현행 제6조의2 제1항 제3호, 제2항 참조), 민법 제413조<br, >]  \n",
      "3     [파견근로자 보호 등에 관한 법률 제2조 제1호, 파견근로자 보호 등에 관한 법률 제2조 제1호, 파견근로자 보호 등에 관한 법률 제6조의2 제1항, 민사소송법 제248조[소의 이익], 민법 제162조 제1항<br, >]  \n",
      "4                                       [근로기준법 제18조, 근로기준법 제18조, 구 고등교육법 시행령(2024. 2. 20. 대통령령 제34227호로 개정되기 전의 것) 제6조 제1항<br, >]  \n",
      "...                                                                                                                           ...  \n",
      "5011                                                                                                         [소득세법(구) 제32조<br, >]  \n",
      "5012                               [근로기준법 제28조\\n, \\n        \\n        \\n        제94조\\n, \\n        \\n        \\n        제87조<br, >]  \n",
      "5013                                                                         [행정소송법(법률 제213호) 제12조, \\n        귀속재산처리법 제15조<br, >]  \n",
      "5014                                                                                        [노동조합법 제33조, 제34조, 노동위원회규칙 제5조<br, >]  \n",
      "5015                                                                                                             [형법 제129조<br, >]  \n",
      "\n",
      "[5016 rows x 2 columns]\n"
     ]
    }
   ],
   "source": [
    "import re\n",
    "import pandas as pd\n",
    "\n",
    "# 분리 함수 정의\n",
    "def split_text(text):\n",
    "    # 대괄호 안 숫자 기준으로 문장 분리\n",
    "    sentences_by_brackets = re.split(r'\\[\\d+\\]', text)\n",
    "    sentences_by_brackets = [s.strip() for s in sentences_by_brackets if s.strip()]  # 공백 제거\n",
    "    \n",
    "    # 각 결과를 슬래시(/)로 다시 분리\n",
    "    split_sentences = []\n",
    "    for sentence in sentences_by_brackets:\n",
    "        split_sentences.extend([s.strip() for s in sentence.split('/') if s.strip()])\n",
    "    \n",
    "    return split_sentences\n",
    "\n",
    "# 각 행에 대해 분리 함수 적용\n",
    "data['split_text'] = data['참조조문'].apply(split_text)\n",
    "\n",
    "print(data[['참조조문', 'split_text']])\n"
   ]
  },
  {
   "cell_type": "code",
   "execution_count": null,
   "metadata": {},
   "outputs": [],
   "source": [
    "data['split_text']"
   ]
  },
  {
   "cell_type": "code",
   "execution_count": null,
   "metadata": {},
   "outputs": [
    {
     "ename": "NameError",
     "evalue": "name 'data' is not defined",
     "output_type": "error",
     "traceback": [
      "\u001b[1;31m---------------------------------------------------------------------------\u001b[0m",
      "\u001b[1;31mNameError\u001b[0m                                 Traceback (most recent call last)",
      "Cell \u001b[1;32mIn[1], line 1\u001b[0m\n\u001b[1;32m----> 1\u001b[0m data[\u001b[38;5;124m'\u001b[39m\u001b[38;5;124msplit_text\u001b[39m\u001b[38;5;124m'\u001b[39m] \u001b[38;5;241m=\u001b[39m \u001b[43mdata\u001b[49m[\u001b[38;5;124m'\u001b[39m\u001b[38;5;124msplit_text\u001b[39m\u001b[38;5;124m'\u001b[39m]\u001b[38;5;241m.\u001b[39mstr\u001b[38;5;241m.\u001b[39mreplace(\u001b[38;5;124mr\u001b[39m\u001b[38;5;124m'\u001b[39m\u001b[38;5;124m\\\u001b[39m\u001b[38;5;124ms\u001b[39m\u001b[38;5;124m{\u001b[39m\u001b[38;5;124m2,}\u001b[39m\u001b[38;5;124m'\u001b[39m, \u001b[38;5;124m'\u001b[39m\u001b[38;5;124m \u001b[39m\u001b[38;5;124m'\u001b[39m, regex\u001b[38;5;241m=\u001b[39m\u001b[38;5;28;01mTrue\u001b[39;00m)\n\u001b[0;32m      2\u001b[0m data[\u001b[38;5;124m'\u001b[39m\u001b[38;5;124msplit_text\u001b[39m\u001b[38;5;124m'\u001b[39m]\n",
      "\u001b[1;31mNameError\u001b[0m: name 'data' is not defined"
     ]
    }
   ],
   "source": [
    "data['split_text'] = data['split_text'].str.replace(r'\\s{2,}', ' ', regex=True)\n"
   ]
  },
  {
   "cell_type": "code",
   "execution_count": null,
   "metadata": {},
   "outputs": [],
   "source": [
    "data['split_text']"
   ]
  },
  {
   "cell_type": "code",
   "execution_count": null,
   "metadata": {},
   "outputs": [],
   "source": [
    "# 전처리 함수 정의\n",
    "def preprocess_text(text):\n",
    "    if pd.isna(text):  # NaN 값에 대한 예외 처리\n",
    "        return text\n",
    "    \n",
    "    # text가 문자열인지 확인\n",
    "    if isinstance(text, str):\n",
    "        text = text.replace('<br/>', '')\n",
    "        text = text.replace('\\n', '')\n",
    "        text = text.replace('\\r', '')\n",
    "    \n",
    "    return text\n",
    "\n",
    "# applymap이 아닌 각 열에 개별적으로 apply 사용\n",
    "for col in columns_to_preprocess:\n",
    "    data['split_text'] = data['split_text'].apply(preprocess_text)"
   ]
  },
  {
   "cell_type": "markdown",
   "metadata": {},
   "source": [
    "<<<< 참고코드>>>>"
   ]
  },
  {
   "cell_type": "code",
   "execution_count": null,
   "metadata": {},
   "outputs": [],
   "source": [
    "# 불용어 파일을 읽어 불용어 목록 생성\n",
    "with open(stopwords_file_path, 'r', encoding='utf-8') as f:\n",
    "    stopwords = set(f.read().splitlines())\n",
    "\n",
    "# 불용어 제거 함수 (리스트 상태로 처리)\n",
    "def remove_stopwords(tokens):\n",
    "    filtered_words = [\n",
    "        word for word in tokens \n",
    "        if len(word) > 1 \n",
    "        and word not in stopwords \n",
    "        and not word.isdigit()  # 숫자인 경우 제외\n",
    "        and word not in stopwords_pick \n",
    "        and not re.match(pattern, word)\n",
    "    ]\n",
    "    return ' '.join(filtered_words)  # 문자열로 반환 / 리스트로 변환하지 말 것\n",
    "\n",
    "\n",
    "\n",
    "# 전처리 함수 정의\n",
    "def preprocess_content(content):\n",
    "    if pd.isna(content):  # NaN 값에 대한 예외 처리\n",
    "        return content\n",
    "    \n",
    "    # content가 문자열인지 확인\n",
    "    if isinstance(content, str):\n",
    "        content = content.replace('<br/>', '')\n",
    "        content = content.replace('\\n', '')\n",
    "        content = content.replace('\\r', '')\n",
    "    \n",
    "    return content\n",
    "\n",
    "# applymap이 아닌 각 열에 개별적으로 apply 사용\n",
    "for col in columns_to_preprocess:\n",
    "    df_Labor[col] = df_Labor[col].apply(preprocess_content)"
   ]
  },
  {
   "cell_type": "markdown",
   "metadata": {},
   "source": [
    "<<<<<<<<<<<끝>>>>>>>>>>>"
   ]
  },
  {
   "cell_type": "markdown",
   "metadata": {},
   "source": [
    "* sql 저장"
   ]
  },
  {
   "cell_type": "code",
   "execution_count": 23,
   "metadata": {},
   "outputs": [
    {
     "name": "stdout",
     "output_type": "stream",
     "text": [
      "데이터베이스 저장 완료\n"
     ]
    }
   ],
   "source": [
    "import pandas as pd\n",
    "from sqlalchemy import create_engine\n",
    "from sqlalchemy.dialects.mysql import LONGTEXT, TEXT\n",
    "from db_info import user, password, host, port, database\n",
    "\n",
    "# 데이터프레임 로드 예시\n",
    "# df_labor_reference = pd.read_csv('path/to/your/csv/file.csv')  # 필요한 경우 CSV 파일에서 로드\n",
    "\n",
    "# split_text를 문자열로 변환 및 HTML 태그 제거\n",
    "df_labor_reference['split_text'] = df_labor_reference['split_text'].apply(lambda x: ', '.join(x) if isinstance(x, list) else x)\n",
    "df_labor_reference['split_text'] = df_labor_reference['split_text'].str.replace('<[^>]+>', '', regex=True)\n",
    "df_labor_reference['split_text'] = df_labor_reference['split_text'].fillna('')\n",
    "df_labor_reference['참조조문'] = df_labor_reference['참조조문'].fillna('')\n",
    "\n",
    "# 데이터베이스 연결 설정\n",
    "dtype = {\n",
    "    '참조조문': TEXT,\n",
    "    'split_text': LONGTEXT\n",
    "}\n",
    "engine = create_engine(f\"mysql+pymysql://{user}:{password}@{host}:{port}/{database}\")\n",
    "\n",
    "# 데이터프레임을 MySQL 테이블에 저장\n",
    "try:\n",
    "    df_labor_reference.to_sql('labor_law_ref', con=engine, if_exists='replace', index=False, dtype=dtype)\n",
    "    print(\"데이터베이스 저장 완료\")\n",
    "except Exception as e:\n",
    "    print(f\"Error occurred: {e}\")\n",
    "\n",
    "# 연결 닫기\n",
    "engine.dispose()\n"
   ]
  },
  {
   "cell_type": "code",
   "execution_count": null,
   "metadata": {},
   "outputs": [],
   "source": [
    "import re\n",
    "def extract_laws(text):\n",
    "    if isinstance(text, str):  # 텍스트가 문자열인지 확인\n",
    "    # '법' 또는 '시행령'으로 끝나는 단어를 정규 표현식으로 추출\n",
    "        laws = re.findall(r'\\b(\\w+(?:법|시행령|에 관한 법률|규칙))\\b', text)\n",
    "        return set(laws)\n",
    "    return set()\n",
    "\n",
    "# 각 참조조문에서 법과 시행령 이름을 찾기\n",
    "law_names = set()\n",
    "for reference in df_labor_reference['참조조문']:\n",
    "    law_names.update(extract_laws(reference))\n",
    "\n",
    "# 스플릿하기  \n",
    "\n",
    "\n",
    "\n",
    "\n",
    "# 법과 시행령 이름을 붙이는 함수\n",
    "def add_law_prefix(x):\n",
    "    if isinstance(x, str):  \n",
    "        previous_law = None  # 이전 법 이름 저장\n",
    "        new_references = []\n",
    "\n",
    "        for part in x.split(','):\n",
    "            part = part.strip()\n",
    "            part = re.sub(r'[\\[\\]［］].*?[\\]\\］]', '', part)\n",
    "            part = re.sub(r'\\s*[가-힣]\\.\\s*', '', part)\n",
    "            part = part.strip('<br/>')\n",
    "            part = part.replace('/', ',')\n",
    "            part = re.sub(r'\\s+', ' ', part).strip()\n",
    "\n",
    "            # 현재 조각에 법 이름이 있는 경우, previous_law 업데이트\n",
    "            for law_name in law_names:\n",
    "                if law_name in part:\n",
    "                    previous_law = law_name  # 이전 법 이름을 현재 법 이름으로 설정\n",
    "                    break\n",
    "\n",
    "            # 법 이름이 없고, 조를 포함하는 경우에만 이전 법 이름 붙이기\n",
    "            if previous_law and not any(law_name in part for law_name in law_names):\n",
    "                if re.search(r'\\d+조', part):  # '조'를 포함하는 경우\n",
    "                    part = f\"{previous_law} {part}\"\n",
    "\n",
    "            new_references.append(part)\n",
    "\n",
    "        # 결과 조각들을 다시 쉼표로 결합하여 반환\n",
    "        return ', '.join(new_references)\n",
    "    return x  # 문자열이 아닐 경우 그대로 반환"
   ]
  },
  {
   "cell_type": "code",
   "execution_count": 25,
   "metadata": {},
   "outputs": [],
   "source": [
    "# 데이터프레임의 '참조조문' 열에 전처리 적용\n",
    "df_labor_reference['참조조문'] = df_labor_reference['참조조문'].apply(add_law_prefix)"
   ]
  },
  {
   "cell_type": "code",
   "execution_count": 26,
   "metadata": {},
   "outputs": [
    {
     "data": {
      "text/plain": [
       "0    근로기준법 제28조, 근로기준법 제29조, 노동위원회법 제23조, 근로기준법 제2조...\n",
       "1    파견근로자 보호 등에 관한 법률 제6조의2 제1항, 민법 제390조, 민법 제393...\n",
       "2    구 파견근로자 보호 등에 관한 법률(2006. 12. 21. 법률 제8076호로 개...\n",
       "3    파견근로자 보호 등에 관한 법률 제2조 제1호, 파견근로자 보호 등에 관한 법률 제...\n",
       "4    근로기준법 제18조, 근로기준법 제18조, 구 고등교육법 시행령(2024. 2. 2...\n",
       "Name: 참조조문, dtype: object"
      ]
     },
     "execution_count": 26,
     "metadata": {},
     "output_type": "execute_result"
    }
   ],
   "source": [
    "df_labor_reference['참조조문'].head()"
   ]
  },
  {
   "cell_type": "code",
   "execution_count": 28,
   "metadata": {},
   "outputs": [
    {
     "data": {
      "text/plain": [
       "0                 \n",
       "참조조문 없음               1292\n",
       "제2항                    265\n",
       "민법 제750조               200\n",
       "민법 제763조               196\n",
       "민법 제393조               163\n",
       "                      ... \n",
       "환경보전법 제26조의2             1\n",
       "환경보전법 제26조               1\n",
       "환경보전법 제15조의2             1\n",
       "환경보전법 제14조               1\n",
       "환경개선비용 부담법 제9조 제1항       1\n",
       "Name: count, Length: 5995, dtype: int64"
      ]
     },
     "execution_count": 28,
     "metadata": {},
     "output_type": "execute_result"
    }
   ],
   "source": [
    "#조문 참조 정도 확인\n",
    "refer_clause=[]\n",
    "for clause in df_labor_reference['참조조문']:\n",
    "    parts = clause.split(',')\n",
    "    parts = [part.strip() for part in parts if part.strip()]\n",
    "    for sub in parts:\n",
    "        refer_clause.append(sub)\n",
    "refer_clause = [item for item in refer_clause if item.strip()]\n",
    "refcla=pd.DataFrame(data=refer_clause)\n",
    "refcla.value_counts()"
   ]
  },
  {
   "cell_type": "markdown",
   "metadata": {},
   "source": [
    "# 3. 참조판례"
   ]
  },
  {
   "cell_type": "markdown",
   "metadata": {},
   "source": [
    "전처리"
   ]
  },
  {
   "cell_type": "code",
   "execution_count": 34,
   "metadata": {},
   "outputs": [],
   "source": [
    "\n",
    "df_labor_reference['참조판례']=df_labor_reference['참조판례'].fillna('참조판례 없음')\n",
    "#공백은 '참조판례 없음'으로 대체함."
   ]
  },
  {
   "cell_type": "code",
   "execution_count": 35,
   "metadata": {},
   "outputs": [],
   "source": [
    "#참조판례 정리\n",
    "\n",
    "clean_part=[]\n",
    "for part in df_labor_reference['참조판례']:\n",
    "    part = part.strip()\n",
    "    part = re.sub(r'[\\[\\]［］].*?[\\]\\］]', '', part)  # 대괄호와 그 안의 내용 제거\n",
    "    part = re.sub(r'\\s*[가-힣]\\.\\s*', '', part)  # '가.', '나.', '다.'와 같은 패턴 제거\n",
    "    part = part.strip('<br/>')  # 공백 제거\n",
    "    part = part.replace('/', ',')  # '/'를 ','로 변경\n",
    "    part = re.sub(r'\\s+', ' ', part).strip()\n",
    "    clean_part.append(part)\n",
    "\n",
    "df_labor_reference['참조판례']=clean_part"
   ]
  },
  {
   "cell_type": "code",
   "execution_count": 36,
   "metadata": {},
   "outputs": [
    {
     "data": {
      "text/plain": [
       "0       대법원 1996. 8. 23. 선고 95누11238 판결(공1996하, 2884) ...\n",
       "1       대법원 2007. 11. 16. 선고 2005다3229 판결, 대법원 2011. 4...\n",
       "2       대법원 2024. 3. 12. 선고 2019다223303, 223310 판결(공20...\n",
       "3       대법원 2015. 11. 26. 선고 2013다14965 판결(공2016상, 4) ...\n",
       "4                                                 참조판례 없음\n",
       "                              ...                        \n",
       "5011                                              참조판례 없음\n",
       "5012                                              참조판례 없음\n",
       "5013    1955. 8. 10. 선고, 4288행상41 판결(요 귀속재산처리법 제15조(15...\n",
       "5014                                              참조판례 없음\n",
       "5015                                              참조판례 없음\n",
       "Name: 참조판례, Length: 5016, dtype: object"
      ]
     },
     "execution_count": 36,
     "metadata": {},
     "output_type": "execute_result"
    }
   ],
   "source": [
    "\n",
    "df_labor_reference['참조판례']"
   ]
  },
  {
   "cell_type": "code",
   "execution_count": 37,
   "metadata": {},
   "outputs": [
    {
     "data": {
      "text/plain": [
       "0                                                     \n",
       "참조판례 없음                                                   2566\n",
       "대법원 2006. 12. 7. 선고 2004다29736 판결(공2007상, 104)              44\n",
       "대법원 2013. 12. 18. 선고 2012다89399 전원합의체 판결(공2014상, 236)       29\n",
       "대법원 1996. 5. 14. 선고 95다19256 판결(공1996하, 1837)               19\n",
       "대법원 1994. 12. 9. 선고 94다22859 판결(공1995상, 448)                18\n",
       "                                                          ... \n",
       "헌법재판소 2016. 9. 29. 선고 2014헌바254 전원재판부 결정(헌공240, 1474)        1\n",
       "헌법재판소 2017. 4. 27. 선고 2015헌바24 전원재판부 결정(헌공247, 456)          1\n",
       "헌법재판소 2018. 6. 28. 선고 2011헌바379                              1\n",
       "헌법재판소 2018. 6. 28. 선고 2016헌마1153 전원재판부 결정(헌공261, 1165)       1\n",
       "헌법재판소 2019. 9. 26. 선고 2018헌바218                              1\n",
       "Name: count, Length: 5888, dtype: int64"
      ]
     },
     "execution_count": 37,
     "metadata": {},
     "output_type": "execute_result"
    }
   ],
   "source": [
    "#판례 참조 정도 확인\n",
    "\n",
    "refered_jud=[]\n",
    "for clean_part in df_labor_reference['참조판례']:\n",
    "    parts = re.split(r',\\s*(?![^()]*\\))', clean_part)\n",
    "    for sub in parts:\n",
    "        refered_jud.append(sub)\n",
    "\n",
    "refered_jud = [item for item in refered_jud if item.strip()]\n",
    "\n",
    "refjud=pd.DataFrame(data=refered_jud)\n",
    "refjud.value_counts()"
   ]
  },
  {
   "cell_type": "code",
   "execution_count": 38,
   "metadata": {},
   "outputs": [
    {
     "data": {
      "text/html": [
       "<div>\n",
       "<style scoped>\n",
       "    .dataframe tbody tr th:only-of-type {\n",
       "        vertical-align: middle;\n",
       "    }\n",
       "\n",
       "    .dataframe tbody tr th {\n",
       "        vertical-align: top;\n",
       "    }\n",
       "\n",
       "    .dataframe thead th {\n",
       "        text-align: right;\n",
       "    }\n",
       "</style>\n",
       "<table border=\"1\" class=\"dataframe\">\n",
       "  <thead>\n",
       "    <tr style=\"text-align: right;\">\n",
       "      <th></th>\n",
       "      <th>0</th>\n",
       "    </tr>\n",
       "  </thead>\n",
       "  <tbody>\n",
       "    <tr>\n",
       "      <th>0</th>\n",
       "      <td>대법원 1996. 8. 23. 선고 95누11238 판결(공1996하, 2884)</td>\n",
       "    </tr>\n",
       "    <tr>\n",
       "      <th>1</th>\n",
       "      <td>대법원 1999. 2. 9. 선고 97다56235 판결(공1999상, 451)</td>\n",
       "    </tr>\n",
       "    <tr>\n",
       "      <th>2</th>\n",
       "      <td>대법원 2006. 12. 7. 선고 2004다29736 판결(공2007상, 104)</td>\n",
       "    </tr>\n",
       "    <tr>\n",
       "      <th>3</th>\n",
       "      <td>대법원 2008. 10. 23. 선고 2007다7973 판결</td>\n",
       "    </tr>\n",
       "    <tr>\n",
       "      <th>4</th>\n",
       "      <td>대법원 2023. 8. 18. 선고 2019다252004 판결(공2023하, 1640)</td>\n",
       "    </tr>\n",
       "  </tbody>\n",
       "</table>\n",
       "</div>"
      ],
      "text/plain": [
       "                                                  0\n",
       "0    대법원 1996. 8. 23. 선고 95누11238 판결(공1996하, 2884) \n",
       "1       대법원 1999. 2. 9. 선고 97다56235 판결(공1999상, 451)\n",
       "2    대법원 2006. 12. 7. 선고 2004다29736 판결(공2007상, 104)\n",
       "3                 대법원 2008. 10. 23. 선고 2007다7973 판결\n",
       "4  대법원 2023. 8. 18. 선고 2019다252004 판결(공2023하, 1640)"
      ]
     },
     "execution_count": 38,
     "metadata": {},
     "output_type": "execute_result"
    }
   ],
   "source": [
    "refjud.head()"
   ]
  }
 ],
 "metadata": {
  "kernelspec": {
   "display_name": "project",
   "language": "python",
   "name": "python3"
  },
  "language_info": {
   "codemirror_mode": {
    "name": "ipython",
    "version": 3
   },
   "file_extension": ".py",
   "mimetype": "text/x-python",
   "name": "python",
   "nbconvert_exporter": "python",
   "pygments_lexer": "ipython3",
   "version": "3.12.7"
  }
 },
 "nbformat": 4,
 "nbformat_minor": 2
}
