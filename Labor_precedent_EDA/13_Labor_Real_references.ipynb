{
 "cells": [
  {
   "cell_type": "markdown",
   "metadata": {},
   "source": [
    "# 1. 데이터로드"
   ]
  },
  {
   "cell_type": "code",
   "execution_count": 2,
   "metadata": {},
   "outputs": [],
   "source": [
    "# 데이터 처리 및 분석\n",
    "import pandas as pd\n",
    "import numpy as np\n",
    "import sys, os\n",
    "\n",
    "# 데이터 시각화\n",
    "import matplotlib.pyplot as plt\n",
    "import seaborn as sns\n",
    "\n",
    "# 문자\n",
    "import re"
   ]
  },
  {
   "cell_type": "code",
   "execution_count": 3,
   "metadata": {},
   "outputs": [],
   "source": [
    "import matplotlib.pyplot as plt\n",
    "\n",
    "# 한글 깨짐 방지\n",
    "plt.rcParams['font.family'] = \"Malgun Gothic\"\n",
    "\n",
    "# 마이너스 깨짐 방지\n",
    "plt.rcParams['axes.unicode_minus'] = False"
   ]
  },
  {
   "cell_type": "code",
   "execution_count": 95,
   "metadata": {},
   "outputs": [],
   "source": [
    "df = pd.read_csv(r'C:\\Users\\user\\Desktop\\프로젝트 기획서\\NoF\\data\\df_labor_keyword.csv')"
   ]
  },
  {
   "cell_type": "code",
   "execution_count": 150,
   "metadata": {},
   "outputs": [
    {
     "name": "stdout",
     "output_type": "stream",
     "text": [
      "<class 'pandas.core.frame.DataFrame'>\n",
      "RangeIndex: 5016 entries, 0 to 5015\n",
      "Data columns (total 16 columns):\n",
      " #   Column         Non-Null Count  Dtype \n",
      "---  ------         --------------  ----- \n",
      " 0   판례정보일련번호       5016 non-null   int64 \n",
      " 1   사건번호           5016 non-null   object\n",
      " 2   선고             5016 non-null   object\n",
      " 3   판결유형           5016 non-null   object\n",
      " 4   판시사항           3725 non-null   object\n",
      " 5   판결요지           3054 non-null   object\n",
      " 6   참조조문           3724 non-null   object\n",
      " 7   참조판례           2450 non-null   object\n",
      " 8   판례내용           5016 non-null   object\n",
      " 9   판례내용_상단        5016 non-null   object\n",
      " 10  판례내용_이유        5012 non-null   object\n",
      " 11  판례내용_이유_전처리    5016 non-null   object\n",
      " 12  판례내용_제거_불용어    5016 non-null   object\n",
      " 13  판례내용_이유_불용어제거  5012 non-null   object\n",
      " 14  클러스터           5016 non-null   int64 \n",
      " 15  키워드            5016 non-null   object\n",
      "dtypes: int64(2), object(14)\n",
      "memory usage: 627.1+ KB\n"
     ]
    }
   ],
   "source": [
    "df.info()"
   ]
  },
  {
   "cell_type": "code",
   "execution_count": 185,
   "metadata": {},
   "outputs": [],
   "source": [
    "data = df[['사건번호','참조조문','참조판례']].copy()"
   ]
  },
  {
   "cell_type": "code",
   "execution_count": 186,
   "metadata": {},
   "outputs": [
    {
     "data": {
      "text/html": [
       "<div>\n",
       "<style scoped>\n",
       "    .dataframe tbody tr th:only-of-type {\n",
       "        vertical-align: middle;\n",
       "    }\n",
       "\n",
       "    .dataframe tbody tr th {\n",
       "        vertical-align: top;\n",
       "    }\n",
       "\n",
       "    .dataframe thead th {\n",
       "        text-align: right;\n",
       "    }\n",
       "</style>\n",
       "<table border=\"1\" class=\"dataframe\">\n",
       "  <thead>\n",
       "    <tr style=\"text-align: right;\">\n",
       "      <th></th>\n",
       "      <th>사건번호</th>\n",
       "      <th>참조조문</th>\n",
       "      <th>참조판례</th>\n",
       "    </tr>\n",
       "  </thead>\n",
       "  <tbody>\n",
       "    <tr>\n",
       "      <th>0</th>\n",
       "      <td>2024두32973</td>\n",
       "      <td>[1] 근로기준법 제28조, 제29조, 노동위원회법 제23조 / [2] 근로기준법...</td>\n",
       "      <td>[1] 대법원 1996. 8. 23. 선고 95누11238 판결(공1996하, 2...</td>\n",
       "    </tr>\n",
       "    <tr>\n",
       "      <th>1</th>\n",
       "      <td>2024다211908, 211915, 211922</td>\n",
       "      <td>[1] 파견근로자 보호 등에 관한 법률 제6조의2 제1항, 민법 제390조, 제3...</td>\n",
       "      <td>[1] 대법원 2007. 11. 16. 선고 2005다3229 판결, 대법원 20...</td>\n",
       "    </tr>\n",
       "    <tr>\n",
       "      <th>2</th>\n",
       "      <td>2020다287921</td>\n",
       "      <td>구 파견근로자 보호 등에 관한 법률(2006. 12. 21. 법률 제8076호로 개...</td>\n",
       "      <td>대법원 2024. 3. 12. 선고 2019다223303, 223310 판결(공20...</td>\n",
       "    </tr>\n",
       "    <tr>\n",
       "      <th>3</th>\n",
       "      <td>2021다274069</td>\n",
       "      <td>[1] 파견근로자 보호 등에 관한 법률 제2조 제1호 / [2] 파견근로자 보호 ...</td>\n",
       "      <td>[1][3] 대법원 2015. 11. 26. 선고 2013다14965 판결(공20...</td>\n",
       "    </tr>\n",
       "    <tr>\n",
       "      <th>4</th>\n",
       "      <td>2023다217312</td>\n",
       "      <td>[1] 근로기준법 제18조 / [2] 근로기준법 제18조, 구 고등교육법 시행령(...</td>\n",
       "      <td>NaN</td>\n",
       "    </tr>\n",
       "  </tbody>\n",
       "</table>\n",
       "</div>"
      ],
      "text/plain": [
       "                          사건번호                                               참조조문                                               참조판례\n",
       "0                   2024두32973   [1] 근로기준법 제28조, 제29조, 노동위원회법 제23조 / [2] 근로기준법...   [1] 대법원 1996. 8. 23. 선고 95누11238 판결(공1996하, 2...\n",
       "1  2024다211908, 211915, 211922   [1] 파견근로자 보호 등에 관한 법률 제6조의2 제1항, 민법 제390조, 제3...   [1] 대법원 2007. 11. 16. 선고 2005다3229 판결, 대법원 20...\n",
       "2                  2020다287921  구 파견근로자 보호 등에 관한 법률(2006. 12. 21. 법률 제8076호로 개...  대법원 2024. 3. 12. 선고 2019다223303, 223310 판결(공20...\n",
       "3                  2021다274069   [1] 파견근로자 보호 등에 관한 법률 제2조 제1호 / [2] 파견근로자 보호 ...   [1][3] 대법원 2015. 11. 26. 선고 2013다14965 판결(공20...\n",
       "4                  2023다217312   [1] 근로기준법 제18조 / [2] 근로기준법 제18조, 구 고등교육법 시행령(...                                                NaN"
      ]
     },
     "execution_count": 186,
     "metadata": {},
     "output_type": "execute_result"
    }
   ],
   "source": [
    "data.head()"
   ]
  },
  {
   "cell_type": "markdown",
   "metadata": {},
   "source": [
    "* 전처리"
   ]
  },
  {
   "cell_type": "code",
   "execution_count": null,
   "metadata": {},
   "outputs": [
    {
     "name": "stdout",
     "output_type": "stream",
     "text": [
      "참조조문 없음 수: 1292\n",
      "참조판례 없음 수: 1292\n"
     ]
    }
   ],
   "source": [
    "import pandas as pd\n",
    "\n",
    "# 예시 데이터프레임 생성 (실제 데이터로 대체)\n",
    "# data = {\n",
    "#     '사건번호': ['2023가단1234', '2023가단1235', '2023가단1236'],\n",
    "#     '참조조문': [None, '법 제1조<br/>', '법 제2조\\n    \\n'],\n",
    "#     '참조판례': [None, '판례 A', None]\n",
    "# }\n",
    "\n",
    "# df = pd.DataFrame(data)\n",
    "\n",
    "# Null 값 대체 및 문자열 정제 함수 정의\n",
    "def preprocess_column(column):\n",
    "    return column.fillna('없음').str.replace('<br/>', '').str.replace('\\n', '').str.strip()\n",
    "\n",
    "# 각 열에 대해 전처리 함수 적용\n",
    "data['참조조문'] = preprocess_column(data['참조조문'])\n",
    "data['참조판례'] = preprocess_column(data['참조판례'])\n",
    "\n",
    "# '참조조문 없음'의 개수 출력\n",
    "count_null_참조조문 = (data['참조조문'] == '없음').sum()\n",
    "print(f\"참조조문 없음 수: {count_null_참조조문}\")\n",
    "\n",
    "# '참조판례 없음' 출력\n",
    "count_null_참조판례 = data[data['참조판례'] == '없음'].sum()\n",
    "print(f\"참조판례 없음 수: {count_null_참조조문}\")"
   ]
  },
  {
   "cell_type": "code",
   "execution_count": 191,
   "metadata": {},
   "outputs": [
    {
     "data": {
      "text/html": [
       "<div>\n",
       "<style scoped>\n",
       "    .dataframe tbody tr th:only-of-type {\n",
       "        vertical-align: middle;\n",
       "    }\n",
       "\n",
       "    .dataframe tbody tr th {\n",
       "        vertical-align: top;\n",
       "    }\n",
       "\n",
       "    .dataframe thead th {\n",
       "        text-align: right;\n",
       "    }\n",
       "</style>\n",
       "<table border=\"1\" class=\"dataframe\">\n",
       "  <thead>\n",
       "    <tr style=\"text-align: right;\">\n",
       "      <th></th>\n",
       "      <th>사건번호</th>\n",
       "      <th>참조조문</th>\n",
       "      <th>참조판례</th>\n",
       "    </tr>\n",
       "  </thead>\n",
       "  <tbody>\n",
       "    <tr>\n",
       "      <th>0</th>\n",
       "      <td>2024두32973</td>\n",
       "      <td>[1] 근로기준법 제28조, 제29조, 노동위원회법 제23조 / [2] 근로기준법 ...</td>\n",
       "      <td>[1] 대법원 1996. 8. 23. 선고 95누11238 판결(공1996하, 28...</td>\n",
       "    </tr>\n",
       "    <tr>\n",
       "      <th>1</th>\n",
       "      <td>2024다211908, 211915, 211922</td>\n",
       "      <td>[1] 파견근로자 보호 등에 관한 법률 제6조의2 제1항, 민법 제390조, 제39...</td>\n",
       "      <td>[1] 대법원 2007. 11. 16. 선고 2005다3229 판결, 대법원 201...</td>\n",
       "    </tr>\n",
       "    <tr>\n",
       "      <th>2</th>\n",
       "      <td>2020다287921</td>\n",
       "      <td>구 파견근로자 보호 등에 관한 법률(2006. 12. 21. 법률 제8076호로 개...</td>\n",
       "      <td>대법원 2024. 3. 12. 선고 2019다223303, 223310 판결(공20...</td>\n",
       "    </tr>\n",
       "    <tr>\n",
       "      <th>3</th>\n",
       "      <td>2021다274069</td>\n",
       "      <td>[1] 파견근로자 보호 등에 관한 법률 제2조 제1호 / [2] 파견근로자 보호 등...</td>\n",
       "      <td>[1][3] 대법원 2015. 11. 26. 선고 2013다14965 판결(공201...</td>\n",
       "    </tr>\n",
       "    <tr>\n",
       "      <th>4</th>\n",
       "      <td>2023다217312</td>\n",
       "      <td>[1] 근로기준법 제18조 / [2] 근로기준법 제18조, 구 고등교육법 시행령(2...</td>\n",
       "      <td>없음</td>\n",
       "    </tr>\n",
       "  </tbody>\n",
       "</table>\n",
       "</div>"
      ],
      "text/plain": [
       "                          사건번호                                               참조조문                                               참조판례\n",
       "0                   2024두32973  [1] 근로기준법 제28조, 제29조, 노동위원회법 제23조 / [2] 근로기준법 ...  [1] 대법원 1996. 8. 23. 선고 95누11238 판결(공1996하, 28...\n",
       "1  2024다211908, 211915, 211922  [1] 파견근로자 보호 등에 관한 법률 제6조의2 제1항, 민법 제390조, 제39...  [1] 대법원 2007. 11. 16. 선고 2005다3229 판결, 대법원 201...\n",
       "2                  2020다287921  구 파견근로자 보호 등에 관한 법률(2006. 12. 21. 법률 제8076호로 개...  대법원 2024. 3. 12. 선고 2019다223303, 223310 판결(공20...\n",
       "3                  2021다274069  [1] 파견근로자 보호 등에 관한 법률 제2조 제1호 / [2] 파견근로자 보호 등...  [1][3] 대법원 2015. 11. 26. 선고 2013다14965 판결(공201...\n",
       "4                  2023다217312  [1] 근로기준법 제18조 / [2] 근로기준법 제18조, 구 고등교육법 시행령(2...                                                 없음"
      ]
     },
     "execution_count": 191,
     "metadata": {},
     "output_type": "execute_result"
    }
   ],
   "source": [
    "data.head()"
   ]
  },
  {
   "cell_type": "markdown",
   "metadata": {},
   "source": [
    "# 2. 참조조문 "
   ]
  },
  {
   "cell_type": "code",
   "execution_count": 200,
   "metadata": {},
   "outputs": [
    {
     "data": {
      "text/plain": [
       "np.int64(0)"
      ]
     },
     "execution_count": 200,
     "metadata": {},
     "output_type": "execute_result"
    }
   ],
   "source": [
    "data['조문_분리'].isnull().sum()"
   ]
  },
  {
   "cell_type": "code",
   "execution_count": null,
   "metadata": {},
   "outputs": [],
   "source": [
    "data['조문_분리']."
   ]
  },
  {
   "cell_type": "markdown",
   "metadata": {},
   "source": [
    "* [숫자], / 로 나누기 "
   ]
  },
  {
   "cell_type": "code",
   "execution_count": 192,
   "metadata": {},
   "outputs": [
    {
     "name": "stdout",
     "output_type": "stream",
     "text": [
      "                                                   참조조문                                              조문_분리\n",
      "0     [1] 근로기준법 제28조, 제29조, 노동위원회법 제23조 / [2] 근로기준법 ...  [근로기준법 제28조, 제29조, 노동위원회법 제23조, 근로기준법 제2조 제1항 ...\n",
      "1     [1] 파견근로자 보호 등에 관한 법률 제6조의2 제1항, 민법 제390조, 제39...  [파견근로자 보호 등에 관한 법률 제6조의2 제1항, 민법 제390조, 제393조,...\n",
      "2     구 파견근로자 보호 등에 관한 법률(2006. 12. 21. 법률 제8076호로 개...  [구 파견근로자 보호 등에 관한 법률(2006. 12. 21. 법률 제8076호로 ...\n",
      "3     [1] 파견근로자 보호 등에 관한 법률 제2조 제1호 / [2] 파견근로자 보호 등...  [파견근로자 보호 등에 관한 법률 제2조 제1호, 파견근로자 보호 등에 관한 법률 ...\n",
      "4     [1] 근로기준법 제18조 / [2] 근로기준법 제18조, 구 고등교육법 시행령(2...  [근로기준법 제18조, 근로기준법 제18조, 구 고등교육법 시행령(2024. 2. ...\n",
      "...                                                 ...                                                ...\n",
      "5011                                       소득세법(구) 제32조                                     [소득세법(구) 제32조]\n",
      "5012  근로기준법 제28조,                         제94조,     ...                           [근로기준법 제28조, 제94조, 제87조]\n",
      "5013         행정소송법(법률 제213호) 제12조,         귀속재산처리법 제15조               [행정소송법(법률 제213호) 제12조, 귀속재산처리법 제15조]\n",
      "5014                      노동조합법 제33조, 제34조, 노동위원회규칙 제5조                    [노동조합법 제33조, 제34조, 노동위원회규칙 제5조]\n",
      "5015                                           형법 제129조                                         [형법 제129조]\n",
      "\n",
      "[5016 rows x 2 columns]\n"
     ]
    }
   ],
   "source": [
    "import re\n",
    "import pandas as pd\n",
    "\n",
    "\n",
    "# 분리 및 전처리 함수 정의\n",
    "def split_text(text):\n",
    "    # 대괄호 안 숫자 기준으로 문장 분리\n",
    "    sentences_by_brackets = re.split(r'\\[\\d+\\]', text)\n",
    "    sentences_by_brackets = [s.strip() for s in sentences_by_brackets if s.strip()]  # 공백 제거\n",
    "    \n",
    "    # 각 결과를 슬래시(/)로 다시 분리 및 공백 정제\n",
    "    split_sentences = []\n",
    "    for sentence in sentences_by_brackets:\n",
    "        processed_sentence = preprocess_space(sentence)\n",
    "        split_sentences.extend([s.strip() for s in processed_sentence.split('/') if s.strip()])\n",
    "    \n",
    "    return split_sentences\n",
    "\n",
    "# 공백을 하나로 줄이는 함수\n",
    "def preprocess_space(text):\n",
    "    return ' '.join(text.split())\n",
    "\n",
    "# 각 행에 대해 분리 및 공백 정제 함수 적용\n",
    "data['조문_분리'] = data['참조조문'].apply(split_text)\n",
    "\n",
    "# 결과 출력\n",
    "print(data[['참조조문', '조문_분리']])"
   ]
  },
  {
   "cell_type": "code",
   "execution_count": 193,
   "metadata": {},
   "outputs": [
    {
     "data": {
      "text/html": [
       "<div>\n",
       "<style scoped>\n",
       "    .dataframe tbody tr th:only-of-type {\n",
       "        vertical-align: middle;\n",
       "    }\n",
       "\n",
       "    .dataframe tbody tr th {\n",
       "        vertical-align: top;\n",
       "    }\n",
       "\n",
       "    .dataframe thead th {\n",
       "        text-align: right;\n",
       "    }\n",
       "</style>\n",
       "<table border=\"1\" class=\"dataframe\">\n",
       "  <thead>\n",
       "    <tr style=\"text-align: right;\">\n",
       "      <th></th>\n",
       "      <th>사건번호</th>\n",
       "      <th>참조조문</th>\n",
       "      <th>참조판례</th>\n",
       "      <th>조문_분리</th>\n",
       "    </tr>\n",
       "  </thead>\n",
       "  <tbody>\n",
       "    <tr>\n",
       "      <th>0</th>\n",
       "      <td>2024두32973</td>\n",
       "      <td>[1] 근로기준법 제28조, 제29조, 노동위원회법 제23조 / [2] 근로기준법 ...</td>\n",
       "      <td>[1] 대법원 1996. 8. 23. 선고 95누11238 판결(공1996하, 28...</td>\n",
       "      <td>[근로기준법 제28조, 제29조, 노동위원회법 제23조, 근로기준법 제2조 제1항 ...</td>\n",
       "    </tr>\n",
       "    <tr>\n",
       "      <th>1</th>\n",
       "      <td>2024다211908, 211915, 211922</td>\n",
       "      <td>[1] 파견근로자 보호 등에 관한 법률 제6조의2 제1항, 민법 제390조, 제39...</td>\n",
       "      <td>[1] 대법원 2007. 11. 16. 선고 2005다3229 판결, 대법원 201...</td>\n",
       "      <td>[파견근로자 보호 등에 관한 법률 제6조의2 제1항, 민법 제390조, 제393조,...</td>\n",
       "    </tr>\n",
       "    <tr>\n",
       "      <th>2</th>\n",
       "      <td>2020다287921</td>\n",
       "      <td>구 파견근로자 보호 등에 관한 법률(2006. 12. 21. 법률 제8076호로 개...</td>\n",
       "      <td>대법원 2024. 3. 12. 선고 2019다223303, 223310 판결(공20...</td>\n",
       "      <td>[구 파견근로자 보호 등에 관한 법률(2006. 12. 21. 법률 제8076호로 ...</td>\n",
       "    </tr>\n",
       "    <tr>\n",
       "      <th>3</th>\n",
       "      <td>2021다274069</td>\n",
       "      <td>[1] 파견근로자 보호 등에 관한 법률 제2조 제1호 / [2] 파견근로자 보호 등...</td>\n",
       "      <td>[1][3] 대법원 2015. 11. 26. 선고 2013다14965 판결(공201...</td>\n",
       "      <td>[파견근로자 보호 등에 관한 법률 제2조 제1호, 파견근로자 보호 등에 관한 법률 ...</td>\n",
       "    </tr>\n",
       "    <tr>\n",
       "      <th>4</th>\n",
       "      <td>2023다217312</td>\n",
       "      <td>[1] 근로기준법 제18조 / [2] 근로기준법 제18조, 구 고등교육법 시행령(2...</td>\n",
       "      <td>없음</td>\n",
       "      <td>[근로기준법 제18조, 근로기준법 제18조, 구 고등교육법 시행령(2024. 2. ...</td>\n",
       "    </tr>\n",
       "    <tr>\n",
       "      <th>...</th>\n",
       "      <td>...</td>\n",
       "      <td>...</td>\n",
       "      <td>...</td>\n",
       "      <td>...</td>\n",
       "    </tr>\n",
       "    <tr>\n",
       "      <th>5011</th>\n",
       "      <td>62구17</td>\n",
       "      <td>소득세법(구) 제32조</td>\n",
       "      <td>없음</td>\n",
       "      <td>[소득세법(구) 제32조]</td>\n",
       "    </tr>\n",
       "    <tr>\n",
       "      <th>5012</th>\n",
       "      <td>4294민상1301</td>\n",
       "      <td>근로기준법 제28조,                         제94조,     ...</td>\n",
       "      <td>없음</td>\n",
       "      <td>[근로기준법 제28조, 제94조, 제87조]</td>\n",
       "    </tr>\n",
       "    <tr>\n",
       "      <th>5013</th>\n",
       "      <td>4292행121</td>\n",
       "      <td>행정소송법(법률 제213호) 제12조,         귀속재산처리법 제15조</td>\n",
       "      <td>1955. 8. 10. 선고, 4288행상41 판결(요 귀속재산처리법 제15조(15...</td>\n",
       "      <td>[행정소송법(법률 제213호) 제12조, 귀속재산처리법 제15조]</td>\n",
       "    </tr>\n",
       "    <tr>\n",
       "      <th>5014</th>\n",
       "      <td>4289행상111</td>\n",
       "      <td>노동조합법 제33조, 제34조, 노동위원회규칙 제5조</td>\n",
       "      <td>없음</td>\n",
       "      <td>[노동조합법 제33조, 제34조, 노동위원회규칙 제5조]</td>\n",
       "    </tr>\n",
       "    <tr>\n",
       "      <th>5015</th>\n",
       "      <td>4289형상235</td>\n",
       "      <td>형법 제129조</td>\n",
       "      <td>없음</td>\n",
       "      <td>[형법 제129조]</td>\n",
       "    </tr>\n",
       "  </tbody>\n",
       "</table>\n",
       "<p>5016 rows × 4 columns</p>\n",
       "</div>"
      ],
      "text/plain": [
       "                             사건번호                                               참조조문                                               참조판례                                              조문_분리\n",
       "0                      2024두32973  [1] 근로기준법 제28조, 제29조, 노동위원회법 제23조 / [2] 근로기준법 ...  [1] 대법원 1996. 8. 23. 선고 95누11238 판결(공1996하, 28...  [근로기준법 제28조, 제29조, 노동위원회법 제23조, 근로기준법 제2조 제1항 ...\n",
       "1     2024다211908, 211915, 211922  [1] 파견근로자 보호 등에 관한 법률 제6조의2 제1항, 민법 제390조, 제39...  [1] 대법원 2007. 11. 16. 선고 2005다3229 판결, 대법원 201...  [파견근로자 보호 등에 관한 법률 제6조의2 제1항, 민법 제390조, 제393조,...\n",
       "2                     2020다287921  구 파견근로자 보호 등에 관한 법률(2006. 12. 21. 법률 제8076호로 개...  대법원 2024. 3. 12. 선고 2019다223303, 223310 판결(공20...  [구 파견근로자 보호 등에 관한 법률(2006. 12. 21. 법률 제8076호로 ...\n",
       "3                     2021다274069  [1] 파견근로자 보호 등에 관한 법률 제2조 제1호 / [2] 파견근로자 보호 등...  [1][3] 대법원 2015. 11. 26. 선고 2013다14965 판결(공201...  [파견근로자 보호 등에 관한 법률 제2조 제1호, 파견근로자 보호 등에 관한 법률 ...\n",
       "4                     2023다217312  [1] 근로기준법 제18조 / [2] 근로기준법 제18조, 구 고등교육법 시행령(2...                                                 없음  [근로기준법 제18조, 근로기준법 제18조, 구 고등교육법 시행령(2024. 2. ...\n",
       "...                           ...                                                ...                                                ...                                                ...\n",
       "5011                        62구17                                       소득세법(구) 제32조                                                 없음                                     [소득세법(구) 제32조]\n",
       "5012                   4294민상1301  근로기준법 제28조,                         제94조,     ...                                                 없음                           [근로기준법 제28조, 제94조, 제87조]\n",
       "5013                     4292행121         행정소송법(법률 제213호) 제12조,         귀속재산처리법 제15조  1955. 8. 10. 선고, 4288행상41 판결(요 귀속재산처리법 제15조(15...               [행정소송법(법률 제213호) 제12조, 귀속재산처리법 제15조]\n",
       "5014                    4289행상111                      노동조합법 제33조, 제34조, 노동위원회규칙 제5조                                                 없음                    [노동조합법 제33조, 제34조, 노동위원회규칙 제5조]\n",
       "5015                    4289형상235                                           형법 제129조                                                 없음                                         [형법 제129조]\n",
       "\n",
       "[5016 rows x 4 columns]"
      ]
     },
     "execution_count": 193,
     "metadata": {},
     "output_type": "execute_result"
    }
   ],
   "source": [
    "data"
   ]
  },
  {
   "cell_type": "markdown",
   "metadata": {},
   "source": [
    "#### 패턴 1: 근로기준법 제2조 제1항 제1호, 근로기준법 제2조 제1항 제1호, 제28조"
   ]
  },
  {
   "cell_type": "code",
   "execution_count": 244,
   "metadata": {},
   "outputs": [
    {
     "name": "stdout",
     "output_type": "stream",
     "text": [
      "                                                  조문_분리                                                패턴1\n",
      "0     근로기준법 제28조, 제29조, 노동위원회법 제23조 근로기준법 제2조 제1항 제1...  근로기준법 : 제28조, 제29조; 노동위원회법 : 제23조; 근로기준법 : 제2조...\n",
      "1     파견근로자 보호 등에 관한 법률 제6조의2 제1항, 민법 제390조, 제393조 파...  민법 : 제390조, 제393조; 민사소송법 : 제248조; 민법 : 제162조 제1항항\n",
      "2     구 파견근로자 보호 등에 관한 법률(2006. 12. 21. 법률 제8076호로 개...                                         민법 : 제413조\n",
      "3     파견근로자 보호 등에 관한 법률 제2조 제1호 파견근로자 보호 등에 관한 법률 제2...                     민사소송법 : 제248조; 민법 : 제162조 제1항항\n",
      "4     근로기준법 제18조 근로기준법 제18조, 구 고등교육법 시행령(2024. 2. 20...                근로기준법 : 제18조; 근로기준법 : 제18조; 고등교육법 :\n",
      "...                                                 ...                                                ...\n",
      "5011                                       소득세법(구) 제32조                                             소득세법 :\n",
      "5012                             근로기준법 제28조, 제94조, 제87조                           근로기준법 : 제28조, 제94조, 제87조\n",
      "5013                 행정소송법(법률 제213호) 제12조, 귀속재산처리법 제15조                            행정소송법 :; 귀속재산처리법 : 제15조\n",
      "5014                      노동조합법 제33조, 제34조, 노동위원회규칙 제5조                                 노동조합법 : 제33조, 제34조\n",
      "5015                                           형법 제129조                                         형법 : 제129조\n",
      "\n",
      "[5016 rows x 2 columns]\n"
     ]
    }
   ],
   "source": [
    "import re\n",
    "import pandas as pd\n",
    "\n",
    "# 결합된 패턴 정의\n",
    "pattern = r'([가-힣]+법)\\s*(제\\d+조(?:,\\s*제\\d+조)*)?(?:\\s*제(\\d+항))?(?:\\s*제(\\d+호))?'\n",
    "\n",
    "# 법률, 조항, 항, 호 정보를 추출하는 함수\n",
    "def extract_legal_terms(text):\n",
    "    # text가 문자열인지 확인\n",
    "    if not isinstance(text, str):\n",
    "        return \"\"  # 문자열이 아닌 경우 빈 문자열 반환\n",
    "\n",
    "    matches = re.findall(pattern, text)\n",
    "    results = []\n",
    "\n",
    "    for match in matches:\n",
    "        law = match[0]  # 법명\n",
    "        clauses = match[1] if match[1] else \"\"  # 여러 조가 포함된 텍스트\n",
    "        section = f\"제{match[2]}항\" if match[2] else \"\"  # 항이 있는 경우\n",
    "        item = f\"제{match[3]}호\" if match[3] else \"\"  # 호가 있는 경우\n",
    "\n",
    "        # 결과 포맷팅\n",
    "        output = f\"{law} : {clauses}\"\n",
    "        if section:\n",
    "            output += f\" {section}\"\n",
    "        if item:\n",
    "            output += f\" {item}\"\n",
    "        \n",
    "        results.append(output.strip())\n",
    "\n",
    "    return '; '.join(results)\n",
    "\n",
    "# # 리스트나 NaN 값에 대해 문자열로 변환하여 함수 적용\n",
    "# data['조문_분리'] = data['조문_분리'].apply(lambda x: ' '.join(x) if isinstance(x, list) else x)\n",
    "\n",
    "# 변환 함수 적용\n",
    "data['패턴1'] = data['조문_분리'].apply(extract_legal_terms)\n",
    "\n",
    "# 결과 출력\n",
    "print(data[['조문_분리','패턴1']])\n"
   ]
  },
  {
   "cell_type": "code",
   "execution_count": 243,
   "metadata": {},
   "outputs": [
    {
     "name": "stdout",
     "output_type": "stream",
     "text": [
      "패턴1\n",
      "                              1378\n",
      "근로기준법 :                         45\n",
      "근로기준법 : 제27조                    43\n",
      "근로기준법 : 제27조 제1항항               42\n",
      "근로기준법 :; 근로기준법 :                42\n",
      "                              ... \n",
      "민법 : 제125조                       1\n",
      "근로기준법 : 제17조; 근로기준법 : 제27조       1\n",
      "민법 : 제750조; 민법 : 제763조           1\n",
      "민법 : 제756조; 근로기준법 : 제87조         1\n",
      "민사소송법 : 제406조                    1\n",
      "Name: count, Length: 2711, dtype: int64\n"
     ]
    }
   ],
   "source": [
    "# 열 값 수 확인\n",
    "value_counts = data['패턴1'].value_counts()\n",
    "print(value_counts)\n"
   ]
  },
  {
   "cell_type": "code",
   "execution_count": 245,
   "metadata": {},
   "outputs": [
    {
     "name": "stdout",
     "output_type": "stream",
     "text": [
      "                                                  조문_분리                                                패턴1\n",
      "0     근로기준법 제28조, 제29조, 노동위원회법 제23조 근로기준법 제2조 제1항 제1...  근로기준법: 28조, 노동위원회법: 23조, 근로기준법: 2조 1항 1호, 2조 1...\n",
      "1     파견근로자 보호 등에 관한 법률 제6조의2 제1항, 민법 제390조, 제393조 파...                 민법: 390조, 민사소송법: 248조, 민법: 162조 1항\n",
      "2     구 파견근로자 보호 등에 관한 법률(2006. 12. 21. 법률 제8076호로 개...                                           민법: 413조\n",
      "3     파견근로자 보호 등에 관한 법률 제2조 제1호 파견근로자 보호 등에 관한 법률 제2...                           민사소송법: 248조, 민법: 162조 1항\n",
      "4     근로기준법 제18조 근로기준법 제18조, 구 고등교육법 시행령(2024. 2. 20...                                    근로기준법: 18조, 18조\n",
      "...                                                 ...                                                ...\n",
      "5011                                       소득세법(구) 제32조                                                   \n",
      "5012                             근로기준법 제28조, 제94조, 제87조                                         근로기준법: 28조\n",
      "5013                 행정소송법(법률 제213호) 제12조, 귀속재산처리법 제15조                                       귀속재산처리법: 15조\n",
      "5014                      노동조합법 제33조, 제34조, 노동위원회규칙 제5조                                         노동조합법: 33조\n",
      "5015                                           형법 제129조                                           형법: 129조\n",
      "\n",
      "[5016 rows x 2 columns]\n"
     ]
    }
   ],
   "source": [
    "import re\n",
    "import pandas as pd\n",
    "\n",
    "# 패턴 정의\n",
    "pattern = r'([가-힣]+법)\\s*제(\\d+조)(?:\\s*제(\\d+항))?(?:\\s*제(\\d+호))?'\n",
    "\n",
    "def extract_and_format(text):\n",
    "    # 입력값이 문자열인지 확인\n",
    "    if not isinstance(text, str):\n",
    "        return ''  # 혹은 원하는 방식으로 처리\n",
    "\n",
    "    matches = re.findall(pattern, text)\n",
    "    formatted = []\n",
    "    \n",
    "    current_law = \"\"\n",
    "    for match in matches:\n",
    "        law = match[0]\n",
    "        clause = match[1]\n",
    "        section = match[2] if match[2] else \"\"  # None이면 빈 문자열로 대체\n",
    "        item = match[3] if match[3] else \"\"  # None이면 빈 문자열로 대체\n",
    "\n",
    "        # 법명이 동일하면 법명 생략하고 조항만 추가\n",
    "        if law == current_law:\n",
    "            formatted.append(f\"{clause} {section} {item}\".strip())\n",
    "        else:\n",
    "            formatted.append(f\"{law}: {clause} {section} {item}\".strip())\n",
    "            current_law = law\n",
    "\n",
    "    return ', '.join(formatted)\n",
    "\n",
    "# 변환 함수 적용\n",
    "data['패턴1'] = data['조문_분리'].apply(extract_and_format)\n",
    "\n",
    "# 결과 출력\n",
    "print(data[['조문_분리', '패턴1']])"
   ]
  },
  {
   "cell_type": "code",
   "execution_count": 246,
   "metadata": {},
   "outputs": [
    {
     "name": "stdout",
     "output_type": "stream",
     "text": [
      "<class 'pandas.core.frame.DataFrame'>\n",
      "RangeIndex: 5016 entries, 0 to 5015\n",
      "Data columns (total 5 columns):\n",
      " #   Column  Non-Null Count  Dtype \n",
      "---  ------  --------------  ----- \n",
      " 0   사건번호    5016 non-null   object\n",
      " 1   참조조문    5016 non-null   object\n",
      " 2   참조판례    5016 non-null   object\n",
      " 3   조문_분리   5016 non-null   object\n",
      " 4   패턴1     5016 non-null   object\n",
      "dtypes: object(5)\n",
      "memory usage: 196.1+ KB\n"
     ]
    }
   ],
   "source": [
    "data.info()"
   ]
  },
  {
   "cell_type": "code",
   "execution_count": 247,
   "metadata": {},
   "outputs": [
    {
     "data": {
      "text/html": [
       "<div>\n",
       "<style scoped>\n",
       "    .dataframe tbody tr th:only-of-type {\n",
       "        vertical-align: middle;\n",
       "    }\n",
       "\n",
       "    .dataframe tbody tr th {\n",
       "        vertical-align: top;\n",
       "    }\n",
       "\n",
       "    .dataframe thead th {\n",
       "        text-align: right;\n",
       "    }\n",
       "</style>\n",
       "<table border=\"1\" class=\"dataframe\">\n",
       "  <thead>\n",
       "    <tr style=\"text-align: right;\">\n",
       "      <th></th>\n",
       "      <th>조문_분리</th>\n",
       "      <th>패턴1</th>\n",
       "    </tr>\n",
       "  </thead>\n",
       "  <tbody>\n",
       "    <tr>\n",
       "      <th>0</th>\n",
       "      <td>근로기준법 제28조, 제29조, 노동위원회법 제23조 근로기준법 제2조 제1항 제1...</td>\n",
       "      <td>근로기준법: 28조, 노동위원회법: 23조, 근로기준법: 2조 1항 1호, 2조 1...</td>\n",
       "    </tr>\n",
       "    <tr>\n",
       "      <th>1</th>\n",
       "      <td>파견근로자 보호 등에 관한 법률 제6조의2 제1항, 민법 제390조, 제393조 파...</td>\n",
       "      <td>민법: 390조, 민사소송법: 248조, 민법: 162조 1항</td>\n",
       "    </tr>\n",
       "    <tr>\n",
       "      <th>2</th>\n",
       "      <td>구 파견근로자 보호 등에 관한 법률(2006. 12. 21. 법률 제8076호로 개...</td>\n",
       "      <td>민법: 413조</td>\n",
       "    </tr>\n",
       "    <tr>\n",
       "      <th>3</th>\n",
       "      <td>파견근로자 보호 등에 관한 법률 제2조 제1호 파견근로자 보호 등에 관한 법률 제2...</td>\n",
       "      <td>민사소송법: 248조, 민법: 162조 1항</td>\n",
       "    </tr>\n",
       "    <tr>\n",
       "      <th>4</th>\n",
       "      <td>근로기준법 제18조 근로기준법 제18조, 구 고등교육법 시행령(2024. 2. 20...</td>\n",
       "      <td>근로기준법: 18조, 18조</td>\n",
       "    </tr>\n",
       "    <tr>\n",
       "      <th>...</th>\n",
       "      <td>...</td>\n",
       "      <td>...</td>\n",
       "    </tr>\n",
       "    <tr>\n",
       "      <th>5011</th>\n",
       "      <td>소득세법(구) 제32조</td>\n",
       "      <td></td>\n",
       "    </tr>\n",
       "    <tr>\n",
       "      <th>5012</th>\n",
       "      <td>근로기준법 제28조, 제94조, 제87조</td>\n",
       "      <td>근로기준법: 28조</td>\n",
       "    </tr>\n",
       "    <tr>\n",
       "      <th>5013</th>\n",
       "      <td>행정소송법(법률 제213호) 제12조, 귀속재산처리법 제15조</td>\n",
       "      <td>귀속재산처리법: 15조</td>\n",
       "    </tr>\n",
       "    <tr>\n",
       "      <th>5014</th>\n",
       "      <td>노동조합법 제33조, 제34조, 노동위원회규칙 제5조</td>\n",
       "      <td>노동조합법: 33조</td>\n",
       "    </tr>\n",
       "    <tr>\n",
       "      <th>5015</th>\n",
       "      <td>형법 제129조</td>\n",
       "      <td>형법: 129조</td>\n",
       "    </tr>\n",
       "  </tbody>\n",
       "</table>\n",
       "<p>5016 rows × 2 columns</p>\n",
       "</div>"
      ],
      "text/plain": [
       "                                                  조문_분리                                                패턴1\n",
       "0     근로기준법 제28조, 제29조, 노동위원회법 제23조 근로기준법 제2조 제1항 제1...  근로기준법: 28조, 노동위원회법: 23조, 근로기준법: 2조 1항 1호, 2조 1...\n",
       "1     파견근로자 보호 등에 관한 법률 제6조의2 제1항, 민법 제390조, 제393조 파...                 민법: 390조, 민사소송법: 248조, 민법: 162조 1항\n",
       "2     구 파견근로자 보호 등에 관한 법률(2006. 12. 21. 법률 제8076호로 개...                                           민법: 413조\n",
       "3     파견근로자 보호 등에 관한 법률 제2조 제1호 파견근로자 보호 등에 관한 법률 제2...                           민사소송법: 248조, 민법: 162조 1항\n",
       "4     근로기준법 제18조 근로기준법 제18조, 구 고등교육법 시행령(2024. 2. 20...                                    근로기준법: 18조, 18조\n",
       "...                                                 ...                                                ...\n",
       "5011                                       소득세법(구) 제32조                                                   \n",
       "5012                             근로기준법 제28조, 제94조, 제87조                                         근로기준법: 28조\n",
       "5013                 행정소송법(법률 제213호) 제12조, 귀속재산처리법 제15조                                       귀속재산처리법: 15조\n",
       "5014                      노동조합법 제33조, 제34조, 노동위원회규칙 제5조                                         노동조합법: 33조\n",
       "5015                                           형법 제129조                                           형법: 129조\n",
       "\n",
       "[5016 rows x 2 columns]"
      ]
     },
     "execution_count": 247,
     "metadata": {},
     "output_type": "execute_result"
    }
   ],
   "source": [
    "data[['조문_분리','패턴1']]"
   ]
  },
  {
   "cell_type": "code",
   "execution_count": 248,
   "metadata": {},
   "outputs": [],
   "source": [
    "data.to_csv(r'C:\\Users\\user\\Desktop\\프로젝트 기획서\\NoF\\data\\1.csv', index=False)"
   ]
  },
  {
   "cell_type": "markdown",
   "metadata": {},
   "source": [
    "#### 패턴 2: 구 고등교육법 시행령(2024. 2. 20. 대통령령 제34227호로 개정되기 전의 것) 제6조 제1항"
   ]
  },
  {
   "cell_type": "markdown",
   "metadata": {},
   "source": [
    "법률명: \"구 고등교육법 시행령,\" \"구 건설산업기본법,\" \"구 근로기준법\" 등으로 특정 법령 이름이 먼저 나타납니다. \"구\"라는 접두사는 개정되기 전의 법을 의미합니다.\n",
    "\n",
    "개정 정보: 개정 일자와 개정 조항이 괄호 안에 표시됩니다.\n",
    "\n",
    "형식: (<개정일자> <개정번호>로 개정되기 전의 것)\n",
    "예: (2024. 2. 20. 대통령령 제34227호로 개정되기 전의 것)\n",
    "조항 정보:\n",
    "\n",
    "제<숫자>조, 제<숫자>항, 제<숫자>호와 같은 형식으로 조항이 나타납니다.\n",
    "조항은 쉼표(,)로 구분되며, 한 개 이상의 조항이 연속적으로 나올 수 있습니다.\n",
    "예: 제6조 제1항, 제25조, 제96조 제4호, 제109조, 제1항 제4호\n",
    "복합 조항:\n",
    "\n",
    "여러 조항이나 항목이 함께 표기되며, 일부 조항은 같은 법에서 여러 개로 나열될 수 있습니다.\n",
    "예: 구 근로기준법 ... 제44조의2, 제109조"
   ]
  },
  {
   "cell_type": "code",
   "execution_count": 227,
   "metadata": {},
   "outputs": [],
   "source": [
    "df = pd.read_csv(r'C:\\Users\\user\\Desktop\\프로젝트 기획서\\NoF\\data\\df_labor_keyword.csv')\n",
    "data2 = df[['사건번호','참조조문','참조판례']].copy()"
   ]
  },
  {
   "cell_type": "code",
   "execution_count": 230,
   "metadata": {},
   "outputs": [
    {
     "name": "stdout",
     "output_type": "stream",
     "text": [
      "<class 'pandas.core.frame.DataFrame'>\n",
      "RangeIndex: 5016 entries, 0 to 5015\n",
      "Data columns (total 3 columns):\n",
      " #   Column  Non-Null Count  Dtype \n",
      "---  ------  --------------  ----- \n",
      " 0   사건번호    5016 non-null   object\n",
      " 1   참조조문    3724 non-null   object\n",
      " 2   참조판례    2450 non-null   object\n",
      "dtypes: object(3)\n",
      "memory usage: 117.7+ KB\n"
     ]
    }
   ],
   "source": [
    "data2.info()"
   ]
  },
  {
   "cell_type": "code",
   "execution_count": null,
   "metadata": {},
   "outputs": [
    {
     "name": "stdout",
     "output_type": "stream",
     "text": [
      "참조조문 없음 수: 1292\n",
      "참조판례 없음 수: 1292\n"
     ]
    }
   ],
   "source": [
    "import pandas as pd\n",
    "\n",
    "# 예시 데이터프레임 생성 (실제 데이터로 대체)\n",
    "# data = {\n",
    "#     '사건번호': ['2023가단1234', '2023가단1235', '2023가단1236'],\n",
    "#     '참조조문': [None, '법 제1조<br/>', '법 제2조\\n    \\n'],\n",
    "#     '참조판례': [None, '판례 A', None]\n",
    "# }\n",
    "\n",
    "# df = pd.DataFrame(data)\n",
    "\n",
    "# Null 값 대체 및 문자열 정제 함수 정의\n",
    "def preprocess_column(column):\n",
    "    return column.fillna('없음').str.replace('<br/>', '').str.replace('\\n', '').str.strip()\n",
    "\n",
    "# 각 열에 대해 전처리 함수 적용\n",
    "data['참조조문'] = preprocess_column(data['참조조문'])\n",
    "data['참조판례'] = preprocess_column(data['참조판례'])\n",
    "\n",
    "# '참조조문 없음'의 개수 출력\n",
    "count_null_참조조문 = (data['참조조문'] == '없음').sum()\n",
    "print(f\"참조조문 없음 수: {count_null_참조조문}\")\n",
    "\n",
    "# '참조판례 없음' 출력\n",
    "count_null_참조판례 = data[data['참조판례'] == '없음'].sum()\n",
    "print(f\"참조판례 없음 수: {count_null_참조조문}\")"
   ]
  },
  {
   "cell_type": "code",
   "execution_count": 232,
   "metadata": {},
   "outputs": [
    {
     "name": "stdout",
     "output_type": "stream",
     "text": [
      "                                                   참조조문                                              조문_분리\n",
      "0     [1] 근로기준법 제28조, 제29조, 노동위원회법 제23조 / [2] 근로기준법 ...  [근로기준법 제28조, 제29조, 노동위원회법 제23조, 근로기준법 제2조 제1항 ...\n",
      "1     [1] 파견근로자 보호 등에 관한 법률 제6조의2 제1항, 민법 제390조, 제39...  [파견근로자 보호 등에 관한 법률 제6조의2 제1항, 민법 제390조, 제393조,...\n",
      "2     구 파견근로자 보호 등에 관한 법률(2006. 12. 21. 법률 제8076호로 개...  [구 파견근로자 보호 등에 관한 법률(2006. 12. 21. 법률 제8076호로 ...\n",
      "3     [1] 파견근로자 보호 등에 관한 법률 제2조 제1호 / [2] 파견근로자 보호 등...  [파견근로자 보호 등에 관한 법률 제2조 제1호, 파견근로자 보호 등에 관한 법률 ...\n",
      "4     [1] 근로기준법 제18조 / [2] 근로기준법 제18조, 구 고등교육법 시행령(2...  [근로기준법 제18조, 근로기준법 제18조, 구 고등교육법 시행령(2024. 2. ...\n",
      "...                                                 ...                                                ...\n",
      "5011                                       소득세법(구) 제32조                                     [소득세법(구) 제32조]\n",
      "5012  근로기준법 제28조,                         제94조,     ...                           [근로기준법 제28조, 제94조, 제87조]\n",
      "5013         행정소송법(법률 제213호) 제12조,         귀속재산처리법 제15조               [행정소송법(법률 제213호) 제12조, 귀속재산처리법 제15조]\n",
      "5014                      노동조합법 제33조, 제34조, 노동위원회규칙 제5조                    [노동조합법 제33조, 제34조, 노동위원회규칙 제5조]\n",
      "5015                                           형법 제129조                                         [형법 제129조]\n",
      "\n",
      "[5016 rows x 2 columns]\n"
     ]
    }
   ],
   "source": [
    "import re\n",
    "import pandas as pd\n",
    "\n",
    "\n",
    "# 분리 및 전처리 함수 정의\n",
    "def split_text(text):\n",
    "    # 대괄호 안 숫자 기준으로 문장 분리\n",
    "    sentences_by_brackets = re.split(r'\\[\\d+\\]', text)\n",
    "    sentences_by_brackets = [s.strip() for s in sentences_by_brackets if s.strip()]  # 공백 제거\n",
    "    \n",
    "    # 각 결과를 슬래시(/)로 다시 분리 및 공백 정제\n",
    "    split_sentences = []\n",
    "    for sentence in sentences_by_brackets:\n",
    "        processed_sentence = preprocess_space(sentence)\n",
    "        split_sentences.extend([s.strip() for s in processed_sentence.split('/') if s.strip()])\n",
    "    \n",
    "    return split_sentences\n",
    "\n",
    "# 공백을 하나로 줄이는 함수\n",
    "def preprocess_space(text):\n",
    "    return ' '.join(text.split())\n",
    "\n",
    "# 각 행에 대해 분리 및 공백 정제 함수 적용\n",
    "data2['조문_분리'] = data2['참조조문'].apply(split_text)\n",
    "\n",
    "# 결과 출력\n",
    "print(data2[['참조조문', '조문_분리']])"
   ]
  },
  {
   "cell_type": "code",
   "execution_count": 249,
   "metadata": {},
   "outputs": [
    {
     "data": {
      "text/plain": [
       "조문_분리\n",
       "없음                                                                                                                                                                                                                                                                                     1292\n",
       "근로기준법 제27조                                                                                                                                                                                                                                                                               37\n",
       "근로기준법 제27조 제1항                                                                                                                                                                                                                                                                           33\n",
       "근로기준법 제28조                                                                                                                                                                                                                                                                               24\n",
       "근로기준법 제2조 제1항 제1호 근로기준법 제2조 제1항 제1호                                                                                                                                                                                                                                                      24\n",
       "                                                                                                                                                                                                                                                                                       ... \n",
       "기간제 및 단시간근로자 보호 등에 관한 법률 제8조 제1항 기간제 및 단시간근로자 보호 등에 관한 법률 제8조, 제9조, 제10조, 노동위원회법 제23조                                                                                                                                                                                                     1\n",
       "헌법 제10조, 제36조 제1항, 제37조 제1항, 남녀고용평등과 일·가정 양립 지원에 관한 법률 제19조의5 근로기준법 제23조                                                                                                                                                                                                                  1\n",
       "구 산업안전보건법(2019. 1. 15. 법률 제16272호로 전부 개정되기 전의 것) 제2조 제1호(현행 제2조 제1호 참조), 제26조 제2항(현행 제52조 제1항, 제2항 참조), 제3항(현행 제52조 제4항 참조), 산업안전보건법 제52조 구 산업안전보건법(2019. 1. 15. 법률 제16272호로 전부 개정되기 전의 것) 제2조 제1호(현행 제2조 제1호 참조), 제26조 제2항(현행 제52조 제1항, 제2항 참조), 제3항(현행 제52조 제4항 참조), 산업안전보건법 제52조       1\n",
       "근로기준법 제23조, 기간제 및 단시간근로자 보호 등에 관한 법률 제1조, 제4조                                                                                                                                                                                                                                             1\n",
       "파견근로자 보호 등에 관한 법률 제6조의2 제1항, 민법 제390조, 제393조 파견근로자 보호 등에 관한 법률 제6조의2 제1항, 민사소송법 제248조[소의 이익], 민법 제162조 제1항                                                                                                                                                                                1\n",
       "Name: count, Length: 3206, dtype: int64"
      ]
     },
     "execution_count": 249,
     "metadata": {},
     "output_type": "execute_result"
    }
   ],
   "source": [
    "data['조문_분리'].value_counts()"
   ]
  },
  {
   "cell_type": "code",
   "execution_count": 251,
   "metadata": {},
   "outputs": [
    {
     "name": "stdout",
     "output_type": "stream",
     "text": [
      "                                                  조문_분리   패턴2\n",
      "0     [근로기준법 제28조, 제29조, 노동위원회법 제23조, 근로기준법 제2조 제1항 ...  None\n",
      "1     [파견근로자 보호 등에 관한 법률 제6조의2 제1항, 민법 제390조, 제393조,...  None\n",
      "2     [구 파견근로자 보호 등에 관한 법률(2006. 12. 21. 법률 제8076호로 ...  None\n",
      "3     [파견근로자 보호 등에 관한 법률 제2조 제1호, 파견근로자 보호 등에 관한 법률 ...  None\n",
      "4     [근로기준법 제18조, 근로기준법 제18조, 구 고등교육법 시행령(2024. 2. ...  None\n",
      "...                                                 ...   ...\n",
      "5011                                     [소득세법(구) 제32조]  None\n",
      "5012                           [근로기준법 제28조, 제94조, 제87조]  None\n",
      "5013               [행정소송법(법률 제213호) 제12조, 귀속재산처리법 제15조]  None\n",
      "5014                    [노동조합법 제33조, 제34조, 노동위원회규칙 제5조]  None\n",
      "5015                                         [형법 제129조]  None\n",
      "\n",
      "[5016 rows x 2 columns]\n",
      "패턴2\n",
      "None    5016\n",
      "Name: count, dtype: int64\n"
     ]
    }
   ],
   "source": [
    "import re\n",
    "import pandas as pd\n",
    "\n",
    "# # 예제 데이터프레임 생성\n",
    "# data = pd.DataFrame({\n",
    "#     '참조조문': [\n",
    "#         \"구 민법(제1조 제2항)\",\n",
    "#         \"상법(제3조)\",\n",
    "#         None,  # NaN 또는 다른 비문자열 값 예시\n",
    "#         \"형법 제5조 제3항\"\n",
    "#     ]\n",
    "# })\n",
    "# data['조문_분리'] = data['조문_분리'].astype(str)\n",
    "# 법률, 개정 정보, 조항 정보 추출 함수\n",
    "def extract_legal_terms(text):\n",
    "    # 문자열인지 확인\n",
    "    if not isinstance(text, str):\n",
    "        return None  # 문자열이 아닌 경우 None 반환\n",
    "\n",
    "    # 정규 표현식을 사용하여 매칭\n",
    "    pattern = r'(\\b구?\\s*[\\w\\s가-힣]+법(?:\\s*\\([^)]*\\))?\\s*(제\\d+(?:조|항|호)?(?:의\\d+)?(?:,\\s*제\\d+(?:조|항|호)?)*?)*)'\n",
    "    matches = re.findall(pattern, text)\n",
    "    # return '; '.join(matches) if matches else None\n",
    "    return list(map(';'.join(matches))) if matches else None\n",
    "\n",
    "\n",
    "data['조문_분리'] = data['참조조문'].apply(split_text)\n",
    "# 추출한 정보를 새로운 컬럼에 추가\n",
    "data['패턴2'] = data['조문_분리'].apply(extract_legal_terms)\n",
    "\n",
    "# 결과 출력\n",
    "print(data[['조문_분리', '패턴2']])\n",
    "\n",
    "# 열 값 수 확인\n",
    "value_counts = data['패턴2'].value_counts(dropna=False)\n",
    "print(value_counts)"
   ]
  },
  {
   "cell_type": "code",
   "execution_count": 252,
   "metadata": {},
   "outputs": [
    {
     "name": "stdout",
     "output_type": "stream",
     "text": [
      "<class 'pandas.core.frame.DataFrame'>\n",
      "RangeIndex: 5016 entries, 0 to 5015\n",
      "Data columns (total 6 columns):\n",
      " #   Column  Non-Null Count  Dtype \n",
      "---  ------  --------------  ----- \n",
      " 0   사건번호    5016 non-null   object\n",
      " 1   참조조문    5016 non-null   object\n",
      " 2   참조판례    5016 non-null   object\n",
      " 3   조문_분리   5016 non-null   object\n",
      " 4   패턴1     5016 non-null   object\n",
      " 5   패턴2     0 non-null      object\n",
      "dtypes: object(6)\n",
      "memory usage: 235.3+ KB\n"
     ]
    }
   ],
   "source": [
    "data.info()"
   ]
  },
  {
   "cell_type": "code",
   "execution_count": 238,
   "metadata": {},
   "outputs": [
    {
     "name": "stdout",
     "output_type": "stream",
     "text": [
      "<class 'pandas.core.frame.DataFrame'>\n",
      "RangeIndex: 5016 entries, 0 to 5015\n",
      "Data columns (total 5 columns):\n",
      " #   Column  Non-Null Count  Dtype \n",
      "---  ------  --------------  ----- \n",
      " 0   사건번호    5016 non-null   object\n",
      " 1   참조조문    5016 non-null   object\n",
      " 2   참조판례    5016 non-null   object\n",
      " 3   조문_분리   5016 non-null   object\n",
      " 4   패턴2     0 non-null      object\n",
      "dtypes: object(5)\n",
      "memory usage: 196.1+ KB\n"
     ]
    }
   ],
   "source": [
    "data2.info()"
   ]
  },
  {
   "cell_type": "markdown",
   "metadata": {},
   "source": [
    "#### 패턴3 :   \"구 파견근로자 보호 등에 관한 법률(2006. 12. 21. 법률 제8076호로 개정되기 전의 것) 제6조 제3항(현행 제6조의2 제1항 제3호, 제2항 참조)"
   ]
  },
  {
   "cell_type": "code",
   "execution_count": 239,
   "metadata": {},
   "outputs": [
    {
     "ename": "TypeError",
     "evalue": "sequence item 0: expected str instance, tuple found",
     "output_type": "error",
     "traceback": [
      "\u001b[1;31m---------------------------------------------------------------------------\u001b[0m",
      "\u001b[1;31mTypeError\u001b[0m                                 Traceback (most recent call last)",
      "Cell \u001b[1;32mIn[239], line 24\u001b[0m\n\u001b[0;32m     21\u001b[0m     \u001b[38;5;28;01mreturn\u001b[39;00m \u001b[38;5;124m'\u001b[39m\u001b[38;5;124m; \u001b[39m\u001b[38;5;124m'\u001b[39m\u001b[38;5;241m.\u001b[39mjoin(matches) \u001b[38;5;28;01mif\u001b[39;00m matches \u001b[38;5;28;01melse\u001b[39;00m \u001b[38;5;28;01mNone\u001b[39;00m\n\u001b[0;32m     23\u001b[0m \u001b[38;5;66;03m# 추출한 정보를 새로운 컬럼에 추가\u001b[39;00m\n\u001b[1;32m---> 24\u001b[0m data2[\u001b[38;5;124m'\u001b[39m\u001b[38;5;124m패턴3\u001b[39m\u001b[38;5;124m'\u001b[39m] \u001b[38;5;241m=\u001b[39m \u001b[43mdata2\u001b[49m\u001b[43m[\u001b[49m\u001b[38;5;124;43m'\u001b[39;49m\u001b[38;5;124;43m참조조문\u001b[39;49m\u001b[38;5;124;43m'\u001b[39;49m\u001b[43m]\u001b[49m\u001b[38;5;241;43m.\u001b[39;49m\u001b[43mapply\u001b[49m\u001b[43m(\u001b[49m\u001b[43mextract_legal_terms\u001b[49m\u001b[43m)\u001b[49m\n\u001b[0;32m     26\u001b[0m \u001b[38;5;66;03m# 결과 출력\u001b[39;00m\n\u001b[0;32m     27\u001b[0m \u001b[38;5;28mprint\u001b[39m(data2[[\u001b[38;5;124m'\u001b[39m\u001b[38;5;124m참조조문\u001b[39m\u001b[38;5;124m'\u001b[39m, \u001b[38;5;124m'\u001b[39m\u001b[38;5;124m패턴3\u001b[39m\u001b[38;5;124m'\u001b[39m]])\n",
      "File \u001b[1;32mc:\\Users\\user\\anaconda3\\envs\\project\\Lib\\site-packages\\pandas\\core\\series.py:4924\u001b[0m, in \u001b[0;36mSeries.apply\u001b[1;34m(self, func, convert_dtype, args, by_row, **kwargs)\u001b[0m\n\u001b[0;32m   4789\u001b[0m \u001b[38;5;28;01mdef\u001b[39;00m \u001b[38;5;21mapply\u001b[39m(\n\u001b[0;32m   4790\u001b[0m     \u001b[38;5;28mself\u001b[39m,\n\u001b[0;32m   4791\u001b[0m     func: AggFuncType,\n\u001b[1;32m   (...)\u001b[0m\n\u001b[0;32m   4796\u001b[0m     \u001b[38;5;241m*\u001b[39m\u001b[38;5;241m*\u001b[39mkwargs,\n\u001b[0;32m   4797\u001b[0m ) \u001b[38;5;241m-\u001b[39m\u001b[38;5;241m>\u001b[39m DataFrame \u001b[38;5;241m|\u001b[39m Series:\n\u001b[0;32m   4798\u001b[0m \u001b[38;5;250m    \u001b[39m\u001b[38;5;124;03m\"\"\"\u001b[39;00m\n\u001b[0;32m   4799\u001b[0m \u001b[38;5;124;03m    Invoke function on values of Series.\u001b[39;00m\n\u001b[0;32m   4800\u001b[0m \n\u001b[1;32m   (...)\u001b[0m\n\u001b[0;32m   4915\u001b[0m \u001b[38;5;124;03m    dtype: float64\u001b[39;00m\n\u001b[0;32m   4916\u001b[0m \u001b[38;5;124;03m    \"\"\"\u001b[39;00m\n\u001b[0;32m   4917\u001b[0m     \u001b[38;5;28;01mreturn\u001b[39;00m \u001b[43mSeriesApply\u001b[49m\u001b[43m(\u001b[49m\n\u001b[0;32m   4918\u001b[0m \u001b[43m        \u001b[49m\u001b[38;5;28;43mself\u001b[39;49m\u001b[43m,\u001b[49m\n\u001b[0;32m   4919\u001b[0m \u001b[43m        \u001b[49m\u001b[43mfunc\u001b[49m\u001b[43m,\u001b[49m\n\u001b[0;32m   4920\u001b[0m \u001b[43m        \u001b[49m\u001b[43mconvert_dtype\u001b[49m\u001b[38;5;241;43m=\u001b[39;49m\u001b[43mconvert_dtype\u001b[49m\u001b[43m,\u001b[49m\n\u001b[0;32m   4921\u001b[0m \u001b[43m        \u001b[49m\u001b[43mby_row\u001b[49m\u001b[38;5;241;43m=\u001b[39;49m\u001b[43mby_row\u001b[49m\u001b[43m,\u001b[49m\n\u001b[0;32m   4922\u001b[0m \u001b[43m        \u001b[49m\u001b[43margs\u001b[49m\u001b[38;5;241;43m=\u001b[39;49m\u001b[43margs\u001b[49m\u001b[43m,\u001b[49m\n\u001b[0;32m   4923\u001b[0m \u001b[43m        \u001b[49m\u001b[43mkwargs\u001b[49m\u001b[38;5;241;43m=\u001b[39;49m\u001b[43mkwargs\u001b[49m\u001b[43m,\u001b[49m\n\u001b[1;32m-> 4924\u001b[0m \u001b[43m    \u001b[49m\u001b[43m)\u001b[49m\u001b[38;5;241;43m.\u001b[39;49m\u001b[43mapply\u001b[49m\u001b[43m(\u001b[49m\u001b[43m)\u001b[49m\n",
      "File \u001b[1;32mc:\\Users\\user\\anaconda3\\envs\\project\\Lib\\site-packages\\pandas\\core\\apply.py:1427\u001b[0m, in \u001b[0;36mSeriesApply.apply\u001b[1;34m(self)\u001b[0m\n\u001b[0;32m   1424\u001b[0m     \u001b[38;5;28;01mreturn\u001b[39;00m \u001b[38;5;28mself\u001b[39m\u001b[38;5;241m.\u001b[39mapply_compat()\n\u001b[0;32m   1426\u001b[0m \u001b[38;5;66;03m# self.func is Callable\u001b[39;00m\n\u001b[1;32m-> 1427\u001b[0m \u001b[38;5;28;01mreturn\u001b[39;00m \u001b[38;5;28;43mself\u001b[39;49m\u001b[38;5;241;43m.\u001b[39;49m\u001b[43mapply_standard\u001b[49m\u001b[43m(\u001b[49m\u001b[43m)\u001b[49m\n",
      "File \u001b[1;32mc:\\Users\\user\\anaconda3\\envs\\project\\Lib\\site-packages\\pandas\\core\\apply.py:1507\u001b[0m, in \u001b[0;36mSeriesApply.apply_standard\u001b[1;34m(self)\u001b[0m\n\u001b[0;32m   1501\u001b[0m \u001b[38;5;66;03m# row-wise access\u001b[39;00m\n\u001b[0;32m   1502\u001b[0m \u001b[38;5;66;03m# apply doesn't have a `na_action` keyword and for backward compat reasons\u001b[39;00m\n\u001b[0;32m   1503\u001b[0m \u001b[38;5;66;03m# we need to give `na_action=\"ignore\"` for categorical data.\u001b[39;00m\n\u001b[0;32m   1504\u001b[0m \u001b[38;5;66;03m# TODO: remove the `na_action=\"ignore\"` when that default has been changed in\u001b[39;00m\n\u001b[0;32m   1505\u001b[0m \u001b[38;5;66;03m#  Categorical (GH51645).\u001b[39;00m\n\u001b[0;32m   1506\u001b[0m action \u001b[38;5;241m=\u001b[39m \u001b[38;5;124m\"\u001b[39m\u001b[38;5;124mignore\u001b[39m\u001b[38;5;124m\"\u001b[39m \u001b[38;5;28;01mif\u001b[39;00m \u001b[38;5;28misinstance\u001b[39m(obj\u001b[38;5;241m.\u001b[39mdtype, CategoricalDtype) \u001b[38;5;28;01melse\u001b[39;00m \u001b[38;5;28;01mNone\u001b[39;00m\n\u001b[1;32m-> 1507\u001b[0m mapped \u001b[38;5;241m=\u001b[39m \u001b[43mobj\u001b[49m\u001b[38;5;241;43m.\u001b[39;49m\u001b[43m_map_values\u001b[49m\u001b[43m(\u001b[49m\n\u001b[0;32m   1508\u001b[0m \u001b[43m    \u001b[49m\u001b[43mmapper\u001b[49m\u001b[38;5;241;43m=\u001b[39;49m\u001b[43mcurried\u001b[49m\u001b[43m,\u001b[49m\u001b[43m \u001b[49m\u001b[43mna_action\u001b[49m\u001b[38;5;241;43m=\u001b[39;49m\u001b[43maction\u001b[49m\u001b[43m,\u001b[49m\u001b[43m \u001b[49m\u001b[43mconvert\u001b[49m\u001b[38;5;241;43m=\u001b[39;49m\u001b[38;5;28;43mself\u001b[39;49m\u001b[38;5;241;43m.\u001b[39;49m\u001b[43mconvert_dtype\u001b[49m\n\u001b[0;32m   1509\u001b[0m \u001b[43m\u001b[49m\u001b[43m)\u001b[49m\n\u001b[0;32m   1511\u001b[0m \u001b[38;5;28;01mif\u001b[39;00m \u001b[38;5;28mlen\u001b[39m(mapped) \u001b[38;5;129;01mand\u001b[39;00m \u001b[38;5;28misinstance\u001b[39m(mapped[\u001b[38;5;241m0\u001b[39m], ABCSeries):\n\u001b[0;32m   1512\u001b[0m     \u001b[38;5;66;03m# GH#43986 Need to do list(mapped) in order to get treated as nested\u001b[39;00m\n\u001b[0;32m   1513\u001b[0m     \u001b[38;5;66;03m#  See also GH#25959 regarding EA support\u001b[39;00m\n\u001b[0;32m   1514\u001b[0m     \u001b[38;5;28;01mreturn\u001b[39;00m obj\u001b[38;5;241m.\u001b[39m_constructor_expanddim(\u001b[38;5;28mlist\u001b[39m(mapped), index\u001b[38;5;241m=\u001b[39mobj\u001b[38;5;241m.\u001b[39mindex)\n",
      "File \u001b[1;32mc:\\Users\\user\\anaconda3\\envs\\project\\Lib\\site-packages\\pandas\\core\\base.py:921\u001b[0m, in \u001b[0;36mIndexOpsMixin._map_values\u001b[1;34m(self, mapper, na_action, convert)\u001b[0m\n\u001b[0;32m    918\u001b[0m \u001b[38;5;28;01mif\u001b[39;00m \u001b[38;5;28misinstance\u001b[39m(arr, ExtensionArray):\n\u001b[0;32m    919\u001b[0m     \u001b[38;5;28;01mreturn\u001b[39;00m arr\u001b[38;5;241m.\u001b[39mmap(mapper, na_action\u001b[38;5;241m=\u001b[39mna_action)\n\u001b[1;32m--> 921\u001b[0m \u001b[38;5;28;01mreturn\u001b[39;00m \u001b[43malgorithms\u001b[49m\u001b[38;5;241;43m.\u001b[39;49m\u001b[43mmap_array\u001b[49m\u001b[43m(\u001b[49m\u001b[43marr\u001b[49m\u001b[43m,\u001b[49m\u001b[43m \u001b[49m\u001b[43mmapper\u001b[49m\u001b[43m,\u001b[49m\u001b[43m \u001b[49m\u001b[43mna_action\u001b[49m\u001b[38;5;241;43m=\u001b[39;49m\u001b[43mna_action\u001b[49m\u001b[43m,\u001b[49m\u001b[43m \u001b[49m\u001b[43mconvert\u001b[49m\u001b[38;5;241;43m=\u001b[39;49m\u001b[43mconvert\u001b[49m\u001b[43m)\u001b[49m\n",
      "File \u001b[1;32mc:\\Users\\user\\anaconda3\\envs\\project\\Lib\\site-packages\\pandas\\core\\algorithms.py:1743\u001b[0m, in \u001b[0;36mmap_array\u001b[1;34m(arr, mapper, na_action, convert)\u001b[0m\n\u001b[0;32m   1741\u001b[0m values \u001b[38;5;241m=\u001b[39m arr\u001b[38;5;241m.\u001b[39mastype(\u001b[38;5;28mobject\u001b[39m, copy\u001b[38;5;241m=\u001b[39m\u001b[38;5;28;01mFalse\u001b[39;00m)\n\u001b[0;32m   1742\u001b[0m \u001b[38;5;28;01mif\u001b[39;00m na_action \u001b[38;5;129;01mis\u001b[39;00m \u001b[38;5;28;01mNone\u001b[39;00m:\n\u001b[1;32m-> 1743\u001b[0m     \u001b[38;5;28;01mreturn\u001b[39;00m \u001b[43mlib\u001b[49m\u001b[38;5;241;43m.\u001b[39;49m\u001b[43mmap_infer\u001b[49m\u001b[43m(\u001b[49m\u001b[43mvalues\u001b[49m\u001b[43m,\u001b[49m\u001b[43m \u001b[49m\u001b[43mmapper\u001b[49m\u001b[43m,\u001b[49m\u001b[43m \u001b[49m\u001b[43mconvert\u001b[49m\u001b[38;5;241;43m=\u001b[39;49m\u001b[43mconvert\u001b[49m\u001b[43m)\u001b[49m\n\u001b[0;32m   1744\u001b[0m \u001b[38;5;28;01melse\u001b[39;00m:\n\u001b[0;32m   1745\u001b[0m     \u001b[38;5;28;01mreturn\u001b[39;00m lib\u001b[38;5;241m.\u001b[39mmap_infer_mask(\n\u001b[0;32m   1746\u001b[0m         values, mapper, mask\u001b[38;5;241m=\u001b[39misna(values)\u001b[38;5;241m.\u001b[39mview(np\u001b[38;5;241m.\u001b[39muint8), convert\u001b[38;5;241m=\u001b[39mconvert\n\u001b[0;32m   1747\u001b[0m     )\n",
      "File \u001b[1;32mlib.pyx:2972\u001b[0m, in \u001b[0;36mpandas._libs.lib.map_infer\u001b[1;34m()\u001b[0m\n",
      "Cell \u001b[1;32mIn[239], line 21\u001b[0m, in \u001b[0;36mextract_legal_terms\u001b[1;34m(text)\u001b[0m\n\u001b[0;32m     19\u001b[0m pattern \u001b[38;5;241m=\u001b[39m \u001b[38;5;124mr\u001b[39m\u001b[38;5;124m'\u001b[39m\u001b[38;5;124m(\u001b[39m\u001b[38;5;124m\\\u001b[39m\u001b[38;5;124mb구?\u001b[39m\u001b[38;5;124m\\\u001b[39m\u001b[38;5;124ms*[\u001b[39m\u001b[38;5;124m\\\u001b[39m\u001b[38;5;124mw\u001b[39m\u001b[38;5;124m\\\u001b[39m\u001b[38;5;124ms가-힣]+법률(?:\u001b[39m\u001b[38;5;124m\\\u001b[39m\u001b[38;5;124ms*\u001b[39m\u001b[38;5;124m\\\u001b[39m\u001b[38;5;124m([^)]*\u001b[39m\u001b[38;5;124m\\\u001b[39m\u001b[38;5;124m))?\u001b[39m\u001b[38;5;124m\\\u001b[39m\u001b[38;5;124ms*(제\u001b[39m\u001b[38;5;124m\\\u001b[39m\u001b[38;5;124md+(?:조|항|호)?(?:의\u001b[39m\u001b[38;5;124m\\\u001b[39m\u001b[38;5;124md+)?(?:,\u001b[39m\u001b[38;5;124m\\\u001b[39m\u001b[38;5;124ms*제\u001b[39m\u001b[38;5;124m\\\u001b[39m\u001b[38;5;124md+(?:조|항|호)?)*?)*)\u001b[39m\u001b[38;5;124m'\u001b[39m\n\u001b[0;32m     20\u001b[0m matches \u001b[38;5;241m=\u001b[39m re\u001b[38;5;241m.\u001b[39mfindall(pattern, text)\n\u001b[1;32m---> 21\u001b[0m \u001b[38;5;28;01mreturn\u001b[39;00m \u001b[38;5;124;43m'\u001b[39;49m\u001b[38;5;124;43m; \u001b[39;49m\u001b[38;5;124;43m'\u001b[39;49m\u001b[38;5;241;43m.\u001b[39;49m\u001b[43mjoin\u001b[49m\u001b[43m(\u001b[49m\u001b[43mmatches\u001b[49m\u001b[43m)\u001b[49m \u001b[38;5;28;01mif\u001b[39;00m matches \u001b[38;5;28;01melse\u001b[39;00m \u001b[38;5;28;01mNone\u001b[39;00m\n",
      "\u001b[1;31mTypeError\u001b[0m: sequence item 0: expected str instance, tuple found"
     ]
    }
   ],
   "source": [
    "import re\n",
    "import pandas as pd\n",
    "\n",
    "# 예시 데이터 생성\n",
    "# data = {\n",
    "#     '참조조문': [\n",
    "#         \"파견근로자 보호 등에 관한 법률 제2조 제1호, \"\n",
    "#         \"구 파견근로자 보호 등에 관한 법률(2006. 12. 21. 법률 제8076호로 개정되기 전의 것) 제6조 제3항(현행 제6조의2 제1항 제3호, 제2항 참조), \"\n",
    "#         \"구 파견근로자 보호 등에 관한 법률(2007. 4. 11. 법률 제8372호로 개정되기 전의 것) 제6조의2 제1항 제4호(현행 제6조의2 제1항 제5호 참조), 제2항, \"\n",
    "#         \"구 파견근로자 보호 등에 관한 법률(2013. 3. 22. 법률 제11668호로 개정되기 전의 것) 제6조의2 제1항 제5호, 제2항\"\n",
    "#     ]\n",
    "# }\n",
    "\n",
    "# # 데이터프레임 생성\n",
    "# data = pd.DataFrame(data)\n",
    "\n",
    "# 법률, 개정 정보, 조항 정보 추출 함수\n",
    "def extract_legal_terms(text):\n",
    "    pattern = r'(\\b구?\\s*[\\w\\s가-힣]+법률(?:\\s*\\([^)]*\\))?\\s*(제\\d+(?:조|항|호)?(?:의\\d+)?(?:,\\s*제\\d+(?:조|항|호)?)*?)*)'\n",
    "    matches = re.findall(pattern, text)\n",
    "    return '; '.join(matches) if matches else None\n",
    "\n",
    "# 추출한 정보를 새로운 컬럼에 추가\n",
    "data2['패턴3'] = data2['참조조문'].apply(extract_legal_terms)\n",
    "\n",
    "# 결과 출력\n",
    "print(data2[['참조조문', '패턴3']])\n"
   ]
  },
  {
   "cell_type": "markdown",
   "metadata": {},
   "source": [
    "<<<< 참고코드>>>>"
   ]
  },
  {
   "cell_type": "code",
   "execution_count": null,
   "metadata": {},
   "outputs": [],
   "source": [
    "# 불용어 파일을 읽어 불용어 목록 생성\n",
    "with open(stopwords_file_path, 'r', encoding='utf-8') as f:\n",
    "    stopwords = set(f.read().splitlines())\n",
    "\n",
    "# 불용어 제거 함수 (리스트 상태로 처리)\n",
    "def remove_stopwords(tokens):\n",
    "    filtered_words = [\n",
    "        word for word in tokens \n",
    "        if len(word) > 1 \n",
    "        and word not in stopwords \n",
    "        and not word.isdigit()  # 숫자인 경우 제외\n",
    "        and word not in stopwords_pick \n",
    "        and not re.match(pattern, word)\n",
    "    ]\n",
    "    return ' '.join(filtered_words)  # 문자열로 반환 / 리스트로 변환하지 말 것\n",
    "\n",
    "\n",
    "\n",
    "# 전처리 함수 정의\n",
    "def preprocess_content(content):\n",
    "    if pd.isna(content):  # NaN 값에 대한 예외 처리\n",
    "        return content\n",
    "    \n",
    "    # content가 문자열인지 확인\n",
    "    if isinstance(content, str):\n",
    "        content = content.replace('<br/>', '')\n",
    "        content = content.replace('\\n', '')\n",
    "        content = content.replace('\\r', '')\n",
    "    \n",
    "    return content\n",
    "\n",
    "# applymap이 아닌 각 열에 개별적으로 apply 사용\n",
    "for col in columns_to_preprocess:\n",
    "    df_Labor[col] = df_Labor[col].apply(preprocess_content)"
   ]
  },
  {
   "cell_type": "markdown",
   "metadata": {},
   "source": [
    "<<<<<<<<<<<끝>>>>>>>>>>>"
   ]
  },
  {
   "cell_type": "code",
   "execution_count": null,
   "metadata": {},
   "outputs": [
    {
     "name": "stdout",
     "output_type": "stream",
     "text": [
      "                                                  조문_분리                                                패턴1\n",
      "0     [근로기준법 제28조, 제29조, 노동위원회법 제23조, 근로기준법 제2조 제1항 ...  근로기준법: 28조, 노동위원회법: 23조, 근로기준법: 2조 1항 1호, 근로기준...\n",
      "1     [파견근로자 보호 등에 관한 법률 제6조의2 제1항, 민법 제390조, 제393조,...                 민법: 390조, 민사소송법: 248조, 민법: 162조 1항\n",
      "2     [구 파견근로자 보호 등에 관한 법률(2006. 12. 21. 법률 제8076호로 ...                                           민법: 413조\n",
      "3     [파견근로자 보호 등에 관한 법률 제2조 제1호, 파견근로자 보호 등에 관한 법률 ...                       , , 민사소송법: 248조, 민법: 162조 1항\n",
      "4     [근로기준법 제18조, 근로기준법 제18조, 구 고등교육법 시행령(2024. 2. ...                             근로기준법: 18조, 근로기준법: 18조\n",
      "...                                                 ...                                                ...\n",
      "5011                                     [소득세법(구) 제32조]                                                   \n",
      "5012                           [근로기준법 제28조, 제94조, 제87조]                                         근로기준법: 28조\n",
      "5013               [행정소송법(법률 제213호) 제12조, 귀속재산처리법 제15조]                                       귀속재산처리법: 15조\n",
      "5014                    [노동조합법 제33조, 제34조, 노동위원회규칙 제5조]                                         노동조합법: 33조\n",
      "5015                                         [형법 제129조]                                           형법: 129조\n",
      "\n",
      "[5016 rows x 2 columns]\n"
     ]
    }
   ],
   "source": [
    "# 패턴 정의\n",
    "pattern = r'([가-힣]+법)\\s*제(\\d+조)(?:\\s*제(\\d+항))?(?:\\s*제(\\d+호))?'\n",
    "\n",
    "def extract_and_format(text):\n",
    "    # text가 리스트인 경우, 각 요소에 대해 개별적으로 함수 적용\n",
    "    if isinstance(text, list):\n",
    "        return ', '.join([extract_and_format(t) for t in text])\n",
    "\n",
    "    matches = re.findall(pattern, text)\n",
    "    formatted = []\n",
    "    \n",
    "    current_law = \"\"\n",
    "    for match in matches:\n",
    "        law = match[0]\n",
    "        clause = match[1]\n",
    "        section = match[2] if match[2] else \"\"  # None이면 빈 문자열로 대체\n",
    "        item = match[3] if match[3] else \"\"  # None이면 빈 문자열로 대체\n",
    "\n",
    "        # 법명이 동일하면 법명 생략하고 조항만 추가\n",
    "        if law == current_law:\n",
    "            formatted.append(f\"{clause} {section} {item}\".strip())\n",
    "        else:\n",
    "            formatted.append(f\"{law}: {clause} {section} {item}\".strip())\n",
    "            current_law = law\n",
    "\n",
    "    return ', '.join(formatted)\n",
    "\n",
    "# 변환 함수 적용\n",
    "data['패턴1'] = data['조문_분리'].apply(extract_and_format)\n",
    "\n",
    "# 결과 출력\n",
    "print(data[['조문_분리', '패턴1']])"
   ]
  },
  {
   "cell_type": "markdown",
   "metadata": {},
   "source": [
    "* sql 저장"
   ]
  },
  {
   "cell_type": "code",
   "execution_count": 23,
   "metadata": {},
   "outputs": [
    {
     "name": "stdout",
     "output_type": "stream",
     "text": [
      "데이터베이스 저장 완료\n"
     ]
    }
   ],
   "source": [
    "import pandas as pd\n",
    "from sqlalchemy import create_engine\n",
    "from sqlalchemy.dialects.mysql import LONGTEXT, TEXT\n",
    "from db_info import user, password, host, port, database\n",
    "\n",
    "# 데이터프레임 로드 예시\n",
    "# df_labor_reference = pd.read_csv('path/to/your/csv/file.csv')  # 필요한 경우 CSV 파일에서 로드\n",
    "\n",
    "# split_text를 문자열로 변환 및 HTML 태그 제거\n",
    "df_labor_reference['split_text'] = df_labor_reference['split_text'].apply(lambda x: ', '.join(x) if isinstance(x, list) else x)\n",
    "df_labor_reference['split_text'] = df_labor_reference['split_text'].str.replace('<[^>]+>', '', regex=True)\n",
    "df_labor_reference['split_text'] = df_labor_reference['split_text'].fillna('')\n",
    "df_labor_reference['참조조문'] = df_labor_reference['참조조문'].fillna('')\n",
    "\n",
    "# 데이터베이스 연결 설정\n",
    "dtype = {\n",
    "    '참조조문': TEXT,\n",
    "    'split_text': LONGTEXT\n",
    "}\n",
    "engine = create_engine(f\"mysql+pymysql://{user}:{password}@{host}:{port}/{database}\")\n",
    "\n",
    "# 데이터프레임을 MySQL 테이블에 저장\n",
    "try:\n",
    "    df_labor_reference.to_sql('labor_law_ref', con=engine, if_exists='replace', index=False, dtype=dtype)\n",
    "    print(\"데이터베이스 저장 완료\")\n",
    "except Exception as e:\n",
    "    print(f\"Error occurred: {e}\")\n",
    "\n",
    "# 연결 닫기\n",
    "engine.dispose()\n"
   ]
  },
  {
   "cell_type": "code",
   "execution_count": null,
   "metadata": {},
   "outputs": [],
   "source": [
    "import re\n",
    "def extract_laws(text):\n",
    "    if isinstance(text, str):  # 텍스트가 문자열인지 확인\n",
    "    # '법' 또는 '시행령'으로 끝나는 단어를 정규 표현식으로 추출\n",
    "        laws = re.findall(r'\\b(\\w+(?:법|시행령|에 관한 법률|규칙))\\b', text)\n",
    "        return set(laws)\n",
    "    return set()\n",
    "\n",
    "# 각 참조조문에서 법과 시행령 이름을 찾기\n",
    "law_names = set()\n",
    "for reference in df_labor_reference['참조조문']:\n",
    "    law_names.update(extract_laws(reference))\n",
    "\n",
    "# 스플릿하기  \n",
    "\n",
    "\n",
    "\n",
    "\n",
    "# 법과 시행령 이름을 붙이는 함수\n",
    "def add_law_prefix(x):\n",
    "    if isinstance(x, str):  \n",
    "        previous_law = None  # 이전 법 이름 저장\n",
    "        new_references = []\n",
    "\n",
    "        for part in x.split(','):\n",
    "            part = part.strip()\n",
    "            part = re.sub(r'[\\[\\]［］].*?[\\]\\］]', '', part)\n",
    "            part = re.sub(r'\\s*[가-힣]\\.\\s*', '', part)\n",
    "            part = part.strip('<br/>')\n",
    "            part = part.replace('/', ',')\n",
    "            part = re.sub(r'\\s+', ' ', part).strip()\n",
    "\n",
    "            # 현재 조각에 법 이름이 있는 경우, previous_law 업데이트\n",
    "            for law_name in law_names:\n",
    "                if law_name in part:\n",
    "                    previous_law = law_name  # 이전 법 이름을 현재 법 이름으로 설정\n",
    "                    break\n",
    "\n",
    "            # 법 이름이 없고, 조를 포함하는 경우에만 이전 법 이름 붙이기\n",
    "            if previous_law and not any(law_name in part for law_name in law_names):\n",
    "                if re.search(r'\\d+조', part):  # '조'를 포함하는 경우\n",
    "                    part = f\"{previous_law} {part}\"\n",
    "\n",
    "            new_references.append(part)\n",
    "\n",
    "        # 결과 조각들을 다시 쉼표로 결합하여 반환\n",
    "        return ', '.join(new_references)\n",
    "    return x  # 문자열이 아닐 경우 그대로 반환"
   ]
  },
  {
   "cell_type": "code",
   "execution_count": 25,
   "metadata": {},
   "outputs": [],
   "source": [
    "# 데이터프레임의 '참조조문' 열에 전처리 적용\n",
    "df_labor_reference['참조조문'] = df_labor_reference['참조조문'].apply(add_law_prefix)"
   ]
  },
  {
   "cell_type": "code",
   "execution_count": 26,
   "metadata": {},
   "outputs": [
    {
     "data": {
      "text/plain": [
       "0    근로기준법 제28조, 근로기준법 제29조, 노동위원회법 제23조, 근로기준법 제2조...\n",
       "1    파견근로자 보호 등에 관한 법률 제6조의2 제1항, 민법 제390조, 민법 제393...\n",
       "2    구 파견근로자 보호 등에 관한 법률(2006. 12. 21. 법률 제8076호로 개...\n",
       "3    파견근로자 보호 등에 관한 법률 제2조 제1호, 파견근로자 보호 등에 관한 법률 제...\n",
       "4    근로기준법 제18조, 근로기준법 제18조, 구 고등교육법 시행령(2024. 2. 2...\n",
       "Name: 참조조문, dtype: object"
      ]
     },
     "execution_count": 26,
     "metadata": {},
     "output_type": "execute_result"
    }
   ],
   "source": [
    "df_labor_reference['참조조문'].head()"
   ]
  },
  {
   "cell_type": "code",
   "execution_count": 28,
   "metadata": {},
   "outputs": [
    {
     "data": {
      "text/plain": [
       "0                 \n",
       "참조조문 없음               1292\n",
       "제2항                    265\n",
       "민법 제750조               200\n",
       "민법 제763조               196\n",
       "민법 제393조               163\n",
       "                      ... \n",
       "환경보전법 제26조의2             1\n",
       "환경보전법 제26조               1\n",
       "환경보전법 제15조의2             1\n",
       "환경보전법 제14조               1\n",
       "환경개선비용 부담법 제9조 제1항       1\n",
       "Name: count, Length: 5995, dtype: int64"
      ]
     },
     "execution_count": 28,
     "metadata": {},
     "output_type": "execute_result"
    }
   ],
   "source": [
    "#조문 참조 정도 확인\n",
    "refer_clause=[]\n",
    "for clause in df_labor_reference['참조조문']:\n",
    "    parts = clause.split(',')\n",
    "    parts = [part.strip() for part in parts if part.strip()]\n",
    "    for sub in parts:\n",
    "        refer_clause.append(sub)\n",
    "refer_clause = [item for item in refer_clause if item.strip()]\n",
    "refcla=pd.DataFrame(data=refer_clause)\n",
    "refcla.value_counts()"
   ]
  },
  {
   "cell_type": "code",
   "execution_count": 15,
   "metadata": {},
   "outputs": [
    {
     "name": "stdout",
     "output_type": "stream",
     "text": [
      "                             참조조문  \\\n",
      "0       근로기준법 제28조 제1항 제1호에 따라...   \n",
      "1           노동위원회법 제23조에 관한 규정...   \n",
      "2  구 파견근로자 보호 등에 관한 법률 제6조 제3항...   \n",
      "3           시행령 제6조 제1항의 세부 규정...   \n",
      "\n",
      "                                                법률용어  \n",
      "0  {'법명': [], '조항': ['제28조'], '항': ['제1항'], '호': ...  \n",
      "1  {'법명': [], '조항': ['제23조'], '항': [], '호': [], '...  \n",
      "2  {'법명': ['법률 '], '조항': ['제6조'], '항': ['제3항'], '...  \n",
      "3  {'법명': [], '조항': ['제6조'], '항': ['제1항'], '호': [...  \n"
     ]
    }
   ],
   "source": [
    "import pandas as pd\n",
    "import re\n",
    "\n",
    "# 예시 데이터프레임 생성\n",
    "data = {\n",
    "    '참조조문': [\n",
    "        '근로기준법 제28조 제1항 제1호에 따라...',\n",
    "        '노동위원회법 제23조에 관한 규정...',\n",
    "        '구 파견근로자 보호 등에 관한 법률 제6조 제3항...',\n",
    "        '시행령 제6조 제1항의 세부 규정...'\n",
    "    ]\n",
    "}\n",
    "df_labor_reference = pd.DataFrame(data)\n",
    "\n",
    "# 법명, 조항, 항, 호, 시행령을 추출하는 함수 정의\n",
    "def extract_legal_terms(text):\n",
    "    legal_terms = {\n",
    "        '법명': re.findall(r'(법률.+?)(?=제\\d+조)', text),\n",
    "        '조항': re.findall(r'제\\d+조', text),\n",
    "        '항': re.findall(r'제\\d+항', text),\n",
    "        '호': re.findall(r'제\\d+호', text),\n",
    "        '시행령': re.findall(r'(?<=시행령)(.*?)(?=제\\d+조)', text)\n",
    "    }\n",
    "    return legal_terms\n",
    "\n",
    "# 각 행에 대해 법률 용어 추출\n",
    "df_labor_reference['법률용어'] = df_labor_reference['참조조문'].apply(extract_legal_terms)\n",
    "\n",
    "# 결과 출력 (올바른 데이터프레임 사용)\n",
    "print(df_labor_reference[['참조조문', '법률용어']])\n"
   ]
  },
  {
   "cell_type": "markdown",
   "metadata": {},
   "source": [
    "# 3. 참조판례"
   ]
  },
  {
   "cell_type": "markdown",
   "metadata": {},
   "source": [
    "전처리"
   ]
  },
  {
   "cell_type": "code",
   "execution_count": 34,
   "metadata": {},
   "outputs": [],
   "source": [
    "\n",
    "df_labor_reference['참조판례']=df_labor_reference['참조판례'].fillna('참조판례 없음')\n",
    "#공백은 '참조판례 없음'으로 대체함."
   ]
  },
  {
   "cell_type": "code",
   "execution_count": 35,
   "metadata": {},
   "outputs": [],
   "source": [
    "#참조판례 정리\n",
    "\n",
    "clean_part=[]\n",
    "for part in df_labor_reference['참조판례']:\n",
    "    part = part.strip()\n",
    "    part = re.sub(r'[\\[\\]［］].*?[\\]\\］]', '', part)  # 대괄호와 그 안의 내용 제거\n",
    "    part = re.sub(r'\\s*[가-힣]\\.\\s*', '', part)  # '가.', '나.', '다.'와 같은 패턴 제거\n",
    "    part = part.strip('<br/>')  # 공백 제거\n",
    "    part = part.replace('/', ',')  # '/'를 ','로 변경\n",
    "    part = re.sub(r'\\s+', ' ', part).strip()\n",
    "    clean_part.append(part)\n",
    "\n",
    "df_labor_reference['참조판례']=clean_part"
   ]
  },
  {
   "cell_type": "code",
   "execution_count": 36,
   "metadata": {},
   "outputs": [
    {
     "data": {
      "text/plain": [
       "0       대법원 1996. 8. 23. 선고 95누11238 판결(공1996하, 2884) ...\n",
       "1       대법원 2007. 11. 16. 선고 2005다3229 판결, 대법원 2011. 4...\n",
       "2       대법원 2024. 3. 12. 선고 2019다223303, 223310 판결(공20...\n",
       "3       대법원 2015. 11. 26. 선고 2013다14965 판결(공2016상, 4) ...\n",
       "4                                                 참조판례 없음\n",
       "                              ...                        \n",
       "5011                                              참조판례 없음\n",
       "5012                                              참조판례 없음\n",
       "5013    1955. 8. 10. 선고, 4288행상41 판결(요 귀속재산처리법 제15조(15...\n",
       "5014                                              참조판례 없음\n",
       "5015                                              참조판례 없음\n",
       "Name: 참조판례, Length: 5016, dtype: object"
      ]
     },
     "execution_count": 36,
     "metadata": {},
     "output_type": "execute_result"
    }
   ],
   "source": [
    "\n",
    "df_labor_reference['참조판례']"
   ]
  },
  {
   "cell_type": "code",
   "execution_count": 37,
   "metadata": {},
   "outputs": [
    {
     "data": {
      "text/plain": [
       "0                                                     \n",
       "참조판례 없음                                                   2566\n",
       "대법원 2006. 12. 7. 선고 2004다29736 판결(공2007상, 104)              44\n",
       "대법원 2013. 12. 18. 선고 2012다89399 전원합의체 판결(공2014상, 236)       29\n",
       "대법원 1996. 5. 14. 선고 95다19256 판결(공1996하, 1837)               19\n",
       "대법원 1994. 12. 9. 선고 94다22859 판결(공1995상, 448)                18\n",
       "                                                          ... \n",
       "헌법재판소 2016. 9. 29. 선고 2014헌바254 전원재판부 결정(헌공240, 1474)        1\n",
       "헌법재판소 2017. 4. 27. 선고 2015헌바24 전원재판부 결정(헌공247, 456)          1\n",
       "헌법재판소 2018. 6. 28. 선고 2011헌바379                              1\n",
       "헌법재판소 2018. 6. 28. 선고 2016헌마1153 전원재판부 결정(헌공261, 1165)       1\n",
       "헌법재판소 2019. 9. 26. 선고 2018헌바218                              1\n",
       "Name: count, Length: 5888, dtype: int64"
      ]
     },
     "execution_count": 37,
     "metadata": {},
     "output_type": "execute_result"
    }
   ],
   "source": [
    "#판례 참조 정도 확인\n",
    "\n",
    "refered_jud=[]\n",
    "for clean_part in df_labor_reference['참조판례']:\n",
    "    parts = re.split(r',\\s*(?![^()]*\\))', clean_part)\n",
    "    for sub in parts:\n",
    "        refered_jud.append(sub)\n",
    "\n",
    "refered_jud = [item for item in refered_jud if item.strip()]\n",
    "\n",
    "refjud=pd.DataFrame(data=refered_jud)\n",
    "refjud.value_counts()"
   ]
  },
  {
   "cell_type": "code",
   "execution_count": 38,
   "metadata": {},
   "outputs": [
    {
     "data": {
      "text/html": [
       "<div>\n",
       "<style scoped>\n",
       "    .dataframe tbody tr th:only-of-type {\n",
       "        vertical-align: middle;\n",
       "    }\n",
       "\n",
       "    .dataframe tbody tr th {\n",
       "        vertical-align: top;\n",
       "    }\n",
       "\n",
       "    .dataframe thead th {\n",
       "        text-align: right;\n",
       "    }\n",
       "</style>\n",
       "<table border=\"1\" class=\"dataframe\">\n",
       "  <thead>\n",
       "    <tr style=\"text-align: right;\">\n",
       "      <th></th>\n",
       "      <th>0</th>\n",
       "    </tr>\n",
       "  </thead>\n",
       "  <tbody>\n",
       "    <tr>\n",
       "      <th>0</th>\n",
       "      <td>대법원 1996. 8. 23. 선고 95누11238 판결(공1996하, 2884)</td>\n",
       "    </tr>\n",
       "    <tr>\n",
       "      <th>1</th>\n",
       "      <td>대법원 1999. 2. 9. 선고 97다56235 판결(공1999상, 451)</td>\n",
       "    </tr>\n",
       "    <tr>\n",
       "      <th>2</th>\n",
       "      <td>대법원 2006. 12. 7. 선고 2004다29736 판결(공2007상, 104)</td>\n",
       "    </tr>\n",
       "    <tr>\n",
       "      <th>3</th>\n",
       "      <td>대법원 2008. 10. 23. 선고 2007다7973 판결</td>\n",
       "    </tr>\n",
       "    <tr>\n",
       "      <th>4</th>\n",
       "      <td>대법원 2023. 8. 18. 선고 2019다252004 판결(공2023하, 1640)</td>\n",
       "    </tr>\n",
       "  </tbody>\n",
       "</table>\n",
       "</div>"
      ],
      "text/plain": [
       "                                                  0\n",
       "0    대법원 1996. 8. 23. 선고 95누11238 판결(공1996하, 2884) \n",
       "1       대법원 1999. 2. 9. 선고 97다56235 판결(공1999상, 451)\n",
       "2    대법원 2006. 12. 7. 선고 2004다29736 판결(공2007상, 104)\n",
       "3                 대법원 2008. 10. 23. 선고 2007다7973 판결\n",
       "4  대법원 2023. 8. 18. 선고 2019다252004 판결(공2023하, 1640)"
      ]
     },
     "execution_count": 38,
     "metadata": {},
     "output_type": "execute_result"
    }
   ],
   "source": [
    "refjud.head()"
   ]
  }
 ],
 "metadata": {
  "kernelspec": {
   "display_name": "project",
   "language": "python",
   "name": "python3"
  },
  "language_info": {
   "codemirror_mode": {
    "name": "ipython",
    "version": 3
   },
   "file_extension": ".py",
   "mimetype": "text/x-python",
   "name": "python",
   "nbconvert_exporter": "python",
   "pygments_lexer": "ipython3",
   "version": "3.12.7"
  }
 },
 "nbformat": 4,
 "nbformat_minor": 2
}
