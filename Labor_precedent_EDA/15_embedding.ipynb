{
 "cells": [
  {
   "cell_type": "code",
   "execution_count": 2,
   "metadata": {},
   "outputs": [
    {
     "name": "stdout",
     "output_type": "stream",
     "text": [
      "데이터베이스 저장 완료\n"
     ]
    }
   ],
   "source": [
    "# db로 저장\n",
    "import pandas as pd\n",
    "from sqlalchemy import create_engine\n",
    "from sqlalchemy.dialects.mysql import LONGTEXT, TEXT\n",
    "from db_info import user, password, host, port, database\n",
    "\n",
    "####pandas dataframe에서는 불러올때 타입을 기본str로 불러와서 긴내용의 데이터삽입을 하려면 dtype을 설정해줘야함####\n",
    "dtype = {\n",
    "    '판례정보일련번호' : TEXT,\n",
    "    '사건번호': TEXT,\n",
    "    '선고': TEXT,\n",
    "    '판결유형': TEXT,\n",
    "    '판시사항': LONGTEXT,\n",
    "    '판결요지': LONGTEXT,\n",
    "    '참조조문': LONGTEXT,\n",
    "    '참조판례': LONGTEXT,\n",
    "    '판례내용': LONGTEXT,\n",
    "    '판례내용_상단': LONGTEXT,\n",
    "    '판례내용_이유': LONGTEXT,\n",
    "    '판례내용_이유_전처리': LONGTEXT,\n",
    "    '판례내용_이유_불용어제거': LONGTEXT,\n",
    "    '판례내용_이유_불용어제거': LONGTEXT,\n",
    "    '클러스터': TEXT,\n",
    "    '키워드': TEXT,\n",
    "    '사건명': TEXT,\n",
    "    '판례내용이유임베딩': TEXT,\n",
    "    '키워드임베딩': TEXT,\n",
    "    '판결요지임베딩': TEXT,\n",
    "    '판결요지임베딩': TEXT,\n",
    "    '판시사항임베딩': TEXT\n",
    " \n",
    "}\n",
    "#판례내용_이유,판례내용_이유(전처리),판례내용_이유(불용어제거),클러스터,키워드\n",
    "\n",
    "# DB정보\n",
    "user = user\n",
    "password = password\n",
    "host = host\n",
    "port = port\n",
    "database = database\n",
    "\n",
    "# CSV 파일 로드\n",
    "df_faud_embedding = pd.read_csv(r'C:\\Users\\user\\Desktop\\프로젝트 기획서\\NoF\\data\\df_fraud_embedding.csv')\n",
    "\n",
    "# MySQL 데이터베이스 연결 설정\n",
    "engine = create_engine(f\"mysql+pymysql://{user}:{password}@{host}:{port}/{database}\")\n",
    "\n",
    "# 데이터프레임을 MySQL 테이블에 저장\n",
    "df_faud_embedding.to_sql('faud_embedding', con=engine, if_exists='replace', index=False, dtype=dtype)\n",
    "# 연결 닫기\n",
    "engine.dispose()\n",
    "\n",
    "print(\"데이터베이스 저장 완료\")"
   ]
  },
  {
   "cell_type": "code",
   "execution_count": 3,
   "metadata": {},
   "outputs": [
    {
     "name": "stdout",
     "output_type": "stream",
     "text": [
      "데이터베이스 저장 완료\n"
     ]
    }
   ],
   "source": [
    "# db로 저장\n",
    "import pandas as pd\n",
    "from sqlalchemy import create_engine\n",
    "from sqlalchemy.dialects.mysql import LONGTEXT, TEXT\n",
    "from db_info import user, password, host, port, database\n",
    "\n",
    "####pandas dataframe에서는 불러올때 타입을 기본str로 불러와서 긴내용의 데이터삽입을 하려면 dtype을 설정해줘야함####\n",
    "dtype = {\n",
    "    '판례정보일련번호' : TEXT,\n",
    "    '사건번호': TEXT,\n",
    "    '선고': TEXT,\n",
    "    '판결유형': TEXT,\n",
    "    '판시사항': LONGTEXT,\n",
    "    '판결요지': LONGTEXT,\n",
    "    '참조조문': LONGTEXT,\n",
    "    '참조판례': LONGTEXT,\n",
    "    '판례내용': LONGTEXT,\n",
    "    '판례내용_상단': LONGTEXT,\n",
    "    '판례내용_이유': LONGTEXT,\n",
    "    '판례내용_이유_전처리': LONGTEXT,\n",
    "    '판례내용_이유_불용어제거': LONGTEXT,\n",
    "    '판례내용_이유_불용어제거': LONGTEXT,\n",
    "    '클러스터': TEXT,\n",
    "    '키워드': TEXT,\n",
    "    '사건명': TEXT,\n",
    "    '판례내용이유임베딩': TEXT,\n",
    "    '키워드임베딩': TEXT,\n",
    "    '판결요지임베딩': TEXT,\n",
    "    '판결요지임베딩': TEXT,\n",
    "    '판시사항임베딩': TEXT\n",
    " \n",
    "}\n",
    "#판례내용_이유,판례내용_이유(전처리),판례내용_이유(불용어제거),클러스터,키워드\n",
    "\n",
    "# DB정보\n",
    "user = user\n",
    "password = password\n",
    "host = host\n",
    "port = port\n",
    "database = database\n",
    "\n",
    "# CSV 파일 로드\n",
    "df_injury_embedding = pd.read_csv(r'C:\\Users\\user\\Desktop\\프로젝트 기획서\\NoF\\data\\df_injury_embedding.csv')\n",
    "\n",
    "# MySQL 데이터베이스 연결 설정\n",
    "engine = create_engine(f\"mysql+pymysql://{user}:{password}@{host}:{port}/{database}\")\n",
    "\n",
    "# 데이터프레임을 MySQL 테이블에 저장\n",
    "df_injury_embedding.to_sql('injury_embedding', con=engine, if_exists='replace', index=False, dtype=dtype)\n",
    "# 연결 닫기\n",
    "engine.dispose()\n",
    "\n",
    "print(\"데이터베이스 저장 완료\")"
   ]
  },
  {
   "cell_type": "code",
   "execution_count": 7,
   "metadata": {},
   "outputs": [
    {
     "data": {
      "text/plain": [
       "Index(['판례정보일련번호', '사건번호', '선고', '판결유형', '판시사항', '판결요지', '참조조문', '참조판례',\n",
       "       '판례내용', '판례내용_상단', '판례내용_이유', '판례내용_이유_전처리', '판례내용_제거_불용어',\n",
       "       '판례내용_이유_불용어제거', '클러스터', '키워드', '판례내용이유임베딩', '키워드임베딩', '판결요지임베딩',\n",
       "       '판시사항임베딩'],\n",
       "      dtype='object')"
      ]
     },
     "execution_count": 7,
     "metadata": {},
     "output_type": "execute_result"
    }
   ],
   "source": [
    "df_labor_embedding.columns"
   ]
  },
  {
   "cell_type": "code",
   "execution_count": 8,
   "metadata": {},
   "outputs": [
    {
     "name": "stdout",
     "output_type": "stream",
     "text": [
      "데이터베이스 저장 완료\n"
     ]
    }
   ],
   "source": [
    "# db로 저장\n",
    "import pandas as pd\n",
    "from sqlalchemy import create_engine\n",
    "from sqlalchemy.dialects.mysql import LONGTEXT, TEXT\n",
    "from db_info import user, password, host, port, database\n",
    "\n",
    "####pandas dataframe에서는 불러올때 타입을 기본str로 불러와서 긴내용의 데이터삽입을 하려면 dtype을 설정해줘야함####\n",
    "dtype = {\n",
    "    '판례정보일련번호' : TEXT,\n",
    "    '사건번호': TEXT,\n",
    "    '선고': TEXT,\n",
    "    '판결유형': TEXT,\n",
    "    '판시사항': LONGTEXT,\n",
    "    '판결요지': LONGTEXT,\n",
    "    '참조조문': LONGTEXT,\n",
    "    '참조판례': LONGTEXT,\n",
    "    '판례내용': LONGTEXT,\n",
    "    '판례내용_상단': LONGTEXT,\n",
    "    '판례내용_이유': LONGTEXT,\n",
    "    '판례내용_이유_전처리': LONGTEXT,\n",
    "    '판례내용_제거_불용어': LONGTEXT,\n",
    "    '판례내용_이유_불용어제거': LONGTEXT,\n",
    "    '클러스터': TEXT,\n",
    "    '키워드': TEXT,\n",
    "    '사건명': TEXT,\n",
    "    '판례내용이유임베딩': TEXT,\n",
    "    '키워드임베딩': TEXT,\n",
    "    '판결요지임베딩': TEXT,\n",
    "    '판결요지임베딩': TEXT,\n",
    "    '판시사항임베딩': TEXT\n",
    " \n",
    "}\n",
    "#판례내용_이유,판례내용_이유(전처리),판례내용_이유(불용어제거),클러스터,키워드\n",
    "\n",
    "# DB정보\n",
    "user = user\n",
    "password = password\n",
    "host = host\n",
    "port = port\n",
    "database = database\n",
    "\n",
    "# CSV 파일 로드\n",
    "df_labor_embedding = pd.read_csv(r'C:\\Users\\user\\Desktop\\프로젝트 기획서\\NoF\\data\\df_labor_embedding.csv')\n",
    "\n",
    "# MySQL 데이터베이스 연결 설정\n",
    "engine = create_engine(f\"mysql+pymysql://{user}:{password}@{host}:{port}/{database}\")\n",
    "\n",
    "# 데이터프레임을 MySQL 테이블에 저장\n",
    "df_labor_embedding.to_sql('labor_embedding', con=engine, if_exists='replace', index=False, dtype=dtype)\n",
    "# 연결 닫기\n",
    "engine.dispose()\n",
    "\n",
    "print(\"데이터베이스 저장 완료\")"
   ]
  }
 ],
 "metadata": {
  "kernelspec": {
   "display_name": "project",
   "language": "python",
   "name": "python3"
  },
  "language_info": {
   "codemirror_mode": {
    "name": "ipython",
    "version": 3
   },
   "file_extension": ".py",
   "mimetype": "text/x-python",
   "name": "python",
   "nbconvert_exporter": "python",
   "pygments_lexer": "ipython3",
   "version": "3.12.7"
  }
 },
 "nbformat": 4,
 "nbformat_minor": 2
}
