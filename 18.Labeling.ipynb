{
 "cells": [
  {
   "cell_type": "code",
   "execution_count": null,
   "metadata": {},
   "outputs": [],
   "source": []
  },
  {
   "cell_type": "markdown",
   "metadata": {},
   "source": [
    "# N-gram 라벨링\n",
    "ngram 뽑은 문장 옆에 ngram 단어쌍이 들어가는 새 열을 넣는다."
   ]
  },
  {
   "cell_type": "code",
   "execution_count": null,
   "metadata": {},
   "outputs": [],
   "source": [
    "import pandas as pd\n",
    "\n",
    "# 예시 데이터프레임 생성\n",
    "data = {\n",
    "    '문장': [\n",
    "        '자연어 처리를 배우는 것은 흥미롭다.',\n",
    "        '인공지능 기술이 발전하고 있다.',\n",
    "        '딥러닝은 머신러닝의 한 분야이다.'\n",
    "    ]\n",
    "}\n",
    "\n",
    "df = pd.DataFrame(data)\n",
    "\n",
    "# n-그램 생성 함수\n",
    "def generate_ngrams(sentence, n):\n",
    "    words = sentence.split()  # 문장을 단어로 분할\n",
    "    return list(ngrams(words, n))  # n-그램 생성\n",
    "\n",
    "# n-그램 생성 및 새로운 열에 추가\n",
    "n = 2  # 예를 들어, 2-그램\n",
    "df['n_grams'] = df['문장'].apply(lambda x: generate_ngrams(x, n))\n",
    "\n",
    "# 결과 출력\n",
    "print(df)"
   ]
  }
 ],
 "metadata": {
  "kernelspec": {
   "display_name": "myenv",
   "language": "python",
   "name": "python3"
  },
  "language_info": {
   "name": "python",
   "version": "3.12.7"
  }
 },
 "nbformat": 4,
 "nbformat_minor": 2
}
