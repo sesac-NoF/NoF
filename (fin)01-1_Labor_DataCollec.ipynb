{
 "cells": [
  {
   "cell_type": "markdown",
   "metadata": {},
   "source": [
    "# 1. 데이터 수집"
   ]
  },
  {
   "cell_type": "code",
   "execution_count": null,
   "metadata": {
    "vscode": {
     "languageId": "plaintext"
    }
   },
   "outputs": [],
   "source": [
    "import pandas as pd\n",
    "import numpy as np\n",
    "import matplotlib.pyplot as plt"
   ]
  },
  {
   "cell_type": "code",
   "execution_count": null,
   "metadata": {
    "vscode": {
     "languageId": "plaintext"
    }
   },
   "outputs": [],
   "source": [
    "# 한글 깨짐 방지\n",
    "plt.rcParams['font.family'] = \"Malgun Gothic\"\n",
    "\n",
    "# 마이너스 깨짐 방지\n",
    "plt.rcParams['axes.unicode_minus'] = False"
   ]
  },
  {
   "cell_type": "markdown",
   "metadata": {},
   "source": [
    "## 판례 목록 가져오기"
   ]
  },
  {
   "cell_type": "code",
   "execution_count": null,
   "metadata": {
    "vscode": {
     "languageId": "plaintext"
    }
   },
   "outputs": [],
   "source": [
    "# 국가판례정보 사이트 _ 판례목록 가져오기\n",
    "OC = '아이디'\n",
    "target = 'prec'\n",
    "url = 'http://www.law.go.kr/DRF/lawSearch.do?'\n",
    "data = []\n",
    "for i in range(1,25):\n",
    "  params = {\n",
    "      'OC' : OC,\n",
    "      'target' : target,\n",
    "      'type' : 'XML',\n",
    "      'query' : '사기',\n",
    "      'display' : 100,\n",
    "      'search' : 1,\n",
    "      'page' : i\n",
    "  }\n",
    "\n",
    "  response = requests.get(url, params=params)\n",
    "\n",
    "  if response.status_code == 200:\n",
    "    root = ET.fromstring(response.content)\n",
    "    items = root.findall('.//prec')\n",
    "    # xml구조확인\n",
    "    print(ET.tostring(root, encoding='utf-8').decode('utf-8'))\n",
    "    if len(items) != 0:\n",
    "      for item in items:\n",
    "        ORDER_NUM = item.find('.//판례일련번호')\n",
    "        CASE_NAME = item.find('.//사건명')\n",
    "        CASE_NUM = item.find('.//사건번호')\n",
    "        CASE_DATE = item.find('.//선고일자')\n",
    "        SCOURT = item.find('.//법원명')\n",
    "        CASE = item.find('.//사건종류명')\n",
    "        LINK = item.find('.//판례상세링크')\n",
    "        data.append([ORDER_NUM.text, CASE_NAME.text, CASE_NUM.text, CASE_DATE.text, SCOURT.text, CASE.text, LINK.text])\n",
    "  else:\n",
    "    print('error')\n",
    "df = pd.DataFrame(data=data, columns=['판례일련번호','사건명','사건번호','선고일자','법원명','사건종류명','판례상세링크'])"
   ]
  }
 ],
 "metadata": {
  "language_info": {
   "name": "python"
  }
 },
 "nbformat": 4,
 "nbformat_minor": 2
}
