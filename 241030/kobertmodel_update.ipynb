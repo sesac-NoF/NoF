{
 "cells": [
  {
   "cell_type": "markdown",
   "metadata": {},
   "source": [
    "### 1. 임베딩데이터 업로드"
   ]
  },
  {
   "cell_type": "code",
   "execution_count": 1,
   "metadata": {},
   "outputs": [],
   "source": [
    "import pandas as pd\n",
    "import numpy as np\n",
    "import ast\n",
    "\n",
    "# CSV 파일 불러오기\n",
    "df_inheritance = pd.read_csv('df_inheritance_kobertmodel.csv')\n",
    "\n",
    "# 다시 리스트를 NumPy 배열로 변환\n",
    "df_inheritance['판례내용이유임베딩'] = df_inheritance['판례내용이유임베딩'].apply(lambda x: np.array(ast.literal_eval(x)) if pd.notnull(x) else None)\n",
    "df_inheritance['키워드임베딩'] = df_inheritance['키워드임베딩'].apply(lambda x: np.array(ast.literal_eval(x)) if pd.notnull(x) else None)\n",
    "df_inheritance['판결요지임베딩'] = df_inheritance['판결요지임베딩'].apply(lambda x: np.array(ast.literal_eval(x)) if pd.notnull(x) else None)\n",
    "df_inheritance['판시사항임베딩'] = df_inheritance['판시사항임베딩'].apply(lambda x: np.array(ast.literal_eval(x)) if pd.notnull(x) else None)\n"
   ]
  },
  {
   "cell_type": "code",
   "execution_count": 2,
   "metadata": {},
   "outputs": [
    {
     "name": "stdout",
     "output_type": "stream",
     "text": [
      "<class 'pandas.core.frame.DataFrame'>\n",
      "RangeIndex: 4166 entries, 0 to 4165\n",
      "Data columns (total 20 columns):\n",
      " #   Column         Non-Null Count  Dtype \n",
      "---  ------         --------------  ----- \n",
      " 0   판례정보일련번호       4166 non-null   int64 \n",
      " 1   사건번호           4166 non-null   object\n",
      " 2   선고             4166 non-null   object\n",
      " 3   판결유형           4166 non-null   object\n",
      " 4   판시사항           3250 non-null   object\n",
      " 5   판결요지           2932 non-null   object\n",
      " 6   참조조문           3225 non-null   object\n",
      " 7   참조판례           1935 non-null   object\n",
      " 8   판례내용           4166 non-null   object\n",
      " 9   판례내용_상단        4166 non-null   object\n",
      " 10  판례내용_이유        4166 non-null   object\n",
      " 11  판례내용_이유_전처리    4146 non-null   object\n",
      " 12  판례내용_이유_불용어제거  4131 non-null   object\n",
      " 13  클러스터           4166 non-null   int64 \n",
      " 14  키워드            4166 non-null   object\n",
      " 15  사건명            3924 non-null   object\n",
      " 16  판례내용이유임베딩      4166 non-null   object\n",
      " 17  키워드임베딩         4166 non-null   object\n",
      " 18  판결요지임베딩        2932 non-null   object\n",
      " 19  판시사항임베딩        3250 non-null   object\n",
      "dtypes: int64(2), object(18)\n",
      "memory usage: 651.1+ KB\n"
     ]
    }
   ],
   "source": [
    "df_inheritance.info()"
   ]
  },
  {
   "cell_type": "code",
   "execution_count": 35,
   "metadata": {},
   "outputs": [],
   "source": [
    "# 각 행의 키워드 문자열을 쉼표로 분리하고 리스트 형태로 저장\n",
    "df_inheritance['키워드'] = df_inheritance['키워드'].apply(lambda x: x.split(', '))"
   ]
  },
  {
   "cell_type": "code",
   "execution_count": 3,
   "metadata": {},
   "outputs": [
    {
     "data": {
      "text/html": [
       "<div>\n",
       "<style scoped>\n",
       "    .dataframe tbody tr th:only-of-type {\n",
       "        vertical-align: middle;\n",
       "    }\n",
       "\n",
       "    .dataframe tbody tr th {\n",
       "        vertical-align: top;\n",
       "    }\n",
       "\n",
       "    .dataframe thead th {\n",
       "        text-align: right;\n",
       "    }\n",
       "</style>\n",
       "<table border=\"1\" class=\"dataframe\">\n",
       "  <thead>\n",
       "    <tr style=\"text-align: right;\">\n",
       "      <th></th>\n",
       "      <th>판례정보일련번호</th>\n",
       "      <th>사건번호</th>\n",
       "      <th>선고</th>\n",
       "      <th>판결유형</th>\n",
       "      <th>판시사항</th>\n",
       "      <th>판결요지</th>\n",
       "      <th>참조조문</th>\n",
       "      <th>참조판례</th>\n",
       "      <th>판례내용</th>\n",
       "      <th>판례내용_상단</th>\n",
       "      <th>판례내용_이유</th>\n",
       "      <th>판례내용_이유_전처리</th>\n",
       "      <th>판례내용_이유_불용어제거</th>\n",
       "      <th>클러스터</th>\n",
       "      <th>키워드</th>\n",
       "      <th>사건명</th>\n",
       "      <th>판례내용이유임베딩</th>\n",
       "      <th>키워드임베딩</th>\n",
       "      <th>판결요지임베딩</th>\n",
       "      <th>판시사항임베딩</th>\n",
       "    </tr>\n",
       "  </thead>\n",
       "  <tbody>\n",
       "    <tr>\n",
       "      <th>0</th>\n",
       "      <td>238913</td>\n",
       "      <td>2023다221144</td>\n",
       "      <td>선고</td>\n",
       "      <td>판결</td>\n",
       "      <td>[1] 가분채권이 공동상속되는 경우의 법률관계 / 주식이 공동상속되는 경우, 공동...</td>\n",
       "      <td>[1] 금전채권과 같이 급부의 내용이 가분인 채권은 공동상속되는 경우 상속개시와 ...</td>\n",
       "      <td>[1] 민법 제269조, 제278조, 제547조 제1항, 제1005조, 제1006...</td>\n",
       "      <td>[1] 대법원 2003. 5. 30. 선고 2003다7074 판결, 대법원 200...</td>\n",
       "      <td>【원고, 상고인】 원고 (소송대리인 법무법인 참진 담당변호사 이영동)【피고, 피상고...</td>\n",
       "      <td>【원고, 상고인】 원고 (소송대리인 법무법인 참진 담당변호사 이영동)【피고, 피상고...</td>\n",
       "      <td>【이    유】  상고이유를 판단한다.   1. 사안의 개요  가. 사실관계   원...</td>\n",
       "      <td>상고이유를 판단한다. 1. 사안의 개요 가. 사실관계 원심판결 이유와 기록에 따르면...</td>\n",
       "      <td>개요 사실관계 망인 은행 예금 채권 은행 판매 투자신탁 형태 MMF Money Ma...</td>\n",
       "      <td>2</td>\n",
       "      <td>신청, 상속, 부동산, 주택, 사망, 건물, 계약, 회사, 재산, 호주</td>\n",
       "      <td>예금[투자신탁 형태 단기금융집합투자기구(MMF) 수익권의 공동상속 효과가 문제된 사건]</td>\n",
       "      <td>[[0.09682950377464294, -0.2833014726638794, 0....</td>\n",
       "      <td>[[0.08193794637918472, 0.05260368064045906, 0....</td>\n",
       "      <td>[[0.12045687437057495, -0.09459716826677322, 0...</td>\n",
       "      <td>[[0.20212049782276154, -0.06857649981975555, 0...</td>\n",
       "    </tr>\n",
       "    <tr>\n",
       "      <th>1</th>\n",
       "      <td>240673</td>\n",
       "      <td>2021두52143</td>\n",
       "      <td>선고</td>\n",
       "      <td>판결</td>\n",
       "      <td>대한민국에서 주로 체류하며 대한민국에 있는 건축사무소 등에서 건축설계사로 근무하...</td>\n",
       "      <td>NaN</td>\n",
       "      <td>구 섭외사법(2001. 4. 7. 법률 제6465호 국제사법으로 전부 개정되기 전의...</td>\n",
       "      <td>NaN</td>\n",
       "      <td>【원고, 상고인】 원고 1 외 3인 (소송대리인 변호사 이종건)【피고, 피상고인】 ...</td>\n",
       "      <td>【원고, 상고인】 원고 1 외 3인 (소송대리인 변호사 이종건)【피고, 피상고인】 ...</td>\n",
       "      <td>【이    유】  상고이유를 판단한다.   1. 원심판결 이유와 기록에 따르면, 다...</td>\n",
       "      <td>상고이유를 판단한다. 1. 원심판결 이유와 기록에 따르면, 다음의 사실을 알 수 있...</td>\n",
       "      <td>인과 대한민국 혼인신고 마쳤고 자녀   미합중국 캘리포니아 출생 미합중국 시민권 취...</td>\n",
       "      <td>2</td>\n",
       "      <td>신청, 상속, 부동산, 주택, 사망, 건물, 계약, 회사, 재산, 호주</td>\n",
       "      <td>상속세부과처분취소</td>\n",
       "      <td>[[0.1609489917755127, -0.2994731664657593, 0.6...</td>\n",
       "      <td>[[0.08193794637918472, 0.05260368064045906, 0....</td>\n",
       "      <td>None</td>\n",
       "      <td>[[0.053899895399808884, 0.21528321504592896, 0...</td>\n",
       "    </tr>\n",
       "  </tbody>\n",
       "</table>\n",
       "</div>"
      ],
      "text/plain": [
       "   판례정보일련번호         사건번호  선고 판결유형  \\\n",
       "0    238913  2023다221144  선고   판결   \n",
       "1    240673   2021두52143  선고   판결   \n",
       "\n",
       "                                                판시사항  \\\n",
       "0   [1] 가분채권이 공동상속되는 경우의 법률관계 / 주식이 공동상속되는 경우, 공동...   \n",
       "1    대한민국에서 주로 체류하며 대한민국에 있는 건축사무소 등에서 건축설계사로 근무하...   \n",
       "\n",
       "                                                판결요지  \\\n",
       "0   [1] 금전채권과 같이 급부의 내용이 가분인 채권은 공동상속되는 경우 상속개시와 ...   \n",
       "1                                                NaN   \n",
       "\n",
       "                                                참조조문  \\\n",
       "0   [1] 민법 제269조, 제278조, 제547조 제1항, 제1005조, 제1006...   \n",
       "1  구 섭외사법(2001. 4. 7. 법률 제6465호 국제사법으로 전부 개정되기 전의...   \n",
       "\n",
       "                                                참조판례  \\\n",
       "0   [1] 대법원 2003. 5. 30. 선고 2003다7074 판결, 대법원 200...   \n",
       "1                                                NaN   \n",
       "\n",
       "                                                판례내용  \\\n",
       "0  【원고, 상고인】 원고 (소송대리인 법무법인 참진 담당변호사 이영동)【피고, 피상고...   \n",
       "1  【원고, 상고인】 원고 1 외 3인 (소송대리인 변호사 이종건)【피고, 피상고인】 ...   \n",
       "\n",
       "                                             판례내용_상단  \\\n",
       "0  【원고, 상고인】 원고 (소송대리인 법무법인 참진 담당변호사 이영동)【피고, 피상고...   \n",
       "1  【원고, 상고인】 원고 1 외 3인 (소송대리인 변호사 이종건)【피고, 피상고인】 ...   \n",
       "\n",
       "                                             판례내용_이유  \\\n",
       "0  【이    유】  상고이유를 판단한다.   1. 사안의 개요  가. 사실관계   원...   \n",
       "1  【이    유】  상고이유를 판단한다.   1. 원심판결 이유와 기록에 따르면, 다...   \n",
       "\n",
       "                                         판례내용_이유_전처리  \\\n",
       "0  상고이유를 판단한다. 1. 사안의 개요 가. 사실관계 원심판결 이유와 기록에 따르면...   \n",
       "1  상고이유를 판단한다. 1. 원심판결 이유와 기록에 따르면, 다음의 사실을 알 수 있...   \n",
       "\n",
       "                                       판례내용_이유_불용어제거  클러스터  \\\n",
       "0  개요 사실관계 망인 은행 예금 채권 은행 판매 투자신탁 형태 MMF Money Ma...     2   \n",
       "1  인과 대한민국 혼인신고 마쳤고 자녀   미합중국 캘리포니아 출생 미합중국 시민권 취...     2   \n",
       "\n",
       "                                       키워드  \\\n",
       "0  신청, 상속, 부동산, 주택, 사망, 건물, 계약, 회사, 재산, 호주   \n",
       "1  신청, 상속, 부동산, 주택, 사망, 건물, 계약, 회사, 재산, 호주   \n",
       "\n",
       "                                                사건명  \\\n",
       "0  예금[투자신탁 형태 단기금융집합투자기구(MMF) 수익권의 공동상속 효과가 문제된 사건]   \n",
       "1                                         상속세부과처분취소   \n",
       "\n",
       "                                           판례내용이유임베딩  \\\n",
       "0  [[0.09682950377464294, -0.2833014726638794, 0....   \n",
       "1  [[0.1609489917755127, -0.2994731664657593, 0.6...   \n",
       "\n",
       "                                              키워드임베딩  \\\n",
       "0  [[0.08193794637918472, 0.05260368064045906, 0....   \n",
       "1  [[0.08193794637918472, 0.05260368064045906, 0....   \n",
       "\n",
       "                                             판결요지임베딩  \\\n",
       "0  [[0.12045687437057495, -0.09459716826677322, 0...   \n",
       "1                                               None   \n",
       "\n",
       "                                             판시사항임베딩  \n",
       "0  [[0.20212049782276154, -0.06857649981975555, 0...  \n",
       "1  [[0.053899895399808884, 0.21528321504592896, 0...  "
      ]
     },
     "execution_count": 3,
     "metadata": {},
     "output_type": "execute_result"
    }
   ],
   "source": [
    "df_inheritance.head(2)"
   ]
  },
  {
   "cell_type": "markdown",
   "metadata": {},
   "source": [
    "#### - 사용자가 입력한 키워드와 내용 유사도로 추천하기"
   ]
  },
  {
   "cell_type": "code",
   "execution_count": 38,
   "metadata": {},
   "outputs": [
    {
     "name": "stdout",
     "output_type": "stream",
     "text": [
      "사용자 키워드와 관련된 사건명 :\n",
      "사건번호: 75나508, 사건명: 보상금청구사건, 유사도: 0.7464\n",
      "사건번호: 93다15847, 사건명: 건물철거등, 유사도: 0.7463\n",
      "사건번호: 71나689, 사건명: 손해배상청구사건, 유사도: 0.7450\n",
      "사건번호: 94다13190, 사건명: 소유권확인등, 유사도: 0.7415\n",
      "사건번호: 2018두32927, 사건명: 취득세등경정청구거부처분취소, 유사도: 0.7381\n",
      "사건번호: 83누283, 사건명: 증여세등부과처분취소, 유사도: 0.7372\n",
      "사건번호: 2001다37699, 사건명: 토지경계확정, 유사도: 0.7369\n",
      "사건번호: 2013도10605, 사건명: 사문서위조·위조사문서행사·국토의계획및이용에관한법률위반, 유사도: 0.7339\n",
      "사건번호: 2011두6899, 사건명: 상속세부과처분취소, 유사도: 0.7334\n",
      "사건번호: 88누5372, 사건명: 양도소득세부과처분취소, 유사도: 0.7298\n"
     ]
    }
   ],
   "source": [
    "import pandas as pd\n",
    "import numpy as np\n",
    "from sklearn.metrics.pairwise import cosine_similarity\n",
    "\n",
    "# 사용자 키워드에 대한 임베딩을 찾기 위한 함수\n",
    "def get_keyword_embedding(user_keyword, df):\n",
    "    # 키워드가 포함된 행을 필터링\n",
    "    matching_rows = df[df['키워드'].apply(lambda x: user_keyword in x if isinstance(x, list) else False)]\n",
    "    \n",
    "    if not matching_rows.empty:\n",
    "        # 첫 번째 매칭된 키워드의 임베딩을 반환\n",
    "        return matching_rows['키워드임베딩'].iloc[0]\n",
    "    else:\n",
    "        return None  # 매칭되는 키워드가 없으면 None 반환\n",
    "\n",
    "# 사용자 입력\n",
    "user_keyword = \"재산\"  # 사용자가 입력한 키워드\n",
    "user_keyword_embedding = get_keyword_embedding(user_keyword, df_inheritance)\n",
    "\n",
    "if user_keyword_embedding is not None:\n",
    "    # 판례내용 임베딩 유사도 계산 및 사건명 추출\n",
    "    content_similarity_scores = []\n",
    "\n",
    "    for idx, row in df_inheritance.iterrows():\n",
    "        if row['판결요지임베딩'] is not None and not np.isnan(row['판결요지임베딩']).any():\n",
    "            # 판례내용 임베딩과 사용자 키워드 임베딩 간의 유사도 계산\n",
    "            content_similarity = cosine_similarity(user_keyword_embedding.reshape(1, -1), row['판결요지임베딩'].reshape(1, -1)).flatten()[0]\n",
    "            content_similarity_scores.append((row['사건번호'], content_similarity))\n",
    "\n",
    "    # 유사도 기준으로 정렬 및 상위 N개 선택\n",
    "    sorted_content_scores = sorted(content_similarity_scores, key=lambda x: x[1], reverse=True)\n",
    "    top_n_contents = sorted_content_scores[:10]\n",
    "\n",
    "    # 추천 사건명 출력\n",
    "    print(\"사용자 키워드와 관련된 사건명 :\")\n",
    "    for 사건번호, score in top_n_contents:\n",
    "        사건명 = df_inheritance.loc[df_inheritance['사건번호'] == 사건번호, '사건명'].values\n",
    "        사건명 = 사건명[0] if 사건명.size > 0 else \"사건명 없음\"\n",
    "        print(f\"사건번호: {사건번호}, 사건명: {사건명}, 유사도: {score:.4f}\")\n",
    "else:\n",
    "    print(\"해당 키워드에 대한 임베딩이 없습니다.\")\n"
   ]
  },
  {
   "cell_type": "code",
   "execution_count": 37,
   "metadata": {},
   "outputs": [
    {
     "name": "stdout",
     "output_type": "stream",
     "text": [
      "사용자 키워드와 관련된 사건명 :\n",
      "사건번호: 2018나2006493, 사건명: 유해인도, 유사도: 0.7221\n",
      "사건번호: 2015나6250, 사건명: 건물명도등, 유사도: 0.7062\n",
      "사건번호: 2009두7103, 사건명: 양도소득세부과처분취소, 유사도: 0.6992\n",
      "사건번호: 2009브23, 사건명: 상속한정승인결정에대한즉시항고, 유사도: 0.6983\n",
      "사건번호: 2018두32927, 사건명: 취득세등경정청구거부처분취소, 유사도: 0.6955\n",
      "사건번호: 2004누6039, 사건명: 양도소득세부과처분취소, 유사도: 0.6940\n",
      "사건번호: 2012나9392, 사건명: 소유권보존등기 말소, 유사도: 0.6879\n",
      "사건번호: 2010다27793, 사건명: 특별채용계약무효확인, 유사도: 0.6871\n",
      "사건번호: 2001느합86, 사건명: 상속재산및기여분, 유사도: 0.6848\n",
      "사건번호: 2021나31998, 사건명: 공유물분할, 유사도: 0.6796\n"
     ]
    }
   ],
   "source": [
    "import pandas as pd\n",
    "import numpy as np\n",
    "from sklearn.metrics.pairwise import cosine_similarity\n",
    "\n",
    "# 사용자 키워드에 대한 임베딩을 찾기 위한 함수\n",
    "def get_keyword_embedding(user_keyword, df):\n",
    "    # 키워드가 포함된 행을 필터링\n",
    "    matching_rows = df[df['키워드'].apply(lambda x: user_keyword in x if isinstance(x, list) else False)]\n",
    "    \n",
    "    if not matching_rows.empty:\n",
    "        # 첫 번째 매칭된 키워드의 임베딩을 반환\n",
    "        return matching_rows['키워드임베딩'].iloc[0]\n",
    "    else:\n",
    "        return None  # 매칭되는 키워드가 없으면 None 반환\n",
    "\n",
    "# 사용자 입력\n",
    "user_keyword = \"재산\"  # 사용자가 입력한 키워드\n",
    "user_keyword_embedding = get_keyword_embedding(user_keyword, df_inheritance)\n",
    "\n",
    "if user_keyword_embedding is not None:\n",
    "    # 판례내용 임베딩 유사도 계산 및 사건명 추출\n",
    "    content_similarity_scores = []\n",
    "\n",
    "    for idx, row in df_inheritance.iterrows():\n",
    "        if row['판례내용이유임베딩'] is not None and not np.isnan(row['판례내용이유임베딩']).any():\n",
    "            # 판례내용 임베딩과 사용자 키워드 임베딩 간의 유사도 계산\n",
    "            content_similarity = cosine_similarity(user_keyword_embedding.reshape(1, -1), row['판례내용이유임베딩'].reshape(1, -1)).flatten()[0]\n",
    "            content_similarity_scores.append((row['사건번호'], content_similarity))\n",
    "\n",
    "    # 유사도 기준으로 정렬 및 상위 N개 선택\n",
    "    sorted_content_scores = sorted(content_similarity_scores, key=lambda x: x[1], reverse=True)\n",
    "    top_n_contents = sorted_content_scores[:10]\n",
    "\n",
    "    # 추천 사건명 출력\n",
    "    print(\"사용자 키워드와 관련된 사건명 :\")\n",
    "    for 사건번호, score in top_n_contents:\n",
    "        사건명 = df_inheritance.loc[df_inheritance['사건번호'] == 사건번호, '사건명'].values\n",
    "        사건명 = 사건명[0] if 사건명.size > 0 else \"사건명 없음\"\n",
    "        print(f\"사건번호: {사건번호}, 사건명: {사건명}, 유사도: {score:.4f}\")\n",
    "else:\n",
    "    print(\"해당 키워드에 대한 임베딩이 없습니다.\")\n"
   ]
  },
  {
   "cell_type": "code",
   "execution_count": 39,
   "metadata": {},
   "outputs": [
    {
     "name": "stdout",
     "output_type": "stream",
     "text": [
      "사용자 키워드와 관련된 사건명 :\n",
      "사건번호: 97다30349, 사건명: 소유권확인, 유사도: 0.7635\n",
      "사건번호: 97다8809, 사건명: 구상금, 유사도: 0.7605\n",
      "사건번호: 97누12853, 사건명: 상속세물납불허가처분취소등, 유사도: 0.7600\n",
      "사건번호: 2003두9817, 9824, 사건명: nan, 유사도: 0.7585\n",
      "사건번호: 2008다31485, 사건명: 소유권이전등기, 유사도: 0.7571\n",
      "사건번호: 2007다57619, 사건명: 소유권이전등기, 유사도: 0.7568\n",
      "사건번호: 96므1137, 사건명: 호주승계회복, 유사도: 0.7541\n",
      "사건번호: 2022스597, 598, 사건명: nan, 유사도: 0.7539\n",
      "사건번호: 2010다29409, 사건명: 유류분 청구, 유사도: 0.7536\n",
      "사건번호: 2002다694, 700, 사건명: nan, 유사도: 0.7535\n"
     ]
    }
   ],
   "source": [
    "import pandas as pd\n",
    "import numpy as np\n",
    "from sklearn.metrics.pairwise import cosine_similarity\n",
    "\n",
    "# 사용자 키워드에 대한 임베딩을 찾기 위한 함수\n",
    "def get_keyword_embedding(user_keyword, df):\n",
    "    # 키워드가 포함된 행을 필터링\n",
    "    matching_rows = df[df['키워드'].apply(lambda x: user_keyword in x if isinstance(x, list) else False)]\n",
    "    \n",
    "    if not matching_rows.empty:\n",
    "        # 첫 번째 매칭된 키워드의 임베딩을 반환\n",
    "        return matching_rows['키워드임베딩'].iloc[0]\n",
    "    else:\n",
    "        return None  # 매칭되는 키워드가 없으면 None 반환\n",
    "\n",
    "# 사용자 입력\n",
    "user_keyword = \"재산\"  # 사용자가 입력한 키워드\n",
    "user_keyword_embedding = get_keyword_embedding(user_keyword, df_inheritance)\n",
    "\n",
    "if user_keyword_embedding is not None:\n",
    "    # 판례내용 임베딩 유사도 계산 및 사건명 추출\n",
    "    content_similarity_scores = []\n",
    "\n",
    "    for idx, row in df_inheritance.iterrows():\n",
    "        if row['판시사항임베딩'] is not None and not np.isnan(row['판시사항임베딩']).any():\n",
    "            # 판례내용 임베딩과 사용자 키워드 임베딩 간의 유사도 계산\n",
    "            content_similarity = cosine_similarity(user_keyword_embedding.reshape(1, -1), row['판시사항임베딩'].reshape(1, -1)).flatten()[0]\n",
    "            content_similarity_scores.append((row['사건번호'], content_similarity))\n",
    "\n",
    "    # 유사도 기준으로 정렬 및 상위 N개 선택\n",
    "    sorted_content_scores = sorted(content_similarity_scores, key=lambda x: x[1], reverse=True)\n",
    "    top_n_contents = sorted_content_scores[:10]\n",
    "\n",
    "    # 추천 사건명 출력\n",
    "    print(\"사용자 키워드와 관련된 사건명 :\")\n",
    "    for 사건번호, score in top_n_contents:\n",
    "        사건명 = df_inheritance.loc[df_inheritance['사건번호'] == 사건번호, '사건명'].values\n",
    "        사건명 = 사건명[0] if 사건명.size > 0 else \"사건명 없음\"\n",
    "        print(f\"사건번호: {사건번호}, 사건명: {사건명}, 유사도: {score:.4f}\")\n",
    "else:\n",
    "    print(\"해당 키워드에 대한 임베딩이 없습니다.\")\n"
   ]
  },
  {
   "cell_type": "markdown",
   "metadata": {},
   "source": [
    "### 키워드확인"
   ]
  },
  {
   "cell_type": "code",
   "execution_count": 40,
   "metadata": {},
   "outputs": [
    {
     "name": "stdout",
     "output_type": "stream",
     "text": [
      "True\n"
     ]
    }
   ],
   "source": [
    "# 두 행의 임베딩 값이 같은지 확인\n",
    "embedding_0 = df_inheritance.loc[0, '키워드임베딩']\n",
    "embedding_1000 = df_inheritance.loc[1000, '키워드임베딩']\n",
    "print(np.array_equal(embedding_0, embedding_1000))  # True면 동일, False면 다름\n"
   ]
  },
  {
   "cell_type": "code",
   "execution_count": 41,
   "metadata": {},
   "outputs": [
    {
     "name": "stdout",
     "output_type": "stream",
     "text": [
      "['신청', '상속', '부동산', '주택', '사망', '건물', '계약', '회사', '재산', '호주']\n",
      "['신청', '상속', '부동산', '주택', '사망', '건물', '계약', '회사', '재산', '호주']\n"
     ]
    }
   ],
   "source": [
    "print(df_inheritance['키워드'].iloc[0])\n",
    "print(df_inheritance['키워드'].iloc[1000])"
   ]
  },
  {
   "cell_type": "code",
   "execution_count": null,
   "metadata": {},
   "outputs": [],
   "source": []
  }
 ],
 "metadata": {
  "kernelspec": {
   "display_name": "nof",
   "language": "python",
   "name": "python3"
  },
  "language_info": {
   "codemirror_mode": {
    "name": "ipython",
    "version": 3
   },
   "file_extension": ".py",
   "mimetype": "text/x-python",
   "name": "python",
   "nbconvert_exporter": "python",
   "pygments_lexer": "ipython3",
   "version": "3.12.7"
  }
 },
 "nbformat": 4,
 "nbformat_minor": 2
}
