{
 "cells": [
  {
   "cell_type": "markdown",
   "metadata": {},
   "source": [
    "### 1. 키워드파일 업로드"
   ]
  },
  {
   "cell_type": "code",
   "execution_count": 1,
   "metadata": {},
   "outputs": [
    {
     "name": "stderr",
     "output_type": "stream",
     "text": [
      "c:\\Users\\user\\.conda\\envs\\nof\\Lib\\site-packages\\tqdm\\auto.py:21: TqdmWarning: IProgress not found. Please update jupyter and ipywidgets. See https://ipywidgets.readthedocs.io/en/stable/user_install.html\n",
      "  from .autonotebook import tqdm as notebook_tqdm\n"
     ]
    }
   ],
   "source": [
    "import pandas as pd\n",
    "import torch\n",
    "from transformers import BertTokenizer, BertModel\n",
    "\n",
    "# CSV 파일에서 클러스터링 결과 로드\n",
    "df_inheritance = pd.read_csv(r'C:\\Users\\user\\Documents\\no-f\\241030\\df_inheritance_keyword.csv')"
   ]
  },
  {
   "cell_type": "markdown",
   "metadata": {},
   "source": [
    "### 2. 사건명가져오기 위해서 판례목록 데이터 불러오기"
   ]
  },
  {
   "cell_type": "code",
   "execution_count": 2,
   "metadata": {},
   "outputs": [],
   "source": [
    "# 사건 리스트 로드\n",
    "inheritance_list = pd.read_csv('inheritance_list.csv')\n",
    "\n",
    "# 사건명 추가를 위해 df_inheritance 데이터프레임과 병합\n",
    "df_inheritance = df_inheritance.merge(inheritance_list[['사건번호', '사건명']], on='사건번호', how='left')"
   ]
  },
  {
   "cell_type": "markdown",
   "metadata": {},
   "source": [
    "### 3. 임베딩해서 csv파일로 저장하기"
   ]
  },
  {
   "cell_type": "code",
   "execution_count": 3,
   "metadata": {},
   "outputs": [
    {
     "name": "stderr",
     "output_type": "stream",
     "text": [
      "The tokenizer class you load from this checkpoint is not the same type as the class this function is called from. It may result in unexpected tokenization. \n",
      "The tokenizer class you load from this checkpoint is 'KoBertTokenizer'. \n",
      "The class this function is called from is 'BertTokenizer'.\n"
     ]
    }
   ],
   "source": [
    "import pandas as pd\n",
    "import torch\n",
    "from transformers import BertTokenizer, BertModel\n",
    "\n",
    "# KOBERT 모델과 토크나이저 로드\n",
    "tokenizer = BertTokenizer.from_pretrained('monologg/kobert')\n",
    "model = BertModel.from_pretrained('monologg/kobert')\n",
    "\n",
    "# 문장 임베딩 함수\n",
    "def encode_sentence(sentence):\n",
    "    if pd.notnull(sentence):\n",
    "        inputs = tokenizer(sentence, padding=True, truncation=True, return_tensors=\"pt\")\n",
    "        with torch.no_grad():\n",
    "            outputs = model(**inputs)\n",
    "        return outputs.last_hidden_state.mean(dim=1).numpy()\n",
    "    return None\n",
    "\n",
    "# 클러스터별 판례 내용과 키워드 임베딩 생성\n",
    "for cluster_num in range(1, 11):  # 클러스터 1부터 10까지\n",
    "    cluster_cases = df_inheritance[df_inheritance['클러스터'] == cluster_num]\n",
    "    \n",
    "    df_inheritance.loc[df_inheritance['클러스터'] == cluster_num, '판례내용이유임베딩'] = \\\n",
    "        cluster_cases['판례내용_이유'].apply(encode_sentence)\n",
    "    \n",
    "    df_inheritance.loc[df_inheritance['클러스터'] == cluster_num, '키워드임베딩'] = \\\n",
    "        cluster_cases['키워드'].apply(encode_sentence)\n",
    "    \n",
    "    df_inheritance.loc[df_inheritance['클러스터'] == cluster_num, '판결요지임베딩'] = \\\n",
    "        cluster_cases['판결요지'].apply(encode_sentence)\n",
    "    \n",
    "    df_inheritance.loc[df_inheritance['클러스터'] == cluster_num, '판시사항임베딩'] = \\\n",
    "        cluster_cases['판시사항'].apply(encode_sentence)\n",
    "\n",
    "# CSV 파일로 저장\n",
    "df_inheritance.to_csv('df_inheritance_kobertmodel2.csv', index=False)"
   ]
  },
  {
   "cell_type": "code",
   "execution_count": 2,
   "metadata": {},
   "outputs": [
    {
     "ename": "NameError",
     "evalue": "name 'df_inheritance' is not defined",
     "output_type": "error",
     "traceback": [
      "\u001b[1;31m---------------------------------------------------------------------------\u001b[0m",
      "\u001b[1;31mNameError\u001b[0m                                 Traceback (most recent call last)",
      "Cell \u001b[1;32mIn[2], line 1\u001b[0m\n\u001b[1;32m----> 1\u001b[0m \u001b[43mdf_inheritance\u001b[49m\u001b[38;5;241m.\u001b[39mhead(\u001b[38;5;241m2\u001b[39m)\n",
      "\u001b[1;31mNameError\u001b[0m: name 'df_inheritance' is not defined"
     ]
    }
   ],
   "source": [
    "df_inheritance.head(2)"
   ]
  },
  {
   "cell_type": "code",
   "execution_count": 11,
   "metadata": {},
   "outputs": [
    {
     "name": "stdout",
     "output_type": "stream",
     "text": [
      "<class 'pandas.core.frame.DataFrame'>\n",
      "RangeIndex: 4166 entries, 0 to 4165\n",
      "Data columns (total 20 columns):\n",
      " #   Column         Non-Null Count  Dtype \n",
      "---  ------         --------------  ----- \n",
      " 0   판례정보일련번호       4166 non-null   int64 \n",
      " 1   사건번호           4166 non-null   object\n",
      " 2   선고             4166 non-null   object\n",
      " 3   판결유형           4166 non-null   object\n",
      " 4   판시사항           3250 non-null   object\n",
      " 5   판결요지           2932 non-null   object\n",
      " 6   참조조문           3225 non-null   object\n",
      " 7   참조판례           1935 non-null   object\n",
      " 8   판례내용           4166 non-null   object\n",
      " 9   판례내용_상단        4166 non-null   object\n",
      " 10  판례내용_이유        4166 non-null   object\n",
      " 11  판례내용_이유_전처리    4146 non-null   object\n",
      " 12  판례내용_이유_불용어제거  4131 non-null   object\n",
      " 13  클러스터           4166 non-null   int64 \n",
      " 14  키워드            4166 non-null   object\n",
      " 15  사건명            3924 non-null   object\n",
      " 16  판례내용이유임베딩      3873 non-null   object\n",
      " 17  키워드임베딩         3873 non-null   object\n",
      " 18  판결요지임베딩        2701 non-null   object\n",
      " 19  판시사항임베딩        2990 non-null   object\n",
      "dtypes: int64(2), object(18)\n",
      "memory usage: 651.1+ KB\n"
     ]
    }
   ],
   "source": [
    "df_inheritance.info()"
   ]
  },
  {
   "cell_type": "markdown",
   "metadata": {},
   "source": [
    "### 4. 유사도 계산해서 추천사건명 출력하기"
   ]
  },
  {
   "cell_type": "markdown",
   "metadata": {},
   "source": [
    "#### 판결요지"
   ]
  },
  {
   "cell_type": "code",
   "execution_count": 10,
   "metadata": {},
   "outputs": [
    {
     "name": "stdout",
     "output_type": "stream",
     "text": [
      "사용자 키워드와 관련된 사건명 :\n",
      "사건번호: 4294민상168, 사건명: 덕대계약이행완료확인, 유사도: 0.5380\n",
      "사건번호: 81다카550, 사건명: 소유권이전등기말소, 유사도: 0.5114\n",
      "사건번호: 86다카1312, 사건명: 소유권이전등기말소등, 유사도: 0.4960\n",
      "사건번호: 4294민상1255, 사건명: 가옥명도, 유사도: 0.4863\n",
      "사건번호: 62다343, 사건명: 부동산소유권이전등기말소, 유사도: 0.4846\n",
      "사건번호: 87다카663, 사건명: 소유권이전등기말소등, 유사도: 0.4839\n",
      "사건번호: 90다카17214, 사건명: 소유권이전등기말소, 유사도: 0.4827\n",
      "사건번호: 80구844, 사건명: 취득세부과처분취소, 유사도: 0.4824\n",
      "사건번호: 90다카3789, 사건명: 소유권이전등기말소등, 유사도: 0.4777\n",
      "사건번호: 91다7750, 사건명: 소유권이전등기말소등, 유사도: 0.4773\n"
     ]
    }
   ],
   "source": [
    "import pandas as pd\n",
    "import numpy as np\n",
    "from sklearn.metrics.pairwise import cosine_similarity\n",
    "\n",
    "# 사용자 입력\n",
    "user_keyword = \"토지\"  # 사용자가 입력한 키워드\n",
    "user_keyword_embedding = encode_sentence(user_keyword)\n",
    "\n",
    "# 판례내용 임베딩 유사도 계산 및 사건명 추출\n",
    "content_similarity_scores = []\n",
    "\n",
    "for idx, row in df_inheritance.iterrows():\n",
    "    if row['판결요지임베딩'] is not None and not np.isnan(row['판결요지임베딩']).any():\n",
    "        # 판례내용 임베딩과 사용자 키워드 임베딩 간의 유사도 계산\n",
    "        content_similarity = cosine_similarity(user_keyword_embedding, row['판결요지임베딩']).flatten()[0]\n",
    "        content_similarity_scores.append((row['사건번호'], content_similarity))\n",
    "\n",
    "# 유사도 기준으로 정렬 및 상위 N개 선택\n",
    "sorted_content_scores = sorted(content_similarity_scores, key=lambda x: x[1], reverse=True)\n",
    "top_n_contents = sorted_content_scores[:10]\n",
    "\n",
    "# 추천 사건명 출력\n",
    "print(\"사용자 키워드와 관련된 사건명 :\")\n",
    "for 사건번호, score in top_n_contents:\n",
    "    사건명 = df_inheritance.loc[df_inheritance['사건번호'] == 사건번호, '사건명'].values\n",
    "    사건명 = 사건명[0] if 사건명.size > 0 else \"사건명 없음\"\n",
    "    print(f\"사건번호: {사건번호}, 사건명: {사건명}, 유사도: {score:.4f}\")"
   ]
  },
  {
   "cell_type": "markdown",
   "metadata": {},
   "source": [
    "#### 판례내용_이유"
   ]
  },
  {
   "cell_type": "code",
   "execution_count": null,
   "metadata": {},
   "outputs": [
    {
     "name": "stdout",
     "output_type": "stream",
     "text": [
      "사용자 키워드와 관련된 사건명 :\n",
      "사건번호: 2006다46346, 사건명: 소유권이전등기등, 유사도: 0.3989\n",
      "사건번호: 2010누30330, 사건명: 상속세 부과처분 취소, 유사도: 0.3938\n",
      "사건번호: 81다카1061, 사건명: 부당이득반환, 유사도: 0.3917\n",
      "사건번호: 2003다64381, 사건명: 종헌결의무효확인, 유사도: 0.3901\n",
      "사건번호: 2017두44091, 사건명: 물납불허가처분취소청구, 유사도: 0.3869\n",
      "사건번호: 2007카기134, 사건명: 위헌법률심판제청, 유사도: 0.3858\n",
      "사건번호: 87누898, 사건명: 증여세등부과처분취소, 유사도: 0.3848\n",
      "사건번호: 2021나31998, 사건명: 공유물분할, 유사도: 0.3843\n",
      "사건번호: 91다27655, 사건명: 소유권이전등기, 유사도: 0.3841\n",
      "사건번호: 68다2094, 사건명: 소유권이전등기말소등, 유사도: 0.3832\n"
     ]
    }
   ],
   "source": [
    "import pandas as pd\n",
    "import numpy as np\n",
    "from sklearn.metrics.pairwise import cosine_similarity\n",
    "\n",
    "# 사용자 입력\n",
    "user_keyword = \"토지\"  # 사용자가 입력한 키워드\n",
    "user_keyword_embedding = encode_sentence(user_keyword)\n",
    "\n",
    "# 판례내용 임베딩 유사도 계산 및 사건명 추출\n",
    "content_similarity_scores = []\n",
    "\n",
    "for idx, row in df_inheritance.iterrows():\n",
    "    if row['판례내용이유임베딩'] is not None and not np.isnan(row['판례내용이유임베딩']).any():\n",
    "        # 판례내용 임베딩과 사용자 키워드 임베딩 간의 유사도 계산\n",
    "        content_similarity = cosine_similarity(user_keyword_embedding, row['판례내용이유임베딩']).flatten()[0]\n",
    "        content_similarity_scores.append((row['사건번호'], content_similarity))\n",
    "\n",
    "# 유사도 기준으로 정렬 및 상위 N개 선택\n",
    "sorted_content_scores = sorted(content_similarity_scores, key=lambda x: x[1], reverse=True)\n",
    "top_n_contents = sorted_content_scores[:10]\n",
    "\n",
    "# 추천 사건명 출력\n",
    "print(\"사용자 키워드와 관련된 사건명 :\")\n",
    "for 사건번호, score in top_n_contents:\n",
    "    사건명 = df_inheritance.loc[df_inheritance['사건번호'] == 사건번호, '사건명'].values\n",
    "    사건명 = 사건명[0] if 사건명.size > 0 else \"사건명 없음\"\n",
    "    print(f\"사건번호: {사건번호}, 사건명: {사건명}, 유사도: {score:.4f}\")"
   ]
  },
  {
   "cell_type": "markdown",
   "metadata": {},
   "source": [
    "#### 판시사항"
   ]
  },
  {
   "cell_type": "code",
   "execution_count": 13,
   "metadata": {},
   "outputs": [
    {
     "name": "stdout",
     "output_type": "stream",
     "text": [
      "사용자 키워드와 관련된 사건명 :\n",
      "사건번호: 2007다9719, 사건명: 소유권이전등기, 유사도: 0.8622\n",
      "사건번호: 83다카893, 사건명: 부당이득금, 유사도: 0.8622\n",
      "사건번호: 83다카745, 사건명: 대여금, 유사도: 0.8622\n",
      "사건번호: 81나459, 사건명: 공유물분할청구사건, 유사도: 0.8622\n",
      "사건번호: 80다2360, 사건명: 소유권이전등기말소, 유사도: 0.8622\n",
      "사건번호: 80나4240, 사건명: 손해배상청구사건, 유사도: 0.8622\n",
      "사건번호: 79다434, 사건명: 소유권보존등기말소, 유사도: 0.8622\n",
      "사건번호: 80다449, 사건명: 징발보상금, 유사도: 0.8622\n",
      "사건번호: 79다1009, 사건명: 소유권보존등기말소, 유사도: 0.8622\n",
      "사건번호: 79나1549, 사건명: 토지인도청구사건, 유사도: 0.8622\n"
     ]
    }
   ],
   "source": [
    "import pandas as pd\n",
    "import numpy as np\n",
    "from sklearn.metrics.pairwise import cosine_similarity\n",
    "\n",
    "# 사용자 입력\n",
    "user_keyword = \"토지\"  # 사용자가 입력한 키워드\n",
    "user_keyword_embedding = encode_sentence(user_keyword)\n",
    "\n",
    "# 판례내용 임베딩 유사도 계산 및 사건명 추출\n",
    "content_similarity_scores = []\n",
    "\n",
    "for idx, row in df_inheritance.iterrows():\n",
    "    if row['판시사항임베딩'] is not None and not np.isnan(row['판시사항임베딩']).any():\n",
    "        # 판례내용 임베딩과 사용자 키워드 임베딩 간의 유사도 계산\n",
    "        content_similarity = cosine_similarity(user_keyword_embedding, row['판시사항임베딩']).flatten()[0]\n",
    "        content_similarity_scores.append((row['사건번호'], content_similarity))\n",
    "\n",
    "# 유사도 기준으로 정렬 및 상위 N개 선택\n",
    "sorted_content_scores = sorted(content_similarity_scores, key=lambda x: x[1], reverse=True)\n",
    "top_n_contents = sorted_content_scores[:10]\n",
    "\n",
    "# 추천 사건명 출력\n",
    "print(\"사용자 키워드와 관련된 사건명 :\")\n",
    "for 사건번호, score in top_n_contents:\n",
    "    사건명 = df_inheritance.loc[df_inheritance['사건번호'] == 사건번호, '사건명'].values\n",
    "    사건명 = 사건명[0] if 사건명.size > 0 else \"사건명 없음\"\n",
    "    print(f\"사건번호: {사건번호}, 사건명: {사건명}, 유사도: {score:.4f}\")"
   ]
  },
  {
   "cell_type": "code",
   "execution_count": null,
   "metadata": {},
   "outputs": [],
   "source": []
  }
 ],
 "metadata": {
  "kernelspec": {
   "display_name": "nof",
   "language": "python",
   "name": "python3"
  },
  "language_info": {
   "codemirror_mode": {
    "name": "ipython",
    "version": 3
   },
   "file_extension": ".py",
   "mimetype": "text/x-python",
   "name": "python",
   "nbconvert_exporter": "python",
   "pygments_lexer": "ipython3",
   "version": "3.12.7"
  }
 },
 "nbformat": 4,
 "nbformat_minor": 2
}
