{
 "cells": [
  {
   "cell_type": "markdown",
   "metadata": {},
   "source": [
    "### 1. 키워드파일 업로드"
   ]
  },
  {
   "cell_type": "code",
   "execution_count": 1,
   "metadata": {},
   "outputs": [
    {
     "name": "stderr",
     "output_type": "stream",
     "text": [
      "c:\\Users\\user\\.conda\\envs\\nof\\Lib\\site-packages\\tqdm\\auto.py:21: TqdmWarning: IProgress not found. Please update jupyter and ipywidgets. See https://ipywidgets.readthedocs.io/en/stable/user_install.html\n",
      "  from .autonotebook import tqdm as notebook_tqdm\n"
     ]
    }
   ],
   "source": [
    "import pandas as pd\n",
    "import torch\n",
    "from transformers import BertTokenizer, BertModel\n",
    "\n",
    "# CSV 파일에서 클러스터링 결과 로드\n",
    "df_inheritance = pd.read_csv(r'C:\\Users\\user\\Documents\\no-f\\241030\\df_inheritance_keyword.csv')"
   ]
  },
  {
   "cell_type": "markdown",
   "metadata": {},
   "source": [
    "### 2. 사건명가져오기 위해서 판례목록 데이터 불러오기"
   ]
  },
  {
   "cell_type": "code",
   "execution_count": 2,
   "metadata": {},
   "outputs": [],
   "source": [
    "# 사건 리스트 로드\n",
    "inheritance_list = pd.read_csv('inheritance_list.csv')\n",
    "\n",
    "# 사건명 추가를 위해 df_inheritance 데이터프레임과 병합\n",
    "df_inheritance = df_inheritance.merge(inheritance_list[['사건번호', '사건명']], on='사건번호', how='left')"
   ]
  },
  {
   "cell_type": "code",
   "execution_count": 3,
   "metadata": {},
   "outputs": [
    {
     "name": "stdout",
     "output_type": "stream",
     "text": [
      "<class 'pandas.core.frame.DataFrame'>\n",
      "RangeIndex: 4166 entries, 0 to 4165\n",
      "Data columns (total 16 columns):\n",
      " #   Column         Non-Null Count  Dtype \n",
      "---  ------         --------------  ----- \n",
      " 0   판례정보일련번호       4166 non-null   int64 \n",
      " 1   사건번호           4166 non-null   object\n",
      " 2   선고             4166 non-null   object\n",
      " 3   판결유형           4166 non-null   object\n",
      " 4   판시사항           3250 non-null   object\n",
      " 5   판결요지           2932 non-null   object\n",
      " 6   참조조문           3225 non-null   object\n",
      " 7   참조판례           1935 non-null   object\n",
      " 8   판례내용           4166 non-null   object\n",
      " 9   판례내용_상단        4166 non-null   object\n",
      " 10  판례내용_이유        4166 non-null   object\n",
      " 11  판례내용_이유_전처리    4146 non-null   object\n",
      " 12  판례내용_이유_불용어제거  4131 non-null   object\n",
      " 13  클러스터           4166 non-null   int64 \n",
      " 14  키워드            4166 non-null   object\n",
      " 15  사건명            3924 non-null   object\n",
      "dtypes: int64(2), object(14)\n",
      "memory usage: 520.9+ KB\n"
     ]
    }
   ],
   "source": [
    "df_inheritance.info()"
   ]
  },
  {
   "cell_type": "markdown",
   "metadata": {},
   "source": [
    "#### - 키워드, 판례내용_이유 임베딩하기"
   ]
  },
  {
   "cell_type": "code",
   "execution_count": 4,
   "metadata": {},
   "outputs": [
    {
     "name": "stderr",
     "output_type": "stream",
     "text": [
      "The tokenizer class you load from this checkpoint is not the same type as the class this function is called from. It may result in unexpected tokenization. \n",
      "The tokenizer class you load from this checkpoint is 'KoBertTokenizer'. \n",
      "The class this function is called from is 'BertTokenizer'.\n"
     ]
    }
   ],
   "source": [
    "import pandas as pd\n",
    "import torch\n",
    "from transformers import BertTokenizer, BertModel\n",
    "import numpy as np\n",
    "from sklearn.metrics.pairwise import cosine_similarity\n",
    "\n",
    "# KOBERT 모델과 토크나이저 로드\n",
    "tokenizer = BertTokenizer.from_pretrained('monologg/kobert')\n",
    "model = BertModel.from_pretrained('monologg/kobert')\n",
    "\n",
    "# 문장 임베딩 함수\n",
    "def encode_sentence(sentence):\n",
    "    inputs = tokenizer(sentence, padding=True, truncation=True, return_tensors=\"pt\")\n",
    "    with torch.no_grad():\n",
    "        outputs = model(**inputs)\n",
    "    return outputs.last_hidden_state.mean(dim=1).numpy()\n",
    "\n",
    "# 판례 내용과 클러스터 키워드 임베딩 생성\n",
    "df_inheritance['판시시임베딩'] = df_inheritance['판시사항'].apply(lambda x: encode_sentence(x) if pd.notnull(x) else None)\n",
    "df_inheritance['키워드임베딩'] = df_inheritance['키워드'].apply(lambda x: encode_sentence(x) if pd.notnull(x) else None)"
   ]
  },
  {
   "cell_type": "code",
   "execution_count": 5,
   "metadata": {},
   "outputs": [
    {
     "data": {
      "text/html": [
       "<div>\n",
       "<style scoped>\n",
       "    .dataframe tbody tr th:only-of-type {\n",
       "        vertical-align: middle;\n",
       "    }\n",
       "\n",
       "    .dataframe tbody tr th {\n",
       "        vertical-align: top;\n",
       "    }\n",
       "\n",
       "    .dataframe thead th {\n",
       "        text-align: right;\n",
       "    }\n",
       "</style>\n",
       "<table border=\"1\" class=\"dataframe\">\n",
       "  <thead>\n",
       "    <tr style=\"text-align: right;\">\n",
       "      <th></th>\n",
       "      <th>판례정보일련번호</th>\n",
       "      <th>사건번호</th>\n",
       "      <th>선고</th>\n",
       "      <th>판결유형</th>\n",
       "      <th>판시사항</th>\n",
       "      <th>판결요지</th>\n",
       "      <th>참조조문</th>\n",
       "      <th>참조판례</th>\n",
       "      <th>판례내용</th>\n",
       "      <th>판례내용_상단</th>\n",
       "      <th>판례내용_이유</th>\n",
       "      <th>판례내용_이유_전처리</th>\n",
       "      <th>판례내용_이유_불용어제거</th>\n",
       "      <th>클러스터</th>\n",
       "      <th>키워드</th>\n",
       "      <th>사건명</th>\n",
       "      <th>판시시임베딩</th>\n",
       "      <th>키워드임베딩</th>\n",
       "    </tr>\n",
       "  </thead>\n",
       "  <tbody>\n",
       "    <tr>\n",
       "      <th>0</th>\n",
       "      <td>238913</td>\n",
       "      <td>2023다221144</td>\n",
       "      <td>선고</td>\n",
       "      <td>판결</td>\n",
       "      <td>[1] 가분채권이 공동상속되는 경우의 법률관계 / 주식이 공동상속되는 경우, 공동...</td>\n",
       "      <td>[1] 금전채권과 같이 급부의 내용이 가분인 채권은 공동상속되는 경우 상속개시와 ...</td>\n",
       "      <td>[1] 민법 제269조, 제278조, 제547조 제1항, 제1005조, 제1006...</td>\n",
       "      <td>[1] 대법원 2003. 5. 30. 선고 2003다7074 판결, 대법원 200...</td>\n",
       "      <td>【원고, 상고인】 원고 (소송대리인 법무법인 참진 담당변호사 이영동)【피고, 피상고...</td>\n",
       "      <td>【원고, 상고인】 원고 (소송대리인 법무법인 참진 담당변호사 이영동)【피고, 피상고...</td>\n",
       "      <td>【이    유】  상고이유를 판단한다.   1. 사안의 개요  가. 사실관계   원...</td>\n",
       "      <td>상고이유를 판단한다. 1. 사안의 개요 가. 사실관계 원심판결 이유와 기록에 따르면...</td>\n",
       "      <td>개요 사실관계 망인 은행 예금 채권 은행 판매 투자신탁 형태 MMF Money Ma...</td>\n",
       "      <td>2</td>\n",
       "      <td>신청, 상속, 부동산, 주택, 사망, 건물, 계약, 회사, 재산, 호주</td>\n",
       "      <td>예금[투자신탁 형태 단기금융집합투자기구(MMF) 수익권의 공동상속 효과가 문제된 사건]</td>\n",
       "      <td>[[0.2021205, -0.0685765, 0.3835545, -3.5652852...</td>\n",
       "      <td>[[0.08193795, 0.05260368, 0.30794698, -3.76139...</td>\n",
       "    </tr>\n",
       "    <tr>\n",
       "      <th>1</th>\n",
       "      <td>240673</td>\n",
       "      <td>2021두52143</td>\n",
       "      <td>선고</td>\n",
       "      <td>판결</td>\n",
       "      <td>대한민국에서 주로 체류하며 대한민국에 있는 건축사무소 등에서 건축설계사로 근무하...</td>\n",
       "      <td>NaN</td>\n",
       "      <td>구 섭외사법(2001. 4. 7. 법률 제6465호 국제사법으로 전부 개정되기 전의...</td>\n",
       "      <td>NaN</td>\n",
       "      <td>【원고, 상고인】 원고 1 외 3인 (소송대리인 변호사 이종건)【피고, 피상고인】 ...</td>\n",
       "      <td>【원고, 상고인】 원고 1 외 3인 (소송대리인 변호사 이종건)【피고, 피상고인】 ...</td>\n",
       "      <td>【이    유】  상고이유를 판단한다.   1. 원심판결 이유와 기록에 따르면, 다...</td>\n",
       "      <td>상고이유를 판단한다. 1. 원심판결 이유와 기록에 따르면, 다음의 사실을 알 수 있...</td>\n",
       "      <td>인과 대한민국 혼인신고 마쳤고 자녀   미합중국 캘리포니아 출생 미합중국 시민권 취...</td>\n",
       "      <td>2</td>\n",
       "      <td>신청, 상속, 부동산, 주택, 사망, 건물, 계약, 회사, 재산, 호주</td>\n",
       "      <td>상속세부과처분취소</td>\n",
       "      <td>[[0.053899895, 0.21528322, 0.6820205, -2.28107...</td>\n",
       "      <td>[[0.08193795, 0.05260368, 0.30794698, -3.76139...</td>\n",
       "    </tr>\n",
       "  </tbody>\n",
       "</table>\n",
       "</div>"
      ],
      "text/plain": [
       "   판례정보일련번호         사건번호  선고 판결유형  \\\n",
       "0    238913  2023다221144  선고   판결   \n",
       "1    240673   2021두52143  선고   판결   \n",
       "\n",
       "                                                판시사항  \\\n",
       "0   [1] 가분채권이 공동상속되는 경우의 법률관계 / 주식이 공동상속되는 경우, 공동...   \n",
       "1    대한민국에서 주로 체류하며 대한민국에 있는 건축사무소 등에서 건축설계사로 근무하...   \n",
       "\n",
       "                                                판결요지  \\\n",
       "0   [1] 금전채권과 같이 급부의 내용이 가분인 채권은 공동상속되는 경우 상속개시와 ...   \n",
       "1                                                NaN   \n",
       "\n",
       "                                                참조조문  \\\n",
       "0   [1] 민법 제269조, 제278조, 제547조 제1항, 제1005조, 제1006...   \n",
       "1  구 섭외사법(2001. 4. 7. 법률 제6465호 국제사법으로 전부 개정되기 전의...   \n",
       "\n",
       "                                                참조판례  \\\n",
       "0   [1] 대법원 2003. 5. 30. 선고 2003다7074 판결, 대법원 200...   \n",
       "1                                                NaN   \n",
       "\n",
       "                                                판례내용  \\\n",
       "0  【원고, 상고인】 원고 (소송대리인 법무법인 참진 담당변호사 이영동)【피고, 피상고...   \n",
       "1  【원고, 상고인】 원고 1 외 3인 (소송대리인 변호사 이종건)【피고, 피상고인】 ...   \n",
       "\n",
       "                                             판례내용_상단  \\\n",
       "0  【원고, 상고인】 원고 (소송대리인 법무법인 참진 담당변호사 이영동)【피고, 피상고...   \n",
       "1  【원고, 상고인】 원고 1 외 3인 (소송대리인 변호사 이종건)【피고, 피상고인】 ...   \n",
       "\n",
       "                                             판례내용_이유  \\\n",
       "0  【이    유】  상고이유를 판단한다.   1. 사안의 개요  가. 사실관계   원...   \n",
       "1  【이    유】  상고이유를 판단한다.   1. 원심판결 이유와 기록에 따르면, 다...   \n",
       "\n",
       "                                         판례내용_이유_전처리  \\\n",
       "0  상고이유를 판단한다. 1. 사안의 개요 가. 사실관계 원심판결 이유와 기록에 따르면...   \n",
       "1  상고이유를 판단한다. 1. 원심판결 이유와 기록에 따르면, 다음의 사실을 알 수 있...   \n",
       "\n",
       "                                       판례내용_이유_불용어제거  클러스터  \\\n",
       "0  개요 사실관계 망인 은행 예금 채권 은행 판매 투자신탁 형태 MMF Money Ma...     2   \n",
       "1  인과 대한민국 혼인신고 마쳤고 자녀   미합중국 캘리포니아 출생 미합중국 시민권 취...     2   \n",
       "\n",
       "                                       키워드  \\\n",
       "0  신청, 상속, 부동산, 주택, 사망, 건물, 계약, 회사, 재산, 호주   \n",
       "1  신청, 상속, 부동산, 주택, 사망, 건물, 계약, 회사, 재산, 호주   \n",
       "\n",
       "                                                사건명  \\\n",
       "0  예금[투자신탁 형태 단기금융집합투자기구(MMF) 수익권의 공동상속 효과가 문제된 사건]   \n",
       "1                                         상속세부과처분취소   \n",
       "\n",
       "                                              판시시임베딩  \\\n",
       "0  [[0.2021205, -0.0685765, 0.3835545, -3.5652852...   \n",
       "1  [[0.053899895, 0.21528322, 0.6820205, -2.28107...   \n",
       "\n",
       "                                              키워드임베딩  \n",
       "0  [[0.08193795, 0.05260368, 0.30794698, -3.76139...  \n",
       "1  [[0.08193795, 0.05260368, 0.30794698, -3.76139...  "
      ]
     },
     "execution_count": 5,
     "metadata": {},
     "output_type": "execute_result"
    }
   ],
   "source": [
    "df_inheritance.head(2)"
   ]
  },
  {
   "cell_type": "code",
   "execution_count": 6,
   "metadata": {},
   "outputs": [],
   "source": [
    "df_inheritance.to_csv('df_inheritance_kobert.csv',index=False, encoding='utf-8-sig')"
   ]
  },
  {
   "cell_type": "markdown",
   "metadata": {},
   "source": [
    "### 3. 유사도 계산해서 추천사건명 출력하기"
   ]
  },
  {
   "cell_type": "markdown",
   "metadata": {},
   "source": [
    "#### - 사용자가 입력한 키워드와 키워드임베딩, 내용임베딩 유사도 평균계산 추천하기"
   ]
  },
  {
   "cell_type": "code",
   "execution_count": 16,
   "metadata": {},
   "outputs": [],
   "source": [
    "# 클러스터 주제 및 키워드 데이터 정의\n",
    "data = {\n",
    "    '주제': [\n",
    "        '상속 및 재산 평가', '부동산 소유권 및 취득', '부동산 상속 및 사망 관련',\n",
    "        '부동산 등기 및 소유권 이전', '손해배상 및 사망 보상', '농지 및 경작',\n",
    "        '상속세 및 납부', '부동산 등기 및 거래', '상속 분할 및 유류분', '보험 및 보상'\n",
    "    ],\n",
    "    '키워드': [\n",
    "        ['가액', '시가', '평가', '상속', '세법', '주식', '재산', '과세', '증여', '상속세'],\n",
    "        ['점유', '토지', '취득시효', '등기', '소유권', '완성', '자주', '부동산', '취득', '의사'],\n",
    "        ['신청', '상속', '부동산', '주택', '사망', '건물', '계약', '회사', '재산', '호주'],\n",
    "        ['등기', '임야', '소유권', '부동산', '이전', '명의', '원인', '상속', '명의신탁', '토지'],\n",
    "        ['망인', '손해', '차량', '위자료', '지급', '손해배상', '사망', '유족', '운전', '운행'],\n",
    "        ['농지', '분배', '농지개혁법', '토지', '상환', '등기', '본건', '소유권', '경작', '완료'],\n",
    "        ['상속세', '세액', '부과', '납부', '과세', '상속', '재산', '가액', '신고', '납세'],\n",
    "        ['토지', '등기', '소유권', '이전', '명의', '분할', '지번', '주소', '환지', '매매'],\n",
    "        ['상속', '재산', '분할', '유류분', '상속인', '부동산', '민법', '한정승인', '피상', '포기'],\n",
    "        ['보험', '보험금', '계약', '지급', '망인', '보험료', '자동차', '연금', '수익', '상해']\n",
    "    ]\n",
    "}\n",
    "\n",
    "df_clusterdata = pd.DataFrame(data)\n",
    "\n",
    "# 키워드를 보여주는 함수\n",
    "def show_keywords(topic_index):\n",
    "    for button in buttons:\n",
    "        button.destroy()\n",
    "    buttons.clear()\n",
    "\n",
    "    keywords = df_clusterdata.iloc[topic_index]['키워드']\n",
    "    for keyword in keywords:\n",
    "        button = tk.Button(root, text=keyword, command=lambda k=keyword: keyword_click(k))\n",
    "        button.pack(pady=5)\n",
    "        buttons.append(button)\n",
    "\n",
    "# 키워드 클릭 시 호출되는 함수\n",
    "def keyword_click(keyword):\n",
    "    user_keyword = keyword\n",
    "    user_keyword_embedding = encode_sentence(user_keyword)\n",
    "\n",
    "    similarity_scores = []\n",
    "    for idx, row in df_inheritance.iterrows():\n",
    "        if row['키워드임베딩'] is not None and row['이유임베딩'] is not None:\n",
    "            keyword_similarity = cosine_similarity(user_keyword_embedding, row['키워드임베딩']).flatten()[0]\n",
    "            content_similarity = cosine_similarity(user_keyword_embedding, row['이유임베딩']).flatten()[0]\n",
    "            average_similarity = (keyword_similarity + content_similarity) / 2\n",
    "            similarity_scores.append((row['사건번호'], average_similarity))\n",
    "\n",
    "    sorted_scores = sorted(similarity_scores, key=lambda x: x[1], reverse=True)\n",
    "    top_n = sorted_scores[:10]\n",
    "\n",
    "    result = \"사용자 키워드와 관련된 사건명:\\n\"\n",
    "    for 사건번호, score in top_n:\n",
    "        사건명 = df_inheritance.loc[df_inheritance['사건번호'] == 사건번호, '사건명'].values\n",
    "        사건명 = 사건명[0] if 사건명.size > 0 else \"사건명 없음\"\n",
    "        result += f\"사건번호: {사건번호}, 사건명: {사건명}, 유사도: {score:.4f}\\n\"\n",
    "\n",
    "    messagebox.showinfo(\"추천 사건명\", result)\n",
    "\n",
    "# 주제 선택 시 호출되는 함수\n",
    "def topic_selected(event):\n",
    "    topic_index = df_clusterdata.index[df_clusterdata['주제'] == topic_var.get()].tolist()[0]\n",
    "    show_keywords(topic_index)\n",
    "\n",
    "# 메인 윈도우 생성\n",
    "root = tk.Tk()\n",
    "root.title(\"원하는 판례찾기\")\n",
    "\n",
    "# 주제 선택 드롭다운 메뉴 생성\n",
    "topic_var = tk.StringVar(value='관련 주제를 선택하세요')\n",
    "topic_menu = tk.OptionMenu(root, topic_var, *df_clusterdata['주제'], command=topic_selected)\n",
    "topic_menu.pack(pady=10)\n",
    "\n",
    "# 버튼 리스트 초기화\n",
    "buttons = []\n",
    "\n",
    "# 메인 루프 실행\n",
    "root.mainloop()"
   ]
  },
  {
   "cell_type": "code",
   "execution_count": 7,
   "metadata": {},
   "outputs": [
    {
     "name": "stdout",
     "output_type": "stream",
     "text": [
      "사용자 키워드와 관련된 사건명:\n",
      "사건번호: 72다2344, 2345, 사건명: 사건명 없음, 유사도: 0.5606\n",
      "사건번호: 87나993, 사건명: 보증채무, 유사도: 0.5588\n",
      "사건번호: 86다카737, 사건명: 부동산소유권이전등기말소등기, 유사도: 0.5507\n",
      "사건번호: 71나551, 사건명: 손해배상청구사건, 유사도: 0.5488\n",
      "사건번호: 78므24, 사건명: 상속재산분할, 유사도: 0.5472\n",
      "사건번호: 74나1781, 사건명: 융자금등반환청구사건, 유사도: 0.5472\n",
      "사건번호: 4292민공339, 사건명: 실종선고취소청구사건, 유사도: 0.5352\n",
      "사건번호: 2005다26284, 사건명: 소유권이전등기, 유사도: 0.5343\n",
      "사건번호: 94스26, 사건명: 호적정정, 유사도: 0.5343\n",
      "사건번호: 94다45654, 사건명: 손해배상(기), 유사도: 0.5343\n"
     ]
    }
   ],
   "source": [
    "# 사용자 입력\n",
    "user_keyword = \"재산\"  # 사용자가 입력한 키워드\n",
    "user_keyword_embedding = encode_sentence(user_keyword)\n",
    "\n",
    "# 유사도 계산 및 사건명 추출\n",
    "similarity_scores = []\n",
    "\n",
    "for idx, row in df_inheritance.iterrows():\n",
    "    if row['키워드임베딩'] is not None and row['판시시임베딩'] is not None:\n",
    "        # 키워드 임베딩과 사용자 키워드 임베딩 간의 유사도 계산\n",
    "        keyword_similarity = cosine_similarity(user_keyword_embedding, row['키워드임베딩']).flatten()[0]\n",
    "        \n",
    "        # 판례내용 임베딩과 사용자 키워드 임베딩 간의 유사도 계산\n",
    "        content_similarity = cosine_similarity(user_keyword_embedding, row['판시시임베딩']).flatten()[0]\n",
    "        \n",
    "        # 두 유사도의 평균을 계산\n",
    "        average_similarity = (keyword_similarity + content_similarity) / 2\n",
    "        \n",
    "        # 결과 저장\n",
    "        similarity_scores.append((row['사건번호'], average_similarity))\n",
    "\n",
    "# 유사도 기준으로 정렬 및 상위 N개 선택\n",
    "sorted_scores = sorted(similarity_scores, key=lambda x: x[1], reverse=True)\n",
    "top_n = sorted_scores[:10]\n",
    "\n",
    "# 추천 사건명 출력\n",
    "print(\"사용자 키워드와 관련된 사건명:\")\n",
    "for 사건번호, score in top_n:\n",
    "    # 사건번호를 통해 사건명 조회\n",
    "    사건명 = inheritance_list.loc[inheritance_list['사건번호'] == 사건번호, '사건명'].values\n",
    "    사건명 = 사건명[0] if 사건명.size > 0 else \"사건명 없음\"\n",
    "    print(f\"사건번호: {사건번호}, 사건명: {사건명}, 유사도: {score:.4f}\")"
   ]
  },
  {
   "cell_type": "markdown",
   "metadata": {},
   "source": [
    "#### - 사용자가 입력한 키워드와 키워드임베딩 유사도로 추천하기"
   ]
  },
  {
   "cell_type": "code",
   "execution_count": 8,
   "metadata": {},
   "outputs": [
    {
     "name": "stdout",
     "output_type": "stream",
     "text": [
      "사용자 키워드와 관련된 사건명 (키워드 임베딩):\n",
      "사건번호: 2023다221144, 사건명: 예금[투자신탁 형태 단기금융집합투자기구(MMF) 수익권의 공동상속 효과가 문제된 사건], 유사도: 0.4670\n",
      "사건번호: 2021두52143, 사건명: 상속세부과처분취소, 유사도: 0.4670\n",
      "사건번호: 2022누67403, 사건명: 상속세부과처분취소, 유사도: 0.4670\n",
      "사건번호: 2022스625, 사건명: 상속재산관리인선임, 유사도: 0.4670\n",
      "사건번호: 2021다294674, 사건명: 예금반환 [망인의 공동상속인 중 1인인 원고가 은행인 피고를 상대로 망인의 청약저축예금 반환을 구하는 사안], 유사도: 0.4670\n",
      "사건번호: 2019나2050091, 사건명: 상속회복청구등의소, 유사도: 0.4670\n",
      "사건번호: 2019구합83052, 사건명: 상속세경정거부처분취소, 유사도: 0.4670\n",
      "사건번호: 2017스516, 517, 사건명: 사건명 없음, 유사도: 0.4670\n",
      "사건번호: 2016브5(본심판), 2016브6(반심판), 2016브7(반심판), 2016브8(병합), 사건명: 사건명 없음, 유사도: 0.4670\n",
      "사건번호: 2015브102(본심판), 2015브103(반심판), 사건명: 사건명 없음, 유사도: 0.4670\n"
     ]
    }
   ],
   "source": [
    "# 사용자 입력\n",
    "user_keyword = \"재산\"  # 사용자가 입력한 키워드\n",
    "user_keyword_embedding = encode_sentence(user_keyword)\n",
    "\n",
    "# 키워드 임베딩 유사도 계산 및 사건명 추출\n",
    "keyword_similarity_scores = []\n",
    "\n",
    "for idx, row in df_inheritance.iterrows():\n",
    "    if row['키워드임베딩'] is not None:\n",
    "        # 키워드 임베딩과 사용자 키워드 임베딩 간의 유사도 계산\n",
    "        keyword_similarity = cosine_similarity(user_keyword_embedding, row['키워드임베딩']).flatten()[0]\n",
    "        keyword_similarity_scores.append((row['사건번호'], keyword_similarity))\n",
    "\n",
    "# 유사도 기준으로 정렬 및 상위 N개 선택\n",
    "sorted_keyword_scores = sorted(keyword_similarity_scores, key=lambda x: x[1], reverse=True)\n",
    "top_n_keywords = sorted_keyword_scores[:10]\n",
    "\n",
    "# 추천 사건명 출력\n",
    "print(\"사용자 키워드와 관련된 사건명 (키워드 임베딩):\")\n",
    "for 사건번호, score in top_n_keywords:\n",
    "    사건명 = inheritance_list.loc[inheritance_list['사건번호'] == 사건번호, '사건명'].values\n",
    "    사건명 = 사건명[0] if 사건명.size > 0 else \"사건명 없음\"\n",
    "    print(f\"사건번호: {사건번호}, 사건명: {사건명}, 유사도: {score:.4f}\")"
   ]
  },
  {
   "cell_type": "markdown",
   "metadata": {},
   "source": [
    "#### - 사용자가 입력한 키워드와 내용 유사도로 추천하기"
   ]
  },
  {
   "cell_type": "code",
   "execution_count": 9,
   "metadata": {},
   "outputs": [
    {
     "name": "stdout",
     "output_type": "stream",
     "text": [
      "사용자 키워드와 관련된 사건명 (판시사항 임베딩):\n",
      "사건번호: 4292민상194, 사건명: 농지경작방해배제, 유사도: 0.6734\n",
      "사건번호: 72다2344, 2345, 사건명: 사건명 없음, 유사도: 0.6541\n",
      "사건번호: 87나993, 사건명: 보증채무, 유사도: 0.6506\n",
      "사건번호: 96누10423, 사건명: 상속세부과처분취소, 유사도: 0.6373\n",
      "사건번호: 86다카737, 사건명: 부동산소유권이전등기말소등기, 유사도: 0.6344\n",
      "사건번호: 79다395, 사건명: 소유권이전등기말소, 유사도: 0.6338\n",
      "사건번호: 71나551, 사건명: 손해배상청구사건, 유사도: 0.6305\n",
      "사건번호: 76나124, 125, 사건명: 사건명 없음, 유사도: 0.6286\n",
      "사건번호: 78므24, 사건명: 상속재산분할, 유사도: 0.6275\n",
      "사건번호: 77다1171, 사건명: 농지분배무효확인등, 유사도: 0.6275\n"
     ]
    }
   ],
   "source": [
    "# 사용자 입력\n",
    "user_keyword = \"재산\"  # 사용자가 입력한 키워드\n",
    "user_keyword_embedding = encode_sentence(user_keyword)\n",
    "\n",
    "# 판례내용 임베딩 유사도 계산 및 사건명 추출\n",
    "content_similarity_scores = []\n",
    "\n",
    "for idx, row in df_inheritance.iterrows():\n",
    "    if row['판시시임베딩'] is not None:\n",
    "        # 판례내용 임베딩과 사용자 키워드 임베딩 간의 유사도 계산\n",
    "        content_similarity = cosine_similarity(user_keyword_embedding, row['판시시임베딩']).flatten()[0]\n",
    "        content_similarity_scores.append((row['사건번호'], content_similarity))\n",
    "\n",
    "# 유사도 기준으로 정렬 및 상위 N개 선택\n",
    "sorted_content_scores = sorted(content_similarity_scores, key=lambda x: x[1], reverse=True)\n",
    "top_n_contents = sorted_content_scores[:10]\n",
    "\n",
    "# 추천 사건명 출력\n",
    "print(\"사용자 키워드와 관련된 사건명 (판시사항 임베딩):\")\n",
    "for 사건번호, score in top_n_contents:\n",
    "    사건명 = inheritance_list.loc[inheritance_list['사건번호'] == 사건번호, '사건명'].values\n",
    "    사건명 = 사건명[0] if 사건명.size > 0 else \"사건명 없음\"\n",
    "    print(f\"사건번호: {사건번호}, 사건명: {사건명}, 유사도: {score:.4f}\")"
   ]
  },
  {
   "cell_type": "code",
   "execution_count": null,
   "metadata": {},
   "outputs": [],
   "source": []
  }
 ],
 "metadata": {
  "kernelspec": {
   "display_name": "nof",
   "language": "python",
   "name": "python3"
  },
  "language_info": {
   "codemirror_mode": {
    "name": "ipython",
    "version": 3
   },
   "file_extension": ".py",
   "mimetype": "text/x-python",
   "name": "python",
   "nbconvert_exporter": "python",
   "pygments_lexer": "ipython3",
   "version": "3.12.7"
  }
 },
 "nbformat": 4,
 "nbformat_minor": 2
}
