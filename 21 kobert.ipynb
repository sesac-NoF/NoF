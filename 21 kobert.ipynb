{
 "cells": [
  {
   "cell_type": "markdown",
   "metadata": {},
   "source": [
    "### 1. 키워드파일 업로드"
   ]
  },
  {
   "cell_type": "code",
   "execution_count": 7,
   "metadata": {},
   "outputs": [],
   "source": [
    "import pandas as pd\n",
    "import torch\n",
    "from transformers import BertTokenizer, BertModel\n",
    "\n",
    "# CSV 파일에서 클러스터링 결과 로드\n",
    "df_inheritance = pd.read_csv(r'C:\\Users\\user\\Documents\\no-f\\241030\\df_inheritance_keyword.csv')"
   ]
  },
  {
   "cell_type": "markdown",
   "metadata": {},
   "source": [
    "### 2. 사건명가져오기 위해서 판례목록 데이터 불러오기"
   ]
  },
  {
   "cell_type": "code",
   "execution_count": 8,
   "metadata": {},
   "outputs": [],
   "source": [
    "# 사건 리스트 로드\n",
    "inheritance_list = pd.read_csv('inheritance_list.csv')\n",
    "\n",
    "# 사건명 추가를 위해 df_inheritance 데이터프레임과 병합\n",
    "df_inheritance = df_inheritance.merge(inheritance_list[['사건번호', '사건명']], on='사건번호', how='left')"
   ]
  },
  {
   "cell_type": "code",
   "execution_count": 9,
   "metadata": {},
   "outputs": [
    {
     "name": "stdout",
     "output_type": "stream",
     "text": [
      "<class 'pandas.core.frame.DataFrame'>\n",
      "RangeIndex: 4166 entries, 0 to 4165\n",
      "Data columns (total 16 columns):\n",
      " #   Column         Non-Null Count  Dtype \n",
      "---  ------         --------------  ----- \n",
      " 0   판례정보일련번호       4166 non-null   int64 \n",
      " 1   사건번호           4166 non-null   object\n",
      " 2   선고             4166 non-null   object\n",
      " 3   판결유형           4166 non-null   object\n",
      " 4   판시사항           3250 non-null   object\n",
      " 5   판결요지           2932 non-null   object\n",
      " 6   참조조문           3225 non-null   object\n",
      " 7   참조판례           1935 non-null   object\n",
      " 8   판례내용           4166 non-null   object\n",
      " 9   판례내용_상단        4166 non-null   object\n",
      " 10  판례내용_이유        4166 non-null   object\n",
      " 11  판례내용_이유_전처리    4146 non-null   object\n",
      " 12  판례내용_이유_불용어제거  4131 non-null   object\n",
      " 13  클러스터           4166 non-null   int64 \n",
      " 14  키워드            4166 non-null   object\n",
      " 15  사건명            3924 non-null   object\n",
      "dtypes: int64(2), object(14)\n",
      "memory usage: 520.9+ KB\n"
     ]
    }
   ],
   "source": [
    "df_inheritance.info()"
   ]
  },
  {
   "cell_type": "markdown",
   "metadata": {},
   "source": [
    "### 3. 임베딩해서 csv파일로 저장하기"
   ]
  },
  {
   "cell_type": "code",
   "execution_count": 10,
   "metadata": {},
   "outputs": [
    {
     "name": "stderr",
     "output_type": "stream",
     "text": [
      "The tokenizer class you load from this checkpoint is not the same type as the class this function is called from. It may result in unexpected tokenization. \n",
      "The tokenizer class you load from this checkpoint is 'KoBertTokenizer'. \n",
      "The class this function is called from is 'BertTokenizer'.\n"
     ]
    }
   ],
   "source": [
    "import pandas as pd\n",
    "import torch\n",
    "from transformers import BertTokenizer, BertModel\n",
    "import numpy as np\n",
    "from sklearn.metrics.pairwise import cosine_similarity\n",
    "\n",
    "# KOBERT 모델과 토크나이저 로드\n",
    "tokenizer = BertTokenizer.from_pretrained('monologg/kobert')\n",
    "model = BertModel.from_pretrained('monologg/kobert')\n",
    "\n",
    "# 문장 임베딩 함수\n",
    "def encode_sentence(sentence):\n",
    "    inputs = tokenizer(sentence, padding=True, truncation=True, return_tensors=\"pt\")\n",
    "    with torch.no_grad():\n",
    "        outputs = model(**inputs)\n",
    "    return outputs.last_hidden_state.mean(dim=1).numpy()\n",
    "\n",
    "# 판례 내용과 클러스터 키워드 임베딩 생성\n",
    "df_inheritance['판례내용이유임베딩'] = df_inheritance['판례내용_이유'].apply(lambda x: encode_sentence(x).tolist() if pd.notnull(x) else None)\n",
    "df_inheritance['키워드임베딩'] = df_inheritance['키워드'].apply(lambda x: encode_sentence(x).tolist() if pd.notnull(x) else None)\n",
    "df_inheritance['판결요지임베딩'] = df_inheritance['판결요지'].apply(lambda x: encode_sentence(x).tolist() if pd.notnull(x) else None)\n",
    "df_inheritance['판시사항임베딩'] = df_inheritance['판시사항'].apply(lambda x: encode_sentence(x).tolist() if pd.notnull(x) else None)\n",
    "\n",
    "# CSV 파일로 저장\n",
    "df_inheritance.to_csv('df_inheritance_kobertmodel.csv', index=False)"
   ]
  },
  {
   "cell_type": "code",
   "execution_count": 29,
   "metadata": {},
   "outputs": [
    {
     "data": {
      "text/html": [
       "<div>\n",
       "<style scoped>\n",
       "    .dataframe tbody tr th:only-of-type {\n",
       "        vertical-align: middle;\n",
       "    }\n",
       "\n",
       "    .dataframe tbody tr th {\n",
       "        vertical-align: top;\n",
       "    }\n",
       "\n",
       "    .dataframe thead th {\n",
       "        text-align: right;\n",
       "    }\n",
       "</style>\n",
       "<table border=\"1\" class=\"dataframe\">\n",
       "  <thead>\n",
       "    <tr style=\"text-align: right;\">\n",
       "      <th></th>\n",
       "      <th>판례정보일련번호</th>\n",
       "      <th>사건번호</th>\n",
       "      <th>선고</th>\n",
       "      <th>판결유형</th>\n",
       "      <th>판시사항</th>\n",
       "      <th>판결요지</th>\n",
       "      <th>참조조문</th>\n",
       "      <th>참조판례</th>\n",
       "      <th>판례내용</th>\n",
       "      <th>판례내용_상단</th>\n",
       "      <th>...</th>\n",
       "      <th>판례내용_이유_전처리</th>\n",
       "      <th>판례내용_이유_불용어제거</th>\n",
       "      <th>클러스터</th>\n",
       "      <th>키워드</th>\n",
       "      <th>사건명</th>\n",
       "      <th>판례내용이유임베딩</th>\n",
       "      <th>키워드임베딩</th>\n",
       "      <th>판결요지임베딩</th>\n",
       "      <th>판시사항임베딩</th>\n",
       "      <th>키워드임베딩수정</th>\n",
       "    </tr>\n",
       "  </thead>\n",
       "  <tbody>\n",
       "    <tr>\n",
       "      <th>0</th>\n",
       "      <td>238913</td>\n",
       "      <td>2023다221144</td>\n",
       "      <td>선고</td>\n",
       "      <td>판결</td>\n",
       "      <td>[1] 가분채권이 공동상속되는 경우의 법률관계 / 주식이 공동상속되는 경우, 공동...</td>\n",
       "      <td>[1] 금전채권과 같이 급부의 내용이 가분인 채권은 공동상속되는 경우 상속개시와 ...</td>\n",
       "      <td>[1] 민법 제269조, 제278조, 제547조 제1항, 제1005조, 제1006...</td>\n",
       "      <td>[1] 대법원 2003. 5. 30. 선고 2003다7074 판결, 대법원 200...</td>\n",
       "      <td>【원고, 상고인】 원고 (소송대리인 법무법인 참진 담당변호사 이영동)【피고, 피상고...</td>\n",
       "      <td>【원고, 상고인】 원고 (소송대리인 법무법인 참진 담당변호사 이영동)【피고, 피상고...</td>\n",
       "      <td>...</td>\n",
       "      <td>상고이유를 판단한다. 1. 사안의 개요 가. 사실관계 원심판결 이유와 기록에 따르면...</td>\n",
       "      <td>개요 사실관계 망인 은행 예금 채권 은행 판매 투자신탁 형태 MMF Money Ma...</td>\n",
       "      <td>2</td>\n",
       "      <td>신청, 상속, 부동산, 주택, 사망, 건물, 계약, 회사, 재산, 호주</td>\n",
       "      <td>예금[투자신탁 형태 단기금융집합투자기구(MMF) 수익권의 공동상속 효과가 문제된 사건]</td>\n",
       "      <td>[[0.09682950377464294, -0.2833014726638794, 0....</td>\n",
       "      <td>[[0.08193794637918472, 0.05260368064045906, 0....</td>\n",
       "      <td>[[0.12045687437057495, -0.09459716826677322, 0...</td>\n",
       "      <td>[[0.20212049782276154, -0.06857649981975555, 0...</td>\n",
       "      <td>[[[0.0556497760117054, -0.14372481405735016, -...</td>\n",
       "    </tr>\n",
       "    <tr>\n",
       "      <th>1</th>\n",
       "      <td>240673</td>\n",
       "      <td>2021두52143</td>\n",
       "      <td>선고</td>\n",
       "      <td>판결</td>\n",
       "      <td>대한민국에서 주로 체류하며 대한민국에 있는 건축사무소 등에서 건축설계사로 근무하...</td>\n",
       "      <td>NaN</td>\n",
       "      <td>구 섭외사법(2001. 4. 7. 법률 제6465호 국제사법으로 전부 개정되기 전의...</td>\n",
       "      <td>NaN</td>\n",
       "      <td>【원고, 상고인】 원고 1 외 3인 (소송대리인 변호사 이종건)【피고, 피상고인】 ...</td>\n",
       "      <td>【원고, 상고인】 원고 1 외 3인 (소송대리인 변호사 이종건)【피고, 피상고인】 ...</td>\n",
       "      <td>...</td>\n",
       "      <td>상고이유를 판단한다. 1. 원심판결 이유와 기록에 따르면, 다음의 사실을 알 수 있...</td>\n",
       "      <td>인과 대한민국 혼인신고 마쳤고 자녀   미합중국 캘리포니아 출생 미합중국 시민권 취...</td>\n",
       "      <td>2</td>\n",
       "      <td>신청, 상속, 부동산, 주택, 사망, 건물, 계약, 회사, 재산, 호주</td>\n",
       "      <td>상속세부과처분취소</td>\n",
       "      <td>[[0.1609489917755127, -0.2994731664657593, 0.6...</td>\n",
       "      <td>[[0.08193794637918472, 0.05260368064045906, 0....</td>\n",
       "      <td>None</td>\n",
       "      <td>[[0.053899895399808884, 0.21528321504592896, 0...</td>\n",
       "      <td>[[[0.0556497760117054, -0.14372481405735016, -...</td>\n",
       "    </tr>\n",
       "  </tbody>\n",
       "</table>\n",
       "<p>2 rows × 21 columns</p>\n",
       "</div>"
      ],
      "text/plain": [
       "   판례정보일련번호         사건번호  선고 판결유형  \\\n",
       "0    238913  2023다221144  선고   판결   \n",
       "1    240673   2021두52143  선고   판결   \n",
       "\n",
       "                                                판시사항  \\\n",
       "0   [1] 가분채권이 공동상속되는 경우의 법률관계 / 주식이 공동상속되는 경우, 공동...   \n",
       "1    대한민국에서 주로 체류하며 대한민국에 있는 건축사무소 등에서 건축설계사로 근무하...   \n",
       "\n",
       "                                                판결요지  \\\n",
       "0   [1] 금전채권과 같이 급부의 내용이 가분인 채권은 공동상속되는 경우 상속개시와 ...   \n",
       "1                                                NaN   \n",
       "\n",
       "                                                참조조문  \\\n",
       "0   [1] 민법 제269조, 제278조, 제547조 제1항, 제1005조, 제1006...   \n",
       "1  구 섭외사법(2001. 4. 7. 법률 제6465호 국제사법으로 전부 개정되기 전의...   \n",
       "\n",
       "                                                참조판례  \\\n",
       "0   [1] 대법원 2003. 5. 30. 선고 2003다7074 판결, 대법원 200...   \n",
       "1                                                NaN   \n",
       "\n",
       "                                                판례내용  \\\n",
       "0  【원고, 상고인】 원고 (소송대리인 법무법인 참진 담당변호사 이영동)【피고, 피상고...   \n",
       "1  【원고, 상고인】 원고 1 외 3인 (소송대리인 변호사 이종건)【피고, 피상고인】 ...   \n",
       "\n",
       "                                             판례내용_상단  ...  \\\n",
       "0  【원고, 상고인】 원고 (소송대리인 법무법인 참진 담당변호사 이영동)【피고, 피상고...  ...   \n",
       "1  【원고, 상고인】 원고 1 외 3인 (소송대리인 변호사 이종건)【피고, 피상고인】 ...  ...   \n",
       "\n",
       "                                         판례내용_이유_전처리  \\\n",
       "0  상고이유를 판단한다. 1. 사안의 개요 가. 사실관계 원심판결 이유와 기록에 따르면...   \n",
       "1  상고이유를 판단한다. 1. 원심판결 이유와 기록에 따르면, 다음의 사실을 알 수 있...   \n",
       "\n",
       "                                       판례내용_이유_불용어제거 클러스터  \\\n",
       "0  개요 사실관계 망인 은행 예금 채권 은행 판매 투자신탁 형태 MMF Money Ma...    2   \n",
       "1  인과 대한민국 혼인신고 마쳤고 자녀   미합중국 캘리포니아 출생 미합중국 시민권 취...    2   \n",
       "\n",
       "                                       키워드  \\\n",
       "0  신청, 상속, 부동산, 주택, 사망, 건물, 계약, 회사, 재산, 호주   \n",
       "1  신청, 상속, 부동산, 주택, 사망, 건물, 계약, 회사, 재산, 호주   \n",
       "\n",
       "                                                사건명  \\\n",
       "0  예금[투자신탁 형태 단기금융집합투자기구(MMF) 수익권의 공동상속 효과가 문제된 사건]   \n",
       "1                                         상속세부과처분취소   \n",
       "\n",
       "                                           판례내용이유임베딩  \\\n",
       "0  [[0.09682950377464294, -0.2833014726638794, 0....   \n",
       "1  [[0.1609489917755127, -0.2994731664657593, 0.6...   \n",
       "\n",
       "                                              키워드임베딩  \\\n",
       "0  [[0.08193794637918472, 0.05260368064045906, 0....   \n",
       "1  [[0.08193794637918472, 0.05260368064045906, 0....   \n",
       "\n",
       "                                             판결요지임베딩  \\\n",
       "0  [[0.12045687437057495, -0.09459716826677322, 0...   \n",
       "1                                               None   \n",
       "\n",
       "                                             판시사항임베딩  \\\n",
       "0  [[0.20212049782276154, -0.06857649981975555, 0...   \n",
       "1  [[0.053899895399808884, 0.21528321504592896, 0...   \n",
       "\n",
       "                                            키워드임베딩수정  \n",
       "0  [[[0.0556497760117054, -0.14372481405735016, -...  \n",
       "1  [[[0.0556497760117054, -0.14372481405735016, -...  \n",
       "\n",
       "[2 rows x 21 columns]"
      ]
     },
     "execution_count": 29,
     "metadata": {},
     "output_type": "execute_result"
    }
   ],
   "source": [
    "df_inheritance.head(2)"
   ]
  },
  {
   "cell_type": "markdown",
   "metadata": {},
   "source": [
    "#### 나중에 다시할거"
   ]
  },
  {
   "cell_type": "code",
   "execution_count": 16,
   "metadata": {},
   "outputs": [],
   "source": [
    "# 클러스터 주제 및 키워드 데이터 정의\n",
    "data = {\n",
    "    '주제': [\n",
    "        '상속 및 재산 평가', '부동산 소유권 및 취득', '부동산 상속 및 사망 관련',\n",
    "        '부동산 등기 및 소유권 이전', '손해배상 및 사망 보상', '농지 및 경작',\n",
    "        '상속세 및 납부', '부동산 등기 및 거래', '상속 분할 및 유류분', '보험 및 보상'\n",
    "    ],\n",
    "    '키워드': [\n",
    "        ['가액', '시가', '평가', '상속', '세법', '주식', '재산', '과세', '증여', '상속세'],\n",
    "        ['점유', '토지', '취득시효', '등기', '소유권', '완성', '자주', '부동산', '취득', '의사'],\n",
    "        ['신청', '상속', '부동산', '주택', '사망', '건물', '계약', '회사', '재산', '호주'],\n",
    "        ['등기', '임야', '소유권', '부동산', '이전', '명의', '원인', '상속', '명의신탁', '토지'],\n",
    "        ['망인', '손해', '차량', '위자료', '지급', '손해배상', '사망', '유족', '운전', '운행'],\n",
    "        ['농지', '분배', '농지개혁법', '토지', '상환', '등기', '본건', '소유권', '경작', '완료'],\n",
    "        ['상속세', '세액', '부과', '납부', '과세', '상속', '재산', '가액', '신고', '납세'],\n",
    "        ['토지', '등기', '소유권', '이전', '명의', '분할', '지번', '주소', '환지', '매매'],\n",
    "        ['상속', '재산', '분할', '유류분', '상속인', '부동산', '민법', '한정승인', '피상', '포기'],\n",
    "        ['보험', '보험금', '계약', '지급', '망인', '보험료', '자동차', '연금', '수익', '상해']\n",
    "    ]\n",
    "}\n",
    "\n",
    "df_clusterdata = pd.DataFrame(data)\n",
    "\n",
    "# 키워드를 보여주는 함수\n",
    "def show_keywords(topic_index):\n",
    "    for button in buttons:\n",
    "        button.destroy()\n",
    "    buttons.clear()\n",
    "\n",
    "    keywords = df_clusterdata.iloc[topic_index]['키워드']\n",
    "    for keyword in keywords:\n",
    "        button = tk.Button(root, text=keyword, command=lambda k=keyword: keyword_click(k))\n",
    "        button.pack(pady=5)\n",
    "        buttons.append(button)\n",
    "\n",
    "# 키워드 클릭 시 호출되는 함수\n",
    "def keyword_click(keyword):\n",
    "    user_keyword = keyword\n",
    "    user_keyword_embedding = encode_sentence(user_keyword)\n",
    "\n",
    "    similarity_scores = []\n",
    "    for idx, row in df_inheritance.iterrows():\n",
    "        if row['키워드임베딩'] is not None and row['이유임베딩'] is not None:\n",
    "            keyword_similarity = cosine_similarity(user_keyword_embedding, row['키워드임베딩']).flatten()[0]\n",
    "            content_similarity = cosine_similarity(user_keyword_embedding, row['이유임베딩']).flatten()[0]\n",
    "            average_similarity = (keyword_similarity + content_similarity) / 2\n",
    "            similarity_scores.append((row['사건번호'], average_similarity))\n",
    "\n",
    "    sorted_scores = sorted(similarity_scores, key=lambda x: x[1], reverse=True)\n",
    "    top_n = sorted_scores[:10]\n",
    "\n",
    "    result = \"사용자 키워드와 관련된 사건명:\\n\"\n",
    "    for 사건번호, score in top_n:\n",
    "        사건명 = df_inheritance.loc[df_inheritance['사건번호'] == 사건번호, '사건명'].values\n",
    "        사건명 = 사건명[0] if 사건명.size > 0 else \"사건명 없음\"\n",
    "        result += f\"사건번호: {사건번호}, 사건명: {사건명}, 유사도: {score:.4f}\\n\"\n",
    "\n",
    "    messagebox.showinfo(\"추천 사건명\", result)\n",
    "\n",
    "# 주제 선택 시 호출되는 함수\n",
    "def topic_selected(event):\n",
    "    topic_index = df_clusterdata.index[df_clusterdata['주제'] == topic_var.get()].tolist()[0]\n",
    "    show_keywords(topic_index)\n",
    "\n",
    "# 메인 윈도우 생성\n",
    "root = tk.Tk()\n",
    "root.title(\"원하는 판례찾기\")\n",
    "\n",
    "# 주제 선택 드롭다운 메뉴 생성\n",
    "topic_var = tk.StringVar(value='관련 주제를 선택하세요')\n",
    "topic_menu = tk.OptionMenu(root, topic_var, *df_clusterdata['주제'], command=topic_selected)\n",
    "topic_menu.pack(pady=10)\n",
    "\n",
    "# 버튼 리스트 초기화\n",
    "buttons = []\n",
    "\n",
    "# 메인 루프 실행\n",
    "root.mainloop()"
   ]
  },
  {
   "cell_type": "code",
   "execution_count": 5,
   "metadata": {},
   "outputs": [
    {
     "name": "stdout",
     "output_type": "stream",
     "text": [
      "사용자 키워드와 관련된 사건명:\n",
      "사건번호: 2010누30330, 사건명: 상속세 부과처분 취소, 유사도: 0.4304\n",
      "사건번호: 2003다64381, 사건명: 종헌결의무효확인, 유사도: 0.4286\n",
      "사건번호: 2007카기134, 사건명: 위헌법률심판제청, 유사도: 0.4264\n",
      "사건번호: 2021나31998, 사건명: 공유물분할, 유사도: 0.4257\n",
      "사건번호: 2018두32927, 사건명: 취득세등경정청구거부처분취소, 유사도: 0.4248\n",
      "사건번호: 94머211, 사건명: 소유권이전등기말소청구사건, 유사도: 0.4239\n",
      "사건번호: 80다2360, 사건명: 소유권이전등기말소, 유사도: 0.4238\n",
      "사건번호: 2005도5338, 사건명: 특정경제범죄가중처벌등에관한법률위반(횡령)(인정된죄명:업무상횡령)·업무상횡령, 유사도: 0.4237\n",
      "사건번호: 88다카3847, 사건명: 토지소유권확인등, 유사도: 0.4224\n",
      "사건번호: 93타경23863, 사건명: 부동산임의경매, 유사도: 0.4222\n"
     ]
    }
   ],
   "source": [
    "# 사용자 입력\n",
    "user_keyword = \"재산\"  # 사용자가 입력한 키워드\n",
    "user_keyword_embedding = encode_sentence(user_keyword)\n",
    "\n",
    "# 유사도 계산 및 사건명 추출\n",
    "similarity_scores = []\n",
    "\n",
    "for idx, row in df_inheritance.iterrows():\n",
    "    if row['키워드임베딩'] is not None and row['이유임베딩'] is not None:\n",
    "        # 키워드 임베딩과 사용자 키워드 임베딩 간의 유사도 계산\n",
    "        keyword_similarity = cosine_similarity(user_keyword_embedding, row['키워드임베딩']).flatten()[0]\n",
    "        \n",
    "        # 판례내용 임베딩과 사용자 키워드 임베딩 간의 유사도 계산\n",
    "        content_similarity = cosine_similarity(user_keyword_embedding, row['이유임베딩']).flatten()[0]\n",
    "        \n",
    "        # 두 유사도의 평균을 계산\n",
    "        average_similarity = (keyword_similarity + content_similarity) / 2\n",
    "        \n",
    "        # 결과 저장\n",
    "        similarity_scores.append((row['사건번호'], average_similarity))\n",
    "\n",
    "# 유사도 기준으로 정렬 및 상위 N개 선택\n",
    "sorted_scores = sorted(similarity_scores, key=lambda x: x[1], reverse=True)\n",
    "top_n = sorted_scores[:10]\n",
    "\n",
    "# 추천 사건명 출력\n",
    "print(\"사용자 키워드와 관련된 사건명:\")\n",
    "for 사건번호, score in top_n:\n",
    "    # 사건번호를 통해 사건명 조회\n",
    "    사건명 = inheritance_list.loc[inheritance_list['사건번호'] == 사건번호, '사건명'].values\n",
    "    사건명 = 사건명[0] if 사건명.size > 0 else \"사건명 없음\"\n",
    "    print(f\"사건번호: {사건번호}, 사건명: {사건명}, 유사도: {score:.4f}\")"
   ]
  },
  {
   "cell_type": "markdown",
   "metadata": {},
   "source": [
    "### 4. 유사도 계산해서 추천사건명 출력하기"
   ]
  },
  {
   "cell_type": "markdown",
   "metadata": {},
   "source": [
    "#### - 사용자가 입력한 키워드와 유사도로 추천하기"
   ]
  },
  {
   "cell_type": "markdown",
   "metadata": {},
   "source": [
    "#### 판결요지"
   ]
  },
  {
   "cell_type": "code",
   "execution_count": 23,
   "metadata": {},
   "outputs": [
    {
     "name": "stdout",
     "output_type": "stream",
     "text": [
      "사용자 키워드와 관련된 사건명:\n",
      "사건번호: 4294민상168, 사건명: 덕대계약이행완료확인, 유사도: 0.5380\n",
      "사건번호: 81다카550, 사건명: 소유권이전등기말소, 유사도: 0.5114\n",
      "사건번호: 86다카1312, 사건명: 소유권이전등기말소등, 유사도: 0.4960\n",
      "사건번호: 4294민상1255, 사건명: 가옥명도, 유사도: 0.4863\n",
      "사건번호: 62다343, 사건명: 부동산소유권이전등기말소, 유사도: 0.4846\n",
      "사건번호: 87다카663, 사건명: 소유권이전등기말소등, 유사도: 0.4839\n",
      "사건번호: 90다카17214, 사건명: 소유권이전등기말소, 유사도: 0.4827\n",
      "사건번호: 80구796, 사건명: 양도소득세부과처분취소, 유사도: 0.4824\n",
      "사건번호: 80구844, 사건명: 취득세부과처분취소, 유사도: 0.4824\n",
      "사건번호: 90다카3789, 사건명: 소유권이전등기말소등, 유사도: 0.4777\n"
     ]
    }
   ],
   "source": [
    "# 사용자 입력\n",
    "user_keyword = \"토지\"  # 사용자가 입력한 키워드\n",
    "user_keyword_embedding = encode_sentence(user_keyword)\n",
    "\n",
    "# 판례내용 임베딩 유사도 계산 및 사건명 추출\n",
    "content_similarity_scores = []\n",
    "\n",
    "for idx, row in df_inheritance.iterrows():\n",
    "    if row['판결요지임베딩'] is not None:\n",
    "\n",
    "        content_similarity = cosine_similarity(user_keyword_embedding, row['판결요지임베딩']).flatten()[0]\n",
    "        content_similarity_scores.append((row['사건번호'], content_similarity))\n",
    "\n",
    "# 유사도 기준으로 정렬 및 상위 N개 선택\n",
    "sorted_content_scores = sorted(content_similarity_scores, key=lambda x: x[1], reverse=True)\n",
    "top_n_contents = sorted_content_scores[:10]\n",
    "\n",
    "# 추천 사건명 출력\n",
    "print(\"사용자 키워드와 관련된 사건명:\")\n",
    "for 사건번호, score in top_n_contents:\n",
    "    사건명 = inheritance_list.loc[inheritance_list['사건번호'] == 사건번호, '사건명'].values\n",
    "    사건명 = 사건명[0] if 사건명.size > 0 else \"사건명 없음\"\n",
    "    print(f\"사건번호: {사건번호}, 사건명: {사건명}, 유사도: {score:.4f}\")"
   ]
  },
  {
   "cell_type": "markdown",
   "metadata": {},
   "source": [
    "#### 판례내용_이유"
   ]
  },
  {
   "cell_type": "code",
   "execution_count": 24,
   "metadata": {},
   "outputs": [
    {
     "name": "stdout",
     "output_type": "stream",
     "text": [
      "사용자 키워드와 관련된 사건명 :\n",
      "사건번호: 2010누30330, 사건명: 상속세 부과처분 취소, 유사도: 0.3974\n",
      "사건번호: 87누898, 사건명: 증여세등부과처분취소, 유사도: 0.3690\n",
      "사건번호: 2000으2, 사건명: 상속재산관리인선임, 유사도: 0.3683\n",
      "사건번호: 83누221, 사건명: 상속세부과처분취소, 유사도: 0.3666\n",
      "사건번호: 2012누8801, 사건명: 상속세부과처분취소, 유사도: 0.3662\n",
      "사건번호: 2009브23, 사건명: 상속한정승인결정에대한즉시항고, 유사도: 0.3646\n",
      "사건번호: 80다2360, 사건명: 소유권이전등기말소, 유사도: 0.3645\n",
      "사건번호: 79다1009, 사건명: 소유권보존등기말소, 유사도: 0.3628\n",
      "사건번호: 84누649, 사건명: 상속세부과처분취소, 유사도: 0.3625\n",
      "사건번호: 2006다2179, 사건명: 상속분양수, 유사도: 0.3621\n"
     ]
    }
   ],
   "source": [
    "# 사용자 입력\n",
    "user_keyword = \"토지\"  # 사용자가 입력한 키워드\n",
    "user_keyword_embedding = encode_sentence(user_keyword)\n",
    "\n",
    "# 판례내용 임베딩 유사도 계산 및 사건명 추출\n",
    "content_similarity_scores = []\n",
    "\n",
    "for idx, row in df_inheritance.iterrows():\n",
    "    if row['판례내용이유임베딩'] is not None:\n",
    "        # 판례내용 임베딩과 사용자 키워드 임베딩 간의 유사도 계산\n",
    "        content_similarity = cosine_similarity(user_keyword_embedding, row['판례내용이유임베딩']).flatten()[0]\n",
    "        content_similarity_scores.append((row['사건번호'], content_similarity))\n",
    "\n",
    "# 유사도 기준으로 정렬 및 상위 N개 선택\n",
    "sorted_content_scores = sorted(content_similarity_scores, key=lambda x: x[1], reverse=True)\n",
    "top_n_contents = sorted_content_scores[:10]\n",
    "\n",
    "# 추천 사건명 출력\n",
    "print(\"사용자 키워드와 관련된 사건명 :\")\n",
    "for 사건번호, score in top_n_contents:\n",
    "    사건명 = inheritance_list.loc[inheritance_list['사건번호'] == 사건번호, '사건명'].values\n",
    "    사건명 = 사건명[0] if 사건명.size > 0 else \"사건명 없음\"\n",
    "    print(f\"사건번호: {사건번호}, 사건명: {사건명}, 유사도: {score:.4f}\")"
   ]
  },
  {
   "cell_type": "markdown",
   "metadata": {},
   "source": [
    "#### 판시사항"
   ]
  },
  {
   "cell_type": "code",
   "execution_count": 25,
   "metadata": {},
   "outputs": [
    {
     "name": "stdout",
     "output_type": "stream",
     "text": [
      "사용자 키워드와 관련된 사건명 :\n",
      "사건번호: 95누9327, 사건명: 상속세부과처분취소, 유사도: 0.8622\n",
      "사건번호: 2007다9719, 사건명: 소유권이전등기, 유사도: 0.8622\n",
      "사건번호: 85누804, 사건명: 증여세부가처분취소, 유사도: 0.8622\n",
      "사건번호: 83다카893, 사건명: 부당이득금, 유사도: 0.8622\n",
      "사건번호: 83다카745, 사건명: 대여금, 유사도: 0.8622\n",
      "사건번호: 82누138, 사건명: 양도소득세부과처분취소, 유사도: 0.8622\n",
      "사건번호: 81나459, 사건명: 공유물분할청구사건, 유사도: 0.8622\n",
      "사건번호: 80다2360, 사건명: 소유권이전등기말소, 유사도: 0.8622\n",
      "사건번호: 80나4240, 사건명: 손해배상청구사건, 유사도: 0.8622\n",
      "사건번호: 79다434, 사건명: 소유권보존등기말소, 유사도: 0.8622\n"
     ]
    }
   ],
   "source": [
    "# 사용자 입력\n",
    "user_keyword = \"토지\"  # 사용자가 입력한 키워드\n",
    "user_keyword_embedding = encode_sentence(user_keyword)\n",
    "\n",
    "# 판례내용 임베딩 유사도 계산 및 사건명 추출\n",
    "content_similarity_scores = []\n",
    "\n",
    "for idx, row in df_inheritance.iterrows():\n",
    "    if row['판시사항임베딩'] is not None:\n",
    "        # 판례내용 임베딩과 사용자 키워드 임베딩 간의 유사도 계산\n",
    "        content_similarity = cosine_similarity(user_keyword_embedding, row['판시사항임베딩']).flatten()[0]\n",
    "        content_similarity_scores.append((row['사건번호'], content_similarity))\n",
    "\n",
    "# 유사도 기준으로 정렬 및 상위 N개 선택\n",
    "sorted_content_scores = sorted(content_similarity_scores, key=lambda x: x[1], reverse=True)\n",
    "top_n_contents = sorted_content_scores[:10]\n",
    "\n",
    "# 추천 사건명 출력\n",
    "print(\"사용자 키워드와 관련된 사건명 :\")\n",
    "for 사건번호, score in top_n_contents:\n",
    "    사건명 = inheritance_list.loc[inheritance_list['사건번호'] == 사건번호, '사건명'].values\n",
    "    사건명 = 사건명[0] if 사건명.size > 0 else \"사건명 없음\"\n",
    "    print(f\"사건번호: {사건번호}, 사건명: {사건명}, 유사도: {score:.4f}\")"
   ]
  },
  {
   "cell_type": "code",
   "execution_count": null,
   "metadata": {},
   "outputs": [],
   "source": []
  }
 ],
 "metadata": {
  "kernelspec": {
   "display_name": "nof",
   "language": "python",
   "name": "python3"
  },
  "language_info": {
   "codemirror_mode": {
    "name": "ipython",
    "version": 3
   },
   "file_extension": ".py",
   "mimetype": "text/x-python",
   "name": "python",
   "nbconvert_exporter": "python",
   "pygments_lexer": "ipython3",
   "version": "3.12.7"
  }
 },
 "nbformat": 4,
 "nbformat_minor": 2
}
